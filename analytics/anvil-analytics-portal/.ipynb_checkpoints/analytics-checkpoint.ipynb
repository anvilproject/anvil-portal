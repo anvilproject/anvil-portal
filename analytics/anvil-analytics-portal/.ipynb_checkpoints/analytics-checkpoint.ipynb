{
 "cells": [
  {
   "cell_type": "markdown",
   "id": "98bd0cf6",
   "metadata": {},
   "source": [
    "```{image} anvil-logo.png\n",
    ":width: 200px\n",
    ":class: analytics-logo\n",
    "```\n",
    "\n",
    "# AnVIL Portal User Analytics - January 2023 vs December 2022\n",
    "\n",
    "This section displays metrics collected from Google Analytics for the AnVIL Portal at https://anvilproject.org and compares January 2023 with the previous month (December 2022). The generation of this report is now coded in Jupyter notebooks and can be rerun easily and modified or consolidated as desired.\n",
    "\n",
    "### Key to tables\n",
    "\n",
    "On the tables:\n",
    "\n",
    "* Diffs, e.g. <span style=\"color: green\">(+19.04%)</span> or <span style=\"color: red\">(-12.03%)</span>, compare the later month with the previous month.\n",
    "* \"+\" Indicates the entry is new in the report in the current month.\n",
    "* \"↑\" Indicates the entry has moved up in rank since the last month.\n",
    "* \"↓\" Indicates the entry has moved down in rank since the last month."
   ]
  },
  {
   "cell_type": "code",
   "execution_count": 1,
   "id": "c1204f97",
   "metadata": {
    "tags": [
     "remove-cell"
    ]
   },
   "outputs": [],
   "source": [
    "import warnings\n",
    "warnings.filterwarnings('ignore')"
   ]
  },
  {
   "cell_type": "code",
   "execution_count": 1,
   "id": "c19c88f8",
   "metadata": {
    "scrolled": true,
    "tags": [
     "remove-cell"
    ]
   },
   "outputs": [],
   "source": [
    "# !pip install google_auth_oauthlib \n",
    "# !pip install install google-api-python-client\n",
    "# !pip install pandas \n",
    "# !pip install numpy\n",
    "# !pip install matplotlib\n",
    "# !pip install google-cloud-bigquery\n",
    "# !pip install db-dtypes\n",
    "\n",
    "# Analytics package:\n",
    "# !pip install -e \"git+https://github.com/DataBiosphere/data-browser.git@cd02023b142adf55a0e56e8a20dc361b4f0d1755#egg=analytics&subdirectory=analytics/hdgar-book/analytics_package\""
   ]
  },
  {
   "cell_type": "code",
   "execution_count": 1,
   "id": "70fb2997",
   "metadata": {
    "scrolled": false,
    "tags": [
     "remove-cell"
    ]
   },
   "outputs": [],
   "source": [
    "from IPython.display import display\n",
    "import pandas as pd\n",
    "import analytics.charts as ac\n",
    "\n",
    "%load_ext autoreload\n",
    "%autoreload 2\n",
    "\n",
    "import analytics_anvil as anvil\n",
    "\n",
    "SECRET_NAME = 'ANVIL_ANALYTICS_REPORTING_CLIENT_SECRET_PATH'\n",
    "GA_PROPERTY = \"207946923\" # AnVIL portal\n",
    "ANALYTICS_START = \"2020-02-01\"\n",
    "TODAY = 'today'\n",
    "PERIOD = \"2023-01\"\n",
    "PREV_PERIOD = \"2022-12\""
   ]
  },
  {
   "cell_type": "code",
   "execution_count": 3,
   "id": "6571a948",
   "metadata": {
    "tags": [
     "remove-cell"
    ]
   },
   "outputs": [
    {
     "name": "stdout",
     "output_type": "stream",
     "text": [
      "Please visit this URL to authorize this application: https://accounts.google.com/o/oauth2/auth?response_type=code&client_id=526897014808-dq9pt3bmnutqqjdvj1f5roflpgcvqmpt.apps.googleusercontent.com&redirect_uri=http%3A%2F%2Flocalhost%3A8080%2F&scope=https%3A%2F%2Fwww.googleapis.com%2Fauth%2Fanalytics.readonly&state=YoWvzRT5qrPI6GfPu2XC4rczKH7KBM&access_type=offline\n"
     ]
    },
    {
     "data": {
      "text/plain": [
       "(<googleapiclient.discovery.Resource at 0xf21402d2b0>,\n",
       " <function analytics.api.<lambda>(service, params)>,\n",
       " {},\n",
       " <google.oauth2.credentials.Credentials at 0xf20e472af0>)"
      ]
     },
     "execution_count": 3,
     "metadata": {},
     "output_type": "execute_result"
    }
   ],
   "source": [
    "default_params = {\n",
    "    \"property\": GA_PROPERTY,\n",
    "    \"index_key_formatter\": anvil.adjust_table_index_key,\n",
    "    \"period\": PERIOD,\n",
    "    \"prev_period\": PREV_PERIOD,\n",
    "    \"segment\": \"gaid::Wd1ZSCqRRsG3mC6vBpA9yA\"\n",
    "}\n",
    "\n",
    "ac.authenticate_ga(SECRET_NAME)"
   ]
  },
  {
   "cell_type": "code",
   "execution_count": 2,
   "id": "85a3435e",
   "metadata": {
    "tags": [
     "remove-cell"
    ]
   },
   "outputs": [
    {
     "name": "stdout",
     "output_type": "stream",
     "text": [
      "Please visit this URL to authorize this application: https://accounts.google.com/o/oauth2/auth?response_type=code&client_id=526897014808-dq9pt3bmnutqqjdvj1f5roflpgcvqmpt.apps.googleusercontent.com&redirect_uri=http%3A%2F%2Flocalhost%3A8080%2F&scope=https%3A%2F%2Fwww.googleapis.com%2Fauth%2Fyt-analytics.readonly+https%3A%2F%2Fwww.googleapis.com%2Fauth%2Fyoutube&state=YOZ1eONL2QN81tjwD9uOw1YavJIyCa&access_type=offline\n"
     ]
    }
   ],
   "source": [
    "default_params_yt = {\n",
    "    \"service_system\": anvil.authenticate_yt(SECRET_NAME),\n",
    "    \"property\": \"channel==MINE\",\n",
    "    \"property_prefix\": \"\",\n",
    "    \"period\": PERIOD,\n",
    "    \"prev_period\": PREV_PERIOD\n",
    "}"
   ]
  },
  {
   "cell_type": "code",
   "execution_count": 3,
   "id": "3e54340a",
   "metadata": {
    "tags": [
     "remove-input"
    ]
   },
   "outputs": [
    {
     "data": {
      "text/html": [
       "\n",
       "\t\t<style>\n",
       "\t\t\t\n",
       "\t\t\t.analyticsTable {\n",
       "\t\t\t\tdisplay: grid;\n",
       "\t\t\t\t--symbol-width: 1.5em;\n",
       "\t\t\t\t--value-width: 2.9em;\n",
       "\t\t\t\t--percentage-width: 6.8em;\n",
       "\t\t\t}\n",
       "\t\t\t\n",
       "\t\t\t/*\n",
       "\t\t\t.anaEven {\n",
       "\t\t\t\tbackground: #f5f5f5;\n",
       "\t\t\t}\n",
       "\t\t\t*/\n",
       "\t\t\t\n",
       "\t\t\t.anaIndex:not(.anaColName) {\n",
       "\t\t\t\twhite-space: pre-wrap;\n",
       "\t\t\t\tline-break: anywhere;\n",
       "\t\t\t\tword-break: break-all;\n",
       "\t\t\t}\n",
       "\t\t\t\n",
       "\t\t\t.anaColName {\n",
       "\t\t\t\tfont-weight: bold;\n",
       "\t\t\t\tborder-bottom: 1px solid black;\n",
       "\t\t\t}\n",
       "\t\t\t\n",
       "\t\t\t.anaIndex, .anaColName, .anaCell {\n",
       "\t\t\t\tpadding: 0.3em;\n",
       "\t\t\t}\n",
       "\t\t\t\n",
       "\t\t\t.anaSubcolLeft, .anaIndex {\n",
       "\t\t\t\tpadding-left: 1em;\n",
       "\t\t\t}\n",
       "\t\t\t\n",
       "\t\t\t.anaSubcolRight {\n",
       "\t\t\t\tpadding-right: 1em;\n",
       "\t\t\t}\n",
       "\t\t\t\n",
       "\t\t\t.anaColName:not(.anaIndex) {\n",
       "\t\t\t\ttext-align: center;\n",
       "\t\t\t}\n",
       "\t\t\t\n",
       "\t\t\t.anaCell:not(.anaIndex) {\n",
       "\t\t\t\ttext-align: right;\n",
       "\t\t\t}\n",
       "\t\t\t\n",
       "\t\t\t.analyticsTable .up::before {\n",
       "\t\t\t\tcontent: \"↑\";\n",
       "\t\t\t\tcolor: gray;\n",
       "\t\t\t}\n",
       "\t\t\t\n",
       "\t\t\t.analyticsTable .down::before {\n",
       "\t\t\t\tcontent: \"↓\";\n",
       "\t\t\t\tcolor: gray;\n",
       "\t\t\t}\n",
       "\t\t\t\n",
       "\t\t\t.analyticsTable .new::before {\n",
       "\t\t\t\tcontent: \"+\";\n",
       "\t\t\t\tcolor: gray;\n",
       "\t\t\t}\n",
       "\t\t\t\n",
       "\t\t\t.anaPositive {\n",
       "\t\t\t\tcolor: green;\n",
       "\t\t\t}\n",
       "\t\t\t\n",
       "\t\t\t.anaNegative {\n",
       "\t\t\t\tcolor: red;\n",
       "\t\t\t}\n",
       "\t\t\t\n",
       "\t\t</style>\n",
       "\t"
      ],
      "text/plain": [
       "<IPython.core.display.HTML object>"
      ]
     },
     "metadata": {},
     "output_type": "display_data"
    }
   ],
   "source": [
    "ac.init_tables()"
   ]
  },
  {
   "cell_type": "markdown",
   "id": "1919eb1b",
   "metadata": {},
   "source": [
    "## Monthly Users and Page Views (All Time)"
   ]
  },
  {
   "cell_type": "code",
   "execution_count": 4,
   "id": "e55c82e7",
   "metadata": {
    "tags": [
     "remove-input"
    ]
   },
   "outputs": [
    {
     "data": {
      "image/png": "[encoded data removed]",
      "text/plain": [
       "<Figure size 1152x648 with 1 Axes>"
      ]
     },
     "metadata": {
      "needs_background": "light"
     },
     "output_type": "display_data"
    }
   ],
   "source": [
    "users_over_time_table = anvil.plot_users_over_time(start_date=ANALYTICS_START, end_date=TODAY, **default_params)"
   ]
  },
  {
   "cell_type": "code",
   "execution_count": 13,
   "id": "b9203423",
   "metadata": {
    "tags": [
     "remove-input"
    ]
   },
   "outputs": [
    {
     "data": {
      "text/html": [
       "<div class=\"analyticsTable\" style=\"grid-template-columns: repeat(1, auto) 1fr minmax(var(--value-width), min-content) minmax(var(--percentage-width), min-content) minmax(var(--value-width), min-content) minmax(var(--percentage-width), min-content)\"><div class=\"anaIndex anaColName\">Year</div><div class=\"anaIndex anaColName\">Month</div><div class=\"anaColName\" style=\"grid-column: span 2\">Users</div><div class=\"anaColName\" style=\"grid-column: span 2\">Total Pageviews</div><div class=\"anaIndex anaEven\" style=\"grid-row: span 7\">2022</div><div class=\"anaIndex anaEven\" style=\"grid-row: span 1\">July</div><div class=\"anaCell anaEven anaSubcolLeft\">2068</div><div class=\"anaCell anaEven anaSubcolRight\"></div><div class=\"anaCell anaEven anaSubcolLeft\">6385</div><div class=\"anaCell anaEven anaSubcolRight\"></div><div class=\"anaIndex anaOdd\" style=\"grid-row: span 1\">June</div><div class=\"anaCell anaOdd anaSubcolLeft\">2993</div><div class=\"anaCell anaOdd anaSubcolRight\"><div class=\"anaPositive\">(+44.73%)</div></div><div class=\"anaCell anaOdd anaSubcolLeft\">9510</div><div class=\"anaCell anaOdd anaSubcolRight\"><div class=\"anaPositive\">(+48.94%)</div></div><div class=\"anaIndex anaEven\" style=\"grid-row: span 1\">May</div><div class=\"anaCell anaEven anaSubcolLeft\">3342</div><div class=\"anaCell anaEven anaSubcolRight\"><div class=\"anaPositive\">(+11.66%)</div></div><div class=\"anaCell anaEven anaSubcolLeft\">10919</div><div class=\"anaCell anaEven anaSubcolRight\"><div class=\"anaPositive\">(+14.82%)</div></div><div class=\"anaIndex anaOdd\" style=\"grid-row: span 1\">April</div><div class=\"anaCell anaOdd anaSubcolLeft\">2586</div><div class=\"anaCell anaOdd anaSubcolRight\"><div class=\"anaNegative\">(-22.62%)</div></div><div class=\"anaCell anaOdd anaSubcolLeft\">9243</div><div class=\"anaCell anaOdd anaSubcolRight\"><div class=\"anaNegative\">(-15.35%)</div></div><div class=\"anaIndex anaEven\" style=\"grid-row: span 1\">March</div><div class=\"anaCell anaEven anaSubcolLeft\">3274</div><div class=\"anaCell anaEven anaSubcolRight\"><div class=\"anaPositive\">(+26.60%)</div></div><div class=\"anaCell anaEven anaSubcolLeft\">10725</div><div class=\"anaCell anaEven anaSubcolRight\"><div class=\"anaPositive\">(+16.03%)</div></div><div class=\"anaIndex anaOdd\" style=\"grid-row: span 1\">February</div><div class=\"anaCell anaOdd anaSubcolLeft\">2689</div><div class=\"anaCell anaOdd anaSubcolRight\"><div class=\"anaNegative\">(-17.87%)</div></div><div class=\"anaCell anaOdd anaSubcolLeft\">8981</div><div class=\"anaCell anaOdd anaSubcolRight\"><div class=\"anaNegative\">(-16.26%)</div></div><div class=\"anaIndex anaEven\" style=\"grid-row: span 1\">January</div><div class=\"anaCell anaEven anaSubcolLeft\">2928</div><div class=\"anaCell anaEven anaSubcolRight\"><div class=\"anaPositive\">(+8.89%)</div></div><div class=\"anaCell anaEven anaSubcolLeft\">11105</div><div class=\"anaCell anaEven anaSubcolRight\"><div class=\"anaPositive\">(+23.65%)</div></div><div class=\"anaIndex anaOdd\" style=\"grid-row: span 12\">2021</div><div class=\"anaIndex anaOdd\" style=\"grid-row: span 1\">December</div><div class=\"anaCell anaOdd anaSubcolLeft\">1844</div><div class=\"anaCell anaOdd anaSubcolRight\"><div class=\"anaNegative\">(-37.02%)</div></div><div class=\"anaCell anaOdd anaSubcolLeft\">6856</div><div class=\"anaCell anaOdd anaSubcolRight\"><div class=\"anaNegative\">(-38.26%)</div></div><div class=\"anaIndex anaEven\" style=\"grid-row: span 1\">November</div><div class=\"anaCell anaEven anaSubcolLeft\">1930</div><div class=\"anaCell anaEven anaSubcolRight\"><div class=\"anaPositive\">(+4.66%)</div></div><div class=\"anaCell anaEven anaSubcolLeft\">7612</div><div class=\"anaCell anaEven anaSubcolRight\"><div class=\"anaPositive\">(+11.03%)</div></div><div class=\"anaIndex anaOdd\" style=\"grid-row: span 1\">October</div><div class=\"anaCell anaOdd anaSubcolLeft\">1940</div><div class=\"anaCell anaOdd anaSubcolRight\"><div class=\"anaPositive\">(+0.52%)</div></div><div class=\"anaCell anaOdd anaSubcolLeft\">8106</div><div class=\"anaCell anaOdd anaSubcolRight\"><div class=\"anaPositive\">(+6.49%)</div></div><div class=\"anaIndex anaEven\" style=\"grid-row: span 1\">September</div><div class=\"anaCell anaEven anaSubcolLeft\">1602</div><div class=\"anaCell anaEven anaSubcolRight\"><div class=\"anaNegative\">(-17.42%)</div></div><div class=\"anaCell anaEven anaSubcolLeft\">7791</div><div class=\"anaCell anaEven anaSubcolRight\"><div class=\"anaNegative\">(-3.89%)</div></div><div class=\"anaIndex anaOdd\" style=\"grid-row: span 1\">August</div><div class=\"anaCell anaOdd anaSubcolLeft\">1402</div><div class=\"anaCell anaOdd anaSubcolRight\"><div class=\"anaNegative\">(-12.48%)</div></div><div class=\"anaCell anaOdd anaSubcolLeft\">6540</div><div class=\"anaCell anaOdd anaSubcolRight\"><div class=\"anaNegative\">(-16.06%)</div></div><div class=\"anaIndex anaEven\" style=\"grid-row: span 1\">July</div><div class=\"anaCell anaEven anaSubcolLeft\">1381</div><div class=\"anaCell anaEven anaSubcolRight\"><div class=\"anaNegative\">(-1.50%)</div></div><div class=\"anaCell anaEven anaSubcolLeft\">6763</div><div class=\"anaCell anaEven anaSubcolRight\"><div class=\"anaPositive\">(+3.41%)</div></div><div class=\"anaIndex anaOdd\" style=\"grid-row: span 1\">June</div><div class=\"anaCell anaOdd anaSubcolLeft\">1328</div><div class=\"anaCell anaOdd anaSubcolRight\"><div class=\"anaNegative\">(-3.84%)</div></div><div class=\"anaCell anaOdd anaSubcolLeft\">6647</div><div class=\"anaCell anaOdd anaSubcolRight\"><div class=\"anaNegative\">(-1.72%)</div></div><div class=\"anaIndex anaEven\" style=\"grid-row: span 1\">May</div><div class=\"anaCell anaEven anaSubcolLeft\">1406</div><div class=\"anaCell anaEven anaSubcolRight\"><div class=\"anaPositive\">(+5.87%)</div></div><div class=\"anaCell anaEven anaSubcolLeft\">6242</div><div class=\"anaCell anaEven anaSubcolRight\"><div class=\"anaNegative\">(-6.09%)</div></div><div class=\"anaIndex anaOdd\" style=\"grid-row: span 1\">April</div><div class=\"anaCell anaOdd anaSubcolLeft\">1606</div><div class=\"anaCell anaOdd anaSubcolRight\"><div class=\"anaPositive\">(+14.22%)</div></div><div class=\"anaCell anaOdd anaSubcolLeft\">7188</div><div class=\"anaCell anaOdd anaSubcolRight\"><div class=\"anaPositive\">(+15.16%)</div></div><div class=\"anaIndex anaEven\" style=\"grid-row: span 1\">March</div><div class=\"anaCell anaEven anaSubcolLeft\">1584</div><div class=\"anaCell anaEven anaSubcolRight\"><div class=\"anaNegative\">(-1.37%)</div></div><div class=\"anaCell anaEven anaSubcolLeft\">7899</div><div class=\"anaCell anaEven anaSubcolRight\"><div class=\"anaPositive\">(+9.89%)</div></div><div class=\"anaIndex anaOdd\" style=\"grid-row: span 1\">February</div><div class=\"anaCell anaOdd anaSubcolLeft\">1997</div><div class=\"anaCell anaOdd anaSubcolRight\"><div class=\"anaPositive\">(+26.07%)</div></div><div class=\"anaCell anaOdd anaSubcolLeft\">7017</div><div class=\"anaCell anaOdd anaSubcolRight\"><div class=\"anaNegative\">(-11.17%)</div></div><div class=\"anaIndex anaEven\" style=\"grid-row: span 1\">January</div><div class=\"anaCell anaEven anaSubcolLeft\">771</div><div class=\"anaCell anaEven anaSubcolRight\"><div class=\"anaNegative\">(-61.39%)</div></div><div class=\"anaCell anaEven anaSubcolLeft\">3582</div><div class=\"anaCell anaEven anaSubcolRight\"><div class=\"anaNegative\">(-48.95%)</div></div><div class=\"anaIndex anaOdd\" style=\"grid-row: span 11\">2020</div><div class=\"anaIndex anaOdd\" style=\"grid-row: span 1\">December</div><div class=\"anaCell anaOdd anaSubcolLeft\">1017</div><div class=\"anaCell anaOdd anaSubcolRight\"><div class=\"anaPositive\">(+31.91%)</div></div><div class=\"anaCell anaOdd anaSubcolLeft\">4610</div><div class=\"anaCell anaOdd anaSubcolRight\"><div class=\"anaPositive\">(+28.70%)</div></div><div class=\"anaIndex anaEven\" style=\"grid-row: span 1\">November</div><div class=\"anaCell anaEven anaSubcolLeft\">943</div><div class=\"anaCell anaEven anaSubcolRight\"><div class=\"anaNegative\">(-7.28%)</div></div><div class=\"anaCell anaEven anaSubcolLeft\">3632</div><div class=\"anaCell anaEven anaSubcolRight\"><div class=\"anaNegative\">(-21.21%)</div></div><div class=\"anaIndex anaOdd\" style=\"grid-row: span 1\">October</div><div class=\"anaCell anaOdd anaSubcolLeft\">945</div><div class=\"anaCell anaOdd anaSubcolRight\"><div class=\"anaPositive\">(+0.21%)</div></div><div class=\"anaCell anaOdd anaSubcolLeft\">5155</div><div class=\"anaCell anaOdd anaSubcolRight\"><div class=\"anaPositive\">(+41.93%)</div></div><div class=\"anaIndex anaEven\" style=\"grid-row: span 1\">September</div><div class=\"anaCell anaEven anaSubcolLeft\">533</div><div class=\"anaCell anaEven anaSubcolRight\"><div class=\"anaNegative\">(-43.60%)</div></div><div class=\"anaCell anaEven anaSubcolLeft\">0</div><div class=\"anaCell anaEven anaSubcolRight\"><div class=\"anaNegative\">(-100.00%)</div></div><div class=\"anaIndex anaOdd\" style=\"grid-row: span 1\">August</div><div class=\"anaCell anaOdd anaSubcolLeft\">537</div><div class=\"anaCell anaOdd anaSubcolRight\"><div class=\"anaPositive\">(+0.75%)</div></div><div class=\"anaCell anaOdd anaSubcolLeft\">2440</div><div class=\"anaCell anaOdd anaSubcolRight\"></div><div class=\"anaIndex anaEven\" style=\"grid-row: span 1\">July</div><div class=\"anaCell anaEven anaSubcolLeft\">892</div><div class=\"anaCell anaEven anaSubcolRight\"><div class=\"anaPositive\">(+66.11%)</div></div><div class=\"anaCell anaEven anaSubcolLeft\">3288</div><div class=\"anaCell anaEven anaSubcolRight\"><div class=\"anaPositive\">(+34.75%)</div></div><div class=\"anaIndex anaOdd\" style=\"grid-row: span 1\">June</div><div class=\"anaCell anaOdd anaSubcolLeft\">54</div><div class=\"anaCell anaOdd anaSubcolRight\"><div class=\"anaNegative\">(-93.95%)</div></div><div class=\"anaCell anaOdd anaSubcolLeft\">160</div><div class=\"anaCell anaOdd anaSubcolRight\"><div class=\"anaNegative\">(-95.13%)</div></div><div class=\"anaIndex anaEven\" style=\"grid-row: span 1\">May</div><div class=\"anaCell anaEven anaSubcolLeft\">0</div><div class=\"anaCell anaEven anaSubcolRight\"><div class=\"anaNegative\">(-100.00%)</div></div><div class=\"anaCell anaEven anaSubcolLeft\">0</div><div class=\"anaCell anaEven anaSubcolRight\"><div class=\"anaNegative\">(-100.00%)</div></div><div class=\"anaIndex anaOdd\" style=\"grid-row: span 1\">April</div><div class=\"anaCell anaOdd anaSubcolLeft\">0</div><div class=\"anaCell anaOdd anaSubcolRight\"></div><div class=\"anaCell anaOdd anaSubcolLeft\">0</div><div class=\"anaCell anaOdd anaSubcolRight\"></div><div class=\"anaIndex anaEven\" style=\"grid-row: span 1\">March</div><div class=\"anaCell anaEven anaSubcolLeft\">0</div><div class=\"anaCell anaEven anaSubcolRight\"></div><div class=\"anaCell anaEven anaSubcolLeft\">0</div><div class=\"anaCell anaEven anaSubcolRight\"></div><div class=\"anaIndex anaOdd\" style=\"grid-row: span 1\">February</div><div class=\"anaCell anaOdd anaSubcolLeft\">0</div><div class=\"anaCell anaOdd anaSubcolRight\"></div><div class=\"anaCell anaOdd anaSubcolLeft\">0</div><div class=\"anaCell anaOdd anaSubcolRight\"></div></div>"
      ],
      "text/plain": [
       "<IPython.core.display.HTML object>"
      ]
     },
     "metadata": {},
     "output_type": "display_data"
    }
   ],
   "source": [
    "display(users_over_time_table)"
   ]
  },
  {
   "cell_type": "markdown",
   "id": "20cb1c19",
   "metadata": {},
   "source": [
    "<div style=\"page-break-after: always\"></div>"
   ]
  },
  {
   "cell_type": "markdown",
   "id": "5a1acbae",
   "metadata": {},
   "source": [
    "## Users and Sessions\n",
    "Users are distinguished based on a tracking cookie set by Google. Because cookies may not remain present over time or between devices, it's likely that total users are overcounted and returning users are undercounted."
   ]
  },
  {
   "cell_type": "code",
   "execution_count": 7,
   "id": "fe3e5946",
   "metadata": {
    "tags": [
     "remove-input"
    ]
   },
   "outputs": [
    {
     "data": {
      "text/html": [
       "<div class=\"analyticsTable\" style=\"grid-template-columns: 1fr var(--symbol-width) minmax(var(--value-width), min-content) minmax(var(--percentage-width), min-content)\"><div class=\"anaIndex anaEven\">Total Users</div><div class=\"anaCell anaEven anaSubcolLeft\"></div><div class=\"anaCell anaEven\">2132</div><div class=\"anaCell anaEven anaSubcolRight\"><div class=\"anaNegative\">(-28.77%)</div></div></div>"
      ],
      "text/plain": [
       "<IPython.core.display.HTML object>"
      ]
     },
     "metadata": {},
     "output_type": "display_data"
    }
   ],
   "source": [
    "ac.show_difference_table(\"Total Users\", None, \"ga:users\", None, **default_params)"
   ]
  },
  {
   "cell_type": "code",
   "execution_count": 8,
   "id": "630b0d77",
   "metadata": {
    "tags": [
     "remove-input"
    ]
   },
   "outputs": [
    {
     "data": {
      "text/html": [
       "<div class=\"analyticsTable\" style=\"grid-template-columns: 1fr var(--symbol-width) minmax(var(--value-width), min-content) minmax(var(--percentage-width), min-content)\"><div class=\"anaIndex anaEven\">Returning Users</div><div class=\"anaCell anaEven anaSubcolLeft\"></div><div class=\"anaCell anaEven\">493</div><div class=\"anaCell anaEven anaSubcolRight\"><div class=\"anaNegative\">(-19.05%)</div></div></div>"
      ],
      "text/plain": [
       "<IPython.core.display.HTML object>"
      ]
     },
     "metadata": {},
     "output_type": "display_data"
    }
   ],
   "source": [
    "ac.show_difference_table(\"Returning Users\", None, \"ga:users\", None, filters=\"ga:userType==Returning Visitor\", **default_params)"
   ]
  },
  {
   "cell_type": "code",
   "execution_count": 9,
   "id": "e903e8d6",
   "metadata": {
    "tags": [
     "remove-input"
    ]
   },
   "outputs": [
    {
     "data": {
      "text/html": [
       "<div class=\"analyticsTable\" style=\"grid-template-columns: 1fr var(--symbol-width) minmax(var(--value-width), min-content) minmax(var(--percentage-width), min-content)\"><div class=\"anaIndex anaEven\">Total Visits</div><div class=\"anaCell anaEven anaSubcolLeft\"></div><div class=\"anaCell anaEven\">2825</div><div class=\"anaCell anaEven anaSubcolRight\"><div class=\"anaNegative\">(-31.80%)</div></div></div>"
      ],
      "text/plain": [
       "<IPython.core.display.HTML object>"
      ]
     },
     "metadata": {},
     "output_type": "display_data"
    }
   ],
   "source": [
    "ac.show_difference_table(\"Total Visits\", None, \"ga:sessions\", None, **default_params)"
   ]
  },
  {
   "cell_type": "markdown",
   "id": "583279a2",
   "metadata": {},
   "source": [
    "## Page Views"
   ]
  },
  {
   "cell_type": "code",
   "execution_count": 10,
   "id": "a9f7deb0",
   "metadata": {
    "tags": [
     "remove-input"
    ]
   },
   "outputs": [
    {
     "data": {
      "text/html": [
       "<div class=\"analyticsTable\" style=\"grid-template-columns: 1fr var(--symbol-width) minmax(var(--value-width), min-content) minmax(var(--percentage-width), min-content)\"><div class=\"anaIndex anaEven\">Total</div><div class=\"anaCell anaEven anaSubcolLeft\"></div><div class=\"anaCell anaEven\">6385</div><div class=\"anaCell anaEven anaSubcolRight\"><div class=\"anaNegative\">(-32.86%)</div></div></div>"
      ],
      "text/plain": [
       "<IPython.core.display.HTML object>"
      ]
     },
     "metadata": {},
     "output_type": "display_data"
    }
   ],
   "source": [
    "ac.show_difference_table(\"Total\", None, \"ga:pageviews\", None, **default_params)"
   ]
  },
  {
   "cell_type": "markdown",
   "id": "6712c955",
   "metadata": {},
   "source": [
    "## Device Category"
   ]
  },
  {
   "cell_type": "code",
   "execution_count": 15,
   "id": "82fcd22d",
   "metadata": {
    "tags": [
     "remove-input"
    ]
   },
   "outputs": [
    {
     "data": {
      "text/html": [
       "<div class=\"analyticsTable\" style=\"grid-template-columns: 1fr var(--symbol-width) minmax(var(--value-width), min-content) minmax(var(--percentage-width), min-content) minmax(var(--value-width), min-content) minmax(var(--percentage-width), min-content)\"><div class=\"anaIndex anaColName\">Category</div><div class=\"anaColName\" style=\"grid-column: span 3\">Users</div><div class=\"anaColName\" style=\"grid-column: span 2\">Percentage of users</div><div class=\"anaIndex anaEven\">desktop</div><div class=\"anaCell anaEven anaSubcolLeft\"></div><div class=\"anaCell anaEven\">1809</div><div class=\"anaCell anaEven anaSubcolRight\"><div class=\"anaNegative\">(-28.50%)</div></div><div class=\"anaCell anaEven anaSubcolLeft\">84.85</div><div class=\"anaCell anaEven anaSubcolRight\"><div class=\"anaPositive\">(+0.41%)</div></div><div class=\"anaIndex anaOdd\">mobile</div><div class=\"anaCell anaOdd anaSubcolLeft\"></div><div class=\"anaCell anaOdd\">309</div><div class=\"anaCell anaOdd anaSubcolRight\"><div class=\"anaNegative\">(-31.18%)</div></div><div class=\"anaCell anaOdd anaSubcolLeft\">14.49</div><div class=\"anaCell anaOdd anaSubcolRight\"><div class=\"anaNegative\">(-3.36%)</div></div><div class=\"anaIndex anaEven\">tablet</div><div class=\"anaCell anaEven anaSubcolLeft\"></div><div class=\"anaCell anaEven\">14</div><div class=\"anaCell anaEven anaSubcolRight\"><div class=\"anaNegative\">(-6.67%)</div></div><div class=\"anaCell anaEven anaSubcolLeft\">0.66</div><div class=\"anaCell anaEven anaSubcolRight\"><div class=\"anaPositive\">(+31.07%)</div></div></div>"
      ],
      "text/plain": [
       "<IPython.core.display.HTML object>"
      ]
     },
     "metadata": {},
     "output_type": "display_data"
    }
   ],
   "source": [
    "ac.show_difference_table([\"Users\", \"Percentage of users\"], \"Category\", \"ga:users\", \"ga:deviceCategory\", percentage_metrics={\"ga:users\"}, **default_params)"
   ]
  },
  {
   "cell_type": "markdown",
   "id": "9c170ead",
   "metadata": {},
   "source": [
    "## Social Network Referrers"
   ]
  },
  {
   "cell_type": "code",
   "execution_count": 13,
   "id": "03bcb21d",
   "metadata": {
    "tags": [
     "remove-input"
    ]
   },
   "outputs": [
    {
     "data": {
      "text/html": [
       "<div class=\"analyticsTable\" style=\"grid-template-columns: 1fr var(--symbol-width) minmax(var(--value-width), min-content) minmax(var(--percentage-width), min-content)\"><div class=\"anaIndex anaColName\">Social Network</div><div class=\"anaColName\" style=\"grid-column: span 3\">User Sessions</div><div class=\"anaIndex anaEven\">(not set)</div><div class=\"anaCell anaEven anaSubcolLeft\"></div><div class=\"anaCell anaEven\">2800</div><div class=\"anaCell anaEven anaSubcolRight\"><div class=\"anaNegative\">(-31.44%)</div></div><div class=\"anaIndex anaOdd\">Twitter</div><div class=\"anaCell anaOdd anaSubcolLeft\"><div class=\"up\"></div></div><div class=\"anaCell anaOdd\">13</div><div class=\"anaCell anaOdd anaSubcolRight\"><div class=\"anaNegative\">(-50.00%)</div></div><div class=\"anaIndex anaEven\">LinkedIn</div><div class=\"anaCell anaEven anaSubcolLeft\"><div class=\"down\"></div></div><div class=\"anaCell anaEven\">8</div><div class=\"anaCell anaEven anaSubcolRight\"><div class=\"anaNegative\">(-69.23%)</div></div><div class=\"anaIndex anaOdd\">Facebook</div><div class=\"anaCell anaOdd anaSubcolLeft\"><div class=\"up\"></div></div><div class=\"anaCell anaOdd\">2</div><div class=\"anaCell anaOdd anaSubcolRight\"><div class=\"anaPositive\">(+100.00%)</div></div><div class=\"anaIndex anaEven\">YouTube</div><div class=\"anaCell anaEven anaSubcolLeft\"><div class=\"down\"></div></div><div class=\"anaCell anaEven\">2</div><div class=\"anaCell anaEven anaSubcolRight\"><div class=\"anaNegative\">(-60.00%)</div></div></div>"
      ],
      "text/plain": [
       "<IPython.core.display.HTML object>"
      ]
     },
     "metadata": {},
     "output_type": "display_data"
    }
   ],
   "source": [
    "ac.show_difference_table(\"User Sessions\", \"Social Network\", \"ga:sessions\", \"ga:socialNetwork\", **default_params)"
   ]
  },
  {
   "cell_type": "markdown",
   "id": "6f19e708",
   "metadata": {},
   "source": [
    "<div style=\"page-break-after: always\"></div>"
   ]
  },
  {
   "cell_type": "markdown",
   "id": "3c2f7065",
   "metadata": {},
   "source": [
    "## Top Referrers"
   ]
  },
  {
   "cell_type": "markdown",
   "id": "e462fcfd",
   "metadata": {},
   "source": [
    "### By Referring Host"
   ]
  },
  {
   "cell_type": "code",
   "execution_count": 11,
   "id": "532593fc",
   "metadata": {
    "tags": [
     "remove-input"
    ]
   },
   "outputs": [
    {
     "data": {
      "text/html": [
       "<div class=\"analyticsTable\" style=\"grid-template-columns: 1fr var(--symbol-width) minmax(var(--value-width), min-content) minmax(var(--percentage-width), min-content)\"><div class=\"anaIndex anaColName\">Source Host</div><div class=\"anaColName\" style=\"grid-column: span 3\">User Sessions</div><div class=\"anaIndex anaEven\">google</div><div class=\"anaCell anaEven anaSubcolLeft\"></div><div class=\"anaCell anaEven\">1561</div><div class=\"anaCell anaEven anaSubcolRight\"><div class=\"anaNegative\">(-29.81%)</div></div><div class=\"anaIndex anaOdd\">(direct)</div><div class=\"anaCell anaOdd anaSubcolLeft\"></div><div class=\"anaCell anaOdd\">833</div><div class=\"anaCell anaOdd anaSubcolRight\"><div class=\"anaNegative\">(-40.41%)</div></div><div class=\"anaIndex anaEven\">gtexportal.org</div><div class=\"anaCell anaEven anaSubcolLeft\"></div><div class=\"anaCell anaEven\">47</div><div class=\"anaCell anaEven anaSubcolRight\"><div class=\"anaNegative\">(-9.62%)</div></div><div class=\"anaIndex anaOdd\">bing</div><div class=\"anaCell anaOdd anaSubcolLeft\"></div><div class=\"anaCell anaOdd\">43</div><div class=\"anaCell anaOdd anaSubcolRight\"><div class=\"anaNegative\">(-6.52%)</div></div><div class=\"anaIndex anaEven\">galaxyproject.org</div><div class=\"anaCell anaEven anaSubcolLeft\"><div class=\"up\"></div></div><div class=\"anaCell anaEven\">32</div><div class=\"anaCell anaEven anaSubcolRight\"><div class=\"anaPositive\">(+77.78%)</div></div><div class=\"anaIndex anaOdd\">ncbi.nlm.nih.gov</div><div class=\"anaCell anaOdd anaSubcolLeft\"></div><div class=\"anaCell anaOdd\">31</div><div class=\"anaCell anaOdd anaSubcolRight\"><div class=\"anaNegative\">(-3.12%)</div></div><div class=\"anaIndex anaEven\">genome.gov</div><div class=\"anaCell anaEven anaSubcolLeft\"><div class=\"up\"></div></div><div class=\"anaCell anaEven\">22</div><div class=\"anaCell anaEven anaSubcolRight\"><div class=\"anaNegative\">(-21.43%)</div></div><div class=\"anaIndex anaOdd\">bioconductor.org</div><div class=\"anaCell anaOdd anaSubcolLeft\"><div class=\"up\"></div></div><div class=\"anaCell anaOdd\">21</div><div class=\"anaCell anaOdd anaSubcolRight\"><div class=\"anaPositive\">(+90.91%)</div></div><div class=\"anaIndex anaEven\">github.com</div><div class=\"anaCell anaEven anaSubcolLeft\"><div class=\"up\"></div></div><div class=\"anaCell anaEven\">20</div><div class=\"anaCell anaEven anaSubcolRight\"><div class=\"anaPositive\">(+66.67%)</div></div><div class=\"anaIndex anaOdd\">datascience.nih.gov</div><div class=\"anaCell anaOdd anaSubcolLeft\"><div class=\"down\"></div></div><div class=\"anaCell anaOdd\">20</div><div class=\"anaCell anaOdd anaSubcolRight\"><div class=\"anaNegative\">(-51.22%)</div></div><div class=\"anaIndex anaEven\">jhudatascience.org</div><div class=\"anaCell anaEven anaSubcolLeft\"><div class=\"up\"></div></div><div class=\"anaCell anaEven\">19</div><div class=\"anaCell anaEven anaSubcolRight\"><div class=\"anaPositive\">(+171.43%)</div></div><div class=\"anaIndex anaOdd\">mail.google.com</div><div class=\"anaCell anaOdd anaSubcolLeft\"><div class=\"new\"></div></div><div class=\"anaCell anaOdd\">14</div><div class=\"anaCell anaOdd anaSubcolRight\"></div><div class=\"anaIndex anaEven\">t.co</div><div class=\"anaCell anaEven anaSubcolLeft\"><div class=\"down\"></div></div><div class=\"anaCell anaEven\">13</div><div class=\"anaCell anaEven anaSubcolRight\"><div class=\"anaNegative\">(-50.00%)</div></div><div class=\"anaIndex anaOdd\">support.terra.bio</div><div class=\"anaCell anaOdd anaSubcolLeft\"><div class=\"new\"></div></div><div class=\"anaCell anaOdd\">13</div><div class=\"anaCell anaOdd anaSubcolRight\"></div><div class=\"anaIndex anaEven\">jtleek.com</div><div class=\"anaCell anaEven anaSubcolLeft\"><div class=\"new\"></div></div><div class=\"anaCell anaEven\">9</div><div class=\"anaCell anaEven anaSubcolRight\"></div><div class=\"anaIndex anaOdd\">internationalgenome.org</div><div class=\"anaCell anaOdd anaSubcolLeft\"><div class=\"up\"></div></div><div class=\"anaCell anaOdd\">9</div><div class=\"anaCell anaOdd anaSubcolRight\"><div class=\"anaPositive\">(+12.50%)</div></div><div class=\"anaIndex anaEven\">linkedin.com</div><div class=\"anaCell anaEven anaSubcolLeft\"><div class=\"down\"></div></div><div class=\"anaCell anaEven\">8</div><div class=\"anaCell anaEven anaSubcolRight\"><div class=\"anaNegative\">(-69.23%)</div></div><div class=\"anaIndex anaOdd\">sharing.nih.gov</div><div class=\"anaCell anaOdd anaSubcolLeft\"><div class=\"down\"></div></div><div class=\"anaCell anaOdd\">6</div><div class=\"anaCell anaOdd anaSubcolRight\"><div class=\"anaNegative\">(-78.57%)</div></div><div class=\"anaIndex anaEven\">ncpi-catalog-dug.dev.singlecell.gi.ucsc.edu</div><div class=\"anaCell anaEven anaSubcolLeft\"><div class=\"new\"></div></div><div class=\"anaCell anaEven\">6</div><div class=\"anaCell anaEven anaSubcolRight\"></div><div class=\"anaIndex anaOdd\">sisbid.github.io</div><div class=\"anaCell anaOdd anaSubcolLeft\"><div class=\"new\"></div></div><div class=\"anaCell anaOdd\">5</div><div class=\"anaCell anaOdd anaSubcolRight\"></div><div class=\"anaIndex anaEven\">anvil.bioconductor.org</div><div class=\"anaCell anaEven anaSubcolLeft\"><div class=\"up\"></div></div><div class=\"anaCell anaEven\">5</div><div class=\"anaCell anaEven anaSubcolRight\"><div class=\"anaNegative\">(-16.67%)</div></div><div class=\"anaIndex anaOdd\">anvilproject-org.translate.goog</div><div class=\"anaCell anaOdd anaSubcolLeft\"><div class=\"up\"></div></div><div class=\"anaCell anaOdd\">4</div><div class=\"anaCell anaOdd anaSubcolRight\"><div class=\"anaNegative\">(-33.33%)</div></div><div class=\"anaIndex anaEven\">nekrut.github.io</div><div class=\"anaCell anaEven anaSubcolLeft\"><div class=\"new\"></div></div><div class=\"anaCell anaEven\">4</div><div class=\"anaCell anaEven anaSubcolRight\"></div><div class=\"anaIndex anaOdd\">localhost:8888</div><div class=\"anaCell anaOdd anaSubcolLeft\"><div class=\"new\"></div></div><div class=\"anaCell anaOdd\">4</div><div class=\"anaCell anaOdd anaSubcolRight\"></div><div class=\"anaIndex anaEven\">biorxiv.org</div><div class=\"anaCell anaEven anaSubcolLeft\"><div class=\"new\"></div></div><div class=\"anaCell anaEven\">4</div><div class=\"anaCell anaEven anaSubcolRight\"></div><div class=\"anaIndex anaOdd\">ecosia.org</div><div class=\"anaCell anaOdd anaSubcolLeft\"><div class=\"new\"></div></div><div class=\"anaCell anaOdd\">3</div><div class=\"anaCell anaOdd anaSubcolRight\"></div><div class=\"anaIndex anaEven\">yahoo</div><div class=\"anaCell anaEven anaSubcolLeft\"><div class=\"down\"></div></div><div class=\"anaCell anaEven\">3</div><div class=\"anaCell anaEven anaSubcolRight\"><div class=\"anaNegative\">(-40.00%)</div></div><div class=\"anaIndex anaOdd\">bytedance.feishu.cn</div><div class=\"anaCell anaOdd anaSubcolLeft\"><div class=\"new\"></div></div><div class=\"anaCell anaOdd\">3</div><div class=\"anaCell anaOdd anaSubcolRight\"></div><div class=\"anaIndex anaEven\">cell.com</div><div class=\"anaCell anaEven anaSubcolLeft\"><div class=\"new\"></div></div><div class=\"anaCell anaEven\">3</div><div class=\"anaCell anaEven anaSubcolRight\"></div><div class=\"anaIndex anaOdd\">cn.bing.com</div><div class=\"anaCell anaOdd anaSubcolLeft\"><div class=\"new\"></div></div><div class=\"anaCell anaOdd\">3</div><div class=\"anaCell anaOdd anaSubcolRight\"></div></div>"
      ],
      "text/plain": [
       "<IPython.core.display.HTML object>"
      ]
     },
     "metadata": {},
     "output_type": "display_data"
    }
   ],
   "source": [
    "ac.show_difference_table(\"User Sessions\", \"Source Host\", \"ga:sessions\", \"ga:source\", **default_params)"
   ]
  },
  {
   "cell_type": "markdown",
   "id": "965536e6",
   "metadata": {},
   "source": [
    "<div style=\"page-break-after: always\"></div>"
   ]
  },
  {
   "cell_type": "markdown",
   "id": "3ebd185b",
   "metadata": {},
   "source": [
    "### By Full Referrer"
   ]
  },
  {
   "cell_type": "code",
   "execution_count": 12,
   "id": "8644e071",
   "metadata": {
    "tags": [
     "remove-input"
    ]
   },
   "outputs": [
    {
     "data": {
      "text/html": [
       "<div class=\"analyticsTable\" style=\"grid-template-columns: 1fr var(--symbol-width) minmax(var(--value-width), min-content) minmax(var(--percentage-width), min-content)\"><div class=\"anaIndex anaColName\">Source</div><div class=\"anaColName\" style=\"grid-column: span 3\">User Sessions</div><div class=\"anaIndex anaEven\">google</div><div class=\"anaCell anaEven anaSubcolLeft\"></div><div class=\"anaCell anaEven\">1561</div><div class=\"anaCell anaEven anaSubcolRight\"><div class=\"anaNegative\">(-29.81%)</div></div><div class=\"anaIndex anaOdd\">(direct)</div><div class=\"anaCell anaOdd anaSubcolLeft\"></div><div class=\"anaCell anaOdd\">833</div><div class=\"anaCell anaOdd anaSubcolRight\"><div class=\"anaNegative\">(-40.41%)</div></div><div class=\"anaIndex anaEven\">gtexportal.org/</div><div class=\"anaCell anaEven anaSubcolLeft\"></div><div class=\"anaCell anaEven\">47</div><div class=\"anaCell anaEven anaSubcolRight\"><div class=\"anaNegative\">(-7.84%)</div></div><div class=\"anaIndex anaOdd\">bing</div><div class=\"anaCell anaOdd anaSubcolLeft\"></div><div class=\"anaCell anaOdd\">43</div><div class=\"anaCell anaOdd anaSubcolRight\"><div class=\"anaNegative\">(-6.52%)</div></div><div class=\"anaIndex anaEven\">galaxyproject.org/</div><div class=\"anaCell anaEven anaSubcolLeft\"><div class=\"up\"></div></div><div class=\"anaCell anaEven\">32</div><div class=\"anaCell anaEven anaSubcolRight\"><div class=\"anaPositive\">(+77.78%)</div></div><div class=\"anaIndex anaOdd\">ncbi.nlm.nih.gov/</div><div class=\"anaCell anaOdd anaSubcolLeft\"></div><div class=\"anaCell anaOdd\">31</div><div class=\"anaCell anaOdd anaSubcolRight\"><div class=\"anaNegative\">(-3.12%)</div></div><div class=\"anaIndex anaEven\">bioconductor.org/</div><div class=\"anaCell anaEven anaSubcolLeft\"><div class=\"up\"></div></div><div class=\"anaCell anaEven\">21</div><div class=\"anaCell anaEven anaSubcolRight\"><div class=\"anaPositive\">(+90.91%)</div></div><div class=\"anaIndex anaOdd\">genome.gov/</div><div class=\"anaCell anaOdd anaSubcolLeft\"></div><div class=\"anaCell anaOdd\">21</div><div class=\"anaCell anaOdd anaSubcolRight\"><div class=\"anaNegative\">(-22.22%)</div></div><div class=\"anaIndex anaEven\">datascience.nih.gov/</div><div class=\"anaCell anaEven anaSubcolLeft\"><div class=\"down\"></div></div><div class=\"anaCell anaEven\">20</div><div class=\"anaCell anaEven anaSubcolRight\"><div class=\"anaNegative\">(-51.22%)</div></div><div class=\"anaIndex anaOdd\">jhudatascience.org/</div><div class=\"anaCell anaOdd anaSubcolLeft\"><div class=\"up\"></div></div><div class=\"anaCell anaOdd\">19</div><div class=\"anaCell anaOdd anaSubcolRight\"><div class=\"anaPositive\">(+171.43%)</div></div><div class=\"anaIndex anaEven\">mail.google.com/</div><div class=\"anaCell anaEven anaSubcolLeft\"><div class=\"new\"></div></div><div class=\"anaCell anaEven\">14</div><div class=\"anaCell anaEven anaSubcolRight\"></div><div class=\"anaIndex anaOdd\">support.terra.bio/</div><div class=\"anaCell anaOdd anaSubcolLeft\"><div class=\"new\"></div></div><div class=\"anaCell anaOdd\">13</div><div class=\"anaCell anaOdd anaSubcolRight\"></div><div class=\"anaIndex anaEven\">github.com/anvilproject/anvil-portal/issues/1991</div><div class=\"anaCell anaEven anaSubcolLeft\"><div class=\"up\"></div></div><div class=\"anaCell anaEven\">11</div><div class=\"anaCell anaEven anaSubcolRight\"><div class=\"anaPositive\">(+83.33%)</div></div><div class=\"anaIndex anaOdd\">internationalgenome.org/</div><div class=\"anaCell anaOdd anaSubcolLeft\"><div class=\"up\"></div></div><div class=\"anaCell anaOdd\">9</div><div class=\"anaCell anaOdd anaSubcolRight\"><div class=\"anaPositive\">(+12.50%)</div></div><div class=\"anaIndex anaEven\">t.co/</div><div class=\"anaCell anaEven anaSubcolLeft\"><div class=\"down\"></div></div><div class=\"anaCell anaEven\">9</div><div class=\"anaCell anaEven anaSubcolRight\"><div class=\"anaNegative\">(-60.87%)</div></div><div class=\"anaIndex anaOdd\">jtleek.com/</div><div class=\"anaCell anaOdd anaSubcolLeft\"><div class=\"new\"></div></div><div class=\"anaCell anaOdd\">9</div><div class=\"anaCell anaOdd anaSubcolRight\"></div><div class=\"anaIndex anaEven\">linkedin.com/</div><div class=\"anaCell anaEven anaSubcolLeft\"><div class=\"down\"></div></div><div class=\"anaCell anaEven\">8</div><div class=\"anaCell anaEven anaSubcolRight\"><div class=\"anaNegative\">(-69.23%)</div></div><div class=\"anaIndex anaOdd\">sharing.nih.gov/</div><div class=\"anaCell anaOdd anaSubcolLeft\"><div class=\"down\"></div></div><div class=\"anaCell anaOdd\">6</div><div class=\"anaCell anaOdd anaSubcolRight\"><div class=\"anaNegative\">(-78.57%)</div></div><div class=\"anaIndex anaEven\">ncpi-catalog-dug.dev.singlecell.gi.ucsc.edu/</div><div class=\"anaCell anaEven anaSubcolLeft\"><div class=\"new\"></div></div><div class=\"anaCell anaEven\">6</div><div class=\"anaCell anaEven anaSubcolRight\"></div><div class=\"anaIndex anaOdd\">anvil.bioconductor.org/</div><div class=\"anaCell anaOdd anaSubcolLeft\"><div class=\"up\"></div></div><div class=\"anaCell anaOdd\">5</div><div class=\"anaCell anaOdd anaSubcolRight\"><div class=\"anaNegative\">(-16.67%)</div></div><div class=\"anaIndex anaEven\">sisbid.github.io/</div><div class=\"anaCell anaEven anaSubcolLeft\"><div class=\"new\"></div></div><div class=\"anaCell anaEven\">5</div><div class=\"anaCell anaEven anaSubcolRight\"></div><div class=\"anaIndex anaOdd\">localhost:8888/</div><div class=\"anaCell anaOdd anaSubcolLeft\"><div class=\"new\"></div></div><div class=\"anaCell anaOdd\">4</div><div class=\"anaCell anaOdd anaSubcolRight\"></div><div class=\"anaIndex anaEven\">biorxiv.org/</div><div class=\"anaCell anaEven anaSubcolLeft\"><div class=\"new\"></div></div><div class=\"anaCell anaEven\">4</div><div class=\"anaCell anaEven anaSubcolRight\"></div><div class=\"anaIndex anaOdd\">t.co/Rzh2h6mchx</div><div class=\"anaCell anaOdd anaSubcolLeft\"><div class=\"new\"></div></div><div class=\"anaCell anaOdd\">4</div><div class=\"anaCell anaOdd anaSubcolRight\"></div><div class=\"anaIndex anaEven\">nekrut.github.io/</div><div class=\"anaCell anaEven anaSubcolLeft\"><div class=\"new\"></div></div><div class=\"anaCell anaEven\">4</div><div class=\"anaCell anaEven anaSubcolRight\"></div><div class=\"anaIndex anaOdd\">yahoo</div><div class=\"anaCell anaOdd anaSubcolLeft\"><div class=\"down\"></div></div><div class=\"anaCell anaOdd\">3</div><div class=\"anaCell anaOdd anaSubcolRight\"><div class=\"anaNegative\">(-40.00%)</div></div><div class=\"anaIndex anaEven\">ecosia.org</div><div class=\"anaCell anaEven anaSubcolLeft\"><div class=\"up\"></div></div><div class=\"anaCell anaEven\">3</div><div class=\"anaCell anaEven anaSubcolRight\"><div class=\"anaNegative\">(-25.00%)</div></div><div class=\"anaIndex anaOdd\">duckduckgo</div><div class=\"anaCell anaOdd anaSubcolLeft\"><div class=\"down\"></div></div><div class=\"anaCell anaOdd\">3</div><div class=\"anaCell anaOdd anaSubcolRight\"><div class=\"anaNegative\">(-82.35%)</div></div><div class=\"anaIndex anaEven\">docs.google.com/</div><div class=\"anaCell anaEven anaSubcolLeft\"><div class=\"down\"></div></div><div class=\"anaCell anaEven\">3</div><div class=\"anaCell anaEven anaSubcolRight\"><div class=\"anaNegative\">(-50.00%)</div></div><div class=\"anaIndex anaOdd\">anvilproject-org.translate.goog/</div><div class=\"anaCell anaOdd anaSubcolLeft\"><div class=\"new\"></div></div><div class=\"anaCell anaOdd\">3</div><div class=\"anaCell anaOdd anaSubcolRight\"></div></div>"
      ],
      "text/plain": [
       "<IPython.core.display.HTML object>"
      ]
     },
     "metadata": {},
     "output_type": "display_data"
    }
   ],
   "source": [
    "ac.show_difference_table(\"User Sessions\", \"Source\", \"ga:sessions\", \"ga:fullReferrer\", **default_params)"
   ]
  },
  {
   "cell_type": "markdown",
   "id": "974ff8ba",
   "metadata": {},
   "source": [
    "<div style=\"page-break-after: always\"></div>"
   ]
  },
  {
   "cell_type": "markdown",
   "id": "d83980c3",
   "metadata": {},
   "source": [
    "## Top Countries"
   ]
  },
  {
   "cell_type": "code",
   "execution_count": 14,
   "id": "4ff4cfa6",
   "metadata": {
    "tags": [
     "remove-input"
    ]
   },
   "outputs": [
    {
     "data": {
      "text/html": [
       "<div class=\"analyticsTable\" style=\"grid-template-columns: 1fr var(--symbol-width) minmax(var(--value-width), min-content) minmax(var(--percentage-width), min-content)\"><div class=\"anaIndex anaColName\">Country</div><div class=\"anaColName\" style=\"grid-column: span 3\">Users</div><div class=\"anaIndex anaEven\">United States</div><div class=\"anaCell anaEven anaSubcolLeft\"></div><div class=\"anaCell anaEven\">1170</div><div class=\"anaCell anaEven anaSubcolRight\"><div class=\"anaNegative\">(-34.89%)</div></div><div class=\"anaIndex anaOdd\">India</div><div class=\"anaCell anaOdd anaSubcolLeft\"></div><div class=\"anaCell anaOdd\">155</div><div class=\"anaCell anaOdd anaSubcolRight\"><div class=\"anaNegative\">(-20.51%)</div></div><div class=\"anaIndex anaEven\">United Kingdom</div><div class=\"anaCell anaEven anaSubcolLeft\"><div class=\"up\"></div></div><div class=\"anaCell anaEven\">70</div><div class=\"anaCell anaEven anaSubcolRight\"><div class=\"anaPositive\">(+12.90%)</div></div><div class=\"anaIndex anaOdd\">China</div><div class=\"anaCell anaOdd anaSubcolLeft\"><div class=\"up\"></div></div><div class=\"anaCell anaOdd\">60</div><div class=\"anaCell anaOdd anaSubcolRight\"><div class=\"anaPositive\">(+20.00%)</div></div><div class=\"anaIndex anaEven\">France</div><div class=\"anaCell anaEven anaSubcolLeft\"><div class=\"up\"></div></div><div class=\"anaCell anaEven\">50</div><div class=\"anaCell anaEven anaSubcolRight\"><div class=\"anaPositive\">(+38.89%)</div></div><div class=\"anaIndex anaOdd\">Germany</div><div class=\"anaCell anaOdd anaSubcolLeft\"><div class=\"down\"></div></div><div class=\"anaCell anaOdd\">45</div><div class=\"anaCell anaOdd anaSubcolRight\"><div class=\"anaNegative\">(-26.23%)</div></div><div class=\"anaIndex anaEven\">Canada</div><div class=\"anaCell anaEven anaSubcolLeft\"><div class=\"down\"></div></div><div class=\"anaCell anaEven\">41</div><div class=\"anaCell anaEven anaSubcolRight\"><div class=\"anaNegative\">(-24.07%)</div></div><div class=\"anaIndex anaOdd\">Japan</div><div class=\"anaCell anaOdd anaSubcolLeft\"></div><div class=\"anaCell anaOdd\">35</div><div class=\"anaCell anaOdd anaSubcolRight\"><div class=\"anaNegative\">(-22.22%)</div></div><div class=\"anaIndex anaEven\">Australia</div><div class=\"anaCell anaEven anaSubcolLeft\"><div class=\"down\"></div></div><div class=\"anaCell anaEven\">31</div><div class=\"anaCell anaEven anaSubcolRight\"><div class=\"anaNegative\">(-50.79%)</div></div><div class=\"anaIndex anaOdd\">Spain</div><div class=\"anaCell anaOdd anaSubcolLeft\"><div class=\"up\"></div></div><div class=\"anaCell anaOdd\">23</div><div class=\"anaCell anaOdd anaSubcolRight\"><div class=\"anaNegative\">(-11.54%)</div></div><div class=\"anaIndex anaEven\">Russia</div><div class=\"anaCell anaEven anaSubcolLeft\"></div><div class=\"anaCell anaEven\">23</div><div class=\"anaCell anaEven anaSubcolRight\"><div class=\"anaNegative\">(-14.81%)</div></div><div class=\"anaIndex anaOdd\">Brazil</div><div class=\"anaCell anaOdd anaSubcolLeft\"><div class=\"down\"></div></div><div class=\"anaCell anaOdd\">22</div><div class=\"anaCell anaOdd anaSubcolRight\"><div class=\"anaNegative\">(-21.43%)</div></div><div class=\"anaIndex anaEven\">Italy</div><div class=\"anaCell anaEven anaSubcolLeft\"></div><div class=\"anaCell anaEven\">22</div><div class=\"anaCell anaEven anaSubcolRight\"><div class=\"anaNegative\">(-12.00%)</div></div><div class=\"anaIndex anaOdd\">Netherlands</div><div class=\"anaCell anaOdd anaSubcolLeft\"></div><div class=\"anaCell anaOdd\">20</div><div class=\"anaCell anaOdd anaSubcolRight\"><div class=\"anaNegative\">(-16.67%)</div></div><div class=\"anaIndex anaEven\">Singapore</div><div class=\"anaCell anaEven anaSubcolLeft\"><div class=\"up\"></div></div><div class=\"anaCell anaEven\">20</div><div class=\"anaCell anaEven anaSubcolRight\"><div class=\"anaPositive\">(+11.11%)</div></div><div class=\"anaIndex anaOdd\">Poland</div><div class=\"anaCell anaOdd anaSubcolLeft\"><div class=\"down\"></div></div><div class=\"anaCell anaOdd\">19</div><div class=\"anaCell anaOdd anaSubcolRight\"><div class=\"anaNegative\">(-9.52%)</div></div><div class=\"anaIndex anaEven\">Pakistan</div><div class=\"anaCell anaEven anaSubcolLeft\"><div class=\"up\"></div></div><div class=\"anaCell anaEven\">18</div><div class=\"anaCell anaEven anaSubcolRight\"><div class=\"anaPositive\">(+5.88%)</div></div><div class=\"anaIndex anaOdd\">South Korea</div><div class=\"anaCell anaOdd anaSubcolLeft\"><div class=\"down\"></div></div><div class=\"anaCell anaOdd\">18</div><div class=\"anaCell anaOdd anaSubcolRight\"><div class=\"anaZero\">(+0.00%)</div></div><div class=\"anaIndex anaEven\">Taiwan</div><div class=\"anaCell anaEven anaSubcolLeft\"><div class=\"up\"></div></div><div class=\"anaCell anaEven\">14</div><div class=\"anaCell anaEven anaSubcolRight\"><div class=\"anaNegative\">(-6.67%)</div></div><div class=\"anaIndex anaOdd\">Indonesia</div><div class=\"anaCell anaOdd anaSubcolLeft\"><div class=\"down\"></div></div><div class=\"anaCell anaOdd\">13</div><div class=\"anaCell anaOdd anaSubcolRight\"><div class=\"anaNegative\">(-35.00%)</div></div><div class=\"anaIndex anaEven\">Nigeria</div><div class=\"anaCell anaEven anaSubcolLeft\"><div class=\"down\"></div></div><div class=\"anaCell anaEven\">12</div><div class=\"anaCell anaEven anaSubcolRight\"><div class=\"anaNegative\">(-29.41%)</div></div><div class=\"anaIndex anaOdd\">Philippines</div><div class=\"anaCell anaOdd anaSubcolLeft\"><div class=\"down\"></div></div><div class=\"anaCell anaOdd\">11</div><div class=\"anaCell anaOdd anaSubcolRight\"><div class=\"anaNegative\">(-38.89%)</div></div><div class=\"anaIndex anaEven\">Ireland</div><div class=\"anaCell anaEven anaSubcolLeft\"><div class=\"new\"></div></div><div class=\"anaCell anaEven\">10</div><div class=\"anaCell anaEven anaSubcolRight\"></div><div class=\"anaIndex anaOdd\">South Africa</div><div class=\"anaCell anaOdd anaSubcolLeft\"><div class=\"new\"></div></div><div class=\"anaCell anaOdd\">10</div><div class=\"anaCell anaOdd anaSubcolRight\"></div><div class=\"anaIndex anaEven\">Belgium</div><div class=\"anaCell anaEven anaSubcolLeft\"><div class=\"new\"></div></div><div class=\"anaCell anaEven\">9</div><div class=\"anaCell anaEven anaSubcolRight\"></div><div class=\"anaIndex anaOdd\">Switzerland</div><div class=\"anaCell anaOdd anaSubcolLeft\"><div class=\"down\"></div></div><div class=\"anaCell anaOdd\">8</div><div class=\"anaCell anaOdd anaSubcolRight\"><div class=\"anaNegative\">(-42.86%)</div></div><div class=\"anaIndex anaEven\">Israel</div><div class=\"anaCell anaEven anaSubcolLeft\"><div class=\"down\"></div></div><div class=\"anaCell anaEven\">8</div><div class=\"anaCell anaEven anaSubcolRight\"><div class=\"anaNegative\">(-46.67%)</div></div><div class=\"anaIndex anaOdd\">Turkey</div><div class=\"anaCell anaOdd anaSubcolLeft\"><div class=\"new\"></div></div><div class=\"anaCell anaOdd\">8</div><div class=\"anaCell anaOdd anaSubcolRight\"></div><div class=\"anaIndex anaEven\">Hungary</div><div class=\"anaCell anaEven anaSubcolLeft\"><div class=\"new\"></div></div><div class=\"anaCell anaEven\">8</div><div class=\"anaCell anaEven anaSubcolRight\"></div><div class=\"anaIndex anaOdd\">Mexico</div><div class=\"anaCell anaOdd anaSubcolLeft\"><div class=\"new\"></div></div><div class=\"anaCell anaOdd\">8</div><div class=\"anaCell anaOdd anaSubcolRight\"></div></div>"
      ],
      "text/plain": [
       "<IPython.core.display.HTML object>"
      ]
     },
     "metadata": {},
     "output_type": "display_data"
    }
   ],
   "source": [
    "ac.show_difference_table(\"Users\", \"Country\", \"ga:users\",\"ga:country\", **default_params)"
   ]
  },
  {
   "cell_type": "markdown",
   "id": "f4cec2ab",
   "metadata": {},
   "source": [
    "<div style=\"page-break-after: always\"></div>"
   ]
  },
  {
   "cell_type": "markdown",
   "id": "bdc9b340",
   "metadata": {},
   "source": [
    "## Top Pages"
   ]
  },
  {
   "cell_type": "code",
   "execution_count": 16,
   "id": "cde3f2a3",
   "metadata": {
    "tags": [
     "remove-input"
    ]
   },
   "outputs": [
    {
     "data": {
      "text/html": [
       "<div class=\"analyticsTable\" style=\"grid-template-columns: 1fr var(--symbol-width) minmax(var(--value-width), min-content) minmax(var(--percentage-width), min-content)\"><div class=\"anaIndex anaColName\">Page</div><div class=\"anaColName\" style=\"grid-column: span 3\">Page Views</div><div class=\"anaIndex anaEven\"><a href=\"https://anvilproject.org/\">/</a></div><div class=\"anaCell anaEven anaSubcolLeft\"></div><div class=\"anaCell anaEven\">1209</div><div class=\"anaCell anaEven anaSubcolRight\"><div class=\"anaNegative\">(-36.77%)</div></div><div class=\"anaIndex anaOdd\"><a href=\"https://anvilproject.org/data\">/data</a></div><div class=\"anaCell anaOdd anaSubcolLeft\"><div class=\"up\"></div></div><div class=\"anaCell anaOdd\">432</div><div class=\"anaCell anaOdd anaSubcolRight\"><div class=\"anaNegative\">(-17.87%)</div></div><div class=\"anaIndex anaEven\"><a href=\"https://anvilproject.org/overview\">/overview</a></div><div class=\"anaCell anaEven anaSubcolLeft\"><div class=\"up\"></div></div><div class=\"anaCell anaEven\">369</div><div class=\"anaCell anaEven anaSubcolRight\"><div class=\"anaNegative\">(-3.91%)</div></div><div class=\"anaIndex anaOdd\"><a href=\"https://anvilproject.org/learn\">/learn</a></div><div class=\"anaCell anaOdd anaSubcolLeft\"></div><div class=\"anaCell anaOdd\">333</div><div class=\"anaCell anaOdd anaSubcolRight\"><div class=\"anaNegative\">(-26.49%)</div></div><div class=\"anaIndex anaEven\"><a href=\"https://anvilproject.org/learn/account-setup/obtaining-a-google-id\">/learn/account-setup/obtaining-a-google-id</a></div><div class=\"anaCell anaEven anaSubcolLeft\"></div><div class=\"anaCell anaEven\">278</div><div class=\"anaCell anaEven anaSubcolRight\"><div class=\"anaNegative\">(-30.50%)</div></div><div class=\"anaIndex anaOdd\"><a href=\"https://anvilproject.org/ncpi\">/ncpi</a></div><div class=\"anaCell anaOdd anaSubcolLeft\"><div class=\"up\"></div></div><div class=\"anaCell anaOdd\">227</div><div class=\"anaCell anaOdd anaSubcolRight\"><div class=\"anaNegative\">(-22.79%)</div></div><div class=\"anaIndex anaEven\"><a href=\"https://anvilproject.org/learn/billing-setup/creating-a-google-cloud-billing-account\">/learn/billing-setup/creating-a-google-cloud-billing-account</a></div><div class=\"anaCell anaEven anaSubcolLeft\"></div><div class=\"anaCell anaEven\">215</div><div class=\"anaCell anaEven anaSubcolRight\"><div class=\"anaNegative\">(-37.50%)</div></div><div class=\"anaIndex anaOdd\"><a href=\"https://anvilproject.org/learn/reference/gtex-v8-free-egress-instructions\">/learn/reference/gtex-v8-free-egress-instructions</a></div><div class=\"anaCell anaOdd anaSubcolLeft\"><div class=\"up\"></div></div><div class=\"anaCell anaOdd\">146</div><div class=\"anaCell anaOdd anaSubcolRight\"><div class=\"anaNegative\">(-14.12%)</div></div><div class=\"anaIndex anaEven\"><a href=\"https://anvilproject.org/team\">/team</a></div><div class=\"anaCell anaEven anaSubcolLeft\"><div class=\"up\"></div></div><div class=\"anaCell anaEven\">116</div><div class=\"anaCell anaEven anaSubcolRight\"><div class=\"anaNegative\">(-17.73%)</div></div><div class=\"anaIndex anaOdd\"><a href=\"https://anvilproject.org/guides/content/using-images\">/guides/content/using-images</a></div><div class=\"anaCell anaOdd anaSubcolLeft\"><div class=\"up\"></div></div><div class=\"anaCell anaOdd\">88</div><div class=\"anaCell anaOdd anaSubcolRight\"><div class=\"anaPositive\">(+35.38%)</div></div><div class=\"anaIndex anaEven\"><a href=\"https://anvilproject.org/ncpi/data\">/ncpi/data</a></div><div class=\"anaCell anaEven anaSubcolLeft\"><div class=\"up\"></div></div><div class=\"anaCell anaEven\">85</div><div class=\"anaCell anaEven anaSubcolRight\"><div class=\"anaPositive\">(+16.44%)</div></div><div class=\"anaIndex anaOdd\"><a href=\"https://anvilproject.org/events/ncpi2022-spring-workshop-nih-cloud-platforms-interoperability\">/events/ncpi2022-spring-workshop-nih-cloud-platforms-interoperability</a></div><div class=\"anaCell anaOdd anaSubcolLeft\"><div class=\"down\"></div></div><div class=\"anaCell anaOdd\">75</div><div class=\"anaCell anaOdd anaSubcolRight\"><div class=\"anaNegative\">(-91.55%)</div></div><div class=\"anaIndex anaEven\"><a href=\"https://anvilproject.org/faq\">/faq</a></div><div class=\"anaCell anaEven anaSubcolLeft\"><div class=\"up\"></div></div><div class=\"anaCell anaEven\">64</div><div class=\"anaCell anaEven anaSubcolRight\"><div class=\"anaNegative\">(-9.86%)</div></div><div class=\"anaIndex anaOdd\"><a href=\"https://anvilproject.org/guides/content/editing-an-existing-page\">/guides/content/editing-an-existing-page</a></div><div class=\"anaCell anaOdd anaSubcolLeft\"><div class=\"up\"></div></div><div class=\"anaCell anaOdd\">58</div><div class=\"anaCell anaOdd anaSubcolRight\"><div class=\"anaPositive\">(+13.73%)</div></div><div class=\"anaIndex anaEven\"><a href=\"https://anvilproject.org/learn/introduction/intro-to-terra\">/learn/introduction/intro-to-terra</a></div><div class=\"anaCell anaEven anaSubcolLeft\"><div class=\"new\"></div></div><div class=\"anaCell anaEven\">53</div><div class=\"anaCell anaEven anaSubcolRight\"></div><div class=\"anaIndex anaOdd\"><a href=\"https://anvilproject.org/learn/introduction/getting-started-with-gen3\">/learn/introduction/getting-started-with-gen3</a></div><div class=\"anaCell anaOdd anaSubcolLeft\"><div class=\"down\"></div></div><div class=\"anaCell anaOdd\">53</div><div class=\"anaCell anaOdd anaSubcolRight\"><div class=\"anaNegative\">(-36.14%)</div></div><div class=\"anaIndex anaEven\"><a href=\"https://anvilproject.org/overview/data-consortia\">/overview/data-consortia</a></div><div class=\"anaCell anaEven anaSubcolLeft\"><div class=\"up\"></div></div><div class=\"anaCell anaEven\">53</div><div class=\"anaCell anaEven anaSubcolRight\"><div class=\"anaNegative\">(-25.35%)</div></div><div class=\"anaIndex anaOdd\"><a href=\"https://anvilproject.org/learn/data-submitters/submission-guide/set-up-a-data-model\">/learn/data-submitters/submission-guide/set-up-a-data-model</a></div><div class=\"anaCell anaOdd anaSubcolLeft\"><div class=\"up\"></div></div><div class=\"anaCell anaOdd\">49</div><div class=\"anaCell anaOdd anaSubcolRight\"><div class=\"anaNegative\">(-5.77%)</div></div><div class=\"anaIndex anaEven\"><a href=\"https://anvilproject.org/learn/investigators/budget-templates\">/learn/investigators/budget-templates</a></div><div class=\"anaCell anaEven anaSubcolLeft\"><div class=\"up\"></div></div><div class=\"anaCell anaEven\">46</div><div class=\"anaCell anaEven anaSubcolRight\"><div class=\"anaNegative\">(-16.36%)</div></div><div class=\"anaIndex anaOdd\"><a href=\"https://anvilproject.org/help\">/help</a></div><div class=\"anaCell anaOdd anaSubcolLeft\"><div class=\"new\"></div></div><div class=\"anaCell anaOdd\">38</div><div class=\"anaCell anaOdd anaSubcolRight\"></div><div class=\"anaIndex anaEven\"><a href=\"https://anvilproject.org/learn/accessing-data/requesting-data-access\">/learn/accessing-data/requesting-data-access</a></div><div class=\"anaCell anaEven anaSubcolLeft\"><div class=\"down\"></div></div><div class=\"anaCell anaEven\">38</div><div class=\"anaCell anaEven anaSubcolRight\"><div class=\"anaNegative\">(-47.95%)</div></div><div class=\"anaIndex anaOdd\"><a href=\"https://anvilproject.org/events\">/events</a></div><div class=\"anaCell anaOdd anaSubcolLeft\"><div class=\"down\"></div></div><div class=\"anaCell anaOdd\">38</div><div class=\"anaCell anaOdd anaSubcolRight\"><div class=\"anaNegative\">(-47.22%)</div></div><div class=\"anaIndex anaEven\"><a href=\"https://anvilproject.org/learn/data-submitters/submission-guide/data-submitters-overview\">/learn/data-submitters/submission-guide/data-submitters-overview</a></div><div class=\"anaCell anaEven anaSubcolLeft\"><div class=\"down\"></div></div><div class=\"anaCell anaEven\">38</div><div class=\"anaCell anaEven anaSubcolRight\"><div class=\"anaNegative\">(-50.65%)</div></div><div class=\"anaIndex anaOdd\"><a href=\"https://anvilproject.org/learn/interactive-analysis/getting-started-with-galaxy\">/learn/interactive-analysis/getting-started-with-galaxy</a></div><div class=\"anaCell anaOdd anaSubcolLeft\"><div class=\"up\"></div></div><div class=\"anaCell anaOdd\">38</div><div class=\"anaCell anaOdd anaSubcolRight\"><div class=\"anaNegative\">(-20.83%)</div></div><div class=\"anaIndex anaEven\"><a href=\"https://anvilproject.org/faq/data-security\">/faq/data-security</a></div><div class=\"anaCell anaEven anaSubcolLeft\"><div class=\"down\"></div></div><div class=\"anaCell anaEven\">37</div><div class=\"anaCell anaEven anaSubcolRight\"><div class=\"anaNegative\">(-35.09%)</div></div><div class=\"anaIndex anaOdd\"><a href=\"https://anvilproject.org/ncpi/platforms/bdc\">/ncpi/platforms/bdc</a></div><div class=\"anaCell anaOdd anaSubcolLeft\"><div class=\"down\"></div></div><div class=\"anaCell anaOdd\">36</div><div class=\"anaCell anaOdd anaSubcolRight\"><div class=\"anaNegative\">(-45.45%)</div></div><div class=\"anaIndex anaEven\"><a href=\"https://anvilproject.org/learn/data-analysts\">/learn/data-analysts</a></div><div class=\"anaCell anaEven anaSubcolLeft\"><div class=\"down\"></div></div><div class=\"anaCell anaEven\">34</div><div class=\"anaCell anaEven anaSubcolRight\"><div class=\"anaNegative\">(-54.67%)</div></div><div class=\"anaIndex anaOdd\"><a href=\"https://anvilproject.org/learn/introduction/guides-and-tutorials\">/learn/introduction/guides-and-tutorials</a></div><div class=\"anaCell anaOdd anaSubcolLeft\"><div class=\"new\"></div></div><div class=\"anaCell anaOdd\">34</div><div class=\"anaCell anaOdd anaSubcolRight\"></div><div class=\"anaIndex anaEven\"><a href=\"https://anvilproject.org/guides\">/guides</a></div><div class=\"anaCell anaEven anaSubcolLeft\"><div class=\"new\"></div></div><div class=\"anaCell anaEven\">33</div><div class=\"anaCell anaEven anaSubcolRight\"></div><div class=\"anaIndex anaOdd\"><a href=\"https://anvilproject.org/ncpi/progress-updates\">/ncpi/progress-updates</a></div><div class=\"anaCell anaOdd anaSubcolLeft\"><div class=\"down\"></div></div><div class=\"anaCell anaOdd\">32</div><div class=\"anaCell anaOdd anaSubcolRight\"><div class=\"anaNegative\">(-56.16%)</div></div></div>"
      ],
      "text/plain": [
       "<IPython.core.display.HTML object>"
      ]
     },
     "metadata": {},
     "output_type": "display_data"
    }
   ],
   "source": [
    "ac.show_difference_table(\"Page Views\", \"Page\", \"ga:pageviews\", \"ga:pagePath\", **default_params)"
   ]
  },
  {
   "cell_type": "markdown",
   "id": "6e2487a3",
   "metadata": {},
   "source": [
    "<div style=\"page-break-after: always\"></div>"
   ]
  },
  {
   "cell_type": "markdown",
   "id": "a4d13293",
   "metadata": {},
   "source": [
    "## Top Landing Pages"
   ]
  },
  {
   "cell_type": "code",
   "execution_count": 17,
   "id": "614d1d07",
   "metadata": {
    "tags": [
     "remove-input"
    ]
   },
   "outputs": [
    {
     "data": {
      "text/html": [
       "<div class=\"analyticsTable\" style=\"grid-template-columns: 1fr var(--symbol-width) minmax(var(--value-width), min-content) minmax(var(--percentage-width), min-content)\"><div class=\"anaIndex anaColName\">Page</div><div class=\"anaColName\" style=\"grid-column: span 3\">Entrances</div><div class=\"anaIndex anaEven\"><a href=\"https://anvilproject.org/\">/</a></div><div class=\"anaCell anaEven anaSubcolLeft\"></div><div class=\"anaCell anaEven\">901</div><div class=\"anaCell anaEven anaSubcolRight\"><div class=\"anaNegative\">(-28.15%)</div></div><div class=\"anaIndex anaOdd\"><a href=\"https://anvilproject.org/learn/account-setup/obtaining-a-google-id\">/learn/account-setup/obtaining-a-google-id</a></div><div class=\"anaCell anaOdd anaSubcolLeft\"><div class=\"up\"></div></div><div class=\"anaCell anaOdd\">200</div><div class=\"anaCell anaOdd anaSubcolRight\"><div class=\"anaNegative\">(-31.27%)</div></div><div class=\"anaIndex anaEven\"><a href=\"https://anvilproject.org/learn/billing-setup/creating-a-google-cloud-billing-account\">/learn/billing-setup/creating-a-google-cloud-billing-account</a></div><div class=\"anaCell anaEven anaSubcolLeft\"><div class=\"up\"></div></div><div class=\"anaCell anaEven\">146</div><div class=\"anaCell anaEven anaSubcolRight\"><div class=\"anaNegative\">(-42.75%)</div></div><div class=\"anaIndex anaOdd\"><a href=\"https://anvilproject.org/ncpi\">/ncpi</a></div><div class=\"anaCell anaOdd anaSubcolLeft\"><div class=\"up\"></div></div><div class=\"anaCell anaOdd\">142</div><div class=\"anaCell anaOdd anaSubcolRight\"><div class=\"anaPositive\">(+2.16%)</div></div><div class=\"anaIndex anaEven\"><a href=\"https://anvilproject.org/overview\">/overview</a></div><div class=\"anaCell anaEven anaSubcolLeft\"><div class=\"up\"></div></div><div class=\"anaCell anaEven\">132</div><div class=\"anaCell anaEven anaSubcolRight\"><div class=\"anaPositive\">(+33.33%)</div></div><div class=\"anaIndex anaOdd\"><a href=\"https://anvilproject.org/data\">/data</a></div><div class=\"anaCell anaOdd anaSubcolLeft\"></div><div class=\"anaCell anaOdd\">122</div><div class=\"anaCell anaOdd anaSubcolRight\"><div class=\"anaNegative\">(-1.61%)</div></div><div class=\"anaIndex anaEven\"><a href=\"https://anvilproject.org/learn/reference/gtex-v8-free-egress-instructions\">/learn/reference/gtex-v8-free-egress-instructions</a></div><div class=\"anaCell anaEven anaSubcolLeft\"></div><div class=\"anaCell anaEven\">96</div><div class=\"anaCell anaEven anaSubcolRight\"><div class=\"anaNegative\">(-15.79%)</div></div><div class=\"anaIndex anaOdd\"><a href=\"https://anvilproject.org/learn\">/learn</a></div><div class=\"anaCell anaOdd anaSubcolLeft\"><div class=\"up\"></div></div><div class=\"anaCell anaOdd\">80</div><div class=\"anaCell anaOdd anaSubcolRight\"><div class=\"anaNegative\">(-10.11%)</div></div><div class=\"anaIndex anaEven\"><a href=\"https://anvilproject.org/guides/content/using-images\">/guides/content/using-images</a></div><div class=\"anaCell anaEven anaSubcolLeft\"><div class=\"up\"></div></div><div class=\"anaCell anaEven\">64</div><div class=\"anaCell anaEven anaSubcolRight\"><div class=\"anaPositive\">(+28.00%)</div></div><div class=\"anaIndex anaOdd\"><a href=\"https://anvilproject.org/events/ncpi2022-spring-workshop-nih-cloud-platforms-interoperability\">/events/ncpi2022-spring-workshop-nih-cloud-platforms-interoperability</a></div><div class=\"anaCell anaOdd anaSubcolLeft\"><div class=\"down\"></div></div><div class=\"anaCell anaOdd\">49</div><div class=\"anaCell anaOdd anaSubcolRight\"><div class=\"anaNegative\">(-92.80%)</div></div><div class=\"anaIndex anaEven\"><a href=\"https://anvilproject.org/ncpi/data\">/ncpi/data</a></div><div class=\"anaCell anaEven anaSubcolLeft\"><div class=\"new\"></div></div><div class=\"anaCell anaEven\">34</div><div class=\"anaCell anaEven anaSubcolRight\"></div><div class=\"anaIndex anaOdd\"><a href=\"https://anvilproject.org/guides/content/editing-an-existing-page\">/guides/content/editing-an-existing-page</a></div><div class=\"anaCell anaOdd anaSubcolLeft\"><div class=\"up\"></div></div><div class=\"anaCell anaOdd\">32</div><div class=\"anaCell anaOdd anaSubcolRight\"><div class=\"anaPositive\">(+3.23%)</div></div><div class=\"anaIndex anaEven\"><a href=\"https://anvilproject.org/learn/investigators/budget-templates\">/learn/investigators/budget-templates</a></div><div class=\"anaCell anaEven anaSubcolLeft\"><div class=\"up\"></div></div><div class=\"anaCell anaEven\">32</div><div class=\"anaCell anaEven anaSubcolRight\"><div class=\"anaNegative\">(-13.51%)</div></div><div class=\"anaIndex anaOdd\"><a href=\"https://anvilproject.org/team\">/team</a></div><div class=\"anaCell anaOdd anaSubcolLeft\"><div class=\"down\"></div></div><div class=\"anaCell anaOdd\">31</div><div class=\"anaCell anaOdd anaSubcolRight\"><div class=\"anaNegative\">(-18.42%)</div></div><div class=\"anaIndex anaEven\"><a href=\"https://anvilproject.org/learn/data-submitters/submission-guide/set-up-a-data-model\">/learn/data-submitters/submission-guide/set-up-a-data-model</a></div><div class=\"anaCell anaEven anaSubcolLeft\"><div class=\"up\"></div></div><div class=\"anaCell anaEven\">30</div><div class=\"anaCell anaEven anaSubcolRight\"><div class=\"anaPositive\">(+20.00%)</div></div><div class=\"anaIndex anaOdd\"><a href=\"https://anvilproject.org/learn/introduction/getting-started-with-gen3\">/learn/introduction/getting-started-with-gen3</a></div><div class=\"anaCell anaOdd anaSubcolLeft\"><div class=\"down\"></div></div><div class=\"anaCell anaOdd\">26</div><div class=\"anaCell anaOdd anaSubcolRight\"><div class=\"anaNegative\">(-35.00%)</div></div><div class=\"anaIndex anaEven\"><a href=\"https://anvilproject.org/learn/data-submitters/resources/anvil-data-withdrawal-procedures\">/learn/data-submitters/resources/anvil-data-withdrawal-procedures</a></div><div class=\"anaCell anaEven anaSubcolLeft\"><div class=\"new\"></div></div><div class=\"anaCell anaEven\">23</div><div class=\"anaCell anaEven anaSubcolRight\"></div><div class=\"anaIndex anaOdd\"><a href=\"https://anvilproject.org/ncpi/platforms/bdc\">/ncpi/platforms/bdc</a></div><div class=\"anaCell anaOdd anaSubcolLeft\"><div class=\"down\"></div></div><div class=\"anaCell anaOdd\">23</div><div class=\"anaCell anaOdd anaSubcolRight\"><div class=\"anaNegative\">(-50.00%)</div></div><div class=\"anaIndex anaEven\"><a href=\"https://anvilproject.org/faq/data-security\">/faq/data-security</a></div><div class=\"anaCell anaEven anaSubcolLeft\"><div class=\"down\"></div></div><div class=\"anaCell anaEven\">21</div><div class=\"anaCell anaEven anaSubcolRight\"><div class=\"anaNegative\">(-32.26%)</div></div><div class=\"anaIndex anaOdd\"><a href=\"https://anvilproject.org/?atyp=i&amp;ct=slh&amp;cad=&amp;v=t1&amp;ei=3PWLYdXhJuHO5NoP4sGDqA8&amp;pv=0.591963979012571&amp;me=127:1636568544752,V,0,0,0,0:94177,V,0,400,1536,754:2943,e,H&amp;zx=1636568641872\">/?atyp=i&amp;ct=slh&amp;cad=&amp;v=t1&amp;ei=3PWLYdXhJuHO5NoP4sGDqA8&amp;pv=0.591963979012571&amp;me=127:1636568544752,V,0,0,0,0:94177,V,0,400,1536,754:2943,e,H&amp;zx=1636568641872</a></div><div class=\"anaCell anaOdd anaSubcolLeft\"><div class=\"new\"></div></div><div class=\"anaCell anaOdd\">21</div><div class=\"anaCell anaOdd anaSubcolRight\"></div><div class=\"anaIndex anaEven\"><a href=\"https://anvilproject.org/learn/interactive-analysis/getting-started-with-galaxy\">/learn/interactive-analysis/getting-started-with-galaxy</a></div><div class=\"anaCell anaEven anaSubcolLeft\"><div class=\"new\"></div></div><div class=\"anaCell anaEven\">21</div><div class=\"anaCell anaEven anaSubcolRight\"></div><div class=\"anaIndex anaOdd\"><a href=\"https://anvilproject.org/events/ismb2022-biological-data-science\">/events/ismb2022-biological-data-science</a></div><div class=\"anaCell anaOdd anaSubcolLeft\"><div class=\"new\"></div></div><div class=\"anaCell anaOdd\">20</div><div class=\"anaCell anaOdd anaSubcolRight\"></div><div class=\"anaIndex anaEven\"><a href=\"https://anvilproject.org/ncpi/progress-updates\">/ncpi/progress-updates</a></div><div class=\"anaCell anaEven anaSubcolLeft\"><div class=\"down\"></div></div><div class=\"anaCell anaEven\">17</div><div class=\"anaCell anaEven anaSubcolRight\"><div class=\"anaNegative\">(-45.16%)</div></div><div class=\"anaIndex anaOdd\"><a href=\"https://anvilproject.org/help\">/help</a></div><div class=\"anaCell anaOdd anaSubcolLeft\"><div class=\"new\"></div></div><div class=\"anaCell anaOdd\">16</div><div class=\"anaCell anaOdd anaSubcolRight\"></div><div class=\"anaIndex anaEven\"><a href=\"https://anvilproject.org/learn/interactive-analysis/getting-started-with-jupyter-notebooks\">/learn/interactive-analysis/getting-started-with-jupyter-notebooks</a></div><div class=\"anaCell anaEven anaSubcolLeft\"><div class=\"down\"></div></div><div class=\"anaCell anaEven\">16</div><div class=\"anaCell anaEven anaSubcolRight\"><div class=\"anaZero\">(+0.00%)</div></div><div class=\"anaIndex anaOdd\"><a href=\"https://anvilproject.org/learn/data-analysts/single-cell-rnaseq-with-orchestrating-single-cell-analysis-in-r-bioconductor\">/learn/data-analysts/single-cell-rnaseq-with-orchestrating-single-cell-analysis-in-r-bioconductor</a></div><div class=\"anaCell anaOdd anaSubcolLeft\"><div class=\"new\"></div></div><div class=\"anaCell anaOdd\">16</div><div class=\"anaCell anaOdd anaSubcolRight\"></div><div class=\"anaIndex anaEven\"><a href=\"https://anvilproject.org/guides\">/guides</a></div><div class=\"anaCell anaEven anaSubcolLeft\"></div><div class=\"anaCell anaEven\">15</div><div class=\"anaCell anaEven anaSubcolRight\"><div class=\"anaZero\">(+0.00%)</div></div><div class=\"anaIndex anaOdd\"><a href=\"https://anvilproject.org/learn/introduction/intro-to-terra\">/learn/introduction/intro-to-terra</a></div><div class=\"anaCell anaOdd anaSubcolLeft\"><div class=\"new\"></div></div><div class=\"anaCell anaOdd\">14</div><div class=\"anaCell anaOdd anaSubcolRight\"></div><div class=\"anaIndex anaEven\"><a href=\"https://anvilproject.org/learn/data-analysts/running-a-workflow\">/learn/data-analysts/running-a-workflow</a></div><div class=\"anaCell anaEven anaSubcolLeft\"><div class=\"down\"></div></div><div class=\"anaCell anaEven\">14</div><div class=\"anaCell anaEven anaSubcolRight\"><div class=\"anaNegative\">(-33.33%)</div></div><div class=\"anaIndex anaOdd\"><a href=\"https://anvilproject.org/guides/content/events-guide\">/guides/content/events-guide</a></div><div class=\"anaCell anaOdd anaSubcolLeft\"><div class=\"new\"></div></div><div class=\"anaCell anaOdd\">13</div><div class=\"anaCell anaOdd anaSubcolRight\"></div></div>"
      ],
      "text/plain": [
       "<IPython.core.display.HTML object>"
      ]
     },
     "metadata": {},
     "output_type": "display_data"
    }
   ],
   "source": [
    "ac.show_difference_table(\"Entrances\", \"Page\", \"ga:entrances\",\"ga:pagePath\", **default_params)"
   ]
  },
  {
   "cell_type": "markdown",
   "id": "ae2a4531",
   "metadata": {},
   "source": [
    "<div style=\"page-break-after: always\"></div>"
   ]
  },
  {
   "cell_type": "markdown",
   "id": "6ce3b066",
   "metadata": {},
   "source": [
    "## Outbound Links to Terra\n",
    "### Terra Login"
   ]
  },
  {
   "cell_type": "code",
   "execution_count": 18,
   "id": "2ebd18b1",
   "metadata": {
    "tags": [
     "remove-input"
    ]
   },
   "outputs": [
    {
     "data": {
      "text/html": [
       "<div class=\"analyticsTable\" style=\"grid-template-columns: 1fr var(--symbol-width) minmax(var(--value-width), min-content) minmax(var(--percentage-width), min-content)\"><div class=\"anaIndex anaColName\">URL</div><div class=\"anaColName\" style=\"grid-column: span 3\">Count</div><div class=\"anaIndex anaEven\">https://anvil.terra.bio/</div><div class=\"anaCell anaEven anaSubcolLeft\"></div><div class=\"anaCell anaEven\">8</div><div class=\"anaCell anaEven anaSubcolRight\"><div class=\"anaPositive\">(+33.33%)</div></div><div class=\"anaIndex anaOdd\">https://anvil.terra.bio/#workspaces</div><div class=\"anaCell anaOdd anaSubcolLeft\"></div><div class=\"anaCell anaOdd\">7</div><div class=\"anaCell anaOdd anaSubcolRight\"><div class=\"anaPositive\">(+16.67%)</div></div></div>"
      ],
      "text/plain": [
       "<IPython.core.display.HTML object>"
      ]
     },
     "metadata": {},
     "output_type": "display_data"
    }
   ],
   "source": [
    "ac.show_difference_table(\"Count\", \"URL\", \"ga:hits\", \"ga:dimension3\", filters=\"ga:dimension3=~^https://anvil.terra.bio/(?:\\\\#workspaces)?$\", **default_params)"
   ]
  },
  {
   "cell_type": "markdown",
   "id": "7e6d9407",
   "metadata": {},
   "source": [
    "### Terra Workspaces\n",
    "The following Terra workspaces were navigated to from the AnVIL portal."
   ]
  },
  {
   "cell_type": "code",
   "execution_count": 19,
   "id": "f7ce4753",
   "metadata": {
    "tags": [
     "remove-input"
    ]
   },
   "outputs": [
    {
     "data": {
      "text/html": [
       "<div class=\"analyticsTable\" style=\"grid-template-columns: 1fr var(--symbol-width) minmax(var(--value-width), min-content) minmax(var(--percentage-width), min-content)\"><div class=\"anaIndex anaColName\">Workspace</div><div class=\"anaColName\" style=\"grid-column: span 3\">Count</div><div class=\"anaIndex anaEven\">AnVIL_GTEx_V8_hg38</div><div class=\"anaCell anaEven anaSubcolLeft\"></div><div class=\"anaCell anaEven\">6</div><div class=\"anaCell anaEven anaSubcolRight\"><div class=\"anaNegative\">(-66.67%)</div></div><div class=\"anaIndex anaOdd\">AnVIL_GTEx_Somatic_WGS</div><div class=\"anaCell anaOdd anaSubcolLeft\"><div class=\"up\"></div></div><div class=\"anaCell anaOdd\">4</div><div class=\"anaCell anaOdd anaSubcolRight\"><div class=\"anaPositive\">(+100.00%)</div></div><div class=\"anaIndex anaEven\">1000G-high-coverage-2019</div><div class=\"anaCell anaEven anaSubcolLeft\"><div class=\"down\"></div></div><div class=\"anaCell anaEven\">4</div><div class=\"anaCell anaEven anaSubcolRight\"><div class=\"anaNegative\">(-50.00%)</div></div><div class=\"anaIndex anaOdd\">AnVIL_ccdg_asc_ndd_daly_talkowski_AGRE_asd_exome</div><div class=\"anaCell anaOdd anaSubcolLeft\"><div class=\"up\"></div></div><div class=\"anaCell anaOdd\">3</div><div class=\"anaCell anaOdd anaSubcolRight\"><div class=\"anaNegative\">(-25.00%)</div></div><div class=\"anaIndex anaEven\">AnVIL_HPRC</div><div class=\"anaCell anaEven anaSubcolLeft\"><div class=\"up\"></div></div><div class=\"anaCell anaEven\">3</div><div class=\"anaCell anaEven anaSubcolRight\"><div class=\"anaPositive\">(+50.00%)</div></div><div class=\"anaIndex anaOdd\">AnVIL_ccdg_asc_ndd_daly_talkowski_AGRE-FEMF_asd_exome</div><div class=\"anaCell anaOdd anaSubcolLeft\"><div class=\"new\"></div></div><div class=\"anaCell anaOdd\">2</div><div class=\"anaCell anaOdd anaSubcolRight\"></div><div class=\"anaIndex anaEven\">AnVIL_GTEx_public_data</div><div class=\"anaCell anaEven anaSubcolLeft\"><div class=\"up\"></div></div><div class=\"anaCell anaEven\">2</div><div class=\"anaCell anaEven anaSubcolRight\"><div class=\"anaZero\">(+0.00%)</div></div><div class=\"anaIndex anaOdd\">1000 Genomes High Coverage 2019</div><div class=\"anaCell anaOdd anaSubcolLeft\"><div class=\"up\"></div></div><div class=\"anaCell anaOdd\">2</div><div class=\"anaCell anaOdd anaSubcolRight\"><div class=\"anaPositive\">(+100.00%)</div></div><div class=\"anaIndex anaEven\">AnVIL_CCDG_NYGC_NP_Autism_SEARCHLIGHT_DS_WGS</div><div class=\"anaCell anaEven anaSubcolLeft\"><div class=\"new\"></div></div><div class=\"anaCell anaEven\">2</div><div class=\"anaCell anaEven anaSubcolRight\"></div><div class=\"anaIndex anaOdd\">AnVIL_CMG_Yale_HMB-GSO</div><div class=\"anaCell anaOdd anaSubcolLeft\"><div class=\"new\"></div></div><div class=\"anaCell anaOdd\">1</div><div class=\"anaCell anaOdd anaSubcolRight\"></div><div class=\"anaIndex anaEven\">AnVIL_CMH_GAFK_GS-long-read</div><div class=\"anaCell anaEven anaSubcolLeft\"><div class=\"up\"></div></div><div class=\"anaCell anaEven\">1</div><div class=\"anaCell anaEven anaSubcolRight\"><div class=\"anaNegative\">(-50.00%)</div></div><div class=\"anaIndex anaOdd\">AnVIL_CMG_Broad_Orphan_VCGS-White_WES</div><div class=\"anaCell anaOdd anaSubcolLeft\"><div class=\"new\"></div></div><div class=\"anaCell anaOdd\">1</div><div class=\"anaCell anaOdd anaSubcolRight\"></div><div class=\"anaIndex anaEven\">AnVIL_CCDG_WashU_CVD_Corogene_WGS</div><div class=\"anaCell anaEven anaSubcolLeft\"><div class=\"new\"></div></div><div class=\"anaCell anaEven\">1</div><div class=\"anaCell anaEven anaSubcolRight\"></div><div class=\"anaIndex anaOdd\">AnVIL_CCDG_Broad_CVD_AFib_Penn_WGS</div><div class=\"anaCell anaOdd anaSubcolLeft\"><div class=\"new\"></div></div><div class=\"anaCell anaOdd\">1</div><div class=\"anaCell anaOdd anaSubcolRight\"></div><div class=\"anaIndex anaEven\">AnVIL_HPRC workspace</div><div class=\"anaCell anaEven anaSubcolLeft\"><div class=\"up\"></div></div><div class=\"anaCell anaEven\">1</div><div class=\"anaCell anaEven anaSubcolRight\"><div class=\"anaZero\">(+0.00%)</div></div><div class=\"anaIndex anaOdd\">AnVIL_NIMH_CIRM_FCDI_ConvergentNeuro_McCarroll_Eggan_GRU_Arrays</div><div class=\"anaCell anaOdd anaSubcolLeft\"><div class=\"new\"></div></div><div class=\"anaCell anaOdd\">1</div><div class=\"anaCell anaOdd anaSubcolRight\"></div><div class=\"anaIndex anaEven\">AnVIL_CCDG_Broad_AI_IBD_Kugathasan_WGS</div><div class=\"anaCell anaEven anaSubcolLeft\"><div class=\"new\"></div></div><div class=\"anaCell anaEven\">1</div><div class=\"anaCell anaEven anaSubcolRight\"></div><div class=\"anaIndex anaOdd\">AnVIL_CCDG_Baylor_CVD_HemStroke_GOCHA_DS_WGS</div><div class=\"anaCell anaOdd anaSubcolLeft\"><div class=\"new\"></div></div><div class=\"anaCell anaOdd\">1</div><div class=\"anaCell anaOdd anaSubcolRight\"></div><div class=\"anaIndex anaEven\">AnVIL_ccdg_asc_ndd_daly_talkowski_kolevzon_asd_wgs</div><div class=\"anaCell anaEven anaSubcolLeft\"><div class=\"new\"></div></div><div class=\"anaCell anaEven\">1</div><div class=\"anaCell anaEven anaSubcolRight\"></div><div class=\"anaIndex anaOdd\">GATK Best Practices for Germline SNPs &amp; Indels</div><div class=\"anaCell anaOdd anaSubcolLeft\"><div class=\"new\"></div></div><div class=\"anaCell anaOdd\">1</div><div class=\"anaCell anaOdd anaSubcolRight\"></div><div class=\"anaIndex anaEven\">GWAS Pipeline Using Hail</div><div class=\"anaCell anaEven anaSubcolLeft\"><div class=\"new\"></div></div><div class=\"anaCell anaEven\">1</div><div class=\"anaCell anaEven anaSubcolRight\"></div><div class=\"anaIndex anaOdd\">Workspace</div><div class=\"anaCell anaOdd anaSubcolLeft\"><div class=\"new\"></div></div><div class=\"anaCell anaOdd\">1</div><div class=\"anaCell anaOdd anaSubcolRight\"></div><div class=\"anaIndex anaEven\">inferCNV Tumor Single-Cell RNA-Seq Analysis Pipeline</div><div class=\"anaCell anaEven anaSubcolLeft\"><div class=\"new\"></div></div><div class=\"anaCell anaEven\">1</div><div class=\"anaCell anaEven anaSubcolRight\"></div></div>"
      ],
      "text/plain": [
       "<IPython.core.display.HTML object>"
      ]
     },
     "metadata": {},
     "output_type": "display_data"
    }
   ],
   "source": [
    "ac.show_difference_table(\"Count\", \"Workspace\", \"ga:hits\", \"ga:eventLabel\", filters=\"ga:eventCategory==External Link;ga:dimension1==Workspace\", **default_params)"
   ]
  },
  {
   "cell_type": "markdown",
   "id": "0592b63a",
   "metadata": {},
   "source": [
    "<div style=\"page-break-after: always\"></div>"
   ]
  },
  {
   "cell_type": "markdown",
   "id": "ad319d17",
   "metadata": {},
   "source": [
    "## Outbound Links to dbGap\n",
    "### Top Studies"
   ]
  },
  {
   "cell_type": "code",
   "execution_count": 20,
   "id": "5df94974",
   "metadata": {
    "tags": [
     "remove-input"
    ]
   },
   "outputs": [
    {
     "data": {
      "text/html": [
       "<div class=\"analyticsTable\" style=\"grid-template-columns: 1fr var(--symbol-width) minmax(var(--value-width), min-content) minmax(var(--percentage-width), min-content)\"><div class=\"anaIndex anaColName\">Study ID</div><div class=\"anaColName\" style=\"grid-column: span 3\">Count</div><div class=\"anaIndex anaEven\">phs001746</div><div class=\"anaCell anaEven anaSubcolLeft\"><div class=\"up\"></div></div><div class=\"anaCell anaEven\">5</div><div class=\"anaCell anaEven anaSubcolRight\"><div class=\"anaPositive\">(+400.00%)</div></div><div class=\"anaIndex anaOdd\">phs000298</div><div class=\"anaCell anaOdd anaSubcolLeft\"><div class=\"up\"></div></div><div class=\"anaCell anaOdd\">3</div><div class=\"anaCell anaOdd anaSubcolRight\"><div class=\"anaPositive\">(+50.00%)</div></div><div class=\"anaIndex anaEven\">phs001766</div><div class=\"anaCell anaEven anaSubcolLeft\"><div class=\"up\"></div></div><div class=\"anaCell anaEven\">2</div><div class=\"anaCell anaEven anaSubcolRight\"><div class=\"anaZero\">(+0.00%)</div></div><div class=\"anaIndex anaOdd\">phs000744</div><div class=\"anaCell anaOdd anaSubcolLeft\"><div class=\"new\"></div></div><div class=\"anaCell anaOdd\">1</div><div class=\"anaCell anaOdd anaSubcolRight\"></div></div>"
      ],
      "text/plain": [
       "<IPython.core.display.HTML object>"
      ]
     },
     "metadata": {},
     "output_type": "display_data"
    }
   ],
   "source": [
    "ac.show_difference_table(\"Count\", \"Study ID\", \"ga:hits\", \"ga:eventLabel\", filters=\"ga:dimension1==Study;ga:eventLabel=~^phs\", **default_params)"
   ]
  },
  {
   "cell_type": "markdown",
   "id": "c59d9834",
   "metadata": {
    "tags": [
     "remove-cell"
    ]
   },
   "source": [
    "## Outbound Links to Dockstore\n",
    "### Links to Dockstore Organization Page"
   ]
  },
  {
   "cell_type": "code",
   "execution_count": 21,
   "id": "a917723f",
   "metadata": {
    "tags": [
     "remove-input",
     "remove-cell"
    ]
   },
   "outputs": [
    {
     "data": {
      "text/html": [
       "<div class=\"analyticsTable\" style=\"grid-template-columns: 1fr var(--symbol-width) minmax(var(--value-width), min-content) minmax(var(--percentage-width), min-content)\"><div class=\"anaIndex anaColName\">URL</div><div class=\"anaColName\" style=\"grid-column: span 3\">Count</div></div>"
      ],
      "text/plain": [
       "<IPython.core.display.HTML object>"
      ]
     },
     "metadata": {},
     "output_type": "display_data"
    }
   ],
   "source": [
    "ac.show_difference_table(\"Count\", \"URL\", \"ga:hits\", \"ga:eventLabel\", filters=\"ga:eventCategory==External Link;ga:dimension3==https://dockstore.org/organizations/anvil\", **default_params)"
   ]
  },
  {
   "cell_type": "markdown",
   "id": "0f10931e",
   "metadata": {
    "tags": [
     "remove-cell"
    ]
   },
   "source": [
    "### Top References"
   ]
  },
  {
   "cell_type": "code",
   "execution_count": 22,
   "id": "080d2462",
   "metadata": {
    "tags": [
     "remove-input",
     "remove-cell"
    ]
   },
   "outputs": [
    {
     "data": {
      "text/html": [
       "<div class=\"analyticsTable\" style=\"grid-template-columns: 1fr var(--symbol-width) minmax(var(--value-width), min-content) minmax(var(--percentage-width), min-content)\"><div class=\"anaIndex anaColName\">URL</div><div class=\"anaColName\" style=\"grid-column: span 3\">Count</div></div>"
      ],
      "text/plain": [
       "<IPython.core.display.HTML object>"
      ]
     },
     "metadata": {},
     "output_type": "display_data"
    }
   ],
   "source": [
    "ac.show_difference_table(\"Count\", \"URL\", \"ga:hits\", \"ga:eventLabel\", filters=\"ga:eventCategory==External Link;ga:dimension1==Reference;ga:dimension2==Dockstore\", **default_params)"
   ]
  },
  {
   "cell_type": "markdown",
   "id": "6d12a5fb",
   "metadata": {
    "tags": [
     "remove-cell"
    ]
   },
   "source": [
    "## Outbound Links to Gen3\n",
    "### Links to Gen3 Data Browser"
   ]
  },
  {
   "cell_type": "code",
   "execution_count": 23,
   "id": "099853c6",
   "metadata": {
    "tags": [
     "remove-input",
     "remove-cell"
    ]
   },
   "outputs": [
    {
     "data": {
      "text/html": [
       "<div class=\"analyticsTable\" style=\"grid-template-columns: 1fr var(--symbol-width) minmax(var(--value-width), min-content) minmax(var(--percentage-width), min-content)\"><div class=\"anaIndex anaColName\">URL</div><div class=\"anaColName\" style=\"grid-column: span 3\">Count</div></div>"
      ],
      "text/plain": [
       "<IPython.core.display.HTML object>"
      ]
     },
     "metadata": {},
     "output_type": "display_data"
    }
   ],
   "source": [
    "ac.show_difference_table(\"Count\", \"URL\", \"ga:hits\", \"ga:dimension3\", filters=\"ga:eventCategory==External Link;ga:dimension3==https://gen3.theanvil.io/\", **default_params)"
   ]
  },
  {
   "cell_type": "markdown",
   "id": "3bc4f689",
   "metadata": {},
   "source": [
    "## Outbound Links to Tools"
   ]
  },
  {
   "cell_type": "code",
   "execution_count": 24,
   "id": "5264ac7c",
   "metadata": {
    "tags": [
     "remove-input"
    ]
   },
   "outputs": [
    {
     "data": {
      "text/html": [
       "<div class=\"analyticsTable\" style=\"grid-template-columns: 1fr var(--symbol-width) minmax(var(--value-width), min-content) minmax(var(--percentage-width), min-content)\"><div class=\"anaIndex anaColName\">Tool</div><div class=\"anaColName\" style=\"grid-column: span 3\">Count</div><div class=\"anaIndex anaEven\">Bioconductor</div><div class=\"anaCell anaEven anaSubcolLeft\"><div class=\"up\"></div></div><div class=\"anaCell anaEven\">1</div><div class=\"anaCell anaEven anaSubcolRight\"><div class=\"anaZero\">(+0.00%)</div></div><div class=\"anaIndex anaOdd\">Jupyter</div><div class=\"anaCell anaOdd anaSubcolLeft\"></div><div class=\"anaCell anaOdd\">1</div><div class=\"anaCell anaOdd anaSubcolRight\"><div class=\"anaNegative\">(-50.00%)</div></div><div class=\"anaIndex anaEven\">R Studio</div><div class=\"anaCell anaEven anaSubcolLeft\"><div class=\"new\"></div></div><div class=\"anaCell anaEven\">1</div><div class=\"anaCell anaEven anaSubcolRight\"></div><div class=\"anaIndex anaOdd\">WDL</div><div class=\"anaCell anaOdd anaSubcolLeft\"><div class=\"up\"></div></div><div class=\"anaCell anaOdd\">1</div><div class=\"anaCell anaOdd anaSubcolRight\"><div class=\"anaZero\">(+0.00%)</div></div></div>"
      ],
      "text/plain": [
       "<IPython.core.display.HTML object>"
      ]
     },
     "metadata": {},
     "output_type": "display_data"
    }
   ],
   "source": [
    "ac.show_difference_table(\"Count\", \"Tool\", \"ga:hits\", \"ga:eventLabel\", filters=\"ga:eventCategory==External Link;ga:dimension1==Tool\", **default_params)"
   ]
  },
  {
   "cell_type": "markdown",
   "id": "8e77bb04",
   "metadata": {},
   "source": [
    "## Outbound Links to General Resources (NIH/NHGRI)"
   ]
  },
  {
   "cell_type": "code",
   "execution_count": 25,
   "id": "1bd2ce95",
   "metadata": {
    "tags": [
     "remove-input"
    ]
   },
   "outputs": [
    {
     "data": {
      "text/html": [
       "<div class=\"analyticsTable\" style=\"grid-template-columns: repeat(1, auto) 1fr var(--symbol-width) minmax(var(--value-width), min-content) minmax(var(--percentage-width), min-content)\"><div class=\"anaIndex anaColName\">NIH/NHGRI</div><div class=\"anaIndex anaColName\">URL</div><div class=\"anaColName\" style=\"grid-column: span 3\">Count</div><div class=\"anaIndex anaEven\">NHGRI</div><div class=\"anaIndex anaEven\">https://www.genome.gov/Funded-Programs-Projects/Computational-Genomics-and-Data-Science-Program/Genomic-Analysis-Visualization-Informatics-Lab-space-AnVIL#externalconsultantcommittee</div><div class=\"anaCell anaEven anaSubcolLeft\"></div><div class=\"anaCell anaEven\">4</div><div class=\"anaCell anaEven anaSubcolRight\"><div class=\"anaNegative\">(-20.00%)</div></div><div class=\"anaIndex anaOdd\">NHGRI</div><div class=\"anaIndex anaOdd\">https://www.genome.gov/Funded-Programs-Projects/Computational-Genomics-and-Data-Science-Program/Genomic-Analysis-Visualization-Informatics-Lab-space-AnVIL</div><div class=\"anaCell anaOdd anaSubcolLeft\"></div><div class=\"anaCell anaOdd\">2</div><div class=\"anaCell anaOdd anaSubcolRight\"><div class=\"anaZero\">(+0.00%)</div></div><div class=\"anaIndex anaEven\">NIH</div><div class=\"anaIndex anaEven\">https://projectreporter.nih.gov/project_info_description.cfm?aid=9789931&amp;icde=46222940&amp;ddparam=&amp;ddvalue=&amp;ddsub=&amp;cr=2&amp;csb=default&amp;cs=ASC&amp;pball=</div><div class=\"anaCell anaEven anaSubcolLeft\"><div class=\"up\"></div></div><div class=\"anaCell anaEven\">2</div><div class=\"anaCell anaEven anaSubcolRight\"><div class=\"anaPositive\">(+100.00%)</div></div><div class=\"anaIndex anaOdd\">NIH</div><div class=\"anaIndex anaOdd\">https://datascience.nih.gov/strides</div><div class=\"anaCell anaOdd anaSubcolLeft\"></div><div class=\"anaCell anaOdd\">1</div><div class=\"anaCell anaOdd anaSubcolRight\"><div class=\"anaNegative\">(-50.00%)</div></div><div class=\"anaIndex anaEven\">NIH</div><div class=\"anaIndex anaEven\">https://osp.od.nih.gov/wp-content/uploads/NIH_GDS_Policy.pdf</div><div class=\"anaCell anaEven anaSubcolLeft\"><div class=\"new\"></div></div><div class=\"anaCell anaEven\">1</div><div class=\"anaCell anaEven anaSubcolRight\"></div></div>"
      ],
      "text/plain": [
       "<IPython.core.display.HTML object>"
      ]
     },
     "metadata": {},
     "output_type": "display_data"
    }
   ],
   "source": [
    "ac.show_difference_table(\"Count\", [\"NIH/NHGRI\", \"URL\"], \"ga:hits\", [\"ga:dimension2\", \"ga:dimension3\"], filters=\"ga:eventCategory==External Link;ga:dimension1==Reference;ga:dimension2=~NIH|NHGRI\", **default_params)"
   ]
  },
  {
   "cell_type": "markdown",
   "id": "f864a416",
   "metadata": {},
   "source": [
    "## Outbound Links to Data Consortia"
   ]
  },
  {
   "cell_type": "code",
   "execution_count": 26,
   "id": "9437ad49",
   "metadata": {
    "tags": [
     "remove-input"
    ]
   },
   "outputs": [
    {
     "data": {
      "text/html": [
       "<div class=\"analyticsTable\" style=\"grid-template-columns: 1fr var(--symbol-width) minmax(var(--value-width), min-content) minmax(var(--percentage-width), min-content)\"><div class=\"anaIndex anaColName\">Consortia</div><div class=\"anaColName\" style=\"grid-column: span 3\">Count</div><div class=\"anaIndex anaEven\">CCDG</div><div class=\"anaCell anaEven anaSubcolLeft\"><div class=\"up\"></div></div><div class=\"anaCell anaEven\">11</div><div class=\"anaCell anaEven anaSubcolRight\"><div class=\"anaPositive\">(+37.50%)</div></div><div class=\"anaIndex anaOdd\">1000 Genomes</div><div class=\"anaCell anaOdd anaSubcolLeft\"><div class=\"down\"></div></div><div class=\"anaCell anaOdd\">5</div><div class=\"anaCell anaOdd anaSubcolRight\"><div class=\"anaNegative\">(-61.54%)</div></div><div class=\"anaIndex anaEven\">CMG</div><div class=\"anaCell anaEven anaSubcolLeft\"><div class=\"up\"></div></div><div class=\"anaCell anaEven\">4</div><div class=\"anaCell anaEven anaSubcolRight\"><div class=\"anaZero\">(+0.00%)</div></div></div>"
      ],
      "text/plain": [
       "<IPython.core.display.HTML object>"
      ]
     },
     "metadata": {},
     "output_type": "display_data"
    }
   ],
   "source": [
    "ac.show_difference_table(\"Count\", \"Consortia\", \"ga:hits\", \"ga:eventLabel\", filters=\"ga:eventCategory==External Link;ga:dimension1==Data Consortium\", **default_params)"
   ]
  },
  {
   "cell_type": "markdown",
   "id": "9432d147",
   "metadata": {},
   "source": [
    "<div style=\"page-break-after: always\"></div>"
   ]
  },
  {
   "cell_type": "markdown",
   "id": "820f3460",
   "metadata": {},
   "source": [
    "## Videos\n",
    "### Monthly Video Views (All Time)"
   ]
  },
  {
   "cell_type": "code",
   "execution_count": 4,
   "id": "67193d27",
   "metadata": {
    "scrolled": false,
    "tags": [
     "remove-input"
    ]
   },
   "outputs": [
    {
     "data": {
      "image/png": "[encoded data removed]",
      "text/plain": [
       "<Figure size 1152x648 with 1 Axes>"
      ]
     },
     "metadata": {
      "needs_background": "light"
     },
     "output_type": "display_data"
    }
   ],
   "source": [
    "yt_over_time_table = anvil.plot_yt_over_time(start_date=ANALYTICS_START, end_date=pd.Timestamp.now().isoformat()[:10], **default_params_yt)"
   ]
  },
  {
   "cell_type": "code",
   "execution_count": 5,
   "id": "811169be",
   "metadata": {
    "tags": [
     "remove-input"
    ]
   },
   "outputs": [
    {
     "data": {
      "text/html": [
       "<div class=\"analyticsTable\" style=\"grid-template-columns: repeat(1, auto) 1fr minmax(var(--value-width), min-content) minmax(var(--percentage-width), min-content)\"><div class=\"anaIndex anaColName\">Year</div><div class=\"anaIndex anaColName\">Month</div><div class=\"anaColName\" style=\"grid-column: span 2\">Views</div><div class=\"anaIndex anaEven\" style=\"grid-row: span 9\">2022</div><div class=\"anaIndex anaEven\" style=\"grid-row: span 1\">September</div><div class=\"anaCell anaEven anaSubcolLeft\">62</div><div class=\"anaCell anaEven anaSubcolRight\"><div class=\"anaNegative\">(-50.40%)</div></div><div class=\"anaIndex anaOdd\" style=\"grid-row: span 1\">August</div><div class=\"anaCell anaOdd anaSubcolLeft\">125</div><div class=\"anaCell anaOdd anaSubcolRight\"><div class=\"anaNegative\">(-31.32%)</div></div><div class=\"anaIndex anaEven\" style=\"grid-row: span 1\">July</div><div class=\"anaCell anaEven anaSubcolLeft\">182</div><div class=\"anaCell anaEven anaSubcolRight\"><div class=\"anaNegative\">(-33.33%)</div></div><div class=\"anaIndex anaOdd\" style=\"grid-row: span 1\">June</div><div class=\"anaCell anaOdd anaSubcolLeft\">273</div><div class=\"anaCell anaOdd anaSubcolRight\"><div class=\"anaPositive\">(+19.21%)</div></div><div class=\"anaIndex anaEven\" style=\"grid-row: span 1\">May</div><div class=\"anaCell anaEven anaSubcolLeft\">229</div><div class=\"anaCell anaEven anaSubcolRight\"><div class=\"anaPositive\">(+89.26%)</div></div><div class=\"anaIndex anaOdd\" style=\"grid-row: span 1\">April</div><div class=\"anaCell anaOdd anaSubcolLeft\">121</div><div class=\"anaCell anaOdd anaSubcolRight\"><div class=\"anaPositive\">(+22.22%)</div></div><div class=\"anaIndex anaEven\" style=\"grid-row: span 1\">March</div><div class=\"anaCell anaEven anaSubcolLeft\">99</div><div class=\"anaCell anaEven anaSubcolRight\"><div class=\"anaNegative\">(-50.99%)</div></div><div class=\"anaIndex anaOdd\" style=\"grid-row: span 1\">February</div><div class=\"anaCell anaOdd anaSubcolLeft\">202</div><div class=\"anaCell anaOdd anaSubcolRight\"><div class=\"anaPositive\">(+27.04%)</div></div><div class=\"anaIndex anaEven\" style=\"grid-row: span 1\">January</div><div class=\"anaCell anaEven anaSubcolLeft\">159</div><div class=\"anaCell anaEven anaSubcolRight\"><div class=\"anaPositive\">(+536.00%)</div></div><div class=\"anaIndex anaOdd\" style=\"grid-row: span 12\">2021</div><div class=\"anaIndex anaOdd\" style=\"grid-row: span 1\">December</div><div class=\"anaCell anaOdd anaSubcolLeft\">25</div><div class=\"anaCell anaOdd anaSubcolRight\"><div class=\"anaPositive\">(+38.89%)</div></div><div class=\"anaIndex anaEven\" style=\"grid-row: span 1\">November</div><div class=\"anaCell anaEven anaSubcolLeft\">18</div><div class=\"anaCell anaEven anaSubcolRight\"><div class=\"anaNegative\">(-14.29%)</div></div><div class=\"anaIndex anaOdd\" style=\"grid-row: span 1\">October</div><div class=\"anaCell anaOdd anaSubcolLeft\">21</div><div class=\"anaCell anaOdd anaSubcolRight\"><div class=\"anaNegative\">(-27.59%)</div></div><div class=\"anaIndex anaEven\" style=\"grid-row: span 1\">September</div><div class=\"anaCell anaEven anaSubcolLeft\">29</div><div class=\"anaCell anaEven anaSubcolRight\"><div class=\"anaNegative\">(-25.64%)</div></div><div class=\"anaIndex anaOdd\" style=\"grid-row: span 1\">August</div><div class=\"anaCell anaOdd anaSubcolLeft\">39</div><div class=\"anaCell anaOdd anaSubcolRight\"><div class=\"anaPositive\">(+105.26%)</div></div><div class=\"anaIndex anaEven\" style=\"grid-row: span 1\">July</div><div class=\"anaCell anaEven anaSubcolLeft\">19</div><div class=\"anaCell anaEven anaSubcolRight\"><div class=\"anaPositive\">(+26.67%)</div></div><div class=\"anaIndex anaOdd\" style=\"grid-row: span 1\">June</div><div class=\"anaCell anaOdd anaSubcolLeft\">15</div><div class=\"anaCell anaOdd anaSubcolRight\"><div class=\"anaNegative\">(-11.76%)</div></div><div class=\"anaIndex anaEven\" style=\"grid-row: span 1\">May</div><div class=\"anaCell anaEven anaSubcolLeft\">17</div><div class=\"anaCell anaEven anaSubcolRight\"><div class=\"anaNegative\">(-37.04%)</div></div><div class=\"anaIndex anaOdd\" style=\"grid-row: span 1\">April</div><div class=\"anaCell anaOdd anaSubcolLeft\">27</div><div class=\"anaCell anaOdd anaSubcolRight\"><div class=\"anaPositive\">(+3.85%)</div></div><div class=\"anaIndex anaEven\" style=\"grid-row: span 1\">March</div><div class=\"anaCell anaEven anaSubcolLeft\">26</div><div class=\"anaCell anaEven anaSubcolRight\"><div class=\"anaNegative\">(-62.32%)</div></div><div class=\"anaIndex anaOdd\" style=\"grid-row: span 1\">February</div><div class=\"anaCell anaOdd anaSubcolLeft\">69</div><div class=\"anaCell anaOdd anaSubcolRight\"><div class=\"anaPositive\">(+176.00%)</div></div><div class=\"anaIndex anaEven\" style=\"grid-row: span 1\">January</div><div class=\"anaCell anaEven anaSubcolLeft\">25</div><div class=\"anaCell anaEven anaSubcolRight\"><div class=\"anaNegative\">(-64.29%)</div></div><div class=\"anaIndex anaOdd\" style=\"grid-row: span 5\">2020</div><div class=\"anaIndex anaOdd\" style=\"grid-row: span 1\">December</div><div class=\"anaCell anaOdd anaSubcolLeft\">70</div><div class=\"anaCell anaOdd anaSubcolRight\"><div class=\"anaPositive\">(+775.00%)</div></div><div class=\"anaIndex anaEven\" style=\"grid-row: span 1\">November</div><div class=\"anaCell anaEven anaSubcolLeft\">8</div><div class=\"anaCell anaEven anaSubcolRight\"><div class=\"anaNegative\">(-75.00%)</div></div><div class=\"anaIndex anaOdd\" style=\"grid-row: span 1\">October</div><div class=\"anaCell anaOdd anaSubcolLeft\">32</div><div class=\"anaCell anaOdd anaSubcolRight\"><div class=\"anaNegative\">(-25.58%)</div></div><div class=\"anaIndex anaEven\" style=\"grid-row: span 1\">September</div><div class=\"anaCell anaEven anaSubcolLeft\">43</div><div class=\"anaCell anaEven anaSubcolRight\"><div class=\"anaPositive\">(+86.96%)</div></div><div class=\"anaIndex anaOdd\" style=\"grid-row: span 1\">August</div><div class=\"anaCell anaOdd anaSubcolLeft\">23</div><div class=\"anaCell anaOdd anaSubcolRight\"></div></div>"
      ],
      "text/plain": [
       "<IPython.core.display.HTML object>"
      ]
     },
     "metadata": {},
     "output_type": "display_data"
    }
   ],
   "source": [
    "display(yt_over_time_table)"
   ]
  },
  {
   "cell_type": "markdown",
   "id": "07aa790c",
   "metadata": {},
   "source": [
    "<div style=\"page-break-after: always\"></div>"
   ]
  },
  {
   "cell_type": "markdown",
   "id": "2baf99a9",
   "metadata": {},
   "source": [
    "### Video Statistics"
   ]
  },
  {
   "cell_type": "code",
   "execution_count": 60,
   "id": "fdbb0e52",
   "metadata": {
    "scrolled": false,
    "tags": [
     "remove-input"
    ]
   },
   "outputs": [
    {
     "data": {
      "text/html": [
       "<div class=\"analyticsTable\" style=\"grid-template-columns: 1fr var(--symbol-width) minmax(var(--value-width), min-content) minmax(var(--percentage-width), min-content) minmax(4.3em, min-content) minmax(var(--value-width), min-content) 3.8em minmax(var(--percentage-width), min-content) minmax(5.8em, min-content)\"><div class=\"anaIndex anaColName\">Video</div><div class=\"anaColName\" style=\"grid-column: span 3\">Views</div><div class=\"anaColName\" style=\"grid-column: span 1\">All-time views</div><div class=\"anaColName\" style=\"grid-column: span 3\">Average watch time (minutes)</div><div class=\"anaColName\" style=\"grid-column: span 1\">Video duration</div><div class=\"anaIndex anaEven\"><a href=\"https://www.youtube.com/watch?v=8pqPhmDOm6k\">Introduction to the Human Pangenome Reference</a></div><div class=\"anaCell anaEven anaSubcolLeft\"><div class=\"up\"></div></div><div class=\"anaCell anaEven\">18</div><div class=\"anaCell anaEven anaSubcolRight\"><div class=\"anaNegative\">(-25.00%)</div></div><div class=\"anaCell anaEven anaSubcolLeft\"><div style=\"text-align: center\">234</div></div><div class=\"anaCell anaEven anaSubcolLeft\">3.72</div><div class=\"anaCell anaEven\"><div style=\"color: darkgray\">27.88%</div></div><div class=\"anaCell anaEven anaSubcolRight\"><div class=\"anaPositive\">(+31.95%)</div></div><div class=\"anaCell anaEven anaSubcolLeft\"><div style=\"text-align: center\">00:13:21</div></div><div class=\"anaIndex anaOdd\"><a href=\"https://www.youtube.com/watch?v=T5xCxFHGpPE\">Starting Jupyter on the AnVIL Platform</a></div><div class=\"anaCell anaOdd anaSubcolLeft\"><div class=\"up\"></div></div><div class=\"anaCell anaOdd\">16</div><div class=\"anaCell anaOdd anaSubcolRight\"><div class=\"anaPositive\">(+60.00%)</div></div><div class=\"anaCell anaOdd anaSubcolLeft\"><div style=\"text-align: center\">63</div></div><div class=\"anaCell anaOdd anaSubcolLeft\">0.95</div><div class=\"anaCell anaOdd\"><div style=\"color: darkgray\">19.96%</div></div><div class=\"anaCell anaOdd anaSubcolRight\"><div class=\"anaNegative\">(-47.71%)</div></div><div class=\"anaCell anaOdd anaSubcolLeft\"><div style=\"text-align: center\">00:04:47</div></div><div class=\"anaIndex anaEven\"><a href=\"https://www.youtube.com/watch?v=1i5TxvESmNY\">Calling Variants with a Pangenome in AnVIL</a></div><div class=\"anaCell anaEven anaSubcolLeft\"><div class=\"up\"></div></div><div class=\"anaCell anaEven\">15</div><div class=\"anaCell anaEven anaSubcolRight\"><div class=\"anaPositive\">(+15.38%)</div></div><div class=\"anaCell anaEven anaSubcolLeft\"><div style=\"text-align: center\">130</div></div><div class=\"anaCell anaEven anaSubcolLeft\">3.38</div><div class=\"anaCell anaEven\"><div style=\"color: darkgray\">20.10%</div></div><div class=\"anaCell anaEven anaSubcolRight\"><div class=\"anaPositive\">(+10.33%)</div></div><div class=\"anaCell anaEven anaSubcolLeft\"><div style=\"text-align: center\">00:16:54</div></div><div class=\"anaIndex anaOdd\"><a href=\"https://www.youtube.com/watch?v=fxXGvfIr4dY\">Introduction to Genomic Workflows from HPRC</a></div><div class=\"anaCell anaOdd anaSubcolLeft\"><div class=\"up\"></div></div><div class=\"anaCell anaOdd\">9</div><div class=\"anaCell anaOdd anaSubcolRight\"><div class=\"anaPositive\">(+80.00%)</div></div><div class=\"anaCell anaOdd anaSubcolLeft\"><div style=\"text-align: center\">153</div></div><div class=\"anaCell anaOdd anaSubcolLeft\">1.63</div><div class=\"anaCell anaOdd\"><div style=\"color: darkgray\">14.35%</div></div><div class=\"anaCell anaOdd anaSubcolRight\"><div class=\"anaNegative\">(-63.02%)</div></div><div class=\"anaCell anaOdd anaSubcolLeft\"><div style=\"text-align: center\">00:11:24</div></div><div class=\"anaIndex anaEven\"><a href=\"https://www.youtube.com/watch?v=N8RLWqA5U40\">2022 NCPI Spring Virtual Meeting Day 2</a></div><div class=\"anaCell anaEven anaSubcolLeft\"><div class=\"down\"></div></div><div class=\"anaCell anaEven\">8</div><div class=\"anaCell anaEven anaSubcolRight\"><div class=\"anaNegative\">(-50.00%)</div></div><div class=\"anaCell anaEven anaSubcolLeft\"><div style=\"text-align: center\">43</div></div><div class=\"anaCell anaEven anaSubcolLeft\">5.13</div><div class=\"anaCell anaEven\"><div style=\"color: darkgray\">2.17%</div></div><div class=\"anaCell anaEven anaSubcolRight\"><div class=\"anaNegative\">(-35.02%)</div></div><div class=\"anaCell anaEven anaSubcolLeft\"><div style=\"text-align: center\">03:56:16</div></div><div class=\"anaIndex anaOdd\"><a href=\"https://www.youtube.com/watch?v=-Q4SjLEd99s\">Galaxy On AnVIL Walkthrough</a></div><div class=\"anaCell anaOdd anaSubcolLeft\"><div class=\"down\"></div></div><div class=\"anaCell anaOdd\">8</div><div class=\"anaCell anaOdd anaSubcolRight\"><div class=\"anaNegative\">(-61.90%)</div></div><div class=\"anaCell anaOdd anaSubcolLeft\"><div style=\"text-align: center\">219</div></div><div class=\"anaCell anaOdd anaSubcolLeft\">1.47</div><div class=\"anaCell anaOdd\"><div style=\"color: darkgray\">25.14%</div></div><div class=\"anaCell anaOdd anaSubcolRight\"><div class=\"anaNegative\">(-33.33%)</div></div><div class=\"anaCell anaOdd anaSubcolLeft\"><div style=\"text-align: center\">00:05:51</div></div><div class=\"anaIndex anaEven\"><a href=\"https://www.youtube.com/watch?v=gw92xQQOPQ4\">2022 NCPI Spring Virtual Meeting Day 1</a></div><div class=\"anaCell anaEven anaSubcolLeft\"><div class=\"down\"></div></div><div class=\"anaCell anaEven\">7</div><div class=\"anaCell anaEven anaSubcolRight\"><div class=\"anaNegative\">(-78.79%)</div></div><div class=\"anaCell anaEven anaSubcolLeft\"><div style=\"text-align: center\">64</div></div><div class=\"anaCell anaEven anaSubcolLeft\">3.55</div><div class=\"anaCell anaEven\"><div style=\"color: darkgray\">3.65%</div></div><div class=\"anaCell anaEven anaSubcolRight\"><div class=\"anaNegative\">(-63.02%)</div></div><div class=\"anaCell anaEven anaSubcolLeft\"><div style=\"text-align: center\">01:37:43</div></div><div class=\"anaIndex anaOdd\"><a href=\"https://www.youtube.com/watch?v=c8CkGHextog\">A Demo of Running The HPRC Assembly Workflow in AnVIL</a></div><div class=\"anaCell anaOdd anaSubcolLeft\"><div class=\"up\"></div></div><div class=\"anaCell anaOdd\">6</div><div class=\"anaCell anaOdd anaSubcolRight\"><div class=\"anaPositive\">(+20.00%)</div></div><div class=\"anaCell anaOdd anaSubcolLeft\"><div style=\"text-align: center\">68</div></div><div class=\"anaCell anaOdd anaSubcolLeft\">2.45</div><div class=\"anaCell anaOdd\"><div style=\"color: darkgray\">13.74%</div></div><div class=\"anaCell anaOdd anaSubcolRight\"><div class=\"anaNegative\">(-66.13%)</div></div><div class=\"anaCell anaOdd anaSubcolLeft\"><div style=\"text-align: center\">00:17:52</div></div><div class=\"anaIndex anaEven\"><a href=\"https://www.youtube.com/watch?v=mN4m_e85CLo\">Exploring and Accessing HPRC Data Resources in AnVIL</a></div><div class=\"anaCell anaEven anaSubcolLeft\"><div class=\"up\"></div></div><div class=\"anaCell anaEven\">3</div><div class=\"anaCell anaEven anaSubcolRight\"><div class=\"anaPositive\">(+200.00%)</div></div><div class=\"anaCell anaEven anaSubcolLeft\"><div style=\"text-align: center\">36</div></div><div class=\"anaCell anaEven anaSubcolLeft\">1.80</div><div class=\"anaCell anaEven\"><div style=\"color: darkgray\">28.47%</div></div><div class=\"anaCell anaEven anaSubcolRight\"><div class=\"anaNegative\">(-51.57%)</div></div><div class=\"anaCell anaEven anaSubcolLeft\"><div style=\"text-align: center\">00:06:21</div></div><div class=\"anaIndex anaOdd\"><a href=\"https://www.youtube.com/watch?v=VKDBT4lTDv8\">Sharing on AnVIL</a></div><div class=\"anaCell anaOdd anaSubcolLeft\"><div class=\"down\"></div></div><div class=\"anaCell anaOdd\">3</div><div class=\"anaCell anaOdd anaSubcolRight\"><div class=\"anaNegative\">(-62.50%)</div></div><div class=\"anaCell anaOdd anaSubcolLeft\"><div style=\"text-align: center\">59</div></div><div class=\"anaCell anaOdd anaSubcolLeft\">0.03</div><div class=\"anaCell anaOdd\"><div style=\"color: darkgray\">1.78%</div></div><div class=\"anaCell anaOdd anaSubcolRight\"><div class=\"anaNegative\">(-96.30%)</div></div><div class=\"anaCell anaOdd anaSubcolLeft\"><div style=\"text-align: center\">00:01:59</div></div><div class=\"anaIndex anaEven\"><a href=\"https://www.youtube.com/watch?v=4b7mBb093j4\">Introduction to AnVIL and how it supports HPRC</a></div><div class=\"anaCell anaEven anaSubcolLeft\"><div class=\"up\"></div></div><div class=\"anaCell anaEven\">2</div><div class=\"anaCell anaEven anaSubcolRight\"><div class=\"anaPositive\">(+100.00%)</div></div><div class=\"anaCell anaEven anaSubcolLeft\"><div style=\"text-align: center\">57</div></div><div class=\"anaCell anaEven anaSubcolLeft\">2.68</div><div class=\"anaCell anaEven\"><div style=\"color: darkgray\">43.06%</div></div><div class=\"anaCell anaEven anaSubcolRight\"><div class=\"anaPositive\">(+5266.67%)</div></div><div class=\"anaCell anaEven anaSubcolLeft\"><div style=\"text-align: center\">00:06:15</div></div><div class=\"anaIndex anaOdd\"><a href=\"https://www.youtube.com/watch?v=tVh93e6TzCE\">Reproducibility on AnVIL</a></div><div class=\"anaCell anaOdd anaSubcolLeft\"><div class=\"up\"></div></div><div class=\"anaCell anaOdd\">2</div><div class=\"anaCell anaOdd anaSubcolRight\"><div class=\"anaNegative\">(-33.33%)</div></div><div class=\"anaCell anaOdd anaSubcolLeft\"><div style=\"text-align: center\">50</div></div><div class=\"anaCell anaOdd anaSubcolLeft\">1.37</div><div class=\"anaCell anaOdd\"><div style=\"color: darkgray\">66.91%</div></div><div class=\"anaCell anaOdd anaSubcolRight\"><div class=\"anaZero\">(+0.00%)</div></div><div class=\"anaCell anaOdd anaSubcolLeft\"><div style=\"text-align: center\">00:02:04</div></div><div class=\"anaIndex anaEven\"><a href=\"https://www.youtube.com/watch?v=uHR5-o7bYGk\">Standardization on AnVIL</a></div><div class=\"anaCell anaEven anaSubcolLeft\"><div class=\"down\"></div></div><div class=\"anaCell anaEven\">2</div><div class=\"anaCell anaEven anaSubcolRight\"><div class=\"anaNegative\">(-66.67%)</div></div><div class=\"anaCell anaEven anaSubcolLeft\"><div style=\"text-align: center\">31</div></div><div class=\"anaCell anaEven anaSubcolLeft\">0.33</div><div class=\"anaCell anaEven\"><div style=\"color: darkgray\">20.82%</div></div><div class=\"anaCell anaEven anaSubcolRight\"><div class=\"anaNegative\">(-62.96%)</div></div><div class=\"anaCell anaEven anaSubcolLeft\"><div style=\"text-align: center\">00:01:40</div></div><div class=\"anaIndex anaOdd\"><a href=\"https://www.youtube.com/watch?v=ysLHv4e6X6Y\">Starting Galaxy on the AnVIL Platform</a></div><div class=\"anaCell anaOdd anaSubcolLeft\"><div class=\"new\"></div></div><div class=\"anaCell anaOdd\">1</div><div class=\"anaCell anaOdd anaSubcolRight\"></div><div class=\"anaCell anaOdd anaSubcolLeft\"><div style=\"text-align: center\">29</div></div><div class=\"anaCell anaOdd anaSubcolLeft\">1.70</div><div class=\"anaCell anaOdd\"><div style=\"color: darkgray\">24.42%</div></div><div class=\"anaCell anaOdd anaSubcolRight\"></div><div class=\"anaCell anaOdd anaSubcolLeft\"><div style=\"text-align: center\">00:06:59</div></div><div class=\"anaIndex anaEven\"><a href=\"https://www.youtube.com/watch?v=m8Tt0KemKFI\">Reproducible Analysis in the Cloud with Dockstore and Terra</a></div><div class=\"anaCell anaEven anaSubcolLeft\"><div class=\"down\"></div></div><div class=\"anaCell anaEven\">1</div><div class=\"anaCell anaEven anaSubcolRight\"><div class=\"anaNegative\">(-80.00%)</div></div><div class=\"anaCell anaEven anaSubcolLeft\"><div style=\"text-align: center\">273</div></div><div class=\"anaCell anaEven anaSubcolLeft\">0.57</div><div class=\"anaCell anaEven\"><div style=\"color: darkgray\">0.57%</div></div><div class=\"anaCell anaEven anaSubcolRight\"><div class=\"anaNegative\">(-96.12%)</div></div><div class=\"anaCell anaEven anaSubcolLeft\"><div style=\"text-align: center\">01:41:17</div></div><div class=\"anaIndex anaOdd\"><a href=\"https://www.youtube.com/watch?v=PJBuPW3cjkw\">Scalability on AnVIL</a></div><div class=\"anaCell anaOdd anaSubcolLeft\"><div class=\"down\"></div></div><div class=\"anaCell anaOdd\">1</div><div class=\"anaCell anaOdd anaSubcolRight\"><div class=\"anaNegative\">(-83.33%)</div></div><div class=\"anaCell anaOdd anaSubcolLeft\"><div style=\"text-align: center\">32</div></div><div class=\"anaCell anaOdd anaSubcolLeft\">0.42</div><div class=\"anaCell anaOdd\"><div style=\"color: darkgray\">22.15%</div></div><div class=\"anaCell anaOdd anaSubcolRight\"><div class=\"anaNegative\">(-50.00%)</div></div><div class=\"anaCell anaOdd anaSubcolLeft\"><div style=\"text-align: center\">00:01:53</div></div></div>"
      ],
      "text/plain": [
       "<IPython.core.display.HTML object>"
      ]
     },
     "metadata": {},
     "output_type": "display_data"
    }
   ],
   "source": [
    "top_videos_filter = anvil.show_difference_and_get_top_videos(50, [\"Views\", \"Average watch time (minutes)\", \"Average watch %\"], \"Video\", [\"views\", \"averageViewDuration\", \"averageViewPercentage\"], \"video\", max_results=100, sort_results=\"-views\", index_key_formatter=anvil.format_video_key, pre_render_processor=anvil.format_video_stats_table, **default_params_yt)"
   ]
  },
  {
   "cell_type": "markdown",
   "id": "6f3f4466",
   "metadata": {},
   "source": [
    "<div style=\"page-break-after: always\"></div>"
   ]
  },
  {
   "cell_type": "markdown",
   "id": "41262267",
   "metadata": {},
   "source": [
    "### Video Views (From AnVIL Website)"
   ]
  },
  {
   "cell_type": "code",
   "execution_count": 8,
   "id": "ca1d339a",
   "metadata": {
    "scrolled": false,
    "tags": [
     "remove-input"
    ]
   },
   "outputs": [
    {
     "data": {
      "text/html": [
       "<div class=\"analyticsTable\" style=\"grid-template-columns: 1fr var(--symbol-width) minmax(var(--value-width), min-content) minmax(var(--percentage-width), min-content)\"><div class=\"anaIndex anaColName\">Video</div><div class=\"anaColName\" style=\"grid-column: span 3\">Count</div><div class=\"anaIndex anaEven\">Galaxy On AnVIL Walkthrough</div><div class=\"anaCell anaEven anaSubcolLeft\"></div><div class=\"anaCell anaEven\">6</div><div class=\"anaCell anaEven anaSubcolRight\"><div class=\"anaNegative\">(-33.33%)</div></div><div class=\"anaIndex anaOdd\">2022 NCPI Spring Virtual Meeting Day 1</div><div class=\"anaCell anaOdd anaSubcolLeft\"></div><div class=\"anaCell anaOdd\">4</div><div class=\"anaCell anaOdd anaSubcolRight\"><div class=\"anaNegative\">(-50.00%)</div></div><div class=\"anaIndex anaEven\">2022 NCPI Spring Virtual Meeting Day 2</div><div class=\"anaCell anaEven anaSubcolLeft\"></div><div class=\"anaCell anaEven\">3</div><div class=\"anaCell anaEven anaSubcolRight\"><div class=\"anaNegative\">(-40.00%)</div></div><div class=\"anaIndex anaOdd\">Use case: GWAS</div><div class=\"anaCell anaOdd anaSubcolLeft\"><div class=\"up\"></div></div><div class=\"anaCell anaOdd\">3</div><div class=\"anaCell anaOdd anaSubcolRight\"><div class=\"anaPositive\">(+200.00%)</div></div><div class=\"anaIndex anaEven\">AnVIL for Data Submitters</div><div class=\"anaCell anaEven anaSubcolLeft\"><div class=\"up\"></div></div><div class=\"anaCell anaEven\">2</div><div class=\"anaCell anaEven anaSubcolRight\"><div class=\"anaPositive\">(+100.00%)</div></div><div class=\"anaIndex anaOdd\">Sharing on AnVIL</div><div class=\"anaCell anaOdd anaSubcolLeft\"></div><div class=\"anaCell anaOdd\">2</div><div class=\"anaCell anaOdd anaSubcolRight\"><div class=\"anaNegative\">(-33.33%)</div></div><div class=\"anaIndex anaEven\">Use case: GATK</div><div class=\"anaCell anaEven anaSubcolLeft\"><div class=\"up\"></div></div><div class=\"anaCell anaEven\">2</div><div class=\"anaCell anaEven anaSubcolRight\"><div class=\"anaPositive\">(+100.00%)</div></div><div class=\"anaIndex anaOdd\">Use case: eQTL</div><div class=\"anaCell anaOdd anaSubcolLeft\"><div class=\"down\"></div></div><div class=\"anaCell anaOdd\">2</div><div class=\"anaCell anaOdd anaSubcolRight\"><div class=\"anaNegative\">(-50.00%)</div></div><div class=\"anaIndex anaEven\">What is AnVIL?</div><div class=\"anaCell anaEven anaSubcolLeft\"><div class=\"new\"></div></div><div class=\"anaCell anaEven\">2</div><div class=\"anaCell anaEven anaSubcolRight\"></div><div class=\"anaIndex anaOdd\">Cloud Costs</div><div class=\"anaCell anaOdd anaSubcolLeft\"><div class=\"new\"></div></div><div class=\"anaCell anaOdd\">1</div><div class=\"anaCell anaOdd anaSubcolRight\"></div><div class=\"anaIndex anaEven\">Dockstore: An Introduction</div><div class=\"anaCell anaEven anaSubcolLeft\"><div class=\"new\"></div></div><div class=\"anaCell anaEven\">1</div><div class=\"anaCell anaEven anaSubcolRight\"></div><div class=\"anaIndex anaOdd\">Starting Galaxy on the AnVIL Platform</div><div class=\"anaCell anaOdd anaSubcolLeft\"><div class=\"new\"></div></div><div class=\"anaCell anaOdd\">1</div><div class=\"anaCell anaOdd anaSubcolRight\"></div><div class=\"anaIndex anaEven\">Starting Jupyter on the AnVIL Platform</div><div class=\"anaCell anaEven anaSubcolLeft\"><div class=\"up\"></div></div><div class=\"anaCell anaEven\">1</div><div class=\"anaCell anaEven anaSubcolRight\"><div class=\"anaZero\">(+0.00%)</div></div><div class=\"anaIndex anaOdd\">Week 1: Using R / Bioconductor in AnVIL</div><div class=\"anaCell anaOdd anaSubcolLeft\"><div class=\"new\"></div></div><div class=\"anaCell anaOdd\">1</div><div class=\"anaCell anaOdd anaSubcolRight\"></div><div class=\"anaIndex anaEven\">Week 3: Running a Workflow</div><div class=\"anaCell anaEven anaSubcolLeft\"><div class=\"down\"></div></div><div class=\"anaCell anaEven\">1</div><div class=\"anaCell anaEven anaSubcolRight\"><div class=\"anaNegative\">(-80.00%)</div></div><div class=\"anaIndex anaOdd\">Week 4: Single-cell RNASeq with &#x27;Orchestrating Single Cell Analysis&#x27; in R / Bioconductor</div><div class=\"anaCell anaOdd anaSubcolLeft\"><div class=\"down\"></div></div><div class=\"anaCell anaOdd\">1</div><div class=\"anaCell anaOdd anaSubcolRight\"><div class=\"anaNegative\">(-50.00%)</div></div></div>"
      ],
      "text/plain": [
       "<IPython.core.display.HTML object>"
      ]
     },
     "metadata": {},
     "output_type": "display_data"
    }
   ],
   "source": [
    "ac.show_difference_table(\"Count\", \"Video\", \"ga:hits\", \"ga:eventLabel\", filters=\"ga:eventCategory==Video;ga:eventAction==start;ga:pagePath!~^/ncpi(/|$)\", df_processor=anvil.save_site_video_views, **default_params)"
   ]
  },
  {
   "cell_type": "markdown",
   "id": "3022c625",
   "metadata": {},
   "source": [
    "<div style=\"page-break-after: always\"></div>"
   ]
  },
  {
   "cell_type": "markdown",
   "id": "0a33a491",
   "metadata": {},
   "source": [
    "### Video Views by Category"
   ]
  },
  {
   "cell_type": "code",
   "execution_count": 65,
   "id": "2d62f58a",
   "metadata": {
    "tags": [
     "remove-input"
    ]
   },
   "outputs": [
    {
     "data": {
      "text/html": [
       "<div class=\"analyticsTable\" style=\"grid-template-columns: 1fr var(--symbol-width) minmax(var(--value-width), min-content) minmax(var(--percentage-width), min-content)\"><div class=\"anaIndex anaEven\">Total views</div><div class=\"anaCell anaEven anaSubcolLeft\"></div><div class=\"anaCell anaEven\">116</div><div class=\"anaCell anaEven anaSubcolRight\"><div class=\"anaNegative\">(-36.26%)</div></div></div>"
      ],
      "text/plain": [
       "<IPython.core.display.HTML object>"
      ]
     },
     "metadata": {},
     "output_type": "display_data"
    }
   ],
   "source": [
    "ac.show_difference_table(\"Total views\", None, \"views\", None, **default_params_yt)"
   ]
  },
  {
   "cell_type": "code",
   "execution_count": 62,
   "id": "591ee320",
   "metadata": {
    "tags": [
     "remove-input"
    ]
   },
   "outputs": [
    {
     "data": {
      "text/html": [
       "<div class=\"analyticsTable\" style=\"grid-template-columns: 1fr var(--symbol-width) minmax(var(--value-width), min-content) minmax(var(--percentage-width), min-content)\"><div class=\"anaIndex anaEven\">Views from YouTube</div><div class=\"anaCell anaEven anaSubcolLeft\"></div><div class=\"anaCell anaEven\">60</div><div class=\"anaCell anaEven anaSubcolRight\"><div class=\"anaPositive\">(+11.11%)</div></div></div>"
      ],
      "text/plain": [
       "<IPython.core.display.HTML object>"
      ]
     },
     "metadata": {},
     "output_type": "display_data"
    }
   ],
   "source": [
    "ac.show_difference_table(\"\", \"\", \"views\", \"insightTrafficSourceType\", max_results=100, sort_results=\"-views\", filters=top_videos_filter, df_processor=anvil.collapse_yt_sources, **default_params_yt)"
   ]
  },
  {
   "cell_type": "code",
   "execution_count": 63,
   "id": "7586e162",
   "metadata": {
    "tags": [
     "remove-input"
    ]
   },
   "outputs": [
    {
     "data": {
      "text/html": [
       "<div class=\"analyticsTable\" style=\"grid-template-columns: 1fr minmax(var(--value-width), min-content) minmax(var(--percentage-width), min-content)\"><div class=\"anaIndex anaEven\">Views from AnVIL website</div><div class=\"anaCell anaEven anaSubcolLeft\">33</div><div class=\"anaCell anaEven anaSubcolRight\"><div class=\"anaNegative\">(-48.44%)</div></div></div>"
      ],
      "text/plain": [
       "<IPython.core.display.HTML object>"
      ]
     },
     "metadata": {},
     "output_type": "display_data"
    }
   ],
   "source": [
    "anvil.show_value_difference_table(\"Views from AnVIL website\", anvil.site_video_views, **default_params_yt)"
   ]
  },
  {
   "cell_type": "code",
   "execution_count": 64,
   "id": "3ef691c0",
   "metadata": {
    "tags": [
     "remove-input"
    ]
   },
   "outputs": [
    {
     "data": {
      "text/html": [
       "<div class=\"analyticsTable\" style=\"grid-template-columns: 1fr var(--symbol-width) minmax(var(--value-width), min-content) minmax(var(--percentage-width), min-content)\"><div class=\"anaIndex anaEven\">Views from other/unknown sources</div><div class=\"anaCell anaEven anaSubcolLeft\"></div><div class=\"anaCell anaEven\">23</div><div class=\"anaCell anaEven anaSubcolRight\"><div class=\"anaNegative\">(-64.06%)</div></div></div>"
      ],
      "text/plain": [
       "<IPython.core.display.HTML object>"
      ]
     },
     "metadata": {},
     "output_type": "display_data"
    }
   ],
   "source": [
    "ac.show_difference_table(\"Views from other/unknown sources\", None, \"views\", None, df_processor=anvil.make_subtraction_processor([a + b for a, b in zip(anvil.site_video_views, anvil.yt_video_views)]), **default_params_yt)"
   ]
  },
  {
   "cell_type": "markdown",
   "id": "a484055b",
   "metadata": {},
   "source": [
    "## Data Dashboard\n",
    "### Top Facet Terms"
   ]
  },
  {
   "cell_type": "code",
   "execution_count": 28,
   "id": "bd989a24",
   "metadata": {
    "scrolled": false,
    "tags": [
     "remove-input"
    ]
   },
   "outputs": [
    {
     "data": {
      "text/html": [
       "<div class=\"analyticsTable\" style=\"grid-template-columns: repeat(1, auto) 1fr var(--symbol-width) minmax(var(--value-width), min-content) minmax(var(--percentage-width), min-content)\"><div class=\"anaIndex anaColName\">Term Name</div><div class=\"anaIndex anaColName\">Facet</div><div class=\"anaColName\" style=\"grid-column: span 3\">Count</div><div class=\"anaIndex anaEven\">1000 Genomes</div><div class=\"anaIndex anaEven\">consortium</div><div class=\"anaCell anaEven anaSubcolLeft\"><div class=\"up\"></div></div><div class=\"anaCell anaEven\">33</div><div class=\"anaCell anaEven anaSubcolRight\"><div class=\"anaPositive\">(+450.00%)</div></div><div class=\"anaIndex anaOdd\">CCDG</div><div class=\"anaIndex anaOdd\">consortium</div><div class=\"anaCell anaOdd anaSubcolLeft\"><div class=\"up\"></div></div><div class=\"anaCell anaOdd\">28</div><div class=\"anaCell anaOdd anaSubcolRight\"><div class=\"anaPositive\">(+180.00%)</div></div><div class=\"anaIndex anaEven\">CMG</div><div class=\"anaIndex anaEven\">consortium</div><div class=\"anaCell anaEven anaSubcolLeft\"><div class=\"up\"></div></div><div class=\"anaCell anaEven\">21</div><div class=\"anaCell anaEven anaSubcolRight\"><div class=\"anaPositive\">(+90.91%)</div></div><div class=\"anaIndex anaOdd\">GTEx</div><div class=\"anaIndex anaOdd\">consortium</div><div class=\"anaCell anaOdd anaSubcolLeft\"><div class=\"up\"></div></div><div class=\"anaCell anaOdd\">19</div><div class=\"anaCell anaOdd anaSubcolRight\"><div class=\"anaPositive\">(+11.76%)</div></div><div class=\"anaIndex anaEven\">Whole Genome</div><div class=\"anaIndex anaEven\">dataTypes</div><div class=\"anaCell anaEven anaSubcolLeft\"><div class=\"down\"></div></div><div class=\"anaCell anaEven\">13</div><div class=\"anaCell anaEven anaSubcolRight\"><div class=\"anaNegative\">(-31.58%)</div></div><div class=\"anaIndex anaOdd\">Controlled Access</div><div class=\"anaIndex anaOdd\">accessType</div><div class=\"anaCell anaOdd anaSubcolLeft\"><div class=\"down\"></div></div><div class=\"anaCell anaOdd\">11</div><div class=\"anaCell anaOdd anaSubcolRight\"><div class=\"anaNegative\">(-42.11%)</div></div><div class=\"anaIndex anaEven\">Consortium Access Only</div><div class=\"anaIndex anaEven\">accessType</div><div class=\"anaCell anaEven anaSubcolLeft\"><div class=\"up\"></div></div><div class=\"anaCell anaEven\">9</div><div class=\"anaCell anaEven anaSubcolRight\"><div class=\"anaPositive\">(+80.00%)</div></div><div class=\"anaIndex anaOdd\">No Restrictions</div><div class=\"anaIndex anaOdd\">accessType</div><div class=\"anaCell anaOdd anaSubcolLeft\"><div class=\"down\"></div></div><div class=\"anaCell anaOdd\">9</div><div class=\"anaCell anaOdd anaSubcolRight\"><div class=\"anaNegative\">(-47.06%)</div></div><div class=\"anaIndex anaEven\">CMH</div><div class=\"anaIndex anaEven\">consortium</div><div class=\"anaCell anaEven anaSubcolLeft\"><div class=\"new\"></div></div><div class=\"anaCell anaEven\">9</div><div class=\"anaCell anaEven anaSubcolRight\"></div><div class=\"anaIndex anaOdd\">RNAseq</div><div class=\"anaIndex anaOdd\">dataTypes</div><div class=\"anaCell anaOdd anaSubcolLeft\"><div class=\"down\"></div></div><div class=\"anaCell anaOdd\">8</div><div class=\"anaCell anaOdd anaSubcolRight\"><div class=\"anaNegative\">(-27.27%)</div></div><div class=\"anaIndex anaEven\">IRB Approval Required (IRB)</div><div class=\"anaIndex anaEven\">dataUseLimitationModifiers</div><div class=\"anaCell anaEven anaSubcolLeft\"><div class=\"up\"></div></div><div class=\"anaCell anaEven\">8</div><div class=\"anaCell anaEven anaSubcolRight\"><div class=\"anaPositive\">(+300.00%)</div></div><div class=\"anaIndex anaOdd\">CSER</div><div class=\"anaIndex anaOdd\">consortium</div><div class=\"anaCell anaOdd anaSubcolLeft\"><div class=\"up\"></div></div><div class=\"anaCell anaOdd\">8</div><div class=\"anaCell anaOdd anaSubcolRight\"><div class=\"anaPositive\">(+166.67%)</div></div><div class=\"anaIndex anaEven\">Genotyping Array</div><div class=\"anaIndex anaEven\">dataTypes</div><div class=\"anaCell anaEven anaSubcolLeft\"><div class=\"up\"></div></div><div class=\"anaCell anaEven\">7</div><div class=\"anaCell anaEven anaSubcolRight\"><div class=\"anaPositive\">(+75.00%)</div></div><div class=\"anaIndex anaOdd\">Convergent Neuroscience</div><div class=\"anaIndex anaOdd\">consortium</div><div class=\"anaCell anaOdd anaSubcolLeft\"><div class=\"new\"></div></div><div class=\"anaCell anaOdd\">7</div><div class=\"anaCell anaOdd anaSubcolRight\"></div><div class=\"anaIndex anaEven\">autism spectrum disorder</div><div class=\"anaIndex anaEven\">diseases</div><div class=\"anaCell anaEven anaSubcolLeft\"><div class=\"up\"></div></div><div class=\"anaCell anaEven\">6</div><div class=\"anaCell anaEven anaSubcolRight\"><div class=\"anaPositive\">(+50.00%)</div></div><div class=\"anaIndex anaOdd\">HPRC</div><div class=\"anaIndex anaOdd\">consortium</div><div class=\"anaCell anaOdd anaSubcolLeft\"><div class=\"down\"></div></div><div class=\"anaCell anaOdd\">6</div><div class=\"anaCell anaOdd anaSubcolRight\"><div class=\"anaNegative\">(-14.29%)</div></div><div class=\"anaIndex anaEven\">eMERGE</div><div class=\"anaIndex anaEven\">consortium</div><div class=\"anaCell anaEven anaSubcolLeft\"><div class=\"up\"></div></div><div class=\"anaCell anaEven\">6</div><div class=\"anaCell anaEven anaSubcolRight\"><div class=\"anaPositive\">(+100.00%)</div></div><div class=\"anaIndex anaOdd\">TBD</div><div class=\"anaIndex anaOdd\">dataUseLimitations</div><div class=\"anaCell anaOdd anaSubcolLeft\"><div class=\"down\"></div></div><div class=\"anaCell anaOdd\">6</div><div class=\"anaCell anaOdd anaSubcolRight\"><div class=\"anaPositive\">(+20.00%)</div></div><div class=\"anaIndex anaEven\">General Research Use (GRU)</div><div class=\"anaIndex anaEven\">dataUseLimitations</div><div class=\"anaCell anaEven anaSubcolLeft\"><div class=\"down\"></div></div><div class=\"anaCell anaEven\">5</div><div class=\"anaCell anaEven anaSubcolRight\"><div class=\"anaNegative\">(-68.75%)</div></div><div class=\"anaIndex anaOdd\">Autism Spectrum Disorder (ASD)</div><div class=\"anaIndex anaOdd\">dataUseLimitations</div><div class=\"anaCell anaOdd anaSubcolLeft\"><div class=\"down\"></div></div><div class=\"anaCell anaOdd\">5</div><div class=\"anaCell anaOdd anaSubcolRight\"><div class=\"anaZero\">(+0.00%)</div></div><div class=\"anaIndex anaEven\">epilepsy</div><div class=\"anaIndex anaEven\">diseases</div><div class=\"anaCell anaEven anaSubcolLeft\"><div class=\"up\"></div></div><div class=\"anaCell anaEven\">5</div><div class=\"anaCell anaEven anaSubcolRight\"><div class=\"anaPositive\">(+66.67%)</div></div><div class=\"anaIndex anaOdd\">AnVIL</div><div class=\"anaIndex anaOdd\">platforms</div><div class=\"anaCell anaOdd anaSubcolLeft\"><div class=\"new\"></div></div><div class=\"anaCell anaOdd\">5</div><div class=\"anaCell anaOdd anaSubcolRight\"></div><div class=\"anaIndex anaEven\">PAGE</div><div class=\"anaIndex anaEven\">consortium</div><div class=\"anaCell anaEven anaSubcolLeft\"><div class=\"new\"></div></div><div class=\"anaCell anaEven\">4</div><div class=\"anaCell anaEven anaSubcolRight\"></div><div class=\"anaIndex anaOdd\">T2T</div><div class=\"anaIndex anaOdd\">consortium</div><div class=\"anaCell anaOdd anaSubcolLeft\"><div class=\"new\"></div></div><div class=\"anaCell anaOdd\">4</div><div class=\"anaCell anaOdd anaSubcolRight\"></div><div class=\"anaIndex anaEven\">Neurological Diseases (NEURO)</div><div class=\"anaIndex anaEven\">dataUseLimitations</div><div class=\"anaCell anaEven anaSubcolLeft\"><div class=\"new\"></div></div><div class=\"anaCell anaEven\">4</div><div class=\"anaCell anaEven anaSubcolRight\"></div><div class=\"anaIndex anaOdd\">Exome</div><div class=\"anaIndex anaOdd\">dataTypes</div><div class=\"anaCell anaOdd anaSubcolLeft\"><div class=\"down\"></div></div><div class=\"anaCell anaOdd\">4</div><div class=\"anaCell anaOdd anaSubcolRight\"><div class=\"anaNegative\">(-80.95%)</div></div><div class=\"anaIndex anaEven\">KFDRC</div><div class=\"anaIndex anaEven\">platforms</div><div class=\"anaCell anaEven anaSubcolLeft\"><div class=\"new\"></div></div><div class=\"anaCell anaEven\">4</div><div class=\"anaCell anaEven anaSubcolRight\"></div><div class=\"anaIndex anaOdd\">Parent-Offspring</div><div class=\"anaIndex anaOdd\">studyDesigns</div><div class=\"anaCell anaOdd anaSubcolLeft\"><div class=\"new\"></div></div><div class=\"anaCell anaOdd\">3</div><div class=\"anaCell anaOdd anaSubcolRight\"></div><div class=\"anaIndex anaEven\">Unspecified</div><div class=\"anaIndex anaEven\">consortium</div><div class=\"anaCell anaEven anaSubcolLeft\"><div class=\"new\"></div></div><div class=\"anaCell anaEven\">3</div><div class=\"anaCell anaEven anaSubcolRight\"></div><div class=\"anaIndex anaOdd\">population</div><div class=\"anaIndex anaOdd\">diseases</div><div class=\"anaCell anaOdd anaSubcolLeft\"><div class=\"new\"></div></div><div class=\"anaCell anaOdd\">3</div><div class=\"anaCell anaOdd anaSubcolRight\"></div></div>"
      ],
      "text/plain": [
       "<IPython.core.display.HTML object>"
      ]
     },
     "metadata": {},
     "output_type": "display_data"
    }
   ],
   "source": [
    "ac.show_difference_table(\"Count\", [\"Term Name\", \"Facet\"], \"ga:hits\", [\"ga:eventLabel\", \"ga:dimension5\"], filters=\"ga:eventCategory==Search;ga:eventAction==Select\", rows_limit=27, **default_params)"
   ]
  },
  {
   "cell_type": "markdown",
   "id": "b47bc757",
   "metadata": {},
   "source": [
    "<div style=\"page-break-after: always\"></div>"
   ]
  },
  {
   "cell_type": "markdown",
   "id": "cce1253e",
   "metadata": {},
   "source": [
    "### Top Text Searches"
   ]
  },
  {
   "cell_type": "code",
   "execution_count": 29,
   "id": "a6d6523d",
   "metadata": {
    "tags": [
     "remove-input"
    ]
   },
   "outputs": [
    {
     "data": {
      "text/html": [
       "<div class=\"analyticsTable\" style=\"grid-template-columns: 1fr var(--symbol-width) minmax(var(--value-width), min-content) minmax(var(--percentage-width), min-content)\"><div class=\"anaIndex anaColName\">Text Input</div><div class=\"anaColName\" style=\"grid-column: span 3\">Count</div><div class=\"anaIndex anaEven\">1117F</div><div class=\"anaCell anaEven anaSubcolLeft\"><div class=\"new\"></div></div><div class=\"anaCell anaEven\">4</div><div class=\"anaCell anaEven anaSubcolRight\"></div><div class=\"anaIndex anaOdd\">beggs</div><div class=\"anaCell anaOdd anaSubcolLeft\"><div class=\"new\"></div></div><div class=\"anaCell anaOdd\">3</div><div class=\"anaCell anaOdd anaSubcolRight\"></div><div class=\"anaIndex anaEven\">phs000424.v8.p1</div><div class=\"anaCell anaEven anaSubcolLeft\"><div class=\"new\"></div></div><div class=\"anaCell anaEven\">3</div><div class=\"anaCell anaEven anaSubcolRight\"></div><div class=\"anaIndex anaOdd\">knc</div><div class=\"anaCell anaOdd anaSubcolLeft\"><div class=\"new\"></div></div><div class=\"anaCell anaOdd\">3</div><div class=\"anaCell anaOdd anaSubcolRight\"></div><div class=\"anaIndex anaEven\">RNA</div><div class=\"anaCell anaEven anaSubcolLeft\"><div class=\"new\"></div></div><div class=\"anaCell anaEven\">3</div><div class=\"anaCell anaEven anaSubcolRight\"></div><div class=\"anaIndex anaOdd\">gtex</div><div class=\"anaCell anaOdd anaSubcolLeft\"><div class=\"up\"></div></div><div class=\"anaCell anaOdd\">2</div><div class=\"anaCell anaOdd anaSubcolRight\"><div class=\"anaPositive\">(+100.00%)</div></div><div class=\"anaIndex anaEven\">phs002509</div><div class=\"anaCell anaEven anaSubcolLeft\"><div class=\"new\"></div></div><div class=\"anaCell anaEven\">2</div><div class=\"anaCell anaEven anaSubcolRight\"></div><div class=\"anaIndex anaOdd\">bonnemann</div><div class=\"anaCell anaOdd anaSubcolLeft\"><div class=\"new\"></div></div><div class=\"anaCell anaOdd\">2</div><div class=\"anaCell anaOdd anaSubcolRight\"></div><div class=\"anaIndex anaEven\">phs002205</div><div class=\"anaCell anaEven anaSubcolLeft\"><div class=\"new\"></div></div><div class=\"anaCell anaEven\">2</div><div class=\"anaCell anaEven anaSubcolRight\"></div><div class=\"anaIndex anaOdd\">gazda</div><div class=\"anaCell anaOdd anaSubcolLeft\"><div class=\"new\"></div></div><div class=\"anaCell anaOdd\">2</div><div class=\"anaCell anaOdd anaSubcolRight\"></div><div class=\"anaIndex anaEven\">sherr</div><div class=\"anaCell anaEven anaSubcolLeft\"><div class=\"new\"></div></div><div class=\"anaCell anaEven\">2</div><div class=\"anaCell anaEven anaSubcolRight\"></div><div class=\"anaIndex anaOdd\">cancer</div><div class=\"anaCell anaOdd anaSubcolLeft\"><div class=\"new\"></div></div><div class=\"anaCell anaOdd\">2</div><div class=\"anaCell anaOdd anaSubcolRight\"></div><div class=\"anaIndex anaEven\">ALS</div><div class=\"anaCell anaEven anaSubcolLeft\"><div class=\"new\"></div></div><div class=\"anaCell anaEven\">2</div><div class=\"anaCell anaEven anaSubcolRight\"></div><div class=\"anaIndex anaOdd\">GET</div><div class=\"anaCell anaOdd anaSubcolLeft\"><div class=\"new\"></div></div><div class=\"anaCell anaOdd\">2</div><div class=\"anaCell anaOdd anaSubcolRight\"></div><div class=\"anaIndex anaEven\">ounap</div><div class=\"anaCell anaEven anaSubcolLeft\"><div class=\"new\"></div></div><div class=\"anaCell anaEven\">1</div><div class=\"anaCell anaEven anaSubcolRight\"></div><div class=\"anaIndex anaOdd\">neurod</div><div class=\"anaCell anaOdd anaSubcolLeft\"><div class=\"new\"></div></div><div class=\"anaCell anaOdd\">1</div><div class=\"anaCell anaOdd anaSubcolRight\"></div><div class=\"anaIndex anaEven\">phs002235.v1.p1</div><div class=\"anaCell anaEven anaSubcolLeft\"><div class=\"new\"></div></div><div class=\"anaCell anaEven\">1</div><div class=\"anaCell anaEven anaSubcolRight\"></div><div class=\"anaIndex anaOdd\">phs002235</div><div class=\"anaCell anaOdd anaSubcolLeft\"><div class=\"new\"></div></div><div class=\"anaCell anaOdd\">1</div><div class=\"anaCell anaOdd anaSubcolRight\"></div><div class=\"anaIndex anaEven\">ogrady</div><div class=\"anaCell anaEven anaSubcolLeft\"><div class=\"new\"></div></div><div class=\"anaCell anaEven\">1</div><div class=\"anaCell anaEven anaSubcolRight\"></div><div class=\"anaIndex anaOdd\">phs00220</div><div class=\"anaCell anaOdd anaSubcolLeft\"><div class=\"new\"></div></div><div class=\"anaCell anaOdd\">1</div><div class=\"anaCell anaOdd anaSubcolRight\"></div><div class=\"anaIndex anaEven\">phs0022</div><div class=\"anaCell anaEven anaSubcolLeft\"><div class=\"new\"></div></div><div class=\"anaCell anaEven\">1</div><div class=\"anaCell anaEven anaSubcolRight\"></div><div class=\"anaIndex anaOdd\">phs002</div><div class=\"anaCell anaOdd anaSubcolLeft\"><div class=\"new\"></div></div><div class=\"anaCell anaOdd\">1</div><div class=\"anaCell anaOdd anaSubcolRight\"></div><div class=\"anaIndex anaEven\">phs001846</div><div class=\"anaCell anaEven anaSubcolLeft\"><div class=\"new\"></div></div><div class=\"anaCell anaEven\">1</div><div class=\"anaCell anaEven anaSubcolRight\"></div><div class=\"anaIndex anaOdd\">phg000</div><div class=\"anaCell anaOdd anaSubcolLeft\"><div class=\"new\"></div></div><div class=\"anaCell anaOdd\">1</div><div class=\"anaCell anaOdd anaSubcolRight\"></div><div class=\"anaIndex anaEven\">phg0008</div><div class=\"anaCell anaEven anaSubcolLeft\"><div class=\"new\"></div></div><div class=\"anaCell anaEven\">1</div><div class=\"anaCell anaEven anaSubcolRight\"></div><div class=\"anaIndex anaOdd\">pacbio</div><div class=\"anaCell anaOdd anaSubcolLeft\"><div class=\"new\"></div></div><div class=\"anaCell anaOdd\">1</div><div class=\"anaCell anaOdd anaSubcolRight\"></div><div class=\"anaIndex anaEven\">phg</div><div class=\"anaCell anaEven anaSubcolLeft\"><div class=\"new\"></div></div><div class=\"anaCell anaEven\">1</div><div class=\"anaCell anaEven anaSubcolRight\"></div><div class=\"anaIndex anaOdd\">phs000424</div><div class=\"anaCell anaOdd anaSubcolLeft\"><div class=\"down\"></div></div><div class=\"anaCell anaOdd\">1</div><div class=\"anaCell anaOdd anaSubcolRight\"><div class=\"anaNegative\">(-50.00%)</div></div><div class=\"anaIndex anaEven\">phs00</div><div class=\"anaCell anaEven anaSubcolLeft\"><div class=\"new\"></div></div><div class=\"anaCell anaEven\">1</div><div class=\"anaCell anaEven anaSubcolRight\"></div><div class=\"anaIndex anaOdd\">phs002509.v1.p1</div><div class=\"anaCell anaOdd anaSubcolLeft\"><div class=\"new\"></div></div><div class=\"anaCell anaOdd\">1</div><div class=\"anaCell anaOdd anaSubcolRight\"></div></div>"
      ],
      "text/plain": [
       "<IPython.core.display.HTML object>"
      ]
     },
     "metadata": {},
     "output_type": "display_data"
    }
   ],
   "source": [
    "ac.show_difference_table(\"Count\", \"Text Input\", \"ga:hits\", \"ga:eventLabel\", filters=\"ga:eventCategory==Search;ga:eventAction==Enter Text;ga:eventLabel=~.{3\\\\,}\", **default_params)"
   ]
  },
  {
   "cell_type": "markdown",
   "id": "773d18d3",
   "metadata": {},
   "source": [
    "<div style=\"page-break-after: always\"></div>"
   ]
  },
  {
   "cell_type": "markdown",
   "id": "50658332",
   "metadata": {},
   "source": [
    "## Site Search\n",
    "### Top Text Searches"
   ]
  },
  {
   "cell_type": "code",
   "execution_count": 30,
   "id": "08375d58",
   "metadata": {
    "tags": [
     "remove-input"
    ]
   },
   "outputs": [
    {
     "data": {
      "text/html": [
       "<div class=\"analyticsTable\" style=\"grid-template-columns: 1fr var(--symbol-width) minmax(var(--value-width), min-content) minmax(var(--percentage-width), min-content)\"><div class=\"anaIndex anaColName\">Text Input</div><div class=\"anaColName\" style=\"grid-column: span 3\">Count</div><div class=\"anaIndex anaEven\">API</div><div class=\"anaCell anaEven anaSubcolLeft\"><div class=\"new\"></div></div><div class=\"anaCell anaEven\">3</div><div class=\"anaCell anaEven anaSubcolRight\"></div><div class=\"anaIndex anaOdd\">human</div><div class=\"anaCell anaOdd anaSubcolLeft\"><div class=\"new\"></div></div><div class=\"anaCell anaOdd\">2</div><div class=\"anaCell anaOdd anaSubcolRight\"></div><div class=\"anaIndex anaEven\">ac3</div><div class=\"anaCell anaEven anaSubcolLeft\"><div class=\"new\"></div></div><div class=\"anaCell anaEven\">2</div><div class=\"anaCell anaEven anaSubcolRight\"></div><div class=\"anaIndex anaOdd\">onboarding form</div><div class=\"anaCell anaOdd anaSubcolLeft\"><div class=\"up\"></div></div><div class=\"anaCell anaOdd\">2</div><div class=\"anaCell anaOdd anaSubcolRight\"><div class=\"anaPositive\">(+100.00%)</div></div><div class=\"anaIndex anaEven\">gtex</div><div class=\"anaCell anaEven anaSubcolLeft\"><div class=\"new\"></div></div><div class=\"anaCell anaEven\">2</div><div class=\"anaCell anaEven anaSubcolRight\"></div><div class=\"anaIndex anaOdd\">ac2</div><div class=\"anaCell anaOdd anaSubcolLeft\"><div class=\"new\"></div></div><div class=\"anaCell anaOdd\">2</div><div class=\"anaCell anaOdd anaSubcolRight\"></div><div class=\"anaIndex anaEven\">ingest data</div><div class=\"anaCell anaEven anaSubcolLeft\"><div class=\"new\"></div></div><div class=\"anaCell anaEven\">1</div><div class=\"anaCell anaEven anaSubcolRight\"></div><div class=\"anaIndex anaOdd\">irods</div><div class=\"anaCell anaOdd anaSubcolLeft\"><div class=\"new\"></div></div><div class=\"anaCell anaOdd\">1</div><div class=\"anaCell anaOdd anaSubcolRight\"></div><div class=\"anaIndex anaEven\">jon kaltman</div><div class=\"anaCell anaEven anaSubcolLeft\"><div class=\"new\"></div></div><div class=\"anaCell anaEven\">1</div><div class=\"anaCell anaEven anaSubcolRight\"></div><div class=\"anaIndex anaOdd\">landers</div><div class=\"anaCell anaOdd anaSubcolLeft\"><div class=\"new\"></div></div><div class=\"anaCell anaOdd\">1</div><div class=\"anaCell anaOdd anaSubcolRight\"></div><div class=\"anaIndex anaEven\">link</div><div class=\"anaCell anaEven anaSubcolLeft\"><div class=\"new\"></div></div><div class=\"anaCell anaEven\">1</div><div class=\"anaCell anaEven anaSubcolRight\"></div><div class=\"anaIndex anaOdd\">manumaahi111220@gmail.com</div><div class=\"anaCell anaOdd anaSubcolLeft\"><div class=\"new\"></div></div><div class=\"anaCell anaOdd\">1</div><div class=\"anaCell anaOdd anaSubcolRight\"></div><div class=\"anaIndex anaEven\">onboarding</div><div class=\"anaCell anaEven anaSubcolLeft\"><div class=\"new\"></div></div><div class=\"anaCell anaEven\">1</div><div class=\"anaCell anaEven anaSubcolRight\"></div><div class=\"anaIndex anaOdd\">23and</div><div class=\"anaCell anaOdd anaSubcolLeft\"><div class=\"new\"></div></div><div class=\"anaCell anaOdd\">1</div><div class=\"anaCell anaOdd anaSubcolRight\"></div><div class=\"anaIndex anaEven\">phg000830</div><div class=\"anaCell anaEven anaSubcolLeft\"><div class=\"new\"></div></div><div class=\"anaCell anaEven\">1</div><div class=\"anaCell anaEven anaSubcolRight\"></div><div class=\"anaIndex anaOdd\">phs000424.v8</div><div class=\"anaCell anaOdd anaSubcolLeft\"><div class=\"new\"></div></div><div class=\"anaCell anaOdd\">1</div><div class=\"anaCell anaOdd anaSubcolRight\"></div><div class=\"anaIndex anaEven\">phs002509</div><div class=\"anaCell anaEven anaSubcolLeft\"><div class=\"new\"></div></div><div class=\"anaCell anaEven\">1</div><div class=\"anaCell anaEven anaSubcolRight\"></div><div class=\"anaIndex anaOdd\">seqr</div><div class=\"anaCell anaOdd anaSubcolLeft\"><div class=\"down\"></div></div><div class=\"anaCell anaOdd\">1</div><div class=\"anaCell anaOdd anaSubcolRight\"><div class=\"anaNegative\">(-50.00%)</div></div><div class=\"anaIndex anaEven\">setting up a data model</div><div class=\"anaCell anaEven anaSubcolLeft\"><div class=\"new\"></div></div><div class=\"anaCell anaEven\">1</div><div class=\"anaCell anaEven anaSubcolRight\"></div><div class=\"anaIndex anaOdd\">spark</div><div class=\"anaCell anaOdd anaSubcolLeft\"><div class=\"new\"></div></div><div class=\"anaCell anaOdd\">1</div><div class=\"anaCell anaOdd anaSubcolRight\"></div><div class=\"anaIndex anaEven\">version</div><div class=\"anaCell anaEven anaSubcolLeft\"><div class=\"new\"></div></div><div class=\"anaCell anaEven\">1</div><div class=\"anaCell anaEven anaSubcolRight\"></div><div class=\"anaIndex anaOdd\">versioning</div><div class=\"anaCell anaOdd anaSubcolLeft\"><div class=\"new\"></div></div><div class=\"anaCell anaOdd\">1</div><div class=\"anaCell anaOdd anaSubcolRight\"></div><div class=\"anaIndex anaEven\">persona</div><div class=\"anaCell anaEven anaSubcolLeft\"><div class=\"new\"></div></div><div class=\"anaCell anaEven\">1</div><div class=\"anaCell anaEven anaSubcolRight\"></div><div class=\"anaIndex anaOdd\">gen3</div><div class=\"anaCell anaOdd anaSubcolLeft\"><div class=\"new\"></div></div><div class=\"anaCell anaOdd\">1</div><div class=\"anaCell anaOdd anaSubcolRight\"></div><div class=\"anaIndex anaEven\">gen3-client</div><div class=\"anaCell anaEven anaSubcolLeft\"><div class=\"new\"></div></div><div class=\"anaCell anaEven\">1</div><div class=\"anaCell anaEven anaSubcolRight\"></div><div class=\"anaIndex anaOdd\">Program</div><div class=\"anaCell anaOdd anaSubcolLeft\"><div class=\"new\"></div></div><div class=\"anaCell anaOdd\">1</div><div class=\"anaCell anaOdd anaSubcolRight\"></div><div class=\"anaIndex anaEven\">AC#</div><div class=\"anaCell anaEven anaSubcolLeft\"><div class=\"new\"></div></div><div class=\"anaCell anaEven\">1</div><div class=\"anaCell anaEven anaSubcolRight\"></div><div class=\"anaIndex anaOdd\">AC3</div><div class=\"anaCell anaOdd anaSubcolLeft\"><div class=\"new\"></div></div><div class=\"anaCell anaOdd\">1</div><div class=\"anaCell anaOdd anaSubcolRight\"></div><div class=\"anaIndex anaEven\">DRS</div><div class=\"anaCell anaEven anaSubcolLeft\"><div class=\"new\"></div></div><div class=\"anaCell anaEven\">1</div><div class=\"anaCell anaEven anaSubcolRight\"></div><div class=\"anaIndex anaOdd\">ERS4367798</div><div class=\"anaCell anaOdd anaSubcolLeft\"><div class=\"new\"></div></div><div class=\"anaCell anaOdd\">1</div><div class=\"anaCell anaOdd anaSubcolRight\"></div></div>"
      ],
      "text/plain": [
       "<IPython.core.display.HTML object>"
      ]
     },
     "metadata": {},
     "output_type": "display_data"
    }
   ],
   "source": [
    "ac.show_difference_table(\"Count\", \"Text Input\", \"ga:hits\", \"ga:eventLabel\", filters=\"ga:eventCategory==Site Search;ga:eventAction==Search;ga:eventLabel=~.{3\\\\,}\", **default_params)"
   ]
  },
  {
   "cell_type": "markdown",
   "id": "2f935d03",
   "metadata": {},
   "source": [
    "<div style=\"page-break-after: always\"></div>"
   ]
  },
  {
   "cell_type": "markdown",
   "id": "3a767848",
   "metadata": {},
   "source": [
    "### Top Search Click Throughs"
   ]
  },
  {
   "cell_type": "code",
   "execution_count": 31,
   "id": "dc60bbdd",
   "metadata": {
    "tags": [
     "remove-input"
    ]
   },
   "outputs": [
    {
     "data": {
      "text/html": [
       "<div class=\"analyticsTable\" style=\"grid-template-columns: 1fr var(--symbol-width) minmax(var(--value-width), min-content) minmax(var(--percentage-width), min-content)\"><div class=\"anaIndex anaColName\">Clicked Search Result</div><div class=\"anaColName\" style=\"grid-column: span 3\">Count</div><div class=\"anaIndex anaEven\">FAQ - Data Submission | The AnVIL</div><div class=\"anaCell anaEven anaSubcolLeft\"><div class=\"up\"></div></div><div class=\"anaCell anaEven\">4</div><div class=\"anaCell anaEven anaSubcolRight\"><div class=\"anaPositive\">(+100.00%)</div></div><div class=\"anaIndex anaOdd\">AnVIL Hosts Release 1 of the Human Pangenome Reference ...</div><div class=\"anaCell anaOdd anaSubcolLeft\"><div class=\"new\"></div></div><div class=\"anaCell anaOdd\">3</div><div class=\"anaCell anaOdd anaSubcolRight\"></div><div class=\"anaIndex anaEven\">Announcing the AnVIL Cloud Credits Continued Program (AC3 ...</div><div class=\"anaCell anaEven anaSubcolLeft\"><div class=\"up\"></div></div><div class=\"anaCell anaEven\">3</div><div class=\"anaCell anaEven anaSubcolRight\"><div class=\"anaPositive\">(+50.00%)</div></div><div class=\"anaIndex anaOdd\">Announcing the AnVIL Cloud Credits Program (AC2) | The AnVIL</div><div class=\"anaCell anaOdd anaSubcolLeft\"><div class=\"new\"></div></div><div class=\"anaCell anaOdd\">2</div><div class=\"anaCell anaOdd anaSubcolRight\"></div><div class=\"anaIndex anaEven\">Creating Links in Markdown | The AnVIL</div><div class=\"anaCell anaEven anaSubcolLeft\"><div class=\"new\"></div></div><div class=\"anaCell anaEven\">2</div><div class=\"anaCell anaEven anaSubcolRight\"></div><div class=\"anaIndex anaOdd\">Getting Started with AnVIL | The AnVIL</div><div class=\"anaCell anaOdd anaSubcolLeft\"><div class=\"new\"></div></div><div class=\"anaCell anaOdd\">2</div><div class=\"anaCell anaOdd anaSubcolRight\"></div><div class=\"anaIndex anaEven\">Announcing the AnVIL Cloud Credits Program (AC2) Awardees ...</div><div class=\"anaCell anaEven anaSubcolLeft\"><div class=\"new\"></div></div><div class=\"anaCell anaEven\">1</div><div class=\"anaCell anaEven anaSubcolRight\"></div><div class=\"anaIndex anaOdd\">Genotype-Tissue Expression (GTEx) | The AnVIL</div><div class=\"anaCell anaOdd anaSubcolLeft\"><div class=\"new\"></div></div><div class=\"anaCell anaOdd\">1</div><div class=\"anaCell anaOdd anaSubcolRight\"></div><div class=\"anaIndex anaEven\">Is is possible to run Rstudio + Spark Cluster? – Terra Support</div><div class=\"anaCell anaEven anaSubcolLeft\"><div class=\"new\"></div></div><div class=\"anaCell anaEven\">1</div><div class=\"anaCell anaEven anaSubcolRight\"></div><div class=\"anaIndex anaOdd\">NHLBI BioData Catalyst (BDC) | NCPI</div><div class=\"anaCell anaOdd anaSubcolLeft\"><div class=\"new\"></div></div><div class=\"anaCell anaOdd\">1</div><div class=\"anaCell anaOdd anaSubcolRight\"></div><div class=\"anaIndex anaEven\">Reproducible Analysis of Human Pangenome Data using the AnVIL ...</div><div class=\"anaCell anaEven anaSubcolLeft\"><div class=\"new\"></div></div><div class=\"anaCell anaEven\">1</div><div class=\"anaCell anaEven anaSubcolRight\"></div><div class=\"anaIndex anaOdd\">Seqr Videos | The AnVIL</div><div class=\"anaCell anaOdd anaSubcolLeft\"><div class=\"new\"></div></div><div class=\"anaCell anaOdd\">1</div><div class=\"anaCell anaOdd anaSubcolRight\"></div><div class=\"anaIndex anaEven\">Step 2 - Set Up a Data Model | The AnVIL</div><div class=\"anaCell anaEven anaSubcolLeft\"><div class=\"new\"></div></div><div class=\"anaCell anaEven\">1</div><div class=\"anaCell anaEven anaSubcolRight\"></div><div class=\"anaIndex anaOdd\">Tuning Apache Spark in Runtimes – Terra Support</div><div class=\"anaCell anaOdd anaSubcolLeft\"><div class=\"new\"></div></div><div class=\"anaCell anaOdd\">1</div><div class=\"anaCell anaOdd anaSubcolRight\"></div><div class=\"anaIndex anaEven\">Withdrawing Data from AnVIL | The AnVIL</div><div class=\"anaCell anaEven anaSubcolLeft\"><div class=\"new\"></div></div><div class=\"anaCell anaEven\">1</div><div class=\"anaCell anaEven anaSubcolRight\"></div><div class=\"anaIndex anaOdd\">convert 23and me to vcf - vcf - Galaxy Community Help</div><div class=\"anaCell anaOdd anaSubcolLeft\"><div class=\"new\"></div></div><div class=\"anaCell anaOdd\">1</div><div class=\"anaCell anaOdd anaSubcolRight\"></div></div>"
      ],
      "text/plain": [
       "<IPython.core.display.HTML object>"
      ]
     },
     "metadata": {},
     "output_type": "display_data"
    }
   ],
   "source": [
    "ac.show_difference_table(\"Count\", \"Clicked Search Result\", \"ga:hits\", \"ga:eventLabel\", filters=\"ga:eventCategory==Site Search;ga:eventAction==Select Search Result\", **default_params)"
   ]
  },
  {
   "cell_type": "code",
   "execution_count": null,
   "id": "070c32c9",
   "metadata": {},
   "outputs": [],
   "source": []
  },
  {
   "cell_type": "code",
   "execution_count": null,
   "id": "512466e2",
   "metadata": {},
   "outputs": [],
   "source": []
  }
 ],
 "metadata": {
  "celltoolbar": "Tags",
  "kernelspec": {
   "display_name": "Python 3 (ipykernel)",
   "language": "python",
   "name": "python3"
  },
  "language_info": {
   "codemirror_mode": {
    "name": "ipython",
    "version": 3
   },
   "file_extension": ".py",
   "mimetype": "text/x-python",
   "name": "python",
   "nbconvert_exporter": "python",
   "pygments_lexer": "ipython3",
   "version": "3.9.7"
  }
 },
 "nbformat": 4,
 "nbformat_minor": 5
}
