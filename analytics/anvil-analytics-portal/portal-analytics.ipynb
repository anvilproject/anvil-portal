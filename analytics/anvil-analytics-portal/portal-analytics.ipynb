{
 "cells": [
  {
   "attachments": {},
   "cell_type": "markdown",
   "id": "98bd0cf6",
   "metadata": {},
   "source": [
    "```{image} anvil-logo.png\n",
    ":width: 200px\n",
    ":class: analytics-logo\n",
    "```\n",
    "\n",
    "# AnVIL Portal User Analytics - May vs April 2023\n",
    "\n",
    "This section displays metrics collected from Google Analytics for the AnVIL Portal at https://anvilproject.org and compares May 2023 with the previous month (April 2023). The generation of this report is now coded in Jupyter notebooks and can be rerun easily and modified or consolidated as desired.\n",
    "\n",
    "### Key to tables\n",
    "\n",
    "On the tables:\n",
    "\n",
    "* Diffs, e.g. <span style=\"color: green\">(+19.04%)</span> or <span style=\"color: red\">(-12.03%)</span>, compare the later month with the previous month.\n",
    "* \"+\" Indicates the entry is new in the report in the current month.\n",
    "* \"↑\" Indicates the entry has moved up in rank since the last month.\n",
    "* \"↓\" Indicates the entry has moved down in rank since the last month."
   ]
  },
  {
   "cell_type": "code",
   "execution_count": 1,
   "id": "c1204f97",
   "metadata": {
    "tags": [
     "remove-cell"
    ]
   },
   "outputs": [],
   "source": [
    "import warnings\n",
    "warnings.filterwarnings('ignore')"
   ]
  },
  {
   "cell_type": "code",
   "execution_count": 1,
   "id": "c19c88f8",
   "metadata": {
    "scrolled": true,
    "tags": [
     "remove-cell"
    ]
   },
   "outputs": [],
   "source": [
    "# !pip install google_auth_oauthlib \n",
    "# !pip install install google-api-python-client\n",
    "# !pip install pandas \n",
    "# !pip install numpy\n",
    "# !pip install matplotlib\n",
    "# !pip install google-cloud-bigquery\n",
    "# !pip install db-dtypes\n",
    "\n",
    "# Analytics package:\n",
    "# !pip install -e \"git+https://github.com/DataBiosphere/data-browser.git@5042e623bfe6ad8404be5f60e1ddb3c0e8e7d6b3#egg=analytics&subdirectory=analytics/hdgar-book/analytics_package\""
   ]
  },
  {
   "cell_type": "code",
   "execution_count": 2,
   "id": "70fb2997",
   "metadata": {
    "scrolled": false,
    "tags": [
     "remove-cell"
    ]
   },
   "outputs": [],
   "source": [
    "from IPython.display import display\n",
    "import pandas as pd\n",
    "import analytics.charts as ac\n",
    "\n",
    "%load_ext autoreload\n",
    "%autoreload 2\n",
    "\n",
    "import analytics_anvil as anvil\n",
    "\n",
    "SECRET_NAME = 'ANVIL_ANALYTICS_REPORTING_CLIENT_SECRET_PATH'\n",
    "GA_PROPERTY_PORTAL = \"368678391\" # AnVIL Portal - GA4\n",
    "EXCLUDE_PAGES_FILTER = \"landingPagePlusQueryString!=/guides/content/creating-links;pagePath!~^/ncpi/?\"\n",
    "ANALYTICS_START = \"2020-02-01\"\n",
    "TODAY = 'today'\n",
    "PERIOD = \"2023-05\"\n",
    "PREV_PERIOD = \"2023-04\"\n",
    "\n",
    "GA3_END = \"2023-04-30\"\n",
    "GA4_START = \"2023-05-01\""
   ]
  },
  {
   "cell_type": "code",
   "execution_count": 6,
   "id": "6571a948",
   "metadata": {
    "tags": [
     "remove-cell"
    ]
   },
   "outputs": [
    {
     "name": "stdout",
     "output_type": "stream",
     "text": [
      "Please visit this URL to authorize this application: https://accounts.google.com/o/oauth2/auth?response_type=code&client_id=526897014808-dq9pt3bmnutqqjdvj1f5roflpgcvqmpt.apps.googleusercontent.com&redirect_uri=http%3A%2F%2Flocalhost%3A8082%2F&scope=https%3A%2F%2Fwww.googleapis.com%2Fauth%2Fanalytics.readonly&state=1APfBckTQe4d2T6pJKZ3Wm3nHnn2Qt&access_type=offline\n"
     ]
    }
   ],
   "source": [
    "default_params_portal = {\n",
    "    \"service_system\": anvil.authenticate_ga_portal(SECRET_NAME),\n",
    "    \"property\": GA_PROPERTY_PORTAL,\n",
    "    \"index_key_formatter\": anvil.adjust_table_index_key,\n",
    "    \"period\": PERIOD,\n",
    "    \"prev_period\": PREV_PERIOD,\n",
    "    \"base_dimension_filter\": EXCLUDE_PAGES_FILTER\n",
    "}"
   ]
  },
  {
   "cell_type": "code",
   "execution_count": 2,
   "id": "85a3435e",
   "metadata": {
    "tags": [
     "remove-cell"
    ]
   },
   "outputs": [
    {
     "name": "stdout",
     "output_type": "stream",
     "text": [
      "Please visit this URL to authorize this application: https://accounts.google.com/o/oauth2/auth?response_type=code&client_id=526897014808-dq9pt3bmnutqqjdvj1f5roflpgcvqmpt.apps.googleusercontent.com&redirect_uri=http%3A%2F%2Flocalhost%3A8080%2F&scope=https%3A%2F%2Fwww.googleapis.com%2Fauth%2Fyt-analytics.readonly+https%3A%2F%2Fwww.googleapis.com%2Fauth%2Fyoutube&state=YOZ1eONL2QN81tjwD9uOw1YavJIyCa&access_type=offline\n"
     ]
    }
   ],
   "source": [
    "default_params_yt = {\n",
    "    \"service_system\": anvil.authenticate_yt(SECRET_NAME),\n",
    "    \"property\": \"channel==MINE\",\n",
    "    \"property_prefix\": \"\",\n",
    "    \"period\": PERIOD,\n",
    "    \"prev_period\": PREV_PERIOD\n",
    "}"
   ]
  },
  {
   "cell_type": "code",
   "execution_count": 3,
   "id": "3e54340a",
   "metadata": {
    "tags": [
     "remove-input"
    ]
   },
   "outputs": [
    {
     "data": {
      "text/html": [
       "\n",
       "\t\t<style>\n",
       "\t\t\t\n",
       "\t\t\t.analyticsTable {\n",
       "\t\t\t\tdisplay: grid;\n",
       "\t\t\t\t--symbol-width: 1.5em;\n",
       "\t\t\t\t--value-width: 2.9em;\n",
       "\t\t\t\t--percentage-width: 6.8em;\n",
       "\t\t\t}\n",
       "\t\t\t\n",
       "\t\t\t/*\n",
       "\t\t\t.anaEven {\n",
       "\t\t\t\tbackground: #f5f5f5;\n",
       "\t\t\t}\n",
       "\t\t\t*/\n",
       "\t\t\t\n",
       "\t\t\t.anaIndex:not(.anaColName) {\n",
       "\t\t\t\twhite-space: pre-wrap;\n",
       "\t\t\t\tline-break: anywhere;\n",
       "\t\t\t\tword-break: break-all;\n",
       "\t\t\t}\n",
       "\t\t\t\n",
       "\t\t\t.anaColName {\n",
       "\t\t\t\tfont-weight: bold;\n",
       "\t\t\t\tborder-bottom: 1px solid black;\n",
       "\t\t\t}\n",
       "\t\t\t\n",
       "\t\t\t.anaIndex, .anaColName, .anaCell {\n",
       "\t\t\t\tpadding: 0.3em;\n",
       "\t\t\t}\n",
       "\t\t\t\n",
       "\t\t\t.anaSubcolLeft, .anaIndex {\n",
       "\t\t\t\tpadding-left: 1em;\n",
       "\t\t\t}\n",
       "\t\t\t\n",
       "\t\t\t.anaSubcolRight {\n",
       "\t\t\t\tpadding-right: 1em;\n",
       "\t\t\t}\n",
       "\t\t\t\n",
       "\t\t\t.anaColName:not(.anaIndex) {\n",
       "\t\t\t\ttext-align: center;\n",
       "\t\t\t}\n",
       "\t\t\t\n",
       "\t\t\t.anaCell:not(.anaIndex) {\n",
       "\t\t\t\ttext-align: right;\n",
       "\t\t\t}\n",
       "\t\t\t\n",
       "\t\t\t.analyticsTable .up::before {\n",
       "\t\t\t\tcontent: \"↑\";\n",
       "\t\t\t\tcolor: gray;\n",
       "\t\t\t}\n",
       "\t\t\t\n",
       "\t\t\t.analyticsTable .down::before {\n",
       "\t\t\t\tcontent: \"↓\";\n",
       "\t\t\t\tcolor: gray;\n",
       "\t\t\t}\n",
       "\t\t\t\n",
       "\t\t\t.analyticsTable .new::before {\n",
       "\t\t\t\tcontent: \"+\";\n",
       "\t\t\t\tcolor: gray;\n",
       "\t\t\t}\n",
       "\t\t\t\n",
       "\t\t\t.anaPositive {\n",
       "\t\t\t\tcolor: green;\n",
       "\t\t\t}\n",
       "\t\t\t\n",
       "\t\t\t.anaNegative {\n",
       "\t\t\t\tcolor: red;\n",
       "\t\t\t}\n",
       "\t\t\t\n",
       "\t\t</style>\n",
       "\t"
      ],
      "text/plain": [
       "<IPython.core.display.HTML object>"
      ]
     },
     "metadata": {},
     "output_type": "display_data"
    }
   ],
   "source": [
    "ac.init_tables()"
   ]
  },
  {
   "cell_type": "code",
   "execution_count": 3,
   "id": "a0c016d5",
   "metadata": {
    "tags": [
     "remove-cell"
    ]
   },
   "outputs": [
    {
     "name": "stdout",
     "output_type": "stream",
     "text": [
      "Please visit this URL to authorize this application: https://accounts.google.com/o/oauth2/auth?response_type=code&client_id=526897014808-dq9pt3bmnutqqjdvj1f5roflpgcvqmpt.apps.googleusercontent.com&redirect_uri=http%3A%2F%2Flocalhost%3A8082%2F&scope=https%3A%2F%2Fwww.googleapis.com%2Fauth%2Fanalytics.readonly&state=xHVVTclRevlLwUNU2iqVxFtHY550GS&access_type=offline\n"
     ]
    }
   ],
   "source": [
    "# ga3_service_system = ac.authenticate_ga(SECRET_NAME)"
   ]
  },
  {
   "cell_type": "code",
   "execution_count": 4,
   "id": "990e43f1",
   "metadata": {
    "tags": [
     "remove-cell"
    ]
   },
   "outputs": [],
   "source": [
    "# ga3_users_over_time_params = {\n",
    "#     \"start_date\": ANALYTICS_START,\n",
    "#     \"end_date\": GA3_END,\n",
    "#     \"service_system\": ga3_service_system,\n",
    "#     \"property\": \"207946923\",\n",
    "#     \"segment\": \"gaid::OQuBQA7JTm2sv81HTe_50g\"\n",
    "# }\n",
    "# \n",
    "# anvil.save_ga3_users_over_time_data({}, {\"filters\": \"ga:pagePath!~^/data/?\"}, **ga3_users_over_time_params)"
   ]
  },
  {
   "cell_type": "markdown",
   "id": "1919eb1b",
   "metadata": {},
   "source": [
    "## Monthly Users and Page Views (All Time)"
   ]
  },
  {
   "cell_type": "code",
   "execution_count": 9,
   "id": "5774475a",
   "metadata": {
    "tags": [
     "remove-input"
    ]
   },
   "outputs": [
    {
     "data": {
      "image/png": "[encoded data removed]",
      "text/plain": [
       "<Figure size 1600x900 with 1 Axes>"
      ]
     },
     "metadata": {},
     "output_type": "display_data"
    }
   ],
   "source": [
    "users_over_time_table = anvil.plot_users_over_time(start_date=GA4_START, end_date=TODAY, **default_params_portal)"
   ]
  },
  {
   "cell_type": "code",
   "execution_count": 10,
   "id": "0a5ed81c",
   "metadata": {
    "tags": [
     "remove-input"
    ]
   },
   "outputs": [
    {
     "data": {
      "text/html": [
       "<div class=\"analyticsTable\" style=\"grid-template-columns: repeat(1, auto) 1fr minmax(var(--value-width), min-content) minmax(var(--percentage-width), min-content) minmax(var(--value-width), min-content) minmax(var(--percentage-width), min-content)\"><div class=\"anaIndex anaColName\">Year</div><div class=\"anaIndex anaColName\">Month</div><div class=\"anaColName\" style=\"grid-column: span 2\">Users</div><div class=\"anaColName\" style=\"grid-column: span 2\">Total Pageviews</div><div class=\"anaIndex anaEven\" style=\"grid-row: span 5\">2023</div><div class=\"anaIndex anaEven\" style=\"grid-row: span 1\">May</div><div class=\"anaCell anaEven anaSubcolLeft\">7701</div><div class=\"anaCell anaEven anaSubcolRight\"><div class=\"anaPositive\">(+216.39%)</div></div><div class=\"anaCell anaEven anaSubcolLeft\">6827</div><div class=\"anaCell anaEven anaSubcolRight\"><div class=\"anaNegative\">(-17.95%)</div></div><div class=\"anaIndex anaOdd\" style=\"grid-row: span 1\">April</div><div class=\"anaCell anaOdd anaSubcolLeft\">2434</div><div class=\"anaCell anaOdd anaSubcolRight\"><div class=\"anaNegative\">(-2.95%)</div></div><div class=\"anaCell anaOdd anaSubcolLeft\">8321</div><div class=\"anaCell anaOdd anaSubcolRight\"><div class=\"anaPositive\">(+0.97%)</div></div><div class=\"anaIndex anaEven\" style=\"grid-row: span 1\">March</div><div class=\"anaCell anaEven anaSubcolLeft\">2508</div><div class=\"anaCell anaEven anaSubcolRight\"><div class=\"anaPositive\">(+1.62%)</div></div><div class=\"anaCell anaEven anaSubcolLeft\">8241</div><div class=\"anaCell anaEven anaSubcolRight\"><div class=\"anaPositive\">(+14.11%)</div></div><div class=\"anaIndex anaOdd\" style=\"grid-row: span 1\">February</div><div class=\"anaCell anaOdd anaSubcolLeft\">2468</div><div class=\"anaCell anaOdd anaSubcolRight\"><div class=\"anaNegative\">(-11.67%)</div></div><div class=\"anaCell anaOdd anaSubcolLeft\">7222</div><div class=\"anaCell anaOdd anaSubcolRight\"><div class=\"anaPositive\">(+9.49%)</div></div><div class=\"anaIndex anaEven\" style=\"grid-row: span 1\">January</div><div class=\"anaCell anaEven anaSubcolLeft\">2794</div><div class=\"anaCell anaEven anaSubcolRight\"><div class=\"anaPositive\">(+57.85%)</div></div><div class=\"anaCell anaEven anaSubcolLeft\">6596</div><div class=\"anaCell anaEven anaSubcolRight\"><div class=\"anaPositive\">(+40.46%)</div></div><div class=\"anaIndex anaOdd\" style=\"grid-row: span 12\">2022</div><div class=\"anaIndex anaOdd\" style=\"grid-row: span 1\">December</div><div class=\"anaCell anaOdd anaSubcolLeft\">1770</div><div class=\"anaCell anaOdd anaSubcolRight\"><div class=\"anaNegative\">(-18.70%)</div></div><div class=\"anaCell anaOdd anaSubcolLeft\">4696</div><div class=\"anaCell anaOdd anaSubcolRight\"><div class=\"anaNegative\">(-33.52%)</div></div><div class=\"anaIndex anaEven\" style=\"grid-row: span 1\">November</div><div class=\"anaCell anaEven anaSubcolLeft\">2177</div><div class=\"anaCell anaEven anaSubcolRight\"><div class=\"anaNegative\">(-4.48%)</div></div><div class=\"anaCell anaEven anaSubcolLeft\">7064</div><div class=\"anaCell anaEven anaSubcolRight\"><div class=\"anaNegative\">(-0.31%)</div></div><div class=\"anaIndex anaOdd\" style=\"grid-row: span 1\">October</div><div class=\"anaCell anaOdd anaSubcolLeft\">2279</div><div class=\"anaCell anaOdd anaSubcolRight\"><div class=\"anaPositive\">(+9.41%)</div></div><div class=\"anaCell anaOdd anaSubcolLeft\">7086</div><div class=\"anaCell anaOdd anaSubcolRight\"><div class=\"anaPositive\">(+6.11%)</div></div><div class=\"anaIndex anaEven\" style=\"grid-row: span 1\">September</div><div class=\"anaCell anaEven anaSubcolLeft\">2083</div><div class=\"anaCell anaEven anaSubcolRight\"><div class=\"anaPositive\">(+15.15%)</div></div><div class=\"anaCell anaEven anaSubcolLeft\">6678</div><div class=\"anaCell anaEven anaSubcolRight\"><div class=\"anaPositive\">(+15.84%)</div></div><div class=\"anaIndex anaOdd\" style=\"grid-row: span 1\">August</div><div class=\"anaCell anaOdd anaSubcolLeft\">1809</div><div class=\"anaCell anaOdd anaSubcolRight\"><div class=\"anaNegative\">(-6.07%)</div></div><div class=\"anaCell anaOdd anaSubcolLeft\">5765</div><div class=\"anaCell anaOdd anaSubcolRight\"><div class=\"anaPositive\">(+11.81%)</div></div><div class=\"anaIndex anaEven\" style=\"grid-row: span 1\">July</div><div class=\"anaCell anaEven anaSubcolLeft\">1926</div><div class=\"anaCell anaEven anaSubcolRight\"><div class=\"anaNegative\">(-22.21%)</div></div><div class=\"anaCell anaEven anaSubcolLeft\">5156</div><div class=\"anaCell anaEven anaSubcolRight\"><div class=\"anaNegative\">(-37.02%)</div></div><div class=\"anaIndex anaOdd\" style=\"grid-row: span 1\">June</div><div class=\"anaCell anaOdd anaSubcolLeft\">2476</div><div class=\"anaCell anaOdd anaSubcolRight\"><div class=\"anaNegative\">(-19.87%)</div></div><div class=\"anaCell anaOdd anaSubcolLeft\">8187</div><div class=\"anaCell anaOdd anaSubcolRight\"><div class=\"anaNegative\">(-8.04%)</div></div><div class=\"anaIndex anaEven\" style=\"grid-row: span 1\">May</div><div class=\"anaCell anaEven anaSubcolLeft\">3090</div><div class=\"anaCell anaEven anaSubcolRight\"><div class=\"anaPositive\">(+31.21%)</div></div><div class=\"anaCell anaEven anaSubcolLeft\">8903</div><div class=\"anaCell anaEven anaSubcolRight\"><div class=\"anaPositive\">(+26.73%)</div></div><div class=\"anaIndex anaOdd\" style=\"grid-row: span 1\">April</div><div class=\"anaCell anaOdd anaSubcolLeft\">2355</div><div class=\"anaCell anaOdd anaSubcolRight\"><div class=\"anaNegative\">(-20.92%)</div></div><div class=\"anaCell anaOdd anaSubcolLeft\">7025</div><div class=\"anaCell anaOdd anaSubcolRight\"><div class=\"anaNegative\">(-15.22%)</div></div><div class=\"anaIndex anaEven\" style=\"grid-row: span 1\">March</div><div class=\"anaCell anaEven anaSubcolLeft\">2978</div><div class=\"anaCell anaEven anaSubcolRight\"><div class=\"anaPositive\">(+21.06%)</div></div><div class=\"anaCell anaEven anaSubcolLeft\">8286</div><div class=\"anaCell anaEven anaSubcolRight\"><div class=\"anaPositive\">(+27.09%)</div></div><div class=\"anaIndex anaOdd\" style=\"grid-row: span 1\">February</div><div class=\"anaCell anaOdd anaSubcolLeft\">2460</div><div class=\"anaCell anaOdd anaSubcolRight\"><div class=\"anaNegative\">(-8.89%)</div></div><div class=\"anaCell anaOdd anaSubcolLeft\">6520</div><div class=\"anaCell anaOdd anaSubcolRight\"><div class=\"anaNegative\">(-17.70%)</div></div><div class=\"anaIndex anaEven\" style=\"grid-row: span 1\">January</div><div class=\"anaCell anaEven anaSubcolLeft\">2700</div><div class=\"anaCell anaEven anaSubcolRight\"><div class=\"anaPositive\">(+66.98%)</div></div><div class=\"anaCell anaEven anaSubcolLeft\">7922</div><div class=\"anaCell anaEven anaSubcolRight\"><div class=\"anaPositive\">(+56.96%)</div></div><div class=\"anaIndex anaOdd\" style=\"grid-row: span 12\">2021</div><div class=\"anaIndex anaOdd\" style=\"grid-row: span 1\">December</div><div class=\"anaCell anaOdd anaSubcolLeft\">1617</div><div class=\"anaCell anaOdd anaSubcolRight\"><div class=\"anaNegative\">(-3.69%)</div></div><div class=\"anaCell anaOdd anaSubcolLeft\">5047</div><div class=\"anaCell anaOdd anaSubcolRight\"><div class=\"anaNegative\">(-12.88%)</div></div><div class=\"anaIndex anaEven\" style=\"grid-row: span 1\">November</div><div class=\"anaCell anaEven anaSubcolLeft\">1679</div><div class=\"anaCell anaEven anaSubcolRight\"><div class=\"anaNegative\">(-6.88%)</div></div><div class=\"anaCell anaEven anaSubcolLeft\">5793</div><div class=\"anaCell anaEven anaSubcolRight\"><div class=\"anaPositive\">(+0.12%)</div></div><div class=\"anaIndex anaOdd\" style=\"grid-row: span 1\">October</div><div class=\"anaCell anaOdd anaSubcolLeft\">1803</div><div class=\"anaCell anaOdd anaSubcolRight\"><div class=\"anaPositive\">(+27.33%)</div></div><div class=\"anaCell anaOdd anaSubcolLeft\">5786</div><div class=\"anaCell anaOdd anaSubcolRight\"><div class=\"anaPositive\">(+0.45%)</div></div><div class=\"anaIndex anaEven\" style=\"grid-row: span 1\">September</div><div class=\"anaCell anaEven anaSubcolLeft\">1416</div><div class=\"anaCell anaEven anaSubcolRight\"><div class=\"anaPositive\">(+12.56%)</div></div><div class=\"anaCell anaEven anaSubcolLeft\">5760</div><div class=\"anaCell anaEven anaSubcolRight\"><div class=\"anaPositive\">(+23.58%)</div></div><div class=\"anaIndex anaOdd\" style=\"grid-row: span 1\">August</div><div class=\"anaCell anaOdd anaSubcolLeft\">1258</div><div class=\"anaCell anaOdd anaSubcolRight\"><div class=\"anaNegative\">(-1.26%)</div></div><div class=\"anaCell anaOdd anaSubcolLeft\">4661</div><div class=\"anaCell anaOdd anaSubcolRight\"><div class=\"anaNegative\">(-11.07%)</div></div><div class=\"anaIndex anaEven\" style=\"grid-row: span 1\">July</div><div class=\"anaCell anaEven anaSubcolLeft\">1274</div><div class=\"anaCell anaEven anaSubcolRight\"><div class=\"anaPositive\">(+7.06%)</div></div><div class=\"anaCell anaEven anaSubcolLeft\">5241</div><div class=\"anaCell anaEven anaSubcolRight\"><div class=\"anaNegative\">(-6.16%)</div></div><div class=\"anaIndex anaOdd\" style=\"grid-row: span 1\">June</div><div class=\"anaCell anaOdd anaSubcolLeft\">1190</div><div class=\"anaCell anaOdd anaSubcolRight\"><div class=\"anaNegative\">(-1.82%)</div></div><div class=\"anaCell anaOdd anaSubcolLeft\">5585</div><div class=\"anaCell anaOdd anaSubcolRight\"><div class=\"anaPositive\">(+9.77%)</div></div><div class=\"anaIndex anaEven\" style=\"grid-row: span 1\">May</div><div class=\"anaCell anaEven anaSubcolLeft\">1212</div><div class=\"anaCell anaEven anaSubcolRight\"><div class=\"anaPositive\">(+83.36%)</div></div><div class=\"anaCell anaEven anaSubcolLeft\">5088</div><div class=\"anaCell anaEven anaSubcolRight\"><div class=\"anaPositive\">(+113.15%)</div></div><div class=\"anaIndex anaOdd\" style=\"grid-row: span 1\">April</div><div class=\"anaCell anaOdd anaSubcolLeft\">661</div><div class=\"anaCell anaOdd anaSubcolRight\"></div><div class=\"anaCell anaOdd anaSubcolLeft\">2387</div><div class=\"anaCell anaOdd anaSubcolRight\"></div><div class=\"anaIndex anaEven\" style=\"grid-row: span 1\">March</div><div class=\"anaCell anaEven anaSubcolLeft\">0</div><div class=\"anaCell anaEven anaSubcolRight\"></div><div class=\"anaCell anaEven anaSubcolLeft\">0</div><div class=\"anaCell anaEven anaSubcolRight\"></div><div class=\"anaIndex anaOdd\" style=\"grid-row: span 1\">February</div><div class=\"anaCell anaOdd anaSubcolLeft\">0</div><div class=\"anaCell anaOdd anaSubcolRight\"></div><div class=\"anaCell anaOdd anaSubcolLeft\">0</div><div class=\"anaCell anaOdd anaSubcolRight\"></div><div class=\"anaIndex anaEven\" style=\"grid-row: span 1\">January</div><div class=\"anaCell anaEven anaSubcolLeft\">0</div><div class=\"anaCell anaEven anaSubcolRight\"></div><div class=\"anaCell anaEven anaSubcolLeft\">0</div><div class=\"anaCell anaEven anaSubcolRight\"></div><div class=\"anaIndex anaOdd\" style=\"grid-row: span 11\">2020</div><div class=\"anaIndex anaOdd\" style=\"grid-row: span 1\">December</div><div class=\"anaCell anaOdd anaSubcolLeft\">0</div><div class=\"anaCell anaOdd anaSubcolRight\"></div><div class=\"anaCell anaOdd anaSubcolLeft\">0</div><div class=\"anaCell anaOdd anaSubcolRight\"></div><div class=\"anaIndex anaEven\" style=\"grid-row: span 1\">November</div><div class=\"anaCell anaEven anaSubcolLeft\">0</div><div class=\"anaCell anaEven anaSubcolRight\"></div><div class=\"anaCell anaEven anaSubcolLeft\">0</div><div class=\"anaCell anaEven anaSubcolRight\"></div><div class=\"anaIndex anaOdd\" style=\"grid-row: span 1\">October</div><div class=\"anaCell anaOdd anaSubcolLeft\">0</div><div class=\"anaCell anaOdd anaSubcolRight\"></div><div class=\"anaCell anaOdd anaSubcolLeft\">0</div><div class=\"anaCell anaOdd anaSubcolRight\"></div><div class=\"anaIndex anaEven\" style=\"grid-row: span 1\">September</div><div class=\"anaCell anaEven anaSubcolLeft\">0</div><div class=\"anaCell anaEven anaSubcolRight\"></div><div class=\"anaCell anaEven anaSubcolLeft\">0</div><div class=\"anaCell anaEven anaSubcolRight\"></div><div class=\"anaIndex anaOdd\" style=\"grid-row: span 1\">August</div><div class=\"anaCell anaOdd anaSubcolLeft\">0</div><div class=\"anaCell anaOdd anaSubcolRight\"></div><div class=\"anaCell anaOdd anaSubcolLeft\">0</div><div class=\"anaCell anaOdd anaSubcolRight\"></div><div class=\"anaIndex anaEven\" style=\"grid-row: span 1\">July</div><div class=\"anaCell anaEven anaSubcolLeft\">0</div><div class=\"anaCell anaEven anaSubcolRight\"></div><div class=\"anaCell anaEven anaSubcolLeft\">0</div><div class=\"anaCell anaEven anaSubcolRight\"></div><div class=\"anaIndex anaOdd\" style=\"grid-row: span 1\">June</div><div class=\"anaCell anaOdd anaSubcolLeft\">0</div><div class=\"anaCell anaOdd anaSubcolRight\"></div><div class=\"anaCell anaOdd anaSubcolLeft\">0</div><div class=\"anaCell anaOdd anaSubcolRight\"></div><div class=\"anaIndex anaEven\" style=\"grid-row: span 1\">May</div><div class=\"anaCell anaEven anaSubcolLeft\">0</div><div class=\"anaCell anaEven anaSubcolRight\"></div><div class=\"anaCell anaEven anaSubcolLeft\">0</div><div class=\"anaCell anaEven anaSubcolRight\"></div><div class=\"anaIndex anaOdd\" style=\"grid-row: span 1\">April</div><div class=\"anaCell anaOdd anaSubcolLeft\">0</div><div class=\"anaCell anaOdd anaSubcolRight\"></div><div class=\"anaCell anaOdd anaSubcolLeft\">0</div><div class=\"anaCell anaOdd anaSubcolRight\"></div><div class=\"anaIndex anaEven\" style=\"grid-row: span 1\">March</div><div class=\"anaCell anaEven anaSubcolLeft\">0</div><div class=\"anaCell anaEven anaSubcolRight\"></div><div class=\"anaCell anaEven anaSubcolLeft\">0</div><div class=\"anaCell anaEven anaSubcolRight\"></div><div class=\"anaIndex anaOdd\" style=\"grid-row: span 1\">February</div><div class=\"anaCell anaOdd anaSubcolLeft\">0</div><div class=\"anaCell anaOdd anaSubcolRight\"></div><div class=\"anaCell anaOdd anaSubcolLeft\">0</div><div class=\"anaCell anaOdd anaSubcolRight\"></div></div>"
      ],
      "text/plain": [
       "<IPython.core.display.HTML object>"
      ]
     },
     "metadata": {},
     "output_type": "display_data"
    }
   ],
   "source": [
    "display(users_over_time_table)"
   ]
  },
  {
   "cell_type": "markdown",
   "id": "20cb1c19",
   "metadata": {},
   "source": [
    "<div style=\"page-break-after: always\"></div>"
   ]
  },
  {
   "cell_type": "markdown",
   "id": "5a1acbae",
   "metadata": {},
   "source": [
    "## Users and Sessions\n",
    "Users are distinguished based on a tracking cookie set by Google. Because cookies may not remain present over time or between devices, it's likely that total users are overcounted and returning users are undercounted."
   ]
  },
  {
   "cell_type": "code",
   "execution_count": 8,
   "id": "fdd3f650",
   "metadata": {
    "tags": [
     "remove-input"
    ]
   },
   "outputs": [
    {
     "data": {
      "text/html": [
       "<div class=\"analyticsTable\" style=\"grid-template-columns: 1fr var(--symbol-width) minmax(var(--value-width), min-content) minmax(var(--percentage-width), min-content)\"><div class=\"anaIndex anaEven\">Total Users</div><div class=\"anaCell anaEven anaSubcolLeft\"></div><div class=\"anaCell anaEven\">10526</div><div class=\"anaCell anaEven anaSubcolRight\"><div class=\"anaPositive\">(+619.97%)</div></div></div>"
      ],
      "text/plain": [
       "<IPython.core.display.HTML object>"
      ]
     },
     "metadata": {},
     "output_type": "display_data"
    }
   ],
   "source": [
    "ac.show_difference_table(\"Total Users\", None, \"totalUsers\", None, **default_params_portal)"
   ]
  },
  {
   "cell_type": "code",
   "execution_count": 10,
   "id": "c8fe499f",
   "metadata": {
    "tags": [
     "remove-input"
    ]
   },
   "outputs": [
    {
     "data": {
      "text/html": [
       "<div class=\"analyticsTable\" style=\"grid-template-columns: 1fr var(--symbol-width) minmax(var(--value-width), min-content) minmax(var(--percentage-width), min-content)\"><div class=\"anaIndex anaEven\">Returning Users</div><div class=\"anaCell anaEven anaSubcolLeft\"></div><div class=\"anaCell anaEven\">5972</div><div class=\"anaCell anaEven anaSubcolRight\"><div class=\"anaPositive\">(+714.73%)</div></div></div>"
      ],
      "text/plain": [
       "<IPython.core.display.HTML object>"
      ]
     },
     "metadata": {},
     "output_type": "display_data"
    }
   ],
   "source": [
    "ac.show_difference_table(\"Returning Users\", None, \"totalUsers\", None, dimension_filter=\"newVsReturning==returning\", **default_params_portal)"
   ]
  },
  {
   "cell_type": "code",
   "execution_count": 11,
   "id": "ddcfb2c8",
   "metadata": {
    "tags": [
     "remove-input"
    ]
   },
   "outputs": [
    {
     "data": {
      "text/html": [
       "<div class=\"analyticsTable\" style=\"grid-template-columns: 1fr var(--symbol-width) minmax(var(--value-width), min-content) minmax(var(--percentage-width), min-content)\"><div class=\"anaIndex anaEven\">Total Visits</div><div class=\"anaCell anaEven anaSubcolLeft\"></div><div class=\"anaCell anaEven\">12861</div><div class=\"anaCell anaEven anaSubcolRight\"><div class=\"anaPositive\">(+859.78%)</div></div></div>"
      ],
      "text/plain": [
       "<IPython.core.display.HTML object>"
      ]
     },
     "metadata": {},
     "output_type": "display_data"
    }
   ],
   "source": [
    "ac.show_difference_table(\"Total Visits\", None, \"sessions\", None, **default_params_portal)"
   ]
  },
  {
   "cell_type": "markdown",
   "id": "583279a2",
   "metadata": {},
   "source": [
    "## Page Views"
   ]
  },
  {
   "cell_type": "code",
   "execution_count": 12,
   "id": "8226233d",
   "metadata": {
    "tags": [
     "remove-input"
    ]
   },
   "outputs": [
    {
     "data": {
      "text/html": [
       "<div class=\"analyticsTable\" style=\"grid-template-columns: 1fr var(--symbol-width) minmax(var(--value-width), min-content) minmax(var(--percentage-width), min-content)\"><div class=\"anaIndex anaEven\">Total</div><div class=\"anaCell anaEven anaSubcolLeft\"></div><div class=\"anaCell anaEven\">7880</div><div class=\"anaCell anaEven anaSubcolRight\"><div class=\"anaPositive\">(+852.84%)</div></div></div>"
      ],
      "text/plain": [
       "<IPython.core.display.HTML object>"
      ]
     },
     "metadata": {},
     "output_type": "display_data"
    }
   ],
   "source": [
    "ac.show_difference_table(\"Total\", None, \"screenPageViews\", None, **default_params_portal)"
   ]
  },
  {
   "cell_type": "markdown",
   "id": "6712c955",
   "metadata": {},
   "source": [
    "## Device Category"
   ]
  },
  {
   "cell_type": "code",
   "execution_count": 3,
   "id": "f1943484",
   "metadata": {
    "tags": [
     "remove-input"
    ]
   },
   "outputs": [
    {
     "data": {
      "text/html": [
       "<div class=\"analyticsTable\" style=\"grid-template-columns: 1fr var(--symbol-width) minmax(var(--value-width), min-content) minmax(var(--percentage-width), min-content) minmax(var(--value-width), min-content) minmax(var(--percentage-width), min-content)\"><div class=\"anaIndex anaColName\">Category</div><div class=\"anaColName\" style=\"grid-column: span 3\">Users</div><div class=\"anaColName\" style=\"grid-column: span 2\">Percentage of users</div><div class=\"anaIndex anaEven\">desktop</div><div class=\"anaCell anaEven anaSubcolLeft\"></div><div class=\"anaCell anaEven\">10017</div><div class=\"anaCell anaEven anaSubcolRight\"><div class=\"anaPositive\">(+608.42%)</div></div><div class=\"anaCell anaEven anaSubcolLeft\">94.54</div><div class=\"anaCell anaEven anaSubcolRight\"><div class=\"anaNegative\">(-1.79%)</div></div><div class=\"anaIndex anaOdd\">mobile</div><div class=\"anaCell anaOdd anaSubcolLeft\"></div><div class=\"anaCell anaOdd\">562</div><div class=\"anaCell anaOdd anaSubcolRight\"><div class=\"anaPositive\">(+960.38%)</div></div><div class=\"anaCell anaOdd anaSubcolLeft\">5.30</div><div class=\"anaCell anaOdd anaSubcolRight\"><div class=\"anaPositive\">(+47.01%)</div></div><div class=\"anaIndex anaEven\">tablet</div><div class=\"anaCell anaEven anaSubcolLeft\"></div><div class=\"anaCell anaEven\">17</div><div class=\"anaCell anaEven anaSubcolRight\"><div class=\"anaPositive\">(+750.00%)</div></div><div class=\"anaCell anaEven anaSubcolLeft\">0.16</div><div class=\"anaCell anaEven anaSubcolRight\"><div class=\"anaPositive\">(+17.84%)</div></div></div>"
      ],
      "text/plain": [
       "<IPython.core.display.HTML object>"
      ]
     },
     "metadata": {},
     "output_type": "display_data"
    }
   ],
   "source": [
    "ac.show_difference_table([\"Users\", \"Percentage of users\"], \"Category\", \"totalUsers\", \"deviceCategory\", percentage_metrics={\"totalUsers\"}, **default_params_portal)"
   ]
  },
  {
   "cell_type": "markdown",
   "id": "9c170ead",
   "metadata": {},
   "source": [
    "## Social Network Referrers"
   ]
  },
  {
   "cell_type": "code",
   "execution_count": 14,
   "id": "77ed8676",
   "metadata": {
    "tags": [
     "remove-input"
    ]
   },
   "outputs": [
    {
     "data": {
      "text/html": [
       "<div class=\"analyticsTable\" style=\"grid-template-columns: 1fr var(--symbol-width) minmax(var(--value-width), min-content) minmax(var(--percentage-width), min-content)\"><div class=\"anaIndex anaColName\">Social Network</div><div class=\"anaColName\" style=\"grid-column: span 3\">User Sessions</div><div class=\"anaIndex anaEven\">linkedin.com</div><div class=\"anaCell anaEven anaSubcolLeft\"><div class=\"new\"></div></div><div class=\"anaCell anaEven\">53</div><div class=\"anaCell anaEven anaSubcolRight\"></div><div class=\"anaIndex anaOdd\">t.co</div><div class=\"anaCell anaOdd anaSubcolLeft\"><div class=\"new\"></div></div><div class=\"anaCell anaOdd\">41</div><div class=\"anaCell anaOdd anaSubcolRight\"></div><div class=\"anaIndex anaEven\">facebook.com</div><div class=\"anaCell anaEven anaSubcolLeft\"><div class=\"new\"></div></div><div class=\"anaCell anaEven\">1</div><div class=\"anaCell anaEven anaSubcolRight\"></div><div class=\"anaIndex anaOdd\">lnkd.in</div><div class=\"anaCell anaOdd anaSubcolLeft\"><div class=\"new\"></div></div><div class=\"anaCell anaOdd\">1</div><div class=\"anaCell anaOdd anaSubcolRight\"></div></div>"
      ],
      "text/plain": [
       "<IPython.core.display.HTML object>"
      ]
     },
     "metadata": {},
     "output_type": "display_data"
    }
   ],
   "source": [
    "ac.show_difference_table(\"User Sessions\", \"Social Network\", \"sessions\", \"sessionSource\", dimension_filter=\"sessionDefaultChannelGroup=@Social\", **default_params_portal)"
   ]
  },
  {
   "cell_type": "markdown",
   "id": "6f19e708",
   "metadata": {},
   "source": [
    "<div style=\"page-break-after: always\"></div>"
   ]
  },
  {
   "cell_type": "markdown",
   "id": "3c2f7065",
   "metadata": {},
   "source": [
    "## Top Referrers"
   ]
  },
  {
   "cell_type": "markdown",
   "id": "e462fcfd",
   "metadata": {},
   "source": [
    "### By Referring Host"
   ]
  },
  {
   "cell_type": "code",
   "execution_count": 15,
   "id": "f00a116b",
   "metadata": {
    "tags": [
     "remove-input"
    ]
   },
   "outputs": [
    {
     "data": {
      "text/html": [
       "<div class=\"analyticsTable\" style=\"grid-template-columns: 1fr var(--symbol-width) minmax(var(--value-width), min-content) minmax(var(--percentage-width), min-content)\"><div class=\"anaIndex anaColName\">Source Host</div><div class=\"anaColName\" style=\"grid-column: span 3\">User Sessions</div><div class=\"anaIndex anaEven\">google</div><div class=\"anaCell anaEven anaSubcolLeft\"></div><div class=\"anaCell anaEven\">9405</div><div class=\"anaCell anaEven anaSubcolRight\"><div class=\"anaPositive\">(+833.04%)</div></div><div class=\"anaIndex anaOdd\">(direct)</div><div class=\"anaCell anaOdd anaSubcolLeft\"></div><div class=\"anaCell anaOdd\">1895</div><div class=\"anaCell anaOdd anaSubcolRight\"><div class=\"anaPositive\">(+651.98%)</div></div><div class=\"anaIndex anaEven\">nature.com</div><div class=\"anaCell anaEven anaSubcolLeft\"><div class=\"new\"></div></div><div class=\"anaCell anaEven\">457</div><div class=\"anaCell anaEven anaSubcolRight\"></div><div class=\"anaIndex anaOdd\">(not set)</div><div class=\"anaCell anaOdd anaSubcolLeft\"><div class=\"down\"></div></div><div class=\"anaCell anaOdd\">223</div><div class=\"anaCell anaOdd anaSubcolRight\"><div class=\"anaPositive\">(+961.90%)</div></div><div class=\"anaIndex anaEven\">gtexportal.org</div><div class=\"anaCell anaEven anaSubcolLeft\"><div class=\"up\"></div></div><div class=\"anaCell anaEven\">106</div><div class=\"anaCell anaEven anaSubcolRight\"><div class=\"anaPositive\">(+2550.00%)</div></div><div class=\"anaIndex anaOdd\">bing</div><div class=\"anaCell anaOdd anaSubcolLeft\"><div class=\"up\"></div></div><div class=\"anaCell anaOdd\">77</div><div class=\"anaCell anaOdd anaSubcolRight\"><div class=\"anaPositive\">(+1825.00%)</div></div><div class=\"anaIndex anaEven\">d3boko5is781ka.cloudfront.net</div><div class=\"anaCell anaEven anaSubcolLeft\"><div class=\"down\"></div></div><div class=\"anaCell anaEven\">61</div><div class=\"anaCell anaEven anaSubcolRight\"><div class=\"anaPositive\">(+335.71%)</div></div><div class=\"anaIndex anaOdd\">genome.gov</div><div class=\"anaCell anaOdd anaSubcolLeft\"><div class=\"down\"></div></div><div class=\"anaCell anaOdd\">55</div><div class=\"anaCell anaOdd anaSubcolRight\"><div class=\"anaPositive\">(+685.71%)</div></div><div class=\"anaIndex anaEven\">linkedin.com</div><div class=\"anaCell anaEven anaSubcolLeft\"><div class=\"new\"></div></div><div class=\"anaCell anaEven\">53</div><div class=\"anaCell anaEven anaSubcolRight\"></div><div class=\"anaIndex anaOdd\">datascience.nih.gov</div><div class=\"anaCell anaOdd anaSubcolLeft\"><div class=\"up\"></div></div><div class=\"anaCell anaOdd\">52</div><div class=\"anaCell anaOdd anaSubcolRight\"><div class=\"anaPositive\">(+5100.00%)</div></div><div class=\"anaIndex anaEven\">statics.teams.cdn.office.net</div><div class=\"anaCell anaEven anaSubcolLeft\"><div class=\"down\"></div></div><div class=\"anaCell anaEven\">46</div><div class=\"anaCell anaEven anaSubcolRight\"><div class=\"anaPositive\">(+1433.33%)</div></div><div class=\"anaIndex anaOdd\">t.co</div><div class=\"anaCell anaOdd anaSubcolLeft\"><div class=\"new\"></div></div><div class=\"anaCell anaOdd\">41</div><div class=\"anaCell anaOdd anaSubcolRight\"></div><div class=\"anaIndex anaEven\">dbgap.ncbi.nlm.nih.gov</div><div class=\"anaCell anaEven anaSubcolLeft\"></div><div class=\"anaCell anaEven\">30</div><div class=\"anaCell anaEven anaSubcolRight\"><div class=\"anaPositive\">(+1400.00%)</div></div><div class=\"anaIndex anaOdd\">baidu</div><div class=\"anaCell anaOdd anaSubcolLeft\"></div><div class=\"anaCell anaOdd\">16</div><div class=\"anaCell anaOdd anaSubcolRight\"><div class=\"anaPositive\">(+700.00%)</div></div><div class=\"anaIndex anaEven\">app.terra.bio</div><div class=\"anaCell anaEven anaSubcolLeft\"><div class=\"new\"></div></div><div class=\"anaCell anaEven\">14</div><div class=\"anaCell anaEven anaSubcolRight\"></div><div class=\"anaIndex anaOdd\">galaxyproject.org</div><div class=\"anaCell anaOdd anaSubcolLeft\"><div class=\"new\"></div></div><div class=\"anaCell anaOdd\">14</div><div class=\"anaCell anaOdd anaSubcolRight\"></div><div class=\"anaIndex anaEven\">hutchdatascience.org</div><div class=\"anaCell anaEven anaSubcolLeft\"><div class=\"new\"></div></div><div class=\"anaCell anaEven\">14</div><div class=\"anaCell anaEven anaSubcolRight\"></div><div class=\"anaIndex anaOdd\">duckduckgo</div><div class=\"anaCell anaOdd anaSubcolLeft\"><div class=\"new\"></div></div><div class=\"anaCell anaOdd\">13</div><div class=\"anaCell anaOdd anaSubcolRight\"></div><div class=\"anaIndex anaEven\">github.com</div><div class=\"anaCell anaEven anaSubcolLeft\"><div class=\"down\"></div></div><div class=\"anaCell anaEven\">13</div><div class=\"anaCell anaEven anaSubcolRight\"><div class=\"anaPositive\">(+550.00%)</div></div><div class=\"anaIndex anaOdd\">jhudatascience.org</div><div class=\"anaCell anaOdd anaSubcolLeft\"><div class=\"down\"></div></div><div class=\"anaCell anaOdd\">13</div><div class=\"anaCell anaOdd anaSubcolRight\"><div class=\"anaPositive\">(+160.00%)</div></div><div class=\"anaIndex anaEven\">localhost:3000</div><div class=\"anaCell anaEven anaSubcolLeft\"><div class=\"new\"></div></div><div class=\"anaCell anaEven\">13</div><div class=\"anaCell anaEven anaSubcolRight\"></div><div class=\"anaIndex anaOdd\">si.biostat.washington.edu</div><div class=\"anaCell anaOdd anaSubcolLeft\"><div class=\"new\"></div></div><div class=\"anaCell anaOdd\">13</div><div class=\"anaCell anaOdd anaSubcolRight\"></div><div class=\"anaIndex anaEven\">bioconductor.org</div><div class=\"anaCell anaEven anaSubcolLeft\"><div class=\"down\"></div></div><div class=\"anaCell anaEven\">12</div><div class=\"anaCell anaEven anaSubcolRight\"><div class=\"anaPositive\">(+1100.00%)</div></div><div class=\"anaIndex anaOdd\">anvil.bioconductor.org</div><div class=\"anaCell anaOdd anaSubcolLeft\"><div class=\"new\"></div></div><div class=\"anaCell anaOdd\">9</div><div class=\"anaCell anaOdd anaSubcolRight\"></div><div class=\"anaIndex anaEven\">terra.bio</div><div class=\"anaCell anaEven anaSubcolLeft\"><div class=\"new\"></div></div><div class=\"anaCell anaEven\">9</div><div class=\"anaCell anaEven anaSubcolRight\"></div><div class=\"anaIndex anaOdd\">broadinstitute.org</div><div class=\"anaCell anaOdd anaSubcolLeft\"><div class=\"new\"></div></div><div class=\"anaCell anaOdd\">8</div><div class=\"anaCell anaOdd anaSubcolRight\"></div><div class=\"anaIndex anaEven\">internationalgenome.org</div><div class=\"anaCell anaEven anaSubcolLeft\"><div class=\"new\"></div></div><div class=\"anaCell anaEven\">8</div><div class=\"anaCell anaEven anaSubcolRight\"></div><div class=\"anaIndex anaOdd\">ncbi.nlm.nih.gov</div><div class=\"anaCell anaOdd anaSubcolLeft\"><div class=\"new\"></div></div><div class=\"anaCell anaOdd\">8</div><div class=\"anaCell anaOdd anaSubcolRight\"></div><div class=\"anaIndex anaEven\">anvil.terra.bio</div><div class=\"anaCell anaEven anaSubcolLeft\"><div class=\"new\"></div></div><div class=\"anaCell anaEven\">7</div><div class=\"anaCell anaEven anaSubcolRight\"></div><div class=\"anaIndex anaOdd\">colorsdb.org</div><div class=\"anaCell anaOdd anaSubcolLeft\"><div class=\"down\"></div></div><div class=\"anaCell anaOdd\">7</div><div class=\"anaCell anaOdd anaSubcolRight\"><div class=\"anaPositive\">(+600.00%)</div></div></div>"
      ],
      "text/plain": [
       "<IPython.core.display.HTML object>"
      ]
     },
     "metadata": {},
     "output_type": "display_data"
    }
   ],
   "source": [
    "ac.show_difference_table(\"User Sessions\", \"Source Host\", \"sessions\", \"sessionSource\", **default_params_portal)"
   ]
  },
  {
   "cell_type": "markdown",
   "id": "965536e6",
   "metadata": {},
   "source": [
    "<div style=\"page-break-after: always\"></div>"
   ]
  },
  {
   "cell_type": "markdown",
   "id": "3ebd185b",
   "metadata": {},
   "source": [
    "### By Full Referrer"
   ]
  },
  {
   "cell_type": "code",
   "execution_count": 17,
   "id": "b380b528",
   "metadata": {
    "tags": [
     "remove-input"
    ]
   },
   "outputs": [
    {
     "data": {
      "text/html": [
       "<div class=\"analyticsTable\" style=\"grid-template-columns: 1fr var(--symbol-width) minmax(var(--value-width), min-content) minmax(var(--percentage-width), min-content)\"><div class=\"anaIndex anaColName\">Source</div><div class=\"anaColName\" style=\"grid-column: span 3\">User Sessions</div><div class=\"anaIndex anaEven\">https://www.google.com/</div><div class=\"anaCell anaEven anaSubcolLeft\"></div><div class=\"anaCell anaEven\">8904</div><div class=\"anaCell anaEven anaSubcolRight\"><div class=\"anaPositive\">(+883.87%)</div></div><div class=\"anaIndex anaOdd\"><span style=\"color: gray\">Empty</span></div><div class=\"anaCell anaOdd anaSubcolLeft\"></div><div class=\"anaCell anaOdd\">2177</div><div class=\"anaCell anaOdd anaSubcolRight\"><div class=\"anaPositive\">(+747.08%)</div></div><div class=\"anaIndex anaEven\">https://anvilproject.org/</div><div class=\"anaCell anaEven anaSubcolLeft\"><div class=\"up\"></div></div><div class=\"anaCell anaEven\">547</div><div class=\"anaCell anaEven anaSubcolRight\"><div class=\"anaPositive\">(+827.12%)</div></div><div class=\"anaIndex anaOdd\">https://www.nature.com/</div><div class=\"anaCell anaOdd anaSubcolLeft\"><div class=\"new\"></div></div><div class=\"anaCell anaOdd\">422</div><div class=\"anaCell anaOdd anaSubcolRight\"></div><div class=\"anaIndex anaEven\">https://anvilproject.org/learn</div><div class=\"anaCell anaEven anaSubcolLeft\"></div><div class=\"anaCell anaEven\">210</div><div class=\"anaCell anaEven anaSubcolRight\"><div class=\"anaPositive\">(+813.04%)</div></div><div class=\"anaIndex anaOdd\">https://anvilproject.org/overview</div><div class=\"anaCell anaOdd anaSubcolLeft\"></div><div class=\"anaCell anaOdd\">166</div><div class=\"anaCell anaOdd anaSubcolRight\"><div class=\"anaPositive\">(+730.00%)</div></div><div class=\"anaIndex anaEven\">https://anvilproject.org/ncpi</div><div class=\"anaCell anaEven anaSubcolLeft\"><div class=\"up\"></div></div><div class=\"anaCell anaEven\">136</div><div class=\"anaCell anaEven anaSubcolRight\"><div class=\"anaPositive\">(+2620.00%)</div></div><div class=\"anaIndex anaOdd\">https://anvilproject.org/guides/content/creating-links</div><div class=\"anaCell anaOdd anaSubcolLeft\"><div class=\"down\"></div></div><div class=\"anaCell anaOdd\">122</div><div class=\"anaCell anaOdd anaSubcolRight\"><div class=\"anaPositive\">(+542.11%)</div></div><div class=\"anaIndex anaEven\">https://anvilproject.org/data/consortia</div><div class=\"anaCell anaEven anaSubcolLeft\"><div class=\"down\"></div></div><div class=\"anaCell anaEven\">105</div><div class=\"anaCell anaEven anaSubcolRight\"><div class=\"anaPositive\">(+517.65%)</div></div><div class=\"anaIndex anaOdd\">https://anvilproject.org/guides/content/editing-an-existing-page</div><div class=\"anaCell anaOdd anaSubcolLeft\"><div class=\"down\"></div></div><div class=\"anaCell anaOdd\">92</div><div class=\"anaCell anaOdd anaSubcolRight\"><div class=\"anaPositive\">(+557.14%)</div></div><div class=\"anaIndex anaEven\">https://gtexportal.org/</div><div class=\"anaCell anaEven anaSubcolLeft\"><div class=\"new\"></div></div><div class=\"anaCell anaEven\">79</div><div class=\"anaCell anaEven anaSubcolRight\"></div><div class=\"anaIndex anaOdd\">https://www.bing.com/</div><div class=\"anaCell anaOdd anaSubcolLeft\"><div class=\"up\"></div></div><div class=\"anaCell anaOdd\">64</div><div class=\"anaCell anaOdd anaSubcolRight\"><div class=\"anaPositive\">(+1180.00%)</div></div><div class=\"anaIndex anaEven\">https://www.google.com.hk/</div><div class=\"anaCell anaEven anaSubcolLeft\"><div class=\"down\"></div></div><div class=\"anaCell anaEven\">58</div><div class=\"anaCell anaEven anaSubcolRight\"><div class=\"anaPositive\">(+544.44%)</div></div><div class=\"anaIndex anaOdd\">https://www.linkedin.com/</div><div class=\"anaCell anaOdd anaSubcolLeft\"><div class=\"new\"></div></div><div class=\"anaCell anaOdd\">52</div><div class=\"anaCell anaOdd anaSubcolRight\"></div><div class=\"anaIndex anaEven\">https://anvilproject.org/faq</div><div class=\"anaCell anaEven anaSubcolLeft\"><div class=\"up\"></div></div><div class=\"anaCell anaEven\">52</div><div class=\"anaCell anaEven anaSubcolRight\"><div class=\"anaPositive\">(+940.00%)</div></div><div class=\"anaIndex anaOdd\">https://anvilproject.org/team</div><div class=\"anaCell anaOdd anaSubcolLeft\"></div><div class=\"anaCell anaOdd\">52</div><div class=\"anaCell anaOdd anaSubcolRight\"><div class=\"anaPositive\">(+766.67%)</div></div><div class=\"anaIndex anaEven\">https://www.genome.gov/</div><div class=\"anaCell anaEven anaSubcolLeft\"></div><div class=\"anaCell anaEven\">50</div><div class=\"anaCell anaEven anaSubcolRight\"><div class=\"anaPositive\">(+733.33%)</div></div><div class=\"anaIndex anaOdd\">https://statics.teams.cdn.office.net/</div><div class=\"anaCell anaOdd anaSubcolLeft\"><div class=\"new\"></div></div><div class=\"anaCell anaOdd\">41</div><div class=\"anaCell anaOdd anaSubcolRight\"></div><div class=\"anaIndex anaEven\">https://anvilproject.org/learn/data-submitters/submission-guide/data-submitters-overview</div><div class=\"anaCell anaEven anaSubcolLeft\"><div class=\"new\"></div></div><div class=\"anaCell anaEven\">37</div><div class=\"anaCell anaEven anaSubcolRight\"></div><div class=\"anaIndex anaOdd\">https://anvilproject.org/learn/investigators/</div><div class=\"anaCell anaOdd anaSubcolLeft\"><div class=\"new\"></div></div><div class=\"anaCell anaOdd\">35</div><div class=\"anaCell anaOdd anaSubcolRight\"></div><div class=\"anaIndex anaEven\">https://anvilproject.org/learn/data-analysts</div><div class=\"anaCell anaEven anaSubcolLeft\"><div class=\"down\"></div></div><div class=\"anaCell anaEven\">33</div><div class=\"anaCell anaEven anaSubcolRight\"><div class=\"anaPositive\">(+450.00%)</div></div><div class=\"anaIndex anaOdd\">https://anvilproject.org/learn/introduction/intro-to-terra</div><div class=\"anaCell anaOdd anaSubcolLeft\"><div class=\"down\"></div></div><div class=\"anaCell anaOdd\">30</div><div class=\"anaCell anaOdd anaSubcolRight\"><div class=\"anaPositive\">(+400.00%)</div></div><div class=\"anaIndex anaEven\">https://anvilproject.org/overview/data-consortia</div><div class=\"anaCell anaEven anaSubcolLeft\"><div class=\"down\"></div></div><div class=\"anaCell anaEven\">29</div><div class=\"anaCell anaEven anaSubcolRight\"><div class=\"anaPositive\">(+222.22%)</div></div><div class=\"anaIndex anaOdd\">https://anvilproject.org/events</div><div class=\"anaCell anaOdd anaSubcolLeft\"><div class=\"down\"></div></div><div class=\"anaCell anaOdd\">28</div><div class=\"anaCell anaOdd anaSubcolRight\"><div class=\"anaPositive\">(+460.00%)</div></div><div class=\"anaIndex anaEven\">https://www.google.com</div><div class=\"anaCell anaEven anaSubcolLeft\"><div class=\"new\"></div></div><div class=\"anaCell anaEven\">28</div><div class=\"anaCell anaEven anaSubcolRight\"></div><div class=\"anaIndex anaOdd\">https://datascience.nih.gov/</div><div class=\"anaCell anaOdd anaSubcolLeft\"><div class=\"new\"></div></div><div class=\"anaCell anaOdd\">27</div><div class=\"anaCell anaOdd anaSubcolRight\"></div><div class=\"anaIndex anaEven\">https://anvilproject.org/learn/account-setup/obtaining-a-google-id</div><div class=\"anaCell anaEven anaSubcolLeft\"><div class=\"new\"></div></div><div class=\"anaCell anaEven\">25</div><div class=\"anaCell anaEven anaSubcolRight\"></div><div class=\"anaIndex anaOdd\">https://anvilproject.org/ncpi/demonstration-projects</div><div class=\"anaCell anaOdd anaSubcolLeft\"><div class=\"new\"></div></div><div class=\"anaCell anaOdd\">24</div><div class=\"anaCell anaOdd anaSubcolRight\"></div><div class=\"anaIndex anaEven\">https://anvilproject.org/overview/security</div><div class=\"anaCell anaEven anaSubcolLeft\"><div class=\"down\"></div></div><div class=\"anaCell anaEven\">24</div><div class=\"anaCell anaEven anaSubcolRight\"><div class=\"anaPositive\">(+380.00%)</div></div><div class=\"anaIndex anaOdd\">https://anvilproject.org/help</div><div class=\"anaCell anaOdd anaSubcolLeft\"><div class=\"down\"></div></div><div class=\"anaCell anaOdd\">23</div><div class=\"anaCell anaOdd anaSubcolRight\"><div class=\"anaPositive\">(+475.00%)</div></div></div>"
      ],
      "text/plain": [
       "<IPython.core.display.HTML object>"
      ]
     },
     "metadata": {},
     "output_type": "display_data"
    }
   ],
   "source": [
    "ac.show_difference_table(\"User Sessions\", \"Source\", \"sessions\", \"pageReferrer\", **default_params_portal)"
   ]
  },
  {
   "cell_type": "markdown",
   "id": "974ff8ba",
   "metadata": {},
   "source": [
    "<div style=\"page-break-after: always\"></div>"
   ]
  },
  {
   "cell_type": "markdown",
   "id": "d83980c3",
   "metadata": {},
   "source": [
    "## Top Countries"
   ]
  },
  {
   "cell_type": "code",
   "execution_count": 18,
   "id": "41702480",
   "metadata": {
    "tags": [
     "remove-input"
    ]
   },
   "outputs": [
    {
     "data": {
      "text/html": [
       "<div class=\"analyticsTable\" style=\"grid-template-columns: 1fr var(--symbol-width) minmax(var(--value-width), min-content) minmax(var(--percentage-width), min-content)\"><div class=\"anaIndex anaColName\">Country</div><div class=\"anaColName\" style=\"grid-column: span 3\">Users</div><div class=\"anaIndex anaEven\">United States</div><div class=\"anaCell anaEven anaSubcolLeft\"></div><div class=\"anaCell anaEven\">3776</div><div class=\"anaCell anaEven anaSubcolRight\"><div class=\"anaPositive\">(+706.84%)</div></div><div class=\"anaIndex anaOdd\">Germany</div><div class=\"anaCell anaOdd anaSubcolLeft\"></div><div class=\"anaCell anaOdd\">904</div><div class=\"anaCell anaOdd anaSubcolRight\"><div class=\"anaPositive\">(+939.08%)</div></div><div class=\"anaIndex anaEven\">India</div><div class=\"anaCell anaEven anaSubcolLeft\"></div><div class=\"anaCell anaEven\">604</div><div class=\"anaCell anaEven anaSubcolRight\"><div class=\"anaPositive\">(+829.23%)</div></div><div class=\"anaIndex anaOdd\">United Kingdom</div><div class=\"anaCell anaOdd anaSubcolLeft\"></div><div class=\"anaCell anaOdd\">459</div><div class=\"anaCell anaOdd anaSubcolRight\"><div class=\"anaPositive\">(+766.04%)</div></div><div class=\"anaIndex anaEven\">France</div><div class=\"anaCell anaEven anaSubcolLeft\"><div class=\"up\"></div></div><div class=\"anaCell anaEven\">401</div><div class=\"anaCell anaEven anaSubcolRight\"><div class=\"anaPositive\">(+983.78%)</div></div><div class=\"anaIndex anaOdd\">China</div><div class=\"anaCell anaOdd anaSubcolLeft\"></div><div class=\"anaCell anaOdd\">395</div><div class=\"anaCell anaOdd anaSubcolRight\"><div class=\"anaPositive\">(+967.57%)</div></div><div class=\"anaIndex anaEven\">Canada</div><div class=\"anaCell anaEven anaSubcolLeft\"><div class=\"down\"></div></div><div class=\"anaCell anaEven\">367</div><div class=\"anaCell anaEven anaSubcolRight\"><div class=\"anaPositive\">(+715.56%)</div></div><div class=\"anaIndex anaOdd\">Russia</div><div class=\"anaCell anaOdd anaSubcolLeft\"></div><div class=\"anaCell anaOdd\">304</div><div class=\"anaCell anaOdd anaSubcolRight\"><div class=\"anaPositive\">(+721.62%)</div></div><div class=\"anaIndex anaEven\">Australia</div><div class=\"anaCell anaEven anaSubcolLeft\"></div><div class=\"anaCell anaEven\">251</div><div class=\"anaCell anaEven anaSubcolRight\"><div class=\"anaPositive\">(+796.43%)</div></div><div class=\"anaIndex anaOdd\">Brazil</div><div class=\"anaCell anaOdd anaSubcolLeft\"><div class=\"up\"></div></div><div class=\"anaCell anaOdd\">246</div><div class=\"anaCell anaOdd anaSubcolRight\"><div class=\"anaPositive\">(+925.00%)</div></div><div class=\"anaIndex anaEven\">Spain</div><div class=\"anaCell anaEven anaSubcolLeft\"><div class=\"up\"></div></div><div class=\"anaCell anaEven\">220</div><div class=\"anaCell anaEven anaSubcolRight\"><div class=\"anaPositive\">(+1592.31%)</div></div><div class=\"anaIndex anaOdd\">Poland</div><div class=\"anaCell anaOdd anaSubcolLeft\"><div class=\"down\"></div></div><div class=\"anaCell anaOdd\">204</div><div class=\"anaCell anaOdd anaSubcolRight\"><div class=\"anaPositive\">(+655.56%)</div></div><div class=\"anaIndex anaEven\">Netherlands</div><div class=\"anaCell anaEven anaSubcolLeft\"><div class=\"up\"></div></div><div class=\"anaCell anaEven\">195</div><div class=\"anaCell anaEven anaSubcolRight\"><div class=\"anaPositive\">(+2066.67%)</div></div><div class=\"anaIndex anaOdd\">Italy</div><div class=\"anaCell anaOdd anaSubcolLeft\"><div class=\"down\"></div></div><div class=\"anaCell anaOdd\">184</div><div class=\"anaCell anaOdd anaSubcolRight\"><div class=\"anaPositive\">(+1050.00%)</div></div><div class=\"anaIndex anaEven\">Switzerland</div><div class=\"anaCell anaEven anaSubcolLeft\"><div class=\"down\"></div></div><div class=\"anaCell anaEven\">143</div><div class=\"anaCell anaEven anaSubcolRight\"><div class=\"anaPositive\">(+741.18%)</div></div><div class=\"anaIndex anaOdd\">Sweden</div><div class=\"anaCell anaOdd anaSubcolLeft\"><div class=\"up\"></div></div><div class=\"anaCell anaOdd\">111</div><div class=\"anaCell anaOdd anaSubcolRight\"><div class=\"anaPositive\">(+909.09%)</div></div><div class=\"anaIndex anaEven\">Singapore</div><div class=\"anaCell anaEven anaSubcolLeft\"><div class=\"up\"></div></div><div class=\"anaCell anaEven\">97</div><div class=\"anaCell anaEven anaSubcolRight\"><div class=\"anaPositive\">(+977.78%)</div></div><div class=\"anaIndex anaOdd\">Japan</div><div class=\"anaCell anaOdd anaSubcolLeft\"></div><div class=\"anaCell anaOdd\">87</div><div class=\"anaCell anaOdd anaSubcolRight\"><div class=\"anaPositive\">(+770.00%)</div></div><div class=\"anaIndex anaEven\">Mexico</div><div class=\"anaCell anaEven anaSubcolLeft\"><div class=\"down\"></div></div><div class=\"anaCell anaEven\">83</div><div class=\"anaCell anaEven anaSubcolRight\"><div class=\"anaPositive\">(+654.55%)</div></div><div class=\"anaIndex anaOdd\">Austria</div><div class=\"anaCell anaOdd anaSubcolLeft\"><div class=\"down\"></div></div><div class=\"anaCell anaOdd\">83</div><div class=\"anaCell anaOdd anaSubcolRight\"><div class=\"anaPositive\">(+538.46%)</div></div><div class=\"anaIndex anaEven\">South Korea</div><div class=\"anaCell anaEven anaSubcolLeft\"><div class=\"new\"></div></div><div class=\"anaCell anaEven\">78</div><div class=\"anaCell anaEven anaSubcolRight\"></div><div class=\"anaIndex anaOdd\">Ireland</div><div class=\"anaCell anaOdd anaSubcolLeft\"><div class=\"new\"></div></div><div class=\"anaCell anaOdd\">72</div><div class=\"anaCell anaOdd anaSubcolRight\"></div><div class=\"anaIndex anaEven\">Taiwan</div><div class=\"anaCell anaEven anaSubcolLeft\"><div class=\"up\"></div></div><div class=\"anaCell anaEven\">67</div><div class=\"anaCell anaEven anaSubcolRight\"><div class=\"anaPositive\">(+1016.67%)</div></div><div class=\"anaIndex anaOdd\">Vietnam</div><div class=\"anaCell anaOdd anaSubcolLeft\"><div class=\"down\"></div></div><div class=\"anaCell anaOdd\">66</div><div class=\"anaCell anaOdd anaSubcolRight\"><div class=\"anaPositive\">(+633.33%)</div></div><div class=\"anaIndex anaEven\">Ukraine</div><div class=\"anaCell anaEven anaSubcolLeft\"><div class=\"down\"></div></div><div class=\"anaCell anaEven\">65</div><div class=\"anaCell anaEven anaSubcolRight\"><div class=\"anaPositive\">(+622.22%)</div></div><div class=\"anaIndex anaOdd\">Belgium</div><div class=\"anaCell anaOdd anaSubcolLeft\"><div class=\"new\"></div></div><div class=\"anaCell anaOdd\">62</div><div class=\"anaCell anaOdd anaSubcolRight\"></div><div class=\"anaIndex anaEven\">Indonesia</div><div class=\"anaCell anaEven anaSubcolLeft\"><div class=\"down\"></div></div><div class=\"anaCell anaEven\">60</div><div class=\"anaCell anaEven anaSubcolRight\"><div class=\"anaPositive\">(+900.00%)</div></div><div class=\"anaIndex anaOdd\">Israel</div><div class=\"anaCell anaOdd anaSubcolLeft\"><div class=\"down\"></div></div><div class=\"anaCell anaOdd\">58</div><div class=\"anaCell anaOdd anaSubcolRight\"><div class=\"anaPositive\">(+728.57%)</div></div><div class=\"anaIndex anaEven\">Hong Kong</div><div class=\"anaCell anaEven anaSubcolLeft\"><div class=\"new\"></div></div><div class=\"anaCell anaEven\">57</div><div class=\"anaCell anaEven anaSubcolRight\"></div><div class=\"anaIndex anaOdd\">Türkiye</div><div class=\"anaCell anaOdd anaSubcolLeft\"><div class=\"new\"></div></div><div class=\"anaCell anaOdd\">49</div><div class=\"anaCell anaOdd anaSubcolRight\"></div></div>"
      ],
      "text/plain": [
       "<IPython.core.display.HTML object>"
      ]
     },
     "metadata": {},
     "output_type": "display_data"
    }
   ],
   "source": [
    "ac.show_difference_table(\"Users\", \"Country\", \"totalUsers\", \"country\", **default_params_portal)"
   ]
  },
  {
   "cell_type": "markdown",
   "id": "f4cec2ab",
   "metadata": {},
   "source": [
    "<div style=\"page-break-after: always\"></div>"
   ]
  },
  {
   "cell_type": "markdown",
   "id": "bdc9b340",
   "metadata": {},
   "source": [
    "## Top Pages"
   ]
  },
  {
   "cell_type": "code",
   "execution_count": 21,
   "id": "3b098860",
   "metadata": {
    "tags": [
     "remove-input"
    ]
   },
   "outputs": [
    {
     "data": {
      "text/html": [
       "<div class=\"analyticsTable\" style=\"grid-template-columns: 1fr var(--symbol-width) minmax(var(--value-width), min-content) minmax(var(--percentage-width), min-content)\"><div class=\"anaIndex anaColName\">Page</div><div class=\"anaColName\" style=\"grid-column: span 3\">Page Views</div><div class=\"anaIndex anaEven\"><a href=\"https://anvilproject.org/\">/</a></div><div class=\"anaCell anaEven anaSubcolLeft\"></div><div class=\"anaCell anaEven\">2439</div><div class=\"anaCell anaEven anaSubcolRight\"><div class=\"anaPositive\">(+969.74%)</div></div><div class=\"anaIndex anaOdd\"><a href=\"https://anvilproject.org/overview\">/overview</a></div><div class=\"anaCell anaOdd anaSubcolLeft\"></div><div class=\"anaCell anaOdd\">537</div><div class=\"anaCell anaOdd anaSubcolRight\"><div class=\"anaPositive\">(+795.00%)</div></div><div class=\"anaIndex anaEven\"><a href=\"https://anvilproject.org/learn\">/learn</a></div><div class=\"anaCell anaEven anaSubcolLeft\"></div><div class=\"anaCell anaEven\">477</div><div class=\"anaCell anaEven anaSubcolRight\"><div class=\"anaPositive\">(+817.31%)</div></div><div class=\"anaIndex anaOdd\"><a href=\"https://anvilproject.org/ncpi\">/ncpi</a></div><div class=\"anaCell anaOdd anaSubcolLeft\"></div><div class=\"anaCell anaOdd\">445</div><div class=\"anaCell anaOdd anaSubcolRight\"><div class=\"anaPositive\">(+1071.05%)</div></div><div class=\"anaIndex anaEven\"><a href=\"https://anvilproject.org/learn/account-setup/obtaining-a-google-id\">/learn/account-setup/obtaining-a-google-id</a></div><div class=\"anaCell anaEven anaSubcolLeft\"></div><div class=\"anaCell anaEven\">329</div><div class=\"anaCell anaEven anaSubcolRight\"><div class=\"anaPositive\">(+813.89%)</div></div><div class=\"anaIndex anaOdd\"><a href=\"https://anvilproject.org/learn/reference/gtex-v8-free-egress-instructions\">/learn/reference/gtex-v8-free-egress-instructions</a></div><div class=\"anaCell anaOdd anaSubcolLeft\"><div class=\"up\"></div></div><div class=\"anaCell anaOdd\">202</div><div class=\"anaCell anaOdd anaSubcolRight\"><div class=\"anaPositive\">(+963.16%)</div></div><div class=\"anaIndex anaEven\"><a href=\"https://anvilproject.org/ncpi/solicitation-announcements\">/ncpi/solicitation-announcements</a></div><div class=\"anaCell anaEven anaSubcolLeft\"><div class=\"up\"></div></div><div class=\"anaCell anaEven\">198</div><div class=\"anaCell anaEven anaSubcolRight\"><div class=\"anaPositive\">(+760.87%)</div></div><div class=\"anaIndex anaOdd\"><a href=\"https://anvilproject.org/learn/billing-setup/creating-a-google-cloud-billing-account\">/learn/billing-setup/creating-a-google-cloud-billing-account</a></div><div class=\"anaCell anaOdd anaSubcolLeft\"><div class=\"up\"></div></div><div class=\"anaCell anaOdd\">147</div><div class=\"anaCell anaOdd anaSubcolRight\"><div class=\"anaPositive\">(+880.00%)</div></div><div class=\"anaIndex anaEven\"><a href=\"https://anvilproject.org/search\">/search</a></div><div class=\"anaCell anaEven anaSubcolLeft\"><div class=\"down\"></div></div><div class=\"anaCell anaEven\">105</div><div class=\"anaCell anaEven anaSubcolRight\"><div class=\"anaPositive\">(+303.85%)</div></div><div class=\"anaIndex anaOdd\"><a href=\"https://anvilproject.org/team\">/team</a></div><div class=\"anaCell anaOdd anaSubcolLeft\"><div class=\"up\"></div></div><div class=\"anaCell anaOdd\">104</div><div class=\"anaCell anaOdd anaSubcolRight\"><div class=\"anaPositive\">(+642.86%)</div></div><div class=\"anaIndex anaEven\"><a href=\"https://anvilproject.org/faq\">/faq</a></div><div class=\"anaCell anaEven anaSubcolLeft\"><div class=\"up\"></div></div><div class=\"anaCell anaEven\">98</div><div class=\"anaCell anaEven anaSubcolRight\"><div class=\"anaPositive\">(+988.89%)</div></div><div class=\"anaIndex anaOdd\"><a href=\"https://anvilproject.org/events\">/events</a></div><div class=\"anaCell anaOdd anaSubcolLeft\"><div class=\"down\"></div></div><div class=\"anaCell anaOdd\">84</div><div class=\"anaCell anaOdd anaSubcolRight\"><div class=\"anaPositive\">(+265.22%)</div></div><div class=\"anaIndex anaEven\"><a href=\"https://anvilproject.org/learn/account-setup/overview-of-account-setup\">/learn/account-setup/overview-of-account-setup</a></div><div class=\"anaCell anaEven anaSubcolLeft\"><div class=\"up\"></div></div><div class=\"anaCell anaEven\">77</div><div class=\"anaCell anaEven anaSubcolRight\"><div class=\"anaPositive\">(+600.00%)</div></div><div class=\"anaIndex anaOdd\"><a href=\"https://anvilproject.org/help\">/help</a></div><div class=\"anaCell anaOdd anaSubcolLeft\"><div class=\"up\"></div></div><div class=\"anaCell anaOdd\">73</div><div class=\"anaCell anaOdd anaSubcolRight\"><div class=\"anaPositive\">(+1116.67%)</div></div><div class=\"anaIndex anaEven\"><a href=\"https://anvilproject.org/learn/introduction/getting-started-with-gen3\">/learn/introduction/getting-started-with-gen3</a></div><div class=\"anaCell anaEven anaSubcolLeft\"><div class=\"new\"></div></div><div class=\"anaCell anaEven\">72</div><div class=\"anaCell anaEven anaSubcolRight\"></div><div class=\"anaIndex anaOdd\"><a href=\"https://anvilproject.org/learn/introduction/intro-to-terra\">/learn/introduction/intro-to-terra</a></div><div class=\"anaCell anaOdd anaSubcolLeft\"></div><div class=\"anaCell anaOdd\">72</div><div class=\"anaCell anaOdd anaSubcolRight\"><div class=\"anaPositive\">(+620.00%)</div></div><div class=\"anaIndex anaEven\"><a href=\"https://anvilproject.org/guides/content/using-images\">/guides/content/using-images</a></div><div class=\"anaCell anaEven anaSubcolLeft\"><div class=\"up\"></div></div><div class=\"anaCell anaEven\">71</div><div class=\"anaCell anaEven anaSubcolRight\"><div class=\"anaPositive\">(+787.50%)</div></div><div class=\"anaIndex anaOdd\"><a href=\"https://anvilproject.org/learn/data-submitters/submission-guide/data-submitters-overview\">/learn/data-submitters/submission-guide/data-submitters-overview</a></div><div class=\"anaCell anaOdd anaSubcolLeft\"><div class=\"new\"></div></div><div class=\"anaCell anaOdd\">68</div><div class=\"anaCell anaOdd anaSubcolRight\"></div><div class=\"anaIndex anaEven\"><a href=\"https://anvilproject.org/learn/investigators/budget-templates\">/learn/investigators/budget-templates</a></div><div class=\"anaCell anaEven anaSubcolLeft\"><div class=\"new\"></div></div><div class=\"anaCell anaEven\">59</div><div class=\"anaCell anaEven anaSubcolRight\"></div><div class=\"anaIndex anaOdd\"><a href=\"https://anvilproject.org/overview/data-consortia\">/overview/data-consortia</a></div><div class=\"anaCell anaOdd anaSubcolLeft\"><div class=\"down\"></div></div><div class=\"anaCell anaOdd\">59</div><div class=\"anaCell anaOdd anaSubcolRight\"><div class=\"anaPositive\">(+268.75%)</div></div><div class=\"anaIndex anaEven\"><a href=\"https://anvilproject.org/learn/data-submitters/submission-guide/set-up-a-data-model\">/learn/data-submitters/submission-guide/set-up-a-data-model</a></div><div class=\"anaCell anaEven anaSubcolLeft\"><div class=\"new\"></div></div><div class=\"anaCell anaEven\">56</div><div class=\"anaCell anaEven anaSubcolRight\"></div><div class=\"anaIndex anaOdd\"><a href=\"https://anvilproject.org/ncpi/working-groups\">/ncpi/working-groups</a></div><div class=\"anaCell anaOdd anaSubcolLeft\"><div class=\"up\"></div></div><div class=\"anaCell anaOdd\">54</div><div class=\"anaCell anaOdd anaSubcolRight\"><div class=\"anaPositive\">(+980.00%)</div></div><div class=\"anaIndex anaEven\"><a href=\"https://anvilproject.org/learn/accessing-data/requesting-data-access\">/learn/accessing-data/requesting-data-access</a></div><div class=\"anaCell anaEven anaSubcolLeft\"><div class=\"down\"></div></div><div class=\"anaCell anaEven\">53</div><div class=\"anaCell anaEven anaSubcolRight\"><div class=\"anaPositive\">(+657.14%)</div></div><div class=\"anaIndex anaOdd\"><a href=\"https://anvilproject.org/learn/data-analysts\">/learn/data-analysts</a></div><div class=\"anaCell anaOdd anaSubcolLeft\"><div class=\"down\"></div></div><div class=\"anaCell anaOdd\">49</div><div class=\"anaCell anaOdd anaSubcolRight\"><div class=\"anaPositive\">(+512.50%)</div></div><div class=\"anaIndex anaEven\"><a href=\"https://anvilproject.org/learn/data-submitters/resources/consortium-data-access-guidelines\">/learn/data-submitters/resources/consortium-data-access-guidelines</a></div><div class=\"anaCell anaEven anaSubcolLeft\"><div class=\"new\"></div></div><div class=\"anaCell anaEven\">45</div><div class=\"anaCell anaEven anaSubcolRight\"></div><div class=\"anaIndex anaOdd\"><a href=\"https://anvilproject.org/ncpi/platforms/crdc\">/ncpi/platforms/crdc</a></div><div class=\"anaCell anaOdd anaSubcolLeft\"><div class=\"up\"></div></div><div class=\"anaCell anaOdd\">45</div><div class=\"anaCell anaOdd anaSubcolRight\"><div class=\"anaPositive\">(+800.00%)</div></div><div class=\"anaIndex anaEven\"><a href=\"https://anvilproject.org/ncpi/platforms\">/ncpi/platforms</a></div><div class=\"anaCell anaEven anaSubcolLeft\"><div class=\"new\"></div></div><div class=\"anaCell anaEven\">44</div><div class=\"anaCell anaEven anaSubcolRight\"></div><div class=\"anaIndex anaOdd\"><a href=\"https://anvilproject.org/learn/introduction/understanding-cloud-costs\">/learn/introduction/understanding-cloud-costs</a></div><div class=\"anaCell anaOdd anaSubcolLeft\"><div class=\"new\"></div></div><div class=\"anaCell anaOdd\">43</div><div class=\"anaCell anaOdd anaSubcolRight\"></div><div class=\"anaIndex anaEven\"><a href=\"https://anvilproject.org/ncpi/demonstration-projects\">/ncpi/demonstration-projects</a></div><div class=\"anaCell anaEven anaSubcolLeft\"><div class=\"new\"></div></div><div class=\"anaCell anaEven\">42</div><div class=\"anaCell anaEven anaSubcolRight\"></div><div class=\"anaIndex anaOdd\"><a href=\"https://anvilproject.org/learn/investigators/\">/learn/investigators/</a></div><div class=\"anaCell anaOdd anaSubcolLeft\"><div class=\"new\"></div></div><div class=\"anaCell anaOdd\">41</div><div class=\"anaCell anaOdd anaSubcolRight\"></div></div>"
      ],
      "text/plain": [
       "<IPython.core.display.HTML object>"
      ]
     },
     "metadata": {},
     "output_type": "display_data"
    }
   ],
   "source": [
    "ac.show_difference_table(\"Page Views\", \"Page\", \"screenPageViews\", \"pagePath\", **default_params_portal)"
   ]
  },
  {
   "cell_type": "markdown",
   "id": "6e2487a3",
   "metadata": {},
   "source": [
    "<div style=\"page-break-after: always\"></div>"
   ]
  },
  {
   "cell_type": "markdown",
   "id": "a4d13293",
   "metadata": {},
   "source": [
    "## Top Landing Pages"
   ]
  },
  {
   "cell_type": "code",
   "execution_count": 22,
   "id": "02b2fd3c",
   "metadata": {
    "tags": [
     "remove-input"
    ]
   },
   "outputs": [
    {
     "data": {
      "text/html": [
       "<div class=\"analyticsTable\" style=\"grid-template-columns: 1fr var(--symbol-width) minmax(var(--value-width), min-content) minmax(var(--percentage-width), min-content)\"><div class=\"anaIndex anaColName\">Page</div><div class=\"anaColName\" style=\"grid-column: span 3\">Entrances</div><div class=\"anaIndex anaEven\">(not set)</div><div class=\"anaCell anaEven anaSubcolLeft\"></div><div class=\"anaCell anaEven\">8164</div><div class=\"anaCell anaEven anaSubcolRight\"><div class=\"anaPositive\">(+804.10%)</div></div><div class=\"anaIndex anaOdd\"><span style=\"color: gray\">Empty</span></div><div class=\"anaCell anaOdd anaSubcolLeft\"></div><div class=\"anaCell anaOdd\">1927</div><div class=\"anaCell anaOdd anaSubcolRight\"><div class=\"anaPositive\">(+1151.30%)</div></div><div class=\"anaIndex anaEven\"><a href=\"https://anvilproject.org/ncpi\">/ncpi</a></div><div class=\"anaCell anaEven anaSubcolLeft\"><div class=\"up\"></div></div><div class=\"anaCell anaEven\">315</div><div class=\"anaCell anaEven anaSubcolRight\"><div class=\"anaPositive\">(+1066.67%)</div></div><div class=\"anaIndex anaOdd\"><a href=\"https://anvilproject.org/learn/account-setup/obtaining-a-google-id\">/learn/account-setup/obtaining-a-google-id</a></div><div class=\"anaCell anaOdd anaSubcolLeft\"><div class=\"down\"></div></div><div class=\"anaCell anaOdd\">313</div><div class=\"anaCell anaOdd anaSubcolRight\"><div class=\"anaPositive\">(+723.68%)</div></div><div class=\"anaIndex anaEven\"><a href=\"https://anvilproject.org/overview\">/overview</a></div><div class=\"anaCell anaEven anaSubcolLeft\"></div><div class=\"anaCell anaEven\">267</div><div class=\"anaCell anaEven anaSubcolRight\"><div class=\"anaPositive\">(+968.00%)</div></div><div class=\"anaIndex anaOdd\"><a href=\"https://anvilproject.org/learn/reference/gtex-v8-free-egress-instructions\">/learn/reference/gtex-v8-free-egress-instructions</a></div><div class=\"anaCell anaOdd anaSubcolLeft\"><div class=\"up\"></div></div><div class=\"anaCell anaOdd\">160</div><div class=\"anaCell anaOdd anaSubcolRight\"><div class=\"anaPositive\">(+1042.86%)</div></div><div class=\"anaIndex anaEven\"><a href=\"https://anvilproject.org/learn/billing-setup/creating-a-google-cloud-billing-account\">/learn/billing-setup/creating-a-google-cloud-billing-account</a></div><div class=\"anaCell anaEven anaSubcolLeft\"></div><div class=\"anaCell anaEven\">136</div><div class=\"anaCell anaEven anaSubcolRight\"><div class=\"anaPositive\">(+806.67%)</div></div><div class=\"anaIndex anaOdd\"><a href=\"https://anvilproject.org/learn\">/learn</a></div><div class=\"anaCell anaOdd anaSubcolLeft\"><div class=\"up\"></div></div><div class=\"anaCell anaOdd\">131</div><div class=\"anaCell anaOdd anaSubcolRight\"><div class=\"anaPositive\">(+1537.50%)</div></div><div class=\"anaIndex anaEven\"><a href=\"https://anvilproject.org/ncpi/solicitation-announcements\">/ncpi/solicitation-announcements</a></div><div class=\"anaCell anaEven anaSubcolLeft\"><div class=\"down\"></div></div><div class=\"anaCell anaEven\">117</div><div class=\"anaCell anaEven anaSubcolRight\"><div class=\"anaPositive\">(+431.82%)</div></div><div class=\"anaIndex anaOdd\"><a href=\"https://anvilproject.org/guides/content/using-images\">/guides/content/using-images</a></div><div class=\"anaCell anaOdd anaSubcolLeft\"></div><div class=\"anaCell anaOdd\">63</div><div class=\"anaCell anaOdd anaSubcolRight\"><div class=\"anaPositive\">(+687.50%)</div></div><div class=\"anaIndex anaEven\"><a href=\"https://anvilproject.org/learn/investigators/budget-templates\">/learn/investigators/budget-templates</a></div><div class=\"anaCell anaEven anaSubcolLeft\"><div class=\"new\"></div></div><div class=\"anaCell anaEven\">45</div><div class=\"anaCell anaEven anaSubcolRight\"></div><div class=\"anaIndex anaOdd\"><a href=\"https://anvilproject.org/events\">/events</a></div><div class=\"anaCell anaOdd anaSubcolLeft\"><div class=\"new\"></div></div><div class=\"anaCell anaOdd\">42</div><div class=\"anaCell anaOdd anaSubcolRight\"></div><div class=\"anaIndex anaEven\"><a href=\"https://anvilproject.org/learn/account-setup/overview-of-account-setup\">/learn/account-setup/overview-of-account-setup</a></div><div class=\"anaCell anaEven anaSubcolLeft\"><div class=\"up\"></div></div><div class=\"anaCell anaEven\">39</div><div class=\"anaCell anaEven anaSubcolRight\"><div class=\"anaPositive\">(+875.00%)</div></div><div class=\"anaIndex anaOdd\"><a href=\"https://anvilproject.org/learn/introduction/getting-started-with-gen3\">/learn/introduction/getting-started-with-gen3</a></div><div class=\"anaCell anaOdd anaSubcolLeft\"><div class=\"new\"></div></div><div class=\"anaCell anaOdd\">39</div><div class=\"anaCell anaOdd anaSubcolRight\"></div><div class=\"anaIndex anaEven\"><a href=\"https://anvilproject.org/learn/accessing-data/requesting-data-access\">/learn/accessing-data/requesting-data-access</a></div><div class=\"anaCell anaEven anaSubcolLeft\"><div class=\"down\"></div></div><div class=\"anaCell anaEven\">38</div><div class=\"anaCell anaEven anaSubcolRight\"><div class=\"anaPositive\">(+533.33%)</div></div><div class=\"anaIndex anaOdd\"><a href=\"https://anvilproject.org/team\">/team</a></div><div class=\"anaCell anaOdd anaSubcolLeft\"><div class=\"down\"></div></div><div class=\"anaCell anaOdd\">38</div><div class=\"anaCell anaOdd anaSubcolRight\"><div class=\"anaPositive\">(+442.86%)</div></div><div class=\"anaIndex anaEven\"><a href=\"https://anvilproject.org/learn/data-submitters/submission-guide/set-up-a-data-model\">/learn/data-submitters/submission-guide/set-up-a-data-model</a></div><div class=\"anaCell anaEven anaSubcolLeft\"><div class=\"new\"></div></div><div class=\"anaCell anaEven\">36</div><div class=\"anaCell anaEven anaSubcolRight\"></div><div class=\"anaIndex anaOdd\"><a href=\"https://anvilproject.org/learn/data-submitters/resources/consortium-data-access-guidelines\">/learn/data-submitters/resources/consortium-data-access-guidelines</a></div><div class=\"anaCell anaOdd anaSubcolLeft\"><div class=\"up\"></div></div><div class=\"anaCell anaOdd\">34</div><div class=\"anaCell anaOdd anaSubcolRight\"><div class=\"anaPositive\">(+1600.00%)</div></div><div class=\"anaIndex anaEven\"><a href=\"https://anvilproject.org/learn/introduction/intro-to-terra\">/learn/introduction/intro-to-terra</a></div><div class=\"anaCell anaEven anaSubcolLeft\"><div class=\"down\"></div></div><div class=\"anaCell anaEven\">31</div><div class=\"anaCell anaEven anaSubcolRight\"><div class=\"anaPositive\">(+210.00%)</div></div><div class=\"anaIndex anaOdd\"><a href=\"https://anvilproject.org/ncpi/demonstration-projects/line-1-retrotransposon-expression-mckerrow\">/ncpi/demonstration-projects/line-1-retrotransposon-expression-mckerrow</a></div><div class=\"anaCell anaOdd anaSubcolLeft\"><div class=\"new\"></div></div><div class=\"anaCell anaOdd\">30</div><div class=\"anaCell anaOdd anaSubcolRight\"></div><div class=\"anaIndex anaEven\"><a href=\"https://anvilproject.org/guides/content/editing-an-existing-page\">/guides/content/editing-an-existing-page</a></div><div class=\"anaCell anaEven anaSubcolLeft\"><div class=\"down\"></div></div><div class=\"anaCell anaEven\">30</div><div class=\"anaCell anaEven anaSubcolRight\"><div class=\"anaPositive\">(+650.00%)</div></div><div class=\"anaIndex anaOdd\"><a href=\"https://anvilproject.org/learn/data-analysts/running-a-workflow\">/learn/data-analysts/running-a-workflow</a></div><div class=\"anaCell anaOdd anaSubcolLeft\"></div><div class=\"anaCell anaOdd\">29</div><div class=\"anaCell anaOdd anaSubcolRight\"><div class=\"anaPositive\">(+866.67%)</div></div><div class=\"anaIndex anaEven\"><a href=\"https://anvilproject.org/ncpi/platforms/crdc\">/ncpi/platforms/crdc</a></div><div class=\"anaCell anaEven anaSubcolLeft\"><div class=\"down\"></div></div><div class=\"anaCell anaEven\">29</div><div class=\"anaCell anaEven anaSubcolRight\"><div class=\"anaPositive\">(+480.00%)</div></div><div class=\"anaIndex anaOdd\"><a href=\"https://anvilproject.org/learn/data-analysts/single-cell-rnaseq-with-orchestrating-single-cell-analysis-in-r-bioconductor\">/learn/data-analysts/single-cell-rnaseq-with-orchestrating-single-cell-analysis-in-r-bioconductor</a></div><div class=\"anaCell anaOdd anaSubcolLeft\"><div class=\"down\"></div></div><div class=\"anaCell anaOdd\">23</div><div class=\"anaCell anaOdd anaSubcolRight\"><div class=\"anaPositive\">(+360.00%)</div></div><div class=\"anaIndex anaEven\"><a href=\"https://anvilproject.org/learn/data-submitters/submission-guide/data-submitters-overview\">/learn/data-submitters/submission-guide/data-submitters-overview</a></div><div class=\"anaCell anaEven anaSubcolLeft\"><div class=\"new\"></div></div><div class=\"anaCell anaEven\">23</div><div class=\"anaCell anaEven anaSubcolRight\"></div><div class=\"anaIndex anaOdd\"><a href=\"https://anvilproject.org/learn/introduction/understanding-cloud-costs\">/learn/introduction/understanding-cloud-costs</a></div><div class=\"anaCell anaOdd anaSubcolLeft\"><div class=\"new\"></div></div><div class=\"anaCell anaOdd\">23</div><div class=\"anaCell anaOdd anaSubcolRight\"></div><div class=\"anaIndex anaEven\"><a href=\"https://anvilproject.org/learn/accessing-data/cmVxdWVzdG\">/learn/accessing-data/cmVxdWVzdG</a></div><div class=\"anaCell anaEven anaSubcolLeft\"><div class=\"down\"></div></div><div class=\"anaCell anaEven\">21</div><div class=\"anaCell anaEven anaSubcolRight\"><div class=\"anaPositive\">(+425.00%)</div></div><div class=\"anaIndex anaOdd\"><a href=\"https://anvilproject.org/learn/data-submitters/submission-guide/qc-data\">/learn/data-submitters/submission-guide/qc-data</a></div><div class=\"anaCell anaOdd anaSubcolLeft\"><div class=\"new\"></div></div><div class=\"anaCell anaOdd\">21</div><div class=\"anaCell anaOdd anaSubcolRight\"></div><div class=\"anaIndex anaEven\"><a href=\"https://anvilproject.org/ncpi/working-groups\">/ncpi/working-groups</a></div><div class=\"anaCell anaEven anaSubcolLeft\"><div class=\"down\"></div></div><div class=\"anaCell anaEven\">20</div><div class=\"anaCell anaEven anaSubcolRight\"><div class=\"anaPositive\">(+566.67%)</div></div><div class=\"anaIndex anaOdd\"><a href=\"https://anvilproject.org/ncpi/platforms/bdc\">/ncpi/platforms/bdc</a></div><div class=\"anaCell anaOdd anaSubcolLeft\"><div class=\"down\"></div></div><div class=\"anaCell anaOdd\">20</div><div class=\"anaCell anaOdd anaSubcolRight\"><div class=\"anaPositive\">(+900.00%)</div></div></div>"
      ],
      "text/plain": [
       "<IPython.core.display.HTML object>"
      ]
     },
     "metadata": {},
     "output_type": "display_data"
    }
   ],
   "source": [
    "ac.show_difference_table(\"Entrances\", \"Page\", \"sessions\", \"landingPage\", **default_params_portal)"
   ]
  },
  {
   "cell_type": "markdown",
   "id": "ae2a4531",
   "metadata": {},
   "source": [
    "<div style=\"page-break-after: always\"></div>"
   ]
  },
  {
   "attachments": {},
   "cell_type": "markdown",
   "id": "6ce3b066",
   "metadata": {},
   "source": [
    "## Outbound Links to Terra"
   ]
  },
  {
   "attachments": {},
   "cell_type": "markdown",
   "id": "defa1952",
   "metadata": {
    "tags": [
     "remove-cell"
    ]
   },
   "source": [
    "### Terra Login"
   ]
  },
  {
   "cell_type": "code",
   "execution_count": 23,
   "id": "380182bd",
   "metadata": {
    "tags": [
     "remove-input"
    ]
   },
   "outputs": [
    {
     "data": {
      "text/html": [
       "<div class=\"analyticsTable\" style=\"grid-template-columns: 1fr var(--symbol-width) minmax(var(--value-width), min-content) minmax(var(--percentage-width), min-content)\"><div class=\"anaIndex anaEven\">https://anvil.terra.bio/</div><div class=\"anaCell anaEven anaSubcolLeft\"></div><div class=\"anaCell anaEven\">94</div><div class=\"anaCell anaEven anaSubcolRight\"><div class=\"anaPositive\">(+1075.00%)</div></div></div>"
      ],
      "text/plain": [
       "<IPython.core.display.HTML object>"
      ]
     },
     "metadata": {},
     "output_type": "display_data"
    }
   ],
   "source": [
    "ac.show_difference_table(\"Count\", \"URL\", \"eventCount\", \"linkUrl\", dimension_filter=\"linkUrl=~^https://anvil.terra.bio/(?:\\\\#workspaces)?$\", **default_params_portal)\n",
    "# NOTE: this will actually include terra workspace links, since the fragment isn't reported, so the heading above is hidden"
   ]
  },
  {
   "cell_type": "markdown",
   "id": "7e6d9407",
   "metadata": {
    "tags": [
     "remove-cell"
    ]
   },
   "source": [
    "### Terra Workspaces\n",
    "The following Terra workspaces were navigated to from the AnVIL portal."
   ]
  },
  {
   "cell_type": "code",
   "execution_count": 24,
   "id": "2d472b3d",
   "metadata": {
    "tags": [
     "remove-cell"
    ]
   },
   "outputs": [],
   "source": [
    "# ac.show_difference_table(\"Count\", \"Workspace\", \"ga:hits\", \"ga:eventLabel\", filters=\"ga:eventCategory==External Link;ga:dimension1==Workspace\", **default_params)\n",
    "# TODO"
   ]
  },
  {
   "cell_type": "markdown",
   "id": "0592b63a",
   "metadata": {},
   "source": [
    "<div style=\"page-break-after: always\"></div>"
   ]
  },
  {
   "cell_type": "markdown",
   "id": "ad319d17",
   "metadata": {},
   "source": [
    "## Outbound Links to dbGap\n",
    "### Top Studies"
   ]
  },
  {
   "cell_type": "code",
   "execution_count": 3,
   "id": "74ef9fa4",
   "metadata": {
    "tags": [
     "remove-input"
    ]
   },
   "outputs": [
    {
     "data": {
      "text/html": [
       "<div class=\"analyticsTable\" style=\"grid-template-columns: 1fr var(--symbol-width) minmax(var(--value-width), min-content) minmax(var(--percentage-width), min-content)\"><div class=\"anaIndex anaColName\">URL</div><div class=\"anaColName\" style=\"grid-column: span 3\">Count</div><div class=\"anaIndex anaEven\">https://www.ncbi.nlm.nih.gov/projects/gap/cgi-bin/study.cgi?study_id=phs000424.v8.p2</div><div class=\"anaCell anaEven anaSubcolLeft\"><div class=\"new\"></div></div><div class=\"anaCell anaEven\">5</div><div class=\"anaCell anaEven anaSubcolRight\"></div><div class=\"anaIndex anaOdd\">https://www.ncbi.nlm.nih.gov/projects/gap/cgi-bin/study.cgi?study_id=phs000424</div><div class=\"anaCell anaOdd anaSubcolLeft\"><div class=\"new\"></div></div><div class=\"anaCell anaOdd\">1</div><div class=\"anaCell anaOdd anaSubcolRight\"></div></div>"
      ],
      "text/plain": [
       "<IPython.core.display.HTML object>"
      ]
     },
     "metadata": {},
     "output_type": "display_data"
    }
   ],
   "source": [
    "ac.show_difference_table(\"Count\", \"URL\", \"eventCount\", \"linkUrl\", dimension_filter=\"linkUrl=~^https://www\\\\.ncbi\\\\.nlm\\\\.nih\\\\.gov/projects/gap/cgi-bin/study\\\\.cgi\\\\?study_id=\", **default_params_portal)"
   ]
  },
  {
   "cell_type": "markdown",
   "id": "6d12a5fb",
   "metadata": {
    "tags": []
   },
   "source": [
    "## Outbound Links to Gen3\n",
    "### Links to Gen3 Data Browser"
   ]
  },
  {
   "cell_type": "code",
   "execution_count": 26,
   "id": "231ccf7b",
   "metadata": {
    "tags": [
     "remove-input"
    ]
   },
   "outputs": [
    {
     "data": {
      "text/html": [
       "<div class=\"analyticsTable\" style=\"grid-template-columns: 1fr var(--symbol-width) minmax(var(--value-width), min-content) minmax(var(--percentage-width), min-content)\"><div class=\"anaIndex anaColName\">URL</div><div class=\"anaColName\" style=\"grid-column: span 3\">Count</div><div class=\"anaIndex anaEven\">https://gen3.theanvil.io/login</div><div class=\"anaCell anaEven anaSubcolLeft\"><div class=\"up\"></div></div><div class=\"anaCell anaEven\">40</div><div class=\"anaCell anaEven anaSubcolRight\"><div class=\"anaPositive\">(+900.00%)</div></div><div class=\"anaIndex anaOdd\">https://gen3.theanvil.io/identity</div><div class=\"anaCell anaOdd anaSubcolLeft\"><div class=\"up\"></div></div><div class=\"anaCell anaOdd\">25</div><div class=\"anaCell anaOdd anaSubcolRight\"><div class=\"anaPositive\">(+2400.00%)</div></div><div class=\"anaIndex anaEven\">https://gen3.theanvil.io/</div><div class=\"anaCell anaEven anaSubcolLeft\"><div class=\"down\"></div></div><div class=\"anaCell anaEven\">20</div><div class=\"anaCell anaEven anaSubcolRight\"><div class=\"anaPositive\">(+150.00%)</div></div><div class=\"anaIndex anaOdd\">https://gen3.theanvil.io/explorer</div><div class=\"anaCell anaOdd anaSubcolLeft\"><div class=\"new\"></div></div><div class=\"anaCell anaOdd\">18</div><div class=\"anaCell anaOdd anaSubcolRight\"></div></div>"
      ],
      "text/plain": [
       "<IPython.core.display.HTML object>"
      ]
     },
     "metadata": {},
     "output_type": "display_data"
    }
   ],
   "source": [
    "ac.show_difference_table(\"Count\", \"URL\", \"eventCount\", \"linkUrl\", dimension_filter=\"linkUrl=~^https://gen3\\\\.theanvil\\\\.io(?:/.*)?\", **default_params_portal)"
   ]
  },
  {
   "cell_type": "markdown",
   "id": "3bc4f689",
   "metadata": {
    "tags": [
     "remove-cell"
    ]
   },
   "source": [
    "## Outbound Links to Tools"
   ]
  },
  {
   "cell_type": "code",
   "execution_count": 27,
   "id": "2f97a86e",
   "metadata": {
    "tags": [
     "remove-cell"
    ]
   },
   "outputs": [],
   "source": [
    "# ac.show_difference_table(\"Count\", \"Tool\", \"ga:hits\", \"ga:eventLabel\", filters=\"ga:eventCategory==External Link;ga:dimension1==Tool\", **default_params)\n",
    "# TODO"
   ]
  },
  {
   "cell_type": "markdown",
   "id": "8e77bb04",
   "metadata": {
    "tags": [
     "remove-cell"
    ]
   },
   "source": [
    "## Outbound Links to General Resources (NIH/NHGRI)"
   ]
  },
  {
   "cell_type": "code",
   "execution_count": 28,
   "id": "4856582d",
   "metadata": {
    "tags": [
     "remove-cell"
    ]
   },
   "outputs": [],
   "source": [
    "# ac.show_difference_table(\"Count\", [\"NIH/NHGRI\", \"URL\"], \"ga:hits\", [\"ga:dimension2\", \"ga:dimension3\"], filters=\"ga:eventCategory==External Link;ga:dimension1==Reference;ga:dimension2=~NIH|NHGRI\", **default_params)\n",
    "# TODO"
   ]
  },
  {
   "cell_type": "markdown",
   "id": "f864a416",
   "metadata": {
    "tags": [
     "remove-cell"
    ]
   },
   "source": [
    "## Outbound Links to Data Consortia"
   ]
  },
  {
   "cell_type": "code",
   "execution_count": 29,
   "id": "3b411d93",
   "metadata": {
    "tags": [
     "remove-cell"
    ]
   },
   "outputs": [],
   "source": [
    "# ac.show_difference_table(\"Count\", \"Consortia\", \"ga:hits\", \"ga:eventLabel\", filters=\"ga:eventCategory==External Link;ga:dimension1==Data Consortium\", **default_params)\n",
    "# TODO"
   ]
  },
  {
   "cell_type": "markdown",
   "id": "9432d147",
   "metadata": {},
   "source": [
    "<div style=\"page-break-after: always\"></div>"
   ]
  },
  {
   "cell_type": "markdown",
   "id": "820f3460",
   "metadata": {},
   "source": [
    "## Videos\n",
    "### Monthly Video Views (All Time)"
   ]
  },
  {
   "cell_type": "code",
   "execution_count": 4,
   "id": "67193d27",
   "metadata": {
    "scrolled": false,
    "tags": [
     "remove-input"
    ]
   },
   "outputs": [
    {
     "data": {
      "image/png": "[encoded data removed]",
      "text/plain": [
       "<Figure size 1152x648 with 1 Axes>"
      ]
     },
     "metadata": {
      "needs_background": "light"
     },
     "output_type": "display_data"
    }
   ],
   "source": [
    "yt_over_time_table = anvil.plot_yt_over_time(start_date=ANALYTICS_START, end_date=pd.Timestamp.now().isoformat()[:10], **default_params_yt)"
   ]
  },
  {
   "cell_type": "code",
   "execution_count": 5,
   "id": "811169be",
   "metadata": {
    "tags": [
     "remove-input"
    ]
   },
   "outputs": [
    {
     "data": {
      "text/html": [
       "<div class=\"analyticsTable\" style=\"grid-template-columns: repeat(1, auto) 1fr minmax(var(--value-width), min-content) minmax(var(--percentage-width), min-content)\"><div class=\"anaIndex anaColName\">Year</div><div class=\"anaIndex anaColName\">Month</div><div class=\"anaColName\" style=\"grid-column: span 2\">Views</div><div class=\"anaIndex anaEven\" style=\"grid-row: span 9\">2022</div><div class=\"anaIndex anaEven\" style=\"grid-row: span 1\">September</div><div class=\"anaCell anaEven anaSubcolLeft\">62</div><div class=\"anaCell anaEven anaSubcolRight\"><div class=\"anaNegative\">(-50.40%)</div></div><div class=\"anaIndex anaOdd\" style=\"grid-row: span 1\">August</div><div class=\"anaCell anaOdd anaSubcolLeft\">125</div><div class=\"anaCell anaOdd anaSubcolRight\"><div class=\"anaNegative\">(-31.32%)</div></div><div class=\"anaIndex anaEven\" style=\"grid-row: span 1\">July</div><div class=\"anaCell anaEven anaSubcolLeft\">182</div><div class=\"anaCell anaEven anaSubcolRight\"><div class=\"anaNegative\">(-33.33%)</div></div><div class=\"anaIndex anaOdd\" style=\"grid-row: span 1\">June</div><div class=\"anaCell anaOdd anaSubcolLeft\">273</div><div class=\"anaCell anaOdd anaSubcolRight\"><div class=\"anaPositive\">(+19.21%)</div></div><div class=\"anaIndex anaEven\" style=\"grid-row: span 1\">May</div><div class=\"anaCell anaEven anaSubcolLeft\">229</div><div class=\"anaCell anaEven anaSubcolRight\"><div class=\"anaPositive\">(+89.26%)</div></div><div class=\"anaIndex anaOdd\" style=\"grid-row: span 1\">April</div><div class=\"anaCell anaOdd anaSubcolLeft\">121</div><div class=\"anaCell anaOdd anaSubcolRight\"><div class=\"anaPositive\">(+22.22%)</div></div><div class=\"anaIndex anaEven\" style=\"grid-row: span 1\">March</div><div class=\"anaCell anaEven anaSubcolLeft\">99</div><div class=\"anaCell anaEven anaSubcolRight\"><div class=\"anaNegative\">(-50.99%)</div></div><div class=\"anaIndex anaOdd\" style=\"grid-row: span 1\">February</div><div class=\"anaCell anaOdd anaSubcolLeft\">202</div><div class=\"anaCell anaOdd anaSubcolRight\"><div class=\"anaPositive\">(+27.04%)</div></div><div class=\"anaIndex anaEven\" style=\"grid-row: span 1\">January</div><div class=\"anaCell anaEven anaSubcolLeft\">159</div><div class=\"anaCell anaEven anaSubcolRight\"><div class=\"anaPositive\">(+536.00%)</div></div><div class=\"anaIndex anaOdd\" style=\"grid-row: span 12\">2021</div><div class=\"anaIndex anaOdd\" style=\"grid-row: span 1\">December</div><div class=\"anaCell anaOdd anaSubcolLeft\">25</div><div class=\"anaCell anaOdd anaSubcolRight\"><div class=\"anaPositive\">(+38.89%)</div></div><div class=\"anaIndex anaEven\" style=\"grid-row: span 1\">November</div><div class=\"anaCell anaEven anaSubcolLeft\">18</div><div class=\"anaCell anaEven anaSubcolRight\"><div class=\"anaNegative\">(-14.29%)</div></div><div class=\"anaIndex anaOdd\" style=\"grid-row: span 1\">October</div><div class=\"anaCell anaOdd anaSubcolLeft\">21</div><div class=\"anaCell anaOdd anaSubcolRight\"><div class=\"anaNegative\">(-27.59%)</div></div><div class=\"anaIndex anaEven\" style=\"grid-row: span 1\">September</div><div class=\"anaCell anaEven anaSubcolLeft\">29</div><div class=\"anaCell anaEven anaSubcolRight\"><div class=\"anaNegative\">(-25.64%)</div></div><div class=\"anaIndex anaOdd\" style=\"grid-row: span 1\">August</div><div class=\"anaCell anaOdd anaSubcolLeft\">39</div><div class=\"anaCell anaOdd anaSubcolRight\"><div class=\"anaPositive\">(+105.26%)</div></div><div class=\"anaIndex anaEven\" style=\"grid-row: span 1\">July</div><div class=\"anaCell anaEven anaSubcolLeft\">19</div><div class=\"anaCell anaEven anaSubcolRight\"><div class=\"anaPositive\">(+26.67%)</div></div><div class=\"anaIndex anaOdd\" style=\"grid-row: span 1\">June</div><div class=\"anaCell anaOdd anaSubcolLeft\">15</div><div class=\"anaCell anaOdd anaSubcolRight\"><div class=\"anaNegative\">(-11.76%)</div></div><div class=\"anaIndex anaEven\" style=\"grid-row: span 1\">May</div><div class=\"anaCell anaEven anaSubcolLeft\">17</div><div class=\"anaCell anaEven anaSubcolRight\"><div class=\"anaNegative\">(-37.04%)</div></div><div class=\"anaIndex anaOdd\" style=\"grid-row: span 1\">April</div><div class=\"anaCell anaOdd anaSubcolLeft\">27</div><div class=\"anaCell anaOdd anaSubcolRight\"><div class=\"anaPositive\">(+3.85%)</div></div><div class=\"anaIndex anaEven\" style=\"grid-row: span 1\">March</div><div class=\"anaCell anaEven anaSubcolLeft\">26</div><div class=\"anaCell anaEven anaSubcolRight\"><div class=\"anaNegative\">(-62.32%)</div></div><div class=\"anaIndex anaOdd\" style=\"grid-row: span 1\">February</div><div class=\"anaCell anaOdd anaSubcolLeft\">69</div><div class=\"anaCell anaOdd anaSubcolRight\"><div class=\"anaPositive\">(+176.00%)</div></div><div class=\"anaIndex anaEven\" style=\"grid-row: span 1\">January</div><div class=\"anaCell anaEven anaSubcolLeft\">25</div><div class=\"anaCell anaEven anaSubcolRight\"><div class=\"anaNegative\">(-64.29%)</div></div><div class=\"anaIndex anaOdd\" style=\"grid-row: span 5\">2020</div><div class=\"anaIndex anaOdd\" style=\"grid-row: span 1\">December</div><div class=\"anaCell anaOdd anaSubcolLeft\">70</div><div class=\"anaCell anaOdd anaSubcolRight\"><div class=\"anaPositive\">(+775.00%)</div></div><div class=\"anaIndex anaEven\" style=\"grid-row: span 1\">November</div><div class=\"anaCell anaEven anaSubcolLeft\">8</div><div class=\"anaCell anaEven anaSubcolRight\"><div class=\"anaNegative\">(-75.00%)</div></div><div class=\"anaIndex anaOdd\" style=\"grid-row: span 1\">October</div><div class=\"anaCell anaOdd anaSubcolLeft\">32</div><div class=\"anaCell anaOdd anaSubcolRight\"><div class=\"anaNegative\">(-25.58%)</div></div><div class=\"anaIndex anaEven\" style=\"grid-row: span 1\">September</div><div class=\"anaCell anaEven anaSubcolLeft\">43</div><div class=\"anaCell anaEven anaSubcolRight\"><div class=\"anaPositive\">(+86.96%)</div></div><div class=\"anaIndex anaOdd\" style=\"grid-row: span 1\">August</div><div class=\"anaCell anaOdd anaSubcolLeft\">23</div><div class=\"anaCell anaOdd anaSubcolRight\"></div></div>"
      ],
      "text/plain": [
       "<IPython.core.display.HTML object>"
      ]
     },
     "metadata": {},
     "output_type": "display_data"
    }
   ],
   "source": [
    "display(yt_over_time_table)"
   ]
  },
  {
   "cell_type": "markdown",
   "id": "07aa790c",
   "metadata": {},
   "source": [
    "<div style=\"page-break-after: always\"></div>"
   ]
  },
  {
   "cell_type": "markdown",
   "id": "2baf99a9",
   "metadata": {},
   "source": [
    "### Video Statistics"
   ]
  },
  {
   "cell_type": "code",
   "execution_count": 60,
   "id": "fdbb0e52",
   "metadata": {
    "scrolled": false,
    "tags": [
     "remove-input"
    ]
   },
   "outputs": [
    {
     "data": {
      "text/html": [
       "<div class=\"analyticsTable\" style=\"grid-template-columns: 1fr var(--symbol-width) minmax(var(--value-width), min-content) minmax(var(--percentage-width), min-content) minmax(4.3em, min-content) minmax(var(--value-width), min-content) 3.8em minmax(var(--percentage-width), min-content) minmax(5.8em, min-content)\"><div class=\"anaIndex anaColName\">Video</div><div class=\"anaColName\" style=\"grid-column: span 3\">Views</div><div class=\"anaColName\" style=\"grid-column: span 1\">All-time views</div><div class=\"anaColName\" style=\"grid-column: span 3\">Average watch time (minutes)</div><div class=\"anaColName\" style=\"grid-column: span 1\">Video duration</div><div class=\"anaIndex anaEven\"><a href=\"https://www.youtube.com/watch?v=8pqPhmDOm6k\">Introduction to the Human Pangenome Reference</a></div><div class=\"anaCell anaEven anaSubcolLeft\"><div class=\"up\"></div></div><div class=\"anaCell anaEven\">18</div><div class=\"anaCell anaEven anaSubcolRight\"><div class=\"anaNegative\">(-25.00%)</div></div><div class=\"anaCell anaEven anaSubcolLeft\"><div style=\"text-align: center\">234</div></div><div class=\"anaCell anaEven anaSubcolLeft\">3.72</div><div class=\"anaCell anaEven\"><div style=\"color: darkgray\">27.88%</div></div><div class=\"anaCell anaEven anaSubcolRight\"><div class=\"anaPositive\">(+31.95%)</div></div><div class=\"anaCell anaEven anaSubcolLeft\"><div style=\"text-align: center\">00:13:21</div></div><div class=\"anaIndex anaOdd\"><a href=\"https://www.youtube.com/watch?v=T5xCxFHGpPE\">Starting Jupyter on the AnVIL Platform</a></div><div class=\"anaCell anaOdd anaSubcolLeft\"><div class=\"up\"></div></div><div class=\"anaCell anaOdd\">16</div><div class=\"anaCell anaOdd anaSubcolRight\"><div class=\"anaPositive\">(+60.00%)</div></div><div class=\"anaCell anaOdd anaSubcolLeft\"><div style=\"text-align: center\">63</div></div><div class=\"anaCell anaOdd anaSubcolLeft\">0.95</div><div class=\"anaCell anaOdd\"><div style=\"color: darkgray\">19.96%</div></div><div class=\"anaCell anaOdd anaSubcolRight\"><div class=\"anaNegative\">(-47.71%)</div></div><div class=\"anaCell anaOdd anaSubcolLeft\"><div style=\"text-align: center\">00:04:47</div></div><div class=\"anaIndex anaEven\"><a href=\"https://www.youtube.com/watch?v=1i5TxvESmNY\">Calling Variants with a Pangenome in AnVIL</a></div><div class=\"anaCell anaEven anaSubcolLeft\"><div class=\"up\"></div></div><div class=\"anaCell anaEven\">15</div><div class=\"anaCell anaEven anaSubcolRight\"><div class=\"anaPositive\">(+15.38%)</div></div><div class=\"anaCell anaEven anaSubcolLeft\"><div style=\"text-align: center\">130</div></div><div class=\"anaCell anaEven anaSubcolLeft\">3.38</div><div class=\"anaCell anaEven\"><div style=\"color: darkgray\">20.10%</div></div><div class=\"anaCell anaEven anaSubcolRight\"><div class=\"anaPositive\">(+10.33%)</div></div><div class=\"anaCell anaEven anaSubcolLeft\"><div style=\"text-align: center\">00:16:54</div></div><div class=\"anaIndex anaOdd\"><a href=\"https://www.youtube.com/watch?v=fxXGvfIr4dY\">Introduction to Genomic Workflows from HPRC</a></div><div class=\"anaCell anaOdd anaSubcolLeft\"><div class=\"up\"></div></div><div class=\"anaCell anaOdd\">9</div><div class=\"anaCell anaOdd anaSubcolRight\"><div class=\"anaPositive\">(+80.00%)</div></div><div class=\"anaCell anaOdd anaSubcolLeft\"><div style=\"text-align: center\">153</div></div><div class=\"anaCell anaOdd anaSubcolLeft\">1.63</div><div class=\"anaCell anaOdd\"><div style=\"color: darkgray\">14.35%</div></div><div class=\"anaCell anaOdd anaSubcolRight\"><div class=\"anaNegative\">(-63.02%)</div></div><div class=\"anaCell anaOdd anaSubcolLeft\"><div style=\"text-align: center\">00:11:24</div></div><div class=\"anaIndex anaEven\"><a href=\"https://www.youtube.com/watch?v=N8RLWqA5U40\">2022 NCPI Spring Virtual Meeting Day 2</a></div><div class=\"anaCell anaEven anaSubcolLeft\"><div class=\"down\"></div></div><div class=\"anaCell anaEven\">8</div><div class=\"anaCell anaEven anaSubcolRight\"><div class=\"anaNegative\">(-50.00%)</div></div><div class=\"anaCell anaEven anaSubcolLeft\"><div style=\"text-align: center\">43</div></div><div class=\"anaCell anaEven anaSubcolLeft\">5.13</div><div class=\"anaCell anaEven\"><div style=\"color: darkgray\">2.17%</div></div><div class=\"anaCell anaEven anaSubcolRight\"><div class=\"anaNegative\">(-35.02%)</div></div><div class=\"anaCell anaEven anaSubcolLeft\"><div style=\"text-align: center\">03:56:16</div></div><div class=\"anaIndex anaOdd\"><a href=\"https://www.youtube.com/watch?v=-Q4SjLEd99s\">Galaxy On AnVIL Walkthrough</a></div><div class=\"anaCell anaOdd anaSubcolLeft\"><div class=\"down\"></div></div><div class=\"anaCell anaOdd\">8</div><div class=\"anaCell anaOdd anaSubcolRight\"><div class=\"anaNegative\">(-61.90%)</div></div><div class=\"anaCell anaOdd anaSubcolLeft\"><div style=\"text-align: center\">219</div></div><div class=\"anaCell anaOdd anaSubcolLeft\">1.47</div><div class=\"anaCell anaOdd\"><div style=\"color: darkgray\">25.14%</div></div><div class=\"anaCell anaOdd anaSubcolRight\"><div class=\"anaNegative\">(-33.33%)</div></div><div class=\"anaCell anaOdd anaSubcolLeft\"><div style=\"text-align: center\">00:05:51</div></div><div class=\"anaIndex anaEven\"><a href=\"https://www.youtube.com/watch?v=gw92xQQOPQ4\">2022 NCPI Spring Virtual Meeting Day 1</a></div><div class=\"anaCell anaEven anaSubcolLeft\"><div class=\"down\"></div></div><div class=\"anaCell anaEven\">7</div><div class=\"anaCell anaEven anaSubcolRight\"><div class=\"anaNegative\">(-78.79%)</div></div><div class=\"anaCell anaEven anaSubcolLeft\"><div style=\"text-align: center\">64</div></div><div class=\"anaCell anaEven anaSubcolLeft\">3.55</div><div class=\"anaCell anaEven\"><div style=\"color: darkgray\">3.65%</div></div><div class=\"anaCell anaEven anaSubcolRight\"><div class=\"anaNegative\">(-63.02%)</div></div><div class=\"anaCell anaEven anaSubcolLeft\"><div style=\"text-align: center\">01:37:43</div></div><div class=\"anaIndex anaOdd\"><a href=\"https://www.youtube.com/watch?v=c8CkGHextog\">A Demo of Running The HPRC Assembly Workflow in AnVIL</a></div><div class=\"anaCell anaOdd anaSubcolLeft\"><div class=\"up\"></div></div><div class=\"anaCell anaOdd\">6</div><div class=\"anaCell anaOdd anaSubcolRight\"><div class=\"anaPositive\">(+20.00%)</div></div><div class=\"anaCell anaOdd anaSubcolLeft\"><div style=\"text-align: center\">68</div></div><div class=\"anaCell anaOdd anaSubcolLeft\">2.45</div><div class=\"anaCell anaOdd\"><div style=\"color: darkgray\">13.74%</div></div><div class=\"anaCell anaOdd anaSubcolRight\"><div class=\"anaNegative\">(-66.13%)</div></div><div class=\"anaCell anaOdd anaSubcolLeft\"><div style=\"text-align: center\">00:17:52</div></div><div class=\"anaIndex anaEven\"><a href=\"https://www.youtube.com/watch?v=mN4m_e85CLo\">Exploring and Accessing HPRC Data Resources in AnVIL</a></div><div class=\"anaCell anaEven anaSubcolLeft\"><div class=\"up\"></div></div><div class=\"anaCell anaEven\">3</div><div class=\"anaCell anaEven anaSubcolRight\"><div class=\"anaPositive\">(+200.00%)</div></div><div class=\"anaCell anaEven anaSubcolLeft\"><div style=\"text-align: center\">36</div></div><div class=\"anaCell anaEven anaSubcolLeft\">1.80</div><div class=\"anaCell anaEven\"><div style=\"color: darkgray\">28.47%</div></div><div class=\"anaCell anaEven anaSubcolRight\"><div class=\"anaNegative\">(-51.57%)</div></div><div class=\"anaCell anaEven anaSubcolLeft\"><div style=\"text-align: center\">00:06:21</div></div><div class=\"anaIndex anaOdd\"><a href=\"https://www.youtube.com/watch?v=VKDBT4lTDv8\">Sharing on AnVIL</a></div><div class=\"anaCell anaOdd anaSubcolLeft\"><div class=\"down\"></div></div><div class=\"anaCell anaOdd\">3</div><div class=\"anaCell anaOdd anaSubcolRight\"><div class=\"anaNegative\">(-62.50%)</div></div><div class=\"anaCell anaOdd anaSubcolLeft\"><div style=\"text-align: center\">59</div></div><div class=\"anaCell anaOdd anaSubcolLeft\">0.03</div><div class=\"anaCell anaOdd\"><div style=\"color: darkgray\">1.78%</div></div><div class=\"anaCell anaOdd anaSubcolRight\"><div class=\"anaNegative\">(-96.30%)</div></div><div class=\"anaCell anaOdd anaSubcolLeft\"><div style=\"text-align: center\">00:01:59</div></div><div class=\"anaIndex anaEven\"><a href=\"https://www.youtube.com/watch?v=4b7mBb093j4\">Introduction to AnVIL and how it supports HPRC</a></div><div class=\"anaCell anaEven anaSubcolLeft\"><div class=\"up\"></div></div><div class=\"anaCell anaEven\">2</div><div class=\"anaCell anaEven anaSubcolRight\"><div class=\"anaPositive\">(+100.00%)</div></div><div class=\"anaCell anaEven anaSubcolLeft\"><div style=\"text-align: center\">57</div></div><div class=\"anaCell anaEven anaSubcolLeft\">2.68</div><div class=\"anaCell anaEven\"><div style=\"color: darkgray\">43.06%</div></div><div class=\"anaCell anaEven anaSubcolRight\"><div class=\"anaPositive\">(+5266.67%)</div></div><div class=\"anaCell anaEven anaSubcolLeft\"><div style=\"text-align: center\">00:06:15</div></div><div class=\"anaIndex anaOdd\"><a href=\"https://www.youtube.com/watch?v=tVh93e6TzCE\">Reproducibility on AnVIL</a></div><div class=\"anaCell anaOdd anaSubcolLeft\"><div class=\"up\"></div></div><div class=\"anaCell anaOdd\">2</div><div class=\"anaCell anaOdd anaSubcolRight\"><div class=\"anaNegative\">(-33.33%)</div></div><div class=\"anaCell anaOdd anaSubcolLeft\"><div style=\"text-align: center\">50</div></div><div class=\"anaCell anaOdd anaSubcolLeft\">1.37</div><div class=\"anaCell anaOdd\"><div style=\"color: darkgray\">66.91%</div></div><div class=\"anaCell anaOdd anaSubcolRight\"><div class=\"anaZero\">(+0.00%)</div></div><div class=\"anaCell anaOdd anaSubcolLeft\"><div style=\"text-align: center\">00:02:04</div></div><div class=\"anaIndex anaEven\"><a href=\"https://www.youtube.com/watch?v=uHR5-o7bYGk\">Standardization on AnVIL</a></div><div class=\"anaCell anaEven anaSubcolLeft\"><div class=\"down\"></div></div><div class=\"anaCell anaEven\">2</div><div class=\"anaCell anaEven anaSubcolRight\"><div class=\"anaNegative\">(-66.67%)</div></div><div class=\"anaCell anaEven anaSubcolLeft\"><div style=\"text-align: center\">31</div></div><div class=\"anaCell anaEven anaSubcolLeft\">0.33</div><div class=\"anaCell anaEven\"><div style=\"color: darkgray\">20.82%</div></div><div class=\"anaCell anaEven anaSubcolRight\"><div class=\"anaNegative\">(-62.96%)</div></div><div class=\"anaCell anaEven anaSubcolLeft\"><div style=\"text-align: center\">00:01:40</div></div><div class=\"anaIndex anaOdd\"><a href=\"https://www.youtube.com/watch?v=ysLHv4e6X6Y\">Starting Galaxy on the AnVIL Platform</a></div><div class=\"anaCell anaOdd anaSubcolLeft\"><div class=\"new\"></div></div><div class=\"anaCell anaOdd\">1</div><div class=\"anaCell anaOdd anaSubcolRight\"></div><div class=\"anaCell anaOdd anaSubcolLeft\"><div style=\"text-align: center\">29</div></div><div class=\"anaCell anaOdd anaSubcolLeft\">1.70</div><div class=\"anaCell anaOdd\"><div style=\"color: darkgray\">24.42%</div></div><div class=\"anaCell anaOdd anaSubcolRight\"></div><div class=\"anaCell anaOdd anaSubcolLeft\"><div style=\"text-align: center\">00:06:59</div></div><div class=\"anaIndex anaEven\"><a href=\"https://www.youtube.com/watch?v=m8Tt0KemKFI\">Reproducible Analysis in the Cloud with Dockstore and Terra</a></div><div class=\"anaCell anaEven anaSubcolLeft\"><div class=\"down\"></div></div><div class=\"anaCell anaEven\">1</div><div class=\"anaCell anaEven anaSubcolRight\"><div class=\"anaNegative\">(-80.00%)</div></div><div class=\"anaCell anaEven anaSubcolLeft\"><div style=\"text-align: center\">273</div></div><div class=\"anaCell anaEven anaSubcolLeft\">0.57</div><div class=\"anaCell anaEven\"><div style=\"color: darkgray\">0.57%</div></div><div class=\"anaCell anaEven anaSubcolRight\"><div class=\"anaNegative\">(-96.12%)</div></div><div class=\"anaCell anaEven anaSubcolLeft\"><div style=\"text-align: center\">01:41:17</div></div><div class=\"anaIndex anaOdd\"><a href=\"https://www.youtube.com/watch?v=PJBuPW3cjkw\">Scalability on AnVIL</a></div><div class=\"anaCell anaOdd anaSubcolLeft\"><div class=\"down\"></div></div><div class=\"anaCell anaOdd\">1</div><div class=\"anaCell anaOdd anaSubcolRight\"><div class=\"anaNegative\">(-83.33%)</div></div><div class=\"anaCell anaOdd anaSubcolLeft\"><div style=\"text-align: center\">32</div></div><div class=\"anaCell anaOdd anaSubcolLeft\">0.42</div><div class=\"anaCell anaOdd\"><div style=\"color: darkgray\">22.15%</div></div><div class=\"anaCell anaOdd anaSubcolRight\"><div class=\"anaNegative\">(-50.00%)</div></div><div class=\"anaCell anaOdd anaSubcolLeft\"><div style=\"text-align: center\">00:01:53</div></div></div>"
      ],
      "text/plain": [
       "<IPython.core.display.HTML object>"
      ]
     },
     "metadata": {},
     "output_type": "display_data"
    }
   ],
   "source": [
    "top_videos_filter = anvil.show_difference_and_get_top_videos(50, [\"Views\", \"Average watch time (minutes)\", \"Average watch %\"], \"Video\", [\"views\", \"averageViewDuration\", \"averageViewPercentage\"], \"video\", max_results=100, sort_results=\"-views\", index_key_formatter=anvil.format_video_key, pre_render_processor=anvil.format_video_stats_table, **default_params_yt)"
   ]
  },
  {
   "cell_type": "markdown",
   "id": "6f3f4466",
   "metadata": {},
   "source": [
    "<div style=\"page-break-after: always\"></div>"
   ]
  },
  {
   "cell_type": "markdown",
   "id": "41262267",
   "metadata": {},
   "source": [
    "### Video Views (From AnVIL Website)"
   ]
  },
  {
   "cell_type": "code",
   "execution_count": 11,
   "id": "ca1d339a",
   "metadata": {
    "scrolled": false,
    "tags": [
     "remove-input"
    ]
   },
   "outputs": [
    {
     "data": {
      "text/html": [
       "<div class=\"analyticsTable\" style=\"grid-template-columns: 1fr var(--symbol-width) minmax(var(--value-width), min-content) minmax(var(--percentage-width), min-content)\"><div class=\"anaIndex anaColName\">Video</div><div class=\"anaColName\" style=\"grid-column: span 3\">Count</div><div class=\"anaIndex anaEven\">2022 NCPI Spring Virtual Meeting Day 1</div><div class=\"anaCell anaEven anaSubcolLeft\"><div class=\"new\"></div></div><div class=\"anaCell anaEven\">5</div><div class=\"anaCell anaEven anaSubcolRight\"></div><div class=\"anaIndex anaOdd\">Galaxy On AnVIL Walkthrough</div><div class=\"anaCell anaOdd anaSubcolLeft\"><div class=\"new\"></div></div><div class=\"anaCell anaOdd\">5</div><div class=\"anaCell anaOdd anaSubcolRight\"></div><div class=\"anaIndex anaEven\">2022 NCPI Spring Virtual Meeting Day 2</div><div class=\"anaCell anaEven anaSubcolLeft\"><div class=\"new\"></div></div><div class=\"anaCell anaEven\">3</div><div class=\"anaCell anaEven anaSubcolRight\"></div><div class=\"anaIndex anaOdd\">AnVIL on Dockstore</div><div class=\"anaCell anaOdd anaSubcolLeft\"><div class=\"new\"></div></div><div class=\"anaCell anaOdd\">3</div><div class=\"anaCell anaOdd anaSubcolRight\"></div><div class=\"anaIndex anaEven\">Dockstore: An Introduction</div><div class=\"anaCell anaEven anaSubcolLeft\"><div class=\"new\"></div></div><div class=\"anaCell anaEven\">3</div><div class=\"anaCell anaEven anaSubcolRight\"></div><div class=\"anaIndex anaOdd\">Sharing on AnVIL</div><div class=\"anaCell anaOdd anaSubcolLeft\"><div class=\"down\"></div></div><div class=\"anaCell anaOdd\">3</div><div class=\"anaCell anaOdd anaSubcolRight\"><div class=\"anaPositive\">(+50.00%)</div></div><div class=\"anaIndex anaEven\">Use case: GATK</div><div class=\"anaCell anaEven anaSubcolLeft\"><div class=\"new\"></div></div><div class=\"anaCell anaEven\">3</div><div class=\"anaCell anaEven anaSubcolRight\"></div><div class=\"anaIndex anaOdd\">What is AnVIL?</div><div class=\"anaCell anaOdd anaSubcolLeft\"><div class=\"new\"></div></div><div class=\"anaCell anaOdd\">3</div><div class=\"anaCell anaOdd anaSubcolRight\"></div><div class=\"anaIndex anaEven\">Using Workspaces in Terra</div><div class=\"anaCell anaEven anaSubcolLeft\"><div class=\"new\"></div></div><div class=\"anaCell anaEven\">2</div><div class=\"anaCell anaEven anaSubcolRight\"></div><div class=\"anaIndex anaOdd\">Week 4: Single-cell RNASeq with &#x27;Orchestrating Single Cell Analysis&#x27; in R / Bioconductor</div><div class=\"anaCell anaOdd anaSubcolLeft\"><div class=\"new\"></div></div><div class=\"anaCell anaOdd\">2</div><div class=\"anaCell anaOdd anaSubcolRight\"></div><div class=\"anaIndex anaEven\">Use case: eQTL</div><div class=\"anaCell anaEven anaSubcolLeft\"><div class=\"new\"></div></div><div class=\"anaCell anaEven\">2</div><div class=\"anaCell anaEven anaSubcolRight\"></div><div class=\"anaIndex anaOdd\">Reproducible Analysis in the Cloud with Dockstore and Terra</div><div class=\"anaCell anaOdd anaSubcolLeft\"><div class=\"new\"></div></div><div class=\"anaCell anaOdd\">2</div><div class=\"anaCell anaOdd anaSubcolRight\"></div><div class=\"anaIndex anaEven\">AnVIL for Analysts</div><div class=\"anaCell anaEven anaSubcolLeft\"><div class=\"new\"></div></div><div class=\"anaCell anaEven\">2</div><div class=\"anaCell anaEven anaSubcolRight\"></div><div class=\"anaIndex anaOdd\">NCI Cancer Research Data Commons – Harmonizing Research &amp; Data Science for Better Clinical Outcomes</div><div class=\"anaCell anaOdd anaSubcolLeft\"><div class=\"new\"></div></div><div class=\"anaCell anaOdd\">1</div><div class=\"anaCell anaOdd anaSubcolRight\"></div><div class=\"anaIndex anaEven\">Week 1: Using R / Bioconductor in AnVIL</div><div class=\"anaCell anaEven anaSubcolLeft\"><div class=\"new\"></div></div><div class=\"anaCell anaEven\">1</div><div class=\"anaCell anaEven anaSubcolRight\"></div><div class=\"anaIndex anaOdd\">Terra Quicktips: Making Data Tables Using a Template</div><div class=\"anaCell anaOdd anaSubcolLeft\"><div class=\"new\"></div></div><div class=\"anaCell anaOdd\">1</div><div class=\"anaCell anaOdd anaSubcolRight\"></div><div class=\"anaIndex anaEven\">TT02- I - Intro to Terra Overview - Tiffany Miller - Tutorials - ISMB 2020</div><div class=\"anaCell anaEven anaSubcolLeft\"><div class=\"new\"></div></div><div class=\"anaCell anaEven\">1</div><div class=\"anaCell anaEven anaSubcolRight\"></div><div class=\"anaIndex anaOdd\">Standardization on AnVIL</div><div class=\"anaCell anaOdd anaSubcolLeft\"><div class=\"new\"></div></div><div class=\"anaCell anaOdd\">1</div><div class=\"anaCell anaOdd anaSubcolRight\"></div><div class=\"anaIndex anaEven\">Sharing on AnVIL for Instructors</div><div class=\"anaCell anaEven anaSubcolLeft\"><div class=\"new\"></div></div><div class=\"anaCell anaEven\">1</div><div class=\"anaCell anaEven anaSubcolRight\"></div><div class=\"anaIndex anaOdd\">Scalability on AnVIL</div><div class=\"anaCell anaOdd anaSubcolLeft\"><div class=\"new\"></div></div><div class=\"anaCell anaOdd\">1</div><div class=\"anaCell anaOdd anaSubcolRight\"></div><div class=\"anaIndex anaEven\">AnVIL Demos: WARP Pipelines in AnVIL/Terra - 2023/05/18</div><div class=\"anaCell anaEven anaSubcolLeft\"><div class=\"new\"></div></div><div class=\"anaCell anaEven\">1</div><div class=\"anaCell anaEven anaSubcolRight\"></div><div class=\"anaIndex anaOdd\">Introduction To Terra</div><div class=\"anaCell anaOdd anaSubcolLeft\"><div class=\"new\"></div></div><div class=\"anaCell anaOdd\">1</div><div class=\"anaCell anaOdd anaSubcolRight\"></div><div class=\"anaIndex anaEven\">Gen3 Data Commons - Brief Introduction</div><div class=\"anaCell anaEven anaSubcolLeft\"><div class=\"new\"></div></div><div class=\"anaCell anaEven\">1</div><div class=\"anaCell anaEven anaSubcolRight\"></div><div class=\"anaIndex anaOdd\">Cloud Computing</div><div class=\"anaCell anaOdd anaSubcolLeft\"><div class=\"new\"></div></div><div class=\"anaCell anaOdd\">1</div><div class=\"anaCell anaOdd anaSubcolRight\"></div><div class=\"anaIndex anaEven\">CGC Webinar Series - June 2021</div><div class=\"anaCell anaEven anaSubcolLeft\"><div class=\"new\"></div></div><div class=\"anaCell anaEven\">1</div><div class=\"anaCell anaEven anaSubcolRight\"></div><div class=\"anaIndex anaOdd\">AnVIL for Lead Investigators</div><div class=\"anaCell anaOdd anaSubcolLeft\"><div class=\"new\"></div></div><div class=\"anaCell anaOdd\">1</div><div class=\"anaCell anaOdd anaSubcolRight\"></div><div class=\"anaIndex anaEven\">AnVIL for Data Submitters</div><div class=\"anaCell anaEven anaSubcolLeft\"><div class=\"new\"></div></div><div class=\"anaCell anaEven\">1</div><div class=\"anaCell anaEven anaSubcolRight\"></div><div class=\"anaIndex anaOdd\">AnVIL Demos: Introduction to AnVIL - 2023/03/23</div><div class=\"anaCell anaOdd anaSubcolLeft\"><div class=\"new\"></div></div><div class=\"anaCell anaOdd\">1</div><div class=\"anaCell anaOdd anaSubcolRight\"></div><div class=\"anaIndex anaEven\">Week 3: Running a Workflow</div><div class=\"anaCell anaEven anaSubcolLeft\"><div class=\"new\"></div></div><div class=\"anaCell anaEven\">1</div><div class=\"anaCell anaEven anaSubcolRight\"></div></div>"
      ],
      "text/plain": [
       "<IPython.core.display.HTML object>"
      ]
     },
     "metadata": {},
     "output_type": "display_data"
    }
   ],
   "source": [
    "ac.show_difference_table(\"Count\", \"Video\", \"eventCount\", \"videoTitle\", dimension_filter=\"eventName==video_start\", df_processor=anvil.save_site_video_views, **default_params_portal)"
   ]
  },
  {
   "cell_type": "markdown",
   "id": "0a33a491",
   "metadata": {},
   "source": [
    "### Video Views by Category"
   ]
  },
  {
   "cell_type": "code",
   "execution_count": 65,
   "id": "2d62f58a",
   "metadata": {
    "tags": [
     "remove-input"
    ]
   },
   "outputs": [
    {
     "data": {
      "text/html": [
       "<div class=\"analyticsTable\" style=\"grid-template-columns: 1fr var(--symbol-width) minmax(var(--value-width), min-content) minmax(var(--percentage-width), min-content)\"><div class=\"anaIndex anaEven\">Total views</div><div class=\"anaCell anaEven anaSubcolLeft\"></div><div class=\"anaCell anaEven\">116</div><div class=\"anaCell anaEven anaSubcolRight\"><div class=\"anaNegative\">(-36.26%)</div></div></div>"
      ],
      "text/plain": [
       "<IPython.core.display.HTML object>"
      ]
     },
     "metadata": {},
     "output_type": "display_data"
    }
   ],
   "source": [
    "ac.show_difference_table(\"Total views\", None, \"views\", None, **default_params_yt)"
   ]
  },
  {
   "cell_type": "code",
   "execution_count": 62,
   "id": "591ee320",
   "metadata": {
    "tags": [
     "remove-input"
    ]
   },
   "outputs": [
    {
     "data": {
      "text/html": [
       "<div class=\"analyticsTable\" style=\"grid-template-columns: 1fr var(--symbol-width) minmax(var(--value-width), min-content) minmax(var(--percentage-width), min-content)\"><div class=\"anaIndex anaEven\">Views from YouTube</div><div class=\"anaCell anaEven anaSubcolLeft\"></div><div class=\"anaCell anaEven\">60</div><div class=\"anaCell anaEven anaSubcolRight\"><div class=\"anaPositive\">(+11.11%)</div></div></div>"
      ],
      "text/plain": [
       "<IPython.core.display.HTML object>"
      ]
     },
     "metadata": {},
     "output_type": "display_data"
    }
   ],
   "source": [
    "ac.show_difference_table(\"\", \"\", \"views\", \"insightTrafficSourceType\", max_results=100, sort_results=\"-views\", filters=top_videos_filter, df_processor=anvil.collapse_yt_sources, **default_params_yt)"
   ]
  },
  {
   "cell_type": "code",
   "execution_count": 63,
   "id": "7586e162",
   "metadata": {
    "tags": [
     "remove-input"
    ]
   },
   "outputs": [
    {
     "data": {
      "text/html": [
       "<div class=\"analyticsTable\" style=\"grid-template-columns: 1fr minmax(var(--value-width), min-content) minmax(var(--percentage-width), min-content)\"><div class=\"anaIndex anaEven\">Views from AnVIL website</div><div class=\"anaCell anaEven anaSubcolLeft\">33</div><div class=\"anaCell anaEven anaSubcolRight\"><div class=\"anaNegative\">(-48.44%)</div></div></div>"
      ],
      "text/plain": [
       "<IPython.core.display.HTML object>"
      ]
     },
     "metadata": {},
     "output_type": "display_data"
    }
   ],
   "source": [
    "anvil.show_value_difference_table(\"Views from AnVIL website\", anvil.site_video_views, **default_params_yt)"
   ]
  },
  {
   "cell_type": "code",
   "execution_count": 64,
   "id": "3ef691c0",
   "metadata": {
    "tags": [
     "remove-input"
    ]
   },
   "outputs": [
    {
     "data": {
      "text/html": [
       "<div class=\"analyticsTable\" style=\"grid-template-columns: 1fr var(--symbol-width) minmax(var(--value-width), min-content) minmax(var(--percentage-width), min-content)\"><div class=\"anaIndex anaEven\">Views from other/unknown sources</div><div class=\"anaCell anaEven anaSubcolLeft\"></div><div class=\"anaCell anaEven\">23</div><div class=\"anaCell anaEven anaSubcolRight\"><div class=\"anaNegative\">(-64.06%)</div></div></div>"
      ],
      "text/plain": [
       "<IPython.core.display.HTML object>"
      ]
     },
     "metadata": {},
     "output_type": "display_data"
    }
   ],
   "source": [
    "ac.show_difference_table(\"Views from other/unknown sources\", None, \"views\", None, df_processor=anvil.make_subtraction_processor([a + b for a, b in zip(anvil.site_video_views, anvil.yt_video_views)]), **default_params_yt)"
   ]
  },
  {
   "attachments": {},
   "cell_type": "markdown",
   "id": "f5967224",
   "metadata": {
    "tags": [
     "remove-cell"
    ]
   },
   "source": [
    "## Data Dashboard\n",
    "### Top Facet Terms"
   ]
  },
  {
   "cell_type": "code",
   "execution_count": 30,
   "id": "c822280d",
   "metadata": {
    "tags": [
     "remove-cell"
    ]
   },
   "outputs": [],
   "source": [
    "# ac.show_difference_table(\"Count\", [\"Term Name\", \"Facet\"], \"ga:hits\", [\"ga:eventLabel\", \"ga:dimension5\"], filters=\"ga:eventCategory==Search;ga:eventAction==Select\", **default_params)\n",
    "# TODO"
   ]
  },
  {
   "cell_type": "markdown",
   "id": "cce1253e",
   "metadata": {
    "tags": [
     "remove-cell"
    ]
   },
   "source": [
    "### Top Text Searches"
   ]
  },
  {
   "cell_type": "code",
   "execution_count": 31,
   "id": "a6d6523d",
   "metadata": {
    "tags": [
     "remove-input",
     "remove-cell"
    ]
   },
   "outputs": [],
   "source": [
    "# ac.show_difference_table(\"Count\", \"Text Input\", \"ga:hits\", \"ga:eventLabel\", filters=\"ga:eventCategory==Search;ga:eventAction==Enter Text;ga:eventLabel=~.{3\\\\,}\", **default_params)\n",
    "# TODO"
   ]
  },
  {
   "cell_type": "markdown",
   "id": "50658332",
   "metadata": {
    "tags": [
     "remove-cell"
    ]
   },
   "source": [
    "## Site Search\n",
    "### Top Text Searches"
   ]
  },
  {
   "cell_type": "code",
   "execution_count": 32,
   "id": "08375d58",
   "metadata": {
    "tags": [
     "remove-input",
     "remove-cell"
    ]
   },
   "outputs": [],
   "source": [
    "# ac.show_difference_table(\"Count\", \"Text Input\", \"ga:hits\", \"ga:eventLabel\", filters=\"ga:eventCategory==Site Search;ga:eventAction==Search;ga:eventLabel=~.{3\\\\,}\", **default_params)\n",
    "# TODO"
   ]
  },
  {
   "cell_type": "markdown",
   "id": "3a767848",
   "metadata": {
    "tags": [
     "remove-cell"
    ]
   },
   "source": [
    "### Top Search Click Throughs"
   ]
  },
  {
   "cell_type": "code",
   "execution_count": 33,
   "id": "dc60bbdd",
   "metadata": {
    "tags": [
     "remove-input",
     "remove-cell"
    ]
   },
   "outputs": [],
   "source": [
    "# ac.show_difference_table(\"Count\", \"Clicked Search Result\", \"ga:hits\", \"ga:eventLabel\", filters=\"ga:eventCategory==Site Search;ga:eventAction==Select Search Result\", **default_params)\n",
    "# TODO"
   ]
  }
 ],
 "metadata": {
  "celltoolbar": "Tags",
  "kernelspec": {
   "display_name": "venv",
   "language": "python",
   "name": "python3"
  },
  "language_info": {
   "codemirror_mode": {
    "name": "ipython",
    "version": 3
   },
   "file_extension": ".py",
   "mimetype": "text/x-python",
   "name": "python",
   "nbconvert_exporter": "python",
   "pygments_lexer": "ipython3",
   "version": "3.9.7"
  }
 },
 "nbformat": 4,
 "nbformat_minor": 5
}
