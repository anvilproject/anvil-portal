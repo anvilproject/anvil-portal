{
 "cells": [
  {
   "attachments": {},
   "cell_type": "markdown",
   "id": "98bd0cf6",
   "metadata": {
    "tags": []
   },
   "source": [
    "```{image} ncpi-logo.svg\n",
    ":height: 75px\n",
    ":class: analytics-logo\n",
    "```\n",
    "\n",
    "# NCPI Dataset Catalog User Analytics - September vs August 2024\n",
    "\n",
    "This section displays metrics collected from Google Analytics for the NCPI Dataset Catalog at https://anvilproject.org/ncpi/data and compares September 2024 with the previous month (August 2024). The generation of this report is now coded in Jupyter notebooks and can be rerun easily and modified or consolidated as desired.\n",
    "\n",
    "### Key to tables\n",
    "\n",
    "On the tables:\n",
    "\n",
    "* Diffs, e.g. <span style=\"color: green\">(+19.04%)</span> or <span style=\"color: red\">(-12.03%)</span>, compare the later month with the previous month.\n",
    "* \"+\" Indicates the entry is new in the report in the current month.\n",
    "* \"↑\" Indicates the entry has moved up in rank since the last month.\n",
    "* \"↓\" Indicates the entry has moved down in rank since the last month."
   ]
  },
  {
   "cell_type": "code",
   "execution_count": 1,
   "id": "c1204f97",
   "metadata": {
    "tags": [
     "remove-cell"
    ]
   },
   "outputs": [],
   "source": [
    "import warnings\n",
    "warnings.filterwarnings('ignore')"
   ]
  },
  {
   "cell_type": "code",
   "execution_count": 2,
   "id": "c19c88f8",
   "metadata": {
    "scrolled": true,
    "tags": [
     "remove-cell"
    ]
   },
   "outputs": [],
   "source": [
    "# !pip install google_auth_oauthlib \n",
    "# !pip install install google-api-python-client\n",
    "# !pip install pandas \n",
    "# !pip install numpy\n",
    "# !pip install matplotlib\n",
    "# !pip install google-cloud-bigquery\n",
    "# !pip install db-dtypes\n",
    "\n",
    "# Analytics package:\n",
    "# !pip install -e \"git+https://github.com/DataBiosphere/data-browser.git@5042e623bfe6ad8404be5f60e1ddb3c0e8e7d6b3#egg=analytics&subdirectory=analytics/hdgar-book/analytics_package\""
   ]
  },
  {
   "cell_type": "code",
   "execution_count": 3,
   "id": "70fb2997",
   "metadata": {
    "tags": [
     "remove-cell"
    ]
   },
   "outputs": [],
   "source": [
    "from IPython.display import display\n",
    "import pandas as pd\n",
    "import analytics.charts as ac\n",
    "\n",
    "%load_ext autoreload\n",
    "%autoreload 2\n",
    "\n",
    "import analytics_ncpi as ncpi\n",
    "\n",
    "SECRET_NAME = 'ANVIL_ANALYTICS_REPORTING_CLIENT_SECRET_PATH'\n",
    "GA_PROPERTY = \"367350417\" # NCPI Dataset Catalog - GA4\n",
    "ANALYTICS_START = \"2021-01-01\"\n",
    "TODAY = 'today'\n",
    "PERIOD = \"2024-09\"\n",
    "PREV_PERIOD = \"2024-08\"\n",
    "\n",
    "GA3_END = \"2023-04-30\"\n",
    "GA4_START = \"2023-05-01\""
   ]
  },
  {
   "cell_type": "code",
   "execution_count": 4,
   "id": "f2ff4193",
   "metadata": {
    "tags": [
     "remove-cell"
    ]
   },
   "outputs": [
    {
     "name": "stdout",
     "output_type": "stream",
     "text": [
      "Please visit this URL to authorize this application: https://accounts.google.com/o/oauth2/auth?response_type=code&client_id=526897014808-dq9pt3bmnutqqjdvj1f5roflpgcvqmpt.apps.googleusercontent.com&redirect_uri=http%3A%2F%2Flocalhost%3A8082%2F&scope=https%3A%2F%2Fwww.googleapis.com%2Fauth%2Fanalytics.readonly&state=e9q01MAvGAqNqFF2x1tzM7U4Et7o9Z&access_type=offline\n"
     ]
    }
   ],
   "source": [
    "default_params_catalog = {\n",
    "    \"service_system\": ac.authenticate_ga4(SECRET_NAME),\n",
    "    \"property\": GA_PROPERTY,\n",
    "    \"index_key_formatter\": ncpi.adjust_table_index_key,\n",
    "    \"period\": PERIOD,\n",
    "    \"prev_period\": PREV_PERIOD\n",
    "}"
   ]
  },
  {
   "cell_type": "code",
   "execution_count": 5,
   "id": "3e54340a",
   "metadata": {
    "tags": [
     "remove-input"
    ]
   },
   "outputs": [
    {
     "data": {
      "text/html": [
       "\n",
       "\t\t<style>\n",
       "\t\t\t\n",
       "\t\t\t.analyticsTable {\n",
       "\t\t\t\tdisplay: grid;\n",
       "\t\t\t\t--symbol-width: 1.5em;\n",
       "\t\t\t\t--value-width: 2.9em;\n",
       "\t\t\t\t--percentage-width: 6.8em;\n",
       "\t\t\t}\n",
       "\t\t\t\n",
       "\t\t\t/*\n",
       "\t\t\t.anaEven {\n",
       "\t\t\t\tbackground: #f5f5f5;\n",
       "\t\t\t}\n",
       "\t\t\t*/\n",
       "\t\t\t\n",
       "\t\t\t.anaIndex:not(.anaColName) {\n",
       "\t\t\t\twhite-space: pre-wrap;\n",
       "\t\t\t\tline-break: anywhere;\n",
       "\t\t\t\tword-break: break-all;\n",
       "\t\t\t}\n",
       "\t\t\t\n",
       "\t\t\t.anaColName {\n",
       "\t\t\t\tfont-weight: bold;\n",
       "\t\t\t\tborder-bottom: 1px solid black;\n",
       "\t\t\t}\n",
       "\t\t\t\n",
       "\t\t\t.anaIndex, .anaColName, .anaCell {\n",
       "\t\t\t\tpadding: 0.3em;\n",
       "\t\t\t}\n",
       "\t\t\t\n",
       "\t\t\t.anaSubcolLeft, .anaIndex {\n",
       "\t\t\t\tpadding-left: 1em;\n",
       "\t\t\t}\n",
       "\t\t\t\n",
       "\t\t\t.anaSubcolRight {\n",
       "\t\t\t\tpadding-right: 1em;\n",
       "\t\t\t}\n",
       "\t\t\t\n",
       "\t\t\t.anaColName:not(.anaIndex) {\n",
       "\t\t\t\ttext-align: right;\n",
       "\t\t\t}\n",
       "\n",
       "\t\t\t.anaColName.anaMultiCol {\n",
       "\t\t\t\ttext-align: center;\n",
       "\t\t\t}\n",
       "\t\t\t\n",
       "\t\t\t.anaCell:not(.anaIndex) {\n",
       "\t\t\t\ttext-align: right;\n",
       "\t\t\t}\n",
       "\t\t\t\n",
       "\t\t\t.analyticsTable .up::before {\n",
       "\t\t\t\tcontent: \"↑\";\n",
       "\t\t\t\tcolor: gray;\n",
       "\t\t\t}\n",
       "\t\t\t\n",
       "\t\t\t.analyticsTable .down::before {\n",
       "\t\t\t\tcontent: \"↓\";\n",
       "\t\t\t\tcolor: gray;\n",
       "\t\t\t}\n",
       "\t\t\t\n",
       "\t\t\t.analyticsTable .new::before {\n",
       "\t\t\t\tcontent: \"+\";\n",
       "\t\t\t\tcolor: gray;\n",
       "\t\t\t}\n",
       "\t\t\t\n",
       "\t\t\t.anaPositive {\n",
       "\t\t\t\tcolor: green;\n",
       "\t\t\t}\n",
       "\t\t\t\n",
       "\t\t\t.anaNegative {\n",
       "\t\t\t\tcolor: red;\n",
       "\t\t\t}\n",
       "\t\t\t\n",
       "\t\t</style>\n",
       "\t"
      ],
      "text/plain": [
       "<IPython.core.display.HTML object>"
      ]
     },
     "metadata": {},
     "output_type": "display_data"
    }
   ],
   "source": [
    "ac.init_tables()"
   ]
  },
  {
   "cell_type": "code",
   "execution_count": 6,
   "id": "e96ebc44",
   "metadata": {
    "tags": [
     "remove-cell"
    ]
   },
   "outputs": [],
   "source": [
    "# ga3_service_system = ac.authenticate_ga(SECRET_NAME)"
   ]
  },
  {
   "cell_type": "code",
   "execution_count": 7,
   "id": "3fc8c672",
   "metadata": {
    "tags": [
     "remove-cell"
    ]
   },
   "outputs": [],
   "source": [
    "# ga3_users_over_time_params = {\n",
    "#     \"start_date\": ANALYTICS_START,\n",
    "#     \"end_date\": GA3_END,\n",
    "#     \"service_system\": ga3_service_system,\n",
    "#     \"property\": \"207946923\",\n",
    "#     \"segment\": \"gaid::AttTM8T1QayBj8e_6pZgnA\"\n",
    "# }\n",
    "# \n",
    "# ncpi.save_ga3_users_over_time_data({}, {\"filters\": \"ga:pagePath=~^/ncpi/data(?:$|[/?#])\"}, **ga3_users_over_time_params)"
   ]
  },
  {
   "cell_type": "markdown",
   "id": "1919eb1b",
   "metadata": {},
   "source": [
    "## Monthly Users and Page Views (All Time)"
   ]
  },
  {
   "cell_type": "code",
   "execution_count": 8,
   "id": "e55c82e7",
   "metadata": {
    "scrolled": false,
    "tags": [
     "remove-input"
    ]
   },
   "outputs": [
    {
     "data": {
      "image/png": "[encoded data removed]",
      "text/plain": [
       "<Figure size 1600x900 with 1 Axes>"
      ]
     },
     "metadata": {},
     "output_type": "display_data"
    }
   ],
   "source": [
    "users_over_time_table = ncpi.plot_users_over_time(start_date=GA4_START, end_date=TODAY, split_vertical=[38], **default_params_catalog)"
   ]
  },
  {
   "cell_type": "code",
   "execution_count": 9,
   "id": "b9203423",
   "metadata": {
    "tags": [
     "remove-input"
    ]
   },
   "outputs": [
    {
     "data": {
      "text/html": [
       "<div class=\"analyticsTable\" style=\"grid-template-columns: repeat(1, auto) 1fr minmax(var(--value-width), min-content) minmax(var(--percentage-width), min-content) minmax(var(--value-width), min-content) minmax(var(--percentage-width), min-content)\"><div class=\"anaIndex anaColName\">Year</div><div class=\"anaIndex anaColName\">Month</div><div class=\"anaColName anaMultiCol\" style=\"grid-column: span 2\">Users</div><div class=\"anaColName anaMultiCol\" style=\"grid-column: span 2\">Total Pageviews</div><div class=\"anaIndex anaEven\" style=\"grid-row: span 9\">2023</div><div class=\"anaIndex anaEven\" style=\"grid-row: span 1\">September</div><div class=\"anaCell anaEven anaSubcolLeft\">49</div><div class=\"anaCell anaEven anaSubcolRight\"><div class=\"anaPositive\">(+4.26%)</div></div><div class=\"anaCell anaEven anaSubcolLeft\">143</div><div class=\"anaCell anaEven anaSubcolRight\"><div class=\"anaNegative\">(-28.50%)</div></div><div class=\"anaIndex anaOdd\" style=\"grid-row: span 1\">August</div><div class=\"anaCell anaOdd anaSubcolLeft\">47</div><div class=\"anaCell anaOdd anaSubcolRight\"><div class=\"anaNegative\">(-2.08%)</div></div><div class=\"anaCell anaOdd anaSubcolLeft\">200</div><div class=\"anaCell anaOdd anaSubcolRight\"><div class=\"anaPositive\">(+30.72%)</div></div><div class=\"anaIndex anaEven\" style=\"grid-row: span 1\">July</div><div class=\"anaCell anaEven anaSubcolLeft\">48</div><div class=\"anaCell anaEven anaSubcolRight\"><div class=\"anaNegative\">(-40.74%)</div></div><div class=\"anaCell anaEven anaSubcolLeft\">153</div><div class=\"anaCell anaEven anaSubcolRight\"><div class=\"anaNegative\">(-18.62%)</div></div><div class=\"anaIndex anaOdd\" style=\"grid-row: span 1\">June</div><div class=\"anaCell anaOdd anaSubcolLeft\">81</div><div class=\"anaCell anaOdd anaSubcolRight\"><div class=\"anaNegative\">(-13.83%)</div></div><div class=\"anaCell anaOdd anaSubcolLeft\">188</div><div class=\"anaCell anaOdd anaSubcolRight\"><div class=\"anaPositive\">(+0.53%)</div></div><div class=\"anaIndex anaEven\" style=\"grid-row: span 1\">May</div><div class=\"anaCell anaEven anaSubcolLeft\">94</div><div class=\"anaCell anaEven anaSubcolRight\"><div class=\"anaPositive\">(+10.59%)</div></div><div class=\"anaCell anaEven anaSubcolLeft\">187</div><div class=\"anaCell anaEven anaSubcolRight\"><div class=\"anaNegative\">(-68.41%)</div></div><div class=\"anaIndex anaOdd\" style=\"grid-row: span 1\">April</div><div class=\"anaCell anaOdd anaSubcolLeft\">85</div><div class=\"anaCell anaOdd anaSubcolRight\"><div class=\"anaNegative\">(-18.27%)</div></div><div class=\"anaCell anaOdd anaSubcolLeft\">592</div><div class=\"anaCell anaOdd anaSubcolRight\"><div class=\"anaPositive\">(+53.77%)</div></div><div class=\"anaIndex anaEven\" style=\"grid-row: span 1\">March</div><div class=\"anaCell anaEven anaSubcolLeft\">104</div><div class=\"anaCell anaEven anaSubcolRight\"><div class=\"anaPositive\">(+79.31%)</div></div><div class=\"anaCell anaEven anaSubcolLeft\">385</div><div class=\"anaCell anaEven anaSubcolRight\"><div class=\"anaPositive\">(+58.44%)</div></div><div class=\"anaIndex anaOdd\" style=\"grid-row: span 1\">February</div><div class=\"anaCell anaOdd anaSubcolLeft\">58</div><div class=\"anaCell anaOdd anaSubcolRight\"><div class=\"anaPositive\">(+28.89%)</div></div><div class=\"anaCell anaOdd anaSubcolLeft\">243</div><div class=\"anaCell anaOdd anaSubcolRight\"><div class=\"anaPositive\">(+42.11%)</div></div><div class=\"anaIndex anaEven\" style=\"grid-row: span 1\">January</div><div class=\"anaCell anaEven anaSubcolLeft\">45</div><div class=\"anaCell anaEven anaSubcolRight\"><div class=\"anaNegative\">(-8.16%)</div></div><div class=\"anaCell anaEven anaSubcolLeft\">171</div><div class=\"anaCell anaEven anaSubcolRight\"><div class=\"anaNegative\">(-45.19%)</div></div><div class=\"anaIndex anaOdd\" style=\"grid-row: span 12\">2022</div><div class=\"anaIndex anaOdd\" style=\"grid-row: span 1\">December</div><div class=\"anaCell anaOdd anaSubcolLeft\">49</div><div class=\"anaCell anaOdd anaSubcolRight\"><div class=\"anaZero\">(+0.00%)</div></div><div class=\"anaCell anaOdd anaSubcolLeft\">312</div><div class=\"anaCell anaOdd anaSubcolRight\"><div class=\"anaNegative\">(-20.20%)</div></div><div class=\"anaIndex anaEven\" style=\"grid-row: span 1\">November</div><div class=\"anaCell anaEven anaSubcolLeft\">49</div><div class=\"anaCell anaEven anaSubcolRight\"><div class=\"anaZero\">(+0.00%)</div></div><div class=\"anaCell anaEven anaSubcolLeft\">391</div><div class=\"anaCell anaEven anaSubcolRight\"><div class=\"anaPositive\">(+40.14%)</div></div><div class=\"anaIndex anaOdd\" style=\"grid-row: span 1\">October</div><div class=\"anaCell anaOdd anaSubcolLeft\">49</div><div class=\"anaCell anaOdd anaSubcolRight\"><div class=\"anaNegative\">(-28.99%)</div></div><div class=\"anaCell anaOdd anaSubcolLeft\">279</div><div class=\"anaCell anaOdd anaSubcolRight\"><div class=\"anaNegative\">(-5.42%)</div></div><div class=\"anaIndex anaEven\" style=\"grid-row: span 1\">September</div><div class=\"anaCell anaEven anaSubcolLeft\">69</div><div class=\"anaCell anaEven anaSubcolRight\"><div class=\"anaNegative\">(-17.86%)</div></div><div class=\"anaCell anaEven anaSubcolLeft\">295</div><div class=\"anaCell anaEven anaSubcolRight\"><div class=\"anaNegative\">(-33.41%)</div></div><div class=\"anaIndex anaOdd\" style=\"grid-row: span 1\">August</div><div class=\"anaCell anaOdd anaSubcolLeft\">84</div><div class=\"anaCell anaOdd anaSubcolRight\"><div class=\"anaPositive\">(+90.91%)</div></div><div class=\"anaCell anaOdd anaSubcolLeft\">443</div><div class=\"anaCell anaOdd anaSubcolRight\"><div class=\"anaPositive\">(+197.32%)</div></div><div class=\"anaIndex anaEven\" style=\"grid-row: span 1\">July</div><div class=\"anaCell anaEven anaSubcolLeft\">44</div><div class=\"anaCell anaEven anaSubcolRight\"><div class=\"anaNegative\">(-10.20%)</div></div><div class=\"anaCell anaEven anaSubcolLeft\">149</div><div class=\"anaCell anaEven anaSubcolRight\"><div class=\"anaNegative\">(-42.47%)</div></div><div class=\"anaIndex anaOdd\" style=\"grid-row: span 1\">June</div><div class=\"anaCell anaOdd anaSubcolLeft\">49</div><div class=\"anaCell anaOdd anaSubcolRight\"><div class=\"anaNegative\">(-32.88%)</div></div><div class=\"anaCell anaOdd anaSubcolLeft\">259</div><div class=\"anaCell anaOdd anaSubcolRight\"><div class=\"anaNegative\">(-32.90%)</div></div><div class=\"anaIndex anaEven\" style=\"grid-row: span 1\">May</div><div class=\"anaCell anaEven anaSubcolLeft\">73</div><div class=\"anaCell anaEven anaSubcolRight\"><div class=\"anaPositive\">(+14.06%)</div></div><div class=\"anaCell anaEven anaSubcolLeft\">386</div><div class=\"anaCell anaEven anaSubcolRight\"><div class=\"anaPositive\">(+89.22%)</div></div><div class=\"anaIndex anaOdd\" style=\"grid-row: span 1\">April</div><div class=\"anaCell anaOdd anaSubcolLeft\">64</div><div class=\"anaCell anaOdd anaSubcolRight\"><div class=\"anaNegative\">(-21.95%)</div></div><div class=\"anaCell anaOdd anaSubcolLeft\">204</div><div class=\"anaCell anaOdd anaSubcolRight\"><div class=\"anaNegative\">(-69.60%)</div></div><div class=\"anaIndex anaEven\" style=\"grid-row: span 1\">March</div><div class=\"anaCell anaEven anaSubcolLeft\">82</div><div class=\"anaCell anaEven anaSubcolRight\"><div class=\"anaPositive\">(+7.89%)</div></div><div class=\"anaCell anaEven anaSubcolLeft\">671</div><div class=\"anaCell anaEven anaSubcolRight\"><div class=\"anaPositive\">(+120.72%)</div></div><div class=\"anaIndex anaOdd\" style=\"grid-row: span 1\">February</div><div class=\"anaCell anaOdd anaSubcolLeft\">76</div><div class=\"anaCell anaOdd anaSubcolRight\"><div class=\"anaZero\">(+0.00%)</div></div><div class=\"anaCell anaOdd anaSubcolLeft\">304</div><div class=\"anaCell anaOdd anaSubcolRight\"><div class=\"anaNegative\">(-0.98%)</div></div><div class=\"anaIndex anaEven\" style=\"grid-row: span 1\">January</div><div class=\"anaCell anaEven anaSubcolLeft\">76</div><div class=\"anaCell anaEven anaSubcolRight\"><div class=\"anaPositive\">(+43.40%)</div></div><div class=\"anaCell anaEven anaSubcolLeft\">307</div><div class=\"anaCell anaEven anaSubcolRight\"><div class=\"anaPositive\">(+28.45%)</div></div><div class=\"anaIndex anaOdd\" style=\"grid-row: span 12\">2021</div><div class=\"anaIndex anaOdd\" style=\"grid-row: span 1\">December</div><div class=\"anaCell anaOdd anaSubcolLeft\">53</div><div class=\"anaCell anaOdd anaSubcolRight\"><div class=\"anaPositive\">(+6.00%)</div></div><div class=\"anaCell anaOdd anaSubcolLeft\">239</div><div class=\"anaCell anaOdd anaSubcolRight\"><div class=\"anaNegative\">(-43.63%)</div></div><div class=\"anaIndex anaEven\" style=\"grid-row: span 1\">November</div><div class=\"anaCell anaEven anaSubcolLeft\">50</div><div class=\"anaCell anaEven anaSubcolRight\"><div class=\"anaPositive\">(+8.70%)</div></div><div class=\"anaCell anaEven anaSubcolLeft\">424</div><div class=\"anaCell anaEven anaSubcolRight\"><div class=\"anaPositive\">(+16.80%)</div></div><div class=\"anaIndex anaOdd\" style=\"grid-row: span 1\">October</div><div class=\"anaCell anaOdd anaSubcolLeft\">46</div><div class=\"anaCell anaOdd anaSubcolRight\"><div class=\"anaNegative\">(-4.17%)</div></div><div class=\"anaCell anaOdd anaSubcolLeft\">363</div><div class=\"anaCell anaOdd anaSubcolRight\"><div class=\"anaNegative\">(-14.39%)</div></div><div class=\"anaIndex anaEven\" style=\"grid-row: span 1\">September</div><div class=\"anaCell anaEven anaSubcolLeft\">48</div><div class=\"anaCell anaEven anaSubcolRight\"><div class=\"anaPositive\">(+182.35%)</div></div><div class=\"anaCell anaEven anaSubcolLeft\">424</div><div class=\"anaCell anaEven anaSubcolRight\"><div class=\"anaPositive\">(+97.21%)</div></div><div class=\"anaIndex anaOdd\" style=\"grid-row: span 1\">August</div><div class=\"anaCell anaOdd anaSubcolLeft\">17</div><div class=\"anaCell anaOdd anaSubcolRight\"><div class=\"anaNegative\">(-61.36%)</div></div><div class=\"anaCell anaOdd anaSubcolLeft\">215</div><div class=\"anaCell anaOdd anaSubcolRight\"><div class=\"anaNegative\">(-44.44%)</div></div><div class=\"anaIndex anaEven\" style=\"grid-row: span 1\">July</div><div class=\"anaCell anaEven anaSubcolLeft\">44</div><div class=\"anaCell anaEven anaSubcolRight\"><div class=\"anaPositive\">(+22.22%)</div></div><div class=\"anaCell anaEven anaSubcolLeft\">387</div><div class=\"anaCell anaEven anaSubcolRight\"><div class=\"anaPositive\">(+40.22%)</div></div><div class=\"anaIndex anaOdd\" style=\"grid-row: span 1\">June</div><div class=\"anaCell anaOdd anaSubcolLeft\">36</div><div class=\"anaCell anaOdd anaSubcolRight\"><div class=\"anaPositive\">(+200.00%)</div></div><div class=\"anaCell anaOdd anaSubcolLeft\">276</div><div class=\"anaCell anaOdd anaSubcolRight\"><div class=\"anaPositive\">(+112.31%)</div></div><div class=\"anaIndex anaEven\" style=\"grid-row: span 1\">May</div><div class=\"anaCell anaEven anaSubcolLeft\">12</div><div class=\"anaCell anaEven anaSubcolRight\"></div><div class=\"anaCell anaEven anaSubcolLeft\">130</div><div class=\"anaCell anaEven anaSubcolRight\"></div><div class=\"anaIndex anaOdd\" style=\"grid-row: span 1\">April</div><div class=\"anaCell anaOdd anaSubcolLeft\">0</div><div class=\"anaCell anaOdd anaSubcolRight\"></div><div class=\"anaCell anaOdd anaSubcolLeft\">0</div><div class=\"anaCell anaOdd anaSubcolRight\"></div><div class=\"anaIndex anaEven\" style=\"grid-row: span 1\">March</div><div class=\"anaCell anaEven anaSubcolLeft\">0</div><div class=\"anaCell anaEven anaSubcolRight\"></div><div class=\"anaCell anaEven anaSubcolLeft\">0</div><div class=\"anaCell anaEven anaSubcolRight\"></div><div class=\"anaIndex anaOdd\" style=\"grid-row: span 1\">February</div><div class=\"anaCell anaOdd anaSubcolLeft\">0</div><div class=\"anaCell anaOdd anaSubcolRight\"></div><div class=\"anaCell anaOdd anaSubcolLeft\">0</div><div class=\"anaCell anaOdd anaSubcolRight\"></div><div class=\"anaIndex anaEven\" style=\"grid-row: span 1\">January</div><div class=\"anaCell anaEven anaSubcolLeft\">0</div><div class=\"anaCell anaEven anaSubcolRight\"></div><div class=\"anaCell anaEven anaSubcolLeft\">0</div><div class=\"anaCell anaEven anaSubcolRight\"></div></div>"
      ],
      "text/plain": [
       "<IPython.core.display.HTML object>"
      ]
     },
     "metadata": {},
     "output_type": "display_data"
    }
   ],
   "source": [
    "display(users_over_time_table)"
   ]
  },
  {
   "cell_type": "markdown",
   "id": "5a1acbae",
   "metadata": {},
   "source": [
    "## Users and Sessions\n",
    "Users are distinguished based on a tracking cookie set by Google. Because cookies may not remain present over time or between devices, it's likely that total users are overcounted and returning users are undercounted."
   ]
  },
  {
   "cell_type": "code",
   "execution_count": 10,
   "id": "fe3e5946",
   "metadata": {
    "tags": [
     "remove-input"
    ]
   },
   "outputs": [
    {
     "data": {
      "text/html": [
       "<div class=\"analyticsTable\" style=\"grid-template-columns: 1fr var(--symbol-width) minmax(var(--value-width), min-content) minmax(var(--percentage-width), min-content)\"><div class=\"anaIndex anaEven\">Total Users</div><div class=\"anaCell anaEven anaSubcolLeft\"></div><div class=\"anaCell anaEven\">49</div><div class=\"anaCell anaEven anaSubcolRight\"><div class=\"anaZero\">(+0.00%)</div></div></div>"
      ],
      "text/plain": [
       "<IPython.core.display.HTML object>"
      ]
     },
     "metadata": {},
     "output_type": "display_data"
    }
   ],
   "source": [
    "ac.show_difference_table(\"Total Users\", None, \"totalUsers\", None, **default_params_catalog)"
   ]
  },
  {
   "cell_type": "code",
   "execution_count": 11,
   "id": "630b0d77",
   "metadata": {
    "tags": [
     "remove-input"
    ]
   },
   "outputs": [
    {
     "data": {
      "text/html": [
       "<div class=\"analyticsTable\" style=\"grid-template-columns: 1fr var(--symbol-width) minmax(var(--value-width), min-content) minmax(var(--percentage-width), min-content)\"><div class=\"anaIndex anaEven\">Returning Users</div><div class=\"anaCell anaEven anaSubcolLeft\"></div><div class=\"anaCell anaEven\">13</div><div class=\"anaCell anaEven anaSubcolRight\"><div class=\"anaPositive\">(+18.18%)</div></div></div>"
      ],
      "text/plain": [
       "<IPython.core.display.HTML object>"
      ]
     },
     "metadata": {},
     "output_type": "display_data"
    }
   ],
   "source": [
    "ac.show_difference_table(\"Returning Users\", None, \"totalUsers\", None, dimension_filter=\"newVsReturning==returning\", **default_params_catalog)"
   ]
  },
  {
   "cell_type": "code",
   "execution_count": 12,
   "id": "e903e8d6",
   "metadata": {
    "tags": [
     "remove-input"
    ]
   },
   "outputs": [
    {
     "data": {
      "text/html": [
       "<div class=\"analyticsTable\" style=\"grid-template-columns: 1fr var(--symbol-width) minmax(var(--value-width), min-content) minmax(var(--percentage-width), min-content)\"><div class=\"anaIndex anaEven\">Total Visits</div><div class=\"anaCell anaEven anaSubcolLeft\"></div><div class=\"anaCell anaEven\">83</div><div class=\"anaCell anaEven anaSubcolRight\"><div class=\"anaNegative\">(-9.78%)</div></div></div>"
      ],
      "text/plain": [
       "<IPython.core.display.HTML object>"
      ]
     },
     "metadata": {},
     "output_type": "display_data"
    }
   ],
   "source": [
    "ac.show_difference_table(\"Total Visits\", None, \"sessions\", None, **default_params_catalog)"
   ]
  },
  {
   "cell_type": "markdown",
   "id": "583279a2",
   "metadata": {},
   "source": [
    "## Page Views"
   ]
  },
  {
   "cell_type": "code",
   "execution_count": 13,
   "id": "a9f7deb0",
   "metadata": {
    "tags": [
     "remove-input"
    ]
   },
   "outputs": [
    {
     "data": {
      "text/html": [
       "<div class=\"analyticsTable\" style=\"grid-template-columns: 1fr var(--symbol-width) minmax(var(--value-width), min-content) minmax(var(--percentage-width), min-content)\"><div class=\"anaIndex anaEven\">Total</div><div class=\"anaCell anaEven anaSubcolLeft\"></div><div class=\"anaCell anaEven\">143</div><div class=\"anaCell anaEven anaSubcolRight\"><div class=\"anaNegative\">(-28.50%)</div></div></div>"
      ],
      "text/plain": [
       "<IPython.core.display.HTML object>"
      ]
     },
     "metadata": {},
     "output_type": "display_data"
    }
   ],
   "source": [
    "ac.show_difference_table(\"Total\", None, \"screenPageViews\", None, **default_params_catalog)"
   ]
  },
  {
   "cell_type": "markdown",
   "id": "04157524",
   "metadata": {},
   "source": [
    "## Device Category"
   ]
  },
  {
   "cell_type": "code",
   "execution_count": 14,
   "id": "6cd1e369",
   "metadata": {
    "tags": [
     "remove-input"
    ]
   },
   "outputs": [
    {
     "data": {
      "text/html": [
       "<div class=\"analyticsTable\" style=\"grid-template-columns: 1fr var(--symbol-width) minmax(var(--value-width), min-content) minmax(var(--percentage-width), min-content) minmax(var(--value-width), min-content) minmax(var(--percentage-width), min-content)\"><div class=\"anaIndex anaColName\">Category</div><div class=\"anaColName anaMultiCol\" style=\"grid-column: span 3\">Users</div><div class=\"anaColName anaMultiCol\" style=\"grid-column: span 2\">Percentage of users</div><div class=\"anaIndex anaEven\">desktop</div><div class=\"anaCell anaEven anaSubcolLeft\"></div><div class=\"anaCell anaEven\">44</div><div class=\"anaCell anaEven anaSubcolRight\"><div class=\"anaNegative\">(-4.35%)</div></div><div class=\"anaCell anaEven anaSubcolLeft\">89.80</div><div class=\"anaCell anaEven anaSubcolRight\"><div class=\"anaNegative\">(-4.35%)</div></div><div class=\"anaIndex anaOdd\">mobile</div><div class=\"anaCell anaOdd anaSubcolLeft\"></div><div class=\"anaCell anaOdd\">5</div><div class=\"anaCell anaOdd anaSubcolRight\"><div class=\"anaPositive\">(+66.67%)</div></div><div class=\"anaCell anaOdd anaSubcolLeft\">10.20</div><div class=\"anaCell anaOdd anaSubcolRight\"><div class=\"anaPositive\">(+66.67%)</div></div></div>"
      ],
      "text/plain": [
       "<IPython.core.display.HTML object>"
      ]
     },
     "metadata": {},
     "output_type": "display_data"
    }
   ],
   "source": [
    "ac.show_difference_table([\"Users\", \"Percentage of users\"], \"Category\", \"totalUsers\", \"deviceCategory\", percentage_metrics={\"totalUsers\"}, **default_params_catalog)"
   ]
  },
  {
   "cell_type": "markdown",
   "id": "b7ca4fae",
   "metadata": {},
   "source": [
    "## Top Countries"
   ]
  },
  {
   "cell_type": "code",
   "execution_count": null,
   "id": "ee876457",
   "metadata": {
    "tags": [
     "remove-input"
    ]
   },
   "outputs": [
    {
     "data": {
      "text/html": [
       "<div class=\"analyticsTable\" style=\"grid-template-columns: 1fr var(--symbol-width) minmax(var(--value-width), min-content) minmax(var(--percentage-width), min-content)\"><div class=\"anaIndex anaColName\">Country</div><div class=\"anaColName anaMultiCol\" style=\"grid-column: span 3\">Users</div><div class=\"anaIndex anaEven\">United States</div><div class=\"anaCell anaEven anaSubcolLeft\"></div><div class=\"anaCell anaEven\">37</div><div class=\"anaCell anaEven anaSubcolRight\"><div class=\"anaPositive\">(+12.12%)</div></div><div class=\"anaIndex anaOdd\">India</div><div class=\"anaCell anaOdd anaSubcolLeft\"><div class=\"up\"></div></div><div class=\"anaCell anaOdd\">4</div><div class=\"anaCell anaOdd anaSubcolRight\"><div class=\"anaPositive\">(+100.00%)</div></div><div class=\"anaIndex anaEven\">Australia</div><div class=\"anaCell anaEven anaSubcolLeft\"><div class=\"up\"></div></div><div class=\"anaCell anaEven\">1</div><div class=\"anaCell anaEven anaSubcolRight\"><div class=\"anaZero\">(+0.00%)</div></div><div class=\"anaIndex anaOdd\">Brazil</div><div class=\"anaCell anaOdd anaSubcolLeft\"><div class=\"new\"></div></div><div class=\"anaCell anaOdd\">1</div><div class=\"anaCell anaOdd anaSubcolRight\"></div><div class=\"anaIndex anaEven\">Canada</div><div class=\"anaCell anaEven anaSubcolLeft\"><div class=\"new\"></div></div><div class=\"anaCell anaEven\">1</div><div class=\"anaCell anaEven anaSubcolRight\"></div><div class=\"anaIndex anaOdd\">China</div><div class=\"anaCell anaOdd anaSubcolLeft\"><div class=\"up\"></div></div><div class=\"anaCell anaOdd\">1</div><div class=\"anaCell anaOdd anaSubcolRight\"><div class=\"anaZero\">(+0.00%)</div></div><div class=\"anaIndex anaEven\">Greece</div><div class=\"anaCell anaEven anaSubcolLeft\"><div class=\"new\"></div></div><div class=\"anaCell anaEven\">1</div><div class=\"anaCell anaEven anaSubcolRight\"></div><div class=\"anaIndex anaOdd\">Slovakia</div><div class=\"anaCell anaOdd anaSubcolLeft\"><div class=\"new\"></div></div><div class=\"anaCell anaOdd\">1</div><div class=\"anaCell anaOdd anaSubcolRight\"></div><div class=\"anaIndex anaEven\">Ukraine</div><div class=\"anaCell anaEven anaSubcolLeft\"><div class=\"new\"></div></div><div class=\"anaCell anaEven\">1</div><div class=\"anaCell anaEven anaSubcolRight\"></div><div class=\"anaIndex anaOdd\">United Kingdom</div><div class=\"anaCell anaOdd anaSubcolLeft\"><div class=\"down\"></div></div><div class=\"anaCell anaOdd\">1</div><div class=\"anaCell anaOdd anaSubcolRight\"><div class=\"anaNegative\">(-50.00%)</div></div></div>"
      ],
      "text/plain": [
       "<IPython.core.display.HTML object>"
      ]
     },
     "metadata": {},
     "output_type": "display_data"
    }
   ],
   "source": [
    "ac.show_difference_table(\"Users\", \"Country\", \"totalUsers\", \"country\", **default_params_catalog)"
   ]
  },
  {
   "cell_type": "markdown",
   "id": "f36a95a1",
   "metadata": {},
   "source": [
    "<div style=\"page-break-after: always\"></div>"
   ]
  },
  {
   "cell_type": "markdown",
   "id": "8ac25381",
   "metadata": {},
   "source": [
    "## Social Network Referrers"
   ]
  },
  {
   "cell_type": "code",
   "execution_count": null,
   "id": "da0b0932",
   "metadata": {
    "tags": [
     "remove-input"
    ]
   },
   "outputs": [
    {
     "data": {
      "text/html": [
       "<div class=\"analyticsTable\" style=\"grid-template-columns: 1fr var(--symbol-width) minmax(var(--value-width), min-content) minmax(var(--percentage-width), min-content)\"><div class=\"anaIndex anaColName\">Social Network</div><div class=\"anaColName anaMultiCol\" style=\"grid-column: span 3\">User Sessions</div></div>"
      ],
      "text/plain": [
       "<IPython.core.display.HTML object>"
      ]
     },
     "metadata": {},
     "output_type": "display_data"
    }
   ],
   "source": [
    "ac.show_difference_table(\"User Sessions\", \"Social Network\", \"sessions\", \"sessionSource\", dimension_filter=\"sessionDefaultChannelGroup=@Organic Social\", **default_params_catalog)"
   ]
  },
  {
   "cell_type": "markdown",
   "id": "3c2f7065",
   "metadata": {},
   "source": [
    "## Top Referrers"
   ]
  },
  {
   "cell_type": "code",
   "execution_count": 16,
   "id": "532593fc",
   "metadata": {
    "tags": [
     "remove-input"
    ]
   },
   "outputs": [
    {
     "data": {
      "text/html": [
       "<div class=\"analyticsTable\" style=\"grid-template-columns: 1fr var(--symbol-width) minmax(var(--value-width), min-content) minmax(var(--percentage-width), min-content)\"><div class=\"anaIndex anaColName\">Source Host</div><div class=\"anaColName anaMultiCol\" style=\"grid-column: span 3\">User Sessions</div><div class=\"anaIndex anaEven\">(direct)</div><div class=\"anaCell anaEven anaSubcolLeft\"></div><div class=\"anaCell anaEven\">48</div><div class=\"anaCell anaEven anaSubcolRight\"><div class=\"anaPositive\">(+17.07%)</div></div><div class=\"anaIndex anaOdd\">google</div><div class=\"anaCell anaOdd anaSubcolLeft\"></div><div class=\"anaCell anaOdd\">34</div><div class=\"anaCell anaOdd anaSubcolRight\"><div class=\"anaNegative\">(-10.53%)</div></div><div class=\"anaIndex anaEven\">bing</div><div class=\"anaCell anaEven anaSubcolLeft\"></div><div class=\"anaCell anaEven\">1</div><div class=\"anaCell anaEven anaSubcolRight\"><div class=\"anaNegative\">(-85.71%)</div></div></div>"
      ],
      "text/plain": [
       "<IPython.core.display.HTML object>"
      ]
     },
     "metadata": {},
     "output_type": "display_data"
    }
   ],
   "source": [
    "ac.show_difference_table(\"User Sessions\", \"Source Host\", \"sessions\", \"sessionSource\", **default_params_catalog)"
   ]
  },
  {
   "cell_type": "markdown",
   "id": "bdc9b340",
   "metadata": {},
   "source": [
    "## Top Pages"
   ]
  },
  {
   "cell_type": "code",
   "execution_count": 19,
   "id": "cde3f2a3",
   "metadata": {
    "tags": [
     "remove-input"
    ]
   },
   "outputs": [
    {
     "data": {
      "text/html": [
       "<div class=\"analyticsTable\" style=\"grid-template-columns: 1fr var(--symbol-width) minmax(var(--value-width), min-content) minmax(var(--percentage-width), min-content)\"><div class=\"anaIndex anaColName\">Page</div><div class=\"anaColName anaMultiCol\" style=\"grid-column: span 3\">Page Views</div><div class=\"anaIndex anaEven\"><a href=\"https://anvilproject.org/ncpi/data/studies\">/ncpi/data/studies</a></div><div class=\"anaCell anaEven anaSubcolLeft\"></div><div class=\"anaCell anaEven\">53</div><div class=\"anaCell anaEven anaSubcolRight\"><div class=\"anaNegative\">(-45.36%)</div></div><div class=\"anaIndex anaOdd\"><a href=\"https://anvilproject.org/ncpi/data\">/ncpi/data</a></div><div class=\"anaCell anaOdd anaSubcolLeft\"></div><div class=\"anaCell anaOdd\">20</div><div class=\"anaCell anaOdd anaSubcolRight\"><div class=\"anaNegative\">(-28.57%)</div></div><div class=\"anaIndex anaEven\"><a href=\"https://anvilproject.org/ncpi/data/studies/phs001487\">/ncpi/data/studies/phs001487</a></div><div class=\"anaCell anaEven anaSubcolLeft\"><div class=\"up\"></div></div><div class=\"anaCell anaEven\">16</div><div class=\"anaCell anaEven anaSubcolRight\"><div class=\"anaPositive\">(+23.08%)</div></div><div class=\"anaIndex anaOdd\"><a href=\"https://anvilproject.org/ncpi/data/studies/phs001740\">/ncpi/data/studies/phs001740</a></div><div class=\"anaCell anaOdd anaSubcolLeft\"><div class=\"up\"></div></div><div class=\"anaCell anaOdd\">15</div><div class=\"anaCell anaOdd anaSubcolRight\"><div class=\"anaPositive\">(+25.00%)</div></div><div class=\"anaIndex anaEven\"><a href=\"https://anvilproject.org/ncpi/data/platforms\">/ncpi/data/platforms</a></div><div class=\"anaCell anaEven anaSubcolLeft\"><div class=\"up\"></div></div><div class=\"anaCell anaEven\">4</div><div class=\"anaCell anaEven anaSubcolRight\"><div class=\"anaNegative\">(-20.00%)</div></div><div class=\"anaIndex anaOdd\"><a href=\"https://anvilproject.org/ncpi/data/studies/phs001515\">/ncpi/data/studies/phs001515</a></div><div class=\"anaCell anaOdd anaSubcolLeft\"><div class=\"new\"></div></div><div class=\"anaCell anaOdd\">4</div><div class=\"anaCell anaOdd anaSubcolRight\"></div><div class=\"anaIndex anaEven\"><a href=\"https://anvilproject.org/ncpi/data/studies/phs001191\">/ncpi/data/studies/phs001191</a></div><div class=\"anaCell anaEven anaSubcolLeft\"><div class=\"down\"></div></div><div class=\"anaCell anaEven\">3</div><div class=\"anaCell anaEven anaSubcolRight\"><div class=\"anaNegative\">(-76.92%)</div></div><div class=\"anaIndex anaOdd\"><a href=\"https://anvilproject.org/ncpi/data/studies/phs001738\">/ncpi/data/studies/phs001738</a></div><div class=\"anaCell anaOdd anaSubcolLeft\"><div class=\"new\"></div></div><div class=\"anaCell anaOdd\">3</div><div class=\"anaCell anaOdd anaSubcolRight\"></div><div class=\"anaIndex anaEven\"><a href=\"https://anvilproject.org/ncpi/data/studies/phs001741\">/ncpi/data/studies/phs001741</a></div><div class=\"anaCell anaEven anaSubcolLeft\"><div class=\"down\"></div></div><div class=\"anaCell anaEven\">3</div><div class=\"anaCell anaEven anaSubcolRight\"><div class=\"anaNegative\">(-75.00%)</div></div><div class=\"anaIndex anaOdd\"><a href=\"https://anvilproject.org/ncpi/data/studies/phs000298/\">/ncpi/data/studies/phs000298/</a></div><div class=\"anaCell anaOdd anaSubcolLeft\"><div class=\"down\"></div></div><div class=\"anaCell anaOdd\">2</div><div class=\"anaCell anaOdd anaSubcolRight\"><div class=\"anaNegative\">(-33.33%)</div></div><div class=\"anaIndex anaEven\"><a href=\"https://anvilproject.org/ncpi/data/studies/phs000424\">/ncpi/data/studies/phs000424</a></div><div class=\"anaCell anaEven anaSubcolLeft\"><div class=\"up\"></div></div><div class=\"anaCell anaEven\">2</div><div class=\"anaCell anaEven anaSubcolRight\"><div class=\"anaPositive\">(+100.00%)</div></div><div class=\"anaIndex anaOdd\"><a href=\"https://anvilproject.org/ncpi/data/studies/phs001178/\">/ncpi/data/studies/phs001178/</a></div><div class=\"anaCell anaOdd anaSubcolLeft\"><div class=\"new\"></div></div><div class=\"anaCell anaOdd\">2</div><div class=\"anaCell anaOdd anaSubcolRight\"></div><div class=\"anaIndex anaEven\"><a href=\"https://anvilproject.org/ncpi/data/studies/phs000286/\">/ncpi/data/studies/phs000286/</a></div><div class=\"anaCell anaEven anaSubcolLeft\"><div class=\"new\"></div></div><div class=\"anaCell anaEven\">2</div><div class=\"anaCell anaEven anaSubcolRight\"></div><div class=\"anaIndex anaOdd\"><a href=\"https://anvilproject.org/ncpi/data/studies/phs000209/\">/ncpi/data/studies/phs000209/</a></div><div class=\"anaCell anaOdd anaSubcolLeft\"><div class=\"new\"></div></div><div class=\"anaCell anaOdd\">2</div><div class=\"anaCell anaOdd anaSubcolRight\"></div><div class=\"anaIndex anaEven\"><a href=\"https://anvilproject.org/ncpi/data/\">/ncpi/data/</a></div><div class=\"anaCell anaEven anaSubcolLeft\"><div class=\"up\"></div></div><div class=\"anaCell anaEven\">1</div><div class=\"anaCell anaEven anaSubcolRight\"><div class=\"anaZero\">(+0.00%)</div></div><div class=\"anaIndex anaOdd\"><a href=\"https://anvilproject.org/ncpi/data/studies/phs000464\">/ncpi/data/studies/phs000464</a></div><div class=\"anaCell anaOdd anaSubcolLeft\"><div class=\"down\"></div></div><div class=\"anaCell anaOdd\">1</div><div class=\"anaCell anaOdd anaSubcolRight\"><div class=\"anaNegative\">(-50.00%)</div></div><div class=\"anaIndex anaEven\"><a href=\"https://anvilproject.org/ncpi/data/studies/phs000467\">/ncpi/data/studies/phs000467</a></div><div class=\"anaCell anaEven anaSubcolLeft\"><div class=\"down\"></div></div><div class=\"anaCell anaEven\">1</div><div class=\"anaCell anaEven anaSubcolRight\"><div class=\"anaZero\">(+0.00%)</div></div><div class=\"anaIndex anaOdd\"><a href=\"https://anvilproject.org/ncpi/data/studies/phs001194\">/ncpi/data/studies/phs001194</a></div><div class=\"anaCell anaOdd anaSubcolLeft\"><div class=\"new\"></div></div><div class=\"anaCell anaOdd\">1</div><div class=\"anaCell anaOdd anaSubcolRight\"></div><div class=\"anaIndex anaEven\"><a href=\"https://anvilproject.org/ncpi/data/studies/phs001247/\">/ncpi/data/studies/phs001247/</a></div><div class=\"anaCell anaEven anaSubcolLeft\"><div class=\"down\"></div></div><div class=\"anaCell anaEven\">1</div><div class=\"anaCell anaEven anaSubcolRight\"><div class=\"anaZero\">(+0.00%)</div></div><div class=\"anaIndex anaOdd\"><a href=\"https://anvilproject.org/ncpi/data/studies/phs001287\">/ncpi/data/studies/phs001287</a></div><div class=\"anaCell anaOdd anaSubcolLeft\"><div class=\"new\"></div></div><div class=\"anaCell anaOdd\">1</div><div class=\"anaCell anaOdd anaSubcolRight\"></div><div class=\"anaIndex anaEven\"><a href=\"https://anvilproject.org/ncpi/data/studies/phs001368/\">/ncpi/data/studies/phs001368/</a></div><div class=\"anaCell anaEven anaSubcolLeft\"><div class=\"down\"></div></div><div class=\"anaCell anaEven\">1</div><div class=\"anaCell anaEven anaSubcolRight\"><div class=\"anaZero\">(+0.00%)</div></div><div class=\"anaIndex anaOdd\"><a href=\"https://anvilproject.org/ncpi/data/studies/phs001489\">/ncpi/data/studies/phs001489</a></div><div class=\"anaCell anaOdd anaSubcolLeft\"><div class=\"new\"></div></div><div class=\"anaCell anaOdd\">1</div><div class=\"anaCell anaOdd anaSubcolRight\"></div><div class=\"anaIndex anaEven\"><a href=\"https://anvilproject.org/ncpi/data/studies/phs001662\">/ncpi/data/studies/phs001662</a></div><div class=\"anaCell anaEven anaSubcolLeft\"><div class=\"new\"></div></div><div class=\"anaCell anaEven\">1</div><div class=\"anaCell anaEven anaSubcolRight\"></div><div class=\"anaIndex anaOdd\"><a href=\"https://anvilproject.org/ncpi/data/studies/phs001931/\">/ncpi/data/studies/phs001931/</a></div><div class=\"anaCell anaOdd anaSubcolLeft\"><div class=\"new\"></div></div><div class=\"anaCell anaOdd\">1</div><div class=\"anaCell anaOdd anaSubcolRight\"></div><div class=\"anaIndex anaEven\"><a href=\"https://anvilproject.org/ncpi/data/studies/phs001939\">/ncpi/data/studies/phs001939</a></div><div class=\"anaCell anaEven anaSubcolLeft\"><div class=\"new\"></div></div><div class=\"anaCell anaEven\">1</div><div class=\"anaCell anaEven anaSubcolRight\"></div><div class=\"anaIndex anaOdd\"><a href=\"https://anvilproject.org/ncpi/data/studies/phs002383\">/ncpi/data/studies/phs002383</a></div><div class=\"anaCell anaOdd anaSubcolLeft\"><div class=\"new\"></div></div><div class=\"anaCell anaOdd\">1</div><div class=\"anaCell anaOdd anaSubcolRight\"></div></div>"
      ],
      "text/plain": [
       "<IPython.core.display.HTML object>"
      ]
     },
     "metadata": {},
     "output_type": "display_data"
    }
   ],
   "source": [
    "ac.show_difference_table(\"Page Views\", \"Page\", \"screenPageViews\", \"pagePath\", **default_params_catalog)"
   ]
  },
  {
   "cell_type": "markdown",
   "id": "6e2487a3",
   "metadata": {},
   "source": [
    "<div style=\"page-break-after: always\"></div>"
   ]
  },
  {
   "cell_type": "markdown",
   "id": "a4d13293",
   "metadata": {},
   "source": [
    "## Top Landing Pages"
   ]
  },
  {
   "cell_type": "code",
   "execution_count": 20,
   "id": "614d1d07",
   "metadata": {
    "tags": [
     "remove-input"
    ]
   },
   "outputs": [
    {
     "data": {
      "text/html": [
       "<div class=\"analyticsTable\" style=\"grid-template-columns: 1fr var(--symbol-width) minmax(var(--value-width), min-content) minmax(var(--percentage-width), min-content)\"><div class=\"anaIndex anaColName\">Page</div><div class=\"anaColName anaMultiCol\" style=\"grid-column: span 3\">Entrances</div><div class=\"anaIndex anaEven\"><a href=\"https://anvilproject.org/ncpi/data\">/ncpi/data</a></div><div class=\"anaCell anaEven anaSubcolLeft\"><div class=\"up\"></div></div><div class=\"anaCell anaEven\">21</div><div class=\"anaCell anaEven anaSubcolRight\"><div class=\"anaNegative\">(-22.22%)</div></div><div class=\"anaIndex anaOdd\"><a href=\"https://anvilproject.org/ncpi/data/studies/phs001487\">/ncpi/data/studies/phs001487</a></div><div class=\"anaCell anaOdd anaSubcolLeft\"><div class=\"up\"></div></div><div class=\"anaCell anaOdd\">12</div><div class=\"anaCell anaOdd anaSubcolRight\"><div class=\"anaPositive\">(+100.00%)</div></div><div class=\"anaIndex anaEven\">(not set)</div><div class=\"anaCell anaEven anaSubcolLeft\"></div><div class=\"anaCell anaEven\">11</div><div class=\"anaCell anaEven anaSubcolRight\"><div class=\"anaNegative\">(-8.33%)</div></div><div class=\"anaIndex anaOdd\"><a href=\"https://anvilproject.org/ncpi/data/studies\">/ncpi/data/studies</a></div><div class=\"anaCell anaOdd anaSubcolLeft\"><div class=\"down\"></div></div><div class=\"anaCell anaOdd\">11</div><div class=\"anaCell anaOdd anaSubcolRight\"><div class=\"anaNegative\">(-60.71%)</div></div><div class=\"anaIndex anaEven\"><a href=\"https://anvilproject.org/ncpi/data/studies/phs001515\">/ncpi/data/studies/phs001515</a></div><div class=\"anaCell anaEven anaSubcolLeft\"><div class=\"new\"></div></div><div class=\"anaCell anaEven\">4</div><div class=\"anaCell anaEven anaSubcolRight\"></div><div class=\"anaIndex anaOdd\"><a href=\"https://anvilproject.org/ncpi/data/studies/phs000209\">/ncpi/data/studies/phs000209</a></div><div class=\"anaCell anaOdd anaSubcolLeft\"><div class=\"new\"></div></div><div class=\"anaCell anaOdd\">2</div><div class=\"anaCell anaOdd anaSubcolRight\"></div><div class=\"anaIndex anaEven\"><a href=\"https://anvilproject.org/ncpi/data/studies/phs000286\">/ncpi/data/studies/phs000286</a></div><div class=\"anaCell anaEven anaSubcolLeft\"><div class=\"new\"></div></div><div class=\"anaCell anaEven\">2</div><div class=\"anaCell anaEven anaSubcolRight\"></div><div class=\"anaIndex anaOdd\"><a href=\"https://anvilproject.org/ncpi/data/studies/phs000298\">/ncpi/data/studies/phs000298</a></div><div class=\"anaCell anaOdd anaSubcolLeft\"><div class=\"down\"></div></div><div class=\"anaCell anaOdd\">2</div><div class=\"anaCell anaOdd anaSubcolRight\"><div class=\"anaNegative\">(-33.33%)</div></div><div class=\"anaIndex anaEven\"><a href=\"https://anvilproject.org/ncpi/data/studies/phs001178\">/ncpi/data/studies/phs001178</a></div><div class=\"anaCell anaEven anaSubcolLeft\"><div class=\"new\"></div></div><div class=\"anaCell anaEven\">2</div><div class=\"anaCell anaEven anaSubcolRight\"></div><div class=\"anaIndex anaOdd\"><a href=\"https://anvilproject.org/ncpi/data/studies/phs001191\">/ncpi/data/studies/phs001191</a></div><div class=\"anaCell anaOdd anaSubcolLeft\"><div class=\"up\"></div></div><div class=\"anaCell anaOdd\">2</div><div class=\"anaCell anaOdd anaSubcolRight\"><div class=\"anaPositive\">(+100.00%)</div></div><div class=\"anaIndex anaEven\"><a href=\"https://anvilproject.org/ncpi/data/studies/phs001738\">/ncpi/data/studies/phs001738</a></div><div class=\"anaCell anaEven anaSubcolLeft\"><div class=\"new\"></div></div><div class=\"anaCell anaEven\">2</div><div class=\"anaCell anaEven anaSubcolRight\"></div><div class=\"anaIndex anaOdd\"><a href=\"https://anvilproject.org/ncpi/data/studies/phs001368\">/ncpi/data/studies/phs001368</a></div><div class=\"anaCell anaOdd anaSubcolLeft\"><div class=\"down\"></div></div><div class=\"anaCell anaOdd\">1</div><div class=\"anaCell anaOdd anaSubcolRight\"><div class=\"anaZero\">(+0.00%)</div></div><div class=\"anaIndex anaEven\"><a href=\"https://anvilproject.org/ncpi/data/studies/phs001939\">/ncpi/data/studies/phs001939</a></div><div class=\"anaCell anaEven anaSubcolLeft\"><div class=\"new\"></div></div><div class=\"anaCell anaEven\">1</div><div class=\"anaCell anaEven anaSubcolRight\"></div><div class=\"anaIndex anaOdd\"><a href=\"https://anvilproject.org/ncpi/data/studies/phs001931\">/ncpi/data/studies/phs001931</a></div><div class=\"anaCell anaOdd anaSubcolLeft\"><div class=\"new\"></div></div><div class=\"anaCell anaOdd\">1</div><div class=\"anaCell anaOdd anaSubcolRight\"></div><div class=\"anaIndex anaEven\"><a href=\"https://anvilproject.org/ncpi/data/studies/phs001662\">/ncpi/data/studies/phs001662</a></div><div class=\"anaCell anaEven anaSubcolLeft\"><div class=\"new\"></div></div><div class=\"anaCell anaEven\">1</div><div class=\"anaCell anaEven anaSubcolRight\"></div><div class=\"anaIndex anaOdd\"><a href=\"https://anvilproject.org/ncpi/data/studies/phs001489\">/ncpi/data/studies/phs001489</a></div><div class=\"anaCell anaOdd anaSubcolLeft\"><div class=\"new\"></div></div><div class=\"anaCell anaOdd\">1</div><div class=\"anaCell anaOdd anaSubcolRight\"></div><div class=\"anaIndex anaEven\"><a href=\"https://anvilproject.org/ncpi/data/studies/phs000424\">/ncpi/data/studies/phs000424</a></div><div class=\"anaCell anaEven anaSubcolLeft\"><div class=\"down\"></div></div><div class=\"anaCell anaEven\">1</div><div class=\"anaCell anaEven anaSubcolRight\"><div class=\"anaZero\">(+0.00%)</div></div><div class=\"anaIndex anaOdd\"><a href=\"https://anvilproject.org/ncpi/data/studies/phs001287\">/ncpi/data/studies/phs001287</a></div><div class=\"anaCell anaOdd anaSubcolLeft\"><div class=\"new\"></div></div><div class=\"anaCell anaOdd\">1</div><div class=\"anaCell anaOdd anaSubcolRight\"></div><div class=\"anaIndex anaEven\"><a href=\"https://anvilproject.org/ncpi/data/studies/phs001247\">/ncpi/data/studies/phs001247</a></div><div class=\"anaCell anaEven anaSubcolLeft\"><div class=\"down\"></div></div><div class=\"anaCell anaEven\">1</div><div class=\"anaCell anaEven anaSubcolRight\"><div class=\"anaZero\">(+0.00%)</div></div><div class=\"anaIndex anaOdd\"><a href=\"https://anvilproject.org/ncpi/data/studies/phs001194\">/ncpi/data/studies/phs001194</a></div><div class=\"anaCell anaOdd anaSubcolLeft\"><div class=\"new\"></div></div><div class=\"anaCell anaOdd\">1</div><div class=\"anaCell anaOdd anaSubcolRight\"></div><div class=\"anaIndex anaEven\"><a href=\"https://anvilproject.org/ncpi/data/studies/phs000467\">/ncpi/data/studies/phs000467</a></div><div class=\"anaCell anaEven anaSubcolLeft\"><div class=\"down\"></div></div><div class=\"anaCell anaEven\">1</div><div class=\"anaCell anaEven anaSubcolRight\"><div class=\"anaZero\">(+0.00%)</div></div><div class=\"anaIndex anaOdd\"><a href=\"https://anvilproject.org/ncpi/data/studies/phs000464\">/ncpi/data/studies/phs000464</a></div><div class=\"anaCell anaOdd anaSubcolLeft\"><div class=\"down\"></div></div><div class=\"anaCell anaOdd\">1</div><div class=\"anaCell anaOdd anaSubcolRight\"><div class=\"anaZero\">(+0.00%)</div></div><div class=\"anaIndex anaEven\"><a href=\"https://anvilproject.org/ncpi/data/studies/phs002383\">/ncpi/data/studies/phs002383</a></div><div class=\"anaCell anaEven anaSubcolLeft\"><div class=\"new\"></div></div><div class=\"anaCell anaEven\">1</div><div class=\"anaCell anaEven anaSubcolRight\"></div></div>"
      ],
      "text/plain": [
       "<IPython.core.display.HTML object>"
      ]
     },
     "metadata": {},
     "output_type": "display_data"
    }
   ],
   "source": [
    "ac.show_difference_table(\"Entrances\", \"Page\", \"sessions\", \"landingPage\", **default_params_catalog)"
   ]
  },
  {
   "attachments": {},
   "cell_type": "markdown",
   "id": "6ce3b066",
   "metadata": {
    "tags": []
   },
   "source": [
    "## Outbound Links to Terra"
   ]
  },
  {
   "cell_type": "markdown",
   "id": "807c0426",
   "metadata": {
    "tags": [
     "remove-cell"
    ]
   },
   "source": [
    "### Terra Login"
   ]
  },
  {
   "cell_type": "code",
   "execution_count": 21,
   "id": "2ebd18b1",
   "metadata": {
    "tags": [
     "remove-input"
    ]
   },
   "outputs": [
    {
     "data": {
      "text/html": [
       "<div class=\"analyticsTable\" style=\"grid-template-columns: 1fr var(--symbol-width) minmax(var(--value-width), min-content) minmax(var(--percentage-width), min-content)\"><div class=\"anaIndex anaColName\">URL</div><div class=\"anaColName anaMultiCol\" style=\"grid-column: span 3\">Count</div></div>"
      ],
      "text/plain": [
       "<IPython.core.display.HTML object>"
      ]
     },
     "metadata": {},
     "output_type": "display_data"
    }
   ],
   "source": [
    "ac.show_difference_table(\"Count\", \"URL\", \"eventCount\", \"linkUrl\", dimension_filter=\"linkUrl=~^https://anvil.terra.bio/(?:\\\\#workspaces)?$\", **default_params_catalog)\n",
    "# NOTE: this will actually include terra workspace links, since the fragment isn't reported, so the heading above is hidden"
   ]
  },
  {
   "cell_type": "markdown",
   "id": "7e6d9407",
   "metadata": {
    "tags": [
     "remove-cell"
    ]
   },
   "source": [
    "### Terra Workspaces\n",
    "The following Terra workspaces were navigated to from the AnVIL portal."
   ]
  },
  {
   "cell_type": "code",
   "execution_count": 22,
   "id": "f7ce4753",
   "metadata": {
    "tags": [
     "remove-input",
     "remove-cell"
    ]
   },
   "outputs": [],
   "source": [
    "# ac.show_difference_table(\"Count\", \"Workspace\", \"ga:hits\", \"ga:eventLabel\", filters=\"ga:eventCategory==External Link;ga:dimension1==Workspace\", **default_params)\n",
    "# TODO"
   ]
  },
  {
   "cell_type": "markdown",
   "id": "ad319d17",
   "metadata": {},
   "source": [
    "## Outbound Links to dbGap\n",
    "### Top Studies"
   ]
  },
  {
   "cell_type": "code",
   "execution_count": 23,
   "id": "5df94974",
   "metadata": {
    "tags": [
     "remove-input"
    ]
   },
   "outputs": [
    {
     "data": {
      "text/html": [
       "<div class=\"analyticsTable\" style=\"grid-template-columns: 1fr var(--symbol-width) minmax(var(--value-width), min-content) minmax(var(--percentage-width), min-content)\"><div class=\"anaIndex anaColName\">URL</div><div class=\"anaColName anaMultiCol\" style=\"grid-column: span 3\">Count</div></div>"
      ],
      "text/plain": [
       "<IPython.core.display.HTML object>"
      ]
     },
     "metadata": {},
     "output_type": "display_data"
    }
   ],
   "source": [
    "ac.show_difference_table(\"Count\", \"URL\", \"eventCount\", \"linkUrl\", dimension_filter=\"linkUrl=~^https://www\\\\.ncbi\\\\.nlm\\\\.nih\\\\.gov/projects/gap/cgi-bin/study\\\\.cgi\\\\?study_id=\", **default_params_catalog)"
   ]
  },
  {
   "cell_type": "markdown",
   "id": "c59d9834",
   "metadata": {
    "tags": [
     "remove-cell"
    ]
   },
   "source": [
    "## Outbound Links to Dockstore\n",
    "### Links to Dockstore Organization Page"
   ]
  },
  {
   "cell_type": "code",
   "execution_count": 24,
   "id": "a917723f",
   "metadata": {
    "tags": [
     "remove-input",
     "remove-cell"
    ]
   },
   "outputs": [],
   "source": [
    "# ac.show_difference_table(\"Count\", \"URL\", \"ga:hits\", \"ga:eventLabel\", filters=\"ga:eventCategory==External Link;ga:dimension3==https://dockstore.org/organizations/anvil\", **default_params)\n",
    "# TODO?"
   ]
  },
  {
   "cell_type": "markdown",
   "id": "0f10931e",
   "metadata": {
    "tags": [
     "remove-cell"
    ]
   },
   "source": [
    "### Top References"
   ]
  },
  {
   "cell_type": "code",
   "execution_count": 25,
   "id": "080d2462",
   "metadata": {
    "tags": [
     "remove-input",
     "remove-cell"
    ]
   },
   "outputs": [],
   "source": [
    "# ac.show_difference_table(\"Count\", \"URL\", \"ga:hits\", \"ga:eventLabel\", filters=\"ga:eventCategory==External Link;ga:dimension1==Reference;ga:dimension2==Dockstore\", **default_params)\n",
    "# TODO?"
   ]
  },
  {
   "cell_type": "markdown",
   "id": "6d12a5fb",
   "metadata": {
    "tags": []
   },
   "source": [
    "## Outbound Links to Gen3\n",
    "### Links to Gen3 Data Browser"
   ]
  },
  {
   "cell_type": "code",
   "execution_count": 26,
   "id": "099853c6",
   "metadata": {
    "tags": [
     "remove-input"
    ]
   },
   "outputs": [
    {
     "data": {
      "text/html": [
       "<div class=\"analyticsTable\" style=\"grid-template-columns: 1fr var(--symbol-width) minmax(var(--value-width), min-content) minmax(var(--percentage-width), min-content)\"><div class=\"anaIndex anaColName\">URL</div><div class=\"anaColName anaMultiCol\" style=\"grid-column: span 3\">Count</div></div>"
      ],
      "text/plain": [
       "<IPython.core.display.HTML object>"
      ]
     },
     "metadata": {},
     "output_type": "display_data"
    }
   ],
   "source": [
    "ac.show_difference_table(\"Count\", \"URL\", \"eventCount\", \"linkUrl\", dimension_filter=\"linkUrl=~^https://gen3\\\\.theanvil\\\\.io(?:/.*)?\", **default_params_catalog)"
   ]
  },
  {
   "cell_type": "markdown",
   "id": "3bc4f689",
   "metadata": {
    "tags": [
     "remove-cell"
    ]
   },
   "source": [
    "## Outbound Links to Tools"
   ]
  },
  {
   "cell_type": "code",
   "execution_count": 27,
   "id": "5264ac7c",
   "metadata": {
    "tags": [
     "remove-input",
     "remove-cell"
    ]
   },
   "outputs": [],
   "source": [
    "# ac.show_difference_table(\"Count\", \"Tool\", \"ga:hits\", \"ga:eventLabel\", filters=\"ga:eventCategory==External Link;ga:dimension1==Tool\", **default_params)\n",
    "# TODO"
   ]
  },
  {
   "cell_type": "markdown",
   "id": "8e77bb04",
   "metadata": {
    "tags": [
     "remove-cell"
    ]
   },
   "source": [
    "## Outbound Links to General Resources (NIH/NHGRI)"
   ]
  },
  {
   "cell_type": "code",
   "execution_count": 28,
   "id": "1bd2ce95",
   "metadata": {
    "tags": [
     "remove-input",
     "remove-cell"
    ]
   },
   "outputs": [],
   "source": [
    "# ac.show_difference_table(\"Count\", [\"NIH/NHGRI\", \"URL\"], \"ga:hits\", [\"ga:dimension2\", \"ga:dimension3\"], filters=\"ga:eventCategory==External Link;ga:dimension1==Reference;ga:dimension2=~NIH|NHGRI\", **default_params)\n",
    "# TODO"
   ]
  },
  {
   "cell_type": "markdown",
   "id": "f864a416",
   "metadata": {
    "tags": [
     "remove-cell"
    ]
   },
   "source": [
    "## Outbound Links to Data Consortia"
   ]
  },
  {
   "cell_type": "code",
   "execution_count": 29,
   "id": "9437ad49",
   "metadata": {
    "tags": [
     "remove-input",
     "remove-cell"
    ]
   },
   "outputs": [],
   "source": [
    "# ac.show_difference_table(\"Count\", \"Consortia\", \"ga:hits\", \"ga:eventLabel\", filters=\"ga:eventCategory==External Link;ga:dimension1==Data Consortium\", **default_params)\n",
    "# TODO"
   ]
  },
  {
   "cell_type": "markdown",
   "id": "a484055b",
   "metadata": {
    "tags": [
     "remove-cell"
    ]
   },
   "source": [
    "## Data Dashboard\n",
    "### Top Facet Terms"
   ]
  },
  {
   "cell_type": "code",
   "execution_count": 30,
   "id": "bd989a24",
   "metadata": {
    "tags": [
     "remove-input",
     "remove-cell"
    ]
   },
   "outputs": [],
   "source": [
    "# ac.show_difference_table(\"Count\", [\"Term Name\", \"Facet\"], \"ga:hits\", [\"ga:eventLabel\", \"ga:dimension5\"], filters=\"ga:eventCategory==Search;ga:eventAction==Select\", **default_params)"
   ]
  },
  {
   "cell_type": "markdown",
   "id": "cce1253e",
   "metadata": {
    "tags": [
     "remove-cell"
    ]
   },
   "source": [
    "### Top Text Searches"
   ]
  },
  {
   "cell_type": "code",
   "execution_count": 31,
   "id": "a6d6523d",
   "metadata": {
    "tags": [
     "remove-input",
     "remove-cell"
    ]
   },
   "outputs": [],
   "source": [
    "# ac.show_difference_table(\"Count\", \"Text Input\", \"ga:hits\", \"ga:eventLabel\", filters=\"ga:eventCategory==Search;ga:eventAction==Enter Text;ga:eventLabel=~.{3\\\\,}\", **default_params)"
   ]
  },
  {
   "cell_type": "markdown",
   "id": "50658332",
   "metadata": {
    "tags": [
     "remove-cell"
    ]
   },
   "source": [
    "## Site Search\n",
    "### Top Text Searches"
   ]
  },
  {
   "cell_type": "code",
   "execution_count": 32,
   "id": "08375d58",
   "metadata": {
    "tags": [
     "remove-input",
     "remove-cell"
    ]
   },
   "outputs": [],
   "source": [
    "# ac.show_difference_table(\"Count\", \"Text Input\", \"ga:hits\", \"ga:eventLabel\", filters=\"ga:eventCategory==Site Search;ga:eventAction==Search;ga:eventLabel=~.{3\\\\,}\", **default_params)"
   ]
  },
  {
   "cell_type": "markdown",
   "id": "3a767848",
   "metadata": {
    "tags": [
     "remove-cell"
    ]
   },
   "source": [
    "### Top Search Click Throughs"
   ]
  },
  {
   "cell_type": "code",
   "execution_count": 33,
   "id": "dc60bbdd",
   "metadata": {
    "tags": [
     "remove-input",
     "remove-cell"
    ]
   },
   "outputs": [],
   "source": [
    "# ac.show_difference_table(\"Count\", \"Clicked Search Result\", \"ga:hits\", \"ga:eventLabel\", filters=\"ga:eventCategory==Site Search;ga:eventAction==Select Search Result\", **default_params)"
   ]
  },
  {
   "cell_type": "code",
   "execution_count": null,
   "id": "070c32c9",
   "metadata": {},
   "outputs": [],
   "source": []
  },
  {
   "cell_type": "code",
   "execution_count": null,
   "id": "512466e2",
   "metadata": {},
   "outputs": [],
   "source": []
  }
 ],
 "metadata": {
  "celltoolbar": "Tags",
  "kernelspec": {
   "display_name": "venv",
   "language": "python",
   "name": "python3"
  },
  "language_info": {
   "codemirror_mode": {
    "name": "ipython",
    "version": 3
   },
   "file_extension": ".py",
   "mimetype": "text/x-python",
   "name": "python",
   "nbconvert_exporter": "python",
   "pygments_lexer": "ipython3",
   "version": "3.12.4"
  }
 },
 "nbformat": 4,
 "nbformat_minor": 5
}
