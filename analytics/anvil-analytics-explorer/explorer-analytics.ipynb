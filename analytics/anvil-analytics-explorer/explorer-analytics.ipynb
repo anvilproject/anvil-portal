{
 "cells": [
  {
   "attachments": {},
   "cell_type": "markdown",
   "id": "98bd0cf6",
   "metadata": {
    "tags": []
   },
   "source": [
    "```{image} anvil-logo.png\n",
    ":width: 200px\n",
    ":class: analytics-logo\n",
    "```\n",
    "\n",
    "# AnVIL Explorer User Analytics - September vs August 2024\n",
    "\n",
    "This section displays metrics collected from Google Analytics for the AnVIL Explorer at https://explore.anvilproject.org and compares September 2024 with the previous month (August 2024). The generation of this report is now coded in Jupyter notebooks and can be rerun easily and modified or consolidated as desired.\n",
    "\n",
    "### Key to tables\n",
    "\n",
    "On the tables:\n",
    "\n",
    "* Diffs, e.g. <span style=\"color: green\">(+19.04%)</span> or <span style=\"color: red\">(-12.03%)</span>, compare the later month with the previous month.\n",
    "* \"+\" Indicates the entry is new in the report in the current month.\n",
    "* \"↑\" Indicates the entry has moved up in rank since the last month.\n",
    "* \"↓\" Indicates the entry has moved down in rank since the last month."
   ]
  },
  {
   "cell_type": "code",
   "execution_count": 1,
   "id": "c1204f97",
   "metadata": {
    "tags": [
     "remove-cell"
    ]
   },
   "outputs": [],
   "source": [
    "import warnings\n",
    "warnings.filterwarnings('ignore')"
   ]
  },
  {
   "cell_type": "code",
   "execution_count": 2,
   "id": "c19c88f8",
   "metadata": {
    "scrolled": true,
    "tags": [
     "remove-cell"
    ]
   },
   "outputs": [],
   "source": [
    "# !pip install google_auth_oauthlib \n",
    "# !pip install install google-api-python-client\n",
    "# !pip install pandas \n",
    "# !pip install numpy\n",
    "# !pip install matplotlib\n",
    "# !pip install google-cloud-bigquery\n",
    "# !pip install db-dtypes\n",
    "\n",
    "# Analytics package:\n",
    "# !pip install -e \"git+https://github.com/DataBiosphere/data-browser.git@5042e623bfe6ad8404be5f60e1ddb3c0e8e7d6b3#egg=analytics&subdirectory=analytics/hdgar-book/analytics_package\""
   ]
  },
  {
   "cell_type": "code",
   "execution_count": 3,
   "id": "70fb2997",
   "metadata": {
    "scrolled": false,
    "tags": [
     "remove-cell"
    ]
   },
   "outputs": [],
   "source": [
    "from IPython.display import display\n",
    "import analytics.api as ga\n",
    "import analytics.charts as ac\n",
    "\n",
    "%load_ext autoreload\n",
    "%autoreload 2\n",
    "\n",
    "import analytics_anvil as anvil\n",
    "\n",
    "SECRET_NAME = 'ANVIL_ANALYTICS_REPORTING_CLIENT_SECRET_PATH'\n",
    "GA_PROPERTY_CATALOG = \"383267328\" # AnVIL DX - GA4\n",
    "ANALYTICS_START = \"2024-01-01\"\n",
    "TODAY = 'today'\n",
    "PERIOD = \"2024-09\"\n",
    "PREV_PERIOD = \"2024-08\""
   ]
  },
  {
   "cell_type": "code",
   "execution_count": 4,
   "id": "6571a948",
   "metadata": {
    "tags": [
     "remove-cell"
    ]
   },
   "outputs": [
    {
     "name": "stdout",
     "output_type": "stream",
     "text": [
      "Please visit this URL to authorize this application: https://accounts.google.com/o/oauth2/auth?response_type=code&client_id=526897014808-dq9pt3bmnutqqjdvj1f5roflpgcvqmpt.apps.googleusercontent.com&redirect_uri=http%3A%2F%2Flocalhost%3A8082%2F&scope=https%3A%2F%2Fwww.googleapis.com%2Fauth%2Fanalytics.readonly&state=xRksSIyxKcL1laK0rnW1Dxa0s07EMN&access_type=offline\n"
     ]
    }
   ],
   "source": [
    "default_params_catalog = {\n",
    "    \"service_system\": ac.authenticate_ga4(SECRET_NAME),\n",
    "    \"property\": GA_PROPERTY_CATALOG,\n",
    "    \"index_key_formatter\": anvil.adjust_table_index_key,\n",
    "    \"period\": PERIOD,\n",
    "    \"prev_period\": PREV_PERIOD\n",
    "}"
   ]
  },
  {
   "cell_type": "code",
   "execution_count": 5,
   "id": "3e54340a",
   "metadata": {
    "tags": [
     "remove-input"
    ]
   },
   "outputs": [
    {
     "data": {
      "text/html": [
       "\n",
       "\t\t<style>\n",
       "\t\t\t\n",
       "\t\t\t.analyticsTable {\n",
       "\t\t\t\tdisplay: grid;\n",
       "\t\t\t\t--symbol-width: 1.5em;\n",
       "\t\t\t\t--value-width: 2.9em;\n",
       "\t\t\t\t--percentage-width: 6.8em;\n",
       "\t\t\t}\n",
       "\t\t\t\n",
       "\t\t\t/*\n",
       "\t\t\t.anaEven {\n",
       "\t\t\t\tbackground: #f5f5f5;\n",
       "\t\t\t}\n",
       "\t\t\t*/\n",
       "\t\t\t\n",
       "\t\t\t.anaIndex:not(.anaColName) {\n",
       "\t\t\t\twhite-space: pre-wrap;\n",
       "\t\t\t\tline-break: anywhere;\n",
       "\t\t\t\tword-break: break-all;\n",
       "\t\t\t}\n",
       "\t\t\t\n",
       "\t\t\t.anaColName {\n",
       "\t\t\t\tfont-weight: bold;\n",
       "\t\t\t\tborder-bottom: 1px solid black;\n",
       "\t\t\t}\n",
       "\t\t\t\n",
       "\t\t\t.anaIndex, .anaColName, .anaCell {\n",
       "\t\t\t\tpadding: 0.3em;\n",
       "\t\t\t}\n",
       "\t\t\t\n",
       "\t\t\t.anaSubcolLeft, .anaIndex {\n",
       "\t\t\t\tpadding-left: 1em;\n",
       "\t\t\t}\n",
       "\t\t\t\n",
       "\t\t\t.anaSubcolRight {\n",
       "\t\t\t\tpadding-right: 1em;\n",
       "\t\t\t}\n",
       "\t\t\t\n",
       "\t\t\t.anaColName:not(.anaIndex) {\n",
       "\t\t\t\ttext-align: right;\n",
       "\t\t\t}\n",
       "\n",
       "\t\t\t.anaColName.anaMultiCol {\n",
       "\t\t\t\ttext-align: center;\n",
       "\t\t\t}\n",
       "\t\t\t\n",
       "\t\t\t.anaCell:not(.anaIndex) {\n",
       "\t\t\t\ttext-align: right;\n",
       "\t\t\t}\n",
       "\t\t\t\n",
       "\t\t\t.analyticsTable .up::before {\n",
       "\t\t\t\tcontent: \"↑\";\n",
       "\t\t\t\tcolor: gray;\n",
       "\t\t\t}\n",
       "\t\t\t\n",
       "\t\t\t.analyticsTable .down::before {\n",
       "\t\t\t\tcontent: \"↓\";\n",
       "\t\t\t\tcolor: gray;\n",
       "\t\t\t}\n",
       "\t\t\t\n",
       "\t\t\t.analyticsTable .new::before {\n",
       "\t\t\t\tcontent: \"+\";\n",
       "\t\t\t\tcolor: gray;\n",
       "\t\t\t}\n",
       "\t\t\t\n",
       "\t\t\t.anaPositive {\n",
       "\t\t\t\tcolor: green;\n",
       "\t\t\t}\n",
       "\t\t\t\n",
       "\t\t\t.anaNegative {\n",
       "\t\t\t\tcolor: red;\n",
       "\t\t\t}\n",
       "\t\t\t\n",
       "\t\t</style>\n",
       "\t"
      ],
      "text/plain": [
       "<IPython.core.display.HTML object>"
      ]
     },
     "metadata": {},
     "output_type": "display_data"
    }
   ],
   "source": [
    "ac.init_tables()"
   ]
  },
  {
   "cell_type": "markdown",
   "id": "1919eb1b",
   "metadata": {},
   "source": [
    "## Monthly Users and Page Views (All Time)"
   ]
  },
  {
   "cell_type": "code",
   "execution_count": 6,
   "id": "5774475a",
   "metadata": {
    "tags": [
     "remove-input"
    ]
   },
   "outputs": [
    {
     "data": {
      "image/png": "[encoded data removed]",
      "text/plain": [
       "<Figure size 1600x900 with 1 Axes>"
      ]
     },
     "metadata": {},
     "output_type": "display_data"
    }
   ],
   "source": [
    "users_over_time_table = anvil.plot_users_over_time(start_date=ANALYTICS_START, end_date=TODAY, load_json=False, **default_params_catalog)"
   ]
  },
  {
   "cell_type": "code",
   "execution_count": 7,
   "id": "0a5ed81c",
   "metadata": {
    "tags": [
     "remove-input"
    ]
   },
   "outputs": [
    {
     "data": {
      "text/html": [
       "<div class=\"analyticsTable\" style=\"grid-template-columns: repeat(1, auto) 1fr minmax(var(--value-width), min-content) minmax(var(--percentage-width), min-content) minmax(var(--value-width), min-content) minmax(var(--percentage-width), min-content)\"><div class=\"anaIndex anaColName\">Year</div><div class=\"anaIndex anaColName\">Month</div><div class=\"anaColName anaMultiCol\" style=\"grid-column: span 2\">Users</div><div class=\"anaColName anaMultiCol\" style=\"grid-column: span 2\">Total Pageviews</div><div class=\"anaIndex anaEven\" style=\"grid-row: span 4\">2024</div><div class=\"anaIndex anaEven\" style=\"grid-row: span 1\">May</div><div class=\"anaCell anaEven anaSubcolLeft\">194</div><div class=\"anaCell anaEven anaSubcolRight\"><div class=\"anaNegative\">(-3.00%)</div></div><div class=\"anaCell anaEven anaSubcolLeft\">1194</div><div class=\"anaCell anaEven anaSubcolRight\"><div class=\"anaNegative\">(-19.05%)</div></div><div class=\"anaIndex anaOdd\" style=\"grid-row: span 1\">April</div><div class=\"anaCell anaOdd anaSubcolLeft\">200</div><div class=\"anaCell anaOdd anaSubcolRight\"><div class=\"anaPositive\">(+50.38%)</div></div><div class=\"anaCell anaOdd anaSubcolLeft\">1475</div><div class=\"anaCell anaOdd anaSubcolRight\"><div class=\"anaPositive\">(+35.94%)</div></div><div class=\"anaIndex anaEven\" style=\"grid-row: span 1\">March</div><div class=\"anaCell anaEven anaSubcolLeft\">133</div><div class=\"anaCell anaEven anaSubcolRight\"><div class=\"anaNegative\">(-11.33%)</div></div><div class=\"anaCell anaEven anaSubcolLeft\">1085</div><div class=\"anaCell anaEven anaSubcolRight\"><div class=\"anaNegative\">(-32.57%)</div></div><div class=\"anaIndex anaOdd\" style=\"grid-row: span 1\">February</div><div class=\"anaCell anaOdd anaSubcolLeft\">150</div><div class=\"anaCell anaOdd anaSubcolRight\"></div><div class=\"anaCell anaOdd anaSubcolLeft\">1609</div><div class=\"anaCell anaOdd anaSubcolRight\"></div></div>"
      ],
      "text/plain": [
       "<IPython.core.display.HTML object>"
      ]
     },
     "metadata": {},
     "output_type": "display_data"
    }
   ],
   "source": [
    "display(users_over_time_table)"
   ]
  },
  {
   "cell_type": "markdown",
   "id": "5a1acbae",
   "metadata": {},
   "source": [
    "## Users and Sessions\n",
    "Users are distinguished based on a tracking cookie set by Google. Because cookies may not remain present over time or between devices, it's likely that total users are overcounted and returning users are undercounted."
   ]
  },
  {
   "cell_type": "code",
   "execution_count": 8,
   "id": "fdd3f650",
   "metadata": {
    "tags": [
     "remove-input"
    ]
   },
   "outputs": [
    {
     "data": {
      "text/html": [
       "<div class=\"analyticsTable\" style=\"grid-template-columns: 1fr var(--symbol-width) minmax(var(--value-width), min-content) minmax(var(--percentage-width), min-content)\"><div class=\"anaIndex anaEven\">Total Users</div><div class=\"anaCell anaEven anaSubcolLeft\"></div><div class=\"anaCell anaEven\">200</div><div class=\"anaCell anaEven anaSubcolRight\"><div class=\"anaNegative\">(-0.50%)</div></div></div>"
      ],
      "text/plain": [
       "<IPython.core.display.HTML object>"
      ]
     },
     "metadata": {},
     "output_type": "display_data"
    }
   ],
   "source": [
    "ac.show_difference_table(\"Total Users\", None, \"totalUsers\", None, **default_params_catalog)"
   ]
  },
  {
   "cell_type": "code",
   "execution_count": 9,
   "id": "c8fe499f",
   "metadata": {
    "tags": [
     "remove-input"
    ]
   },
   "outputs": [
    {
     "data": {
      "text/html": [
       "<div class=\"analyticsTable\" style=\"grid-template-columns: 1fr var(--symbol-width) minmax(var(--value-width), min-content) minmax(var(--percentage-width), min-content)\"><div class=\"anaIndex anaEven\">Returning Users</div><div class=\"anaCell anaEven anaSubcolLeft\"></div><div class=\"anaCell anaEven\">52</div><div class=\"anaCell anaEven anaSubcolRight\"><div class=\"anaNegative\">(-13.33%)</div></div></div>"
      ],
      "text/plain": [
       "<IPython.core.display.HTML object>"
      ]
     },
     "metadata": {},
     "output_type": "display_data"
    }
   ],
   "source": [
    "ac.show_difference_table(\"Returning Users\", None, \"totalUsers\", None, dimension_filter=\"newVsReturning==returning\", **default_params_catalog)"
   ]
  },
  {
   "cell_type": "code",
   "execution_count": 10,
   "id": "ddcfb2c8",
   "metadata": {
    "tags": [
     "remove-input"
    ]
   },
   "outputs": [
    {
     "data": {
      "text/html": [
       "<div class=\"analyticsTable\" style=\"grid-template-columns: 1fr var(--symbol-width) minmax(var(--value-width), min-content) minmax(var(--percentage-width), min-content)\"><div class=\"anaIndex anaEven\">Total Visits</div><div class=\"anaCell anaEven anaSubcolLeft\"></div><div class=\"anaCell anaEven\">353</div><div class=\"anaCell anaEven anaSubcolRight\"><div class=\"anaNegative\">(-14.73%)</div></div></div>"
      ],
      "text/plain": [
       "<IPython.core.display.HTML object>"
      ]
     },
     "metadata": {},
     "output_type": "display_data"
    }
   ],
   "source": [
    "ac.show_difference_table(\"Total Visits\", None, \"sessions\", None, **default_params_catalog)"
   ]
  },
  {
   "cell_type": "markdown",
   "id": "583279a2",
   "metadata": {},
   "source": [
    "## Page Views"
   ]
  },
  {
   "cell_type": "code",
   "execution_count": 11,
   "id": "8226233d",
   "metadata": {
    "tags": [
     "remove-input"
    ]
   },
   "outputs": [
    {
     "data": {
      "text/html": [
       "<div class=\"analyticsTable\" style=\"grid-template-columns: 1fr var(--symbol-width) minmax(var(--value-width), min-content) minmax(var(--percentage-width), min-content)\"><div class=\"anaIndex anaEven\">Total</div><div class=\"anaCell anaEven anaSubcolLeft\"></div><div class=\"anaCell anaEven\">1194</div><div class=\"anaCell anaEven anaSubcolRight\"><div class=\"anaNegative\">(-19.05%)</div></div></div>"
      ],
      "text/plain": [
       "<IPython.core.display.HTML object>"
      ]
     },
     "metadata": {},
     "output_type": "display_data"
    }
   ],
   "source": [
    "ac.show_difference_table(\"Total\", None, \"screenPageViews\", None, **default_params_catalog)"
   ]
  },
  {
   "cell_type": "markdown",
   "id": "6712c955",
   "metadata": {},
   "source": [
    "## Device Category"
   ]
  },
  {
   "cell_type": "code",
   "execution_count": 12,
   "id": "f1943484",
   "metadata": {
    "tags": [
     "remove-input"
    ]
   },
   "outputs": [
    {
     "data": {
      "text/html": [
       "<div class=\"analyticsTable\" style=\"grid-template-columns: 1fr var(--symbol-width) minmax(var(--value-width), min-content) minmax(var(--percentage-width), min-content) minmax(var(--value-width), min-content) minmax(var(--percentage-width), min-content)\"><div class=\"anaIndex anaColName\">Category</div><div class=\"anaColName anaMultiCol\" style=\"grid-column: span 3\">Users</div><div class=\"anaColName anaMultiCol\" style=\"grid-column: span 2\">Percentage of users</div><div class=\"anaIndex anaEven\">desktop</div><div class=\"anaCell anaEven anaSubcolLeft\"></div><div class=\"anaCell anaEven\">197</div><div class=\"anaCell anaEven anaSubcolRight\"><div class=\"anaNegative\">(-0.51%)</div></div><div class=\"anaCell anaEven anaSubcolLeft\">98.50</div><div class=\"anaCell anaEven anaSubcolRight\"><div class=\"anaNegative\">(-0.01%)</div></div><div class=\"anaIndex anaOdd\">mobile</div><div class=\"anaCell anaOdd anaSubcolLeft\"></div><div class=\"anaCell anaOdd\">3</div><div class=\"anaCell anaOdd anaSubcolRight\"><div class=\"anaZero\">(+0.00%)</div></div><div class=\"anaCell anaOdd anaSubcolLeft\">1.50</div><div class=\"anaCell anaOdd anaSubcolRight\"><div class=\"anaPositive\">(+0.50%)</div></div></div>"
      ],
      "text/plain": [
       "<IPython.core.display.HTML object>"
      ]
     },
     "metadata": {},
     "output_type": "display_data"
    }
   ],
   "source": [
    "ac.show_difference_table([\"Users\", \"Percentage of users\"], \"Category\", \"totalUsers\", \"deviceCategory\", percentage_metrics={\"totalUsers\"}, **default_params_catalog)"
   ]
  },
  {
   "cell_type": "markdown",
   "id": "3c2f7065",
   "metadata": {},
   "source": [
    "## Top Referrers"
   ]
  },
  {
   "cell_type": "code",
   "execution_count": 13,
   "id": "f00a116b",
   "metadata": {
    "tags": [
     "remove-input"
    ]
   },
   "outputs": [
    {
     "data": {
      "text/html": [
       "<div class=\"analyticsTable\" style=\"grid-template-columns: 1fr var(--symbol-width) minmax(var(--value-width), min-content) minmax(var(--percentage-width), min-content)\"><div class=\"anaIndex anaColName\">Source Host</div><div class=\"anaColName anaMultiCol\" style=\"grid-column: span 3\">User Sessions</div><div class=\"anaIndex anaEven\">(direct)</div><div class=\"anaCell anaEven anaSubcolLeft\"></div><div class=\"anaCell anaEven\">253</div><div class=\"anaCell anaEven anaSubcolRight\"><div class=\"anaNegative\">(-8.66%)</div></div><div class=\"anaIndex anaOdd\">google</div><div class=\"anaCell anaOdd anaSubcolLeft\"></div><div class=\"anaCell anaOdd\">90</div><div class=\"anaCell anaOdd anaSubcolRight\"><div class=\"anaNegative\">(-14.29%)</div></div><div class=\"anaIndex anaEven\">tagassistant.google.com</div><div class=\"anaCell anaEven anaSubcolLeft\"></div><div class=\"anaCell anaEven\">4</div><div class=\"anaCell anaEven anaSubcolRight\"><div class=\"anaNegative\">(-75.00%)</div></div><div class=\"anaIndex anaOdd\">(not set)</div><div class=\"anaCell anaOdd anaSubcolLeft\"></div><div class=\"anaCell anaOdd\">2</div><div class=\"anaCell anaOdd anaSubcolRight\"><div class=\"anaNegative\">(-66.67%)</div></div><div class=\"anaIndex anaEven\">localhost:3000</div><div class=\"anaCell anaEven anaSubcolLeft\"></div><div class=\"anaCell anaEven\">2</div><div class=\"anaCell anaEven anaSubcolRight\"><div class=\"anaNegative\">(-66.67%)</div></div><div class=\"anaIndex anaOdd\">statics.teams.cdn.office.net</div><div class=\"anaCell anaOdd anaSubcolLeft\"><div class=\"new\"></div></div><div class=\"anaCell anaOdd\">2</div><div class=\"anaCell anaOdd anaSubcolRight\"></div></div>"
      ],
      "text/plain": [
       "<IPython.core.display.HTML object>"
      ]
     },
     "metadata": {},
     "output_type": "display_data"
    }
   ],
   "source": [
    "ac.show_difference_table(\"User Sessions\", \"Source Host\", \"sessions\", \"sessionSource\", **default_params_catalog)"
   ]
  },
  {
   "cell_type": "markdown",
   "id": "974ff8ba",
   "metadata": {},
   "source": [
    "<div style=\"page-break-after: always\"></div>"
   ]
  },
  {
   "cell_type": "markdown",
   "id": "9c170ead",
   "metadata": {},
   "source": [
    "## Social Network Referrers"
   ]
  },
  {
   "cell_type": "code",
   "execution_count": 14,
   "id": "77ed8676",
   "metadata": {
    "tags": [
     "remove-input"
    ]
   },
   "outputs": [
    {
     "data": {
      "text/html": [
       "<div class=\"analyticsTable\" style=\"grid-template-columns: 1fr var(--symbol-width) minmax(var(--value-width), min-content) minmax(var(--percentage-width), min-content)\"><div class=\"anaIndex anaColName\">Social Network</div><div class=\"anaColName anaMultiCol\" style=\"grid-column: span 3\">User Sessions</div></div>"
      ],
      "text/plain": [
       "<IPython.core.display.HTML object>"
      ]
     },
     "metadata": {},
     "output_type": "display_data"
    }
   ],
   "source": [
    "ac.show_difference_table(\"User Sessions\", \"Social Network\", \"sessions\", \"sessionSource\", dimension_filter=\"sessionDefaultChannelGroup=@Organic Social\", **default_params_catalog)"
   ]
  },
  {
   "cell_type": "markdown",
   "id": "d83980c3",
   "metadata": {},
   "source": [
    "## Top Countries"
   ]
  },
  {
   "cell_type": "code",
   "execution_count": 15,
   "id": "41702480",
   "metadata": {
    "tags": [
     "remove-input"
    ]
   },
   "outputs": [
    {
     "data": {
      "text/html": [
       "<div class=\"analyticsTable\" style=\"grid-template-columns: 1fr var(--symbol-width) minmax(var(--value-width), min-content) minmax(var(--percentage-width), min-content)\"><div class=\"anaIndex anaColName\">Country</div><div class=\"anaColName anaMultiCol\" style=\"grid-column: span 3\">Users</div><div class=\"anaIndex anaEven\">United States</div><div class=\"anaCell anaEven anaSubcolLeft\"></div><div class=\"anaCell anaEven\">171</div><div class=\"anaCell anaEven anaSubcolRight\"><div class=\"anaPositive\">(+2.40%)</div></div><div class=\"anaIndex anaOdd\">Canada</div><div class=\"anaCell anaOdd anaSubcolLeft\"><div class=\"up\"></div></div><div class=\"anaCell anaOdd\">4</div><div class=\"anaCell anaOdd anaSubcolRight\"><div class=\"anaPositive\">(+100.00%)</div></div><div class=\"anaIndex anaEven\">China</div><div class=\"anaCell anaEven anaSubcolLeft\"><div class=\"up\"></div></div><div class=\"anaCell anaEven\">4</div><div class=\"anaCell anaEven anaSubcolRight\"><div class=\"anaPositive\">(+33.33%)</div></div><div class=\"anaIndex anaOdd\">United Kingdom</div><div class=\"anaCell anaOdd anaSubcolLeft\"><div class=\"down\"></div></div><div class=\"anaCell anaOdd\">4</div><div class=\"anaCell anaOdd anaSubcolRight\"><div class=\"anaNegative\">(-33.33%)</div></div><div class=\"anaIndex anaEven\">Australia</div><div class=\"anaCell anaEven anaSubcolLeft\"><div class=\"down\"></div></div><div class=\"anaCell anaEven\">4</div><div class=\"anaCell anaEven anaSubcolRight\"><div class=\"anaNegative\">(-20.00%)</div></div><div class=\"anaIndex anaOdd\">France</div><div class=\"anaCell anaOdd anaSubcolLeft\"><div class=\"down\"></div></div><div class=\"anaCell anaOdd\">2</div><div class=\"anaCell anaOdd anaSubcolRight\"><div class=\"anaNegative\">(-33.33%)</div></div><div class=\"anaIndex anaEven\">South Korea</div><div class=\"anaCell anaEven anaSubcolLeft\"><div class=\"up\"></div></div><div class=\"anaCell anaEven\">2</div><div class=\"anaCell anaEven anaSubcolRight\"><div class=\"anaPositive\">(+100.00%)</div></div><div class=\"anaIndex anaOdd\">Iran</div><div class=\"anaCell anaOdd anaSubcolLeft\"><div class=\"new\"></div></div><div class=\"anaCell anaOdd\">1</div><div class=\"anaCell anaOdd anaSubcolRight\"></div><div class=\"anaIndex anaEven\">New Zealand</div><div class=\"anaCell anaEven anaSubcolLeft\"><div class=\"new\"></div></div><div class=\"anaCell anaEven\">1</div><div class=\"anaCell anaEven anaSubcolRight\"></div><div class=\"anaIndex anaOdd\">Mexico</div><div class=\"anaCell anaOdd anaSubcolLeft\"><div class=\"up\"></div></div><div class=\"anaCell anaOdd\">1</div><div class=\"anaCell anaOdd anaSubcolRight\"><div class=\"anaZero\">(+0.00%)</div></div><div class=\"anaIndex anaEven\">Japan</div><div class=\"anaCell anaEven anaSubcolLeft\"><div class=\"new\"></div></div><div class=\"anaCell anaEven\">1</div><div class=\"anaCell anaEven anaSubcolRight\"></div><div class=\"anaIndex anaOdd\">Denmark</div><div class=\"anaCell anaOdd anaSubcolLeft\"><div class=\"new\"></div></div><div class=\"anaCell anaOdd\">1</div><div class=\"anaCell anaOdd anaSubcolRight\"></div><div class=\"anaIndex anaEven\">India</div><div class=\"anaCell anaEven anaSubcolLeft\"><div class=\"up\"></div></div><div class=\"anaCell anaEven\">1</div><div class=\"anaCell anaEven anaSubcolRight\"><div class=\"anaZero\">(+0.00%)</div></div><div class=\"anaIndex anaOdd\">Hong Kong</div><div class=\"anaCell anaOdd anaSubcolLeft\"><div class=\"down\"></div></div><div class=\"anaCell anaOdd\">1</div><div class=\"anaCell anaOdd anaSubcolRight\"><div class=\"anaNegative\">(-50.00%)</div></div><div class=\"anaIndex anaEven\">Germany</div><div class=\"anaCell anaEven anaSubcolLeft\"></div><div class=\"anaCell anaEven\">1</div><div class=\"anaCell anaEven anaSubcolRight\"><div class=\"anaZero\">(+0.00%)</div></div><div class=\"anaIndex anaOdd\">Brazil</div><div class=\"anaCell anaOdd anaSubcolLeft\"><div class=\"up\"></div></div><div class=\"anaCell anaOdd\">1</div><div class=\"anaCell anaOdd anaSubcolRight\"><div class=\"anaZero\">(+0.00%)</div></div><div class=\"anaIndex anaEven\">Zambia</div><div class=\"anaCell anaEven anaSubcolLeft\"><div class=\"up\"></div></div><div class=\"anaCell anaEven\">1</div><div class=\"anaCell anaEven anaSubcolRight\"><div class=\"anaZero\">(+0.00%)</div></div></div>"
      ],
      "text/plain": [
       "<IPython.core.display.HTML object>"
      ]
     },
     "metadata": {},
     "output_type": "display_data"
    }
   ],
   "source": [
    "ac.show_difference_table(\"Users\", \"Country\", \"totalUsers\", \"country\", **default_params_catalog)"
   ]
  },
  {
   "cell_type": "markdown",
   "id": "f4cec2ab",
   "metadata": {},
   "source": [
    "<div style=\"page-break-after: always\"></div>"
   ]
  },
  {
   "cell_type": "markdown",
   "id": "bdc9b340",
   "metadata": {},
   "source": [
    "## Top Pages"
   ]
  },
  {
   "cell_type": "code",
   "execution_count": 16,
   "id": "3b098860",
   "metadata": {
    "tags": [
     "remove-input"
    ]
   },
   "outputs": [
    {
     "data": {
      "text/html": [
       "<div class=\"analyticsTable\" style=\"grid-template-columns: 1fr var(--symbol-width) minmax(var(--value-width), min-content) minmax(var(--percentage-width), min-content)\"><div class=\"anaIndex anaColName\">Page</div><div class=\"anaColName anaMultiCol\" style=\"grid-column: span 3\">Page Views</div><div class=\"anaIndex anaEven\"><a href=\"https://explore.anvilproject.org/datasets\">/datasets</a></div><div class=\"anaCell anaEven anaSubcolLeft\"></div><div class=\"anaCell anaEven\">633</div><div class=\"anaCell anaEven anaSubcolRight\"><div class=\"anaNegative\">(-13.05%)</div></div><div class=\"anaIndex anaOdd\"><a href=\"https://explore.anvilproject.org/login\">/login</a></div><div class=\"anaCell anaOdd anaSubcolLeft\"><div class=\"up\"></div></div><div class=\"anaCell anaOdd\">62</div><div class=\"anaCell anaOdd anaSubcolRight\"><div class=\"anaNegative\">(-33.33%)</div></div><div class=\"anaIndex anaEven\"><a href=\"https://explore.anvilproject.org/datasets/a37c6e75-1ce2-49c3-949e-c1824321f700\">/datasets/a37c6e75-1ce2-49c3-949e-c1824321f700</a></div><div class=\"anaCell anaEven anaSubcolLeft\"><div class=\"up\"></div></div><div class=\"anaCell anaEven\">62</div><div class=\"anaCell anaEven anaSubcolRight\"><div class=\"anaPositive\">(+226.32%)</div></div><div class=\"anaIndex anaOdd\"><a href=\"https://explore.anvilproject.org/files\">/files</a></div><div class=\"anaCell anaOdd anaSubcolLeft\"><div class=\"down\"></div></div><div class=\"anaCell anaOdd\">45</div><div class=\"anaCell anaOdd anaSubcolRight\"><div class=\"anaNegative\">(-57.94%)</div></div><div class=\"anaIndex anaEven\"><a href=\"https://explore.anvilproject.org/donors\">/donors</a></div><div class=\"anaCell anaEven anaSubcolLeft\"><div class=\"up\"></div></div><div class=\"anaCell anaEven\">38</div><div class=\"anaCell anaEven anaSubcolRight\"><div class=\"anaPositive\">(+15.15%)</div></div><div class=\"anaIndex anaOdd\"><a href=\"https://explore.anvilproject.org/guides\">/guides</a></div><div class=\"anaCell anaOdd anaSubcolLeft\"><div class=\"down\"></div></div><div class=\"anaCell anaOdd\">37</div><div class=\"anaCell anaOdd anaSubcolRight\"><div class=\"anaNegative\">(-33.93%)</div></div><div class=\"anaIndex anaEven\"><a href=\"https://explore.anvilproject.org/datasets/a37c6e75-1ce2-49c3-949e-c1824321f700/export-to-terra\">/datasets/a37c6e75-1ce2-49c3-949e-c1824321f700/export-to-terra</a></div><div class=\"anaCell anaEven anaSubcolLeft\"><div class=\"up\"></div></div><div class=\"anaCell anaEven\">28</div><div class=\"anaCell anaEven anaSubcolRight\"><div class=\"anaPositive\">(+154.55%)</div></div><div class=\"anaIndex anaOdd\"><a href=\"https://explore.anvilproject.org/datasets/d976c0b2-712f-4c0b-a0cf-cd26bbdbc8a0\">/datasets/d976c0b2-712f-4c0b-a0cf-cd26bbdbc8a0</a></div><div class=\"anaCell anaOdd anaSubcolLeft\"><div class=\"up\"></div></div><div class=\"anaCell anaOdd\">22</div><div class=\"anaCell anaOdd anaSubcolRight\"><div class=\"anaPositive\">(+120.00%)</div></div><div class=\"anaIndex anaEven\"><a href=\"https://explore.anvilproject.org/datasets/1cfec078-e268-44b8-b2ed-39aa8c45d939\">/datasets/1cfec078-e268-44b8-b2ed-39aa8c45d939</a></div><div class=\"anaCell anaEven anaSubcolLeft\"><div class=\"new\"></div></div><div class=\"anaCell anaEven\">20</div><div class=\"anaCell anaEven anaSubcolRight\"></div><div class=\"anaIndex anaOdd\"><a href=\"https://explore.anvilproject.org/export\">/export</a></div><div class=\"anaCell anaOdd anaSubcolLeft\"><div class=\"down\"></div></div><div class=\"anaCell anaOdd\">18</div><div class=\"anaCell anaOdd anaSubcolRight\"><div class=\"anaNegative\">(-30.77%)</div></div><div class=\"anaIndex anaEven\"><a href=\"https://explore.anvilproject.org/beta-announcement\">/beta-announcement</a></div><div class=\"anaCell anaEven anaSubcolLeft\"><div class=\"down\"></div></div><div class=\"anaCell anaEven\">18</div><div class=\"anaCell anaEven anaSubcolRight\"><div class=\"anaNegative\">(-21.74%)</div></div><div class=\"anaIndex anaOdd\"><a href=\"https://explore.anvilproject.org/biosamples\">/biosamples</a></div><div class=\"anaCell anaOdd anaSubcolLeft\"><div class=\"down\"></div></div><div class=\"anaCell anaOdd\">18</div><div class=\"anaCell anaOdd anaSubcolRight\"><div class=\"anaNegative\">(-45.45%)</div></div><div class=\"anaIndex anaEven\"><a href=\"https://explore.anvilproject.org/YmV0YS1hbm\">/YmV0YS1hbm</a></div><div class=\"anaCell anaEven anaSubcolLeft\"><div class=\"new\"></div></div><div class=\"anaCell anaEven\">14</div><div class=\"anaCell anaEven anaSubcolRight\"></div><div class=\"anaIndex anaOdd\"><a href=\"https://explore.anvilproject.org/datasets/1cfec078-e268-44b8-b2ed-39aa8c45d939/export-to-terra\">/datasets/1cfec078-e268-44b8-b2ed-39aa8c45d939/export-to-terra</a></div><div class=\"anaCell anaOdd anaSubcolLeft\"><div class=\"new\"></div></div><div class=\"anaCell anaOdd\">13</div><div class=\"anaCell anaOdd anaSubcolRight\"></div><div class=\"anaIndex anaEven\"><a href=\"https://explore.anvilproject.org/activities\">/activities</a></div><div class=\"anaCell anaEven anaSubcolLeft\"><div class=\"down\"></div></div><div class=\"anaCell anaEven\">12</div><div class=\"anaCell anaEven anaSubcolRight\"><div class=\"anaNegative\">(-47.83%)</div></div><div class=\"anaIndex anaOdd\"><a href=\"https://explore.anvilproject.org/export/export-to-terra\">/export/export-to-terra</a></div><div class=\"anaCell anaOdd anaSubcolLeft\"><div class=\"down\"></div></div><div class=\"anaCell anaOdd\">9</div><div class=\"anaCell anaOdd anaSubcolRight\"><div class=\"anaNegative\">(-43.75%)</div></div><div class=\"anaIndex anaEven\"><a href=\"https://explore.anvilproject.org/datasets/b62db4f6-f1b9-468b-8bda-5a92504034fd\">/datasets/b62db4f6-f1b9-468b-8bda-5a92504034fd</a></div><div class=\"anaCell anaEven anaSubcolLeft\"><div class=\"up\"></div></div><div class=\"anaCell anaEven\">8</div><div class=\"anaCell anaEven anaSubcolRight\"><div class=\"anaPositive\">(+60.00%)</div></div><div class=\"anaIndex anaOdd\"><a href=\"https://explore.anvilproject.org/datasets/fe016fa5-1b2a-46e4-9256-7bd59c9787a0\">/datasets/fe016fa5-1b2a-46e4-9256-7bd59c9787a0</a></div><div class=\"anaCell anaOdd anaSubcolLeft\"><div class=\"new\"></div></div><div class=\"anaCell anaOdd\">7</div><div class=\"anaCell anaOdd anaSubcolRight\"></div><div class=\"anaIndex anaEven\"><a href=\"https://explore.anvilproject.org/datasets/d58c2195-f5ff-4113-a5ee-da57d1f824c1\">/datasets/d58c2195-f5ff-4113-a5ee-da57d1f824c1</a></div><div class=\"anaCell anaEven anaSubcolLeft\"><div class=\"new\"></div></div><div class=\"anaCell anaEven\">6</div><div class=\"anaCell anaEven anaSubcolRight\"></div><div class=\"anaIndex anaOdd\"><a href=\"https://explore.anvilproject.org/datasets/67e3a5fb-65e5-4d88-99e6-7c28da80cb47\">/datasets/67e3a5fb-65e5-4d88-99e6-7c28da80cb47</a></div><div class=\"anaCell anaOdd anaSubcolLeft\"><div class=\"down\"></div></div><div class=\"anaCell anaOdd\">5</div><div class=\"anaCell anaOdd anaSubcolRight\"><div class=\"anaNegative\">(-61.54%)</div></div><div class=\"anaIndex anaEven\"><a href=\"https://explore.anvilproject.org/datasets/7361d67c-829d-49e9-8e59-c3c55bf554f3\">/datasets/7361d67c-829d-49e9-8e59-c3c55bf554f3</a></div><div class=\"anaCell anaEven anaSubcolLeft\"><div class=\"down\"></div></div><div class=\"anaCell anaEven\">5</div><div class=\"anaCell anaEven anaSubcolRight\"><div class=\"anaNegative\">(-66.67%)</div></div><div class=\"anaIndex anaOdd\"><a href=\"https://explore.anvilproject.org/datasets/5ee7f632-0135-46af-a016-e9d84022adf1\">/datasets/5ee7f632-0135-46af-a016-e9d84022adf1</a></div><div class=\"anaCell anaOdd anaSubcolLeft\"></div><div class=\"anaCell anaOdd\">5</div><div class=\"anaCell anaOdd anaSubcolRight\"><div class=\"anaNegative\">(-28.57%)</div></div><div class=\"anaIndex anaEven\"><a href=\"https://explore.anvilproject.org/datasets/1f227401-8976-451f-9211-1a5dd4cd2336\">/datasets/1f227401-8976-451f-9211-1a5dd4cd2336</a></div><div class=\"anaCell anaEven anaSubcolLeft\"><div class=\"new\"></div></div><div class=\"anaCell anaEven\">4</div><div class=\"anaCell anaEven anaSubcolRight\"></div><div class=\"anaIndex anaOdd\"><a href=\"https://explore.anvilproject.org/datasets/5cbab461-6b15-4e0c-8d86-fe69441f0fdb\">/datasets/5cbab461-6b15-4e0c-8d86-fe69441f0fdb</a></div><div class=\"anaCell anaOdd anaSubcolLeft\"><div class=\"new\"></div></div><div class=\"anaCell anaOdd\">4</div><div class=\"anaCell anaOdd anaSubcolRight\"></div><div class=\"anaIndex anaEven\"><a href=\"https://explore.anvilproject.org/datasets/fb34e786-9146-45f0-b0dd-379463909ecc\">/datasets/fb34e786-9146-45f0-b0dd-379463909ecc</a></div><div class=\"anaCell anaEven anaSubcolLeft\"><div class=\"new\"></div></div><div class=\"anaCell anaEven\">4</div><div class=\"anaCell anaEven anaSubcolRight\"></div><div class=\"anaIndex anaOdd\"><a href=\"https://explore.anvilproject.org/datasets/fe016fa5-1b2a-46e4-9256-7bd59c9787a0/export-to-terra\">/datasets/fe016fa5-1b2a-46e4-9256-7bd59c9787a0/export-to-terra</a></div><div class=\"anaCell anaOdd anaSubcolLeft\"><div class=\"new\"></div></div><div class=\"anaCell anaOdd\">4</div><div class=\"anaCell anaOdd anaSubcolRight\"></div><div class=\"anaIndex anaEven\"><a href=\"https://explore.anvilproject.org/terms-of-service\">/terms-of-service</a></div><div class=\"anaCell anaEven anaSubcolLeft\"><div class=\"new\"></div></div><div class=\"anaCell anaEven\">4</div><div class=\"anaCell anaEven anaSubcolRight\"></div><div class=\"anaIndex anaOdd\"><a href=\"https://explore.anvilproject.org/datasets/aefee21c-dd62-415e-a2cc-cdbef7eb87a4\">/datasets/aefee21c-dd62-415e-a2cc-cdbef7eb87a4</a></div><div class=\"anaCell anaOdd anaSubcolLeft\"><div class=\"new\"></div></div><div class=\"anaCell anaOdd\">3</div><div class=\"anaCell anaOdd anaSubcolRight\"></div><div class=\"anaIndex anaEven\"><a href=\"https://explore.anvilproject.org/export/download-manifest\">/export/download-manifest</a></div><div class=\"anaCell anaEven anaSubcolLeft\"><div class=\"new\"></div></div><div class=\"anaCell anaEven\">3</div><div class=\"anaCell anaEven anaSubcolRight\"></div><div class=\"anaIndex anaOdd\"><a href=\"https://explore.anvilproject.org/datasets/da909a4b-c211-488d-a878-b7cb2d0e54ce/export-to-terra\">/datasets/da909a4b-c211-488d-a878-b7cb2d0e54ce/export-to-terra</a></div><div class=\"anaCell anaOdd anaSubcolLeft\"><div class=\"new\"></div></div><div class=\"anaCell anaOdd\">3</div><div class=\"anaCell anaOdd anaSubcolRight\"></div></div>"
      ],
      "text/plain": [
       "<IPython.core.display.HTML object>"
      ]
     },
     "metadata": {},
     "output_type": "display_data"
    }
   ],
   "source": [
    "ac.show_difference_table(\"Page Views\", \"Page\", \"screenPageViews\", \"pagePath\", **default_params_catalog)"
   ]
  },
  {
   "cell_type": "markdown",
   "id": "6e2487a3",
   "metadata": {},
   "source": [
    "<div style=\"page-break-after: always\"></div>"
   ]
  },
  {
   "cell_type": "markdown",
   "id": "a4d13293",
   "metadata": {},
   "source": [
    "## Top Landing Pages"
   ]
  },
  {
   "cell_type": "code",
   "execution_count": 17,
   "id": "02b2fd3c",
   "metadata": {
    "tags": [
     "remove-input"
    ]
   },
   "outputs": [
    {
     "data": {
      "text/html": [
       "<div class=\"analyticsTable\" style=\"grid-template-columns: 1fr var(--symbol-width) minmax(var(--value-width), min-content) minmax(var(--percentage-width), min-content)\"><div class=\"anaIndex anaColName\">Page</div><div class=\"anaColName anaMultiCol\" style=\"grid-column: span 3\">Entrances</div><div class=\"anaIndex anaEven\"><a href=\"https://explore.anvilproject.org/datasets\">/datasets</a></div><div class=\"anaCell anaEven anaSubcolLeft\"></div><div class=\"anaCell anaEven\">217</div><div class=\"anaCell anaEven anaSubcolRight\"><div class=\"anaNegative\">(-12.50%)</div></div><div class=\"anaIndex anaOdd\">(not set)</div><div class=\"anaCell anaOdd anaSubcolLeft\"></div><div class=\"anaCell anaOdd\">51</div><div class=\"anaCell anaOdd anaSubcolRight\"><div class=\"anaNegative\">(-29.17%)</div></div><div class=\"anaIndex anaEven\"><a href=\"https://explore.anvilproject.org/guides\">/guides</a></div><div class=\"anaCell anaEven anaSubcolLeft\"></div><div class=\"anaCell anaEven\">30</div><div class=\"anaCell anaEven anaSubcolRight\"><div class=\"anaPositive\">(+20.00%)</div></div><div class=\"anaIndex anaOdd\"><a href=\"https://explore.anvilproject.org/beta-announcement\">/beta-announcement</a></div><div class=\"anaCell anaOdd anaSubcolLeft\"></div><div class=\"anaCell anaOdd\">15</div><div class=\"anaCell anaOdd anaSubcolRight\"><div class=\"anaPositive\">(+15.38%)</div></div><div class=\"anaIndex anaEven\"><a href=\"https://explore.anvilproject.org/YmV0YS1hbm\">/YmV0YS1hbm</a></div><div class=\"anaCell anaEven anaSubcolLeft\"><div class=\"new\"></div></div><div class=\"anaCell anaEven\">10</div><div class=\"anaCell anaEven anaSubcolRight\"></div><div class=\"anaIndex anaOdd\"><a href=\"https://explore.anvilproject.org/datasets/a37c6e75-1ce2-49c3-949e-c1824321f700\">/datasets/a37c6e75-1ce2-49c3-949e-c1824321f700</a></div><div class=\"anaCell anaOdd anaSubcolLeft\"><div class=\"new\"></div></div><div class=\"anaCell anaOdd\">4</div><div class=\"anaCell anaOdd anaSubcolRight\"></div><div class=\"anaIndex anaEven\"><a href=\"https://explore.anvilproject.org/\">/</a></div><div class=\"anaCell anaEven anaSubcolLeft\"><div class=\"down\"></div></div><div class=\"anaCell anaEven\">3</div><div class=\"anaCell anaEven anaSubcolRight\"><div class=\"anaNegative\">(-72.73%)</div></div><div class=\"anaIndex anaOdd\"><a href=\"https://explore.anvilproject.org/datasets/d58c2195-f5ff-4113-a5ee-da57d1f824c1\">/datasets/d58c2195-f5ff-4113-a5ee-da57d1f824c1</a></div><div class=\"anaCell anaOdd anaSubcolLeft\"><div class=\"new\"></div></div><div class=\"anaCell anaOdd\">3</div><div class=\"anaCell anaOdd anaSubcolRight\"></div><div class=\"anaIndex anaEven\"><a href=\"https://explore.anvilproject.org/datasets/d976c0b2-712f-4c0b-a0cf-cd26bbdbc8a0\">/datasets/d976c0b2-712f-4c0b-a0cf-cd26bbdbc8a0</a></div><div class=\"anaCell anaEven anaSubcolLeft\"><div class=\"up\"></div></div><div class=\"anaCell anaEven\">3</div><div class=\"anaCell anaEven anaSubcolRight\"><div class=\"anaPositive\">(+200.00%)</div></div><div class=\"anaIndex anaOdd\"><a href=\"https://explore.anvilproject.org/datasets/fe016fa5-1b2a-46e4-9256-7bd59c9787a0\">/datasets/fe016fa5-1b2a-46e4-9256-7bd59c9787a0</a></div><div class=\"anaCell anaOdd anaSubcolLeft\"><div class=\"new\"></div></div><div class=\"anaCell anaOdd\">2</div><div class=\"anaCell anaOdd anaSubcolRight\"></div><div class=\"anaIndex anaEven\"><a href=\"https://explore.anvilproject.org/files\">/files</a></div><div class=\"anaCell anaEven anaSubcolLeft\"><div class=\"down\"></div></div><div class=\"anaCell anaEven\">2</div><div class=\"anaCell anaEven anaSubcolRight\"><div class=\"anaNegative\">(-60.00%)</div></div><div class=\"anaIndex anaOdd\"><a href=\"https://explore.anvilproject.org/donors\">/donors</a></div><div class=\"anaCell anaOdd anaSubcolLeft\"><div class=\"down\"></div></div><div class=\"anaCell anaOdd\">2</div><div class=\"anaCell anaOdd anaSubcolRight\"><div class=\"anaNegative\">(-60.00%)</div></div><div class=\"anaIndex anaEven\"><a href=\"https://explore.anvilproject.org/datasets/67e3a5fb-65e5-4d88-99e6-7c28da80cb47\">/datasets/67e3a5fb-65e5-4d88-99e6-7c28da80cb47</a></div><div class=\"anaCell anaEven anaSubcolLeft\"><div class=\"down\"></div></div><div class=\"anaCell anaEven\">2</div><div class=\"anaCell anaEven anaSubcolRight\"><div class=\"anaNegative\">(-50.00%)</div></div><div class=\"anaIndex anaOdd\"><a href=\"https://explore.anvilproject.org/datasets/b62db4f6-f1b9-468b-8bda-5a92504034fd\">/datasets/b62db4f6-f1b9-468b-8bda-5a92504034fd</a></div><div class=\"anaCell anaOdd anaSubcolLeft\"><div class=\"down\"></div></div><div class=\"anaCell anaOdd\">2</div><div class=\"anaCell anaOdd anaSubcolRight\"><div class=\"anaZero\">(+0.00%)</div></div><div class=\"anaIndex anaEven\"><a href=\"https://explore.anvilproject.org/datasets).\">/datasets).</a></div><div class=\"anaCell anaEven anaSubcolLeft\"><div class=\"down\"></div></div><div class=\"anaCell anaEven\">2</div><div class=\"anaCell anaEven anaSubcolRight\"><div class=\"anaZero\">(+0.00%)</div></div><div class=\"anaIndex anaOdd\"><a href=\"https://explore.anvilproject.org/datasets/3e917bfe-ba9e-4f32-b11e-e7c22ab0d0c7\">/datasets/3e917bfe-ba9e-4f32-b11e-e7c22ab0d0c7</a></div><div class=\"anaCell anaOdd anaSubcolLeft\"><div class=\"down\"></div></div><div class=\"anaCell anaOdd\">1</div><div class=\"anaCell anaOdd anaSubcolRight\"><div class=\"anaNegative\">(-66.67%)</div></div><div class=\"anaIndex anaEven\"><a href=\"https://explore.anvilproject.org/datasets/da69d151-d9f1-4af0-a5be-c3162101ccb3\">/datasets/da69d151-d9f1-4af0-a5be-c3162101ccb3</a></div><div class=\"anaCell anaEven anaSubcolLeft\"><div class=\"down\"></div></div><div class=\"anaCell anaEven\">1</div><div class=\"anaCell anaEven anaSubcolRight\"><div class=\"anaNegative\">(-85.71%)</div></div><div class=\"anaIndex anaOdd\"><a href=\"https://explore.anvilproject.org/datasets/fb34e786-9146-45f0-b0dd-379463909ecc\">/datasets/fb34e786-9146-45f0-b0dd-379463909ecc</a></div><div class=\"anaCell anaOdd anaSubcolLeft\"><div class=\"new\"></div></div><div class=\"anaCell anaOdd\">1</div><div class=\"anaCell anaOdd anaSubcolRight\"></div><div class=\"anaIndex anaEven\"><a href=\"https://explore.anvilproject.org/datasets/fe016fa5-1b2a-46e4-9256-7bd59c9787a0/export-to-terra\">/datasets/fe016fa5-1b2a-46e4-9256-7bd59c9787a0/export-to-terra</a></div><div class=\"anaCell anaEven anaSubcolLeft\"><div class=\"new\"></div></div><div class=\"anaCell anaEven\">1</div><div class=\"anaCell anaEven anaSubcolRight\"></div><div class=\"anaIndex anaOdd\"><a href=\"https://explore.anvilproject.org/privacy\">/privacy</a></div><div class=\"anaCell anaOdd anaSubcolLeft\"><div class=\"new\"></div></div><div class=\"anaCell anaOdd\">1</div><div class=\"anaCell anaOdd anaSubcolRight\"></div></div>"
      ],
      "text/plain": [
       "<IPython.core.display.HTML object>"
      ]
     },
     "metadata": {},
     "output_type": "display_data"
    }
   ],
   "source": [
    "ac.show_difference_table(\"Entrances\", \"Page\", \"sessions\", \"landingPage\", **default_params_catalog)"
   ]
  }
 ],
 "metadata": {
  "celltoolbar": "Tags",
  "kernelspec": {
   "display_name": "venv",
   "language": "python",
   "name": "python3"
  },
  "language_info": {
   "codemirror_mode": {
    "name": "ipython",
    "version": 3
   },
   "file_extension": ".py",
   "mimetype": "text/x-python",
   "name": "python",
   "nbconvert_exporter": "python",
   "pygments_lexer": "ipython3",
   "version": "3.12.4"
  }
 },
 "nbformat": 4,
 "nbformat_minor": 5
}
