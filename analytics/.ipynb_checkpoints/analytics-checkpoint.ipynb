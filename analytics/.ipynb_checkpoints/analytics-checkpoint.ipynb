{
 "cells": [
  {
   "cell_type": "markdown",
   "id": "98bd0cf6",
   "metadata": {},
   "source": [
    "```{image} anvil-logo.png\n",
    ":width: 200px\n",
    ":class: analytics-logo\n",
    "```\n",
    "\n",
    "# AnVIL Portal User Analytics - June vs May 2022\n",
    "\n",
    "This section displays metrics collected from Google Analytics for the AnVIL Portal at https://anvilproject.org and compares June 2022 with the previous month (May 2022). The generation of this report is now coded in Jupyter notebooks and can be rerun easily and modified or consolidated as desired.\n",
    "\n",
    "### Key to tables\n",
    "\n",
    "On the tables:\n",
    "\n",
    "* Diffs e.g. (+19.04%) compare the later month with the previous month.\n",
    "* \"+\" Indicates the entry is new in the report in the current month.\n",
    "* \"↑\" Indicates the entry has moved up in rank since the last month.\n",
    "* \"↓\" Indicates the entry has moved down in rank since the last month."
   ]
  },
  {
   "cell_type": "code",
   "execution_count": 8,
   "id": "c1204f97",
   "metadata": {
    "tags": [
     "remove-cell"
    ]
   },
   "outputs": [],
   "source": [
    "import warnings\n",
    "warnings.filterwarnings('ignore')"
   ]
  },
  {
   "cell_type": "code",
   "execution_count": 1,
   "id": "c19c88f8",
   "metadata": {
    "scrolled": true,
    "tags": [
     "remove-cell"
    ]
   },
   "outputs": [],
   "source": [
    "# !pip install google_auth_oauthlib \n",
    "# !pip install install google-api-python-client\n",
    "# !pip install pandas \n",
    "# !pip install numpy\n",
    "# !pip install matplotlib\n",
    "# !pip install google-cloud-bigquery\n",
    "# !pip install db-dtypes\n",
    "\n",
    "# Analytics package:\n",
    "# !pip install -e \"git+https://github.com/DataBiosphere/data-browser.git@a1ca9cb5da115d6cb71cd0cb9cb79fe3c3e30787#egg=analytics&subdirectory=analytics/hdgar-book/analytics_package\""
   ]
  },
  {
   "cell_type": "code",
   "execution_count": 1,
   "id": "70fb2997",
   "metadata": {
    "tags": [
     "remove-cell"
    ]
   },
   "outputs": [
    {
     "name": "stdout",
     "output_type": "stream",
     "text": [
      "Please visit this URL to authorize this application: https://accounts.google.com/o/oauth2/auth?response_type=code&client_id=526897014808-dq9pt3bmnutqqjdvj1f5roflpgcvqmpt.apps.googleusercontent.com&redirect_uri=http%3A%2F%2Flocalhost%3A8080%2F&scope=https%3A%2F%2Fwww.googleapis.com%2Fauth%2Fanalytics.readonly&state=XymVCRhZXdIUNjGyaPDUAb7u9vKRkX&access_type=offline\n"
     ]
    }
   ],
   "source": [
    "from IPython.display import display\n",
    "import analytics.charts as ac\n",
    "\n",
    "%load_ext autoreload\n",
    "%autoreload 2\n",
    "\n",
    "import analytics_anvil as anvil\n",
    "\n",
    "GA_PROPERTY = \"207946923\" # AnVIL portal\n",
    "ANALYTICS_START = \"2020-02-01\"\n",
    "TODAY = 'today'\n",
    "PERIOD = \"2022-06\"\n",
    "PREV_PERIOD = \"2022-05\"\n",
    "\n",
    "default_params = {\n",
    "    \"property\": GA_PROPERTY,\n",
    "    \"index_key_formatter\": anvil.adjust_table_index_key,\n",
    "    \"period\": PERIOD,\n",
    "    \"prev_period\": PREV_PERIOD,\n",
    "    \"segment\": \"gaid::Wd1ZSCqRRsG3mC6vBpA9yA\"\n",
    "}\n",
    "\n",
    "ac.authenticate_ga('ANVIL_ANALYTICS_REPORTING_CLIENT_SECRET_PATH')"
   ]
  },
  {
   "cell_type": "code",
   "execution_count": 2,
   "id": "3e54340a",
   "metadata": {
    "tags": [
     "remove-input"
    ]
   },
   "outputs": [
    {
     "data": {
      "text/html": [
       "\n",
       "\t\t<style>\n",
       "\t\t\t\n",
       "\t\t\t.analyticsTable {\n",
       "\t\t\t\tdisplay: grid;\n",
       "\t\t\t\t--symbol-width: 1.5em;\n",
       "\t\t\t\t--value-width: 2.9em;\n",
       "\t\t\t\t--percentage-width: 6.8em;\n",
       "\t\t\t}\n",
       "\t\t\t\n",
       "\t\t\t/*\n",
       "\t\t\t.anaEven {\n",
       "\t\t\t\tbackground: #f5f5f5;\n",
       "\t\t\t}\n",
       "\t\t\t*/\n",
       "\t\t\t\n",
       "\t\t\t.anaIndex:not(.anaColName) {\n",
       "\t\t\t\twhite-space: pre-wrap;\n",
       "\t\t\t\tline-break: anywhere;\n",
       "\t\t\t\tword-break: break-all;\n",
       "\t\t\t}\n",
       "\t\t\t\n",
       "\t\t\t.anaColName {\n",
       "\t\t\t\tfont-weight: bold;\n",
       "\t\t\t\tborder-bottom: 1px solid black;\n",
       "\t\t\t}\n",
       "\t\t\t\n",
       "\t\t\t.anaIndex, .anaColName, .anaCell {\n",
       "\t\t\t\tpadding: 0.3em;\n",
       "\t\t\t}\n",
       "\t\t\t\n",
       "\t\t\t.anaSubcolLeft, .anaIndex {\n",
       "\t\t\t\tpadding-left: 1em;\n",
       "\t\t\t}\n",
       "\t\t\t\n",
       "\t\t\t.anaSubcolRight {\n",
       "\t\t\t\tpadding-right: 1em;\n",
       "\t\t\t}\n",
       "\t\t\t\n",
       "\t\t\t.anaColName:not(.anaIndex) {\n",
       "\t\t\t\ttext-align: center;\n",
       "\t\t\t}\n",
       "\t\t\t\n",
       "\t\t\t.anaCell:not(.anaIndex) {\n",
       "\t\t\t\ttext-align: right;\n",
       "\t\t\t}\n",
       "\t\t\t\n",
       "\t\t\t.analyticsTable .up::before {\n",
       "\t\t\t\tcontent: \"↑\";\n",
       "\t\t\t\tcolor: gray;\n",
       "\t\t\t}\n",
       "\t\t\t\n",
       "\t\t\t.analyticsTable .down::before {\n",
       "\t\t\t\tcontent: \"↓\";\n",
       "\t\t\t\tcolor: gray;\n",
       "\t\t\t}\n",
       "\t\t\t\n",
       "\t\t\t.analyticsTable .new::before {\n",
       "\t\t\t\tcontent: \"+\";\n",
       "\t\t\t\tcolor: gray;\n",
       "\t\t\t}\n",
       "\t\t\t\n",
       "\t\t\t.anaPositive {\n",
       "\t\t\t\tcolor: green;\n",
       "\t\t\t}\n",
       "\t\t\t\n",
       "\t\t\t.anaNegative {\n",
       "\t\t\t\tcolor: red;\n",
       "\t\t\t}\n",
       "\t\t\t\n",
       "\t\t</style>\n",
       "\t"
      ],
      "text/plain": [
       "<IPython.core.display.HTML object>"
      ]
     },
     "metadata": {},
     "output_type": "display_data"
    }
   ],
   "source": [
    "ac.init_tables()"
   ]
  },
  {
   "cell_type": "markdown",
   "id": "1919eb1b",
   "metadata": {},
   "source": [
    "## Monthly Users and Page Views (All Time)"
   ]
  },
  {
   "cell_type": "code",
   "execution_count": 5,
   "id": "e55c82e7",
   "metadata": {
    "tags": [
     "remove-input"
    ]
   },
   "outputs": [
    {
     "data": {
      "image/png": "[encoded data removed]",
      "text/plain": [
       "<Figure size 1152x648 with 1 Axes>"
      ]
     },
     "metadata": {
      "needs_background": "light"
     },
     "output_type": "display_data"
    }
   ],
   "source": [
    "users_over_time_table = anvil.plot_users_over_time(start_date=ANALYTICS_START, end_date=TODAY, **default_params)"
   ]
  },
  {
   "cell_type": "code",
   "execution_count": 6,
   "id": "b9203423",
   "metadata": {
    "tags": [
     "remove-input"
    ]
   },
   "outputs": [
    {
     "data": {
      "text/html": [
       "<div class=\"analyticsTable\" style=\"grid-template-columns: repeat(1, auto) 1fr minmax(var(--value-width), min-content) minmax(var(--percentage-width), min-content) minmax(var(--value-width), min-content) minmax(var(--percentage-width), min-content)\"><div class=\"anaIndex anaColName\">Year</div><div class=\"anaIndex anaColName\">Month</div><div class=\"anaColName\" style=\"grid-column: span 2\">Users</div><div class=\"anaColName\" style=\"grid-column: span 2\">Total Pageviews</div><div class=\"anaIndex anaEven\" style=\"grid-row: span 6\">2022</div><div class=\"anaIndex anaEven\" style=\"grid-row: span 1\">June</div><div class=\"anaCell anaEven anaSubcolLeft\">2993</div><div class=\"anaCell anaEven anaSubcolRight\"></div><div class=\"anaCell anaEven anaSubcolLeft\">9510</div><div class=\"anaCell anaEven anaSubcolRight\"></div><div class=\"anaIndex anaOdd\" style=\"grid-row: span 1\">May</div><div class=\"anaCell anaOdd anaSubcolLeft\">3342</div><div class=\"anaCell anaOdd anaSubcolRight\"><div class=\"anaPositive\">(+11.66%)</div></div><div class=\"anaCell anaOdd anaSubcolLeft\">10919</div><div class=\"anaCell anaOdd anaSubcolRight\"><div class=\"anaPositive\">(+14.82%)</div></div><div class=\"anaIndex anaEven\" style=\"grid-row: span 1\">April</div><div class=\"anaCell anaEven anaSubcolLeft\">2586</div><div class=\"anaCell anaEven anaSubcolRight\"><div class=\"anaNegative\">(-22.62%)</div></div><div class=\"anaCell anaEven anaSubcolLeft\">9243</div><div class=\"anaCell anaEven anaSubcolRight\"><div class=\"anaNegative\">(-15.35%)</div></div><div class=\"anaIndex anaOdd\" style=\"grid-row: span 1\">March</div><div class=\"anaCell anaOdd anaSubcolLeft\">3274</div><div class=\"anaCell anaOdd anaSubcolRight\"><div class=\"anaPositive\">(+26.60%)</div></div><div class=\"anaCell anaOdd anaSubcolLeft\">10725</div><div class=\"anaCell anaOdd anaSubcolRight\"><div class=\"anaPositive\">(+16.03%)</div></div><div class=\"anaIndex anaEven\" style=\"grid-row: span 1\">February</div><div class=\"anaCell anaEven anaSubcolLeft\">2689</div><div class=\"anaCell anaEven anaSubcolRight\"><div class=\"anaNegative\">(-17.87%)</div></div><div class=\"anaCell anaEven anaSubcolLeft\">8981</div><div class=\"anaCell anaEven anaSubcolRight\"><div class=\"anaNegative\">(-16.26%)</div></div><div class=\"anaIndex anaOdd\" style=\"grid-row: span 1\">January</div><div class=\"anaCell anaOdd anaSubcolLeft\">2928</div><div class=\"anaCell anaOdd anaSubcolRight\"><div class=\"anaPositive\">(+8.89%)</div></div><div class=\"anaCell anaOdd anaSubcolLeft\">11105</div><div class=\"anaCell anaOdd anaSubcolRight\"><div class=\"anaPositive\">(+23.65%)</div></div><div class=\"anaIndex anaEven\" style=\"grid-row: span 12\">2021</div><div class=\"anaIndex anaEven\" style=\"grid-row: span 1\">December</div><div class=\"anaCell anaEven anaSubcolLeft\">1844</div><div class=\"anaCell anaEven anaSubcolRight\"><div class=\"anaNegative\">(-37.02%)</div></div><div class=\"anaCell anaEven anaSubcolLeft\">6856</div><div class=\"anaCell anaEven anaSubcolRight\"><div class=\"anaNegative\">(-38.26%)</div></div><div class=\"anaIndex anaOdd\" style=\"grid-row: span 1\">November</div><div class=\"anaCell anaOdd anaSubcolLeft\">1930</div><div class=\"anaCell anaOdd anaSubcolRight\"><div class=\"anaPositive\">(+4.66%)</div></div><div class=\"anaCell anaOdd anaSubcolLeft\">7612</div><div class=\"anaCell anaOdd anaSubcolRight\"><div class=\"anaPositive\">(+11.03%)</div></div><div class=\"anaIndex anaEven\" style=\"grid-row: span 1\">October</div><div class=\"anaCell anaEven anaSubcolLeft\">1940</div><div class=\"anaCell anaEven anaSubcolRight\"><div class=\"anaPositive\">(+0.52%)</div></div><div class=\"anaCell anaEven anaSubcolLeft\">8106</div><div class=\"anaCell anaEven anaSubcolRight\"><div class=\"anaPositive\">(+6.49%)</div></div><div class=\"anaIndex anaOdd\" style=\"grid-row: span 1\">September</div><div class=\"anaCell anaOdd anaSubcolLeft\">1602</div><div class=\"anaCell anaOdd anaSubcolRight\"><div class=\"anaNegative\">(-17.42%)</div></div><div class=\"anaCell anaOdd anaSubcolLeft\">7791</div><div class=\"anaCell anaOdd anaSubcolRight\"><div class=\"anaNegative\">(-3.89%)</div></div><div class=\"anaIndex anaEven\" style=\"grid-row: span 1\">August</div><div class=\"anaCell anaEven anaSubcolLeft\">1402</div><div class=\"anaCell anaEven anaSubcolRight\"><div class=\"anaNegative\">(-12.48%)</div></div><div class=\"anaCell anaEven anaSubcolLeft\">6540</div><div class=\"anaCell anaEven anaSubcolRight\"><div class=\"anaNegative\">(-16.06%)</div></div><div class=\"anaIndex anaOdd\" style=\"grid-row: span 1\">July</div><div class=\"anaCell anaOdd anaSubcolLeft\">1381</div><div class=\"anaCell anaOdd anaSubcolRight\"><div class=\"anaNegative\">(-1.50%)</div></div><div class=\"anaCell anaOdd anaSubcolLeft\">6763</div><div class=\"anaCell anaOdd anaSubcolRight\"><div class=\"anaPositive\">(+3.41%)</div></div><div class=\"anaIndex anaEven\" style=\"grid-row: span 1\">June</div><div class=\"anaCell anaEven anaSubcolLeft\">1329</div><div class=\"anaCell anaEven anaSubcolRight\"><div class=\"anaNegative\">(-3.77%)</div></div><div class=\"anaCell anaEven anaSubcolLeft\">6649</div><div class=\"anaCell anaEven anaSubcolRight\"><div class=\"anaNegative\">(-1.69%)</div></div><div class=\"anaIndex anaOdd\" style=\"grid-row: span 1\">May</div><div class=\"anaCell anaOdd anaSubcolLeft\">1409</div><div class=\"anaCell anaOdd anaSubcolRight\"><div class=\"anaPositive\">(+6.02%)</div></div><div class=\"anaCell anaOdd anaSubcolLeft\">6271</div><div class=\"anaCell anaOdd anaSubcolRight\"><div class=\"anaNegative\">(-5.69%)</div></div><div class=\"anaIndex anaEven\" style=\"grid-row: span 1\">April</div><div class=\"anaCell anaEven anaSubcolLeft\">1607</div><div class=\"anaCell anaEven anaSubcolRight\"><div class=\"anaPositive\">(+14.05%)</div></div><div class=\"anaCell anaEven anaSubcolLeft\">7195</div><div class=\"anaCell anaEven anaSubcolRight\"><div class=\"anaPositive\">(+14.73%)</div></div><div class=\"anaIndex anaOdd\" style=\"grid-row: span 1\">March</div><div class=\"anaCell anaOdd anaSubcolLeft\">1585</div><div class=\"anaCell anaOdd anaSubcolRight\"><div class=\"anaNegative\">(-1.37%)</div></div><div class=\"anaCell anaOdd anaSubcolLeft\">7910</div><div class=\"anaCell anaOdd anaSubcolRight\"><div class=\"anaPositive\">(+9.94%)</div></div><div class=\"anaIndex anaEven\" style=\"grid-row: span 1\">February</div><div class=\"anaCell anaEven anaSubcolLeft\">1999</div><div class=\"anaCell anaEven anaSubcolRight\"><div class=\"anaPositive\">(+26.12%)</div></div><div class=\"anaCell anaEven anaSubcolLeft\">7063</div><div class=\"anaCell anaEven anaSubcolRight\"><div class=\"anaNegative\">(-10.71%)</div></div><div class=\"anaIndex anaOdd\" style=\"grid-row: span 1\">January</div><div class=\"anaCell anaOdd anaSubcolLeft\">777</div><div class=\"anaCell anaOdd anaSubcolRight\"><div class=\"anaNegative\">(-61.13%)</div></div><div class=\"anaCell anaOdd anaSubcolLeft\">3614</div><div class=\"anaCell anaOdd anaSubcolRight\"><div class=\"anaNegative\">(-48.83%)</div></div><div class=\"anaIndex anaEven\" style=\"grid-row: span 11\">2020</div><div class=\"anaIndex anaEven\" style=\"grid-row: span 1\">December</div><div class=\"anaCell anaEven anaSubcolLeft\">1019</div><div class=\"anaCell anaEven anaSubcolRight\"><div class=\"anaPositive\">(+31.15%)</div></div><div class=\"anaCell anaEven anaSubcolLeft\">4631</div><div class=\"anaCell anaEven anaSubcolRight\"><div class=\"anaPositive\">(+28.14%)</div></div><div class=\"anaIndex anaOdd\" style=\"grid-row: span 1\">November</div><div class=\"anaCell anaOdd anaSubcolLeft\">954</div><div class=\"anaCell anaOdd anaSubcolRight\"><div class=\"anaNegative\">(-6.38%)</div></div><div class=\"anaCell anaOdd anaSubcolLeft\">3655</div><div class=\"anaCell anaOdd anaSubcolRight\"><div class=\"anaNegative\">(-21.08%)</div></div><div class=\"anaIndex anaEven\" style=\"grid-row: span 1\">October</div><div class=\"anaCell anaEven anaSubcolLeft\">949</div><div class=\"anaCell anaEven anaSubcolRight\"><div class=\"anaNegative\">(-0.52%)</div></div><div class=\"anaCell anaEven anaSubcolLeft\">5167</div><div class=\"anaCell anaEven anaSubcolRight\"><div class=\"anaPositive\">(+41.37%)</div></div><div class=\"anaIndex anaOdd\" style=\"grid-row: span 1\">September</div><div class=\"anaCell anaOdd anaSubcolLeft\">540</div><div class=\"anaCell anaOdd anaSubcolRight\"><div class=\"anaNegative\">(-43.10%)</div></div><div class=\"anaCell anaOdd anaSubcolLeft\">0</div><div class=\"anaCell anaOdd anaSubcolRight\"><div class=\"anaNegative\">(-100.00%)</div></div><div class=\"anaIndex anaEven\" style=\"grid-row: span 1\">August</div><div class=\"anaCell anaEven anaSubcolLeft\">539</div><div class=\"anaCell anaEven anaSubcolRight\"><div class=\"anaNegative\">(-0.19%)</div></div><div class=\"anaCell anaEven anaSubcolLeft\">2472</div><div class=\"anaCell anaEven anaSubcolRight\"></div><div class=\"anaIndex anaOdd\" style=\"grid-row: span 1\">July</div><div class=\"anaCell anaOdd anaSubcolLeft\">894</div><div class=\"anaCell anaOdd anaSubcolRight\"><div class=\"anaPositive\">(+65.86%)</div></div><div class=\"anaCell anaOdd anaSubcolLeft\">3295</div><div class=\"anaCell anaOdd anaSubcolRight\"><div class=\"anaPositive\">(+33.29%)</div></div><div class=\"anaIndex anaEven\" style=\"grid-row: span 1\">June</div><div class=\"anaCell anaEven anaSubcolLeft\">565</div><div class=\"anaCell anaEven anaSubcolRight\"><div class=\"anaNegative\">(-36.80%)</div></div><div class=\"anaCell anaEven anaSubcolLeft\">2108</div><div class=\"anaCell anaEven anaSubcolRight\"><div class=\"anaNegative\">(-36.02%)</div></div><div class=\"anaIndex anaOdd\" style=\"grid-row: span 1\">May</div><div class=\"anaCell anaOdd anaSubcolLeft\">134</div><div class=\"anaCell anaOdd anaSubcolRight\"><div class=\"anaNegative\">(-76.28%)</div></div><div class=\"anaCell anaOdd anaSubcolLeft\">467</div><div class=\"anaCell anaOdd anaSubcolRight\"><div class=\"anaNegative\">(-77.85%)</div></div><div class=\"anaIndex anaEven\" style=\"grid-row: span 1\">April</div><div class=\"anaCell anaEven anaSubcolLeft\">0</div><div class=\"anaCell anaEven anaSubcolRight\"><div class=\"anaNegative\">(-100.00%)</div></div><div class=\"anaCell anaEven anaSubcolLeft\">0</div><div class=\"anaCell anaEven anaSubcolRight\"><div class=\"anaNegative\">(-100.00%)</div></div><div class=\"anaIndex anaOdd\" style=\"grid-row: span 1\">March</div><div class=\"anaCell anaOdd anaSubcolLeft\">0</div><div class=\"anaCell anaOdd anaSubcolRight\"></div><div class=\"anaCell anaOdd anaSubcolLeft\">0</div><div class=\"anaCell anaOdd anaSubcolRight\"></div><div class=\"anaIndex anaEven\" style=\"grid-row: span 1\">February</div><div class=\"anaCell anaEven anaSubcolLeft\">0</div><div class=\"anaCell anaEven anaSubcolRight\"></div><div class=\"anaCell anaEven anaSubcolLeft\">0</div><div class=\"anaCell anaEven anaSubcolRight\"></div></div>"
      ],
      "text/plain": [
       "<IPython.core.display.HTML object>"
      ]
     },
     "metadata": {},
     "output_type": "display_data"
    }
   ],
   "source": [
    "display(users_over_time_table)"
   ]
  },
  {
   "cell_type": "markdown",
   "id": "5a1acbae",
   "metadata": {},
   "source": [
    "## Users and Sessions"
   ]
  },
  {
   "cell_type": "code",
   "execution_count": 5,
   "id": "fe3e5946",
   "metadata": {
    "tags": [
     "remove-input"
    ]
   },
   "outputs": [
    {
     "data": {
      "text/html": [
       "<div class=\"analyticsTable\" style=\"grid-template-columns: 1fr var(--symbol-width) minmax(var(--value-width), min-content) minmax(var(--percentage-width), min-content)\"><div class=\"anaIndex anaEven\">Total Users</div><div class=\"anaCell anaEven anaSubcolLeft\"></div><div class=\"anaCell anaEven\">3389</div><div class=\"anaCell anaEven anaSubcolRight\"><div class=\"anaPositive\">(+31.05%)</div></div></div>"
      ],
      "text/plain": [
       "<IPython.core.display.HTML object>"
      ]
     },
     "metadata": {},
     "output_type": "display_data"
    }
   ],
   "source": [
    "ac.show_difference_table(\"Total Users\", None, \"ga:users\", None, **default_params)"
   ]
  },
  {
   "cell_type": "code",
   "execution_count": 6,
   "id": "630b0d77",
   "metadata": {
    "tags": [
     "remove-input"
    ]
   },
   "outputs": [
    {
     "data": {
      "text/html": [
       "<div class=\"analyticsTable\" style=\"grid-template-columns: 1fr var(--symbol-width) minmax(var(--value-width), min-content) minmax(var(--percentage-width), min-content)\"><div class=\"anaIndex anaEven\">Returning Users</div><div class=\"anaCell anaEven anaSubcolLeft\"></div><div class=\"anaCell anaEven\">833</div><div class=\"anaCell anaEven anaSubcolRight\"><div class=\"anaPositive\">(+33.28%)</div></div></div>"
      ],
      "text/plain": [
       "<IPython.core.display.HTML object>"
      ]
     },
     "metadata": {},
     "output_type": "display_data"
    }
   ],
   "source": [
    "ac.show_difference_table(\"Returning Users\", None, \"ga:users\", None, filters=\"ga:userType==Returning Visitor\", **default_params)"
   ]
  },
  {
   "cell_type": "code",
   "execution_count": 7,
   "id": "e903e8d6",
   "metadata": {
    "tags": [
     "remove-input"
    ]
   },
   "outputs": [
    {
     "data": {
      "text/html": [
       "<div class=\"analyticsTable\" style=\"grid-template-columns: 1fr var(--symbol-width) minmax(var(--value-width), min-content) minmax(var(--percentage-width), min-content)\"><div class=\"anaIndex anaEven\">Total Visits</div><div class=\"anaCell anaEven anaSubcolLeft\"></div><div class=\"anaCell anaEven\">4569</div><div class=\"anaCell anaEven anaSubcolRight\"><div class=\"anaPositive\">(+26.29%)</div></div></div>"
      ],
      "text/plain": [
       "<IPython.core.display.HTML object>"
      ]
     },
     "metadata": {},
     "output_type": "display_data"
    }
   ],
   "source": [
    "ac.show_difference_table(\"Total Visits\", None, \"ga:sessions\", None, **default_params)"
   ]
  },
  {
   "cell_type": "markdown",
   "id": "583279a2",
   "metadata": {},
   "source": [
    "## Page Views"
   ]
  },
  {
   "cell_type": "code",
   "execution_count": 32,
   "id": "a9f7deb0",
   "metadata": {
    "tags": [
     "remove-input"
    ]
   },
   "outputs": [
    {
     "data": {
      "text/html": [
       "<div class=\"analyticsTable\" style=\"grid-template-columns: 1fr var(--symbol-width) minmax(var(--value-width), min-content) minmax(var(--percentage-width), min-content)\"><div class=\"anaIndex anaEven\">Total</div><div class=\"anaCell anaEven anaSubcolLeft\"></div><div class=\"anaCell anaEven\">10919</div><div class=\"anaCell anaEven anaSubcolRight\"><div class=\"anaPositive\">(+18.13%)</div></div></div>"
      ],
      "text/plain": [
       "<IPython.core.display.HTML object>"
      ]
     },
     "metadata": {},
     "output_type": "display_data"
    }
   ],
   "source": [
    "ac.show_difference_table(\"Total\", None, \"ga:pageviews\", None, **default_params)"
   ]
  },
  {
   "cell_type": "markdown",
   "id": "3c2f7065",
   "metadata": {},
   "source": [
    "## Top Referrers"
   ]
  },
  {
   "cell_type": "markdown",
   "id": "e462fcfd",
   "metadata": {},
   "source": [
    "### By Referring Host"
   ]
  },
  {
   "cell_type": "code",
   "execution_count": 7,
   "id": "532593fc",
   "metadata": {
    "tags": [
     "remove-input"
    ]
   },
   "outputs": [
    {
     "data": {
      "text/html": [
       "<div class=\"analyticsTable\" style=\"grid-template-columns: 1fr var(--symbol-width) minmax(var(--value-width), min-content) minmax(var(--percentage-width), min-content)\"><div class=\"anaIndex anaColName\">Source Host</div><div class=\"anaColName\" style=\"grid-column: span 3\">User Sessions</div><div class=\"anaIndex anaEven\">google</div><div class=\"anaCell anaEven anaSubcolLeft\"></div><div class=\"anaCell anaEven\">2224</div><div class=\"anaCell anaEven anaSubcolRight\"><div class=\"anaNegative\">(-4.75%)</div></div><div class=\"anaIndex anaOdd\">(direct)</div><div class=\"anaCell anaOdd anaSubcolLeft\"></div><div class=\"anaCell anaOdd\">1398</div><div class=\"anaCell anaOdd anaSubcolRight\"><div class=\"anaNegative\">(-14.44%)</div></div><div class=\"anaIndex anaEven\">gtexportal.org</div><div class=\"anaCell anaEven anaSubcolLeft\"><div class=\"up\"></div></div><div class=\"anaCell anaEven\">52</div><div class=\"anaCell anaEven anaSubcolRight\"><div class=\"anaNegative\">(-22.39%)</div></div><div class=\"anaIndex anaOdd\">bing</div><div class=\"anaCell anaOdd anaSubcolLeft\"><div class=\"up\"></div></div><div class=\"anaCell anaOdd\">46</div><div class=\"anaCell anaOdd anaSubcolRight\"><div class=\"anaPositive\">(+4.55%)</div></div><div class=\"anaIndex anaEven\">datascience.nih.gov</div><div class=\"anaCell anaEven anaSubcolLeft\"><div class=\"down\"></div></div><div class=\"anaCell anaEven\">41</div><div class=\"anaCell anaEven anaSubcolRight\"><div class=\"anaNegative\">(-46.05%)</div></div><div class=\"anaIndex anaOdd\">ncbi.nlm.nih.gov</div><div class=\"anaCell anaOdd anaSubcolLeft\"><div class=\"up\"></div></div><div class=\"anaCell anaOdd\">32</div><div class=\"anaCell anaOdd anaSubcolRight\"><div class=\"anaZero\">(+0.00%)</div></div><div class=\"anaIndex anaEven\">sharing.nih.gov</div><div class=\"anaCell anaEven anaSubcolLeft\"><div class=\"up\"></div></div><div class=\"anaCell anaEven\">28</div><div class=\"anaCell anaEven anaSubcolRight\"><div class=\"anaPositive\">(+40.00%)</div></div><div class=\"anaIndex anaOdd\">genome.gov</div><div class=\"anaCell anaOdd anaSubcolLeft\"></div><div class=\"anaCell anaOdd\">28</div><div class=\"anaCell anaOdd anaSubcolRight\"><div class=\"anaPositive\">(+27.27%)</div></div><div class=\"anaIndex anaEven\">t.co</div><div class=\"anaCell anaEven anaSubcolLeft\"><div class=\"up\"></div></div><div class=\"anaCell anaEven\">26</div><div class=\"anaCell anaEven anaSubcolRight\"><div class=\"anaPositive\">(+52.94%)</div></div><div class=\"anaIndex anaOdd\">linkedin.com</div><div class=\"anaCell anaOdd anaSubcolLeft\"><div class=\"new\"></div></div><div class=\"anaCell anaOdd\">26</div><div class=\"anaCell anaOdd anaSubcolRight\"></div><div class=\"anaIndex anaEven\">galaxyproject.org</div><div class=\"anaCell anaEven anaSubcolLeft\"><div class=\"down\"></div></div><div class=\"anaCell anaEven\">18</div><div class=\"anaCell anaEven anaSubcolRight\"><div class=\"anaNegative\">(-10.00%)</div></div><div class=\"anaIndex anaOdd\">duckduckgo</div><div class=\"anaCell anaOdd anaSubcolLeft\"><div class=\"up\"></div></div><div class=\"anaCell anaOdd\">17</div><div class=\"anaCell anaOdd anaSubcolRight\"><div class=\"anaPositive\">(+142.86%)</div></div><div class=\"anaIndex anaEven\">NHGRI Email Updates</div><div class=\"anaCell anaEven anaSubcolLeft\"><div class=\"new\"></div></div><div class=\"anaCell anaEven\">12</div><div class=\"anaCell anaEven anaSubcolRight\"></div><div class=\"anaIndex anaOdd\">github.com</div><div class=\"anaCell anaOdd anaSubcolLeft\"><div class=\"down\"></div></div><div class=\"anaCell anaOdd\">12</div><div class=\"anaCell anaOdd anaSubcolRight\"><div class=\"anaZero\">(+0.00%)</div></div><div class=\"anaIndex anaEven\">bioconductor.org</div><div class=\"anaCell anaEven anaSubcolLeft\"><div class=\"up\"></div></div><div class=\"anaCell anaEven\">11</div><div class=\"anaCell anaEven anaSubcolRight\"><div class=\"anaPositive\">(+57.14%)</div></div><div class=\"anaIndex anaOdd\">app.terra.bio</div><div class=\"anaCell anaOdd anaSubcolLeft\"><div class=\"down\"></div></div><div class=\"anaCell anaOdd\">11</div><div class=\"anaCell anaOdd anaSubcolRight\"><div class=\"anaPositive\">(+37.50%)</div></div><div class=\"anaIndex anaEven\">anvil.terra.bio</div><div class=\"anaCell anaEven anaSubcolLeft\"><div class=\"up\"></div></div><div class=\"anaCell anaEven\">9</div><div class=\"anaCell anaEven anaSubcolRight\"><div class=\"anaPositive\">(+200.00%)</div></div><div class=\"anaIndex anaOdd\">sbgdev.atlassian.net</div><div class=\"anaCell anaOdd anaSubcolLeft\"><div class=\"new\"></div></div><div class=\"anaCell anaOdd\">8</div><div class=\"anaCell anaOdd anaSubcolRight\"></div><div class=\"anaIndex anaEven\">internationalgenome.org</div><div class=\"anaCell anaEven anaSubcolLeft\"><div class=\"down\"></div></div><div class=\"anaCell anaEven\">8</div><div class=\"anaCell anaEven anaSubcolRight\"><div class=\"anaZero\">(+0.00%)</div></div><div class=\"anaIndex anaOdd\">dbgap.ncbi.nlm.nih.gov</div><div class=\"anaCell anaOdd anaSubcolLeft\"><div class=\"down\"></div></div><div class=\"anaCell anaOdd\">7</div><div class=\"anaCell anaOdd anaSubcolRight\"><div class=\"anaNegative\">(-41.67%)</div></div><div class=\"anaIndex anaEven\">jhudatascience.org</div><div class=\"anaCell anaEven anaSubcolLeft\"><div class=\"up\"></div></div><div class=\"anaCell anaEven\">7</div><div class=\"anaCell anaEven anaSubcolRight\"><div class=\"anaPositive\">(+75.00%)</div></div><div class=\"anaIndex anaOdd\">training.nih-cfde.org</div><div class=\"anaCell anaOdd anaSubcolLeft\"><div class=\"new\"></div></div><div class=\"anaCell anaOdd\">7</div><div class=\"anaCell anaOdd anaSubcolRight\"></div><div class=\"anaIndex anaEven\">anvil.bioconductor.org</div><div class=\"anaCell anaEven anaSubcolLeft\"></div><div class=\"anaCell anaEven\">6</div><div class=\"anaCell anaEven anaSubcolRight\"><div class=\"anaZero\">(+0.00%)</div></div><div class=\"anaIndex anaOdd\">docs.google.com</div><div class=\"anaCell anaOdd anaSubcolLeft\"><div class=\"new\"></div></div><div class=\"anaCell anaOdd\">6</div><div class=\"anaCell anaOdd anaSubcolRight\"></div><div class=\"anaIndex anaEven\">anvilproject-org.translate.goog</div><div class=\"anaCell anaEven anaSubcolLeft\"><div class=\"down\"></div></div><div class=\"anaCell anaEven\">6</div><div class=\"anaCell anaEven anaSubcolRight\"><div class=\"anaNegative\">(-64.71%)</div></div><div class=\"anaIndex anaOdd\">yahoo</div><div class=\"anaCell anaOdd anaSubcolLeft\"><div class=\"down\"></div></div><div class=\"anaCell anaOdd\">5</div><div class=\"anaCell anaOdd anaSubcolRight\"><div class=\"anaNegative\">(-37.50%)</div></div><div class=\"anaIndex anaEven\">quip-amazon.com</div><div class=\"anaCell anaEven anaSubcolLeft\"><div class=\"new\"></div></div><div class=\"anaCell anaEven\">5</div><div class=\"anaCell anaEven anaSubcolRight\"></div><div class=\"anaIndex anaOdd\">statics.teams.cdn.office.net</div><div class=\"anaCell anaOdd anaSubcolLeft\"><div class=\"new\"></div></div><div class=\"anaCell anaOdd\">5</div><div class=\"anaCell anaOdd anaSubcolRight\"></div><div class=\"anaIndex anaEven\">youtube.com</div><div class=\"anaCell anaEven anaSubcolLeft\"><div class=\"new\"></div></div><div class=\"anaCell anaEven\">5</div><div class=\"anaCell anaEven anaSubcolRight\"></div><div class=\"anaIndex anaOdd\">cbiit.webex.com</div><div class=\"anaCell anaOdd anaSubcolLeft\"><div class=\"new\"></div></div><div class=\"anaCell anaOdd\">5</div><div class=\"anaCell anaOdd anaSubcolRight\"></div></div>"
      ],
      "text/plain": [
       "<IPython.core.display.HTML object>"
      ]
     },
     "metadata": {},
     "output_type": "display_data"
    }
   ],
   "source": [
    "ac.show_difference_table(\"User Sessions\", \"Source Host\", \"ga:sessions\", \"ga:source\", **default_params)"
   ]
  },
  {
   "cell_type": "markdown",
   "id": "965536e6",
   "metadata": {},
   "source": [
    "<div style=\"page-break-after: always\"></div>"
   ]
  },
  {
   "cell_type": "markdown",
   "id": "3ebd185b",
   "metadata": {},
   "source": [
    "### By Full Referrer"
   ]
  },
  {
   "cell_type": "code",
   "execution_count": 4,
   "id": "8644e071",
   "metadata": {
    "tags": [
     "remove-input"
    ]
   },
   "outputs": [
    {
     "data": {
      "text/html": [
       "<div class=\"analyticsTable\" style=\"grid-template-columns: 1fr var(--symbol-width) minmax(var(--value-width), min-content) minmax(var(--percentage-width), min-content)\"><div class=\"anaIndex anaColName\">Source</div><div class=\"anaColName\" style=\"grid-column: span 3\">User Sessions</div><div class=\"anaIndex anaEven\">google</div><div class=\"anaCell anaEven anaSubcolLeft\"></div><div class=\"anaCell anaEven\">2224</div><div class=\"anaCell anaEven anaSubcolRight\"><div class=\"anaNegative\">(-4.75%)</div></div><div class=\"anaIndex anaOdd\">(direct)</div><div class=\"anaCell anaOdd anaSubcolLeft\"></div><div class=\"anaCell anaOdd\">1398</div><div class=\"anaCell anaOdd anaSubcolRight\"><div class=\"anaNegative\">(-14.44%)</div></div><div class=\"anaIndex anaEven\">gtexportal.org/</div><div class=\"anaCell anaEven anaSubcolLeft\"><div class=\"up\"></div></div><div class=\"anaCell anaEven\">51</div><div class=\"anaCell anaEven anaSubcolRight\"><div class=\"anaNegative\">(-22.73%)</div></div><div class=\"anaIndex anaOdd\">bing</div><div class=\"anaCell anaOdd anaSubcolLeft\"><div class=\"up\"></div></div><div class=\"anaCell anaOdd\">46</div><div class=\"anaCell anaOdd anaSubcolRight\"><div class=\"anaPositive\">(+4.55%)</div></div><div class=\"anaIndex anaEven\">datascience.nih.gov/</div><div class=\"anaCell anaEven anaSubcolLeft\"><div class=\"down\"></div></div><div class=\"anaCell anaEven\">41</div><div class=\"anaCell anaEven anaSubcolRight\"><div class=\"anaNegative\">(-46.05%)</div></div><div class=\"anaIndex anaOdd\">ncbi.nlm.nih.gov/</div><div class=\"anaCell anaOdd anaSubcolLeft\"><div class=\"up\"></div></div><div class=\"anaCell anaOdd\">32</div><div class=\"anaCell anaOdd anaSubcolRight\"><div class=\"anaZero\">(+0.00%)</div></div><div class=\"anaIndex anaEven\">sharing.nih.gov/</div><div class=\"anaCell anaEven anaSubcolLeft\"><div class=\"up\"></div></div><div class=\"anaCell anaEven\">28</div><div class=\"anaCell anaEven anaSubcolRight\"><div class=\"anaPositive\">(+47.37%)</div></div><div class=\"anaIndex anaOdd\">genome.gov/</div><div class=\"anaCell anaOdd anaSubcolLeft\"></div><div class=\"anaCell anaOdd\">27</div><div class=\"anaCell anaOdd anaSubcolRight\"><div class=\"anaPositive\">(+28.57%)</div></div><div class=\"anaIndex anaEven\">linkedin.com/</div><div class=\"anaCell anaEven anaSubcolLeft\"><div class=\"new\"></div></div><div class=\"anaCell anaEven\">26</div><div class=\"anaCell anaEven anaSubcolRight\"></div><div class=\"anaIndex anaOdd\">t.co/</div><div class=\"anaCell anaOdd anaSubcolLeft\"><div class=\"up\"></div></div><div class=\"anaCell anaOdd\">23</div><div class=\"anaCell anaOdd anaSubcolRight\"><div class=\"anaPositive\">(+283.33%)</div></div><div class=\"anaIndex anaEven\">galaxyproject.org/</div><div class=\"anaCell anaEven anaSubcolLeft\"><div class=\"down\"></div></div><div class=\"anaCell anaEven\">18</div><div class=\"anaCell anaEven anaSubcolRight\"><div class=\"anaNegative\">(-5.26%)</div></div><div class=\"anaIndex anaOdd\">duckduckgo</div><div class=\"anaCell anaOdd anaSubcolLeft\"><div class=\"up\"></div></div><div class=\"anaCell anaOdd\">17</div><div class=\"anaCell anaOdd anaSubcolRight\"><div class=\"anaPositive\">(+142.86%)</div></div><div class=\"anaIndex anaEven\">NHGRI Email Updates</div><div class=\"anaCell anaEven anaSubcolLeft\"><div class=\"new\"></div></div><div class=\"anaCell anaEven\">12</div><div class=\"anaCell anaEven anaSubcolRight\"></div><div class=\"anaIndex anaOdd\">app.terra.bio/</div><div class=\"anaCell anaOdd anaSubcolLeft\"><div class=\"up\"></div></div><div class=\"anaCell anaOdd\">11</div><div class=\"anaCell anaOdd anaSubcolRight\"><div class=\"anaPositive\">(+37.50%)</div></div><div class=\"anaIndex anaEven\">bioconductor.org/</div><div class=\"anaCell anaEven anaSubcolLeft\"><div class=\"up\"></div></div><div class=\"anaCell anaEven\">11</div><div class=\"anaCell anaEven anaSubcolRight\"><div class=\"anaPositive\">(+57.14%)</div></div><div class=\"anaIndex anaOdd\">anvil.terra.bio/</div><div class=\"anaCell anaOdd anaSubcolLeft\"><div class=\"up\"></div></div><div class=\"anaCell anaOdd\">9</div><div class=\"anaCell anaOdd anaSubcolRight\"><div class=\"anaPositive\">(+200.00%)</div></div><div class=\"anaIndex anaEven\">sbgdev.atlassian.net/</div><div class=\"anaCell anaEven anaSubcolLeft\"><div class=\"new\"></div></div><div class=\"anaCell anaEven\">8</div><div class=\"anaCell anaEven anaSubcolRight\"></div><div class=\"anaIndex anaOdd\">internationalgenome.org/</div><div class=\"anaCell anaOdd anaSubcolLeft\"><div class=\"down\"></div></div><div class=\"anaCell anaOdd\">8</div><div class=\"anaCell anaOdd anaSubcolRight\"><div class=\"anaZero\">(+0.00%)</div></div><div class=\"anaIndex anaEven\">dbgap.ncbi.nlm.nih.gov/</div><div class=\"anaCell anaEven anaSubcolLeft\"><div class=\"down\"></div></div><div class=\"anaCell anaEven\">7</div><div class=\"anaCell anaEven anaSubcolRight\"><div class=\"anaNegative\">(-41.67%)</div></div><div class=\"anaIndex anaOdd\">training.nih-cfde.org/en/latest/Bioinformatic-Analyses/RNAseq-on-Cavatica/rna_seq_9/</div><div class=\"anaCell anaOdd anaSubcolLeft\"><div class=\"new\"></div></div><div class=\"anaCell anaOdd\">7</div><div class=\"anaCell anaOdd anaSubcolRight\"></div><div class=\"anaIndex anaEven\">jhudatascience.org/</div><div class=\"anaCell anaEven anaSubcolLeft\"><div class=\"up\"></div></div><div class=\"anaCell anaEven\">7</div><div class=\"anaCell anaEven anaSubcolRight\"><div class=\"anaPositive\">(+75.00%)</div></div><div class=\"anaIndex anaOdd\">github.com/anvilproject/anvil-portal/issues/1991</div><div class=\"anaCell anaOdd anaSubcolLeft\"><div class=\"new\"></div></div><div class=\"anaCell anaOdd\">6</div><div class=\"anaCell anaOdd anaSubcolRight\"></div><div class=\"anaIndex anaEven\">anvil.bioconductor.org/</div><div class=\"anaCell anaEven anaSubcolLeft\"><div class=\"down\"></div></div><div class=\"anaCell anaEven\">6</div><div class=\"anaCell anaEven anaSubcolRight\"><div class=\"anaZero\">(+0.00%)</div></div><div class=\"anaIndex anaOdd\">docs.google.com/</div><div class=\"anaCell anaOdd anaSubcolLeft\"><div class=\"new\"></div></div><div class=\"anaCell anaOdd\">6</div><div class=\"anaCell anaOdd anaSubcolRight\"></div><div class=\"anaIndex anaEven\">yahoo</div><div class=\"anaCell anaEven anaSubcolLeft\"><div class=\"down\"></div></div><div class=\"anaCell anaEven\">5</div><div class=\"anaCell anaEven anaSubcolRight\"><div class=\"anaNegative\">(-37.50%)</div></div><div class=\"anaIndex anaOdd\">quip-amazon.com/</div><div class=\"anaCell anaOdd anaSubcolLeft\"><div class=\"new\"></div></div><div class=\"anaCell anaOdd\">5</div><div class=\"anaCell anaOdd anaSubcolRight\"></div><div class=\"anaIndex anaEven\">statics.teams.cdn.office.net/</div><div class=\"anaCell anaEven anaSubcolLeft\"><div class=\"new\"></div></div><div class=\"anaCell anaEven\">5</div><div class=\"anaCell anaEven anaSubcolRight\"></div><div class=\"anaIndex anaOdd\">youtube.com/</div><div class=\"anaCell anaOdd anaSubcolLeft\"><div class=\"new\"></div></div><div class=\"anaCell anaOdd\">5</div><div class=\"anaCell anaOdd anaSubcolRight\"></div><div class=\"anaIndex anaEven\">cbiit.webex.com/</div><div class=\"anaCell anaEven anaSubcolLeft\"><div class=\"new\"></div></div><div class=\"anaCell anaEven\">5</div><div class=\"anaCell anaEven anaSubcolRight\"></div><div class=\"anaIndex anaOdd\">ecosia.org</div><div class=\"anaCell anaOdd anaSubcolLeft\"><div class=\"new\"></div></div><div class=\"anaCell anaOdd\">4</div><div class=\"anaCell anaOdd anaSubcolRight\"></div></div>"
      ],
      "text/plain": [
       "<IPython.core.display.HTML object>"
      ]
     },
     "metadata": {},
     "output_type": "display_data"
    }
   ],
   "source": [
    "ac.show_difference_table(\"User Sessions\", \"Source\", \"ga:sessions\", \"ga:fullReferrer\", **default_params)"
   ]
  },
  {
   "cell_type": "markdown",
   "id": "f9b0c3e9",
   "metadata": {},
   "source": [
    "## Social Network Referrers"
   ]
  },
  {
   "cell_type": "code",
   "execution_count": 9,
   "id": "e169f1ba",
   "metadata": {
    "tags": [
     "remove-input"
    ]
   },
   "outputs": [
    {
     "data": {
      "text/html": [
       "<div class=\"analyticsTable\" style=\"grid-template-columns: 1fr var(--symbol-width) minmax(var(--value-width), min-content) minmax(var(--percentage-width), min-content)\"><div class=\"anaIndex anaColName\">Social Network</div><div class=\"anaColName\" style=\"grid-column: span 3\">User Sessions</div><div class=\"anaIndex anaEven\">(not set)</div><div class=\"anaCell anaEven anaSubcolLeft\"></div><div class=\"anaCell anaEven\">4551</div><div class=\"anaCell anaEven anaSubcolRight\"><div class=\"anaPositive\">(+26.24%)</div></div><div class=\"anaIndex anaOdd\">Twitter</div><div class=\"anaCell anaOdd anaSubcolLeft\"></div><div class=\"anaCell anaOdd\">17</div><div class=\"anaCell anaOdd anaSubcolRight\"><div class=\"anaPositive\">(+54.55%)</div></div><div class=\"anaIndex anaEven\">LinkedIn</div><div class=\"anaCell anaEven anaSubcolLeft\"><div class=\"new\"></div></div><div class=\"anaCell anaEven\">1</div><div class=\"anaCell anaEven anaSubcolRight\"></div></div>"
      ],
      "text/plain": [
       "<IPython.core.display.HTML object>"
      ]
     },
     "metadata": {},
     "output_type": "display_data"
    }
   ],
   "source": [
    "ac.show_difference_table(\"User Sessions\", \"Social Network\", \"ga:sessions\", \"ga:socialNetwork\", **default_params)"
   ]
  },
  {
   "cell_type": "markdown",
   "id": "d83980c3",
   "metadata": {},
   "source": [
    "## Top Countries"
   ]
  },
  {
   "cell_type": "code",
   "execution_count": 10,
   "id": "4ff4cfa6",
   "metadata": {
    "tags": [
     "remove-input"
    ]
   },
   "outputs": [
    {
     "data": {
      "text/html": [
       "<div class=\"analyticsTable\" style=\"grid-template-columns: 1fr var(--symbol-width) minmax(var(--value-width), min-content) minmax(var(--percentage-width), min-content)\"><div class=\"anaIndex anaColName\">Country</div><div class=\"anaColName\" style=\"grid-column: span 3\">Users</div><div class=\"anaIndex anaEven\">United States</div><div class=\"anaCell anaEven anaSubcolLeft\"></div><div class=\"anaCell anaEven\">1423</div><div class=\"anaCell anaEven anaSubcolRight\"><div class=\"anaPositive\">(+10.48%)</div></div><div class=\"anaIndex anaOdd\">India</div><div class=\"anaCell anaOdd anaSubcolLeft\"></div><div class=\"anaCell anaOdd\">263</div><div class=\"anaCell anaOdd anaSubcolRight\"><div class=\"anaPositive\">(+17.41%)</div></div><div class=\"anaIndex anaEven\">Japan</div><div class=\"anaCell anaEven anaSubcolLeft\"><div class=\"up\"></div></div><div class=\"anaCell anaEven\">104</div><div class=\"anaCell anaEven anaSubcolRight\"><div class=\"anaPositive\">(+89.09%)</div></div><div class=\"anaIndex anaOdd\">United Kingdom</div><div class=\"anaCell anaOdd anaSubcolLeft\"><div class=\"down\"></div></div><div class=\"anaCell anaOdd\">91</div><div class=\"anaCell anaOdd anaSubcolRight\"><div class=\"anaZero\">(+0.00%)</div></div><div class=\"anaIndex anaEven\">Germany</div><div class=\"anaCell anaEven anaSubcolLeft\"><div class=\"down\"></div></div><div class=\"anaCell anaEven\">76</div><div class=\"anaCell anaEven anaSubcolRight\"><div class=\"anaPositive\">(+22.58%)</div></div><div class=\"anaIndex anaOdd\">China</div><div class=\"anaCell anaOdd anaSubcolLeft\"><div class=\"up\"></div></div><div class=\"anaCell anaOdd\">70</div><div class=\"anaCell anaOdd anaSubcolRight\"><div class=\"anaPositive\">(+84.21%)</div></div><div class=\"anaIndex anaEven\">Australia</div><div class=\"anaCell anaEven anaSubcolLeft\"></div><div class=\"anaCell anaEven\">67</div><div class=\"anaCell anaEven anaSubcolRight\"><div class=\"anaPositive\">(+55.81%)</div></div><div class=\"anaIndex anaOdd\">Canada</div><div class=\"anaCell anaOdd anaSubcolLeft\"><div class=\"down\"></div></div><div class=\"anaCell anaOdd\">67</div><div class=\"anaCell anaOdd anaSubcolRight\"><div class=\"anaPositive\">(+28.85%)</div></div><div class=\"anaIndex anaEven\">Brazil</div><div class=\"anaCell anaEven anaSubcolLeft\"><div class=\"up\"></div></div><div class=\"anaCell anaEven\">58</div><div class=\"anaCell anaEven anaSubcolRight\"><div class=\"anaPositive\">(+65.71%)</div></div><div class=\"anaIndex anaOdd\">France</div><div class=\"anaCell anaOdd anaSubcolLeft\"><div class=\"down\"></div></div><div class=\"anaCell anaOdd\">57</div><div class=\"anaCell anaOdd anaSubcolRight\"><div class=\"anaPositive\">(+50.00%)</div></div><div class=\"anaIndex anaEven\">Spain</div><div class=\"anaCell anaEven anaSubcolLeft\"></div><div class=\"anaCell anaEven\">55</div><div class=\"anaCell anaEven anaSubcolRight\"><div class=\"anaPositive\">(+66.67%)</div></div><div class=\"anaIndex anaOdd\">Russia</div><div class=\"anaCell anaOdd anaSubcolLeft\"><div class=\"up\"></div></div><div class=\"anaCell anaOdd\">46</div><div class=\"anaCell anaOdd anaSubcolRight\"><div class=\"anaPositive\">(+119.05%)</div></div><div class=\"anaIndex anaEven\">Nigeria</div><div class=\"anaCell anaEven anaSubcolLeft\"><div class=\"new\"></div></div><div class=\"anaCell anaEven\">35</div><div class=\"anaCell anaEven anaSubcolRight\"></div><div class=\"anaIndex anaOdd\">Bangladesh</div><div class=\"anaCell anaOdd anaSubcolLeft\"><div class=\"new\"></div></div><div class=\"anaCell anaOdd\">35</div><div class=\"anaCell anaOdd anaSubcolRight\"></div><div class=\"anaIndex anaEven\">Italy</div><div class=\"anaCell anaEven anaSubcolLeft\"><div class=\"down\"></div></div><div class=\"anaCell anaEven\">34</div><div class=\"anaCell anaEven anaSubcolRight\"><div class=\"anaPositive\">(+6.25%)</div></div><div class=\"anaIndex anaOdd\">South Korea</div><div class=\"anaCell anaOdd anaSubcolLeft\"><div class=\"down\"></div></div><div class=\"anaCell anaOdd\">33</div><div class=\"anaCell anaOdd anaSubcolRight\"><div class=\"anaPositive\">(+22.22%)</div></div><div class=\"anaIndex anaEven\">Turkey</div><div class=\"anaCell anaEven anaSubcolLeft\"><div class=\"up\"></div></div><div class=\"anaCell anaEven\">33</div><div class=\"anaCell anaEven anaSubcolRight\"><div class=\"anaPositive\">(+106.25%)</div></div><div class=\"anaIndex anaOdd\">Mexico</div><div class=\"anaCell anaOdd anaSubcolLeft\"><div class=\"up\"></div></div><div class=\"anaCell anaOdd\">30</div><div class=\"anaCell anaOdd anaSubcolRight\"><div class=\"anaPositive\">(+130.77%)</div></div><div class=\"anaIndex anaEven\">Indonesia</div><div class=\"anaCell anaEven anaSubcolLeft\"><div class=\"down\"></div></div><div class=\"anaCell anaEven\">30</div><div class=\"anaCell anaEven anaSubcolRight\"><div class=\"anaPositive\">(+42.86%)</div></div><div class=\"anaIndex anaOdd\">South Africa</div><div class=\"anaCell anaOdd anaSubcolLeft\"><div class=\"down\"></div></div><div class=\"anaCell anaOdd\">27</div><div class=\"anaCell anaOdd anaSubcolRight\"><div class=\"anaPositive\">(+35.00%)</div></div><div class=\"anaIndex anaEven\">Israel</div><div class=\"anaCell anaEven anaSubcolLeft\"><div class=\"up\"></div></div><div class=\"anaCell anaEven\">27</div><div class=\"anaCell anaEven anaSubcolRight\"><div class=\"anaPositive\">(+42.11%)</div></div><div class=\"anaIndex anaOdd\">Netherlands</div><div class=\"anaCell anaOdd anaSubcolLeft\"><div class=\"up\"></div></div><div class=\"anaCell anaOdd\">27</div><div class=\"anaCell anaOdd anaSubcolRight\"><div class=\"anaPositive\">(+92.86%)</div></div><div class=\"anaIndex anaEven\">Pakistan</div><div class=\"anaCell anaEven anaSubcolLeft\"><div class=\"down\"></div></div><div class=\"anaCell anaEven\">25</div><div class=\"anaCell anaEven anaSubcolRight\"><div class=\"anaPositive\">(+4.17%)</div></div><div class=\"anaIndex anaOdd\">Philippines</div><div class=\"anaCell anaOdd anaSubcolLeft\"></div><div class=\"anaCell anaOdd\">25</div><div class=\"anaCell anaOdd anaSubcolRight\"><div class=\"anaPositive\">(+56.25%)</div></div><div class=\"anaIndex anaEven\">Vietnam</div><div class=\"anaCell anaEven anaSubcolLeft\"><div class=\"down\"></div></div><div class=\"anaCell anaEven\">24</div><div class=\"anaCell anaEven anaSubcolRight\"><div class=\"anaPositive\">(+14.29%)</div></div><div class=\"anaIndex anaOdd\">Poland</div><div class=\"anaCell anaOdd anaSubcolLeft\"><div class=\"new\"></div></div><div class=\"anaCell anaOdd\">23</div><div class=\"anaCell anaOdd anaSubcolRight\"></div><div class=\"anaIndex anaEven\">Hong Kong</div><div class=\"anaCell anaEven anaSubcolLeft\"><div class=\"down\"></div></div><div class=\"anaCell anaEven\">21</div><div class=\"anaCell anaEven anaSubcolRight\"><div class=\"anaPositive\">(+31.25%)</div></div><div class=\"anaIndex anaOdd\">Belgium</div><div class=\"anaCell anaOdd anaSubcolLeft\"><div class=\"new\"></div></div><div class=\"anaCell anaOdd\">21</div><div class=\"anaCell anaOdd anaSubcolRight\"></div><div class=\"anaIndex anaEven\">Singapore</div><div class=\"anaCell anaEven anaSubcolLeft\"><div class=\"down\"></div></div><div class=\"anaCell anaEven\">20</div><div class=\"anaCell anaEven anaSubcolRight\"><div class=\"anaPositive\">(+5.26%)</div></div><div class=\"anaIndex anaOdd\">Switzerland</div><div class=\"anaCell anaOdd anaSubcolLeft\"><div class=\"down\"></div></div><div class=\"anaCell anaOdd\">20</div><div class=\"anaCell anaOdd anaSubcolRight\"><div class=\"anaNegative\">(-4.76%)</div></div></div>"
      ],
      "text/plain": [
       "<IPython.core.display.HTML object>"
      ]
     },
     "metadata": {},
     "output_type": "display_data"
    }
   ],
   "source": [
    "ac.show_difference_table(\"Users\", \"Country\", \"ga:users\",\"ga:country\", **default_params)"
   ]
  },
  {
   "cell_type": "markdown",
   "id": "6059f91e",
   "metadata": {},
   "source": [
    "## Device Category"
   ]
  },
  {
   "cell_type": "code",
   "execution_count": 11,
   "id": "e32196d8",
   "metadata": {
    "tags": [
     "remove-input"
    ]
   },
   "outputs": [
    {
     "data": {
      "text/html": [
       "<div class=\"analyticsTable\" style=\"grid-template-columns: 1fr var(--symbol-width) minmax(var(--value-width), min-content) minmax(var(--percentage-width), min-content) minmax(var(--value-width), min-content) minmax(var(--percentage-width), min-content)\"><div class=\"anaIndex anaColName\">Category</div><div class=\"anaColName\" style=\"grid-column: span 3\">Users</div><div class=\"anaColName\" style=\"grid-column: span 2\">Percentage of users</div><div class=\"anaIndex anaEven\">desktop</div><div class=\"anaCell anaEven anaSubcolLeft\"></div><div class=\"anaCell anaEven\">2572</div><div class=\"anaCell anaEven anaSubcolRight\"><div class=\"anaPositive\">(+16.38%)</div></div><div class=\"anaCell anaEven anaSubcolLeft\">75.89</div><div class=\"anaCell anaEven anaSubcolRight\"><div class=\"anaNegative\">(-11.16%)</div></div><div class=\"anaIndex anaOdd\">mobile</div><div class=\"anaCell anaOdd anaSubcolLeft\"></div><div class=\"anaCell anaOdd\">773</div><div class=\"anaCell anaOdd anaSubcolRight\"><div class=\"anaPositive\">(+113.54%)</div></div><div class=\"anaCell anaOdd anaSubcolLeft\">22.81</div><div class=\"anaCell anaOdd anaSubcolRight\"><div class=\"anaPositive\">(+63.00%)</div></div><div class=\"anaIndex anaEven\">tablet</div><div class=\"anaCell anaEven anaSubcolLeft\"></div><div class=\"anaCell anaEven\">44</div><div class=\"anaCell anaEven anaSubcolRight\"><div class=\"anaPositive\">(+193.33%)</div></div><div class=\"anaCell anaEven anaSubcolLeft\">1.30</div><div class=\"anaCell anaEven anaSubcolRight\"><div class=\"anaPositive\">(+123.92%)</div></div></div>"
      ],
      "text/plain": [
       "<IPython.core.display.HTML object>"
      ]
     },
     "metadata": {},
     "output_type": "display_data"
    }
   ],
   "source": [
    "ac.show_difference_table([\"Users\", \"Percentage of users\"], \"Category\", \"ga:users\", \"ga:deviceCategory\", percentage_metrics={\"ga:users\"}, **default_params)"
   ]
  },
  {
   "cell_type": "markdown",
   "id": "f4cec2ab",
   "metadata": {},
   "source": [
    "<div style=\"page-break-after: always\"></div>"
   ]
  },
  {
   "cell_type": "markdown",
   "id": "bdc9b340",
   "metadata": {},
   "source": [
    "## Top Pages"
   ]
  },
  {
   "cell_type": "code",
   "execution_count": 34,
   "id": "cde3f2a3",
   "metadata": {
    "tags": [
     "remove-input"
    ]
   },
   "outputs": [
    {
     "data": {
      "text/html": [
       "<div class=\"analyticsTable\" style=\"grid-template-columns: 1fr var(--symbol-width) minmax(var(--value-width), min-content) minmax(var(--percentage-width), min-content)\"><div class=\"anaIndex anaColName\">Page</div><div class=\"anaColName\" style=\"grid-column: span 3\">Page Views</div><div class=\"anaIndex anaEven\"><a href=\"https://anvilproject.org/\">/</a></div><div class=\"anaCell anaEven anaSubcolLeft\"></div><div class=\"anaCell anaEven\">2813</div><div class=\"anaCell anaEven anaSubcolRight\"><div class=\"anaPositive\">(+91.36%)</div></div><div class=\"anaIndex anaOdd\"><a href=\"https://anvilproject.org/data\">/data</a></div><div class=\"anaCell anaOdd anaSubcolLeft\"></div><div class=\"anaCell anaOdd\">1020</div><div class=\"anaCell anaOdd anaSubcolRight\"><div class=\"anaNegative\">(-8.27%)</div></div><div class=\"anaIndex anaEven\"><a href=\"https://anvilproject.org/ncpi\">/ncpi</a></div><div class=\"anaCell anaEven anaSubcolLeft\"><div class=\"up\"></div></div><div class=\"anaCell anaEven\">605</div><div class=\"anaCell anaEven anaSubcolRight\"><div class=\"anaPositive\">(+41.36%)</div></div><div class=\"anaIndex anaOdd\"><a href=\"https://anvilproject.org/learn/account-setup/obtaining-a-google-id\">/learn/account-setup/obtaining-a-google-id</a></div><div class=\"anaCell anaOdd anaSubcolLeft\"><div class=\"down\"></div></div><div class=\"anaCell anaOdd\">542</div><div class=\"anaCell anaOdd anaSubcolRight\"><div class=\"anaPositive\">(+14.83%)</div></div><div class=\"anaIndex anaEven\"><a href=\"https://anvilproject.org/learn\">/learn</a></div><div class=\"anaCell anaEven anaSubcolLeft\"><div class=\"down\"></div></div><div class=\"anaCell anaEven\">452</div><div class=\"anaCell anaEven anaSubcolRight\"><div class=\"anaPositive\">(+3.91%)</div></div><div class=\"anaIndex anaOdd\"><a href=\"https://anvilproject.org/overview\">/overview</a></div><div class=\"anaCell anaOdd anaSubcolLeft\"></div><div class=\"anaCell anaOdd\">368</div><div class=\"anaCell anaOdd anaSubcolRight\"><div class=\"anaNegative\">(-4.42%)</div></div><div class=\"anaIndex anaEven\"><a href=\"https://anvilproject.org/learn/billing-setup/creating-a-google-cloud-billing-account\">/learn/billing-setup/creating-a-google-cloud-billing-account</a></div><div class=\"anaCell anaEven anaSubcolLeft\"></div><div class=\"anaCell anaEven\">325</div><div class=\"anaCell anaEven anaSubcolRight\"><div class=\"anaNegative\">(-13.10%)</div></div><div class=\"anaIndex anaOdd\"><a href=\"https://anvilproject.org/ncpi/data\">/ncpi/data</a></div><div class=\"anaCell anaOdd anaSubcolLeft\"><div class=\"up\"></div></div><div class=\"anaCell anaOdd\">261</div><div class=\"anaCell anaOdd anaSubcolRight\"><div class=\"anaPositive\">(+117.50%)</div></div><div class=\"anaIndex anaEven\"><a href=\"https://anvilproject.org/learn/reference/gtex-v8-free-egress-instructions\">/learn/reference/gtex-v8-free-egress-instructions</a></div><div class=\"anaCell anaEven anaSubcolLeft\"><div class=\"down\"></div></div><div class=\"anaCell anaEven\">208</div><div class=\"anaCell anaEven anaSubcolRight\"><div class=\"anaNegative\">(-8.77%)</div></div><div class=\"anaIndex anaOdd\"><a href=\"https://anvilproject.org/ncpi/working-groups\">/ncpi/working-groups</a></div><div class=\"anaCell anaOdd anaSubcolLeft\"><div class=\"up\"></div></div><div class=\"anaCell anaOdd\">99</div><div class=\"anaCell anaOdd anaSubcolRight\"><div class=\"anaPositive\">(+16.47%)</div></div><div class=\"anaIndex anaEven\"><a href=\"https://anvilproject.org/learn/introduction/getting-started-with-gen3\">/learn/introduction/getting-started-with-gen3</a></div><div class=\"anaCell anaEven anaSubcolLeft\"><div class=\"up\"></div></div><div class=\"anaCell anaEven\">98</div><div class=\"anaCell anaEven anaSubcolRight\"><div class=\"anaPositive\">(+19.51%)</div></div><div class=\"anaIndex anaOdd\"><a href=\"https://anvilproject.org/team\">/team</a></div><div class=\"anaCell anaOdd anaSubcolLeft\"><div class=\"down\"></div></div><div class=\"anaCell anaOdd\">97</div><div class=\"anaCell anaOdd anaSubcolRight\"><div class=\"anaNegative\">(-2.02%)</div></div><div class=\"anaIndex anaEven\"><a href=\"https://anvilproject.org/learn/data-analysts\">/learn/data-analysts</a></div><div class=\"anaCell anaEven anaSubcolLeft\"><div class=\"down\"></div></div><div class=\"anaCell anaEven\">88</div><div class=\"anaCell anaEven anaSubcolRight\"><div class=\"anaNegative\">(-3.30%)</div></div><div class=\"anaIndex anaOdd\"><a href=\"https://anvilproject.org/ncpi/demonstration-projects\">/ncpi/demonstration-projects</a></div><div class=\"anaCell anaOdd anaSubcolLeft\"><div class=\"new\"></div></div><div class=\"anaCell anaOdd\">81</div><div class=\"anaCell anaOdd anaSubcolRight\"></div><div class=\"anaIndex anaEven\"><a href=\"https://anvilproject.org/learn/accessing-data/requesting-data-access\">/learn/accessing-data/requesting-data-access</a></div><div class=\"anaCell anaEven anaSubcolLeft\"><div class=\"down\"></div></div><div class=\"anaCell anaEven\">78</div><div class=\"anaCell anaEven anaSubcolRight\"><div class=\"anaNegative\">(-19.59%)</div></div><div class=\"anaIndex anaOdd\"><a href=\"https://anvilproject.org/ncpi/technologies\">/ncpi/technologies</a></div><div class=\"anaCell anaOdd anaSubcolLeft\"><div class=\"new\"></div></div><div class=\"anaCell anaOdd\">75</div><div class=\"anaCell anaOdd anaSubcolRight\"></div><div class=\"anaIndex anaEven\"><a href=\"https://anvilproject.org/events\">/events</a></div><div class=\"anaCell anaEven anaSubcolLeft\"><div class=\"up\"></div></div><div class=\"anaCell anaEven\">75</div><div class=\"anaCell anaEven anaSubcolRight\"><div class=\"anaPositive\">(+13.64%)</div></div><div class=\"anaIndex anaOdd\"><a href=\"https://anvilproject.org/learn/data-submitters/submission-guide/set-up-a-data-model\">/learn/data-submitters/submission-guide/set-up-a-data-model</a></div><div class=\"anaCell anaOdd anaSubcolLeft\"><div class=\"up\"></div></div><div class=\"anaCell anaOdd\">75</div><div class=\"anaCell anaOdd anaSubcolRight\"><div class=\"anaPositive\">(+53.06%)</div></div><div class=\"anaIndex anaEven\"><a href=\"https://anvilproject.org/overview/data-consortia\">/overview/data-consortia</a></div><div class=\"anaCell anaEven anaSubcolLeft\"><div class=\"up\"></div></div><div class=\"anaCell anaEven\">75</div><div class=\"anaCell anaEven anaSubcolRight\"><div class=\"anaPositive\">(+38.89%)</div></div><div class=\"anaIndex anaOdd\"><a href=\"https://anvilproject.org/ncpi/progress-updates\">/ncpi/progress-updates</a></div><div class=\"anaCell anaOdd anaSubcolLeft\"><div class=\"new\"></div></div><div class=\"anaCell anaOdd\">72</div><div class=\"anaCell anaOdd anaSubcolRight\"></div><div class=\"anaIndex anaEven\"><a href=\"https://anvilproject.org/learn/data-submitters/submission-guide/data-submitters-overview\">/learn/data-submitters/submission-guide/data-submitters-overview</a></div><div class=\"anaCell anaEven anaSubcolLeft\"><div class=\"up\"></div></div><div class=\"anaCell anaEven\">70</div><div class=\"anaCell anaEven anaSubcolRight\"><div class=\"anaPositive\">(+40.00%)</div></div><div class=\"anaIndex anaOdd\"><a href=\"https://anvilproject.org/ncpi/training\">/ncpi/training</a></div><div class=\"anaCell anaOdd anaSubcolLeft\"><div class=\"new\"></div></div><div class=\"anaCell anaOdd\">68</div><div class=\"anaCell anaOdd anaSubcolRight\"></div><div class=\"anaIndex anaEven\"><a href=\"https://anvilproject.org/guides/content/using-images\">/guides/content/using-images</a></div><div class=\"anaCell anaEven anaSubcolLeft\"><div class=\"down\"></div></div><div class=\"anaCell anaEven\">67</div><div class=\"anaCell anaEven anaSubcolRight\"><div class=\"anaNegative\">(-19.28%)</div></div><div class=\"anaIndex anaOdd\"><a href=\"https://anvilproject.org/faq\">/faq</a></div><div class=\"anaCell anaOdd anaSubcolLeft\"><div class=\"down\"></div></div><div class=\"anaCell anaOdd\">63</div><div class=\"anaCell anaOdd anaSubcolRight\"><div class=\"anaNegative\">(-18.18%)</div></div><div class=\"anaIndex anaEven\"><a href=\"https://anvilproject.org/learn/investigators/budget-templates\">/learn/investigators/budget-templates</a></div><div class=\"anaCell anaEven anaSubcolLeft\"></div><div class=\"anaCell anaEven\">61</div><div class=\"anaCell anaEven anaSubcolRight\"><div class=\"anaPositive\">(+1.67%)</div></div><div class=\"anaIndex anaOdd\"><a href=\"https://anvilproject.org/ncpi/platforms/anvil\">/ncpi/platforms/anvil</a></div><div class=\"anaCell anaOdd anaSubcolLeft\"><div class=\"new\"></div></div><div class=\"anaCell anaOdd\">60</div><div class=\"anaCell anaOdd anaSubcolRight\"></div><div class=\"anaIndex anaEven\"><a href=\"https://anvilproject.org/ncpi/platforms/crdc\">/ncpi/platforms/crdc</a></div><div class=\"anaCell anaEven anaSubcolLeft\"><div class=\"new\"></div></div><div class=\"anaCell anaEven\">55</div><div class=\"anaCell anaEven anaSubcolRight\"></div><div class=\"anaIndex anaOdd\"><a href=\"https://anvilproject.org/learn/introduction/intro-to-terra\">/learn/introduction/intro-to-terra</a></div><div class=\"anaCell anaOdd anaSubcolLeft\"><div class=\"down\"></div></div><div class=\"anaCell anaOdd\">52</div><div class=\"anaCell anaOdd anaSubcolRight\"><div class=\"anaNegative\">(-21.21%)</div></div><div class=\"anaIndex anaEven\"><a href=\"https://anvilproject.org/events/bog2022-biology-of-genomes\">/events/bog2022-biology-of-genomes</a></div><div class=\"anaCell anaEven anaSubcolLeft\"><div class=\"new\"></div></div><div class=\"anaCell anaEven\">52</div><div class=\"anaCell anaEven anaSubcolRight\"></div><div class=\"anaIndex anaOdd\"><a href=\"https://anvilproject.org/learn/interactive-analysis/getting-started-with-galaxy\">/learn/interactive-analysis/getting-started-with-galaxy</a></div><div class=\"anaCell anaOdd anaSubcolLeft\"><div class=\"down\"></div></div><div class=\"anaCell anaOdd\">51</div><div class=\"anaCell anaOdd anaSubcolRight\"><div class=\"anaNegative\">(-28.17%)</div></div></div>"
      ],
      "text/plain": [
       "<IPython.core.display.HTML object>"
      ]
     },
     "metadata": {},
     "output_type": "display_data"
    }
   ],
   "source": [
    "ac.show_difference_table(\"Page Views\", \"Page\", \"ga:pageviews\", \"ga:pagePath\", **default_params)"
   ]
  },
  {
   "cell_type": "markdown",
   "id": "6e2487a3",
   "metadata": {},
   "source": [
    "<div style=\"page-break-after: always\"></div>"
   ]
  },
  {
   "cell_type": "markdown",
   "id": "a4d13293",
   "metadata": {},
   "source": [
    "## Top Landing Pages"
   ]
  },
  {
   "cell_type": "code",
   "execution_count": 12,
   "id": "614d1d07",
   "metadata": {
    "tags": [
     "remove-input"
    ]
   },
   "outputs": [
    {
     "data": {
      "text/html": [
       "<div class=\"analyticsTable\" style=\"grid-template-columns: 1fr var(--symbol-width) minmax(var(--value-width), min-content) minmax(var(--percentage-width), min-content)\"><div class=\"anaIndex anaColName\">Page</div><div class=\"anaColName\" style=\"grid-column: span 3\">Entrances</div><div class=\"anaIndex anaEven\"><a href=\"https://anvilproject.org/\">/</a></div><div class=\"anaCell anaEven anaSubcolLeft\"></div><div class=\"anaCell anaEven\">1873</div><div class=\"anaCell anaEven anaSubcolRight\"><div class=\"anaPositive\">(+81.84%)</div></div><div class=\"anaIndex anaOdd\"><a href=\"https://anvilproject.org/learn/account-setup/obtaining-a-google-id\">/learn/account-setup/obtaining-a-google-id</a></div><div class=\"anaCell anaOdd anaSubcolLeft\"></div><div class=\"anaCell anaOdd\">398</div><div class=\"anaCell anaOdd anaSubcolRight\"><div class=\"anaPositive\">(+20.61%)</div></div><div class=\"anaIndex anaEven\"><a href=\"https://anvilproject.org/ncpi\">/ncpi</a></div><div class=\"anaCell anaEven anaSubcolLeft\"><div class=\"up\"></div></div><div class=\"anaCell anaEven\">326</div><div class=\"anaCell anaEven anaSubcolRight\"><div class=\"anaPositive\">(+41.13%)</div></div><div class=\"anaIndex anaOdd\"><a href=\"https://anvilproject.org/learn/billing-setup/creating-a-google-cloud-billing-account\">/learn/billing-setup/creating-a-google-cloud-billing-account</a></div><div class=\"anaCell anaOdd anaSubcolLeft\"><div class=\"down\"></div></div><div class=\"anaCell anaOdd\">250</div><div class=\"anaCell anaOdd anaSubcolRight\"><div class=\"anaNegative\">(-14.09%)</div></div><div class=\"anaIndex anaEven\"><a href=\"https://anvilproject.org/learn/reference/gtex-v8-free-egress-instructions\">/learn/reference/gtex-v8-free-egress-instructions</a></div><div class=\"anaCell anaEven anaSubcolLeft\"></div><div class=\"anaCell anaEven\">144</div><div class=\"anaCell anaEven anaSubcolRight\"><div class=\"anaNegative\">(-8.28%)</div></div><div class=\"anaIndex anaOdd\"><a href=\"https://anvilproject.org/data\">/data</a></div><div class=\"anaCell anaOdd anaSubcolLeft\"></div><div class=\"anaCell anaOdd\">118</div><div class=\"anaCell anaOdd anaSubcolRight\"><div class=\"anaNegative\">(-14.49%)</div></div><div class=\"anaIndex anaEven\"><a href=\"https://anvilproject.org/learn\">/learn</a></div><div class=\"anaCell anaEven anaSubcolLeft\"></div><div class=\"anaCell anaEven\">108</div><div class=\"anaCell anaEven anaSubcolRight\"><div class=\"anaNegative\">(-3.57%)</div></div><div class=\"anaIndex anaOdd\"><a href=\"https://anvilproject.org/overview\">/overview</a></div><div class=\"anaCell anaOdd anaSubcolLeft\"></div><div class=\"anaCell anaOdd\">84</div><div class=\"anaCell anaOdd anaSubcolRight\"><div class=\"anaNegative\">(-4.55%)</div></div><div class=\"anaIndex anaEven\"><a href=\"https://anvilproject.org/learn/introduction/getting-started-with-gen3\">/learn/introduction/getting-started-with-gen3</a></div><div class=\"anaCell anaEven anaSubcolLeft\"><div class=\"up\"></div></div><div class=\"anaCell anaEven\">52</div><div class=\"anaCell anaEven anaSubcolRight\"><div class=\"anaPositive\">(+15.56%)</div></div><div class=\"anaIndex anaOdd\"><a href=\"https://anvilproject.org/guides/content/using-images\">/guides/content/using-images</a></div><div class=\"anaCell anaOdd anaSubcolLeft\"><div class=\"down\"></div></div><div class=\"anaCell anaOdd\">44</div><div class=\"anaCell anaOdd anaSubcolRight\"><div class=\"anaNegative\">(-35.29%)</div></div><div class=\"anaIndex anaEven\"><a href=\"https://anvilproject.org/learn/investigators/budget-templates\">/learn/investigators/budget-templates</a></div><div class=\"anaCell anaEven anaSubcolLeft\"></div><div class=\"anaCell anaEven\">43</div><div class=\"anaCell anaEven anaSubcolRight\"><div class=\"anaPositive\">(+10.26%)</div></div><div class=\"anaIndex anaOdd\"><a href=\"https://anvilproject.org/events/bog2022-biology-of-genomes\">/events/bog2022-biology-of-genomes</a></div><div class=\"anaCell anaOdd anaSubcolLeft\"><div class=\"up\"></div></div><div class=\"anaCell anaOdd\">40</div><div class=\"anaCell anaOdd anaSubcolRight\"><div class=\"anaPositive\">(+100.00%)</div></div><div class=\"anaIndex anaEven\"><a href=\"https://anvilproject.org/learn/data-submitters/submission-guide/set-up-a-data-model\">/learn/data-submitters/submission-guide/set-up-a-data-model</a></div><div class=\"anaCell anaEven anaSubcolLeft\"></div><div class=\"anaCell anaEven\">39</div><div class=\"anaCell anaEven anaSubcolRight\"><div class=\"anaPositive\">(+21.88%)</div></div><div class=\"anaIndex anaOdd\"><a href=\"https://anvilproject.org/ncpi/working-groups\">/ncpi/working-groups</a></div><div class=\"anaCell anaOdd anaSubcolLeft\"><div class=\"up\"></div></div><div class=\"anaCell anaOdd\">35</div><div class=\"anaCell anaOdd anaSubcolRight\"><div class=\"anaPositive\">(+52.17%)</div></div><div class=\"anaIndex anaEven\"><a href=\"https://anvilproject.org/guides/content/editing-an-existing-page\">/guides/content/editing-an-existing-page</a></div><div class=\"anaCell anaEven anaSubcolLeft\"><div class=\"up\"></div></div><div class=\"anaCell anaEven\">34</div><div class=\"anaCell anaEven anaSubcolRight\"><div class=\"anaPositive\">(+21.43%)</div></div><div class=\"anaIndex anaOdd\"><a href=\"https://anvilproject.org/team\">/team</a></div><div class=\"anaCell anaOdd anaSubcolLeft\"><div class=\"up\"></div></div><div class=\"anaCell anaOdd\">30</div><div class=\"anaCell anaOdd anaSubcolRight\"><div class=\"anaPositive\">(+20.00%)</div></div><div class=\"anaIndex anaEven\"><a href=\"https://anvilproject.org/learn/data-analysts/running-a-workflow\">/learn/data-analysts/running-a-workflow</a></div><div class=\"anaCell anaEven anaSubcolLeft\"><div class=\"down\"></div></div><div class=\"anaCell anaEven\">27</div><div class=\"anaCell anaEven anaSubcolRight\"><div class=\"anaNegative\">(-25.00%)</div></div><div class=\"anaIndex anaOdd\"><a href=\"https://anvilproject.org/ncpi/platforms/crdc\">/ncpi/platforms/crdc</a></div><div class=\"anaCell anaOdd anaSubcolLeft\"></div><div class=\"anaCell anaOdd\">23</div><div class=\"anaCell anaOdd anaSubcolRight\"><div class=\"anaZero\">(+0.00%)</div></div><div class=\"anaIndex anaEven\"><a href=\"https://anvilproject.org/ncpi/platforms/bdc\">/ncpi/platforms/bdc</a></div><div class=\"anaCell anaEven anaSubcolLeft\"><div class=\"up\"></div></div><div class=\"anaCell anaEven\">21</div><div class=\"anaCell anaEven anaSubcolRight\"><div class=\"anaNegative\">(-4.55%)</div></div><div class=\"anaIndex anaOdd\"><a href=\"https://anvilproject.org/guides\">/guides</a></div><div class=\"anaCell anaOdd anaSubcolLeft\"><div class=\"new\"></div></div><div class=\"anaCell anaOdd\">21</div><div class=\"anaCell anaOdd anaSubcolRight\"></div><div class=\"anaIndex anaEven\"><a href=\"https://anvilproject.org/learn/interactive-analysis/getting-started-with-bioconductor\">/learn/interactive-analysis/getting-started-with-bioconductor</a></div><div class=\"anaCell anaEven anaSubcolLeft\"></div><div class=\"anaCell anaEven\">20</div><div class=\"anaCell anaEven anaSubcolRight\"><div class=\"anaNegative\">(-4.76%)</div></div><div class=\"anaIndex anaOdd\"><a href=\"https://anvilproject.org/learn/accessing-data/requesting-data-access\">/learn/accessing-data/requesting-data-access</a></div><div class=\"anaCell anaOdd anaSubcolLeft\"><div class=\"up\"></div></div><div class=\"anaCell anaOdd\">20</div><div class=\"anaCell anaOdd anaSubcolRight\"><div class=\"anaZero\">(+0.00%)</div></div><div class=\"anaIndex anaEven\"><a href=\"https://anvilproject.org/ncpi/platforms/anvil\">/ncpi/platforms/anvil</a></div><div class=\"anaCell anaEven anaSubcolLeft\"><div class=\"new\"></div></div><div class=\"anaCell anaEven\">20</div><div class=\"anaCell anaEven anaSubcolRight\"></div><div class=\"anaIndex anaOdd\"><a href=\"https://anvilproject.org/faq/data-security\">/faq/data-security</a></div><div class=\"anaCell anaOdd anaSubcolLeft\"><div class=\"new\"></div></div><div class=\"anaCell anaOdd\">19</div><div class=\"anaCell anaOdd anaSubcolRight\"></div><div class=\"anaIndex anaEven\"><a href=\"https://anvilproject.org/events/ncpi2022-spring-workshop-nih-cloud-platforms-interoperability\">/events/ncpi2022-spring-workshop-nih-cloud-platforms-interoperability</a></div><div class=\"anaCell anaEven anaSubcolLeft\"><div class=\"new\"></div></div><div class=\"anaCell anaEven\">19</div><div class=\"anaCell anaEven anaSubcolRight\"></div><div class=\"anaIndex anaOdd\"><a href=\"https://anvilproject.org/ncpi/progress-updates\">/ncpi/progress-updates</a></div><div class=\"anaCell anaOdd anaSubcolLeft\"><div class=\"new\"></div></div><div class=\"anaCell anaOdd\">19</div><div class=\"anaCell anaOdd anaSubcolRight\"></div><div class=\"anaIndex anaEven\"><a href=\"https://anvilproject.org/news/2021/04/12/announcing-anvil-cloud-cost-credits-program\">/news/2021/04/12/announcing-anvil-cloud-cost-credits-program</a></div><div class=\"anaCell anaEven anaSubcolLeft\"><div class=\"up\"></div></div><div class=\"anaCell anaEven\">19</div><div class=\"anaCell anaEven anaSubcolRight\"><div class=\"anaPositive\">(+26.67%)</div></div><div class=\"anaIndex anaOdd\"><a href=\"https://anvilproject.org/ncpi/data\">/ncpi/data</a></div><div class=\"anaCell anaOdd anaSubcolLeft\"><div class=\"down\"></div></div><div class=\"anaCell anaOdd\">18</div><div class=\"anaCell anaOdd anaSubcolRight\"><div class=\"anaPositive\">(+12.50%)</div></div><div class=\"anaIndex anaEven\"><a href=\"https://anvilproject.org/learn/introduction/understanding-cloud-costs\">/learn/introduction/understanding-cloud-costs</a></div><div class=\"anaCell anaEven anaSubcolLeft\"><div class=\"new\"></div></div><div class=\"anaCell anaEven\">18</div><div class=\"anaCell anaEven anaSubcolRight\"></div><div class=\"anaIndex anaOdd\"><a href=\"https://anvilproject.org/learn/account-setup/obtaining-a-google-id?_x_tr_sl=en&amp;_x_tr_tl=hi&amp;_x_tr_hl=hi&amp;_x_tr_pto=tc,sc\">/learn/account-setup/obtaining-a-google-id?_x_tr_sl=en&amp;_x_tr_tl=hi&amp;_x_tr_hl=hi&amp;_x_tr_pto=tc,sc</a></div><div class=\"anaCell anaOdd anaSubcolLeft\"><div class=\"new\"></div></div><div class=\"anaCell anaOdd\">17</div><div class=\"anaCell anaOdd anaSubcolRight\"></div></div>"
      ],
      "text/plain": [
       "<IPython.core.display.HTML object>"
      ]
     },
     "metadata": {},
     "output_type": "display_data"
    }
   ],
   "source": [
    "ac.show_difference_table(\"Entrances\", \"Page\", \"ga:entrances\",\"ga:pagePath\", **default_params)"
   ]
  },
  {
   "cell_type": "markdown",
   "id": "ae2a4531",
   "metadata": {},
   "source": [
    "<div style=\"page-break-after: always\"></div>"
   ]
  },
  {
   "cell_type": "markdown",
   "id": "6ce3b066",
   "metadata": {},
   "source": [
    "## Outbound Links to Terra\n",
    "### Terra Login"
   ]
  },
  {
   "cell_type": "code",
   "execution_count": 13,
   "id": "2ebd18b1",
   "metadata": {
    "tags": [
     "remove-input"
    ]
   },
   "outputs": [
    {
     "data": {
      "text/html": [
       "<div class=\"analyticsTable\" style=\"grid-template-columns: 1fr var(--symbol-width) minmax(var(--value-width), min-content) minmax(var(--percentage-width), min-content)\"><div class=\"anaIndex anaColName\">URL</div><div class=\"anaColName\" style=\"grid-column: span 3\">Count</div><div class=\"anaIndex anaEven\">https://anvil.terra.bio/#workspaces</div><div class=\"anaCell anaEven anaSubcolLeft\"><div class=\"up\"></div></div><div class=\"anaCell anaEven\">16</div><div class=\"anaCell anaEven anaSubcolRight\"><div class=\"anaPositive\">(+100.00%)</div></div><div class=\"anaIndex anaOdd\">https://anvil.terra.bio/</div><div class=\"anaCell anaOdd anaSubcolLeft\"><div class=\"down\"></div></div><div class=\"anaCell anaOdd\">4</div><div class=\"anaCell anaOdd anaSubcolRight\"><div class=\"anaNegative\">(-50.00%)</div></div></div>"
      ],
      "text/plain": [
       "<IPython.core.display.HTML object>"
      ]
     },
     "metadata": {},
     "output_type": "display_data"
    }
   ],
   "source": [
    "ac.show_difference_table(\"Count\", \"URL\", \"ga:hits\", \"ga:dimension3\", filters=\"ga:dimension3=~^https://anvil.terra.bio/(?:\\\\#workspaces)?$\", **default_params)"
   ]
  },
  {
   "cell_type": "markdown",
   "id": "7e6d9407",
   "metadata": {},
   "source": [
    "### Terra Resources"
   ]
  },
  {
   "cell_type": "code",
   "execution_count": 14,
   "id": "f7ce4753",
   "metadata": {
    "tags": [
     "remove-input"
    ]
   },
   "outputs": [
    {
     "data": {
      "text/html": [
       "<div class=\"analyticsTable\" style=\"grid-template-columns: 1fr var(--symbol-width) minmax(var(--value-width), min-content) minmax(var(--percentage-width), min-content)\"><div class=\"anaIndex anaColName\">Resource</div><div class=\"anaColName\" style=\"grid-column: span 3\">Count</div><div class=\"anaIndex anaEven\">AnVIL_GTEx_V8_hg38</div><div class=\"anaCell anaEven anaSubcolLeft\"></div><div class=\"anaCell anaEven\">12</div><div class=\"anaCell anaEven anaSubcolRight\"><div class=\"anaNegative\">(-20.00%)</div></div><div class=\"anaIndex anaOdd\">1000G-high-coverage-2019</div><div class=\"anaCell anaOdd anaSubcolLeft\"><div class=\"up\"></div></div><div class=\"anaCell anaOdd\">7</div><div class=\"anaCell anaOdd anaSubcolRight\"><div class=\"anaPositive\">(+16.67%)</div></div><div class=\"anaIndex anaEven\">AnVIL_ccdg_asc_ndd_daly_talkowski_AGRE_asd_exome</div><div class=\"anaCell anaEven anaSubcolLeft\"><div class=\"new\"></div></div><div class=\"anaCell anaEven\">4</div><div class=\"anaCell anaEven anaSubcolRight\"></div><div class=\"anaIndex anaOdd\">AnVIL_CCDG_Baylor_CVD_ARIC</div><div class=\"anaCell anaOdd anaSubcolLeft\"><div class=\"new\"></div></div><div class=\"anaCell anaOdd\">4</div><div class=\"anaCell anaOdd anaSubcolRight\"></div><div class=\"anaIndex anaEven\">AnVIL_GTEx_V9_hg38</div><div class=\"anaCell anaEven anaSubcolLeft\"><div class=\"down\"></div></div><div class=\"anaCell anaEven\">4</div><div class=\"anaCell anaEven anaSubcolRight\"><div class=\"anaNegative\">(-42.86%)</div></div><div class=\"anaIndex anaOdd\">AnVIL_GTEx_BCM_GRU_CoRSIVs</div><div class=\"anaCell anaOdd anaSubcolLeft\"></div><div class=\"anaCell anaOdd\">3</div><div class=\"anaCell anaOdd anaSubcolRight\"><div class=\"anaNegative\">(-25.00%)</div></div><div class=\"anaIndex anaEven\">AnVIL_GTEx_Somatic_WGS</div><div class=\"anaCell anaEven anaSubcolLeft\"><div class=\"up\"></div></div><div class=\"anaCell anaEven\">3</div><div class=\"anaCell anaEven anaSubcolRight\"><div class=\"anaPositive\">(+50.00%)</div></div><div class=\"anaIndex anaOdd\">anvil_ccdg_broad_ai_ibd_daly_duerr_niddk_gsa</div><div class=\"anaCell anaOdd anaSubcolLeft\"><div class=\"new\"></div></div><div class=\"anaCell anaOdd\">3</div><div class=\"anaCell anaOdd anaSubcolRight\"></div><div class=\"anaIndex anaEven\">GATK Best Practices for Germline SNPs &amp; Indels</div><div class=\"anaCell anaEven anaSubcolLeft\"><div class=\"up\"></div></div><div class=\"anaCell anaEven\">3</div><div class=\"anaCell anaEven anaSubcolRight\"><div class=\"anaPositive\">(+200.00%)</div></div><div class=\"anaIndex anaOdd\">AnVIL_NIMH_CIRM_FCDI_ConvergentNeuro_McCarroll_Eggan_GRU_Arrays</div><div class=\"anaCell anaOdd anaSubcolLeft\"><div class=\"down\"></div></div><div class=\"anaCell anaOdd\">3</div><div class=\"anaCell anaOdd anaSubcolRight\"><div class=\"anaNegative\">(-80.00%)</div></div><div class=\"anaIndex anaEven\">AnVIL_ccdg_asc_ndd_daly_talkowski_barbosa_asd_exome</div><div class=\"anaCell anaEven anaSubcolLeft\"><div class=\"new\"></div></div><div class=\"anaCell anaEven\">3</div><div class=\"anaCell anaEven anaSubcolRight\"></div><div class=\"anaIndex anaOdd\">AnVIL_GTEx_public_data</div><div class=\"anaCell anaOdd anaSubcolLeft\"><div class=\"up\"></div></div><div class=\"anaCell anaOdd\">2</div><div class=\"anaCell anaOdd anaSubcolRight\"><div class=\"anaZero\">(+0.00%)</div></div><div class=\"anaIndex anaEven\">AnVIL_HPRC workspace</div><div class=\"anaCell anaEven anaSubcolLeft\"><div class=\"new\"></div></div><div class=\"anaCell anaEven\">2</div><div class=\"anaCell anaEven anaSubcolRight\"></div><div class=\"anaIndex anaOdd\">AnVIL_T2T</div><div class=\"anaCell anaOdd anaSubcolLeft\"><div class=\"down\"></div></div><div class=\"anaCell anaOdd\">2</div><div class=\"anaCell anaOdd anaSubcolRight\"><div class=\"anaNegative\">(-50.00%)</div></div><div class=\"anaIndex anaEven\">AnVIL_ccdg_asc_ndd_daly_talkowski_AGRE-FEMF_asd_exome</div><div class=\"anaCell anaEven anaSubcolLeft\"><div class=\"up\"></div></div><div class=\"anaCell anaEven\">2</div><div class=\"anaCell anaEven anaSubcolRight\"><div class=\"anaZero\">(+0.00%)</div></div><div class=\"anaIndex anaOdd\">AnVIL_ccdg_asc_ndd_daly_talkowski_ac-boston_asd_exome</div><div class=\"anaCell anaOdd anaSubcolLeft\"><div class=\"down\"></div></div><div class=\"anaCell anaOdd\">2</div><div class=\"anaCell anaOdd anaSubcolRight\"><div class=\"anaNegative\">(-50.00%)</div></div><div class=\"anaIndex anaEven\">AnVIL_CMG_Broad_Blood_Gazda_WES</div><div class=\"anaCell anaEven anaSubcolLeft\"><div class=\"new\"></div></div><div class=\"anaCell anaEven\">2</div><div class=\"anaCell anaEven anaSubcolRight\"></div><div class=\"anaIndex anaOdd\">Workspace</div><div class=\"anaCell anaOdd anaSubcolLeft\"><div class=\"up\"></div></div><div class=\"anaCell anaOdd\">2</div><div class=\"anaCell anaOdd anaSubcolRight\"><div class=\"anaPositive\">(+100.00%)</div></div><div class=\"anaIndex anaEven\">AnVIL_CCDG_Broad_CVD_EOCAD_PartnersBiobank_HMB_Arrays</div><div class=\"anaCell anaEven anaSubcolLeft\"><div class=\"up\"></div></div><div class=\"anaCell anaEven\">2</div><div class=\"anaCell anaEven anaSubcolRight\"><div class=\"anaZero\">(+0.00%)</div></div><div class=\"anaIndex anaOdd\">AnVIL_GTEx_V7_hg19</div><div class=\"anaCell anaOdd anaSubcolLeft\"><div class=\"new\"></div></div><div class=\"anaCell anaOdd\">2</div><div class=\"anaCell anaOdd anaSubcolRight\"></div><div class=\"anaIndex anaEven\">AnVIL_ccdg_asc_ndd_daly_talkowski_menashe_asd_exome</div><div class=\"anaCell anaEven anaSubcolLeft\"><div class=\"new\"></div></div><div class=\"anaCell anaEven\">1</div><div class=\"anaCell anaEven anaSubcolRight\"></div><div class=\"anaIndex anaOdd\">Bioconductor</div><div class=\"anaCell anaOdd anaSubcolLeft\"><div class=\"new\"></div></div><div class=\"anaCell anaOdd\">1</div><div class=\"anaCell anaOdd anaSubcolRight\"></div><div class=\"anaIndex anaEven\">AnVIL_NIMH_Broad_WGSPD1_McCarroll_Braff_DS_10XLRGenomes</div><div class=\"anaCell anaEven anaSubcolLeft\"><div class=\"new\"></div></div><div class=\"anaCell anaEven\">1</div><div class=\"anaCell anaEven anaSubcolRight\"></div><div class=\"anaIndex anaOdd\">AnVIL_NIMH_Broad_ConvergentNeuro_McCarroll_Eggan_CIRM_GRU_WGS</div><div class=\"anaCell anaOdd anaSubcolLeft\"><div class=\"down\"></div></div><div class=\"anaCell anaOdd\">1</div><div class=\"anaCell anaOdd anaSubcolRight\"><div class=\"anaNegative\">(-75.00%)</div></div><div class=\"anaIndex anaEven\">Optimus Pipeline for Analysis of 3’ Single-Cell Transcriptomic Data</div><div class=\"anaCell anaEven anaSubcolLeft\"><div class=\"up\"></div></div><div class=\"anaCell anaEven\">1</div><div class=\"anaCell anaEven anaSubcolRight\"><div class=\"anaZero\">(+0.00%)</div></div><div class=\"anaIndex anaOdd\">anvil_ccdg_asc_ndd_daly_talkowski_cdcseed_asd_gsa-md</div><div class=\"anaCell anaOdd anaSubcolLeft\"><div class=\"new\"></div></div><div class=\"anaCell anaOdd\">1</div><div class=\"anaCell anaOdd anaSubcolRight\"></div><div class=\"anaIndex anaEven\">anvil_ccdg_broad_ai_ibd_daly_faubion_share_gsa</div><div class=\"anaCell anaEven anaSubcolLeft\"><div class=\"new\"></div></div><div class=\"anaCell anaEven\">1</div><div class=\"anaCell anaEven anaSubcolRight\"></div><div class=\"anaIndex anaOdd\">1000 Genomes High Coverage 2019</div><div class=\"anaCell anaOdd anaSubcolLeft\"><div class=\"down\"></div></div><div class=\"anaCell anaOdd\">1</div><div class=\"anaCell anaOdd anaSubcolRight\"><div class=\"anaNegative\">(-50.00%)</div></div><div class=\"anaIndex anaEven\">AnVIL_CSER_NYCKIDSSEQ_HMB</div><div class=\"anaCell anaEven anaSubcolLeft\"><div class=\"down\"></div></div><div class=\"anaCell anaEven\">1</div><div class=\"anaCell anaEven anaSubcolRight\"><div class=\"anaZero\">(+0.00%)</div></div><div class=\"anaIndex anaOdd\">AnVIL_CSER_ClinSeq_GRU</div><div class=\"anaCell anaOdd anaSubcolLeft\"><div class=\"new\"></div></div><div class=\"anaCell anaOdd\">1</div><div class=\"anaCell anaOdd anaSubcolRight\"></div></div>"
      ],
      "text/plain": [
       "<IPython.core.display.HTML object>"
      ]
     },
     "metadata": {},
     "output_type": "display_data"
    }
   ],
   "source": [
    "ac.show_difference_table(\"Count\", \"Resource\", \"ga:hits\", \"ga:eventLabel\", filters=\"ga:eventCategory==External Link;ga:dimension1==Workspace\", **default_params)"
   ]
  },
  {
   "cell_type": "markdown",
   "id": "0592b63a",
   "metadata": {},
   "source": [
    "<div style=\"page-break-after: always\"></div>"
   ]
  },
  {
   "cell_type": "markdown",
   "id": "ad319d17",
   "metadata": {},
   "source": [
    "## Outbound Links to dbGap\n",
    "### Top Studies"
   ]
  },
  {
   "cell_type": "code",
   "execution_count": 15,
   "id": "5df94974",
   "metadata": {
    "tags": [
     "remove-input"
    ]
   },
   "outputs": [
    {
     "data": {
      "text/html": [
       "<div class=\"analyticsTable\" style=\"grid-template-columns: 1fr var(--symbol-width) minmax(var(--value-width), min-content) minmax(var(--percentage-width), min-content)\"><div class=\"anaIndex anaColName\">Study ID</div><div class=\"anaColName\" style=\"grid-column: span 3\">Count</div><div class=\"anaIndex anaEven\">phs000298</div><div class=\"anaCell anaEven anaSubcolLeft\"></div><div class=\"anaCell anaEven\">11</div><div class=\"anaCell anaEven anaSubcolRight\"><div class=\"anaZero\">(+0.00%)</div></div><div class=\"anaIndex anaOdd\">phs000424</div><div class=\"anaCell anaOdd anaSubcolLeft\"><div class=\"up\"></div></div><div class=\"anaCell anaOdd\">6</div><div class=\"anaCell anaOdd anaSubcolRight\"><div class=\"anaPositive\">(+200.00%)</div></div><div class=\"anaIndex anaEven\">phs001272</div><div class=\"anaCell anaEven anaSubcolLeft\"><div class=\"up\"></div></div><div class=\"anaCell anaEven\">5</div><div class=\"anaCell anaEven anaSubcolRight\"><div class=\"anaPositive\">(+66.67%)</div></div><div class=\"anaIndex anaOdd\">phs001766</div><div class=\"anaCell anaOdd anaSubcolLeft\"><div class=\"up\"></div></div><div class=\"anaCell anaOdd\">3</div><div class=\"anaCell anaOdd anaSubcolRight\"><div class=\"anaZero\">(+0.00%)</div></div><div class=\"anaIndex anaEven\">phs001211</div><div class=\"anaCell anaEven anaSubcolLeft\"><div class=\"new\"></div></div><div class=\"anaCell anaEven\">2</div><div class=\"anaCell anaEven anaSubcolRight\"></div><div class=\"anaIndex anaOdd\">phs001642</div><div class=\"anaCell anaOdd anaSubcolLeft\"><div class=\"new\"></div></div><div class=\"anaCell anaOdd\">2</div><div class=\"anaCell anaOdd anaSubcolRight\"></div><div class=\"anaIndex anaEven\">phs002032</div><div class=\"anaCell anaEven anaSubcolLeft\"><div class=\"new\"></div></div><div class=\"anaCell anaEven\">2</div><div class=\"anaCell anaEven anaSubcolRight\"></div><div class=\"anaIndex anaOdd\">phs002042</div><div class=\"anaCell anaOdd anaSubcolLeft\"><div class=\"down\"></div></div><div class=\"anaCell anaOdd\">2</div><div class=\"anaCell anaOdd anaSubcolRight\"><div class=\"anaNegative\">(-33.33%)</div></div><div class=\"anaIndex anaEven\">phs000651</div><div class=\"anaCell anaEven anaSubcolLeft\"><div class=\"new\"></div></div><div class=\"anaCell anaEven\">1</div><div class=\"anaCell anaEven anaSubcolRight\"></div><div class=\"anaIndex anaOdd\">phs001644</div><div class=\"anaCell anaOdd anaSubcolLeft\"><div class=\"new\"></div></div><div class=\"anaCell anaOdd\">1</div><div class=\"anaCell anaOdd anaSubcolRight\"></div></div>"
      ],
      "text/plain": [
       "<IPython.core.display.HTML object>"
      ]
     },
     "metadata": {},
     "output_type": "display_data"
    }
   ],
   "source": [
    "ac.show_difference_table(\"Count\", \"Study ID\", \"ga:hits\", \"ga:eventLabel\", filters=\"ga:dimension1==Study;ga:eventLabel=~^phs\", **default_params)"
   ]
  },
  {
   "cell_type": "markdown",
   "id": "c59d9834",
   "metadata": {
    "tags": [
     "remove-cell"
    ]
   },
   "source": [
    "## Outbound Links to Dockstore\n",
    "### Links to Dockstore Organization Page"
   ]
  },
  {
   "cell_type": "code",
   "execution_count": 31,
   "id": "a917723f",
   "metadata": {
    "tags": [
     "remove-input",
     "remove-cell"
    ]
   },
   "outputs": [
    {
     "data": {
      "text/html": [
       "<div class=\"analyticsTable\" style=\"grid-template-columns: 1fr var(--symbol-width) minmax(var(--value-width), min-content) minmax(var(--percentage-width), min-content)\"><div class=\"anaIndex anaColName\">URL</div><div class=\"anaColName\" style=\"grid-column: span 3\">Count</div></div>"
      ],
      "text/plain": [
       "<IPython.core.display.HTML object>"
      ]
     },
     "metadata": {},
     "output_type": "display_data"
    }
   ],
   "source": [
    "ac.show_difference_table(\"Count\", \"URL\", \"ga:hits\", \"ga:eventLabel\", filters=\"ga:eventCategory==External Link;ga:dimension3==https://dockstore.org/organizations/anvil\", **default_params)"
   ]
  },
  {
   "cell_type": "markdown",
   "id": "0f10931e",
   "metadata": {
    "tags": [
     "remove-cell"
    ]
   },
   "source": [
    "### Top References"
   ]
  },
  {
   "cell_type": "code",
   "execution_count": 29,
   "id": "080d2462",
   "metadata": {
    "tags": [
     "remove-input",
     "remove-cell"
    ]
   },
   "outputs": [
    {
     "data": {
      "text/html": [
       "<div class=\"analyticsTable\" style=\"grid-template-columns: 1fr var(--symbol-width) minmax(var(--value-width), min-content) minmax(var(--percentage-width), min-content)\"><div class=\"anaIndex anaColName\">URL</div><div class=\"anaColName\" style=\"grid-column: span 3\">Count</div></div>"
      ],
      "text/plain": [
       "<IPython.core.display.HTML object>"
      ]
     },
     "metadata": {},
     "output_type": "display_data"
    }
   ],
   "source": [
    "ac.show_difference_table(\"Count\", \"URL\", \"ga:hits\", \"ga:eventLabel\", filters=\"ga:eventCategory==External Link;ga:dimension1==Reference;ga:dimension2==Dockstore\", **default_params)"
   ]
  },
  {
   "cell_type": "markdown",
   "id": "6d12a5fb",
   "metadata": {
    "tags": [
     "remove-cell"
    ]
   },
   "source": [
    "## Outbound Links to Gen3\n",
    "### Links to Gen3 Data Browser"
   ]
  },
  {
   "cell_type": "code",
   "execution_count": 8,
   "id": "099853c6",
   "metadata": {
    "tags": [
     "remove-input",
     "remove-cell"
    ]
   },
   "outputs": [
    {
     "data": {
      "text/html": [
       "<div class=\"analyticsTable\" style=\"grid-template-columns: 1fr var(--symbol-width) minmax(var(--value-width), min-content) minmax(var(--percentage-width), min-content)\"><div class=\"anaIndex anaColName\">URL</div><div class=\"anaColName\" style=\"grid-column: span 3\">Count</div></div>"
      ],
      "text/plain": [
       "<IPython.core.display.HTML object>"
      ]
     },
     "metadata": {},
     "output_type": "display_data"
    }
   ],
   "source": [
    "ac.show_difference_table(\"Count\", \"URL\", \"ga:hits\", \"ga:dimension3\", filters=\"ga:eventCategory==External Link;ga:dimension3==https://gen3.theanvil.io/\", **default_params)"
   ]
  },
  {
   "cell_type": "markdown",
   "id": "3bc4f689",
   "metadata": {},
   "source": [
    "## Outbound Links to Tools"
   ]
  },
  {
   "cell_type": "code",
   "execution_count": 19,
   "id": "5264ac7c",
   "metadata": {
    "tags": [
     "remove-input"
    ]
   },
   "outputs": [
    {
     "data": {
      "text/html": [
       "<div class=\"analyticsTable\" style=\"grid-template-columns: 1fr var(--symbol-width) minmax(var(--value-width), min-content) minmax(var(--percentage-width), min-content)\"><div class=\"anaIndex anaColName\">Tool</div><div class=\"anaColName\" style=\"grid-column: span 3\">Count</div><div class=\"anaIndex anaEven\">Galaxy</div><div class=\"anaCell anaEven anaSubcolLeft\"></div><div class=\"anaCell anaEven\">7</div><div class=\"anaCell anaEven anaSubcolRight\"><div class=\"anaPositive\">(+40.00%)</div></div><div class=\"anaIndex anaOdd\">Bioconductor</div><div class=\"anaCell anaOdd anaSubcolLeft\"><div class=\"up\"></div></div><div class=\"anaCell anaOdd\">1</div><div class=\"anaCell anaOdd anaSubcolRight\"><div class=\"anaNegative\">(-50.00%)</div></div><div class=\"anaIndex anaEven\">R Studio</div><div class=\"anaCell anaEven anaSubcolLeft\"><div class=\"up\"></div></div><div class=\"anaCell anaEven\">1</div><div class=\"anaCell anaEven anaSubcolRight\"><div class=\"anaZero\">(+0.00%)</div></div><div class=\"anaIndex anaOdd\">WDL</div><div class=\"anaCell anaOdd anaSubcolLeft\"><div class=\"down\"></div></div><div class=\"anaCell anaOdd\">1</div><div class=\"anaCell anaOdd anaSubcolRight\"><div class=\"anaNegative\">(-66.67%)</div></div></div>"
      ],
      "text/plain": [
       "<IPython.core.display.HTML object>"
      ]
     },
     "metadata": {},
     "output_type": "display_data"
    }
   ],
   "source": [
    "ac.show_difference_table(\"Count\", \"Tool\", \"ga:hits\", \"ga:eventLabel\", filters=\"ga:eventCategory==External Link;ga:dimension1==Tool\", **default_params)"
   ]
  },
  {
   "cell_type": "markdown",
   "id": "8e77bb04",
   "metadata": {},
   "source": [
    "## Outbound Links to General Resources (NIH/NHGRI)"
   ]
  },
  {
   "cell_type": "code",
   "execution_count": 21,
   "id": "1bd2ce95",
   "metadata": {
    "tags": [
     "remove-input"
    ]
   },
   "outputs": [
    {
     "data": {
      "text/html": [
       "<div class=\"analyticsTable\" style=\"grid-template-columns: repeat(1, auto) 1fr var(--symbol-width) minmax(var(--value-width), min-content) minmax(var(--percentage-width), min-content)\"><div class=\"anaIndex anaColName\">NIH/NHGRI</div><div class=\"anaIndex anaColName\">URL</div><div class=\"anaColName\" style=\"grid-column: span 3\">Count</div><div class=\"anaIndex anaEven\">NHGRI</div><div class=\"anaIndex anaEven\">https://www.genome.gov/Funded-Programs-Projects/Computational-Genomics-and-Data-Science-Program/Genomic-Analysis-Visualization-Informatics-Lab-space-AnVIL</div><div class=\"anaCell anaEven anaSubcolLeft\"></div><div class=\"anaCell anaEven\">5</div><div class=\"anaCell anaEven anaSubcolRight\"><div class=\"anaNegative\">(-16.67%)</div></div><div class=\"anaIndex anaOdd\">NHGRI</div><div class=\"anaIndex anaOdd\">https://www.genome.gov/Funded-Programs-Projects/Computational-Genomics-and-Data-Science-Program/Genomic-Analysis-Visualization-Informatics-Lab-space-AnVIL#externalconsultantcommittee</div><div class=\"anaCell anaOdd anaSubcolLeft\"></div><div class=\"anaCell anaOdd\">4</div><div class=\"anaCell anaOdd anaSubcolRight\"><div class=\"anaPositive\">(+300.00%)</div></div><div class=\"anaIndex anaEven\">NIH</div><div class=\"anaIndex anaEven\">http://www.ncbi.nlm.nih.gov/projects/gap/cgi-bin/GetPdf.cgi?document_name=GeneralAAInstructions.pdf</div><div class=\"anaCell anaEven anaSubcolLeft\"><div class=\"new\"></div></div><div class=\"anaCell anaEven\">1</div><div class=\"anaCell anaEven anaSubcolRight\"></div><div class=\"anaIndex anaOdd\">NIH</div><div class=\"anaIndex anaOdd\">https://datascience.nih.gov/strides</div><div class=\"anaCell anaOdd anaSubcolLeft\"><div class=\"up\"></div></div><div class=\"anaCell anaOdd\">1</div><div class=\"anaCell anaOdd anaSubcolRight\"><div class=\"anaZero\">(+0.00%)</div></div></div>"
      ],
      "text/plain": [
       "<IPython.core.display.HTML object>"
      ]
     },
     "metadata": {},
     "output_type": "display_data"
    }
   ],
   "source": [
    "ac.show_difference_table(\"Count\", [\"NIH/NHGRI\", \"URL\"], \"ga:hits\", [\"ga:dimension2\", \"ga:dimension3\"], filters=\"ga:eventCategory==External Link;ga:dimension1==Reference;ga:dimension2=~NIH|NHGRI\", **default_params)"
   ]
  },
  {
   "cell_type": "markdown",
   "id": "c4c746bb",
   "metadata": {},
   "source": [
    "<div style=\"page-break-after: always\"></div>"
   ]
  },
  {
   "cell_type": "markdown",
   "id": "f864a416",
   "metadata": {},
   "source": [
    "## Outbound Links to Data Consortia"
   ]
  },
  {
   "cell_type": "code",
   "execution_count": 20,
   "id": "9437ad49",
   "metadata": {
    "tags": [
     "remove-input"
    ]
   },
   "outputs": [
    {
     "data": {
      "text/html": [
       "<div class=\"analyticsTable\" style=\"grid-template-columns: 1fr var(--symbol-width) minmax(var(--value-width), min-content) minmax(var(--percentage-width), min-content)\"><div class=\"anaIndex anaColName\">Consortia</div><div class=\"anaColName\" style=\"grid-column: span 3\">Count</div><div class=\"anaIndex anaEven\">1000 Genomes</div><div class=\"anaCell anaEven anaSubcolLeft\"><div class=\"up\"></div></div><div class=\"anaCell anaEven\">18</div><div class=\"anaCell anaEven anaSubcolRight\"><div class=\"anaPositive\">(+12.50%)</div></div><div class=\"anaIndex anaOdd\">CCDG</div><div class=\"anaCell anaOdd anaSubcolLeft\"><div class=\"up\"></div></div><div class=\"anaCell anaOdd\">18</div><div class=\"anaCell anaOdd anaSubcolRight\"><div class=\"anaPositive\">(+125.00%)</div></div><div class=\"anaIndex anaEven\">CMG</div><div class=\"anaCell anaEven anaSubcolLeft\"><div class=\"up\"></div></div><div class=\"anaCell anaEven\">7</div><div class=\"anaCell anaEven anaSubcolRight\"><div class=\"anaPositive\">(+40.00%)</div></div><div class=\"anaIndex anaOdd\">eMERGE</div><div class=\"anaCell anaOdd anaSubcolLeft\"></div><div class=\"anaCell anaOdd\">4</div><div class=\"anaCell anaOdd anaSubcolRight\"><div class=\"anaNegative\">(-33.33%)</div></div><div class=\"anaIndex anaEven\">GTEx v9</div><div class=\"anaCell anaEven anaSubcolLeft\"><div class=\"new\"></div></div><div class=\"anaCell anaEven\">1</div><div class=\"anaCell anaEven anaSubcolRight\"></div><div class=\"anaIndex anaOdd\">HPRC</div><div class=\"anaCell anaOdd anaSubcolLeft\"><div class=\"new\"></div></div><div class=\"anaCell anaOdd\">1</div><div class=\"anaCell anaOdd anaSubcolRight\"></div><div class=\"anaIndex anaEven\">NIA</div><div class=\"anaCell anaEven anaSubcolLeft\"><div class=\"new\"></div></div><div class=\"anaCell anaEven\">1</div><div class=\"anaCell anaEven anaSubcolRight\"></div></div>"
      ],
      "text/plain": [
       "<IPython.core.display.HTML object>"
      ]
     },
     "metadata": {},
     "output_type": "display_data"
    }
   ],
   "source": [
    "ac.show_difference_table(\"Count\", \"Consortia\", \"ga:hits\", \"ga:eventLabel\", filters=\"ga:eventCategory==External Link;ga:dimension1==Data Consortium\", **default_params)"
   ]
  },
  {
   "cell_type": "markdown",
   "id": "4ce03658",
   "metadata": {},
   "source": [
    "## Video Views"
   ]
  },
  {
   "cell_type": "code",
   "execution_count": 22,
   "id": "91b6f0e6",
   "metadata": {
    "tags": [
     "remove-input"
    ]
   },
   "outputs": [
    {
     "data": {
      "text/html": [
       "<div class=\"analyticsTable\" style=\"grid-template-columns: 1fr var(--symbol-width) minmax(var(--value-width), min-content) minmax(var(--percentage-width), min-content)\"><div class=\"anaIndex anaColName\">Video</div><div class=\"anaColName\" style=\"grid-column: span 3\">Count</div><div class=\"anaIndex anaEven\">NCPI - Cross Platform Data Access Demo - July 2021</div><div class=\"anaCell anaEven anaSubcolLeft\"></div><div class=\"anaCell anaEven\">15</div><div class=\"anaCell anaEven anaSubcolRight\"><div class=\"anaPositive\">(+15.38%)</div></div><div class=\"anaIndex anaOdd\">Reproducible Analysis in the Cloud with Dockstore and Terra</div><div class=\"anaCell anaOdd anaSubcolLeft\"><div class=\"up\"></div></div><div class=\"anaCell anaOdd\">7</div><div class=\"anaCell anaOdd anaSubcolRight\"><div class=\"anaPositive\">(+600.00%)</div></div><div class=\"anaIndex anaEven\">AnVIL on Dockstore</div><div class=\"anaCell anaEven anaSubcolLeft\"><div class=\"up\"></div></div><div class=\"anaCell anaEven\">5</div><div class=\"anaCell anaEven anaSubcolRight\"><div class=\"anaZero\">(+0.00%)</div></div><div class=\"anaIndex anaOdd\">Week 3: Running a Workflow</div><div class=\"anaCell anaOdd anaSubcolLeft\"></div><div class=\"anaCell anaOdd\">5</div><div class=\"anaCell anaOdd anaSubcolRight\"><div class=\"anaNegative\">(-16.67%)</div></div><div class=\"anaIndex anaEven\">Week 1: Using R / Bioconductor in AnVIL</div><div class=\"anaCell anaEven anaSubcolLeft\"><div class=\"up\"></div></div><div class=\"anaCell anaEven\">4</div><div class=\"anaCell anaEven anaSubcolRight\"><div class=\"anaPositive\">(+33.33%)</div></div><div class=\"anaIndex anaOdd\">Terra Quicktips: Making Data Tables Using a Template</div><div class=\"anaCell anaOdd anaSubcolLeft\"><div class=\"new\"></div></div><div class=\"anaCell anaOdd\">4</div><div class=\"anaCell anaOdd anaSubcolRight\"></div><div class=\"anaIndex anaEven\">Week 4: Single-cell RNASeq with &#x27;Orchestrating Single Cell Analysis&#x27; in R / Bioconductor</div><div class=\"anaCell anaEven anaSubcolLeft\"><div class=\"down\"></div></div><div class=\"anaCell anaEven\">4</div><div class=\"anaCell anaEven anaSubcolRight\"><div class=\"anaNegative\">(-50.00%)</div></div><div class=\"anaIndex anaOdd\">Dockstore: An Introduction</div><div class=\"anaCell anaOdd anaSubcolLeft\"><div class=\"new\"></div></div><div class=\"anaCell anaOdd\">3</div><div class=\"anaCell anaOdd anaSubcolRight\"></div><div class=\"anaIndex anaEven\">Galaxy On AnVIL Walkthrough</div><div class=\"anaCell anaEven anaSubcolLeft\"><div class=\"down\"></div></div><div class=\"anaCell anaEven\">2</div><div class=\"anaCell anaEven anaSubcolRight\"><div class=\"anaNegative\">(-75.00%)</div></div><div class=\"anaIndex anaOdd\">NCPI 2020-04-16 LINE1 (McKerrow)</div><div class=\"anaCell anaOdd anaSubcolLeft\"><div class=\"new\"></div></div><div class=\"anaCell anaOdd\">2</div><div class=\"anaCell anaOdd anaSubcolRight\"></div><div class=\"anaIndex anaEven\">CGC Webinar Series - June 2021</div><div class=\"anaCell anaEven anaSubcolLeft\"><div class=\"new\"></div></div><div class=\"anaCell anaEven\">2</div><div class=\"anaCell anaEven anaSubcolRight\"></div><div class=\"anaIndex anaOdd\">Starting Galaxy on the AnVIL Platform</div><div class=\"anaCell anaOdd anaSubcolLeft\"><div class=\"new\"></div></div><div class=\"anaCell anaOdd\">2</div><div class=\"anaCell anaOdd anaSubcolRight\"></div><div class=\"anaIndex anaEven\">What is AnVIL?</div><div class=\"anaCell anaEven anaSubcolLeft\"><div class=\"up\"></div></div><div class=\"anaCell anaEven\">1</div><div class=\"anaCell anaEven anaSubcolRight\"><div class=\"anaZero\">(+0.00%)</div></div><div class=\"anaIndex anaOdd\">Week 7: Participant stories</div><div class=\"anaCell anaOdd anaSubcolLeft\"><div class=\"new\"></div></div><div class=\"anaCell anaOdd\">1</div><div class=\"anaCell anaOdd anaSubcolRight\"></div><div class=\"anaIndex anaEven\">Week 6: Reproducible research with AnVILPublish</div><div class=\"anaCell anaEven anaSubcolLeft\"><div class=\"new\"></div></div><div class=\"anaCell anaEven\">1</div><div class=\"anaCell anaEven anaSubcolRight\"></div><div class=\"anaIndex anaOdd\">seqr: Matchmaker Exchange</div><div class=\"anaCell anaOdd anaSubcolLeft\"><div class=\"new\"></div></div><div class=\"anaCell anaOdd\">1</div><div class=\"anaCell anaOdd anaSubcolRight\"></div><div class=\"anaIndex anaEven\">AnVIL for Instructors</div><div class=\"anaCell anaEven anaSubcolLeft\"><div class=\"new\"></div></div><div class=\"anaCell anaEven\">1</div><div class=\"anaCell anaEven anaSubcolRight\"></div><div class=\"anaIndex anaOdd\">Sharing on AnVIL</div><div class=\"anaCell anaOdd anaSubcolLeft\"><div class=\"new\"></div></div><div class=\"anaCell anaOdd\">1</div><div class=\"anaCell anaOdd anaSubcolRight\"></div><div class=\"anaIndex anaEven\">Using Workspaces in Terra</div><div class=\"anaCell anaEven anaSubcolLeft\"><div class=\"down\"></div></div><div class=\"anaCell anaEven\">1</div><div class=\"anaCell anaEven anaSubcolRight\"><div class=\"anaNegative\">(-83.33%)</div></div><div class=\"anaIndex anaOdd\">Use case: GATK</div><div class=\"anaCell anaOdd anaSubcolLeft\"><div class=\"down\"></div></div><div class=\"anaCell anaOdd\">1</div><div class=\"anaCell anaOdd anaSubcolRight\"><div class=\"anaZero\">(+0.00%)</div></div><div class=\"anaIndex anaEven\">NCPI Fall 2021 Sex as a biological variable Wilson</div><div class=\"anaCell anaEven anaSubcolLeft\"><div class=\"new\"></div></div><div class=\"anaCell anaEven\">1</div><div class=\"anaCell anaEven anaSubcolRight\"></div><div class=\"anaIndex anaOdd\">Kids First 2021 Spring Public Webinar</div><div class=\"anaCell anaOdd anaSubcolLeft\"><div class=\"down\"></div></div><div class=\"anaCell anaOdd\">1</div><div class=\"anaCell anaOdd anaSubcolRight\"><div class=\"anaNegative\">(-66.67%)</div></div><div class=\"anaIndex anaEven\">Introduction To Terra</div><div class=\"anaCell anaEven anaSubcolLeft\"><div class=\"new\"></div></div><div class=\"anaCell anaEven\">1</div><div class=\"anaCell anaEven anaSubcolRight\"></div><div class=\"anaIndex anaOdd\">Cloud Costs</div><div class=\"anaCell anaOdd anaSubcolLeft\"><div class=\"new\"></div></div><div class=\"anaCell anaOdd\">1</div><div class=\"anaCell anaOdd anaSubcolRight\"></div><div class=\"anaIndex anaEven\">seqr: Project page and phenotype entry</div><div class=\"anaCell anaEven anaSubcolLeft\"><div class=\"down\"></div></div><div class=\"anaCell anaEven\">1</div><div class=\"anaCell anaEven anaSubcolRight\"><div class=\"anaZero\">(+0.00%)</div></div></div>"
      ],
      "text/plain": [
       "<IPython.core.display.HTML object>"
      ]
     },
     "metadata": {},
     "output_type": "display_data"
    }
   ],
   "source": [
    "ac.show_difference_table(\"Count\", \"Video\", \"ga:hits\", \"ga:eventLabel\", filters=\"ga:eventCategory==Video;ga:eventAction==start\", rows_limit=25, **default_params)"
   ]
  },
  {
   "cell_type": "markdown",
   "id": "0fd4552c",
   "metadata": {},
   "source": [
    "<div style=\"page-break-after: always\"></div>"
   ]
  },
  {
   "cell_type": "markdown",
   "id": "a484055b",
   "metadata": {},
   "source": [
    "## Data Dashboard\n",
    "### Top Facet Terms"
   ]
  },
  {
   "cell_type": "code",
   "execution_count": 23,
   "id": "bd989a24",
   "metadata": {
    "tags": [
     "remove-input"
    ]
   },
   "outputs": [
    {
     "data": {
      "text/html": [
       "<div class=\"analyticsTable\" style=\"grid-template-columns: repeat(1, auto) 1fr var(--symbol-width) minmax(var(--value-width), min-content) minmax(var(--percentage-width), min-content)\"><div class=\"anaIndex anaColName\">Term Name</div><div class=\"anaIndex anaColName\">Facet</div><div class=\"anaColName\" style=\"grid-column: span 3\">Count</div><div class=\"anaIndex anaEven\">GTEx</div><div class=\"anaIndex anaEven\">consortium</div><div class=\"anaCell anaEven anaSubcolLeft\"><div class=\"new\"></div></div><div class=\"anaCell anaEven\">21</div><div class=\"anaCell anaEven anaSubcolRight\"></div><div class=\"anaIndex anaOdd\">Exome</div><div class=\"anaIndex anaOdd\">dataTypes</div><div class=\"anaCell anaOdd anaSubcolLeft\"><div class=\"up\"></div></div><div class=\"anaCell anaOdd\">18</div><div class=\"anaCell anaOdd anaSubcolRight\"><div class=\"anaPositive\">(+157.14%)</div></div><div class=\"anaIndex anaEven\">Whole Genome</div><div class=\"anaIndex anaEven\">dataTypes</div><div class=\"anaCell anaEven anaSubcolLeft\"></div><div class=\"anaCell anaEven\">17</div><div class=\"anaCell anaEven anaSubcolRight\"><div class=\"anaNegative\">(-15.00%)</div></div><div class=\"anaIndex anaOdd\">CCDG</div><div class=\"anaIndex anaOdd\">consortium</div><div class=\"anaCell anaOdd anaSubcolLeft\"><div class=\"down\"></div></div><div class=\"anaCell anaOdd\">13</div><div class=\"anaCell anaOdd anaSubcolRight\"><div class=\"anaNegative\">(-45.83%)</div></div><div class=\"anaIndex anaEven\">RNAseq</div><div class=\"anaIndex anaEven\">dataTypes</div><div class=\"anaCell anaEven anaSubcolLeft\"><div class=\"up\"></div></div><div class=\"anaCell anaEven\">12</div><div class=\"anaCell anaEven anaSubcolRight\"><div class=\"anaPositive\">(+140.00%)</div></div><div class=\"anaIndex anaOdd\">CRDC</div><div class=\"anaIndex anaOdd\">platforms</div><div class=\"anaCell anaOdd anaSubcolLeft\"><div class=\"new\"></div></div><div class=\"anaCell anaOdd\">11</div><div class=\"anaCell anaOdd anaSubcolRight\"></div><div class=\"anaIndex anaEven\">Genotyping Array</div><div class=\"anaIndex anaEven\">dataTypes</div><div class=\"anaCell anaEven anaSubcolLeft\"><div class=\"up\"></div></div><div class=\"anaCell anaEven\">10</div><div class=\"anaCell anaEven anaSubcolRight\"><div class=\"anaPositive\">(+233.33%)</div></div><div class=\"anaIndex anaOdd\">1000 Genomes</div><div class=\"anaIndex anaOdd\">consortium</div><div class=\"anaCell anaOdd anaSubcolLeft\"></div><div class=\"anaCell anaOdd\">9</div><div class=\"anaCell anaOdd anaSubcolRight\"><div class=\"anaNegative\">(-18.18%)</div></div><div class=\"anaIndex anaEven\">Alzheimer&#x27;s disease</div><div class=\"anaIndex anaEven\">diseases</div><div class=\"anaCell anaEven anaSubcolLeft\"><div class=\"up\"></div></div><div class=\"anaCell anaEven\">9</div><div class=\"anaCell anaEven anaSubcolRight\"><div class=\"anaPositive\">(+200.00%)</div></div><div class=\"anaIndex anaOdd\">Consortium Access</div><div class=\"anaIndex anaOdd\">accessType</div><div class=\"anaCell anaOdd anaSubcolLeft\"></div><div class=\"anaCell anaOdd\">9</div><div class=\"anaCell anaOdd anaSubcolRight\"><div class=\"anaZero\">(+0.00%)</div></div><div class=\"anaIndex anaEven\">Consortia Access Only</div><div class=\"anaIndex anaEven\">consentShortName</div><div class=\"anaCell anaEven anaSubcolLeft\"><div class=\"new\"></div></div><div class=\"anaCell anaEven\">9</div><div class=\"anaCell anaEven anaSubcolRight\"></div><div class=\"anaIndex anaOdd\">CMG</div><div class=\"anaIndex anaOdd\">consortium</div><div class=\"anaCell anaOdd anaSubcolLeft\"><div class=\"down\"></div></div><div class=\"anaCell anaOdd\">9</div><div class=\"anaCell anaOdd anaSubcolRight\"><div class=\"anaNegative\">(-30.77%)</div></div><div class=\"anaIndex anaEven\">Controlled Access</div><div class=\"anaIndex anaEven\">accessType</div><div class=\"anaCell anaEven anaSubcolLeft\"><div class=\"down\"></div></div><div class=\"anaCell anaEven\">8</div><div class=\"anaCell anaEven anaSubcolRight\"><div class=\"anaNegative\">(-33.33%)</div></div><div class=\"anaIndex anaOdd\">TBD</div><div class=\"anaIndex anaOdd\">dataTypes</div><div class=\"anaCell anaOdd anaSubcolLeft\"><div class=\"new\"></div></div><div class=\"anaCell anaOdd\">7</div><div class=\"anaCell anaOdd anaSubcolRight\"></div><div class=\"anaIndex anaEven\">atrial fibrillation</div><div class=\"anaIndex anaEven\">diseases</div><div class=\"anaCell anaEven anaSubcolLeft\"><div class=\"up\"></div></div><div class=\"anaCell anaEven\">7</div><div class=\"anaCell anaEven anaSubcolRight\"><div class=\"anaPositive\">(+133.33%)</div></div><div class=\"anaIndex anaOdd\">asthma</div><div class=\"anaIndex anaOdd\">diseases</div><div class=\"anaCell anaOdd anaSubcolLeft\"><div class=\"down\"></div></div><div class=\"anaCell anaOdd\">7</div><div class=\"anaCell anaOdd anaSubcolRight\"><div class=\"anaNegative\">(-56.25%)</div></div><div class=\"anaIndex anaEven\">No Restrictions</div><div class=\"anaIndex anaEven\">accessType</div><div class=\"anaCell anaEven anaSubcolLeft\"><div class=\"down\"></div></div><div class=\"anaCell anaEven\">6</div><div class=\"anaCell anaEven anaSubcolRight\"><div class=\"anaNegative\">(-62.50%)</div></div><div class=\"anaIndex anaOdd\">autism spectrum disorder</div><div class=\"anaIndex anaOdd\">diseases</div><div class=\"anaCell anaOdd anaSubcolLeft\"><div class=\"down\"></div></div><div class=\"anaCell anaOdd\">5</div><div class=\"anaCell anaOdd anaSubcolRight\"><div class=\"anaNegative\">(-16.67%)</div></div><div class=\"anaIndex anaEven\">cardiovascular system disease</div><div class=\"anaIndex anaEven\">diseases</div><div class=\"anaCell anaEven anaSubcolLeft\"><div class=\"new\"></div></div><div class=\"anaCell anaEven\">5</div><div class=\"anaCell anaEven anaSubcolRight\"></div><div class=\"anaIndex anaOdd\">Methylation Array</div><div class=\"anaIndex anaOdd\">dataTypes</div><div class=\"anaCell anaOdd anaSubcolLeft\"><div class=\"up\"></div></div><div class=\"anaCell anaOdd\">4</div><div class=\"anaCell anaOdd anaSubcolRight\"><div class=\"anaPositive\">(+100.00%)</div></div><div class=\"anaIndex anaEven\">Parent-Offspring Trios</div><div class=\"anaIndex anaEven\">studyDesigns</div><div class=\"anaCell anaEven anaSubcolLeft\"><div class=\"new\"></div></div><div class=\"anaCell anaEven\">4</div><div class=\"anaCell anaEven anaSubcolRight\"></div><div class=\"anaIndex anaOdd\">atherosclerosis</div><div class=\"anaIndex anaOdd\">diseases</div><div class=\"anaCell anaOdd anaSubcolLeft\"><div class=\"new\"></div></div><div class=\"anaCell anaOdd\">4</div><div class=\"anaCell anaOdd anaSubcolRight\"></div><div class=\"anaIndex anaEven\">inflammatory bowel disease</div><div class=\"anaIndex anaEven\">diseases</div><div class=\"anaCell anaEven anaSubcolLeft\"><div class=\"down\"></div></div><div class=\"anaCell anaEven\">4</div><div class=\"anaCell anaEven anaSubcolRight\"><div class=\"anaPositive\">(+33.33%)</div></div><div class=\"anaIndex anaOdd\">AnVIL</div><div class=\"anaIndex anaOdd\">platforms</div><div class=\"anaCell anaOdd anaSubcolLeft\"><div class=\"new\"></div></div><div class=\"anaCell anaOdd\">4</div><div class=\"anaCell anaOdd anaSubcolRight\"></div><div class=\"anaIndex anaEven\">Autism Spectrum Disorder (ASD)</div><div class=\"anaIndex anaEven\">dataUseLimitations</div><div class=\"anaCell anaEven anaSubcolLeft\"><div class=\"new\"></div></div><div class=\"anaCell anaEven\">4</div><div class=\"anaCell anaEven anaSubcolRight\"></div><div class=\"anaIndex anaOdd\">DS-ASD-MDS-PUB</div><div class=\"anaIndex anaOdd\">consentShortName</div><div class=\"anaCell anaOdd anaSubcolLeft\"><div class=\"new\"></div></div><div class=\"anaCell anaOdd\">4</div><div class=\"anaCell anaOdd anaSubcolRight\"></div><div class=\"anaIndex anaEven\">eMERGE</div><div class=\"anaIndex anaEven\">consortium</div><div class=\"anaCell anaEven anaSubcolLeft\"><div class=\"down\"></div></div><div class=\"anaCell anaEven\">4</div><div class=\"anaCell anaEven anaSubcolRight\"><div class=\"anaNegative\">(-20.00%)</div></div><div class=\"anaIndex anaOdd\">CSER</div><div class=\"anaIndex anaOdd\">consortium</div><div class=\"anaCell anaOdd anaSubcolLeft\"><div class=\"down\"></div></div><div class=\"anaCell anaOdd\">4</div><div class=\"anaCell anaOdd anaSubcolRight\"><div class=\"anaZero\">(+0.00%)</div></div><div class=\"anaIndex anaEven\">control</div><div class=\"anaIndex anaEven\">diseases</div><div class=\"anaCell anaEven anaSubcolLeft\"><div class=\"new\"></div></div><div class=\"anaCell anaEven\">3</div><div class=\"anaCell anaEven anaSubcolRight\"></div><div class=\"anaIndex anaOdd\">Pooled Genomic Seq</div><div class=\"anaIndex anaOdd\">dataTypes</div><div class=\"anaCell anaOdd anaSubcolLeft\"><div class=\"new\"></div></div><div class=\"anaCell anaOdd\">3</div><div class=\"anaCell anaOdd anaSubcolRight\"></div></div>"
      ],
      "text/plain": [
       "<IPython.core.display.HTML object>"
      ]
     },
     "metadata": {},
     "output_type": "display_data"
    }
   ],
   "source": [
    "ac.show_difference_table(\"Count\", [\"Term Name\", \"Facet\"], \"ga:hits\", [\"ga:eventLabel\", \"ga:dimension5\"], filters=\"ga:eventCategory==Search;ga:eventAction==Select\", **default_params)"
   ]
  },
  {
   "cell_type": "markdown",
   "id": "b47bc757",
   "metadata": {},
   "source": [
    "<div style=\"page-break-after: always\"></div>"
   ]
  },
  {
   "cell_type": "markdown",
   "id": "cce1253e",
   "metadata": {},
   "source": [
    "### Top Text Searches"
   ]
  },
  {
   "cell_type": "code",
   "execution_count": 24,
   "id": "a6d6523d",
   "metadata": {
    "tags": [
     "remove-input"
    ]
   },
   "outputs": [
    {
     "data": {
      "text/html": [
       "<div class=\"analyticsTable\" style=\"grid-template-columns: 1fr var(--symbol-width) minmax(var(--value-width), min-content) minmax(var(--percentage-width), min-content)\"><div class=\"anaIndex anaColName\">Text Input</div><div class=\"anaColName\" style=\"grid-column: span 3\">Count</div><div class=\"anaIndex anaEven\">cser</div><div class=\"anaCell anaEven anaSubcolLeft\"><div class=\"up\"></div></div><div class=\"anaCell anaEven\">6</div><div class=\"anaCell anaEven anaSubcolRight\"><div class=\"anaZero\">(+0.00%)</div></div><div class=\"anaIndex anaOdd\">gte</div><div class=\"anaCell anaOdd anaSubcolLeft\"><div class=\"new\"></div></div><div class=\"anaCell anaOdd\">4</div><div class=\"anaCell anaOdd anaSubcolRight\"></div><div class=\"anaIndex anaEven\">phs000424</div><div class=\"anaCell anaEven anaSubcolLeft\"><div class=\"new\"></div></div><div class=\"anaCell anaEven\">4</div><div class=\"anaCell anaEven anaSubcolRight\"></div><div class=\"anaIndex anaOdd\">phs001211</div><div class=\"anaCell anaOdd anaSubcolLeft\"><div class=\"new\"></div></div><div class=\"anaCell anaOdd\">4</div><div class=\"anaCell anaOdd anaSubcolRight\"></div><div class=\"anaIndex anaEven\">phs001211.v</div><div class=\"anaCell anaEven anaSubcolLeft\"><div class=\"new\"></div></div><div class=\"anaCell anaEven\">4</div><div class=\"anaCell anaEven anaSubcolRight\"></div><div class=\"anaIndex anaOdd\">phs</div><div class=\"anaCell anaOdd anaSubcolLeft\"><div class=\"down\"></div></div><div class=\"anaCell anaOdd\">3</div><div class=\"anaCell anaOdd anaSubcolRight\"><div class=\"anaNegative\">(-40.00%)</div></div><div class=\"anaIndex anaEven\">phs001211.</div><div class=\"anaCell anaEven anaSubcolLeft\"><div class=\"new\"></div></div><div class=\"anaCell anaEven\">3</div><div class=\"anaCell anaEven anaSubcolRight\"></div><div class=\"anaIndex anaOdd\">phs001395</div><div class=\"anaCell anaOdd anaSubcolLeft\"><div class=\"new\"></div></div><div class=\"anaCell anaOdd\">3</div><div class=\"anaCell anaOdd anaSubcolRight\"></div><div class=\"anaIndex anaEven\">Rosmap</div><div class=\"anaCell anaEven anaSubcolLeft\"><div class=\"new\"></div></div><div class=\"anaCell anaEven\">2</div><div class=\"anaCell anaEven anaSubcolRight\"></div><div class=\"anaIndex anaOdd\">Rosm</div><div class=\"anaCell anaOdd anaSubcolLeft\"><div class=\"new\"></div></div><div class=\"anaCell anaOdd\">2</div><div class=\"anaCell anaOdd anaSubcolRight\"></div><div class=\"anaIndex anaEven\">Ros</div><div class=\"anaCell anaEven anaSubcolLeft\"><div class=\"new\"></div></div><div class=\"anaCell anaEven\">2</div><div class=\"anaCell anaEven anaSubcolRight\"></div><div class=\"anaIndex anaOdd\">Prostate cancer</div><div class=\"anaCell anaOdd anaSubcolLeft\"><div class=\"new\"></div></div><div class=\"anaCell anaOdd\">2</div><div class=\"anaCell anaOdd anaSubcolRight\"></div><div class=\"anaIndex anaEven\">environment</div><div class=\"anaCell anaEven anaSubcolLeft\"><div class=\"new\"></div></div><div class=\"anaCell anaEven\">2</div><div class=\"anaCell anaEven anaSubcolRight\"></div><div class=\"anaIndex anaOdd\">anvil_ccdg_broad_ai_ibd_daly_moayyedi_imagine_gsa</div><div class=\"anaCell anaOdd anaSubcolLeft\"><div class=\"new\"></div></div><div class=\"anaCell anaOdd\">2</div><div class=\"anaCell anaOdd anaSubcolRight\"></div><div class=\"anaIndex anaEven\">phs001211.v3</div><div class=\"anaCell anaEven anaSubcolLeft\"><div class=\"new\"></div></div><div class=\"anaCell anaEven\">2</div><div class=\"anaCell anaEven anaSubcolRight\"></div><div class=\"anaIndex anaOdd\">Rosma</div><div class=\"anaCell anaOdd anaSubcolLeft\"><div class=\"new\"></div></div><div class=\"anaCell anaOdd\">2</div><div class=\"anaCell anaOdd anaSubcolRight\"></div><div class=\"anaIndex anaEven\">gtex</div><div class=\"anaCell anaEven anaSubcolLeft\"><div class=\"down\"></div></div><div class=\"anaCell anaEven\">2</div><div class=\"anaCell anaEven anaSubcolRight\"><div class=\"anaNegative\">(-33.33%)</div></div><div class=\"anaIndex anaOdd\">phs0020</div><div class=\"anaCell anaOdd anaSubcolLeft\"><div class=\"down\"></div></div><div class=\"anaCell anaOdd\">2</div><div class=\"anaCell anaOdd anaSubcolRight\"><div class=\"anaNegative\">(-33.33%)</div></div><div class=\"anaIndex anaEven\">phs002032</div><div class=\"anaCell anaEven anaSubcolLeft\"><div class=\"down\"></div></div><div class=\"anaCell anaEven\">2</div><div class=\"anaCell anaEven anaSubcolRight\"><div class=\"anaNegative\">(-50.00%)</div></div><div class=\"anaIndex anaOdd\">https://anvil.terra.bio/#workspaces/anvil-datastorage/AnVIL_CCDG_Baylor_CVD_AFib_BioVU_WGS</div><div class=\"anaCell anaOdd anaSubcolLeft\"><div class=\"new\"></div></div><div class=\"anaCell anaOdd\">2</div><div class=\"anaCell anaOdd anaSubcolRight\"></div><div class=\"anaIndex anaEven\">case se</div><div class=\"anaCell anaEven anaSubcolLeft\"><div class=\"new\"></div></div><div class=\"anaCell anaEven\">2</div><div class=\"anaCell anaEven anaSubcolRight\"></div><div class=\"anaIndex anaOdd\">AnVIL_CCDG_Broad_CVD_EOCAD_PartnersBiobank_HMB_Arrays</div><div class=\"anaCell anaOdd anaSubcolLeft\"><div class=\"new\"></div></div><div class=\"anaCell anaOdd\">2</div><div class=\"anaCell anaOdd anaSubcolRight\"></div><div class=\"anaIndex anaEven\">mes</div><div class=\"anaCell anaEven anaSubcolLeft\"><div class=\"new\"></div></div><div class=\"anaCell anaEven\">1</div><div class=\"anaCell anaEven anaSubcolRight\"></div><div class=\"anaIndex anaOdd\">lung</div><div class=\"anaCell anaOdd anaSubcolLeft\"><div class=\"new\"></div></div><div class=\"anaCell anaOdd\">1</div><div class=\"anaCell anaOdd anaSubcolRight\"></div><div class=\"anaIndex anaEven\">phs000160</div><div class=\"anaCell anaEven anaSubcolLeft\"><div class=\"new\"></div></div><div class=\"anaCell anaEven\">1</div><div class=\"anaCell anaEven anaSubcolRight\"></div><div class=\"anaIndex anaOdd\">mesothelio</div><div class=\"anaCell anaOdd anaSubcolLeft\"><div class=\"new\"></div></div><div class=\"anaCell anaOdd\">1</div><div class=\"anaCell anaOdd anaSubcolRight\"></div><div class=\"anaIndex anaEven\">mesothel</div><div class=\"anaCell anaEven anaSubcolLeft\"><div class=\"new\"></div></div><div class=\"anaCell anaEven\">1</div><div class=\"anaCell anaEven anaSubcolRight\"></div><div class=\"anaIndex anaOdd\">oste</div><div class=\"anaCell anaOdd anaSubcolLeft\"><div class=\"new\"></div></div><div class=\"anaCell anaOdd\">1</div><div class=\"anaCell anaOdd anaSubcolRight\"></div><div class=\"anaIndex anaEven\">meso</div><div class=\"anaCell anaEven anaSubcolLeft\"><div class=\"new\"></div></div><div class=\"anaCell anaEven\">1</div><div class=\"anaCell anaEven anaSubcolRight\"></div><div class=\"anaIndex anaOdd\">mesothelioma</div><div class=\"anaCell anaOdd anaSubcolLeft\"><div class=\"new\"></div></div><div class=\"anaCell anaOdd\">1</div><div class=\"anaCell anaOdd anaSubcolRight\"></div></div>"
      ],
      "text/plain": [
       "<IPython.core.display.HTML object>"
      ]
     },
     "metadata": {},
     "output_type": "display_data"
    }
   ],
   "source": [
    "ac.show_difference_table(\"Count\", \"Text Input\", \"ga:hits\", \"ga:eventLabel\", filters=\"ga:eventCategory==Search;ga:eventAction==Enter Text;ga:eventLabel=~.{3\\\\,}\", **default_params)"
   ]
  },
  {
   "cell_type": "markdown",
   "id": "773d18d3",
   "metadata": {},
   "source": [
    "<div style=\"page-break-after: always\"></div>"
   ]
  },
  {
   "cell_type": "markdown",
   "id": "50658332",
   "metadata": {},
   "source": [
    "## Site Search\n",
    "### Top Text Searches"
   ]
  },
  {
   "cell_type": "code",
   "execution_count": 25,
   "id": "08375d58",
   "metadata": {
    "tags": [
     "remove-input"
    ]
   },
   "outputs": [
    {
     "data": {
      "text/html": [
       "<div class=\"analyticsTable\" style=\"grid-template-columns: 1fr var(--symbol-width) minmax(var(--value-width), min-content) minmax(var(--percentage-width), min-content)\"><div class=\"anaIndex anaColName\">Text Input</div><div class=\"anaColName\" style=\"grid-column: span 3\">Count</div><div class=\"anaIndex anaEven\">pharmcat</div><div class=\"anaCell anaEven anaSubcolLeft\"><div class=\"up\"></div></div><div class=\"anaCell anaEven\">2</div><div class=\"anaCell anaEven anaSubcolRight\"><div class=\"anaZero\">(+0.00%)</div></div><div class=\"anaIndex anaOdd\">phs001211.v4</div><div class=\"anaCell anaOdd anaSubcolLeft\"><div class=\"new\"></div></div><div class=\"anaCell anaOdd\">2</div><div class=\"anaCell anaOdd anaSubcolRight\"></div><div class=\"anaIndex anaEven\">download</div><div class=\"anaCell anaEven anaSubcolLeft\"><div class=\"new\"></div></div><div class=\"anaCell anaEven\">2</div><div class=\"anaCell anaEven anaSubcolRight\"></div><div class=\"anaIndex anaOdd\">dbGAP</div><div class=\"anaCell anaOdd anaSubcolLeft\"><div class=\"new\"></div></div><div class=\"anaCell anaOdd\">2</div><div class=\"anaCell anaOdd anaSubcolRight\"></div><div class=\"anaIndex anaEven\">pharmacat</div><div class=\"anaCell anaEven anaSubcolLeft\"><div class=\"new\"></div></div><div class=\"anaCell anaEven\">2</div><div class=\"anaCell anaEven anaSubcolRight\"></div><div class=\"anaIndex anaOdd\">ac2</div><div class=\"anaCell anaOdd anaSubcolLeft\"><div class=\"new\"></div></div><div class=\"anaCell anaOdd\">2</div><div class=\"anaCell anaOdd anaSubcolRight\"></div><div class=\"anaIndex anaEven\">000372</div><div class=\"anaCell anaEven anaSubcolLeft\"><div class=\"new\"></div></div><div class=\"anaCell anaEven\">1</div><div class=\"anaCell anaEven anaSubcolRight\"></div><div class=\"anaIndex anaOdd\">new line</div><div class=\"anaCell anaOdd anaSubcolLeft\"><div class=\"new\"></div></div><div class=\"anaCell anaOdd\">1</div><div class=\"anaCell anaOdd anaSubcolRight\"></div><div class=\"anaIndex anaEven\">phs000127</div><div class=\"anaCell anaEven anaSubcolLeft\"><div class=\"new\"></div></div><div class=\"anaCell anaEven\">1</div><div class=\"anaCell anaEven anaSubcolRight\"></div><div class=\"anaIndex anaOdd\">phs000101</div><div class=\"anaCell anaOdd anaSubcolLeft\"><div class=\"new\"></div></div><div class=\"anaCell anaOdd\">1</div><div class=\"anaCell anaOdd anaSubcolRight\"></div><div class=\"anaIndex anaEven\">onboarding form</div><div class=\"anaCell anaEven anaSubcolLeft\"><div class=\"up\"></div></div><div class=\"anaCell anaEven\">1</div><div class=\"anaCell anaEven anaSubcolRight\"><div class=\"anaZero\">(+0.00%)</div></div><div class=\"anaIndex anaOdd\">locally</div><div class=\"anaCell anaOdd anaSubcolLeft\"><div class=\"new\"></div></div><div class=\"anaCell anaOdd\">1</div><div class=\"anaCell anaOdd anaSubcolRight\"></div><div class=\"anaIndex anaEven\">make enter</div><div class=\"anaCell anaEven anaSubcolLeft\"><div class=\"new\"></div></div><div class=\"anaCell anaEven\">1</div><div class=\"anaCell anaEven anaSubcolRight\"></div><div class=\"anaIndex anaOdd\">list</div><div class=\"anaCell anaOdd anaSubcolLeft\"><div class=\"new\"></div></div><div class=\"anaCell anaOdd\">1</div><div class=\"anaCell anaOdd anaSubcolRight\"></div><div class=\"anaIndex anaEven\">janus</div><div class=\"anaCell anaEven anaSubcolLeft\"><div class=\"new\"></div></div><div class=\"anaCell anaEven\">1</div><div class=\"anaCell anaEven anaSubcolRight\"></div><div class=\"anaIndex anaOdd\">how to create paritial file</div><div class=\"anaCell anaOdd anaSubcolLeft\"><div class=\"new\"></div></div><div class=\"anaCell anaOdd\">1</div><div class=\"anaCell anaOdd anaSubcolRight\"></div><div class=\"anaIndex anaEven\">heart</div><div class=\"anaCell anaEven anaSubcolLeft\"><div class=\"new\"></div></div><div class=\"anaCell anaEven\">1</div><div class=\"anaCell anaEven anaSubcolRight\"></div><div class=\"anaIndex anaOdd\">haplotype by haplotype annotation</div><div class=\"anaCell anaOdd anaSubcolLeft\"><div class=\"new\"></div></div><div class=\"anaCell anaOdd\">1</div><div class=\"anaCell anaOdd anaSubcolRight\"></div><div class=\"anaIndex anaEven\">phs000372</div><div class=\"anaCell anaEven anaSubcolLeft\"><div class=\"new\"></div></div><div class=\"anaCell anaEven\">1</div><div class=\"anaCell anaEven anaSubcolRight\"></div><div class=\"anaIndex anaOdd\">phs000397</div><div class=\"anaCell anaOdd anaSubcolLeft\"><div class=\"new\"></div></div><div class=\"anaCell anaOdd\">1</div><div class=\"anaCell anaOdd anaSubcolRight\"></div><div class=\"anaIndex anaEven\">fee</div><div class=\"anaCell anaEven anaSubcolLeft\"><div class=\"new\"></div></div><div class=\"anaCell anaEven\">1</div><div class=\"anaCell anaEven anaSubcolRight\"></div><div class=\"anaIndex anaOdd\">ras</div><div class=\"anaCell anaOdd anaSubcolLeft\"><div class=\"new\"></div></div><div class=\"anaCell anaOdd\">1</div><div class=\"anaCell anaOdd anaSubcolRight\"></div><div class=\"anaIndex anaEven\">women&#x27;s T-shirts</div><div class=\"anaCell anaEven anaSubcolLeft\"><div class=\"new\"></div></div><div class=\"anaCell anaEven\">1</div><div class=\"anaCell anaEven anaSubcolRight\"></div><div class=\"anaIndex anaOdd\">unrestricted</div><div class=\"anaCell anaOdd anaSubcolLeft\"><div class=\"new\"></div></div><div class=\"anaCell anaOdd\">1</div><div class=\"anaCell anaOdd anaSubcolRight\"></div><div class=\"anaIndex anaEven\">topmed</div><div class=\"anaCell anaEven anaSubcolLeft\"><div class=\"new\"></div></div><div class=\"anaCell anaEven\">1</div><div class=\"anaCell anaEven anaSubcolRight\"></div><div class=\"anaIndex anaOdd\">terra</div><div class=\"anaCell anaOdd anaSubcolLeft\"><div class=\"up\"></div></div><div class=\"anaCell anaOdd\">1</div><div class=\"anaCell anaOdd anaSubcolRight\"><div class=\"anaZero\">(+0.00%)</div></div><div class=\"anaIndex anaEven\">single cell</div><div class=\"anaCell anaEven anaSubcolLeft\"><div class=\"new\"></div></div><div class=\"anaCell anaEven\">1</div><div class=\"anaCell anaEven anaSubcolRight\"></div><div class=\"anaIndex anaOdd\">seqr</div><div class=\"anaCell anaOdd anaSubcolLeft\"><div class=\"down\"></div></div><div class=\"anaCell anaOdd\">1</div><div class=\"anaCell anaOdd anaSubcolRight\"><div class=\"anaNegative\">(-50.00%)</div></div><div class=\"anaIndex anaEven\">phs002163</div><div class=\"anaCell anaEven anaSubcolLeft\"><div class=\"new\"></div></div><div class=\"anaCell anaEven\">1</div><div class=\"anaCell anaEven anaSubcolRight\"></div><div class=\"anaIndex anaOdd\">phs000615</div><div class=\"anaCell anaOdd anaSubcolLeft\"><div class=\"new\"></div></div><div class=\"anaCell anaOdd\">1</div><div class=\"anaCell anaOdd anaSubcolRight\"></div></div>"
      ],
      "text/plain": [
       "<IPython.core.display.HTML object>"
      ]
     },
     "metadata": {},
     "output_type": "display_data"
    }
   ],
   "source": [
    "ac.show_difference_table(\"Count\", \"Text Input\", \"ga:hits\", \"ga:eventLabel\", filters=\"ga:eventCategory==Site Search;ga:eventAction==Search;ga:eventLabel=~.{3\\\\,}\", **default_params)"
   ]
  },
  {
   "cell_type": "markdown",
   "id": "2f935d03",
   "metadata": {},
   "source": [
    "<div style=\"page-break-after: always\"></div>"
   ]
  },
  {
   "cell_type": "markdown",
   "id": "3a767848",
   "metadata": {},
   "source": [
    "### Top Search Click Throughs"
   ]
  },
  {
   "cell_type": "code",
   "execution_count": 26,
   "id": "dc60bbdd",
   "metadata": {
    "tags": [
     "remove-input"
    ]
   },
   "outputs": [
    {
     "data": {
      "text/html": [
       "<div class=\"analyticsTable\" style=\"grid-template-columns: 1fr var(--symbol-width) minmax(var(--value-width), min-content) minmax(var(--percentage-width), min-content)\"><div class=\"anaIndex anaColName\">Clicked Search Result</div><div class=\"anaColName\" style=\"grid-column: span 3\">Count</div><div class=\"anaIndex anaEven\">Data | The AnVIL</div><div class=\"anaCell anaEven anaSubcolLeft\"><div class=\"up\"></div></div><div class=\"anaCell anaEven\">6</div><div class=\"anaCell anaEven anaSubcolRight\"><div class=\"anaPositive\">(+200.00%)</div></div><div class=\"anaIndex anaOdd\">Saving data from an interactive analysis to your workspace bucket ...</div><div class=\"anaCell anaOdd anaSubcolLeft\"><div class=\"new\"></div></div><div class=\"anaCell anaOdd\">2</div><div class=\"anaCell anaOdd anaSubcolRight\"></div><div class=\"anaIndex anaEven\">FAQ - Data Submission | The AnVIL</div><div class=\"anaCell anaEven anaSubcolLeft\"><div class=\"up\"></div></div><div class=\"anaCell anaEven\">2</div><div class=\"anaCell anaEven anaSubcolRight\"><div class=\"anaZero\">(+0.00%)</div></div><div class=\"anaIndex anaOdd\">Gen3 Cloud Automation Recommendations - Using Gen3 - Gen3 ...</div><div class=\"anaCell anaOdd anaSubcolLeft\"><div class=\"new\"></div></div><div class=\"anaCell anaOdd\">2</div><div class=\"anaCell anaOdd anaSubcolRight\"></div><div class=\"anaIndex anaEven\">Accessing and analyzing custom cohorts with Data Explorer – Terra ...</div><div class=\"anaCell anaEven anaSubcolLeft\"><div class=\"new\"></div></div><div class=\"anaCell anaEven\">1</div><div class=\"anaCell anaEven anaSubcolRight\"></div><div class=\"anaIndex anaOdd\">Latest Using Gen3 topics - Gen3 Data Commons Software</div><div class=\"anaCell anaOdd anaSubcolLeft\"><div class=\"new\"></div></div><div class=\"anaCell anaOdd\">1</div><div class=\"anaCell anaOdd anaSubcolRight\"></div><div class=\"anaIndex anaEven\">Understanding Cloud Costs | The AnVIL</div><div class=\"anaCell anaEven anaSubcolLeft\"><div class=\"new\"></div></div><div class=\"anaCell anaEven\">1</div><div class=\"anaCell anaEven anaSubcolRight\"></div><div class=\"anaIndex anaOdd\">Step 4 - Ingest Data | The AnVIL</div><div class=\"anaCell anaOdd anaSubcolLeft\"><div class=\"new\"></div></div><div class=\"anaCell anaOdd\">1</div><div class=\"anaCell anaOdd anaSubcolRight\"></div><div class=\"anaIndex anaEven\">Step 2 - Set Up a Data Model | The AnVIL</div><div class=\"anaCell anaEven anaSubcolLeft\"><div class=\"up\"></div></div><div class=\"anaCell anaEven\">1</div><div class=\"anaCell anaEven anaSubcolRight\"><div class=\"anaZero\">(+0.00%)</div></div><div class=\"anaIndex anaOdd\">National Center for Biotechnology Information (NCBI) | NCPI</div><div class=\"anaCell anaOdd anaSubcolLeft\"><div class=\"new\"></div></div><div class=\"anaCell anaOdd\">1</div><div class=\"anaCell anaOdd anaSubcolRight\"></div><div class=\"anaIndex anaEven\">NIH Cloud Platform Interoperability Effort | NCPI</div><div class=\"anaCell anaEven anaSubcolLeft\"><div class=\"new\"></div></div><div class=\"anaCell anaEven\">1</div><div class=\"anaCell anaEven anaSubcolRight\"></div><div class=\"anaIndex anaOdd\">NHLBI TOPMed - NHGRI CCDG: Atherosclerosis Risk in ...</div><div class=\"anaCell anaOdd anaSubcolLeft\"><div class=\"new\"></div></div><div class=\"anaCell anaOdd\">1</div><div class=\"anaCell anaOdd anaSubcolRight\"></div><div class=\"anaIndex anaEven\">NCPI Data | NCPI</div><div class=\"anaCell anaEven anaSubcolLeft\"><div class=\"new\"></div></div><div class=\"anaCell anaEven\">1</div><div class=\"anaCell anaEven anaSubcolRight\"></div><div class=\"anaIndex anaOdd\">Getting Started with AnVIL | The AnVIL</div><div class=\"anaCell anaOdd anaSubcolLeft\"><div class=\"new\"></div></div><div class=\"anaCell anaOdd\">1</div><div class=\"anaCell anaOdd anaSubcolRight\"></div><div class=\"anaIndex anaEven\">July 23, 2019 – Terra Support</div><div class=\"anaCell anaEven anaSubcolLeft\"><div class=\"new\"></div></div><div class=\"anaCell anaEven\">1</div><div class=\"anaCell anaEven anaSubcolRight\"></div><div class=\"anaIndex anaOdd\">AnVIL Hosts Release 1 of the Human Pangenome Reference ...</div><div class=\"anaCell anaOdd anaSubcolLeft\"><div class=\"new\"></div></div><div class=\"anaCell anaOdd\">1</div><div class=\"anaCell anaOdd anaSubcolRight\"></div><div class=\"anaIndex anaEven\">Genetic Neuroscience: How Human Genes and Alleles Shape ...</div><div class=\"anaCell anaEven anaSubcolLeft\"><div class=\"down\"></div></div><div class=\"anaCell anaEven\">1</div><div class=\"anaCell anaEven anaSubcolRight\"><div class=\"anaNegative\">(-75.00%)</div></div><div class=\"anaIndex anaOdd\">FAQ - Data Security, Management, and Access Procedures | The ...</div><div class=\"anaCell anaOdd anaSubcolLeft\"><div class=\"up\"></div></div><div class=\"anaCell anaOdd\">1</div><div class=\"anaCell anaOdd anaSubcolRight\"><div class=\"anaZero\">(+0.00%)</div></div><div class=\"anaIndex anaEven\">CCDG NP Epilepsy: Epi25 Consortium | NCPI</div><div class=\"anaCell anaEven anaSubcolLeft\"><div class=\"new\"></div></div><div class=\"anaCell anaEven\">1</div><div class=\"anaCell anaEven anaSubcolRight\"></div><div class=\"anaIndex anaOdd\">Broad Institute Center for Mendelian Genomics | The AnVIL</div><div class=\"anaCell anaOdd anaSubcolLeft\"><div class=\"new\"></div></div><div class=\"anaCell anaOdd\">1</div><div class=\"anaCell anaOdd anaSubcolRight\"></div><div class=\"anaIndex anaEven\">Announcing the AnVIL Cloud Credits Program (AC2) Awardees ...</div><div class=\"anaCell anaEven anaSubcolLeft\"><div class=\"new\"></div></div><div class=\"anaCell anaEven\">1</div><div class=\"anaCell anaEven anaSubcolRight\"></div><div class=\"anaIndex anaOdd\">Announcing Seqr Availability in NHGRI&#x27;s AnVIL | The AnVIL</div><div class=\"anaCell anaOdd anaSubcolLeft\"><div class=\"new\"></div></div><div class=\"anaCell anaOdd\">1</div><div class=\"anaCell anaOdd anaSubcolRight\"></div><div class=\"anaIndex anaEven\">Washington University Coronary Artery Disease Study | NCPI</div><div class=\"anaCell anaEven anaSubcolLeft\"><div class=\"new\"></div></div><div class=\"anaCell anaEven\">1</div><div class=\"anaCell anaEven anaSubcolRight\"></div></div>"
      ],
      "text/plain": [
       "<IPython.core.display.HTML object>"
      ]
     },
     "metadata": {},
     "output_type": "display_data"
    }
   ],
   "source": [
    "ac.show_difference_table(\"Count\", \"Clicked Search Result\", \"ga:hits\", \"ga:eventLabel\", filters=\"ga:eventCategory==Site Search;ga:eventAction==Select Search Result\", **default_params)"
   ]
  },
  {
   "cell_type": "code",
   "execution_count": null,
   "id": "070c32c9",
   "metadata": {},
   "outputs": [],
   "source": []
  },
  {
   "cell_type": "code",
   "execution_count": null,
   "id": "512466e2",
   "metadata": {},
   "outputs": [],
   "source": []
  }
 ],
 "metadata": {
  "celltoolbar": "Tags",
  "kernelspec": {
   "display_name": "Python 3 (ipykernel)",
   "language": "python",
   "name": "python3"
  },
  "language_info": {
   "codemirror_mode": {
    "name": "ipython",
    "version": 3
   },
   "file_extension": ".py",
   "mimetype": "text/x-python",
   "name": "python",
   "nbconvert_exporter": "python",
   "pygments_lexer": "ipython3",
   "version": "3.9.7"
  }
 },
 "nbformat": 4,
 "nbformat_minor": 5
}
