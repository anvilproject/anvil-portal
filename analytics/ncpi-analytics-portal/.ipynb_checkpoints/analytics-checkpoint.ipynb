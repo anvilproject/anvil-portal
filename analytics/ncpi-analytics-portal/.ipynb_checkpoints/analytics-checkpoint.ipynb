{
 "cells": [
  {
   "cell_type": "markdown",
   "id": "98bd0cf6",
   "metadata": {},
   "source": [
    "```{image} ncpi-logo.svg\n",
    ":height: 75px\n",
    ":class: analytics-logo\n",
    "```\n",
    "\n",
    "# NCPI Portal User Analytics - January 2023 vs December 2022\n",
    "\n",
    "This section displays metrics collected from Google Analytics for the NCPI Portal at https://anvilproject.org/ncpi and compares January 2023 with the previous month (December 2022). The generation of this report is now coded in Jupyter notebooks and can be rerun easily and modified or consolidated as desired.\n",
    "\n",
    "### Key to tables\n",
    "\n",
    "On the tables:\n",
    "\n",
    "* Diffs, e.g. <span style=\"color: green\">(+19.04%)</span> or <span style=\"color: red\">(-12.03%)</span>, compare the later month with the previous month.\n",
    "* \"+\" Indicates the entry is new in the report in the current month.\n",
    "* \"↑\" Indicates the entry has moved up in rank since the last month.\n",
    "* \"↓\" Indicates the entry has moved down in rank since the last month."
   ]
  },
  {
   "cell_type": "code",
   "execution_count": 1,
   "id": "c1204f97",
   "metadata": {
    "tags": [
     "remove-cell"
    ]
   },
   "outputs": [],
   "source": [
    "import warnings\n",
    "warnings.filterwarnings('ignore')"
   ]
  },
  {
   "cell_type": "code",
   "execution_count": 2,
   "id": "c19c88f8",
   "metadata": {
    "scrolled": true,
    "tags": [
     "remove-cell"
    ]
   },
   "outputs": [],
   "source": [
    "# !pip install google_auth_oauthlib \n",
    "# !pip install install google-api-python-client\n",
    "# !pip install pandas \n",
    "# !pip install numpy\n",
    "# !pip install matplotlib\n",
    "# !pip install google-cloud-bigquery\n",
    "# !pip install db-dtypes\n",
    "\n",
    "# Analytics package:\n",
    "# !pip install -e \"git+https://github.com/DataBiosphere/data-browser.git@cd02023b142adf55a0e56e8a20dc361b4f0d1755#egg=analytics&subdirectory=analytics/hdgar-book/analytics_package\""
   ]
  },
  {
   "cell_type": "code",
   "execution_count": 11,
   "id": "70fb2997",
   "metadata": {
    "tags": [
     "remove-cell"
    ]
   },
   "outputs": [
    {
     "name": "stdout",
     "output_type": "stream",
     "text": [
      "The autoreload extension is already loaded. To reload it, use:\n",
      "  %reload_ext autoreload\n"
     ]
    }
   ],
   "source": [
    "from IPython.display import display\n",
    "import pandas as pd\n",
    "import analytics.charts as ac\n",
    "\n",
    "%load_ext autoreload\n",
    "%autoreload 2\n",
    "\n",
    "import analytics_ncpi as ncpi\n",
    "\n",
    "SECRET_NAME = 'ANVIL_ANALYTICS_REPORTING_CLIENT_SECRET_PATH'\n",
    "GA_PROPERTY = \"207946923\" # AnVIL portal\n",
    "ANALYTICS_START = \"2020-02-01\"\n",
    "TODAY = 'today'\n",
    "PERIOD = \"2023-01\"\n",
    "PREV_PERIOD = \"2022-12\"\n",
    "NCPI_FILTER = \"ga:pagePath=~^\\\\/ncpi(?:\\\\/|$)\""
   ]
  },
  {
   "cell_type": "code",
   "execution_count": 12,
   "id": "f2ff4193",
   "metadata": {
    "tags": [
     "remove-cell"
    ]
   },
   "outputs": [
    {
     "name": "stdout",
     "output_type": "stream",
     "text": [
      "Please visit this URL to authorize this application: https://accounts.google.com/o/oauth2/auth?response_type=code&client_id=526897014808-dq9pt3bmnutqqjdvj1f5roflpgcvqmpt.apps.googleusercontent.com&redirect_uri=http%3A%2F%2Flocalhost%3A8080%2F&scope=https%3A%2F%2Fwww.googleapis.com%2Fauth%2Fanalytics.readonly&state=nMVoH8kOtohwSg3OOcA9rTFKfDLDzh&access_type=offline\n"
     ]
    },
    {
     "data": {
      "text/plain": [
       "(<googleapiclient.discovery.Resource at 0xd0b5ad1190>,\n",
       " <function analytics.api.<lambda>(service, params)>,\n",
       " {},\n",
       " <google.oauth2.credentials.Credentials at 0xd0b5da7ee0>)"
      ]
     },
     "execution_count": 12,
     "metadata": {},
     "output_type": "execute_result"
    }
   ],
   "source": [
    "default_params = {\n",
    "    \"property\": GA_PROPERTY,\n",
    "    \"index_key_formatter\": ncpi.adjust_table_index_key,\n",
    "    \"period\": PERIOD,\n",
    "    \"prev_period\": PREV_PERIOD,\n",
    "    \"segment\": \"gaid::eDokyxviRSG9BnFaFbHPFw\"\n",
    "}\n",
    "\n",
    "ac.authenticate_ga(SECRET_NAME)"
   ]
  },
  {
   "cell_type": "code",
   "execution_count": 13,
   "id": "8653063d",
   "metadata": {
    "tags": [
     "remove-cell"
    ]
   },
   "outputs": [
    {
     "name": "stdout",
     "output_type": "stream",
     "text": [
      "Please visit this URL to authorize this application: https://accounts.google.com/o/oauth2/auth?response_type=code&client_id=526897014808-dq9pt3bmnutqqjdvj1f5roflpgcvqmpt.apps.googleusercontent.com&redirect_uri=http%3A%2F%2Flocalhost%3A8080%2F&scope=https%3A%2F%2Fwww.googleapis.com%2Fauth%2Fyt-analytics.readonly+https%3A%2F%2Fwww.googleapis.com%2Fauth%2Fyoutube&state=XAL9xN4Takh1yIyRDCL4fRNSOjZUyl&access_type=offline\n"
     ]
    }
   ],
   "source": [
    "default_params_yt = {\n",
    "    \"service_system\": ncpi.authenticate_yt(SECRET_NAME),\n",
    "    \"property\": \"channel==MINE\",\n",
    "    \"property_prefix\": \"\",\n",
    "    \"period\": PERIOD,\n",
    "    \"prev_period\": PREV_PERIOD\n",
    "}"
   ]
  },
  {
   "cell_type": "code",
   "execution_count": 9,
   "id": "3e54340a",
   "metadata": {
    "tags": [
     "remove-input"
    ]
   },
   "outputs": [
    {
     "data": {
      "text/html": [
       "\n",
       "\t\t<style>\n",
       "\t\t\t\n",
       "\t\t\t.analyticsTable {\n",
       "\t\t\t\tdisplay: grid;\n",
       "\t\t\t\t--symbol-width: 1.5em;\n",
       "\t\t\t\t--value-width: 2.9em;\n",
       "\t\t\t\t--percentage-width: 6.8em;\n",
       "\t\t\t}\n",
       "\t\t\t\n",
       "\t\t\t/*\n",
       "\t\t\t.anaEven {\n",
       "\t\t\t\tbackground: #f5f5f5;\n",
       "\t\t\t}\n",
       "\t\t\t*/\n",
       "\t\t\t\n",
       "\t\t\t.anaIndex:not(.anaColName) {\n",
       "\t\t\t\twhite-space: pre-wrap;\n",
       "\t\t\t\tline-break: anywhere;\n",
       "\t\t\t\tword-break: break-all;\n",
       "\t\t\t}\n",
       "\t\t\t\n",
       "\t\t\t.anaColName {\n",
       "\t\t\t\tfont-weight: bold;\n",
       "\t\t\t\tborder-bottom: 1px solid black;\n",
       "\t\t\t}\n",
       "\t\t\t\n",
       "\t\t\t.anaIndex, .anaColName, .anaCell {\n",
       "\t\t\t\tpadding: 0.3em;\n",
       "\t\t\t}\n",
       "\t\t\t\n",
       "\t\t\t.anaSubcolLeft, .anaIndex {\n",
       "\t\t\t\tpadding-left: 1em;\n",
       "\t\t\t}\n",
       "\t\t\t\n",
       "\t\t\t.anaSubcolRight {\n",
       "\t\t\t\tpadding-right: 1em;\n",
       "\t\t\t}\n",
       "\t\t\t\n",
       "\t\t\t.anaColName:not(.anaIndex) {\n",
       "\t\t\t\ttext-align: center;\n",
       "\t\t\t}\n",
       "\t\t\t\n",
       "\t\t\t.anaCell:not(.anaIndex) {\n",
       "\t\t\t\ttext-align: right;\n",
       "\t\t\t}\n",
       "\t\t\t\n",
       "\t\t\t.analyticsTable .up::before {\n",
       "\t\t\t\tcontent: \"↑\";\n",
       "\t\t\t\tcolor: gray;\n",
       "\t\t\t}\n",
       "\t\t\t\n",
       "\t\t\t.analyticsTable .down::before {\n",
       "\t\t\t\tcontent: \"↓\";\n",
       "\t\t\t\tcolor: gray;\n",
       "\t\t\t}\n",
       "\t\t\t\n",
       "\t\t\t.analyticsTable .new::before {\n",
       "\t\t\t\tcontent: \"+\";\n",
       "\t\t\t\tcolor: gray;\n",
       "\t\t\t}\n",
       "\t\t\t\n",
       "\t\t\t.anaPositive {\n",
       "\t\t\t\tcolor: green;\n",
       "\t\t\t}\n",
       "\t\t\t\n",
       "\t\t\t.anaNegative {\n",
       "\t\t\t\tcolor: red;\n",
       "\t\t\t}\n",
       "\t\t\t\n",
       "\t\t</style>\n",
       "\t"
      ],
      "text/plain": [
       "<IPython.core.display.HTML object>"
      ]
     },
     "metadata": {},
     "output_type": "display_data"
    }
   ],
   "source": [
    "ac.init_tables()"
   ]
  },
  {
   "cell_type": "markdown",
   "id": "1919eb1b",
   "metadata": {},
   "source": [
    "## Monthly Users and Page Views (All Time)"
   ]
  },
  {
   "cell_type": "code",
   "execution_count": 5,
   "id": "e55c82e7",
   "metadata": {
    "scrolled": false,
    "tags": [
     "remove-input"
    ]
   },
   "outputs": [
    {
     "data": {
      "image/png": "[encoded data removed]",
      "text/plain": [
       "<Figure size 1152x648 with 1 Axes>"
      ]
     },
     "metadata": {
      "needs_background": "light"
     },
     "output_type": "display_data"
    }
   ],
   "source": [
    "users_over_time_table = ncpi.plot_users_over_time(NCPI_FILTER, start_date=ANALYTICS_START, end_date=TODAY, **default_params)"
   ]
  },
  {
   "cell_type": "code",
   "execution_count": 6,
   "id": "b9203423",
   "metadata": {
    "tags": [
     "remove-input"
    ]
   },
   "outputs": [
    {
     "data": {
      "text/html": [
       "<div class=\"analyticsTable\" style=\"grid-template-columns: repeat(1, auto) 1fr minmax(var(--value-width), min-content) minmax(var(--percentage-width), min-content) minmax(var(--value-width), min-content) minmax(var(--percentage-width), min-content)\"><div class=\"anaIndex anaColName\">Year</div><div class=\"anaIndex anaColName\">Month</div><div class=\"anaColName\" style=\"grid-column: span 2\">Users</div><div class=\"anaColName\" style=\"grid-column: span 2\">Total Pageviews</div><div class=\"anaIndex anaEven\" style=\"grid-row: span 7\">2022</div><div class=\"anaIndex anaEven\" style=\"grid-row: span 1\">July</div><div class=\"anaCell anaEven anaSubcolLeft\">234</div><div class=\"anaCell anaEven anaSubcolRight\"></div><div class=\"anaCell anaEven anaSubcolLeft\">579</div><div class=\"anaCell anaEven anaSubcolRight\"></div><div class=\"anaIndex anaOdd\" style=\"grid-row: span 1\">June</div><div class=\"anaCell anaOdd anaSubcolLeft\">281</div><div class=\"anaCell anaOdd anaSubcolRight\"><div class=\"anaPositive\">(+20.09%)</div></div><div class=\"anaCell anaOdd anaSubcolLeft\">986</div><div class=\"anaCell anaOdd anaSubcolRight\"><div class=\"anaPositive\">(+70.29%)</div></div><div class=\"anaIndex anaEven\" style=\"grid-row: span 1\">May</div><div class=\"anaCell anaEven anaSubcolLeft\">382</div><div class=\"anaCell anaEven anaSubcolRight\"><div class=\"anaPositive\">(+35.94%)</div></div><div class=\"anaCell anaEven anaSubcolLeft\">1668</div><div class=\"anaCell anaEven anaSubcolRight\"><div class=\"anaPositive\">(+69.17%)</div></div><div class=\"anaIndex anaOdd\" style=\"grid-row: span 1\">April</div><div class=\"anaCell anaOdd anaSubcolLeft\">316</div><div class=\"anaCell anaOdd anaSubcolRight\"><div class=\"anaNegative\">(-17.28%)</div></div><div class=\"anaCell anaOdd anaSubcolLeft\">1023</div><div class=\"anaCell anaOdd anaSubcolRight\"><div class=\"anaNegative\">(-38.67%)</div></div><div class=\"anaIndex anaEven\" style=\"grid-row: span 1\">March</div><div class=\"anaCell anaEven anaSubcolLeft\">325</div><div class=\"anaCell anaEven anaSubcolRight\"><div class=\"anaPositive\">(+2.85%)</div></div><div class=\"anaCell anaEven anaSubcolLeft\">1533</div><div class=\"anaCell anaEven anaSubcolRight\"><div class=\"anaPositive\">(+49.85%)</div></div><div class=\"anaIndex anaOdd\" style=\"grid-row: span 1\">February</div><div class=\"anaCell anaOdd anaSubcolLeft\">277</div><div class=\"anaCell anaOdd anaSubcolRight\"><div class=\"anaNegative\">(-14.77%)</div></div><div class=\"anaCell anaOdd anaSubcolLeft\">961</div><div class=\"anaCell anaOdd anaSubcolRight\"><div class=\"anaNegative\">(-37.31%)</div></div><div class=\"anaIndex anaEven\" style=\"grid-row: span 1\">January</div><div class=\"anaCell anaEven anaSubcolLeft\">263</div><div class=\"anaCell anaEven anaSubcolRight\"><div class=\"anaNegative\">(-5.05%)</div></div><div class=\"anaCell anaEven anaSubcolLeft\">946</div><div class=\"anaCell anaEven anaSubcolRight\"><div class=\"anaNegative\">(-1.56%)</div></div><div class=\"anaIndex anaOdd\" style=\"grid-row: span 12\">2021</div><div class=\"anaIndex anaOdd\" style=\"grid-row: span 1\">December</div><div class=\"anaCell anaOdd anaSubcolLeft\">209</div><div class=\"anaCell anaOdd anaSubcolRight\"><div class=\"anaNegative\">(-20.53%)</div></div><div class=\"anaCell anaOdd anaSubcolLeft\">912</div><div class=\"anaCell anaOdd anaSubcolRight\"><div class=\"anaNegative\">(-3.59%)</div></div><div class=\"anaIndex anaEven\" style=\"grid-row: span 1\">November</div><div class=\"anaCell anaEven anaSubcolLeft\">229</div><div class=\"anaCell anaEven anaSubcolRight\"><div class=\"anaPositive\">(+9.57%)</div></div><div class=\"anaCell anaEven anaSubcolLeft\">874</div><div class=\"anaCell anaEven anaSubcolRight\"><div class=\"anaNegative\">(-4.17%)</div></div><div class=\"anaIndex anaOdd\" style=\"grid-row: span 1\">October</div><div class=\"anaCell anaOdd anaSubcolLeft\">268</div><div class=\"anaCell anaOdd anaSubcolRight\"><div class=\"anaPositive\">(+17.03%)</div></div><div class=\"anaCell anaOdd anaSubcolLeft\">1073</div><div class=\"anaCell anaOdd anaSubcolRight\"><div class=\"anaPositive\">(+22.77%)</div></div><div class=\"anaIndex anaEven\" style=\"grid-row: span 1\">September</div><div class=\"anaCell anaEven anaSubcolLeft\">214</div><div class=\"anaCell anaEven anaSubcolRight\"><div class=\"anaNegative\">(-20.15%)</div></div><div class=\"anaCell anaEven anaSubcolLeft\">1076</div><div class=\"anaCell anaEven anaSubcolRight\"><div class=\"anaPositive\">(+0.28%)</div></div><div class=\"anaIndex anaOdd\" style=\"grid-row: span 1\">August</div><div class=\"anaCell anaOdd anaSubcolLeft\">175</div><div class=\"anaCell anaOdd anaSubcolRight\"><div class=\"anaNegative\">(-18.22%)</div></div><div class=\"anaCell anaOdd anaSubcolLeft\">776</div><div class=\"anaCell anaOdd anaSubcolRight\"><div class=\"anaNegative\">(-27.88%)</div></div><div class=\"anaIndex anaEven\" style=\"grid-row: span 1\">July</div><div class=\"anaCell anaEven anaSubcolLeft\">179</div><div class=\"anaCell anaEven anaSubcolRight\"><div class=\"anaPositive\">(+2.29%)</div></div><div class=\"anaCell anaEven anaSubcolLeft\">943</div><div class=\"anaCell anaEven anaSubcolRight\"><div class=\"anaPositive\">(+21.52%)</div></div><div class=\"anaIndex anaOdd\" style=\"grid-row: span 1\">June</div><div class=\"anaCell anaOdd anaSubcolLeft\">193</div><div class=\"anaCell anaOdd anaSubcolRight\"><div class=\"anaPositive\">(+7.82%)</div></div><div class=\"anaCell anaOdd anaSubcolLeft\">746</div><div class=\"anaCell anaOdd anaSubcolRight\"><div class=\"anaNegative\">(-20.89%)</div></div><div class=\"anaIndex anaEven\" style=\"grid-row: span 1\">May</div><div class=\"anaCell anaEven anaSubcolLeft\">199</div><div class=\"anaCell anaEven anaSubcolRight\"><div class=\"anaPositive\">(+3.11%)</div></div><div class=\"anaCell anaEven anaSubcolLeft\">753</div><div class=\"anaCell anaEven anaSubcolRight\"><div class=\"anaPositive\">(+0.94%)</div></div><div class=\"anaIndex anaOdd\" style=\"grid-row: span 1\">April</div><div class=\"anaCell anaOdd anaSubcolLeft\">201</div><div class=\"anaCell anaOdd anaSubcolRight\"><div class=\"anaPositive\">(+1.01%)</div></div><div class=\"anaCell anaOdd anaSubcolLeft\">718</div><div class=\"anaCell anaOdd anaSubcolRight\"><div class=\"anaNegative\">(-4.65%)</div></div><div class=\"anaIndex anaEven\" style=\"grid-row: span 1\">March</div><div class=\"anaCell anaEven anaSubcolLeft\">248</div><div class=\"anaCell anaEven anaSubcolRight\"><div class=\"anaPositive\">(+23.38%)</div></div><div class=\"anaCell anaEven anaSubcolLeft\">1049</div><div class=\"anaCell anaEven anaSubcolRight\"><div class=\"anaPositive\">(+46.10%)</div></div><div class=\"anaIndex anaOdd\" style=\"grid-row: span 1\">February</div><div class=\"anaCell anaOdd anaSubcolLeft\">140</div><div class=\"anaCell anaOdd anaSubcolRight\"><div class=\"anaNegative\">(-43.55%)</div></div><div class=\"anaCell anaOdd anaSubcolLeft\">499</div><div class=\"anaCell anaOdd anaSubcolRight\"><div class=\"anaNegative\">(-52.43%)</div></div><div class=\"anaIndex anaEven\" style=\"grid-row: span 1\">January</div><div class=\"anaCell anaEven anaSubcolLeft\">108</div><div class=\"anaCell anaEven anaSubcolRight\"><div class=\"anaNegative\">(-22.86%)</div></div><div class=\"anaCell anaEven anaSubcolLeft\">327</div><div class=\"anaCell anaEven anaSubcolRight\"><div class=\"anaNegative\">(-34.47%)</div></div><div class=\"anaIndex anaOdd\" style=\"grid-row: span 11\">2020</div><div class=\"anaIndex anaOdd\" style=\"grid-row: span 1\">December</div><div class=\"anaCell anaOdd anaSubcolLeft\">103</div><div class=\"anaCell anaOdd anaSubcolRight\"><div class=\"anaNegative\">(-4.63%)</div></div><div class=\"anaCell anaOdd anaSubcolLeft\">424</div><div class=\"anaCell anaOdd anaSubcolRight\"><div class=\"anaPositive\">(+29.66%)</div></div><div class=\"anaIndex anaEven\" style=\"grid-row: span 1\">November</div><div class=\"anaCell anaEven anaSubcolLeft\">96</div><div class=\"anaCell anaEven anaSubcolRight\"><div class=\"anaNegative\">(-6.80%)</div></div><div class=\"anaCell anaEven anaSubcolLeft\">370</div><div class=\"anaCell anaEven anaSubcolRight\"><div class=\"anaNegative\">(-12.74%)</div></div><div class=\"anaIndex anaOdd\" style=\"grid-row: span 1\">October</div><div class=\"anaCell anaOdd anaSubcolLeft\">135</div><div class=\"anaCell anaOdd anaSubcolRight\"><div class=\"anaPositive\">(+40.62%)</div></div><div class=\"anaCell anaOdd anaSubcolLeft\">439</div><div class=\"anaCell anaOdd anaSubcolRight\"><div class=\"anaPositive\">(+18.65%)</div></div><div class=\"anaIndex anaEven\" style=\"grid-row: span 1\">September</div><div class=\"anaCell anaEven anaSubcolLeft\">21</div><div class=\"anaCell anaEven anaSubcolRight\"><div class=\"anaNegative\">(-84.44%)</div></div><div class=\"anaCell anaEven anaSubcolLeft\">0</div><div class=\"anaCell anaEven anaSubcolRight\"><div class=\"anaNegative\">(-100.00%)</div></div><div class=\"anaIndex anaOdd\" style=\"grid-row: span 1\">August</div><div class=\"anaCell anaOdd anaSubcolLeft\">54</div><div class=\"anaCell anaOdd anaSubcolRight\"><div class=\"anaPositive\">(+157.14%)</div></div><div class=\"anaCell anaOdd anaSubcolLeft\">202</div><div class=\"anaCell anaOdd anaSubcolRight\"></div><div class=\"anaIndex anaEven\" style=\"grid-row: span 1\">July</div><div class=\"anaCell anaEven anaSubcolLeft\">0</div><div class=\"anaCell anaEven anaSubcolRight\"><div class=\"anaNegative\">(-100.00%)</div></div><div class=\"anaCell anaEven anaSubcolLeft\">0</div><div class=\"anaCell anaEven anaSubcolRight\"><div class=\"anaNegative\">(-100.00%)</div></div><div class=\"anaIndex anaOdd\" style=\"grid-row: span 1\">June</div><div class=\"anaCell anaOdd anaSubcolLeft\">0</div><div class=\"anaCell anaOdd anaSubcolRight\"></div><div class=\"anaCell anaOdd anaSubcolLeft\">0</div><div class=\"anaCell anaOdd anaSubcolRight\"></div><div class=\"anaIndex anaEven\" style=\"grid-row: span 1\">May</div><div class=\"anaCell anaEven anaSubcolLeft\">0</div><div class=\"anaCell anaEven anaSubcolRight\"></div><div class=\"anaCell anaEven anaSubcolLeft\">0</div><div class=\"anaCell anaEven anaSubcolRight\"></div><div class=\"anaIndex anaOdd\" style=\"grid-row: span 1\">April</div><div class=\"anaCell anaOdd anaSubcolLeft\">0</div><div class=\"anaCell anaOdd anaSubcolRight\"></div><div class=\"anaCell anaOdd anaSubcolLeft\">0</div><div class=\"anaCell anaOdd anaSubcolRight\"></div><div class=\"anaIndex anaEven\" style=\"grid-row: span 1\">March</div><div class=\"anaCell anaEven anaSubcolLeft\">0</div><div class=\"anaCell anaEven anaSubcolRight\"></div><div class=\"anaCell anaEven anaSubcolLeft\">0</div><div class=\"anaCell anaEven anaSubcolRight\"></div><div class=\"anaIndex anaOdd\" style=\"grid-row: span 1\">February</div><div class=\"anaCell anaOdd anaSubcolLeft\">0</div><div class=\"anaCell anaOdd anaSubcolRight\"></div><div class=\"anaCell anaOdd anaSubcolLeft\">0</div><div class=\"anaCell anaOdd anaSubcolRight\"></div></div>"
      ],
      "text/plain": [
       "<IPython.core.display.HTML object>"
      ]
     },
     "metadata": {},
     "output_type": "display_data"
    }
   ],
   "source": [
    "display(users_over_time_table)"
   ]
  },
  {
   "cell_type": "markdown",
   "id": "3f29647a",
   "metadata": {},
   "source": [
    "<div style=\"page-break-after: always\"></div>"
   ]
  },
  {
   "cell_type": "markdown",
   "id": "5a1acbae",
   "metadata": {},
   "source": [
    "## Users and Sessions\n",
    "Users are distinguished based on a tracking cookie set by Google. Because cookies may not remain present over time or between devices, it's likely that total users are overcounted and returning users are undercounted."
   ]
  },
  {
   "cell_type": "code",
   "execution_count": 7,
   "id": "fe3e5946",
   "metadata": {
    "tags": [
     "remove-input"
    ]
   },
   "outputs": [
    {
     "data": {
      "text/html": [
       "<div class=\"analyticsTable\" style=\"grid-template-columns: 1fr var(--symbol-width) minmax(var(--value-width), min-content) minmax(var(--percentage-width), min-content)\"><div class=\"anaIndex anaEven\">Total Users</div><div class=\"anaCell anaEven anaSubcolLeft\"></div><div class=\"anaCell anaEven\">243</div><div class=\"anaCell anaEven anaSubcolRight\"><div class=\"anaNegative\">(-13.52%)</div></div></div>"
      ],
      "text/plain": [
       "<IPython.core.display.HTML object>"
      ]
     },
     "metadata": {},
     "output_type": "display_data"
    }
   ],
   "source": [
    "ac.show_difference_table(\"Total Users\", None, \"ga:users\", None, **default_params)"
   ]
  },
  {
   "cell_type": "code",
   "execution_count": 8,
   "id": "630b0d77",
   "metadata": {
    "tags": [
     "remove-input"
    ]
   },
   "outputs": [
    {
     "data": {
      "text/html": [
       "<div class=\"analyticsTable\" style=\"grid-template-columns: 1fr var(--symbol-width) minmax(var(--value-width), min-content) minmax(var(--percentage-width), min-content)\"><div class=\"anaIndex anaEven\">Returning Users</div><div class=\"anaCell anaEven anaSubcolLeft\"></div><div class=\"anaCell anaEven\">62</div><div class=\"anaCell anaEven anaSubcolRight\"><div class=\"anaNegative\">(-42.59%)</div></div></div>"
      ],
      "text/plain": [
       "<IPython.core.display.HTML object>"
      ]
     },
     "metadata": {},
     "output_type": "display_data"
    }
   ],
   "source": [
    "ac.show_difference_table(\"Returning Users\", None, \"ga:users\", None, filters=\"ga:userType==Returning Visitor\", **default_params)"
   ]
  },
  {
   "cell_type": "code",
   "execution_count": 9,
   "id": "e903e8d6",
   "metadata": {
    "tags": [
     "remove-input"
    ]
   },
   "outputs": [
    {
     "data": {
      "text/html": [
       "<div class=\"analyticsTable\" style=\"grid-template-columns: 1fr var(--symbol-width) minmax(var(--value-width), min-content) minmax(var(--percentage-width), min-content)\"><div class=\"anaIndex anaEven\">Total Visits</div><div class=\"anaCell anaEven anaSubcolLeft\"></div><div class=\"anaCell anaEven\">305</div><div class=\"anaCell anaEven anaSubcolRight\"><div class=\"anaNegative\">(-25.79%)</div></div></div>"
      ],
      "text/plain": [
       "<IPython.core.display.HTML object>"
      ]
     },
     "metadata": {},
     "output_type": "display_data"
    }
   ],
   "source": [
    "ac.show_difference_table(\"Total Visits\", None, \"ga:sessions\", None, **default_params)"
   ]
  },
  {
   "cell_type": "markdown",
   "id": "583279a2",
   "metadata": {},
   "source": [
    "## Page Views"
   ]
  },
  {
   "cell_type": "code",
   "execution_count": 10,
   "id": "a9f7deb0",
   "metadata": {
    "tags": [
     "remove-input"
    ]
   },
   "outputs": [
    {
     "data": {
      "text/html": [
       "<div class=\"analyticsTable\" style=\"grid-template-columns: 1fr var(--symbol-width) minmax(var(--value-width), min-content) minmax(var(--percentage-width), min-content)\"><div class=\"anaIndex anaEven\">Total</div><div class=\"anaCell anaEven anaSubcolLeft\"></div><div class=\"anaCell anaEven\">579</div><div class=\"anaCell anaEven anaSubcolRight\"><div class=\"anaNegative\">(-41.28%)</div></div></div>"
      ],
      "text/plain": [
       "<IPython.core.display.HTML object>"
      ]
     },
     "metadata": {},
     "output_type": "display_data"
    }
   ],
   "source": [
    "ac.show_difference_table(\"Total\", None, \"ga:pageviews\", None, filters=NCPI_FILTER, **default_params)"
   ]
  },
  {
   "cell_type": "markdown",
   "id": "04157524",
   "metadata": {},
   "source": [
    "## Device Category"
   ]
  },
  {
   "cell_type": "code",
   "execution_count": 15,
   "id": "6cd1e369",
   "metadata": {
    "tags": [
     "remove-input"
    ]
   },
   "outputs": [
    {
     "data": {
      "text/html": [
       "<div class=\"analyticsTable\" style=\"grid-template-columns: 1fr var(--symbol-width) minmax(var(--value-width), min-content) minmax(var(--percentage-width), min-content) minmax(var(--value-width), min-content) minmax(var(--percentage-width), min-content)\"><div class=\"anaIndex anaColName\">Category</div><div class=\"anaColName\" style=\"grid-column: span 3\">Users</div><div class=\"anaColName\" style=\"grid-column: span 2\">Percentage of users</div><div class=\"anaIndex anaEven\">desktop</div><div class=\"anaCell anaEven anaSubcolLeft\"></div><div class=\"anaCell anaEven\">221</div><div class=\"anaCell anaEven anaSubcolRight\"><div class=\"anaNegative\">(-14.01%)</div></div><div class=\"anaCell anaEven anaSubcolLeft\">90.95</div><div class=\"anaCell anaEven anaSubcolRight\"><div class=\"anaNegative\">(-0.56%)</div></div><div class=\"anaIndex anaOdd\">mobile</div><div class=\"anaCell anaOdd anaSubcolLeft\"></div><div class=\"anaCell anaOdd\">22</div><div class=\"anaCell anaOdd anaSubcolRight\"><div class=\"anaNegative\">(-4.35%)</div></div><div class=\"anaCell anaOdd anaSubcolLeft\">9.05</div><div class=\"anaCell anaOdd anaSubcolRight\"><div class=\"anaPositive\">(+10.61%)</div></div></div>"
      ],
      "text/plain": [
       "<IPython.core.display.HTML object>"
      ]
     },
     "metadata": {},
     "output_type": "display_data"
    }
   ],
   "source": [
    "ac.show_difference_table([\"Users\", \"Percentage of users\"], \"Category\", \"ga:users\", \"ga:deviceCategory\", percentage_metrics={\"ga:users\"}, **default_params)"
   ]
  },
  {
   "cell_type": "markdown",
   "id": "21a9fa88",
   "metadata": {},
   "source": [
    "## Social Network Referrers"
   ]
  },
  {
   "cell_type": "code",
   "execution_count": 13,
   "id": "7fcb1344",
   "metadata": {
    "tags": [
     "remove-input"
    ]
   },
   "outputs": [
    {
     "data": {
      "text/html": [
       "<div class=\"analyticsTable\" style=\"grid-template-columns: 1fr var(--symbol-width) minmax(var(--value-width), min-content) minmax(var(--percentage-width), min-content)\"><div class=\"anaIndex anaColName\">Social Network</div><div class=\"anaColName\" style=\"grid-column: span 3\">User Sessions</div><div class=\"anaIndex anaEven\">(not set)</div><div class=\"anaCell anaEven anaSubcolLeft\"></div><div class=\"anaCell anaEven\">302</div><div class=\"anaCell anaEven anaSubcolRight\"><div class=\"anaNegative\">(-24.12%)</div></div><div class=\"anaIndex anaOdd\">LinkedIn</div><div class=\"anaCell anaOdd anaSubcolLeft\"></div><div class=\"anaCell anaOdd\">2</div><div class=\"anaCell anaOdd anaSubcolRight\"><div class=\"anaNegative\">(-83.33%)</div></div><div class=\"anaIndex anaEven\">YouTube</div><div class=\"anaCell anaEven anaSubcolLeft\"></div><div class=\"anaCell anaEven\">1</div><div class=\"anaCell anaEven anaSubcolRight\"><div class=\"anaZero\">(+0.00%)</div></div></div>"
      ],
      "text/plain": [
       "<IPython.core.display.HTML object>"
      ]
     },
     "metadata": {},
     "output_type": "display_data"
    }
   ],
   "source": [
    "ac.show_difference_table(\"User Sessions\", \"Social Network\", \"ga:sessions\", \"ga:socialNetwork\", **default_params)"
   ]
  },
  {
   "cell_type": "markdown",
   "id": "d5cf832f",
   "metadata": {},
   "source": [
    "<div style=\"page-break-after: always\"></div>"
   ]
  },
  {
   "cell_type": "markdown",
   "id": "3c2f7065",
   "metadata": {},
   "source": [
    "## Top Referrers"
   ]
  },
  {
   "cell_type": "markdown",
   "id": "e462fcfd",
   "metadata": {},
   "source": [
    "### By Referring Host"
   ]
  },
  {
   "cell_type": "code",
   "execution_count": 11,
   "id": "532593fc",
   "metadata": {
    "tags": [
     "remove-input"
    ]
   },
   "outputs": [
    {
     "data": {
      "text/html": [
       "<div class=\"analyticsTable\" style=\"grid-template-columns: 1fr var(--symbol-width) minmax(var(--value-width), min-content) minmax(var(--percentage-width), min-content)\"><div class=\"anaIndex anaColName\">Source Host</div><div class=\"anaColName\" style=\"grid-column: span 3\">User Sessions</div><div class=\"anaIndex anaEven\">google</div><div class=\"anaCell anaEven anaSubcolLeft\"></div><div class=\"anaCell anaEven\">156</div><div class=\"anaCell anaEven anaSubcolRight\"><div class=\"anaNegative\">(-33.90%)</div></div><div class=\"anaIndex anaOdd\">(direct)</div><div class=\"anaCell anaOdd anaSubcolLeft\"></div><div class=\"anaCell anaOdd\">107</div><div class=\"anaCell anaOdd anaSubcolRight\"><div class=\"anaPositive\">(+0.94%)</div></div><div class=\"anaIndex anaEven\">datascience.nih.gov</div><div class=\"anaCell anaEven anaSubcolLeft\"></div><div class=\"anaCell anaEven\">13</div><div class=\"anaCell anaEven anaSubcolRight\"><div class=\"anaNegative\">(-38.10%)</div></div><div class=\"anaIndex anaOdd\">bing</div><div class=\"anaCell anaOdd anaSubcolLeft\"><div class=\"up\"></div></div><div class=\"anaCell anaOdd\">4</div><div class=\"anaCell anaOdd anaSubcolRight\"><div class=\"anaNegative\">(-50.00%)</div></div><div class=\"anaIndex anaEven\">ncpi-catalog-dug.dev.singlecell.gi.ucsc.edu</div><div class=\"anaCell anaEven anaSubcolLeft\"><div class=\"new\"></div></div><div class=\"anaCell anaEven\">4</div><div class=\"anaCell anaEven anaSubcolRight\"></div><div class=\"anaIndex anaOdd\">galaxyproject.org</div><div class=\"anaCell anaOdd anaSubcolLeft\"><div class=\"up\"></div></div><div class=\"anaCell anaOdd\">3</div><div class=\"anaCell anaOdd anaSubcolRight\"><div class=\"anaPositive\">(+200.00%)</div></div><div class=\"anaIndex anaEven\">genome.gov</div><div class=\"anaCell anaEven anaSubcolLeft\"><div class=\"up\"></div></div><div class=\"anaCell anaEven\">3</div><div class=\"anaCell anaEven anaSubcolRight\"><div class=\"anaPositive\">(+50.00%)</div></div><div class=\"anaIndex anaOdd\">github.com</div><div class=\"anaCell anaOdd anaSubcolLeft\"><div class=\"up\"></div></div><div class=\"anaCell anaOdd\">3</div><div class=\"anaCell anaOdd anaSubcolRight\"><div class=\"anaPositive\">(+200.00%)</div></div><div class=\"anaIndex anaEven\">cn.bing.com</div><div class=\"anaCell anaEven anaSubcolLeft\"><div class=\"up\"></div></div><div class=\"anaCell anaEven\">2</div><div class=\"anaCell anaEven anaSubcolRight\"><div class=\"anaPositive\">(+100.00%)</div></div><div class=\"anaIndex anaOdd\">linkedin.com</div><div class=\"anaCell anaOdd anaSubcolLeft\"><div class=\"down\"></div></div><div class=\"anaCell anaOdd\">2</div><div class=\"anaCell anaOdd anaSubcolRight\"><div class=\"anaNegative\">(-83.33%)</div></div><div class=\"anaIndex anaEven\">duckduckgo</div><div class=\"anaCell anaEven anaSubcolLeft\"><div class=\"down\"></div></div><div class=\"anaCell anaEven\">1</div><div class=\"anaCell anaEven anaSubcolRight\"><div class=\"anaNegative\">(-50.00%)</div></div><div class=\"anaIndex anaOdd\">bdcatalyst.gitbook.io</div><div class=\"anaCell anaOdd anaSubcolLeft\"><div class=\"new\"></div></div><div class=\"anaCell anaOdd\">1</div><div class=\"anaCell anaOdd anaSubcolRight\"></div><div class=\"anaIndex anaEven\">grants.nih.gov</div><div class=\"anaCell anaEven anaSubcolLeft\"><div class=\"up\"></div></div><div class=\"anaCell anaEven\">1</div><div class=\"anaCell anaEven anaSubcolRight\"><div class=\"anaNegative\">(-50.00%)</div></div><div class=\"anaIndex anaOdd\">jhudatascience.org</div><div class=\"anaCell anaOdd anaSubcolLeft\"><div class=\"new\"></div></div><div class=\"anaCell anaOdd\">1</div><div class=\"anaCell anaOdd anaSubcolRight\"></div><div class=\"anaIndex anaEven\">kidsfirstdrc.org</div><div class=\"anaCell anaEven anaSubcolLeft\"><div class=\"new\"></div></div><div class=\"anaCell anaEven\">1</div><div class=\"anaCell anaEven anaSubcolRight\"></div><div class=\"anaIndex anaOdd\">public.era.nih.gov</div><div class=\"anaCell anaOdd anaSubcolLeft\"><div class=\"new\"></div></div><div class=\"anaCell anaOdd\">1</div><div class=\"anaCell anaOdd anaSubcolRight\"></div><div class=\"anaIndex anaEven\">yahoo</div><div class=\"anaCell anaEven anaSubcolLeft\"><div class=\"down\"></div></div><div class=\"anaCell anaEven\">1</div><div class=\"anaCell anaEven anaSubcolRight\"><div class=\"anaNegative\">(-50.00%)</div></div><div class=\"anaIndex anaOdd\">youtube.com</div><div class=\"anaCell anaOdd anaSubcolLeft\"><div class=\"up\"></div></div><div class=\"anaCell anaOdd\">1</div><div class=\"anaCell anaOdd anaSubcolRight\"><div class=\"anaZero\">(+0.00%)</div></div></div>"
      ],
      "text/plain": [
       "<IPython.core.display.HTML object>"
      ]
     },
     "metadata": {},
     "output_type": "display_data"
    }
   ],
   "source": [
    "ac.show_difference_table(\"User Sessions\", \"Source Host\", \"ga:sessions\", \"ga:source\", **default_params)"
   ]
  },
  {
   "cell_type": "markdown",
   "id": "28233006",
   "metadata": {},
   "source": [
    "<div style=\"page-break-after: always\"></div>"
   ]
  },
  {
   "cell_type": "markdown",
   "id": "3ebd185b",
   "metadata": {},
   "source": [
    "### By Full Referrer"
   ]
  },
  {
   "cell_type": "code",
   "execution_count": 12,
   "id": "8644e071",
   "metadata": {
    "tags": [
     "remove-input"
    ]
   },
   "outputs": [
    {
     "data": {
      "text/html": [
       "<div class=\"analyticsTable\" style=\"grid-template-columns: 1fr var(--symbol-width) minmax(var(--value-width), min-content) minmax(var(--percentage-width), min-content)\"><div class=\"anaIndex anaColName\">Source</div><div class=\"anaColName\" style=\"grid-column: span 3\">User Sessions</div><div class=\"anaIndex anaEven\">google</div><div class=\"anaCell anaEven anaSubcolLeft\"></div><div class=\"anaCell anaEven\">156</div><div class=\"anaCell anaEven anaSubcolRight\"><div class=\"anaNegative\">(-33.90%)</div></div><div class=\"anaIndex anaOdd\">(direct)</div><div class=\"anaCell anaOdd anaSubcolLeft\"></div><div class=\"anaCell anaOdd\">107</div><div class=\"anaCell anaOdd anaSubcolRight\"><div class=\"anaPositive\">(+0.94%)</div></div><div class=\"anaIndex anaEven\">datascience.nih.gov/</div><div class=\"anaCell anaEven anaSubcolLeft\"></div><div class=\"anaCell anaEven\">13</div><div class=\"anaCell anaEven anaSubcolRight\"><div class=\"anaNegative\">(-38.10%)</div></div><div class=\"anaIndex anaOdd\">bing</div><div class=\"anaCell anaOdd anaSubcolLeft\"><div class=\"up\"></div></div><div class=\"anaCell anaOdd\">4</div><div class=\"anaCell anaOdd anaSubcolRight\"><div class=\"anaNegative\">(-50.00%)</div></div><div class=\"anaIndex anaEven\">ncpi-catalog-dug.dev.singlecell.gi.ucsc.edu/</div><div class=\"anaCell anaEven anaSubcolLeft\"><div class=\"new\"></div></div><div class=\"anaCell anaEven\">4</div><div class=\"anaCell anaEven anaSubcolRight\"></div><div class=\"anaIndex anaOdd\">galaxyproject.org/</div><div class=\"anaCell anaOdd anaSubcolLeft\"><div class=\"up\"></div></div><div class=\"anaCell anaOdd\">3</div><div class=\"anaCell anaOdd anaSubcolRight\"><div class=\"anaPositive\">(+200.00%)</div></div><div class=\"anaIndex anaEven\">genome.gov/</div><div class=\"anaCell anaEven anaSubcolLeft\"><div class=\"up\"></div></div><div class=\"anaCell anaEven\">3</div><div class=\"anaCell anaEven anaSubcolRight\"><div class=\"anaPositive\">(+50.00%)</div></div><div class=\"anaIndex anaOdd\">linkedin.com/</div><div class=\"anaCell anaOdd anaSubcolLeft\"><div class=\"down\"></div></div><div class=\"anaCell anaOdd\">2</div><div class=\"anaCell anaOdd anaSubcolRight\"><div class=\"anaNegative\">(-83.33%)</div></div><div class=\"anaIndex anaEven\">github.com/clevercanary/data-browser/issues/212</div><div class=\"anaCell anaEven anaSubcolLeft\"><div class=\"new\"></div></div><div class=\"anaCell anaEven\">2</div><div class=\"anaCell anaEven anaSubcolRight\"></div><div class=\"anaIndex anaOdd\">cn.bing.com/</div><div class=\"anaCell anaOdd anaSubcolLeft\"><div class=\"up\"></div></div><div class=\"anaCell anaOdd\">2</div><div class=\"anaCell anaOdd anaSubcolRight\"><div class=\"anaPositive\">(+100.00%)</div></div><div class=\"anaIndex anaEven\">bdcatalyst.gitbook.io/biodata-catalyst-documentation/written-documentation/getting-started/data-access/data-interoperability</div><div class=\"anaCell anaEven anaSubcolLeft\"><div class=\"new\"></div></div><div class=\"anaCell anaEven\">1</div><div class=\"anaCell anaEven anaSubcolRight\"></div><div class=\"anaIndex anaOdd\">github.com/NIH-NCPI/NCPI_use_case_tracker</div><div class=\"anaCell anaOdd anaSubcolLeft\"><div class=\"new\"></div></div><div class=\"anaCell anaOdd\">1</div><div class=\"anaCell anaOdd anaSubcolRight\"></div><div class=\"anaIndex anaEven\">grants.nih.gov/</div><div class=\"anaCell anaEven anaSubcolLeft\"><div class=\"up\"></div></div><div class=\"anaCell anaEven\">1</div><div class=\"anaCell anaEven anaSubcolRight\"><div class=\"anaNegative\">(-50.00%)</div></div><div class=\"anaIndex anaOdd\">jhudatascience.org/</div><div class=\"anaCell anaOdd anaSubcolLeft\"><div class=\"new\"></div></div><div class=\"anaCell anaOdd\">1</div><div class=\"anaCell anaOdd anaSubcolRight\"></div><div class=\"anaIndex anaEven\">kidsfirstdrc.org/</div><div class=\"anaCell anaEven anaSubcolLeft\"><div class=\"new\"></div></div><div class=\"anaCell anaEven\">1</div><div class=\"anaCell anaEven anaSubcolRight\"></div><div class=\"anaIndex anaOdd\">duckduckgo</div><div class=\"anaCell anaOdd anaSubcolLeft\"><div class=\"down\"></div></div><div class=\"anaCell anaOdd\">1</div><div class=\"anaCell anaOdd anaSubcolRight\"><div class=\"anaNegative\">(-50.00%)</div></div><div class=\"anaIndex anaEven\">public.era.nih.gov/</div><div class=\"anaCell anaEven anaSubcolLeft\"><div class=\"new\"></div></div><div class=\"anaCell anaEven\">1</div><div class=\"anaCell anaEven anaSubcolRight\"></div><div class=\"anaIndex anaOdd\">yahoo</div><div class=\"anaCell anaOdd anaSubcolLeft\"><div class=\"down\"></div></div><div class=\"anaCell anaOdd\">1</div><div class=\"anaCell anaOdd anaSubcolRight\"><div class=\"anaNegative\">(-50.00%)</div></div><div class=\"anaIndex anaEven\">youtube.com/</div><div class=\"anaCell anaEven anaSubcolLeft\"><div class=\"up\"></div></div><div class=\"anaCell anaEven\">1</div><div class=\"anaCell anaEven anaSubcolRight\"><div class=\"anaZero\">(+0.00%)</div></div></div>"
      ],
      "text/plain": [
       "<IPython.core.display.HTML object>"
      ]
     },
     "metadata": {},
     "output_type": "display_data"
    }
   ],
   "source": [
    "ac.show_difference_table(\"User Sessions\", \"Source\", \"ga:sessions\", \"ga:fullReferrer\", **default_params)"
   ]
  },
  {
   "cell_type": "markdown",
   "id": "35a988d2",
   "metadata": {},
   "source": [
    "<div style=\"page-break-after: always\"></div>"
   ]
  },
  {
   "cell_type": "markdown",
   "id": "d83980c3",
   "metadata": {},
   "source": [
    "## Top Countries"
   ]
  },
  {
   "cell_type": "code",
   "execution_count": 14,
   "id": "4ff4cfa6",
   "metadata": {
    "tags": [
     "remove-input"
    ]
   },
   "outputs": [
    {
     "data": {
      "text/html": [
       "<div class=\"analyticsTable\" style=\"grid-template-columns: 1fr var(--symbol-width) minmax(var(--value-width), min-content) minmax(var(--percentage-width), min-content)\"><div class=\"anaIndex anaColName\">Country</div><div class=\"anaColName\" style=\"grid-column: span 3\">Users</div><div class=\"anaIndex anaEven\">United States</div><div class=\"anaCell anaEven anaSubcolLeft\"></div><div class=\"anaCell anaEven\">193</div><div class=\"anaCell anaEven anaSubcolRight\"><div class=\"anaNegative\">(-20.25%)</div></div><div class=\"anaIndex anaOdd\">United Kingdom</div><div class=\"anaCell anaOdd anaSubcolLeft\"><div class=\"up\"></div></div><div class=\"anaCell anaOdd\">8</div><div class=\"anaCell anaOdd anaSubcolRight\"><div class=\"anaPositive\">(+100.00%)</div></div><div class=\"anaIndex anaEven\">India</div><div class=\"anaCell anaEven anaSubcolLeft\"><div class=\"down\"></div></div><div class=\"anaCell anaEven\">5</div><div class=\"anaCell anaEven anaSubcolRight\"><div class=\"anaZero\">(+0.00%)</div></div><div class=\"anaIndex anaOdd\">Canada</div><div class=\"anaCell anaOdd anaSubcolLeft\"><div class=\"up\"></div></div><div class=\"anaCell anaOdd\">3</div><div class=\"anaCell anaOdd anaSubcolRight\"><div class=\"anaNegative\">(-25.00%)</div></div><div class=\"anaIndex anaEven\">Egypt</div><div class=\"anaCell anaEven anaSubcolLeft\"><div class=\"new\"></div></div><div class=\"anaCell anaEven\">3</div><div class=\"anaCell anaEven anaSubcolRight\"></div><div class=\"anaIndex anaOdd\">Germany</div><div class=\"anaCell anaOdd anaSubcolLeft\"><div class=\"new\"></div></div><div class=\"anaCell anaOdd\">3</div><div class=\"anaCell anaOdd anaSubcolRight\"></div><div class=\"anaIndex anaEven\">Taiwan</div><div class=\"anaCell anaEven anaSubcolLeft\"><div class=\"new\"></div></div><div class=\"anaCell anaEven\">3</div><div class=\"anaCell anaEven anaSubcolRight\"></div><div class=\"anaIndex anaOdd\">Brazil</div><div class=\"anaCell anaOdd anaSubcolLeft\"><div class=\"up\"></div></div><div class=\"anaCell anaOdd\">2</div><div class=\"anaCell anaOdd anaSubcolRight\"><div class=\"anaPositive\">(+100.00%)</div></div><div class=\"anaIndex anaEven\">China</div><div class=\"anaCell anaEven anaSubcolLeft\"><div class=\"up\"></div></div><div class=\"anaCell anaEven\">2</div><div class=\"anaCell anaEven anaSubcolRight\"><div class=\"anaPositive\">(+100.00%)</div></div><div class=\"anaIndex anaOdd\">Italy</div><div class=\"anaCell anaOdd anaSubcolLeft\"><div class=\"down\"></div></div><div class=\"anaCell anaOdd\">2</div><div class=\"anaCell anaOdd anaSubcolRight\"><div class=\"anaNegative\">(-33.33%)</div></div><div class=\"anaIndex anaEven\">Spain</div><div class=\"anaCell anaEven anaSubcolLeft\"><div class=\"new\"></div></div><div class=\"anaCell anaEven\">1</div><div class=\"anaCell anaEven anaSubcolRight\"></div><div class=\"anaIndex anaOdd\">Singapore</div><div class=\"anaCell anaOdd anaSubcolLeft\"><div class=\"new\"></div></div><div class=\"anaCell anaOdd\">1</div><div class=\"anaCell anaOdd anaSubcolRight\"></div><div class=\"anaIndex anaEven\">South Korea</div><div class=\"anaCell anaEven anaSubcolLeft\"><div class=\"up\"></div></div><div class=\"anaCell anaEven\">1</div><div class=\"anaCell anaEven anaSubcolRight\"><div class=\"anaZero\">(+0.00%)</div></div><div class=\"anaIndex anaOdd\">Armenia</div><div class=\"anaCell anaOdd anaSubcolLeft\"><div class=\"new\"></div></div><div class=\"anaCell anaOdd\">1</div><div class=\"anaCell anaOdd anaSubcolRight\"></div><div class=\"anaIndex anaEven\">Sudan</div><div class=\"anaCell anaEven anaSubcolLeft\"><div class=\"up\"></div></div><div class=\"anaCell anaEven\">1</div><div class=\"anaCell anaEven anaSubcolRight\"><div class=\"anaZero\">(+0.00%)</div></div><div class=\"anaIndex anaOdd\">Switzerland</div><div class=\"anaCell anaOdd anaSubcolLeft\"><div class=\"new\"></div></div><div class=\"anaCell anaOdd\">1</div><div class=\"anaCell anaOdd anaSubcolRight\"></div><div class=\"anaIndex anaEven\">Poland</div><div class=\"anaCell anaEven anaSubcolLeft\"><div class=\"new\"></div></div><div class=\"anaCell anaEven\">1</div><div class=\"anaCell anaEven anaSubcolRight\"></div><div class=\"anaIndex anaOdd\">Serbia</div><div class=\"anaCell anaOdd anaSubcolLeft\"><div class=\"down\"></div></div><div class=\"anaCell anaOdd\">1</div><div class=\"anaCell anaOdd anaSubcolRight\"><div class=\"anaNegative\">(-80.00%)</div></div><div class=\"anaIndex anaEven\">Malaysia</div><div class=\"anaCell anaEven anaSubcolLeft\"><div class=\"down\"></div></div><div class=\"anaCell anaEven\">1</div><div class=\"anaCell anaEven anaSubcolRight\"><div class=\"anaZero\">(+0.00%)</div></div><div class=\"anaIndex anaOdd\">Panama</div><div class=\"anaCell anaOdd anaSubcolLeft\"><div class=\"new\"></div></div><div class=\"anaCell anaOdd\">1</div><div class=\"anaCell anaOdd anaSubcolRight\"></div><div class=\"anaIndex anaEven\">Netherlands</div><div class=\"anaCell anaEven anaSubcolLeft\"><div class=\"new\"></div></div><div class=\"anaCell anaEven\">1</div><div class=\"anaCell anaEven anaSubcolRight\"></div><div class=\"anaIndex anaOdd\">Mexico</div><div class=\"anaCell anaOdd anaSubcolLeft\"><div class=\"new\"></div></div><div class=\"anaCell anaOdd\">1</div><div class=\"anaCell anaOdd anaSubcolRight\"></div><div class=\"anaIndex anaEven\">Bolivia</div><div class=\"anaCell anaEven anaSubcolLeft\"><div class=\"new\"></div></div><div class=\"anaCell anaEven\">1</div><div class=\"anaCell anaEven anaSubcolRight\"></div><div class=\"anaIndex anaOdd\">Jordan</div><div class=\"anaCell anaOdd anaSubcolLeft\"><div class=\"new\"></div></div><div class=\"anaCell anaOdd\">1</div><div class=\"anaCell anaOdd anaSubcolRight\"></div><div class=\"anaIndex anaEven\">Japan</div><div class=\"anaCell anaEven anaSubcolLeft\"><div class=\"down\"></div></div><div class=\"anaCell anaEven\">1</div><div class=\"anaCell anaEven anaSubcolRight\"><div class=\"anaNegative\">(-66.67%)</div></div><div class=\"anaIndex anaOdd\">Iraq</div><div class=\"anaCell anaOdd anaSubcolLeft\"><div class=\"new\"></div></div><div class=\"anaCell anaOdd\">1</div><div class=\"anaCell anaOdd anaSubcolRight\"></div><div class=\"anaIndex anaEven\">Hungary</div><div class=\"anaCell anaEven anaSubcolLeft\"><div class=\"new\"></div></div><div class=\"anaCell anaEven\">1</div><div class=\"anaCell anaEven anaSubcolRight\"></div><div class=\"anaIndex anaOdd\">Cambodia</div><div class=\"anaCell anaOdd anaSubcolLeft\"><div class=\"new\"></div></div><div class=\"anaCell anaOdd\">1</div><div class=\"anaCell anaOdd anaSubcolRight\"></div><div class=\"anaIndex anaEven\">Venezuela</div><div class=\"anaCell anaEven anaSubcolLeft\"><div class=\"new\"></div></div><div class=\"anaCell anaEven\">1</div><div class=\"anaCell anaEven anaSubcolRight\"></div></div>"
      ],
      "text/plain": [
       "<IPython.core.display.HTML object>"
      ]
     },
     "metadata": {},
     "output_type": "display_data"
    }
   ],
   "source": [
    "ac.show_difference_table(\"Users\", \"Country\", \"ga:users\",\"ga:country\", **default_params)"
   ]
  },
  {
   "cell_type": "markdown",
   "id": "f4cec2ab",
   "metadata": {},
   "source": [
    "<div style=\"page-break-after: always\"></div>"
   ]
  },
  {
   "cell_type": "markdown",
   "id": "bdc9b340",
   "metadata": {},
   "source": [
    "## Top Pages"
   ]
  },
  {
   "cell_type": "code",
   "execution_count": 40,
   "id": "cde3f2a3",
   "metadata": {
    "tags": [
     "remove-input"
    ]
   },
   "outputs": [
    {
     "data": {
      "text/html": [
       "<div class=\"analyticsTable\" style=\"grid-template-columns: 1fr var(--symbol-width) minmax(var(--value-width), min-content) minmax(var(--percentage-width), min-content)\"><div class=\"anaIndex anaColName\">Page</div><div class=\"anaColName\" style=\"grid-column: span 3\">Page Views</div><div class=\"anaIndex anaEven\"><a href=\"https://anvilproject.org/ncpi\">/ncpi</a></div><div class=\"anaCell anaEven anaSubcolLeft\"></div><div class=\"anaCell anaEven\">227</div><div class=\"anaCell anaEven anaSubcolRight\"><div class=\"anaNegative\">(-23.05%)</div></div><div class=\"anaIndex anaOdd\"><a href=\"https://anvilproject.org/ncpi/data\">/ncpi/data</a></div><div class=\"anaCell anaOdd anaSubcolLeft\"></div><div class=\"anaCell anaOdd\">85</div><div class=\"anaCell anaOdd anaSubcolRight\"><div class=\"anaPositive\">(+16.44%)</div></div><div class=\"anaIndex anaEven\"><a href=\"https://anvilproject.org/ncpi/platforms/bdc\">/ncpi/platforms/bdc</a></div><div class=\"anaCell anaEven anaSubcolLeft\"><div class=\"up\"></div></div><div class=\"anaCell anaEven\">36</div><div class=\"anaCell anaEven anaSubcolRight\"><div class=\"anaNegative\">(-45.45%)</div></div><div class=\"anaIndex anaOdd\"><a href=\"https://anvilproject.org/ncpi/progress-updates\">/ncpi/progress-updates</a></div><div class=\"anaCell anaOdd anaSubcolLeft\"><div class=\"down\"></div></div><div class=\"anaCell anaOdd\">32</div><div class=\"anaCell anaOdd anaSubcolRight\"><div class=\"anaNegative\">(-56.16%)</div></div><div class=\"anaIndex anaEven\"><a href=\"https://anvilproject.org/ncpi/platforms\">/ncpi/platforms</a></div><div class=\"anaCell anaEven anaSubcolLeft\"><div class=\"up\"></div></div><div class=\"anaCell anaEven\">22</div><div class=\"anaCell anaEven anaSubcolRight\"><div class=\"anaNegative\">(-53.19%)</div></div><div class=\"anaIndex anaOdd\"><a href=\"https://anvilproject.org/ncpi/platforms/anvil\">/ncpi/platforms/anvil</a></div><div class=\"anaCell anaOdd anaSubcolLeft\"><div class=\"up\"></div></div><div class=\"anaCell anaOdd\">21</div><div class=\"anaCell anaOdd anaSubcolRight\"><div class=\"anaNegative\">(-32.26%)</div></div><div class=\"anaIndex anaEven\"><a href=\"https://anvilproject.org/ncpi/working-groups\">/ncpi/working-groups</a></div><div class=\"anaCell anaEven anaSubcolLeft\"><div class=\"up\"></div></div><div class=\"anaCell anaEven\">16</div><div class=\"anaCell anaEven anaSubcolRight\"><div class=\"anaNegative\">(-63.64%)</div></div><div class=\"anaIndex anaOdd\"><a href=\"https://anvilproject.org/ncpi/technologies\">/ncpi/technologies</a></div><div class=\"anaCell anaOdd anaSubcolLeft\"><div class=\"down\"></div></div><div class=\"anaCell anaOdd\">14</div><div class=\"anaCell anaOdd anaSubcolRight\"><div class=\"anaNegative\">(-73.08%)</div></div><div class=\"anaIndex anaEven\"><a href=\"https://anvilproject.org/ncpi/platforms/kf\">/ncpi/platforms/kf</a></div><div class=\"anaCell anaEven anaSubcolLeft\"><div class=\"up\"></div></div><div class=\"anaCell anaEven\">12</div><div class=\"anaCell anaEven anaSubcolRight\"><div class=\"anaPositive\">(+50.00%)</div></div><div class=\"anaIndex anaOdd\"><a href=\"https://anvilproject.org/ncpi/demonstration-projects\">/ncpi/demonstration-projects</a></div><div class=\"anaCell anaOdd anaSubcolLeft\"><div class=\"down\"></div></div><div class=\"anaCell anaOdd\">11</div><div class=\"anaCell anaOdd anaSubcolRight\"><div class=\"anaNegative\">(-76.60%)</div></div><div class=\"anaIndex anaEven\"><a href=\"https://anvilproject.org/ncpi/platforms/crdc\">/ncpi/platforms/crdc</a></div><div class=\"anaCell anaEven anaSubcolLeft\"><div class=\"down\"></div></div><div class=\"anaCell anaEven\">10</div><div class=\"anaCell anaEven anaSubcolRight\"><div class=\"anaNegative\">(-67.74%)</div></div><div class=\"anaIndex anaOdd\"><a href=\"https://anvilproject.org/ncpi/data?query=consentCodes=GRU,OR\">/ncpi/data?query=consentCodes=GRU,OR</a></div><div class=\"anaCell anaOdd anaSubcolLeft\"><div class=\"new\"></div></div><div class=\"anaCell anaOdd\">5</div><div class=\"anaCell anaOdd anaSubcolRight\"></div><div class=\"anaIndex anaEven\"><a href=\"https://anvilproject.org/ncpi/data?query=platforms=KFDRC,OR\">/ncpi/data?query=platforms=KFDRC,OR</a></div><div class=\"anaCell anaEven anaSubcolLeft\"><div class=\"new\"></div></div><div class=\"anaCell anaEven\">5</div><div class=\"anaCell anaEven anaSubcolRight\"></div><div class=\"anaIndex anaOdd\"><a href=\"https://anvilproject.org/ncpi/training\">/ncpi/training</a></div><div class=\"anaCell anaOdd anaSubcolLeft\"><div class=\"down\"></div></div><div class=\"anaCell anaOdd\">5</div><div class=\"anaCell anaOdd anaSubcolRight\"><div class=\"anaNegative\">(-77.27%)</div></div><div class=\"anaIndex anaEven\"><a href=\"https://anvilproject.org/ncpi/data/studies/phs000007\">/ncpi/data/studies/phs000007</a></div><div class=\"anaCell anaEven anaSubcolLeft\"><div class=\"new\"></div></div><div class=\"anaCell anaEven\">4</div><div class=\"anaCell anaEven anaSubcolRight\"></div><div class=\"anaIndex anaOdd\"><a href=\"https://anvilproject.org/ncpi/interoperating-principles\">/ncpi/interoperating-principles</a></div><div class=\"anaCell anaOdd anaSubcolLeft\"><div class=\"down\"></div></div><div class=\"anaCell anaOdd\">4</div><div class=\"anaCell anaOdd anaSubcolRight\"><div class=\"anaNegative\">(-66.67%)</div></div><div class=\"anaIndex anaEven\"><a href=\"https://anvilproject.org/ncpi/data?query=platforms=AnVIL,OR\">/ncpi/data?query=platforms=AnVIL,OR</a></div><div class=\"anaCell anaEven anaSubcolLeft\"><div class=\"new\"></div></div><div class=\"anaCell anaEven\">4</div><div class=\"anaCell anaEven anaSubcolRight\"></div><div class=\"anaIndex anaOdd\"><a href=\"https://anvilproject.org/ncpi/search?q=Mitochondria+and+aging\">/ncpi/search?q=Mitochondria+and+aging</a></div><div class=\"anaCell anaOdd anaSubcolLeft\"><div class=\"new\"></div></div><div class=\"anaCell anaOdd\">4</div><div class=\"anaCell anaOdd anaSubcolRight\"></div><div class=\"anaIndex anaEven\"><a href=\"https://anvilproject.org/ncpi/data?query=consentCodes=GRU-NPU,OR\">/ncpi/data?query=consentCodes=GRU-NPU,OR</a></div><div class=\"anaCell anaEven anaSubcolLeft\"><div class=\"new\"></div></div><div class=\"anaCell anaEven\">3</div><div class=\"anaCell anaEven anaSubcolRight\"></div><div class=\"anaIndex anaOdd\"><a href=\"https://anvilproject.org/ncpi/platforms/ncbi\">/ncpi/platforms/ncbi</a></div><div class=\"anaCell anaOdd anaSubcolLeft\"><div class=\"down\"></div></div><div class=\"anaCell anaOdd\">3</div><div class=\"anaCell anaOdd anaSubcolRight\"><div class=\"anaNegative\">(-86.36%)</div></div><div class=\"anaIndex anaEven\"><a href=\"https://anvilproject.org/ncpi/data?query=consentCodes=NPU,OR\">/ncpi/data?query=consentCodes=NPU,OR</a></div><div class=\"anaCell anaEven anaSubcolLeft\"><div class=\"new\"></div></div><div class=\"anaCell anaEven\">2</div><div class=\"anaCell anaEven anaSubcolRight\"></div><div class=\"anaIndex anaOdd\"><a href=\"https://anvilproject.org/ncpi/data?query=platforms=BDC,OR\">/ncpi/data?query=platforms=BDC,OR</a></div><div class=\"anaCell anaOdd anaSubcolLeft\"><div class=\"new\"></div></div><div class=\"anaCell anaOdd\">2</div><div class=\"anaCell anaOdd anaSubcolRight\"></div><div class=\"anaIndex anaEven\"><a href=\"https://anvilproject.org/ncpi/data/studies/phs000424\">/ncpi/data/studies/phs000424</a></div><div class=\"anaCell anaEven anaSubcolLeft\"><div class=\"down\"></div></div><div class=\"anaCell anaEven\">2</div><div class=\"anaCell anaEven anaSubcolRight\"><div class=\"anaNegative\">(-50.00%)</div></div><div class=\"anaIndex anaOdd\"><a href=\"https://anvilproject.org/ncpi/data/studies/phs000209\">/ncpi/data/studies/phs000209</a></div><div class=\"anaCell anaOdd anaSubcolLeft\"><div class=\"new\"></div></div><div class=\"anaCell anaOdd\">2</div><div class=\"anaCell anaOdd anaSubcolRight\"></div><div class=\"anaIndex anaEven\"><a href=\"https://anvilproject.org/ncpi/data?query=focuses=Asthma,OR\">/ncpi/data?query=focuses=Asthma,OR</a></div><div class=\"anaCell anaEven anaSubcolLeft\"><div class=\"new\"></div></div><div class=\"anaCell anaEven\">2</div><div class=\"anaCell anaEven anaSubcolRight\"></div><div class=\"anaIndex anaOdd\"><a href=\"https://anvilproject.org/ncpi/data/studies/phs001287\">/ncpi/data/studies/phs001287</a></div><div class=\"anaCell anaOdd anaSubcolLeft\"><div class=\"new\"></div></div><div class=\"anaCell anaOdd\">2</div><div class=\"anaCell anaOdd anaSubcolRight\"></div><div class=\"anaIndex anaEven\"><a href=\"https://anvilproject.org/ncpi/data/studies/phs001272\">/ncpi/data/studies/phs001272</a></div><div class=\"anaCell anaEven anaSubcolLeft\"><div class=\"new\"></div></div><div class=\"anaCell anaEven\">2</div><div class=\"anaCell anaEven anaSubcolRight\"></div><div class=\"anaIndex anaOdd\"><a href=\"https://anvilproject.org/ncpi/data/studies/phs000289\">/ncpi/data/studies/phs000289</a></div><div class=\"anaCell anaOdd anaSubcolLeft\"><div class=\"new\"></div></div><div class=\"anaCell anaOdd\">2</div><div class=\"anaCell anaOdd anaSubcolRight\"></div><div class=\"anaIndex anaEven\"><a href=\"https://anvilproject.org/ncpi/data?query=consentCodes=GRU,OR,NPU,OR\">/ncpi/data?query=consentCodes=GRU,OR,NPU,OR</a></div><div class=\"anaCell anaEven anaSubcolLeft\"><div class=\"new\"></div></div><div class=\"anaCell anaEven\">2</div><div class=\"anaCell anaEven anaSubcolRight\"></div><div class=\"anaIndex anaOdd\"><a href=\"https://anvilproject.org/ncpi/data/studies/phs002383\">/ncpi/data/studies/phs002383</a></div><div class=\"anaCell anaOdd anaSubcolLeft\"><div class=\"new\"></div></div><div class=\"anaCell anaOdd\">2</div><div class=\"anaCell anaOdd anaSubcolRight\"></div></div>"
      ],
      "text/plain": [
       "<IPython.core.display.HTML object>"
      ]
     },
     "metadata": {},
     "output_type": "display_data"
    }
   ],
   "source": [
    "ac.show_difference_table(\"Page Views\", \"Page\", \"ga:pageviews\", \"ga:pagePath\", filters=NCPI_FILTER, **default_params)"
   ]
  },
  {
   "cell_type": "markdown",
   "id": "6e2487a3",
   "metadata": {},
   "source": [
    "<div style=\"page-break-after: always\"></div>"
   ]
  },
  {
   "cell_type": "markdown",
   "id": "a4d13293",
   "metadata": {},
   "source": [
    "## Top Landing Pages"
   ]
  },
  {
   "cell_type": "code",
   "execution_count": 17,
   "id": "614d1d07",
   "metadata": {
    "tags": [
     "remove-input"
    ]
   },
   "outputs": [
    {
     "data": {
      "text/html": [
       "<div class=\"analyticsTable\" style=\"grid-template-columns: 1fr var(--symbol-width) minmax(var(--value-width), min-content) minmax(var(--percentage-width), min-content)\"><div class=\"anaIndex anaColName\">Page</div><div class=\"anaColName\" style=\"grid-column: span 3\">Entrances</div><div class=\"anaIndex anaEven\"><a href=\"https://anvilproject.org/ncpi\">/ncpi</a></div><div class=\"anaCell anaEven anaSubcolLeft\"></div><div class=\"anaCell anaEven\">142</div><div class=\"anaCell anaEven anaSubcolRight\"><div class=\"anaPositive\">(+2.16%)</div></div><div class=\"anaIndex anaOdd\"><a href=\"https://anvilproject.org/ncpi/data\">/ncpi/data</a></div><div class=\"anaCell anaOdd anaSubcolLeft\"><div class=\"up\"></div></div><div class=\"anaCell anaOdd\">34</div><div class=\"anaCell anaOdd anaSubcolRight\"><div class=\"anaPositive\">(+161.54%)</div></div><div class=\"anaIndex anaEven\"><a href=\"https://anvilproject.org/ncpi/platforms/bdc\">/ncpi/platforms/bdc</a></div><div class=\"anaCell anaEven anaSubcolLeft\"><div class=\"down\"></div></div><div class=\"anaCell anaEven\">23</div><div class=\"anaCell anaEven anaSubcolRight\"><div class=\"anaNegative\">(-50.00%)</div></div><div class=\"anaIndex anaOdd\"><a href=\"https://anvilproject.org/ncpi/progress-updates\">/ncpi/progress-updates</a></div><div class=\"anaCell anaOdd anaSubcolLeft\"><div class=\"down\"></div></div><div class=\"anaCell anaOdd\">17</div><div class=\"anaCell anaOdd anaSubcolRight\"><div class=\"anaNegative\">(-45.16%)</div></div><div class=\"anaIndex anaEven\"><a href=\"https://anvilproject.org/ncpi/platforms/anvil\">/ncpi/platforms/anvil</a></div><div class=\"anaCell anaEven anaSubcolLeft\"><div class=\"up\"></div></div><div class=\"anaCell anaEven\">11</div><div class=\"anaCell anaEven anaSubcolRight\"><div class=\"anaNegative\">(-8.33%)</div></div><div class=\"anaIndex anaOdd\"><a href=\"https://anvilproject.org/ncpi/platforms\">/ncpi/platforms</a></div><div class=\"anaCell anaOdd anaSubcolLeft\"><div class=\"up\"></div></div><div class=\"anaCell anaOdd\">8</div><div class=\"anaCell anaOdd anaSubcolRight\"><div class=\"anaPositive\">(+33.33%)</div></div><div class=\"anaIndex anaEven\"><a href=\"https://anvilproject.org/ncpi/working-groups\">/ncpi/working-groups</a></div><div class=\"anaCell anaEven anaSubcolLeft\"><div class=\"down\"></div></div><div class=\"anaCell anaEven\">7</div><div class=\"anaCell anaEven anaSubcolRight\"><div class=\"anaNegative\">(-61.11%)</div></div><div class=\"anaIndex anaOdd\"><a href=\"https://anvilproject.org/ncpi/platforms/crdc\">/ncpi/platforms/crdc</a></div><div class=\"anaCell anaOdd anaSubcolLeft\"><div class=\"down\"></div></div><div class=\"anaCell anaOdd\">6</div><div class=\"anaCell anaOdd anaSubcolRight\"><div class=\"anaNegative\">(-64.71%)</div></div><div class=\"anaIndex anaEven\"><a href=\"https://anvilproject.org/ncpi/technologies\">/ncpi/technologies</a></div><div class=\"anaCell anaEven anaSubcolLeft\"></div><div class=\"anaCell anaEven\">4</div><div class=\"anaCell anaEven anaSubcolRight\"><div class=\"anaNegative\">(-42.86%)</div></div><div class=\"anaIndex anaOdd\"><a href=\"https://anvilproject.org/ncpi/platforms/kf\">/ncpi/platforms/kf</a></div><div class=\"anaCell anaOdd anaSubcolLeft\"><div class=\"up\"></div></div><div class=\"anaCell anaOdd\">4</div><div class=\"anaCell anaOdd anaSubcolRight\"><div class=\"anaNegative\">(-20.00%)</div></div><div class=\"anaIndex anaEven\"><a href=\"https://anvilproject.org/ncpi/data/studies/phs000007\">/ncpi/data/studies/phs000007</a></div><div class=\"anaCell anaEven anaSubcolLeft\"><div class=\"new\"></div></div><div class=\"anaCell anaEven\">3</div><div class=\"anaCell anaEven anaSubcolRight\"></div><div class=\"anaIndex anaOdd\"><a href=\"https://anvilproject.org/ncpi/demonstration-projects\">/ncpi/demonstration-projects</a></div><div class=\"anaCell anaOdd anaSubcolLeft\"><div class=\"down\"></div></div><div class=\"anaCell anaOdd\">3</div><div class=\"anaCell anaOdd anaSubcolRight\"><div class=\"anaNegative\">(-57.14%)</div></div><div class=\"anaIndex anaEven\"><a href=\"https://anvilproject.org/ncpi/platforms/ncbi\">/ncpi/platforms/ncbi</a></div><div class=\"anaCell anaEven anaSubcolLeft\"><div class=\"down\"></div></div><div class=\"anaCell anaEven\">2</div><div class=\"anaCell anaEven anaSubcolRight\"><div class=\"anaNegative\">(-84.62%)</div></div><div class=\"anaIndex anaOdd\"><a href=\"https://anvilproject.org/ncpi/data/studies/phs002383\">/ncpi/data/studies/phs002383</a></div><div class=\"anaCell anaOdd anaSubcolLeft\"><div class=\"new\"></div></div><div class=\"anaCell anaOdd\">2</div><div class=\"anaCell anaOdd anaSubcolRight\"></div><div class=\"anaIndex anaEven\"><a href=\"https://anvilproject.org/ncpi/interoperating-principles\">/ncpi/interoperating-principles</a></div><div class=\"anaCell anaEven anaSubcolLeft\"><div class=\"down\"></div></div><div class=\"anaCell anaEven\">2</div><div class=\"anaCell anaEven anaSubcolRight\"><div class=\"anaNegative\">(-66.67%)</div></div><div class=\"anaIndex anaOdd\"><a href=\"https://anvilproject.org/ncpi/data/studies/phs000289\">/ncpi/data/studies/phs000289</a></div><div class=\"anaCell anaOdd anaSubcolLeft\"><div class=\"new\"></div></div><div class=\"anaCell anaOdd\">1</div><div class=\"anaCell anaOdd anaSubcolRight\"></div><div class=\"anaIndex anaEven\"><a href=\"https://anvilproject.org/ncpi/data/studies/phs000178\">/ncpi/data/studies/phs000178</a></div><div class=\"anaCell anaEven anaSubcolLeft\"><div class=\"new\"></div></div><div class=\"anaCell anaEven\">1</div><div class=\"anaCell anaEven anaSubcolRight\"></div><div class=\"anaIndex anaOdd\"><a href=\"https://anvilproject.org/ncpi/search?q=Mitochondria+and+aging\">/ncpi/search?q=Mitochondria+and+aging</a></div><div class=\"anaCell anaOdd anaSubcolLeft\"><div class=\"new\"></div></div><div class=\"anaCell anaOdd\">1</div><div class=\"anaCell anaOdd anaSubcolRight\"></div><div class=\"anaIndex anaEven\"><a href=\"https://anvilproject.org/ncpi/data/studies/phs000227\">/ncpi/data/studies/phs000227</a></div><div class=\"anaCell anaEven anaSubcolLeft\"><div class=\"new\"></div></div><div class=\"anaCell anaEven\">1</div><div class=\"anaCell anaEven anaSubcolRight\"></div><div class=\"anaIndex anaOdd\"><a href=\"https://anvilproject.org/ncpi/data/studies/phs000209\">/ncpi/data/studies/phs000209</a></div><div class=\"anaCell anaOdd anaSubcolLeft\"><div class=\"down\"></div></div><div class=\"anaCell anaOdd\">1</div><div class=\"anaCell anaOdd anaSubcolRight\"><div class=\"anaNegative\">(-50.00%)</div></div><div class=\"anaIndex anaEven\"><a href=\"https://anvilproject.org/ncpi/data/studies/phs000424\">/ncpi/data/studies/phs000424</a></div><div class=\"anaCell anaEven anaSubcolLeft\"><div class=\"down\"></div></div><div class=\"anaCell anaEven\">1</div><div class=\"anaCell anaEven anaSubcolRight\"><div class=\"anaNegative\">(-50.00%)</div></div><div class=\"anaIndex anaOdd\"><a href=\"https://anvilproject.org/ncpi/data/studies/phs000287\">/ncpi/data/studies/phs000287</a></div><div class=\"anaCell anaOdd anaSubcolLeft\"><div class=\"new\"></div></div><div class=\"anaCell anaOdd\">1</div><div class=\"anaCell anaOdd anaSubcolRight\"></div><div class=\"anaIndex anaEven\"><a href=\"https://anvilproject.org/ncpi/data/studies/phs001287\">/ncpi/data/studies/phs001287</a></div><div class=\"anaCell anaEven anaSubcolLeft\"><div class=\"new\"></div></div><div class=\"anaCell anaEven\">1</div><div class=\"anaCell anaEven anaSubcolRight\"></div><div class=\"anaIndex anaOdd\"><a href=\"https://anvilproject.org/ncpi/data/studies/phs000892\">/ncpi/data/studies/phs000892</a></div><div class=\"anaCell anaOdd anaSubcolLeft\"><div class=\"new\"></div></div><div class=\"anaCell anaOdd\">1</div><div class=\"anaCell anaOdd anaSubcolRight\"></div><div class=\"anaIndex anaEven\"><a href=\"https://anvilproject.org/ncpi/data/studies/phs000810\">/ncpi/data/studies/phs000810</a></div><div class=\"anaCell anaEven anaSubcolLeft\"><div class=\"down\"></div></div><div class=\"anaCell anaEven\">1</div><div class=\"anaCell anaEven anaSubcolRight\"><div class=\"anaNegative\">(-66.67%)</div></div><div class=\"anaIndex anaOdd\"><a href=\"https://anvilproject.org/ncpi/data/studies/phs000466\">/ncpi/data/studies/phs000466</a></div><div class=\"anaCell anaOdd anaSubcolLeft\"><div class=\"new\"></div></div><div class=\"anaCell anaOdd\">1</div><div class=\"anaCell anaOdd anaSubcolRight\"></div><div class=\"anaIndex anaEven\"><a href=\"https://anvilproject.org/ncpi/data/studies/phs001387\">/ncpi/data/studies/phs001387</a></div><div class=\"anaCell anaEven anaSubcolLeft\"><div class=\"new\"></div></div><div class=\"anaCell anaEven\">1</div><div class=\"anaCell anaEven anaSubcolRight\"></div></div>"
      ],
      "text/plain": [
       "<IPython.core.display.HTML object>"
      ]
     },
     "metadata": {},
     "output_type": "display_data"
    }
   ],
   "source": [
    "ac.show_difference_table(\"Entrances\", \"Page\", \"ga:entrances\",\"ga:pagePath\", filters=NCPI_FILTER, **default_params)"
   ]
  },
  {
   "cell_type": "markdown",
   "id": "ae2a4531",
   "metadata": {},
   "source": [
    "<div style=\"page-break-after: always\"></div>"
   ]
  },
  {
   "cell_type": "markdown",
   "id": "6ce3b066",
   "metadata": {
    "tags": [
     "remove-cell"
    ]
   },
   "source": [
    "## Outbound Links to Terra\n",
    "### Terra Login"
   ]
  },
  {
   "cell_type": "code",
   "execution_count": 32,
   "id": "2ebd18b1",
   "metadata": {
    "tags": [
     "remove-input",
     "remove-cell"
    ]
   },
   "outputs": [
    {
     "data": {
      "text/html": [
       "<div class=\"analyticsTable\" style=\"grid-template-columns: 1fr var(--symbol-width) minmax(var(--value-width), min-content) minmax(var(--percentage-width), min-content)\"><div class=\"anaIndex anaColName\">URL</div><div class=\"anaColName\" style=\"grid-column: span 3\">Count</div></div>"
      ],
      "text/plain": [
       "<IPython.core.display.HTML object>"
      ]
     },
     "metadata": {},
     "output_type": "display_data"
    }
   ],
   "source": [
    "ac.show_difference_table(\"Count\", \"URL\", \"ga:hits\", \"ga:dimension3\", filters=\"ga:dimension3=~^https://anvil.terra.bio/(?:\\\\#workspaces)?$\" + \";\" + NCPI_FILTER, **default_params)"
   ]
  },
  {
   "cell_type": "markdown",
   "id": "7e6d9407",
   "metadata": {
    "tags": [
     "remove-cell"
    ]
   },
   "source": [
    "### Terra Workspaces\n",
    "The following Terra workspaces were navigated to from the AnVIL portal."
   ]
  },
  {
   "cell_type": "code",
   "execution_count": 33,
   "id": "f7ce4753",
   "metadata": {
    "tags": [
     "remove-input",
     "remove-cell"
    ]
   },
   "outputs": [
    {
     "data": {
      "text/html": [
       "<div class=\"analyticsTable\" style=\"grid-template-columns: 1fr var(--symbol-width) minmax(var(--value-width), min-content) minmax(var(--percentage-width), min-content)\"><div class=\"anaIndex anaColName\">Workspace</div><div class=\"anaColName\" style=\"grid-column: span 3\">Count</div></div>"
      ],
      "text/plain": [
       "<IPython.core.display.HTML object>"
      ]
     },
     "metadata": {},
     "output_type": "display_data"
    }
   ],
   "source": [
    "ac.show_difference_table(\"Count\", \"Workspace\", \"ga:hits\", \"ga:eventLabel\", filters=\"ga:eventCategory==External Link;ga:dimension1==Workspace\" + \";\" + NCPI_FILTER, **default_params)"
   ]
  },
  {
   "cell_type": "markdown",
   "id": "ad319d17",
   "metadata": {},
   "source": [
    "## Outbound Links to dbGap\n",
    "### Top Studies"
   ]
  },
  {
   "cell_type": "code",
   "execution_count": 20,
   "id": "5df94974",
   "metadata": {
    "tags": [
     "remove-input"
    ]
   },
   "outputs": [
    {
     "data": {
      "text/html": [
       "<div class=\"analyticsTable\" style=\"grid-template-columns: 1fr var(--symbol-width) minmax(var(--value-width), min-content) minmax(var(--percentage-width), min-content)\"><div class=\"anaIndex anaColName\">Study ID</div><div class=\"anaColName\" style=\"grid-column: span 3\">Count</div><div class=\"anaIndex anaEven\">phs001746</div><div class=\"anaCell anaEven anaSubcolLeft\"><div class=\"new\"></div></div><div class=\"anaCell anaEven\">5</div><div class=\"anaCell anaEven anaSubcolRight\"></div></div>"
      ],
      "text/plain": [
       "<IPython.core.display.HTML object>"
      ]
     },
     "metadata": {},
     "output_type": "display_data"
    }
   ],
   "source": [
    "ac.show_difference_table(\"Count\", \"Study ID\", \"ga:hits\", \"ga:eventLabel\", filters=\"ga:dimension1==Study;ga:eventLabel=~^phs\" + \";\" + NCPI_FILTER, **default_params)"
   ]
  },
  {
   "cell_type": "markdown",
   "id": "c59d9834",
   "metadata": {
    "tags": [
     "remove-cell"
    ]
   },
   "source": [
    "## Outbound Links to Dockstore\n",
    "### Links to Dockstore Organization Page"
   ]
  },
  {
   "cell_type": "code",
   "execution_count": 21,
   "id": "a917723f",
   "metadata": {
    "tags": [
     "remove-input",
     "remove-cell"
    ]
   },
   "outputs": [
    {
     "data": {
      "text/html": [
       "<div class=\"analyticsTable\" style=\"grid-template-columns: 1fr var(--symbol-width) minmax(var(--value-width), min-content) minmax(var(--percentage-width), min-content)\"><div class=\"anaIndex anaColName\">URL</div><div class=\"anaColName\" style=\"grid-column: span 3\">Count</div></div>"
      ],
      "text/plain": [
       "<IPython.core.display.HTML object>"
      ]
     },
     "metadata": {},
     "output_type": "display_data"
    }
   ],
   "source": [
    "ac.show_difference_table(\"Count\", \"URL\", \"ga:hits\", \"ga:eventLabel\", filters=\"ga:eventCategory==External Link;ga:dimension3==https://dockstore.org/organizations/anvil\" + \";\" + NCPI_FILTER, **default_params)"
   ]
  },
  {
   "cell_type": "markdown",
   "id": "0f10931e",
   "metadata": {
    "tags": [
     "remove-cell"
    ]
   },
   "source": [
    "### Top References"
   ]
  },
  {
   "cell_type": "code",
   "execution_count": 22,
   "id": "080d2462",
   "metadata": {
    "tags": [
     "remove-input",
     "remove-cell"
    ]
   },
   "outputs": [
    {
     "data": {
      "text/html": [
       "<div class=\"analyticsTable\" style=\"grid-template-columns: 1fr var(--symbol-width) minmax(var(--value-width), min-content) minmax(var(--percentage-width), min-content)\"><div class=\"anaIndex anaColName\">URL</div><div class=\"anaColName\" style=\"grid-column: span 3\">Count</div></div>"
      ],
      "text/plain": [
       "<IPython.core.display.HTML object>"
      ]
     },
     "metadata": {},
     "output_type": "display_data"
    }
   ],
   "source": [
    "ac.show_difference_table(\"Count\", \"URL\", \"ga:hits\", \"ga:eventLabel\", filters=\"ga:eventCategory==External Link;ga:dimension1==Reference;ga:dimension2==Dockstore\" + \";\" + NCPI_FILTER, **default_params)"
   ]
  },
  {
   "cell_type": "markdown",
   "id": "6d12a5fb",
   "metadata": {
    "tags": [
     "remove-cell"
    ]
   },
   "source": [
    "## Outbound Links to Gen3\n",
    "### Links to Gen3 Data Browser"
   ]
  },
  {
   "cell_type": "code",
   "execution_count": 23,
   "id": "099853c6",
   "metadata": {
    "tags": [
     "remove-input",
     "remove-cell"
    ]
   },
   "outputs": [
    {
     "data": {
      "text/html": [
       "<div class=\"analyticsTable\" style=\"grid-template-columns: 1fr var(--symbol-width) minmax(var(--value-width), min-content) minmax(var(--percentage-width), min-content)\"><div class=\"anaIndex anaColName\">URL</div><div class=\"anaColName\" style=\"grid-column: span 3\">Count</div></div>"
      ],
      "text/plain": [
       "<IPython.core.display.HTML object>"
      ]
     },
     "metadata": {},
     "output_type": "display_data"
    }
   ],
   "source": [
    "ac.show_difference_table(\"Count\", \"URL\", \"ga:hits\", \"ga:dimension3\", filters=\"ga:eventCategory==External Link;ga:dimension3==https://gen3.theanvil.io/\" + \";\" + NCPI_FILTER, **default_params)"
   ]
  },
  {
   "cell_type": "markdown",
   "id": "3bc4f689",
   "metadata": {
    "tags": [
     "remove-cell"
    ]
   },
   "source": [
    "## Outbound Links to Tools"
   ]
  },
  {
   "cell_type": "code",
   "execution_count": 34,
   "id": "5264ac7c",
   "metadata": {
    "tags": [
     "remove-input",
     "remove-cell"
    ]
   },
   "outputs": [
    {
     "data": {
      "text/html": [
       "<div class=\"analyticsTable\" style=\"grid-template-columns: 1fr var(--symbol-width) minmax(var(--value-width), min-content) minmax(var(--percentage-width), min-content)\"><div class=\"anaIndex anaColName\">Tool</div><div class=\"anaColName\" style=\"grid-column: span 3\">Count</div></div>"
      ],
      "text/plain": [
       "<IPython.core.display.HTML object>"
      ]
     },
     "metadata": {},
     "output_type": "display_data"
    }
   ],
   "source": [
    "ac.show_difference_table(\"Count\", \"Tool\", \"ga:hits\", \"ga:eventLabel\", filters=\"ga:eventCategory==External Link;ga:dimension1==Tool\" + \";\" + NCPI_FILTER, **default_params)"
   ]
  },
  {
   "cell_type": "markdown",
   "id": "8e77bb04",
   "metadata": {
    "tags": [
     "remove-cell"
    ]
   },
   "source": [
    "## Outbound Links to General Resources (NIH/NHGRI)"
   ]
  },
  {
   "cell_type": "code",
   "execution_count": 35,
   "id": "1bd2ce95",
   "metadata": {
    "tags": [
     "remove-input",
     "remove-cell"
    ]
   },
   "outputs": [
    {
     "data": {
      "text/html": [
       "<div class=\"analyticsTable\" style=\"grid-template-columns: repeat(1, auto) 1fr var(--symbol-width) minmax(var(--value-width), min-content) minmax(var(--percentage-width), min-content)\"><div class=\"anaIndex anaColName\">NIH/NHGRI</div><div class=\"anaIndex anaColName\">URL</div><div class=\"anaColName\" style=\"grid-column: span 3\">Count</div></div>"
      ],
      "text/plain": [
       "<IPython.core.display.HTML object>"
      ]
     },
     "metadata": {},
     "output_type": "display_data"
    }
   ],
   "source": [
    "ac.show_difference_table(\"Count\", [\"NIH/NHGRI\", \"URL\"], \"ga:hits\", [\"ga:dimension2\", \"ga:dimension3\"], filters=\"ga:eventCategory==External Link;ga:dimension1==Reference;ga:dimension2=~NIH|NHGRI\" + \";\" + NCPI_FILTER, **default_params)"
   ]
  },
  {
   "cell_type": "markdown",
   "id": "f864a416",
   "metadata": {
    "tags": [
     "remove-cell"
    ]
   },
   "source": [
    "## Outbound Links to Data Consortia"
   ]
  },
  {
   "cell_type": "code",
   "execution_count": 36,
   "id": "9437ad49",
   "metadata": {
    "tags": [
     "remove-input",
     "remove-cell"
    ]
   },
   "outputs": [
    {
     "data": {
      "text/html": [
       "<div class=\"analyticsTable\" style=\"grid-template-columns: 1fr var(--symbol-width) minmax(var(--value-width), min-content) minmax(var(--percentage-width), min-content)\"><div class=\"anaIndex anaColName\">Consortia</div><div class=\"anaColName\" style=\"grid-column: span 3\">Count</div></div>"
      ],
      "text/plain": [
       "<IPython.core.display.HTML object>"
      ]
     },
     "metadata": {},
     "output_type": "display_data"
    }
   ],
   "source": [
    "ac.show_difference_table(\"Count\", \"Consortia\", \"ga:hits\", \"ga:eventLabel\", filters=\"ga:eventCategory==External Link;ga:dimension1==Data Consortium\" + \";\" + NCPI_FILTER, **default_params)"
   ]
  },
  {
   "cell_type": "markdown",
   "id": "4ce03658",
   "metadata": {},
   "source": [
    "## Videos\n",
    "### Monthly Video Views (All Time)"
   ]
  },
  {
   "cell_type": "code",
   "execution_count": 14,
   "id": "f484eb9c",
   "metadata": {
    "tags": [
     "remove-input"
    ]
   },
   "outputs": [
    {
     "data": {
      "image/png": "[encoded data removed]",
      "text/plain": [
       "<Figure size 1152x648 with 1 Axes>"
      ]
     },
     "metadata": {
      "needs_background": "light"
     },
     "output_type": "display_data"
    }
   ],
   "source": [
    "yt_over_time_table = ncpi.plot_yt_over_time(start_date=ANALYTICS_START, end_date=pd.Timestamp.now().isoformat()[:10], **default_params_yt)"
   ]
  },
  {
   "cell_type": "code",
   "execution_count": 15,
   "id": "905c4602",
   "metadata": {
    "tags": [
     "remove-input"
    ]
   },
   "outputs": [
    {
     "data": {
      "text/html": [
       "<div class=\"analyticsTable\" style=\"grid-template-columns: repeat(1, auto) 1fr minmax(var(--value-width), min-content) minmax(var(--percentage-width), min-content)\"><div class=\"anaIndex anaColName\">Year</div><div class=\"anaIndex anaColName\">Month</div><div class=\"anaColName\" style=\"grid-column: span 2\">Views</div><div class=\"anaIndex anaEven\" style=\"grid-row: span 8\">2022</div><div class=\"anaIndex anaEven\" style=\"grid-row: span 1\">August</div><div class=\"anaCell anaEven anaSubcolLeft\">30</div><div class=\"anaCell anaEven anaSubcolRight\"><div class=\"anaPositive\">(+200.00%)</div></div><div class=\"anaIndex anaOdd\" style=\"grid-row: span 1\">July</div><div class=\"anaCell anaOdd anaSubcolLeft\">10</div><div class=\"anaCell anaOdd anaSubcolRight\"><div class=\"anaNegative\">(-47.37%)</div></div><div class=\"anaIndex anaEven\" style=\"grid-row: span 1\">June</div><div class=\"anaCell anaEven anaSubcolLeft\">19</div><div class=\"anaCell anaEven anaSubcolRight\"><div class=\"anaNegative\">(-26.92%)</div></div><div class=\"anaIndex anaOdd\" style=\"grid-row: span 1\">May</div><div class=\"anaCell anaOdd anaSubcolLeft\">26</div><div class=\"anaCell anaOdd anaSubcolRight\"><div class=\"anaNegative\">(-3.70%)</div></div><div class=\"anaIndex anaEven\" style=\"grid-row: span 1\">April</div><div class=\"anaCell anaEven anaSubcolLeft\">27</div><div class=\"anaCell anaEven anaSubcolRight\"><div class=\"anaNegative\">(-10.00%)</div></div><div class=\"anaIndex anaOdd\" style=\"grid-row: span 1\">March</div><div class=\"anaCell anaOdd anaSubcolLeft\">30</div><div class=\"anaCell anaOdd anaSubcolRight\"><div class=\"anaNegative\">(-69.39%)</div></div><div class=\"anaIndex anaEven\" style=\"grid-row: span 1\">February</div><div class=\"anaCell anaEven anaSubcolLeft\">98</div><div class=\"anaCell anaEven anaSubcolRight\"><div class=\"anaPositive\">(+108.51%)</div></div><div class=\"anaIndex anaOdd\" style=\"grid-row: span 1\">January</div><div class=\"anaCell anaOdd anaSubcolLeft\">47</div><div class=\"anaCell anaOdd anaSubcolRight\"><div class=\"anaPositive\">(+30.56%)</div></div><div class=\"anaIndex anaEven\" style=\"grid-row: span 12\">2021</div><div class=\"anaIndex anaEven\" style=\"grid-row: span 1\">December</div><div class=\"anaCell anaEven anaSubcolLeft\">36</div><div class=\"anaCell anaEven anaSubcolRight\"><div class=\"anaNegative\">(-20.00%)</div></div><div class=\"anaIndex anaOdd\" style=\"grid-row: span 1\">November</div><div class=\"anaCell anaOdd anaSubcolLeft\">45</div><div class=\"anaCell anaOdd anaSubcolRight\"><div class=\"anaNegative\">(-40.79%)</div></div><div class=\"anaIndex anaEven\" style=\"grid-row: span 1\">October</div><div class=\"anaCell anaEven anaSubcolLeft\">76</div><div class=\"anaCell anaEven anaSubcolRight\"><div class=\"anaPositive\">(+94.87%)</div></div><div class=\"anaIndex anaOdd\" style=\"grid-row: span 1\">September</div><div class=\"anaCell anaOdd anaSubcolLeft\">39</div><div class=\"anaCell anaOdd anaSubcolRight\"><div class=\"anaPositive\">(+160.00%)</div></div><div class=\"anaIndex anaEven\" style=\"grid-row: span 1\">August</div><div class=\"anaCell anaEven anaSubcolLeft\">15</div><div class=\"anaCell anaEven anaSubcolRight\"><div class=\"anaPositive\">(+87.50%)</div></div><div class=\"anaIndex anaOdd\" style=\"grid-row: span 1\">July</div><div class=\"anaCell anaOdd anaSubcolLeft\">8</div><div class=\"anaCell anaOdd anaSubcolRight\"><div class=\"anaNegative\">(-71.43%)</div></div><div class=\"anaIndex anaEven\" style=\"grid-row: span 1\">June</div><div class=\"anaCell anaEven anaSubcolLeft\">28</div><div class=\"anaCell anaEven anaSubcolRight\"><div class=\"anaPositive\">(+133.33%)</div></div><div class=\"anaIndex anaOdd\" style=\"grid-row: span 1\">May</div><div class=\"anaCell anaOdd anaSubcolLeft\">12</div><div class=\"anaCell anaOdd anaSubcolRight\"><div class=\"anaNegative\">(-29.41%)</div></div><div class=\"anaIndex anaEven\" style=\"grid-row: span 1\">April</div><div class=\"anaCell anaEven anaSubcolLeft\">17</div><div class=\"anaCell anaEven anaSubcolRight\"><div class=\"anaPositive\">(+70.00%)</div></div><div class=\"anaIndex anaOdd\" style=\"grid-row: span 1\">March</div><div class=\"anaCell anaOdd anaSubcolLeft\">10</div><div class=\"anaCell anaOdd anaSubcolRight\"><div class=\"anaNegative\">(-50.00%)</div></div><div class=\"anaIndex anaEven\" style=\"grid-row: span 1\">February</div><div class=\"anaCell anaEven anaSubcolLeft\">20</div><div class=\"anaCell anaEven anaSubcolRight\"><div class=\"anaNegative\">(-9.09%)</div></div><div class=\"anaIndex anaOdd\" style=\"grid-row: span 1\">January</div><div class=\"anaCell anaOdd anaSubcolLeft\">22</div><div class=\"anaCell anaOdd anaSubcolRight\"><div class=\"anaNegative\">(-37.14%)</div></div><div class=\"anaIndex anaEven\" style=\"grid-row: span 5\">2020</div><div class=\"anaIndex anaEven\" style=\"grid-row: span 1\">December</div><div class=\"anaCell anaEven anaSubcolLeft\">35</div><div class=\"anaCell anaEven anaSubcolRight\"><div class=\"anaPositive\">(+337.50%)</div></div><div class=\"anaIndex anaOdd\" style=\"grid-row: span 1\">November</div><div class=\"anaCell anaOdd anaSubcolLeft\">8</div><div class=\"anaCell anaOdd anaSubcolRight\"><div class=\"anaNegative\">(-33.33%)</div></div><div class=\"anaIndex anaEven\" style=\"grid-row: span 1\">October</div><div class=\"anaCell anaEven anaSubcolLeft\">12</div><div class=\"anaCell anaEven anaSubcolRight\"><div class=\"anaPositive\">(+500.00%)</div></div><div class=\"anaIndex anaOdd\" style=\"grid-row: span 1\">September</div><div class=\"anaCell anaOdd anaSubcolLeft\">2</div><div class=\"anaCell anaOdd anaSubcolRight\"><div class=\"anaNegative\">(-84.62%)</div></div><div class=\"anaIndex anaEven\" style=\"grid-row: span 1\">August</div><div class=\"anaCell anaEven anaSubcolLeft\">13</div><div class=\"anaCell anaEven anaSubcolRight\"></div></div>"
      ],
      "text/plain": [
       "<IPython.core.display.HTML object>"
      ]
     },
     "metadata": {},
     "output_type": "display_data"
    }
   ],
   "source": [
    "display(yt_over_time_table)"
   ]
  },
  {
   "cell_type": "markdown",
   "id": "0658552c",
   "metadata": {},
   "source": [
    "### Video Statistics"
   ]
  },
  {
   "cell_type": "code",
   "execution_count": 16,
   "id": "bf61a3bb",
   "metadata": {
    "tags": [
     "remove-input"
    ]
   },
   "outputs": [
    {
     "data": {
      "text/html": [
       "<div class=\"analyticsTable\" style=\"grid-template-columns: 1fr var(--symbol-width) minmax(var(--value-width), min-content) minmax(var(--percentage-width), min-content) minmax(4.5em, min-content) minmax(var(--value-width), min-content) 3.8em minmax(var(--percentage-width), min-content) minmax(5.8em, min-content)\"><div class=\"anaIndex anaColName\">Video</div><div class=\"anaColName\" style=\"grid-column: span 3\">Views</div><div class=\"anaColName\" style=\"grid-column: span 1\">All-time views</div><div class=\"anaColName\" style=\"grid-column: span 3\">Average watch time (minutes)</div><div class=\"anaColName\" style=\"grid-column: span 1\">Video duration</div><div class=\"anaIndex anaEven\"><a href=\"https://www.youtube.com/watch?v=elmG_02zn_4\">Use Case: Seven Bridges - Cancer Genomics Cloud  - NCPI &quot;Train you colleague&quot; - Day 2. Session 2</a></div><div class=\"anaCell anaEven anaSubcolLeft\"><div class=\"up\"></div></div><div class=\"anaCell anaEven\">15</div><div class=\"anaCell anaEven anaSubcolRight\"><div class=\"anaPositive\">(+650.00%)</div></div><div class=\"anaCell anaEven anaSubcolLeft\"><div style=\"text-align: center\">109</div></div><div class=\"anaCell anaEven anaSubcolLeft\">5.97</div><div class=\"anaCell anaEven\"><div style=\"color: darkgray\">9.66%</div></div><div class=\"anaCell anaEven anaSubcolRight\"><div class=\"anaNegative\">(-75.28%)</div></div><div class=\"anaCell anaEven anaSubcolLeft\"><div style=\"text-align: center\">01:01:52</div></div><div class=\"anaIndex anaOdd\"><a href=\"https://www.youtube.com/watch?v=YGZTxDdaWqk\">NCPI  - Cross Platform Data Access Demo  - July 2021</a></div><div class=\"anaCell anaOdd anaSubcolLeft\"><div class=\"down\"></div></div><div class=\"anaCell anaOdd\">5</div><div class=\"anaCell anaOdd anaSubcolRight\"><div class=\"anaNegative\">(-37.50%)</div></div><div class=\"anaCell anaOdd anaSubcolLeft\"><div style=\"text-align: center\">155</div></div><div class=\"anaCell anaOdd anaSubcolLeft\">4.68</div><div class=\"anaCell anaOdd\"><div style=\"color: darkgray\">17.63%</div></div><div class=\"anaCell anaOdd anaSubcolRight\"><div class=\"anaPositive\">(+44.10%)</div></div><div class=\"anaCell anaOdd anaSubcolLeft\"><div style=\"text-align: center\">00:26:38</div></div><div class=\"anaIndex anaEven\"><a href=\"https://www.youtube.com/watch?v=FUpb7VEzJ24\">Fall 2021 NCPI Conference Day 1 AM</a></div><div class=\"anaCell anaEven anaSubcolLeft\"><div class=\"new\"></div></div><div class=\"anaCell anaEven\">4</div><div class=\"anaCell anaEven anaSubcolRight\"></div><div class=\"anaCell anaEven anaSubcolLeft\"><div style=\"text-align: center\">42</div></div><div class=\"anaCell anaEven anaSubcolLeft\">0.32</div><div class=\"anaCell anaEven\"><div style=\"color: darkgray\">0.27%</div></div><div class=\"anaCell anaEven anaSubcolRight\"></div><div class=\"anaCell anaEven anaSubcolLeft\"><div style=\"text-align: center\">01:58:00</div></div><div class=\"anaIndex anaOdd\"><a href=\"https://www.youtube.com/watch?v=1wHenZ0QR08\">Introduction to Seven Bridges - NCPI “Train your colleague” - Day 1, Session 7</a></div><div class=\"anaCell anaOdd anaSubcolLeft\"><div class=\"new\"></div></div><div class=\"anaCell anaOdd\">3</div><div class=\"anaCell anaOdd anaSubcolRight\"></div><div class=\"anaCell anaOdd anaSubcolLeft\"><div style=\"text-align: center\">35</div></div><div class=\"anaCell anaOdd anaSubcolLeft\">5.83</div><div class=\"anaCell anaOdd\"><div style=\"color: darkgray\">14.07%</div></div><div class=\"anaCell anaOdd anaSubcolRight\"></div><div class=\"anaCell anaOdd anaSubcolLeft\"><div style=\"text-align: center\">00:41:29</div></div><div class=\"anaIndex anaEven\"><a href=\"https://www.youtube.com/watch?v=kLgHSW-39XE\">Use Case:  ISB, Cancer Genomics Cloud/CRDC - NCPI “Train your colleague” - Day 2, Session 4</a></div><div class=\"anaCell anaEven anaSubcolLeft\"><div class=\"new\"></div></div><div class=\"anaCell anaEven\">1</div><div class=\"anaCell anaEven anaSubcolRight\"></div><div class=\"anaCell anaEven anaSubcolLeft\"><div style=\"text-align: center\">19</div></div><div class=\"anaCell anaEven anaSubcolLeft\">18.05</div><div class=\"anaCell anaEven\"><div style=\"color: darkgray\">61.03%</div></div><div class=\"anaCell anaEven anaSubcolRight\"></div><div class=\"anaCell anaEven anaSubcolLeft\"><div style=\"text-align: center\">00:29:36</div></div><div class=\"anaIndex anaOdd\"><a href=\"https://www.youtube.com/watch?v=JDqm7NsG46Y\">Intro to ISB-CGC - NCPI “Train your colleague” - Day 1, Session 8</a></div><div class=\"anaCell anaOdd anaSubcolLeft\"><div class=\"new\"></div></div><div class=\"anaCell anaOdd\">1</div><div class=\"anaCell anaOdd anaSubcolRight\"></div><div class=\"anaCell anaOdd anaSubcolLeft\"><div style=\"text-align: center\">8</div></div><div class=\"anaCell anaOdd anaSubcolLeft\">2.23</div><div class=\"anaCell anaOdd\"><div style=\"color: darkgray\">7.92%</div></div><div class=\"anaCell anaOdd anaSubcolRight\"></div><div class=\"anaCell anaOdd anaSubcolLeft\"><div style=\"text-align: center\">00:28:23</div></div><div class=\"anaIndex anaEven\"><a href=\"https://www.youtube.com/watch?v=2wBZ_2L9HBE\">Fall 2021 NCPI Conference Day 2 AM</a></div><div class=\"anaCell anaEven anaSubcolLeft\"><div class=\"new\"></div></div><div class=\"anaCell anaEven\">1</div><div class=\"anaCell anaEven anaSubcolRight\"></div><div class=\"anaCell anaEven anaSubcolLeft\"><div style=\"text-align: center\">14</div></div><div class=\"anaCell anaEven anaSubcolLeft\">0.05</div><div class=\"anaCell anaEven\"><div style=\"color: darkgray\">0.05%</div></div><div class=\"anaCell anaEven anaSubcolRight\"></div><div class=\"anaCell anaEven anaSubcolLeft\"><div style=\"text-align: center\">02:13:50</div></div></div>"
      ],
      "text/plain": [
       "<IPython.core.display.HTML object>"
      ]
     },
     "metadata": {},
     "output_type": "display_data"
    }
   ],
   "source": [
    "top_videos_filter = ncpi.show_difference_and_get_top_videos(50, [\"Views\", \"Average watch time (minutes)\", \"Average watch %\"], \"Video\", [\"views\", \"averageViewDuration\", \"averageViewPercentage\"], \"video\", max_results=100, sort_results=\"-views\", index_key_formatter=ncpi.format_video_key, pre_render_processor=ncpi.format_video_stats_table, **default_params_yt)"
   ]
  },
  {
   "cell_type": "markdown",
   "id": "d8c77d46",
   "metadata": {},
   "source": [
    "<div style=\"page-break-after: always\"></div>"
   ]
  },
  {
   "cell_type": "markdown",
   "id": "b90aa83f",
   "metadata": {},
   "source": [
    "### Video Views (From NCPI Website)"
   ]
  },
  {
   "cell_type": "code",
   "execution_count": 17,
   "id": "91b6f0e6",
   "metadata": {
    "tags": [
     "remove-input"
    ]
   },
   "outputs": [
    {
     "data": {
      "text/html": [
       "<div class=\"analyticsTable\" style=\"grid-template-columns: 1fr var(--symbol-width) minmax(var(--value-width), min-content) minmax(var(--percentage-width), min-content)\"><div class=\"anaIndex anaColName\">Video</div><div class=\"anaColName\" style=\"grid-column: span 3\">Count</div><div class=\"anaIndex anaEven\">NCPI - Cross Platform Data Access Demo - July 2021</div><div class=\"anaCell anaEven anaSubcolLeft\"><div class=\"up\"></div></div><div class=\"anaCell anaEven\">5</div><div class=\"anaCell anaEven anaSubcolRight\"><div class=\"anaZero\">(+0.00%)</div></div><div class=\"anaIndex anaOdd\">NCI Cancer Research Data Commons – Harmonizing Research &amp; Data Science for Better Clinical Outcomes</div><div class=\"anaCell anaOdd anaSubcolLeft\"><div class=\"new\"></div></div><div class=\"anaCell anaOdd\">3</div><div class=\"anaCell anaOdd anaSubcolRight\"></div><div class=\"anaIndex anaEven\">2022 NCPI Spring Virtual Meeting Day 1</div><div class=\"anaCell anaEven anaSubcolLeft\"><div class=\"up\"></div></div><div class=\"anaCell anaEven\">1</div><div class=\"anaCell anaEven anaSubcolRight\"><div class=\"anaNegative\">(-50.00%)</div></div></div>"
      ],
      "text/plain": [
       "<IPython.core.display.HTML object>"
      ]
     },
     "metadata": {},
     "output_type": "display_data"
    }
   ],
   "source": [
    "ac.show_difference_table(\"Count\", \"Video\", \"ga:hits\", \"ga:eventLabel\", filters=\"ga:eventCategory==Video;ga:eventAction==start\" + \";\" + NCPI_FILTER, df_processor=ncpi.save_site_video_views, **default_params)"
   ]
  },
  {
   "cell_type": "markdown",
   "id": "b35f5837",
   "metadata": {},
   "source": [
    "### Video Views by Category"
   ]
  },
  {
   "cell_type": "code",
   "execution_count": 18,
   "id": "9bc7e91a",
   "metadata": {
    "tags": [
     "remove-input"
    ]
   },
   "outputs": [
    {
     "data": {
      "text/html": [
       "<div class=\"analyticsTable\" style=\"grid-template-columns: 1fr var(--symbol-width) minmax(var(--value-width), min-content) minmax(var(--percentage-width), min-content)\"><div class=\"anaIndex anaEven\">Total views</div><div class=\"anaCell anaEven anaSubcolLeft\"></div><div class=\"anaCell anaEven\">30</div><div class=\"anaCell anaEven anaSubcolRight\"><div class=\"anaPositive\">(+200.00%)</div></div></div>"
      ],
      "text/plain": [
       "<IPython.core.display.HTML object>"
      ]
     },
     "metadata": {},
     "output_type": "display_data"
    }
   ],
   "source": [
    "ac.show_difference_table(\"Total views\", None, \"views\", None, **default_params_yt)"
   ]
  },
  {
   "cell_type": "code",
   "execution_count": 19,
   "id": "dbc7008b",
   "metadata": {
    "tags": [
     "remove-input"
    ]
   },
   "outputs": [
    {
     "data": {
      "text/html": [
       "<div class=\"analyticsTable\" style=\"grid-template-columns: 1fr var(--symbol-width) minmax(var(--value-width), min-content) minmax(var(--percentage-width), min-content)\"><div class=\"anaIndex anaEven\">Views from YouTube</div><div class=\"anaCell anaEven anaSubcolLeft\"></div><div class=\"anaCell anaEven\">20</div><div class=\"anaCell anaEven anaSubcolRight\"><div class=\"anaPositive\">(+400.00%)</div></div></div>"
      ],
      "text/plain": [
       "<IPython.core.display.HTML object>"
      ]
     },
     "metadata": {},
     "output_type": "display_data"
    }
   ],
   "source": [
    "ac.show_difference_table(\"\", \"\", \"views\", \"insightTrafficSourceType\", max_results=100, sort_results=\"-views\", filters=top_videos_filter, df_processor=ncpi.collapse_yt_sources, **default_params_yt)"
   ]
  },
  {
   "cell_type": "code",
   "execution_count": 22,
   "id": "cbb3c417",
   "metadata": {
    "tags": [
     "remove-input"
    ]
   },
   "outputs": [
    {
     "data": {
      "text/html": [
       "<div class=\"analyticsTable\" style=\"grid-template-columns: 1fr minmax(var(--value-width), min-content) minmax(var(--percentage-width), min-content)\"><div class=\"anaIndex anaEven\">Views from AnVIL website</div><div class=\"anaCell anaEven anaSubcolLeft\">9</div><div class=\"anaCell anaEven anaSubcolRight\"><div class=\"anaNegative\">(-40.00%)</div></div></div>"
      ],
      "text/plain": [
       "<IPython.core.display.HTML object>"
      ]
     },
     "metadata": {},
     "output_type": "display_data"
    }
   ],
   "source": [
    "ncpi.show_value_difference_table(\"Views from NCPI website\", ncpi.site_video_views, **default_params_yt)"
   ]
  },
  {
   "cell_type": "code",
   "execution_count": 23,
   "id": "7c880a5f",
   "metadata": {
    "tags": [
     "remove-input"
    ]
   },
   "outputs": [
    {
     "data": {
      "text/html": [
       "<div class=\"analyticsTable\" style=\"grid-template-columns: 1fr var(--symbol-width) minmax(var(--value-width), min-content) minmax(var(--percentage-width), min-content)\"><div class=\"anaIndex anaEven\">Views from other/unknown sources</div><div class=\"anaCell anaEven anaSubcolLeft\"></div><div class=\"anaCell anaEven\">1</div><div class=\"anaCell anaEven anaSubcolRight\"></div></div>"
      ],
      "text/plain": [
       "<IPython.core.display.HTML object>"
      ]
     },
     "metadata": {},
     "output_type": "display_data"
    }
   ],
   "source": [
    "ac.show_difference_table(\"Views from other/unknown sources\", None, \"views\", None, df_processor=ncpi.make_subtraction_processor([a + b for a, b in zip(ncpi.site_video_views, ncpi.yt_video_views)]), **default_params_yt)"
   ]
  },
  {
   "cell_type": "markdown",
   "id": "a484055b",
   "metadata": {},
   "source": [
    "## Data Dashboard\n",
    "### Top Facet Terms"
   ]
  },
  {
   "cell_type": "code",
   "execution_count": 28,
   "id": "bd989a24",
   "metadata": {
    "tags": [
     "remove-input"
    ]
   },
   "outputs": [
    {
     "data": {
      "text/html": [
       "<div class=\"analyticsTable\" style=\"grid-template-columns: repeat(1, auto) 1fr var(--symbol-width) minmax(var(--value-width), min-content) minmax(var(--percentage-width), min-content)\"><div class=\"anaIndex anaColName\">Term Name</div><div class=\"anaIndex anaColName\">Facet</div><div class=\"anaColName\" style=\"grid-column: span 3\">Count</div><div class=\"anaIndex anaEven\">AnVIL</div><div class=\"anaIndex anaEven\">platforms</div><div class=\"anaCell anaEven anaSubcolLeft\"><div class=\"new\"></div></div><div class=\"anaCell anaEven\">5</div><div class=\"anaCell anaEven anaSubcolRight\"></div><div class=\"anaIndex anaOdd\">KFDRC</div><div class=\"anaIndex anaOdd\">platforms</div><div class=\"anaCell anaOdd anaSubcolLeft\"><div class=\"new\"></div></div><div class=\"anaCell anaOdd\">4</div><div class=\"anaCell anaOdd anaSubcolRight\"></div><div class=\"anaIndex anaEven\">BDC</div><div class=\"anaIndex anaEven\">platforms</div><div class=\"anaCell anaEven anaSubcolLeft\"><div class=\"new\"></div></div><div class=\"anaCell anaEven\">2</div><div class=\"anaCell anaEven anaSubcolRight\"></div><div class=\"anaIndex anaOdd\">AMPLICON</div><div class=\"anaIndex anaOdd\">dataTypes</div><div class=\"anaCell anaOdd anaSubcolLeft\"><div class=\"new\"></div></div><div class=\"anaCell anaOdd\">1</div><div class=\"anaCell anaOdd anaSubcolRight\"></div><div class=\"anaIndex anaEven\">Allele-Specific Expression</div><div class=\"anaIndex anaEven\">dataTypes</div><div class=\"anaCell anaEven anaSubcolLeft\"><div class=\"new\"></div></div><div class=\"anaCell anaEven\">1</div><div class=\"anaCell anaEven anaSubcolRight\"></div><div class=\"anaIndex anaOdd\">Asthma</div><div class=\"anaIndex anaOdd\">focuses</div><div class=\"anaCell anaOdd anaSubcolLeft\"><div class=\"new\"></div></div><div class=\"anaCell anaOdd\">1</div><div class=\"anaCell anaOdd anaSubcolRight\"></div><div class=\"anaIndex anaEven\">Blood Pressure</div><div class=\"anaIndex anaEven\">focuses</div><div class=\"anaCell anaEven anaSubcolLeft\"><div class=\"new\"></div></div><div class=\"anaCell anaEven\">1</div><div class=\"anaCell anaEven anaSubcolRight\"></div><div class=\"anaIndex anaOdd\">CRDC</div><div class=\"anaIndex anaOdd\">platforms</div><div class=\"anaCell anaOdd anaSubcolLeft\"><div class=\"up\"></div></div><div class=\"anaCell anaOdd\">1</div><div class=\"anaCell anaOdd anaSubcolRight\"><div class=\"anaNegative\">(-50.00%)</div></div><div class=\"anaIndex anaEven\">GRU</div><div class=\"anaIndex anaEven\">consentCodes</div><div class=\"anaCell anaEven anaSubcolLeft\"><div class=\"new\"></div></div><div class=\"anaCell anaEven\">1</div><div class=\"anaCell anaEven anaSubcolRight\"></div><div class=\"anaIndex anaOdd\">GRU-NPU</div><div class=\"anaIndex anaOdd\">consentCodes</div><div class=\"anaCell anaOdd anaSubcolLeft\"><div class=\"new\"></div></div><div class=\"anaCell anaOdd\">1</div><div class=\"anaCell anaOdd anaSubcolRight\"></div><div class=\"anaIndex anaEven\">Hemophilia A</div><div class=\"anaIndex anaEven\">focuses</div><div class=\"anaCell anaEven anaSubcolLeft\"><div class=\"new\"></div></div><div class=\"anaCell anaEven\">1</div><div class=\"anaCell anaEven anaSubcolRight\"></div><div class=\"anaIndex anaOdd\">NPU</div><div class=\"anaIndex anaOdd\">consentCodes</div><div class=\"anaCell anaOdd anaSubcolLeft\"><div class=\"new\"></div></div><div class=\"anaCell anaOdd\">1</div><div class=\"anaCell anaOdd anaSubcolRight\"></div><div class=\"anaIndex anaEven\">Population</div><div class=\"anaIndex anaEven\">focuses</div><div class=\"anaCell anaEven anaSubcolLeft\"><div class=\"new\"></div></div><div class=\"anaCell anaEven\">1</div><div class=\"anaCell anaEven anaSubcolRight\"></div></div>"
      ],
      "text/plain": [
       "<IPython.core.display.HTML object>"
      ]
     },
     "metadata": {},
     "output_type": "display_data"
    }
   ],
   "source": [
    "ac.show_difference_table(\"Count\", [\"Term Name\", \"Facet\"], \"ga:hits\", [\"ga:eventLabel\", \"ga:dimension5\"], filters=\"ga:eventCategory==Search;ga:eventAction==Select\" + \";\" + NCPI_FILTER, **default_params)"
   ]
  },
  {
   "cell_type": "markdown",
   "id": "6e7bcba2",
   "metadata": {},
   "source": [
    "<div style=\"page-break-after: always\"></div>"
   ]
  },
  {
   "cell_type": "markdown",
   "id": "cce1253e",
   "metadata": {},
   "source": [
    "### Top Text Searches"
   ]
  },
  {
   "cell_type": "code",
   "execution_count": 29,
   "id": "a6d6523d",
   "metadata": {
    "tags": [
     "remove-input"
    ]
   },
   "outputs": [
    {
     "data": {
      "text/html": [
       "<div class=\"analyticsTable\" style=\"grid-template-columns: 1fr var(--symbol-width) minmax(var(--value-width), min-content) minmax(var(--percentage-width), min-content)\"><div class=\"anaIndex anaColName\">Text Input</div><div class=\"anaColName\" style=\"grid-column: span 3\">Count</div><div class=\"anaIndex anaEven\">Glycated Hemoglobin</div><div class=\"anaCell anaEven anaSubcolLeft\"><div class=\"new\"></div></div><div class=\"anaCell anaEven\">1</div><div class=\"anaCell anaEven anaSubcolRight\"></div><div class=\"anaIndex anaOdd\">Neuro</div><div class=\"anaCell anaOdd anaSubcolLeft\"><div class=\"new\"></div></div><div class=\"anaCell anaOdd\">1</div><div class=\"anaCell anaOdd anaSubcolRight\"></div><div class=\"anaIndex anaEven\">rubella</div><div class=\"anaCell anaEven anaSubcolLeft\"><div class=\"new\"></div></div><div class=\"anaCell anaEven\">1</div><div class=\"anaCell anaEven anaSubcolRight\"></div></div>"
      ],
      "text/plain": [
       "<IPython.core.display.HTML object>"
      ]
     },
     "metadata": {},
     "output_type": "display_data"
    }
   ],
   "source": [
    "ac.show_difference_table(\"Count\", \"Text Input\", \"ga:hits\", \"ga:eventLabel\", filters=\"ga:eventCategory==Search;ga:eventAction==Enter Text;ga:eventLabel=~.{3\\\\,}\" + \";\" + NCPI_FILTER, **default_params)"
   ]
  },
  {
   "cell_type": "markdown",
   "id": "50658332",
   "metadata": {},
   "source": [
    "## Site Search\n",
    "### Top Text Searches"
   ]
  },
  {
   "cell_type": "code",
   "execution_count": 30,
   "id": "08375d58",
   "metadata": {
    "tags": [
     "remove-input"
    ]
   },
   "outputs": [
    {
     "data": {
      "text/html": [
       "<div class=\"analyticsTable\" style=\"grid-template-columns: 1fr var(--symbol-width) minmax(var(--value-width), min-content) minmax(var(--percentage-width), min-content)\"><div class=\"anaIndex anaColName\">Text Input</div><div class=\"anaColName\" style=\"grid-column: span 3\">Count</div><div class=\"anaIndex anaEven\">Mitochondria and aging</div><div class=\"anaCell anaEven anaSubcolLeft\"><div class=\"new\"></div></div><div class=\"anaCell anaEven\">1</div><div class=\"anaCell anaEven anaSubcolRight\"></div><div class=\"anaIndex anaOdd\">jon kaltman</div><div class=\"anaCell anaOdd anaSubcolLeft\"><div class=\"new\"></div></div><div class=\"anaCell anaOdd\">1</div><div class=\"anaCell anaOdd anaSubcolRight\"></div></div>"
      ],
      "text/plain": [
       "<IPython.core.display.HTML object>"
      ]
     },
     "metadata": {},
     "output_type": "display_data"
    }
   ],
   "source": [
    "ac.show_difference_table(\"Count\", \"Text Input\", \"ga:hits\", \"ga:eventLabel\", filters=\"ga:eventCategory==Site Search;ga:eventAction==Search;ga:eventLabel=~.{3\\\\,}\" + \";\" + NCPI_FILTER, **default_params)"
   ]
  },
  {
   "cell_type": "markdown",
   "id": "3a767848",
   "metadata": {},
   "source": [
    "### Top Search Click Throughs"
   ]
  },
  {
   "cell_type": "code",
   "execution_count": 31,
   "id": "dc60bbdd",
   "metadata": {
    "tags": [
     "remove-input"
    ]
   },
   "outputs": [
    {
     "data": {
      "text/html": [
       "<div class=\"analyticsTable\" style=\"grid-template-columns: 1fr var(--symbol-width) minmax(var(--value-width), min-content) minmax(var(--percentage-width), min-content)\"><div class=\"anaIndex anaColName\">Clicked Search Result</div><div class=\"anaColName\" style=\"grid-column: span 3\">Count</div><div class=\"anaIndex anaEven\">NHLBI BioData Catalyst (BDC) | NCPI</div><div class=\"anaCell anaEven anaSubcolLeft\"><div class=\"new\"></div></div><div class=\"anaCell anaEven\">1</div><div class=\"anaCell anaEven anaSubcolRight\"></div></div>"
      ],
      "text/plain": [
       "<IPython.core.display.HTML object>"
      ]
     },
     "metadata": {},
     "output_type": "display_data"
    }
   ],
   "source": [
    "ac.show_difference_table(\"Count\", \"Clicked Search Result\", \"ga:hits\", \"ga:eventLabel\", filters=\"ga:eventCategory==Site Search;ga:eventAction==Select Search Result\" + \";\" + NCPI_FILTER, **default_params)"
   ]
  },
  {
   "cell_type": "code",
   "execution_count": null,
   "id": "070c32c9",
   "metadata": {},
   "outputs": [],
   "source": []
  },
  {
   "cell_type": "code",
   "execution_count": null,
   "id": "512466e2",
   "metadata": {},
   "outputs": [],
   "source": []
  }
 ],
 "metadata": {
  "celltoolbar": "Tags",
  "kernelspec": {
   "display_name": "Python 3 (ipykernel)",
   "language": "python",
   "name": "python3"
  },
  "language_info": {
   "codemirror_mode": {
    "name": "ipython",
    "version": 3
   },
   "file_extension": ".py",
   "mimetype": "text/x-python",
   "name": "python",
   "nbconvert_exporter": "python",
   "pygments_lexer": "ipython3",
   "version": "3.9.7"
  }
 },
 "nbformat": 4,
 "nbformat_minor": 5
}
