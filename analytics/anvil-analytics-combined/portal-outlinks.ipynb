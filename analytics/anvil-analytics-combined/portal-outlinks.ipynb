{
 "cells": [
  {
   "cell_type": "code",
   "execution_count": null,
   "metadata": {},
   "outputs": [],
   "source": [
    "# Add credentials environment variable here\n",
    "# Example:\n",
    "#%env GA4_CREDENTIALS=your/path/to/your/credentials.json"
   ]
  },
  {
   "cell_type": "code",
   "execution_count": 2,
   "metadata": {},
   "outputs": [],
   "source": [
    "import analytics.charts as ac\n",
    "import analytics.api as ga\n",
    "import pandas as pd\n",
    "from constants import *\n"
   ]
  },
  {
   "cell_type": "code",
   "execution_count": null,
   "metadata": {},
   "outputs": [],
   "source": [
    "default_params = {\n",
    "    \"service_system\": ac.authenticate_ga(SECRET_NAME, ga.ga4_service_params, port=OAUTH_PORT),\n",
    "}\n",
    "outlink_search_params = {\n",
    "    \"start_date\": '30daysAgo',\n",
    "    \"end_date\": TODAY,\n",
    "    \"dimensionFilter\": {\n",
    "        \"filter\": {\n",
    "            \"stringFilter\": {\n",
    "                \"matchType\": \"EXACT\",\n",
    "                \"value\": \"true\"\n",
    "            },\n",
    "            \"fieldName\": \"outbound\"\n",
    "        }\n",
    "    }\n",
    "}\n",
    "catalog_params = {\n",
    "    **default_params,\n",
    "    **outlink_search_params,\n",
    "    \"property\": PROPERTY_ID_MAP[ANVIL_CATALOG_NAME],\n",
    "}\n",
    "explorer_params = {\n",
    "    **default_params,\n",
    "    **outlink_search_params,\n",
    "    \"property\": PROPERTY_ID_MAP[ANVIL_EXPLORER_NAME],\n",
    "}\n",
    "portal_params = {\n",
    "    **default_params,\n",
    "    **outlink_search_params,\n",
    "    \"base_dimension_filter\": EXCLUDE_PAGES_FILTER,\n",
    "    \"property\": PROPERTY_ID_MAP[ANVIL_PORTAL_NAME],\n",
    "}\n",
    "\n",
    "outlink_params_for_each_property = {\n",
    "    ANVIL_PORTAL_NAME: portal_params,\n",
    "    ANVIL_CATALOG_NAME: catalog_params,\n",
    "    ANVIL_EXPLORER_NAME: explorer_params,\n",
    "}"
   ]
  },
  {
   "cell_type": "code",
   "execution_count": null,
   "metadata": {},
   "outputs": [],
   "source": [
    "results_dict = {}\n",
    "\n",
    "for key in outlink_params_for_each_property:\n",
    "    print(key)\n",
    "    df_outlinks = (ac.get_data_df(\n",
    "        [\"eventCount\"],\n",
    "        [\"pagePath\", \"linkDomain\", \"linkUrl\"], \n",
    "        **outlink_params_for_each_property[key], \n",
    "        df_processor=lambda df: df.loc[df.index.get_level_values(1) != \"\"]\n",
    "    )).rename_axis(\n",
    "        index={\"pagePath\": \"Current Page\", \"linkDomain\": \"Outlink Domain\", \"linkUrl\": \"Outlink URL\"}\n",
    "    )\n",
    "    results_dict[key] = df_outlinks\n",
    "\n",
    "with pd.ExcelWriter(\"outlinks_summary.xlsx\") as writer:\n",
    "    for key in results_dict:\n",
    "        results_dict[key].to_excel(writer, sheet_name=key)"
   ]
  }
 ],
 "metadata": {
  "kernelspec": {
   "display_name": "venv",
   "language": "python",
   "name": "python3"
  },
  "language_info": {
   "codemirror_mode": {
    "name": "ipython",
    "version": 3
   },
   "file_extension": ".py",
   "mimetype": "text/x-python",
   "name": "python",
   "nbconvert_exporter": "python",
   "pygments_lexer": "ipython3",
   "version": "3.12.4"
  }
 },
 "nbformat": 4,
 "nbformat_minor": 2
}
