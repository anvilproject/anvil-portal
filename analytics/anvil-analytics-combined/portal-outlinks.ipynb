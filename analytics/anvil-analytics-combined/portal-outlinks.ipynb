{
 "cells": [
  {
   "cell_type": "code",
   "execution_count": null,
   "metadata": {},
   "outputs": [],
   "source": [
    "import analytics.api as ga\n",
    "import analytics.sheets_api as sheets\n",
    "import analytics.sheets_elements as elements\n",
    "import pandas as pd\n",
    "from constants import *"
   ]
  },
  {
   "cell_type": "code",
   "execution_count": null,
   "metadata": {},
   "outputs": [],
   "source": [
    "%env ANVIL_ANALYTICS_REPORTING_CLIENT_SECRET_PATH=../../../do_not_commit_ga4_credentials.json"
   ]
  },
  {
   "cell_type": "code",
   "execution_count": null,
   "metadata": {},
   "outputs": [],
   "source": [
    "ga_authentication, drive_authentication = ga.authenticate(\n",
    "    SECRET_NAME,\n",
    "    ga.ga4_service_params,\n",
    "    ga.drive_service_params,\n",
    "    port=OAUTH_PORT\n",
    ")\n",
    "\n",
    "date_string = f\"{START_DATE} - {END_DATE}\"\n",
    "\n",
    "default_params = {\n",
    "    \"service_system\": ga_authentication,\n",
    "    \"start_date\": START_DATE,\n",
    "    \"end_date\": END_DATE,\n",
    "}\n",
    "\n",
    "catalog_params = {\n",
    "    **default_params,\n",
    "    \"property\": PROPERTY_ID_MAP[ANVIL_CATALOG_NAME],\n",
    "}\n",
    "explorer_params = {\n",
    "    **default_params,\n",
    "    \"property\": PROPERTY_ID_MAP[ANVIL_EXPLORER_NAME],\n",
    "}\n",
    "portal_params = {\n",
    "    **default_params,\n",
    "    \"base_dimension_filter\": EXCLUDE_PAGES_FILTER,\n",
    "    \"property\": PROPERTY_ID_MAP[ANVIL_PORTAL_NAME],\n",
    "}\n",
    "\n",
    "\n",
    "params_by_property = {\n",
    "    ANVIL_PORTAL_NAME: portal_params,\n",
    "    ANVIL_CATALOG_NAME: catalog_params,\n",
    "    ANVIL_EXPLORER_NAME: explorer_params,\n",
    "}"
   ]
  },
  {
   "cell_type": "code",
   "execution_count": null,
   "metadata": {},
   "outputs": [],
   "source": [
    "outbound_links_df_by_property = {}\n",
    "for key in params_by_property:\n",
    "    df_outbound_links = elements.get_outbound_sheets_df(params_by_property[key])\n",
    "    outbound_links_df_by_property[key] = df_outbound_links\n",
    "sheets.fill_spreadsheet_with_df_dict(\n",
    "    sheets.create_sheet_in_folder(\n",
    "        drive_authentication,\n",
    "        f\"Outbound Links {date_string}\",\n",
    "        \"December 2024 (demos)\"\n",
    "    ),\n",
    "    outbound_links_df_by_property,\n",
    "    sheets.FILE_OVERRIDE_BEHAVIORS.EXIT_ANYWHERE\n",
    ")"
   ]
  }
 ],
 "metadata": {
  "kernelspec": {
   "display_name": "venv",
   "language": "python",
   "name": "python3"
  },
  "language_info": {
   "codemirror_mode": {
    "name": "ipython",
    "version": 3
   },
   "file_extension": ".py",
   "mimetype": "text/x-python",
   "name": "python",
   "nbconvert_exporter": "python",
   "pygments_lexer": "ipython3",
   "version": "3.12.4"
  }
 },
 "nbformat": 4,
 "nbformat_minor": 2
}
