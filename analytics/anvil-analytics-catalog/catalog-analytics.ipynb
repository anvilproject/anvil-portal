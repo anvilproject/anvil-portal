{
 "cells": [
  {
   "attachments": {},
   "cell_type": "markdown",
   "id": "98bd0cf6",
   "metadata": {},
   "source": [
    "```{image} anvil-logo.png\n",
    ":width: 200px\n",
    ":class: analytics-logo\n",
    "```\n",
    "\n",
    "# AnVIL Dataset Catalog User Analytics - May vs April 2023\n",
    "\n",
    "This section displays metrics collected from Google Analytics for the AnVIL Dataset Catalog at https://anvilproject.org/data and compares May 2023 with the previous month (April 2023). The generation of this report is now coded in Jupyter notebooks and can be rerun easily and modified or consolidated as desired.\n",
    "\n",
    "### Key to tables\n",
    "\n",
    "On the tables:\n",
    "\n",
    "* Diffs, e.g. <span style=\"color: green\">(+19.04%)</span> or <span style=\"color: red\">(-12.03%)</span>, compare the later month with the previous month.\n",
    "* \"+\" Indicates the entry is new in the report in the current month.\n",
    "* \"↑\" Indicates the entry has moved up in rank since the last month.\n",
    "* \"↓\" Indicates the entry has moved down in rank since the last month."
   ]
  },
  {
   "cell_type": "code",
   "execution_count": 1,
   "id": "c1204f97",
   "metadata": {
    "tags": [
     "remove-cell"
    ]
   },
   "outputs": [],
   "source": [
    "import warnings\n",
    "warnings.filterwarnings('ignore')"
   ]
  },
  {
   "cell_type": "code",
   "execution_count": 1,
   "id": "c19c88f8",
   "metadata": {
    "scrolled": true,
    "tags": [
     "remove-cell"
    ]
   },
   "outputs": [],
   "source": [
    "# !pip install google_auth_oauthlib \n",
    "# !pip install install google-api-python-client\n",
    "# !pip install pandas \n",
    "# !pip install numpy\n",
    "# !pip install matplotlib\n",
    "# !pip install google-cloud-bigquery\n",
    "# !pip install db-dtypes\n",
    "\n",
    "# Analytics package:\n",
    "# !pip install -e \"git+https://github.com/DataBiosphere/data-browser.git@5042e623bfe6ad8404be5f60e1ddb3c0e8e7d6b3#egg=analytics&subdirectory=analytics/hdgar-book/analytics_package\""
   ]
  },
  {
   "cell_type": "code",
   "execution_count": 9,
   "id": "70fb2997",
   "metadata": {
    "scrolled": false,
    "tags": [
     "remove-cell"
    ]
   },
   "outputs": [
    {
     "name": "stdout",
     "output_type": "stream",
     "text": [
      "The autoreload extension is already loaded. To reload it, use:\n",
      "  %reload_ext autoreload\n"
     ]
    }
   ],
   "source": [
    "from IPython.display import display\n",
    "import analytics.api as ga\n",
    "import analytics.charts as ac\n",
    "\n",
    "%load_ext autoreload\n",
    "%autoreload 2\n",
    "\n",
    "import analytics_anvil as anvil\n",
    "\n",
    "SECRET_NAME = 'ANVIL_ANALYTICS_REPORTING_CLIENT_SECRET_PATH'\n",
    "GA_PROPERTY_CATALOG = \"368661710\" # AnVIL Dataset Catalog - GA4\n",
    "ANALYTICS_START = \"2020-02-01\"\n",
    "TODAY = 'today'\n",
    "PERIOD = \"2023-05\"\n",
    "PREV_PERIOD = \"2023-04\"\n",
    "\n",
    "GA3_END = \"2023-04-30\"\n",
    "GA4_START = \"2023-05-01\""
   ]
  },
  {
   "cell_type": "code",
   "execution_count": 22,
   "id": "6571a948",
   "metadata": {
    "tags": [
     "remove-cell"
    ]
   },
   "outputs": [
    {
     "name": "stdout",
     "output_type": "stream",
     "text": [
      "Please visit this URL to authorize this application: https://accounts.google.com/o/oauth2/auth?response_type=code&client_id=526897014808-dq9pt3bmnutqqjdvj1f5roflpgcvqmpt.apps.googleusercontent.com&redirect_uri=http%3A%2F%2Flocalhost%3A8089%2F&scope=https%3A%2F%2Fwww.googleapis.com%2Fauth%2Fanalytics.readonly&state=SlxcGjY7k3XIonM3uwoOpTujZb7HkF&access_type=offline\n"
     ]
    }
   ],
   "source": [
    "default_params_catalog = {\n",
    "    \"service_system\": ac.authenticate_ga4(SECRET_NAME),\n",
    "    \"property\": GA_PROPERTY_CATALOG,\n",
    "    \"index_key_formatter\": anvil.adjust_table_index_key,\n",
    "    \"period\": PERIOD,\n",
    "    \"prev_period\": PREV_PERIOD\n",
    "}"
   ]
  },
  {
   "cell_type": "code",
   "execution_count": 3,
   "id": "3e54340a",
   "metadata": {
    "tags": [
     "remove-input"
    ]
   },
   "outputs": [
    {
     "data": {
      "text/html": [
       "\n",
       "\t\t<style>\n",
       "\t\t\t\n",
       "\t\t\t.analyticsTable {\n",
       "\t\t\t\tdisplay: grid;\n",
       "\t\t\t\t--symbol-width: 1.5em;\n",
       "\t\t\t\t--value-width: 2.9em;\n",
       "\t\t\t\t--percentage-width: 6.8em;\n",
       "\t\t\t}\n",
       "\t\t\t\n",
       "\t\t\t/*\n",
       "\t\t\t.anaEven {\n",
       "\t\t\t\tbackground: #f5f5f5;\n",
       "\t\t\t}\n",
       "\t\t\t*/\n",
       "\t\t\t\n",
       "\t\t\t.anaIndex:not(.anaColName) {\n",
       "\t\t\t\twhite-space: pre-wrap;\n",
       "\t\t\t\tline-break: anywhere;\n",
       "\t\t\t\tword-break: break-all;\n",
       "\t\t\t}\n",
       "\t\t\t\n",
       "\t\t\t.anaColName {\n",
       "\t\t\t\tfont-weight: bold;\n",
       "\t\t\t\tborder-bottom: 1px solid black;\n",
       "\t\t\t}\n",
       "\t\t\t\n",
       "\t\t\t.anaIndex, .anaColName, .anaCell {\n",
       "\t\t\t\tpadding: 0.3em;\n",
       "\t\t\t}\n",
       "\t\t\t\n",
       "\t\t\t.anaSubcolLeft, .anaIndex {\n",
       "\t\t\t\tpadding-left: 1em;\n",
       "\t\t\t}\n",
       "\t\t\t\n",
       "\t\t\t.anaSubcolRight {\n",
       "\t\t\t\tpadding-right: 1em;\n",
       "\t\t\t}\n",
       "\t\t\t\n",
       "\t\t\t.anaColName:not(.anaIndex) {\n",
       "\t\t\t\ttext-align: center;\n",
       "\t\t\t}\n",
       "\t\t\t\n",
       "\t\t\t.anaCell:not(.anaIndex) {\n",
       "\t\t\t\ttext-align: right;\n",
       "\t\t\t}\n",
       "\t\t\t\n",
       "\t\t\t.analyticsTable .up::before {\n",
       "\t\t\t\tcontent: \"↑\";\n",
       "\t\t\t\tcolor: gray;\n",
       "\t\t\t}\n",
       "\t\t\t\n",
       "\t\t\t.analyticsTable .down::before {\n",
       "\t\t\t\tcontent: \"↓\";\n",
       "\t\t\t\tcolor: gray;\n",
       "\t\t\t}\n",
       "\t\t\t\n",
       "\t\t\t.analyticsTable .new::before {\n",
       "\t\t\t\tcontent: \"+\";\n",
       "\t\t\t\tcolor: gray;\n",
       "\t\t\t}\n",
       "\t\t\t\n",
       "\t\t\t.anaPositive {\n",
       "\t\t\t\tcolor: green;\n",
       "\t\t\t}\n",
       "\t\t\t\n",
       "\t\t\t.anaNegative {\n",
       "\t\t\t\tcolor: red;\n",
       "\t\t\t}\n",
       "\t\t\t\n",
       "\t\t</style>\n",
       "\t"
      ],
      "text/plain": [
       "<IPython.core.display.HTML object>"
      ]
     },
     "metadata": {},
     "output_type": "display_data"
    }
   ],
   "source": [
    "ac.init_tables()"
   ]
  },
  {
   "cell_type": "code",
   "execution_count": 10,
   "id": "f8c20797",
   "metadata": {
    "tags": [
     "remove-cell"
    ]
   },
   "outputs": [
    {
     "name": "stdout",
     "output_type": "stream",
     "text": [
      "Please visit this URL to authorize this application: https://accounts.google.com/o/oauth2/auth?response_type=code&client_id=526897014808-dq9pt3bmnutqqjdvj1f5roflpgcvqmpt.apps.googleusercontent.com&redirect_uri=http%3A%2F%2Flocalhost%3A8087%2F&scope=https%3A%2F%2Fwww.googleapis.com%2Fauth%2Fanalytics.readonly&state=asactMNEmaA66JdtqAXEFzoMPKL9An&access_type=offline\n"
     ]
    }
   ],
   "source": [
    "# ga3_service_system = ac.authenticate_ga(SECRET_NAME)"
   ]
  },
  {
   "cell_type": "code",
   "execution_count": 20,
   "id": "6c70733f",
   "metadata": {
    "tags": [
     "remove-cell"
    ]
   },
   "outputs": [],
   "source": [
    "# ga3_users_over_time_params = {\n",
    "#     \"start_date\": ANALYTICS_START,\n",
    "#     \"end_date\": GA3_END,\n",
    "#     \"service_system\": ga3_service_system,\n",
    "#     \"property\": \"207946923\"\n",
    "# }\n",
    "# \n",
    "# anvil.save_ga3_users_over_time_data({\"segment\": \"gaid::3Xr0aEDERNSr_0fFX9yeBQ\"}, {\"filters\": \"ga:pagePath=~^/data/?\"}, **ga3_users_over_time_params)"
   ]
  },
  {
   "cell_type": "markdown",
   "id": "1919eb1b",
   "metadata": {},
   "source": [
    "## Monthly Users and Page Views (All Time)"
   ]
  },
  {
   "cell_type": "code",
   "execution_count": 30,
   "id": "5774475a",
   "metadata": {
    "tags": [
     "remove-input"
    ]
   },
   "outputs": [
    {
     "data": {
      "image/png": "[encoded data removed]",
      "text/plain": [
       "<Figure size 1600x900 with 1 Axes>"
      ]
     },
     "metadata": {},
     "output_type": "display_data"
    }
   ],
   "source": [
    "users_over_time_table = anvil.plot_users_over_time(start_date=GA4_START, end_date=TODAY, **default_params_catalog)"
   ]
  },
  {
   "cell_type": "code",
   "execution_count": 31,
   "id": "0a5ed81c",
   "metadata": {
    "tags": [
     "remove-input"
    ]
   },
   "outputs": [
    {
     "data": {
      "text/html": [
       "<div class=\"analyticsTable\" style=\"grid-template-columns: repeat(1, auto) 1fr minmax(var(--value-width), min-content) minmax(var(--percentage-width), min-content) minmax(var(--value-width), min-content) minmax(var(--percentage-width), min-content)\"><div class=\"anaIndex anaColName\">Year</div><div class=\"anaIndex anaColName\">Month</div><div class=\"anaColName\" style=\"grid-column: span 2\">Users</div><div class=\"anaColName\" style=\"grid-column: span 2\">Total Pageviews</div><div class=\"anaIndex anaEven\" style=\"grid-row: span 5\">2023</div><div class=\"anaIndex anaEven\" style=\"grid-row: span 1\">May</div><div class=\"anaCell anaEven anaSubcolLeft\">430</div><div class=\"anaCell anaEven anaSubcolRight\"><div class=\"anaPositive\">(+83.76%)</div></div><div class=\"anaCell anaEven anaSubcolLeft\">2733</div><div class=\"anaCell anaEven anaSubcolRight\"><div class=\"anaPositive\">(+164.31%)</div></div><div class=\"anaIndex anaOdd\" style=\"grid-row: span 1\">April</div><div class=\"anaCell anaOdd anaSubcolLeft\">234</div><div class=\"anaCell anaOdd anaSubcolRight\"><div class=\"anaPositive\">(+9.86%)</div></div><div class=\"anaCell anaOdd anaSubcolLeft\">1034</div><div class=\"anaCell anaOdd anaSubcolRight\"><div class=\"anaNegative\">(-9.38%)</div></div><div class=\"anaIndex anaEven\" style=\"grid-row: span 1\">March</div><div class=\"anaCell anaEven anaSubcolLeft\">213</div><div class=\"anaCell anaEven anaSubcolRight\"><div class=\"anaNegative\">(-28.76%)</div></div><div class=\"anaCell anaEven anaSubcolLeft\">1141</div><div class=\"anaCell anaEven anaSubcolRight\"><div class=\"anaNegative\">(-32.12%)</div></div><div class=\"anaIndex anaOdd\" style=\"grid-row: span 1\">February</div><div class=\"anaCell anaOdd anaSubcolLeft\">299</div><div class=\"anaCell anaOdd anaSubcolRight\"><div class=\"anaPositive\">(+21.54%)</div></div><div class=\"anaCell anaOdd anaSubcolLeft\">1681</div><div class=\"anaCell anaOdd anaSubcolRight\"><div class=\"anaPositive\">(+51.58%)</div></div><div class=\"anaIndex anaEven\" style=\"grid-row: span 1\">January</div><div class=\"anaCell anaEven anaSubcolLeft\">246</div><div class=\"anaCell anaEven anaSubcolRight\"><div class=\"anaPositive\">(+59.74%)</div></div><div class=\"anaCell anaEven anaSubcolLeft\">1109</div><div class=\"anaCell anaEven anaSubcolRight\"><div class=\"anaPositive\">(+94.56%)</div></div><div class=\"anaIndex anaOdd\" style=\"grid-row: span 12\">2022</div><div class=\"anaIndex anaOdd\" style=\"grid-row: span 1\">December</div><div class=\"anaCell anaOdd anaSubcolLeft\">154</div><div class=\"anaCell anaOdd anaSubcolRight\"><div class=\"anaNegative\">(-44.40%)</div></div><div class=\"anaCell anaOdd anaSubcolLeft\">570</div><div class=\"anaCell anaOdd anaSubcolRight\"><div class=\"anaNegative\">(-58.33%)</div></div><div class=\"anaIndex anaEven\" style=\"grid-row: span 1\">November</div><div class=\"anaCell anaEven anaSubcolLeft\">277</div><div class=\"anaCell anaEven anaSubcolRight\"><div class=\"anaNegative\">(-17.56%)</div></div><div class=\"anaCell anaEven anaSubcolLeft\">1368</div><div class=\"anaCell anaEven anaSubcolRight\"><div class=\"anaNegative\">(-10.12%)</div></div><div class=\"anaIndex anaOdd\" style=\"grid-row: span 1\">October</div><div class=\"anaCell anaOdd anaSubcolLeft\">336</div><div class=\"anaCell anaOdd anaSubcolRight\"><div class=\"anaPositive\">(+57.01%)</div></div><div class=\"anaCell anaOdd anaSubcolLeft\">1522</div><div class=\"anaCell anaOdd anaSubcolRight\"><div class=\"anaPositive\">(+19.09%)</div></div><div class=\"anaIndex anaEven\" style=\"grid-row: span 1\">September</div><div class=\"anaCell anaEven anaSubcolLeft\">214</div><div class=\"anaCell anaEven anaSubcolRight\"><div class=\"anaNegative\">(-18.32%)</div></div><div class=\"anaCell anaEven anaSubcolLeft\">1278</div><div class=\"anaCell anaEven anaSubcolRight\"><div class=\"anaNegative\">(-9.04%)</div></div><div class=\"anaIndex anaOdd\" style=\"grid-row: span 1\">August</div><div class=\"anaCell anaOdd anaSubcolLeft\">262</div><div class=\"anaCell anaOdd anaSubcolRight\"><div class=\"anaPositive\">(+25.96%)</div></div><div class=\"anaCell anaOdd anaSubcolLeft\">1405</div><div class=\"anaCell anaOdd anaSubcolRight\"><div class=\"anaPositive\">(+23.03%)</div></div><div class=\"anaIndex anaEven\" style=\"grid-row: span 1\">July</div><div class=\"anaCell anaEven anaSubcolLeft\">208</div><div class=\"anaCell anaEven anaSubcolRight\"><div class=\"anaNegative\">(-9.96%)</div></div><div class=\"anaCell anaEven anaSubcolLeft\">1142</div><div class=\"anaCell anaEven anaSubcolRight\"><div class=\"anaNegative\">(-14.01%)</div></div><div class=\"anaIndex anaOdd\" style=\"grid-row: span 1\">June</div><div class=\"anaCell anaOdd anaSubcolLeft\">231</div><div class=\"anaCell anaOdd anaSubcolRight\"><div class=\"anaNegative\">(-6.10%)</div></div><div class=\"anaCell anaOdd anaSubcolLeft\">1328</div><div class=\"anaCell anaOdd anaSubcolRight\"><div class=\"anaNegative\">(-30.36%)</div></div><div class=\"anaIndex anaEven\" style=\"grid-row: span 1\">May</div><div class=\"anaCell anaEven anaSubcolLeft\">246</div><div class=\"anaCell anaEven anaSubcolRight\"><div class=\"anaNegative\">(-11.51%)</div></div><div class=\"anaCell anaEven anaSubcolLeft\">1907</div><div class=\"anaCell anaEven anaSubcolRight\"><div class=\"anaNegative\">(-11.84%)</div></div><div class=\"anaIndex anaOdd\" style=\"grid-row: span 1\">April</div><div class=\"anaCell anaOdd anaSubcolLeft\">278</div><div class=\"anaCell anaOdd anaSubcolRight\"><div class=\"anaZero\">(+0.00%)</div></div><div class=\"anaCell anaOdd anaSubcolLeft\">2163</div><div class=\"anaCell anaOdd anaSubcolRight\"><div class=\"anaNegative\">(-5.59%)</div></div><div class=\"anaIndex anaEven\" style=\"grid-row: span 1\">March</div><div class=\"anaCell anaEven anaSubcolLeft\">278</div><div class=\"anaCell anaEven anaSubcolRight\"><div class=\"anaNegative\">(-14.98%)</div></div><div class=\"anaCell anaEven anaSubcolLeft\">2291</div><div class=\"anaCell anaEven anaSubcolRight\"><div class=\"anaPositive\">(+2.64%)</div></div><div class=\"anaIndex anaOdd\" style=\"grid-row: span 1\">February</div><div class=\"anaCell anaOdd anaSubcolLeft\">327</div><div class=\"anaCell anaOdd anaSubcolRight\"><div class=\"anaNegative\">(-22.70%)</div></div><div class=\"anaCell anaOdd anaSubcolLeft\">2232</div><div class=\"anaCell anaOdd anaSubcolRight\"><div class=\"anaNegative\">(-22.20%)</div></div><div class=\"anaIndex anaEven\" style=\"grid-row: span 1\">January</div><div class=\"anaCell anaEven anaSubcolLeft\">423</div><div class=\"anaCell anaEven anaSubcolRight\"><div class=\"anaPositive\">(+126.20%)</div></div><div class=\"anaCell anaEven anaSubcolLeft\">2869</div><div class=\"anaCell anaEven anaSubcolRight\"><div class=\"anaPositive\">(+91.27%)</div></div><div class=\"anaIndex anaOdd\" style=\"grid-row: span 12\">2021</div><div class=\"anaIndex anaOdd\" style=\"grid-row: span 1\">December</div><div class=\"anaCell anaOdd anaSubcolLeft\">187</div><div class=\"anaCell anaOdd anaSubcolRight\"><div class=\"anaNegative\">(-14.22%)</div></div><div class=\"anaCell anaOdd anaSubcolLeft\">1500</div><div class=\"anaCell anaOdd anaSubcolRight\"><div class=\"anaNegative\">(-14.04%)</div></div><div class=\"anaIndex anaEven\" style=\"grid-row: span 1\">November</div><div class=\"anaCell anaEven anaSubcolLeft\">218</div><div class=\"anaCell anaEven anaSubcolRight\"><div class=\"anaNegative\">(-9.54%)</div></div><div class=\"anaCell anaEven anaSubcolLeft\">1745</div><div class=\"anaCell anaEven anaSubcolRight\"><div class=\"anaNegative\">(-11.42%)</div></div><div class=\"anaIndex anaOdd\" style=\"grid-row: span 1\">October</div><div class=\"anaCell anaOdd anaSubcolLeft\">241</div><div class=\"anaCell anaOdd anaSubcolRight\"><div class=\"anaPositive\">(+14.76%)</div></div><div class=\"anaCell anaOdd anaSubcolLeft\">1970</div><div class=\"anaCell anaOdd anaSubcolRight\"><div class=\"anaPositive\">(+1.55%)</div></div><div class=\"anaIndex anaEven\" style=\"grid-row: span 1\">September</div><div class=\"anaCell anaEven anaSubcolLeft\">210</div><div class=\"anaCell anaEven anaSubcolRight\"><div class=\"anaPositive\">(+11.70%)</div></div><div class=\"anaCell anaEven anaSubcolLeft\">1940</div><div class=\"anaCell anaEven anaSubcolRight\"><div class=\"anaPositive\">(+13.12%)</div></div><div class=\"anaIndex anaOdd\" style=\"grid-row: span 1\">August</div><div class=\"anaCell anaOdd anaSubcolLeft\">188</div><div class=\"anaCell anaOdd anaSubcolRight\"><div class=\"anaNegative\">(-18.61%)</div></div><div class=\"anaCell anaOdd anaSubcolLeft\">1715</div><div class=\"anaCell anaOdd anaSubcolRight\"><div class=\"anaPositive\">(+5.28%)</div></div><div class=\"anaIndex anaEven\" style=\"grid-row: span 1\">July</div><div class=\"anaCell anaEven anaSubcolLeft\">231</div><div class=\"anaCell anaEven anaSubcolRight\"><div class=\"anaPositive\">(+6.45%)</div></div><div class=\"anaCell anaEven anaSubcolLeft\">1629</div><div class=\"anaCell anaEven anaSubcolRight\"><div class=\"anaPositive\">(+36.43%)</div></div><div class=\"anaIndex anaOdd\" style=\"grid-row: span 1\">June</div><div class=\"anaCell anaOdd anaSubcolLeft\">217</div><div class=\"anaCell anaOdd anaSubcolRight\"><div class=\"anaNegative\">(-1.36%)</div></div><div class=\"anaCell anaOdd anaSubcolLeft\">1194</div><div class=\"anaCell anaOdd anaSubcolRight\"><div class=\"anaPositive\">(+6.99%)</div></div><div class=\"anaIndex anaEven\" style=\"grid-row: span 1\">May</div><div class=\"anaCell anaEven anaSubcolLeft\">220</div><div class=\"anaCell anaEven anaSubcolRight\"><div class=\"anaPositive\">(+49.66%)</div></div><div class=\"anaCell anaEven anaSubcolLeft\">1116</div><div class=\"anaCell anaEven anaSubcolRight\"><div class=\"anaNegative\">(-27.01%)</div></div><div class=\"anaIndex anaOdd\" style=\"grid-row: span 1\">April</div><div class=\"anaCell anaOdd anaSubcolLeft\">147</div><div class=\"anaCell anaOdd anaSubcolRight\"></div><div class=\"anaCell anaOdd anaSubcolLeft\">1529</div><div class=\"anaCell anaOdd anaSubcolRight\"><div class=\"anaNegative\">(-3.35%)</div></div><div class=\"anaIndex anaEven\" style=\"grid-row: span 1\">March</div><div class=\"anaCell anaEven anaSubcolLeft\">0</div><div class=\"anaCell anaEven anaSubcolRight\"></div><div class=\"anaCell anaEven anaSubcolLeft\">1582</div><div class=\"anaCell anaEven anaSubcolRight\"><div class=\"anaPositive\">(+61.10%)</div></div><div class=\"anaIndex anaOdd\" style=\"grid-row: span 1\">February</div><div class=\"anaCell anaOdd anaSubcolLeft\">0</div><div class=\"anaCell anaOdd anaSubcolRight\"></div><div class=\"anaCell anaOdd anaSubcolLeft\">982</div><div class=\"anaCell anaOdd anaSubcolRight\"><div class=\"anaPositive\">(+36.39%)</div></div><div class=\"anaIndex anaEven\" style=\"grid-row: span 1\">January</div><div class=\"anaCell anaEven anaSubcolLeft\">0</div><div class=\"anaCell anaEven anaSubcolRight\"></div><div class=\"anaCell anaEven anaSubcolLeft\">720</div><div class=\"anaCell anaEven anaSubcolRight\"><div class=\"anaNegative\">(-3.61%)</div></div><div class=\"anaIndex anaOdd\" style=\"grid-row: span 11\">2020</div><div class=\"anaIndex anaOdd\" style=\"grid-row: span 1\">December</div><div class=\"anaCell anaOdd anaSubcolLeft\">0</div><div class=\"anaCell anaOdd anaSubcolRight\"></div><div class=\"anaCell anaOdd anaSubcolLeft\">747</div><div class=\"anaCell anaOdd anaSubcolRight\"><div class=\"anaPositive\">(+43.38%)</div></div><div class=\"anaIndex anaEven\" style=\"grid-row: span 1\">November</div><div class=\"anaCell anaEven anaSubcolLeft\">0</div><div class=\"anaCell anaEven anaSubcolRight\"></div><div class=\"anaCell anaEven anaSubcolLeft\">521</div><div class=\"anaCell anaEven anaSubcolRight\"><div class=\"anaNegative\">(-54.50%)</div></div><div class=\"anaIndex anaOdd\" style=\"grid-row: span 1\">October</div><div class=\"anaCell anaOdd anaSubcolLeft\">0</div><div class=\"anaCell anaOdd anaSubcolRight\"></div><div class=\"anaCell anaOdd anaSubcolLeft\">1145</div><div class=\"anaCell anaOdd anaSubcolRight\"></div><div class=\"anaIndex anaEven\" style=\"grid-row: span 1\">September</div><div class=\"anaCell anaEven anaSubcolLeft\">0</div><div class=\"anaCell anaEven anaSubcolRight\"></div><div class=\"anaCell anaEven anaSubcolLeft\">0</div><div class=\"anaCell anaEven anaSubcolRight\"><div class=\"anaNegative\">(-100.00%)</div></div><div class=\"anaIndex anaOdd\" style=\"grid-row: span 1\">August</div><div class=\"anaCell anaOdd anaSubcolLeft\">0</div><div class=\"anaCell anaOdd anaSubcolRight\"></div><div class=\"anaCell anaOdd anaSubcolLeft\">467</div><div class=\"anaCell anaOdd anaSubcolRight\"><div class=\"anaNegative\">(-39.27%)</div></div><div class=\"anaIndex anaEven\" style=\"grid-row: span 1\">July</div><div class=\"anaCell anaEven anaSubcolLeft\">0</div><div class=\"anaCell anaEven anaSubcolRight\"></div><div class=\"anaCell anaEven anaSubcolLeft\">769</div><div class=\"anaCell anaEven anaSubcolRight\"><div class=\"anaPositive\">(+60.88%)</div></div><div class=\"anaIndex anaOdd\" style=\"grid-row: span 1\">June</div><div class=\"anaCell anaOdd anaSubcolLeft\">0</div><div class=\"anaCell anaOdd anaSubcolRight\"></div><div class=\"anaCell anaOdd anaSubcolLeft\">478</div><div class=\"anaCell anaOdd anaSubcolRight\"><div class=\"anaNegative\">(-6.09%)</div></div><div class=\"anaIndex anaEven\" style=\"grid-row: span 1\">May</div><div class=\"anaCell anaEven anaSubcolLeft\">0</div><div class=\"anaCell anaEven anaSubcolRight\"></div><div class=\"anaCell anaEven anaSubcolLeft\">509</div><div class=\"anaCell anaEven anaSubcolRight\"><div class=\"anaNegative\">(-10.70%)</div></div><div class=\"anaIndex anaOdd\" style=\"grid-row: span 1\">April</div><div class=\"anaCell anaOdd anaSubcolLeft\">0</div><div class=\"anaCell anaOdd anaSubcolRight\"></div><div class=\"anaCell anaOdd anaSubcolLeft\">570</div><div class=\"anaCell anaOdd anaSubcolRight\"><div class=\"anaPositive\">(+61.93%)</div></div><div class=\"anaIndex anaEven\" style=\"grid-row: span 1\">March</div><div class=\"anaCell anaEven anaSubcolLeft\">0</div><div class=\"anaCell anaEven anaSubcolRight\"></div><div class=\"anaCell anaEven anaSubcolLeft\">352</div><div class=\"anaCell anaEven anaSubcolRight\"><div class=\"anaPositive\">(+304.60%)</div></div><div class=\"anaIndex anaOdd\" style=\"grid-row: span 1\">February</div><div class=\"anaCell anaOdd anaSubcolLeft\">0</div><div class=\"anaCell anaOdd anaSubcolRight\"></div><div class=\"anaCell anaOdd anaSubcolLeft\">87</div><div class=\"anaCell anaOdd anaSubcolRight\"></div></div>"
      ],
      "text/plain": [
       "<IPython.core.display.HTML object>"
      ]
     },
     "metadata": {},
     "output_type": "display_data"
    }
   ],
   "source": [
    "display(users_over_time_table)"
   ]
  },
  {
   "cell_type": "markdown",
   "id": "20cb1c19",
   "metadata": {},
   "source": [
    "<div style=\"page-break-after: always\"></div>"
   ]
  },
  {
   "cell_type": "markdown",
   "id": "5a1acbae",
   "metadata": {},
   "source": [
    "## Users and Sessions\n",
    "Users are distinguished based on a tracking cookie set by Google. Because cookies may not remain present over time or between devices, it's likely that total users are overcounted and returning users are undercounted."
   ]
  },
  {
   "cell_type": "code",
   "execution_count": 5,
   "id": "fdd3f650",
   "metadata": {
    "tags": [
     "remove-input"
    ]
   },
   "outputs": [
    {
     "data": {
      "text/html": [
       "<div class=\"analyticsTable\" style=\"grid-template-columns: 1fr var(--symbol-width) minmax(var(--value-width), min-content) minmax(var(--percentage-width), min-content)\"><div class=\"anaIndex anaEven\">Total Users</div><div class=\"anaCell anaEven anaSubcolLeft\"></div><div class=\"anaCell anaEven\">466</div><div class=\"anaCell anaEven anaSubcolRight\"><div class=\"anaPositive\">(+565.71%)</div></div></div>"
      ],
      "text/plain": [
       "<IPython.core.display.HTML object>"
      ]
     },
     "metadata": {},
     "output_type": "display_data"
    }
   ],
   "source": [
    "ac.show_difference_table(\"Total Users\", None, \"totalUsers\", None, **default_params_catalog)"
   ]
  },
  {
   "cell_type": "code",
   "execution_count": 6,
   "id": "c8fe499f",
   "metadata": {
    "tags": [
     "remove-input"
    ]
   },
   "outputs": [
    {
     "data": {
      "text/html": [
       "<div class=\"analyticsTable\" style=\"grid-template-columns: 1fr var(--symbol-width) minmax(var(--value-width), min-content) minmax(var(--percentage-width), min-content)\"><div class=\"anaIndex anaEven\">Returning Users</div><div class=\"anaCell anaEven anaSubcolLeft\"></div><div class=\"anaCell anaEven\">134</div><div class=\"anaCell anaEven anaSubcolRight\"><div class=\"anaPositive\">(+737.50%)</div></div></div>"
      ],
      "text/plain": [
       "<IPython.core.display.HTML object>"
      ]
     },
     "metadata": {},
     "output_type": "display_data"
    }
   ],
   "source": [
    "ac.show_difference_table(\"Returning Users\", None, \"totalUsers\", None, dimension_filter=\"newVsReturning==returning\", **default_params_catalog)"
   ]
  },
  {
   "cell_type": "code",
   "execution_count": 7,
   "id": "ddcfb2c8",
   "metadata": {
    "tags": [
     "remove-input"
    ]
   },
   "outputs": [
    {
     "data": {
      "text/html": [
       "<div class=\"analyticsTable\" style=\"grid-template-columns: 1fr var(--symbol-width) minmax(var(--value-width), min-content) minmax(var(--percentage-width), min-content)\"><div class=\"anaIndex anaEven\">Total Visits</div><div class=\"anaCell anaEven anaSubcolLeft\"></div><div class=\"anaCell anaEven\">822</div><div class=\"anaCell anaEven anaSubcolRight\"><div class=\"anaPositive\">(+614.78%)</div></div></div>"
      ],
      "text/plain": [
       "<IPython.core.display.HTML object>"
      ]
     },
     "metadata": {},
     "output_type": "display_data"
    }
   ],
   "source": [
    "ac.show_difference_table(\"Total Visits\", None, \"sessions\", None, **default_params_catalog)"
   ]
  },
  {
   "cell_type": "markdown",
   "id": "583279a2",
   "metadata": {},
   "source": [
    "## Page Views"
   ]
  },
  {
   "cell_type": "code",
   "execution_count": 8,
   "id": "8226233d",
   "metadata": {
    "tags": [
     "remove-input"
    ]
   },
   "outputs": [
    {
     "data": {
      "text/html": [
       "<div class=\"analyticsTable\" style=\"grid-template-columns: 1fr var(--symbol-width) minmax(var(--value-width), min-content) minmax(var(--percentage-width), min-content)\"><div class=\"anaIndex anaEven\">Total</div><div class=\"anaCell anaEven anaSubcolLeft\"></div><div class=\"anaCell anaEven\">2733</div><div class=\"anaCell anaEven anaSubcolRight\"><div class=\"anaPositive\">(+573.15%)</div></div></div>"
      ],
      "text/plain": [
       "<IPython.core.display.HTML object>"
      ]
     },
     "metadata": {},
     "output_type": "display_data"
    }
   ],
   "source": [
    "ac.show_difference_table(\"Total\", None, \"screenPageViews\", None, **default_params_catalog)"
   ]
  },
  {
   "cell_type": "markdown",
   "id": "6712c955",
   "metadata": {},
   "source": [
    "## Device Category"
   ]
  },
  {
   "cell_type": "code",
   "execution_count": 3,
   "id": "f1943484",
   "metadata": {
    "tags": [
     "remove-input"
    ]
   },
   "outputs": [
    {
     "data": {
      "text/html": [
       "<div class=\"analyticsTable\" style=\"grid-template-columns: 1fr var(--symbol-width) minmax(var(--value-width), min-content) minmax(var(--percentage-width), min-content) minmax(var(--value-width), min-content) minmax(var(--percentage-width), min-content)\"><div class=\"anaIndex anaColName\">Category</div><div class=\"anaColName\" style=\"grid-column: span 3\">Users</div><div class=\"anaColName\" style=\"grid-column: span 2\">Percentage of users</div><div class=\"anaIndex anaEven\">desktop</div><div class=\"anaCell anaEven anaSubcolLeft\"></div><div class=\"anaCell anaEven\">448</div><div class=\"anaCell anaEven anaSubcolRight\"><div class=\"anaPositive\">(+558.82%)</div></div><div class=\"anaCell anaEven anaSubcolLeft\">96.14</div><div class=\"anaCell anaEven anaSubcolRight\"><div class=\"anaPositive\">(+0.38%)</div></div><div class=\"anaIndex anaOdd\">mobile</div><div class=\"anaCell anaOdd anaSubcolLeft\"></div><div class=\"anaCell anaOdd\">18</div><div class=\"anaCell anaOdd anaSubcolRight\"><div class=\"anaPositive\">(+500.00%)</div></div><div class=\"anaCell anaOdd anaSubcolLeft\">3.86</div><div class=\"anaCell anaOdd anaSubcolRight\"><div class=\"anaNegative\">(-8.58%)</div></div></div>"
      ],
      "text/plain": [
       "<IPython.core.display.HTML object>"
      ]
     },
     "metadata": {},
     "output_type": "display_data"
    }
   ],
   "source": [
    "ac.show_difference_table([\"Users\", \"Percentage of users\"], \"Category\", \"totalUsers\", \"deviceCategory\", percentage_metrics={\"totalUsers\"}, **default_params_catalog)"
   ]
  },
  {
   "cell_type": "markdown",
   "id": "9c170ead",
   "metadata": {},
   "source": [
    "## Social Network Referrers"
   ]
  },
  {
   "cell_type": "code",
   "execution_count": 10,
   "id": "77ed8676",
   "metadata": {
    "tags": [
     "remove-input"
    ]
   },
   "outputs": [
    {
     "data": {
      "text/html": [
       "<div class=\"analyticsTable\" style=\"grid-template-columns: 1fr var(--symbol-width) minmax(var(--value-width), min-content) minmax(var(--percentage-width), min-content)\"><div class=\"anaIndex anaColName\">Social Network</div><div class=\"anaColName\" style=\"grid-column: span 3\">User Sessions</div></div>"
      ],
      "text/plain": [
       "<IPython.core.display.HTML object>"
      ]
     },
     "metadata": {},
     "output_type": "display_data"
    }
   ],
   "source": [
    "ac.show_difference_table(\"User Sessions\", \"Social Network\", \"sessions\", \"sessionSource\", dimension_filter=\"sessionDefaultChannelGroup=@Social\", **default_params_catalog)"
   ]
  },
  {
   "cell_type": "markdown",
   "id": "6f19e708",
   "metadata": {},
   "source": [
    "<div style=\"page-break-after: always\"></div>"
   ]
  },
  {
   "cell_type": "markdown",
   "id": "3c2f7065",
   "metadata": {},
   "source": [
    "## Top Referrers"
   ]
  },
  {
   "cell_type": "markdown",
   "id": "e462fcfd",
   "metadata": {},
   "source": [
    "### By Referring Host"
   ]
  },
  {
   "cell_type": "code",
   "execution_count": 11,
   "id": "f00a116b",
   "metadata": {
    "tags": [
     "remove-input"
    ]
   },
   "outputs": [
    {
     "data": {
      "text/html": [
       "<div class=\"analyticsTable\" style=\"grid-template-columns: 1fr var(--symbol-width) minmax(var(--value-width), min-content) minmax(var(--percentage-width), min-content)\"><div class=\"anaIndex anaColName\">Source Host</div><div class=\"anaColName\" style=\"grid-column: span 3\">User Sessions</div><div class=\"anaIndex anaEven\">(direct)</div><div class=\"anaCell anaEven anaSubcolLeft\"></div><div class=\"anaCell anaEven\">617</div><div class=\"anaCell anaEven anaSubcolRight\"><div class=\"anaPositive\">(+549.47%)</div></div><div class=\"anaIndex anaOdd\">google</div><div class=\"anaCell anaOdd anaSubcolLeft\"></div><div class=\"anaCell anaOdd\">73</div><div class=\"anaCell anaOdd anaSubcolRight\"><div class=\"anaPositive\">(+812.50%)</div></div><div class=\"anaIndex anaEven\">ncbi.nlm.nih.gov</div><div class=\"anaCell anaEven anaSubcolLeft\"><div class=\"up\"></div></div><div class=\"anaCell anaEven\">58</div><div class=\"anaCell anaEven anaSubcolRight\"><div class=\"anaPositive\">(+1350.00%)</div></div><div class=\"anaIndex anaOdd\">anvil-portal.dev.clevercanary.com</div><div class=\"anaCell anaOdd anaSubcolLeft\"><div class=\"down\"></div></div><div class=\"anaCell anaOdd\">39</div><div class=\"anaCell anaOdd anaSubcolRight\"><div class=\"anaPositive\">(+680.00%)</div></div><div class=\"anaIndex anaEven\">app.asana.com</div><div class=\"anaCell anaEven anaSubcolLeft\"><div class=\"new\"></div></div><div class=\"anaCell anaEven\">12</div><div class=\"anaCell anaEven anaSubcolRight\"></div><div class=\"anaIndex anaOdd\">statics.teams.cdn.office.net</div><div class=\"anaCell anaOdd anaSubcolLeft\"><div class=\"new\"></div></div><div class=\"anaCell anaOdd\">5</div><div class=\"anaCell anaOdd anaSubcolRight\"></div><div class=\"anaIndex anaEven\">(not set)</div><div class=\"anaCell anaEven anaSubcolLeft\"><div class=\"new\"></div></div><div class=\"anaCell anaEven\">4</div><div class=\"anaCell anaEven anaSubcolRight\"></div><div class=\"anaIndex anaOdd\">sharing.nih.gov</div><div class=\"anaCell anaOdd anaSubcolLeft\"><div class=\"new\"></div></div><div class=\"anaCell anaOdd\">4</div><div class=\"anaCell anaOdd anaSubcolRight\"></div><div class=\"anaIndex anaEven\">anvilproject.dev.clevercanary.com</div><div class=\"anaCell anaEven anaSubcolLeft\"><div class=\"new\"></div></div><div class=\"anaCell anaEven\">3</div><div class=\"anaCell anaEven anaSubcolRight\"></div><div class=\"anaIndex anaOdd\">nature.com</div><div class=\"anaCell anaOdd anaSubcolLeft\"><div class=\"down\"></div></div><div class=\"anaCell anaOdd\">2</div><div class=\"anaCell anaOdd anaSubcolRight\"><div class=\"anaPositive\">(+100.00%)</div></div><div class=\"anaIndex anaEven\">terra.bio</div><div class=\"anaCell anaEven anaSubcolLeft\"><div class=\"new\"></div></div><div class=\"anaCell anaEven\">2</div><div class=\"anaCell anaEven anaSubcolRight\"></div><div class=\"anaIndex anaOdd\">bing</div><div class=\"anaCell anaOdd anaSubcolLeft\"><div class=\"new\"></div></div><div class=\"anaCell anaOdd\">1</div><div class=\"anaCell anaOdd anaSubcolRight\"></div><div class=\"anaIndex anaEven\">ega-archive.org</div><div class=\"anaCell anaEven anaSubcolLeft\"><div class=\"new\"></div></div><div class=\"anaCell anaEven\">1</div><div class=\"anaCell anaEven anaSubcolRight\"></div><div class=\"anaIndex anaOdd\">localhost:3000</div><div class=\"anaCell anaOdd anaSubcolLeft\"><div class=\"new\"></div></div><div class=\"anaCell anaOdd\">1</div><div class=\"anaCell anaOdd anaSubcolRight\"></div></div>"
      ],
      "text/plain": [
       "<IPython.core.display.HTML object>"
      ]
     },
     "metadata": {},
     "output_type": "display_data"
    }
   ],
   "source": [
    "ac.show_difference_table(\"User Sessions\", \"Source Host\", \"sessions\", \"sessionSource\", **default_params_catalog)"
   ]
  },
  {
   "cell_type": "markdown",
   "id": "965536e6",
   "metadata": {},
   "source": [
    "<div style=\"page-break-after: always\"></div>"
   ]
  },
  {
   "cell_type": "markdown",
   "id": "3ebd185b",
   "metadata": {},
   "source": [
    "### By Full Referrer"
   ]
  },
  {
   "cell_type": "code",
   "execution_count": 12,
   "id": "b380b528",
   "metadata": {
    "tags": [
     "remove-input"
    ]
   },
   "outputs": [
    {
     "data": {
      "text/html": [
       "<div class=\"analyticsTable\" style=\"grid-template-columns: 1fr var(--symbol-width) minmax(var(--value-width), min-content) minmax(var(--percentage-width), min-content)\"><div class=\"anaIndex anaColName\">Source</div><div class=\"anaColName\" style=\"grid-column: span 3\">User Sessions</div><div class=\"anaIndex anaEven\">https://anvilproject.org/</div><div class=\"anaCell anaEven anaSubcolLeft\"><div class=\"up\"></div></div><div class=\"anaCell anaEven\">334</div><div class=\"anaCell anaEven anaSubcolRight\"><div class=\"anaPositive\">(+943.75%)</div></div><div class=\"anaIndex anaOdd\">https://anvilproject.org/data</div><div class=\"anaCell anaOdd anaSubcolLeft\"></div><div class=\"anaCell anaOdd\">300</div><div class=\"anaCell anaOdd anaSubcolRight\"><div class=\"anaPositive\">(+488.24%)</div></div><div class=\"anaIndex anaEven\">https://anvilproject.org/data/consortia</div><div class=\"anaCell anaEven anaSubcolLeft\"><div class=\"up\"></div></div><div class=\"anaCell anaEven\">254</div><div class=\"anaCell anaEven anaSubcolRight\"><div class=\"anaPositive\">(+876.92%)</div></div><div class=\"anaIndex anaOdd\"><span style=\"color: gray\">Empty</span></div><div class=\"anaCell anaOdd anaSubcolLeft\"><div class=\"down\"></div></div><div class=\"anaCell anaOdd\">215</div><div class=\"anaCell anaOdd anaSubcolRight\"><div class=\"anaPositive\">(+313.46%)</div></div><div class=\"anaIndex anaEven\">https://anvilproject.org/data/consortia/HPRC</div><div class=\"anaCell anaEven anaSubcolLeft\"><div class=\"new\"></div></div><div class=\"anaCell anaEven\">110</div><div class=\"anaCell anaEven anaSubcolRight\"></div><div class=\"anaIndex anaOdd\">https://anvilproject.org/data/studies</div><div class=\"anaCell anaOdd anaSubcolLeft\"><div class=\"down\"></div></div><div class=\"anaCell anaOdd\">76</div><div class=\"anaCell anaOdd anaSubcolRight\"><div class=\"anaPositive\">(+261.90%)</div></div><div class=\"anaIndex anaEven\">https://anvilproject.org/data/consortia/HPRC/studies</div><div class=\"anaCell anaEven anaSubcolLeft\"><div class=\"new\"></div></div><div class=\"anaCell anaEven\">70</div><div class=\"anaCell anaEven anaSubcolRight\"></div><div class=\"anaIndex anaOdd\">https://anvilproject.org/data/consortia/CCDG</div><div class=\"anaCell anaOdd anaSubcolLeft\"><div class=\"down\"></div></div><div class=\"anaCell anaOdd\">61</div><div class=\"anaCell anaOdd anaSubcolRight\"><div class=\"anaPositive\">(+577.78%)</div></div><div class=\"anaIndex anaEven\">https://anvilproject.org/data/consortia/CCDG/studies</div><div class=\"anaCell anaEven anaSubcolLeft\"><div class=\"up\"></div></div><div class=\"anaCell anaEven\">46</div><div class=\"anaCell anaEven anaSubcolRight\"><div class=\"anaPositive\">(+666.67%)</div></div><div class=\"anaIndex anaOdd\">https://anvilproject.org/data/consortia/GTEx</div><div class=\"anaCell anaOdd anaSubcolLeft\"><div class=\"up\"></div></div><div class=\"anaCell anaOdd\">46</div><div class=\"anaCell anaOdd anaSubcolRight\"><div class=\"anaPositive\">(+1433.33%)</div></div><div class=\"anaIndex anaEven\">https://www.google.com/</div><div class=\"anaCell anaEven anaSubcolLeft\"><div class=\"down\"></div></div><div class=\"anaCell anaEven\">46</div><div class=\"anaCell anaEven anaSubcolRight\"><div class=\"anaPositive\">(+475.00%)</div></div><div class=\"anaIndex anaOdd\">https://www.ncbi.nlm.nih.gov/</div><div class=\"anaCell anaOdd anaSubcolLeft\"><div class=\"up\"></div></div><div class=\"anaCell anaOdd\">41</div><div class=\"anaCell anaOdd anaSubcolRight\"><div class=\"anaPositive\">(+925.00%)</div></div><div class=\"anaIndex anaEven\">https://anvilproject.org/data/consortia/GTEx/studies</div><div class=\"anaCell anaEven anaSubcolLeft\"><div class=\"new\"></div></div><div class=\"anaCell anaEven\">37</div><div class=\"anaCell anaEven anaSubcolRight\"></div><div class=\"anaIndex anaOdd\">https://anvilproject.org/data/workspaces</div><div class=\"anaCell anaOdd anaSubcolLeft\"><div class=\"down\"></div></div><div class=\"anaCell anaOdd\">34</div><div class=\"anaCell anaOdd anaSubcolRight\"><div class=\"anaPositive\">(+161.54%)</div></div><div class=\"anaIndex anaEven\">https://anvilproject.org/data/consortia/CARD</div><div class=\"anaCell anaEven anaSubcolLeft\"></div><div class=\"anaCell anaEven\">31</div><div class=\"anaCell anaEven anaSubcolRight\"><div class=\"anaPositive\">(+675.00%)</div></div><div class=\"anaIndex anaOdd\">https://anvilproject.org/data/consortia/HPRC/workspaces</div><div class=\"anaCell anaOdd anaSubcolLeft\"><div class=\"new\"></div></div><div class=\"anaCell anaOdd\">29</div><div class=\"anaCell anaOdd anaSubcolRight\"></div><div class=\"anaIndex anaEven\">https://anvilproject.org/data/consortia/CMG</div><div class=\"anaCell anaEven anaSubcolLeft\"><div class=\"down\"></div></div><div class=\"anaCell anaEven\">25</div><div class=\"anaCell anaEven anaSubcolRight\"><div class=\"anaPositive\">(+733.33%)</div></div><div class=\"anaIndex anaOdd\">https://anvilproject.org/learn</div><div class=\"anaCell anaOdd anaSubcolLeft\"><div class=\"down\"></div></div><div class=\"anaCell anaOdd\">21</div><div class=\"anaCell anaOdd anaSubcolRight\"><div class=\"anaPositive\">(+425.00%)</div></div><div class=\"anaIndex anaEven\">https://anvilproject.org/data/</div><div class=\"anaCell anaEven anaSubcolLeft\"><div class=\"down\"></div></div><div class=\"anaCell anaEven\">21</div><div class=\"anaCell anaEven anaSubcolRight\"><div class=\"anaPositive\">(+200.00%)</div></div><div class=\"anaIndex anaOdd\">https://anvilproject.org/data/consortia/</div><div class=\"anaCell anaOdd anaSubcolLeft\"><div class=\"new\"></div></div><div class=\"anaCell anaOdd\">19</div><div class=\"anaCell anaOdd anaSubcolRight\"></div><div class=\"anaIndex anaEven\">https://anvilproject.org/data/consortia/CARD/studies</div><div class=\"anaCell anaEven anaSubcolLeft\"><div class=\"up\"></div></div><div class=\"anaCell anaEven\">17</div><div class=\"anaCell anaEven anaSubcolRight\"><div class=\"anaPositive\">(+750.00%)</div></div><div class=\"anaIndex anaOdd\">https://anvilproject.org/data/consortia/1000G</div><div class=\"anaCell anaOdd anaSubcolLeft\"><div class=\"new\"></div></div><div class=\"anaCell anaOdd\">16</div><div class=\"anaCell anaOdd anaSubcolRight\"></div><div class=\"anaIndex anaEven\">https://anvilproject.org/data/consortia/CCDG/workspaces</div><div class=\"anaCell anaEven anaSubcolLeft\"><div class=\"new\"></div></div><div class=\"anaCell anaEven\">15</div><div class=\"anaCell anaEven anaSubcolRight\"></div><div class=\"anaIndex anaOdd\">https://anvilproject.org/data/consortia/T2T</div><div class=\"anaCell anaOdd anaSubcolLeft\"><div class=\"down\"></div></div><div class=\"anaCell anaOdd\">14</div><div class=\"anaCell anaOdd anaSubcolRight\"><div class=\"anaPositive\">(+366.67%)</div></div><div class=\"anaIndex anaEven\">https://anvilproject.org/data/studies/phs000424</div><div class=\"anaCell anaEven anaSubcolLeft\"><div class=\"new\"></div></div><div class=\"anaCell anaEven\">14</div><div class=\"anaCell anaEven anaSubcolRight\"></div><div class=\"anaIndex anaOdd\">https://anvilproject.org/data/studies/phs001746</div><div class=\"anaCell anaOdd anaSubcolLeft\"><div class=\"new\"></div></div><div class=\"anaCell anaOdd\">14</div><div class=\"anaCell anaOdd anaSubcolRight\"></div><div class=\"anaIndex anaEven\">https://anvilproject.org/data/studies/phs002032</div><div class=\"anaCell anaEven anaSubcolLeft\"><div class=\"down\"></div></div><div class=\"anaCell anaEven\">14</div><div class=\"anaCell anaEven anaSubcolRight\"><div class=\"anaPositive\">(+366.67%)</div></div><div class=\"anaIndex anaOdd\">https://anvilproject.org/overview</div><div class=\"anaCell anaOdd anaSubcolLeft\"><div class=\"down\"></div></div><div class=\"anaCell anaOdd\">13</div><div class=\"anaCell anaOdd anaSubcolRight\"><div class=\"anaPositive\">(+550.00%)</div></div><div class=\"anaIndex anaEven\">https://anvilproject.org/data/consortia/CSER</div><div class=\"anaCell anaEven anaSubcolLeft\"><div class=\"new\"></div></div><div class=\"anaCell anaEven\">12</div><div class=\"anaCell anaEven anaSubcolRight\"></div><div class=\"anaIndex anaOdd\">https://anvilproject.org/data/consortia/GTEx/workspaces</div><div class=\"anaCell anaOdd anaSubcolLeft\"><div class=\"new\"></div></div><div class=\"anaCell anaOdd\">12</div><div class=\"anaCell anaOdd anaSubcolRight\"></div></div>"
      ],
      "text/plain": [
       "<IPython.core.display.HTML object>"
      ]
     },
     "metadata": {},
     "output_type": "display_data"
    }
   ],
   "source": [
    "ac.show_difference_table(\"User Sessions\", \"Source\", \"sessions\", \"pageReferrer\", **default_params_catalog)"
   ]
  },
  {
   "cell_type": "markdown",
   "id": "974ff8ba",
   "metadata": {},
   "source": [
    "<div style=\"page-break-after: always\"></div>"
   ]
  },
  {
   "cell_type": "markdown",
   "id": "d83980c3",
   "metadata": {},
   "source": [
    "## Top Countries"
   ]
  },
  {
   "cell_type": "code",
   "execution_count": 13,
   "id": "41702480",
   "metadata": {
    "tags": [
     "remove-input"
    ]
   },
   "outputs": [
    {
     "data": {
      "text/html": [
       "<div class=\"analyticsTable\" style=\"grid-template-columns: 1fr var(--symbol-width) minmax(var(--value-width), min-content) minmax(var(--percentage-width), min-content)\"><div class=\"anaIndex anaColName\">Country</div><div class=\"anaColName\" style=\"grid-column: span 3\">Users</div><div class=\"anaIndex anaEven\">United States</div><div class=\"anaCell anaEven anaSubcolLeft\"></div><div class=\"anaCell anaEven\">277</div><div class=\"anaCell anaEven anaSubcolRight\"><div class=\"anaPositive\">(+465.31%)</div></div><div class=\"anaIndex anaOdd\">China</div><div class=\"anaCell anaOdd anaSubcolLeft\"></div><div class=\"anaCell anaOdd\">44</div><div class=\"anaCell anaOdd anaSubcolRight\"><div class=\"anaPositive\">(+633.33%)</div></div><div class=\"anaIndex anaEven\">United Kingdom</div><div class=\"anaCell anaEven anaSubcolLeft\"><div class=\"up\"></div></div><div class=\"anaCell anaEven\">21</div><div class=\"anaCell anaEven anaSubcolRight\"><div class=\"anaPositive\">(+950.00%)</div></div><div class=\"anaIndex anaOdd\">Germany</div><div class=\"anaCell anaOdd anaSubcolLeft\"></div><div class=\"anaCell anaOdd\">14</div><div class=\"anaCell anaOdd anaSubcolRight\"><div class=\"anaPositive\">(+600.00%)</div></div><div class=\"anaIndex anaEven\">Japan</div><div class=\"anaCell anaEven anaSubcolLeft\"><div class=\"new\"></div></div><div class=\"anaCell anaEven\">11</div><div class=\"anaCell anaEven anaSubcolRight\"></div><div class=\"anaIndex anaOdd\">Australia</div><div class=\"anaCell anaOdd anaSubcolLeft\"><div class=\"up\"></div></div><div class=\"anaCell anaOdd\">10</div><div class=\"anaCell anaOdd anaSubcolRight\"><div class=\"anaPositive\">(+900.00%)</div></div><div class=\"anaIndex anaEven\">India</div><div class=\"anaCell anaEven anaSubcolLeft\"><div class=\"up\"></div></div><div class=\"anaCell anaEven\">10</div><div class=\"anaCell anaEven anaSubcolRight\"><div class=\"anaPositive\">(+900.00%)</div></div><div class=\"anaIndex anaOdd\">Italy</div><div class=\"anaCell anaOdd anaSubcolLeft\"><div class=\"up\"></div></div><div class=\"anaCell anaOdd\">10</div><div class=\"anaCell anaOdd anaSubcolRight\"><div class=\"anaPositive\">(+900.00%)</div></div><div class=\"anaIndex anaEven\">Canada</div><div class=\"anaCell anaEven anaSubcolLeft\"><div class=\"new\"></div></div><div class=\"anaCell anaEven\">8</div><div class=\"anaCell anaEven anaSubcolRight\"></div><div class=\"anaIndex anaOdd\">South Korea</div><div class=\"anaCell anaOdd anaSubcolLeft\"><div class=\"new\"></div></div><div class=\"anaCell anaOdd\">7</div><div class=\"anaCell anaOdd anaSubcolRight\"></div><div class=\"anaIndex anaEven\">Netherlands</div><div class=\"anaCell anaEven anaSubcolLeft\"><div class=\"down\"></div></div><div class=\"anaCell anaEven\">5</div><div class=\"anaCell anaEven anaSubcolRight\"><div class=\"anaPositive\">(+150.00%)</div></div><div class=\"anaIndex anaOdd\">Spain</div><div class=\"anaCell anaOdd anaSubcolLeft\"><div class=\"new\"></div></div><div class=\"anaCell anaOdd\">5</div><div class=\"anaCell anaOdd anaSubcolRight\"></div><div class=\"anaIndex anaEven\">Taiwan</div><div class=\"anaCell anaEven anaSubcolLeft\"></div><div class=\"anaCell anaEven\">5</div><div class=\"anaCell anaEven anaSubcolRight\"><div class=\"anaPositive\">(+400.00%)</div></div><div class=\"anaIndex anaOdd\">Hong Kong</div><div class=\"anaCell anaOdd anaSubcolLeft\"><div class=\"new\"></div></div><div class=\"anaCell anaOdd\">4</div><div class=\"anaCell anaOdd anaSubcolRight\"></div><div class=\"anaIndex anaEven\">Sweden</div><div class=\"anaCell anaEven anaSubcolLeft\"><div class=\"new\"></div></div><div class=\"anaCell anaEven\">4</div><div class=\"anaCell anaEven anaSubcolRight\"></div><div class=\"anaIndex anaOdd\">Russia</div><div class=\"anaCell anaOdd anaSubcolLeft\"><div class=\"new\"></div></div><div class=\"anaCell anaOdd\">3</div><div class=\"anaCell anaOdd anaSubcolRight\"></div><div class=\"anaIndex anaEven\">France</div><div class=\"anaCell anaEven anaSubcolLeft\"><div class=\"new\"></div></div><div class=\"anaCell anaEven\">3</div><div class=\"anaCell anaEven anaSubcolRight\"></div><div class=\"anaIndex anaOdd\">Brazil</div><div class=\"anaCell anaOdd anaSubcolLeft\"><div class=\"new\"></div></div><div class=\"anaCell anaOdd\">3</div><div class=\"anaCell anaOdd anaSubcolRight\"></div><div class=\"anaIndex anaEven\">Denmark</div><div class=\"anaCell anaEven anaSubcolLeft\"><div class=\"new\"></div></div><div class=\"anaCell anaEven\">2</div><div class=\"anaCell anaEven anaSubcolRight\"></div><div class=\"anaIndex anaOdd\">Finland</div><div class=\"anaCell anaOdd anaSubcolLeft\"><div class=\"down\"></div></div><div class=\"anaCell anaOdd\">2</div><div class=\"anaCell anaOdd anaSubcolRight\"><div class=\"anaZero\">(+0.00%)</div></div><div class=\"anaIndex anaEven\">Singapore</div><div class=\"anaCell anaEven anaSubcolLeft\"><div class=\"down\"></div></div><div class=\"anaCell anaEven\">2</div><div class=\"anaCell anaEven anaSubcolRight\"><div class=\"anaPositive\">(+100.00%)</div></div><div class=\"anaIndex anaOdd\">Nigeria</div><div class=\"anaCell anaOdd anaSubcolLeft\"><div class=\"new\"></div></div><div class=\"anaCell anaOdd\">1</div><div class=\"anaCell anaOdd anaSubcolRight\"></div><div class=\"anaIndex anaEven\">Thailand</div><div class=\"anaCell anaEven anaSubcolLeft\"><div class=\"new\"></div></div><div class=\"anaCell anaEven\">1</div><div class=\"anaCell anaEven anaSubcolRight\"></div><div class=\"anaIndex anaOdd\">Switzerland</div><div class=\"anaCell anaOdd anaSubcolLeft\"><div class=\"new\"></div></div><div class=\"anaCell anaOdd\">1</div><div class=\"anaCell anaOdd anaSubcolRight\"></div><div class=\"anaIndex anaEven\">South Africa</div><div class=\"anaCell anaEven anaSubcolLeft\"><div class=\"new\"></div></div><div class=\"anaCell anaEven\">1</div><div class=\"anaCell anaEven anaSubcolRight\"></div><div class=\"anaIndex anaOdd\">Serbia</div><div class=\"anaCell anaOdd anaSubcolLeft\"><div class=\"new\"></div></div><div class=\"anaCell anaOdd\">1</div><div class=\"anaCell anaOdd anaSubcolRight\"></div><div class=\"anaIndex anaEven\">Saudi Arabia</div><div class=\"anaCell anaEven anaSubcolLeft\"><div class=\"new\"></div></div><div class=\"anaCell anaEven\">1</div><div class=\"anaCell anaEven anaSubcolRight\"></div><div class=\"anaIndex anaOdd\">Romania</div><div class=\"anaCell anaOdd anaSubcolLeft\"><div class=\"new\"></div></div><div class=\"anaCell anaOdd\">1</div><div class=\"anaCell anaOdd anaSubcolRight\"></div><div class=\"anaIndex anaEven\">Portugal</div><div class=\"anaCell anaEven anaSubcolLeft\"><div class=\"new\"></div></div><div class=\"anaCell anaEven\">1</div><div class=\"anaCell anaEven anaSubcolRight\"></div><div class=\"anaIndex anaOdd\">Poland</div><div class=\"anaCell anaOdd anaSubcolLeft\"><div class=\"new\"></div></div><div class=\"anaCell anaOdd\">1</div><div class=\"anaCell anaOdd anaSubcolRight\"></div></div>"
      ],
      "text/plain": [
       "<IPython.core.display.HTML object>"
      ]
     },
     "metadata": {},
     "output_type": "display_data"
    }
   ],
   "source": [
    "ac.show_difference_table(\"Users\", \"Country\", \"totalUsers\", \"country\", **default_params_catalog)"
   ]
  },
  {
   "cell_type": "markdown",
   "id": "f4cec2ab",
   "metadata": {},
   "source": [
    "<div style=\"page-break-after: always\"></div>"
   ]
  },
  {
   "cell_type": "markdown",
   "id": "bdc9b340",
   "metadata": {},
   "source": [
    "## Top Pages"
   ]
  },
  {
   "cell_type": "code",
   "execution_count": 14,
   "id": "3b098860",
   "metadata": {
    "tags": [
     "remove-input"
    ]
   },
   "outputs": [
    {
     "data": {
      "text/html": [
       "<div class=\"analyticsTable\" style=\"grid-template-columns: 1fr var(--symbol-width) minmax(var(--value-width), min-content) minmax(var(--percentage-width), min-content)\"><div class=\"anaIndex anaColName\">Page</div><div class=\"anaColName\" style=\"grid-column: span 3\">Page Views</div><div class=\"anaIndex anaEven\"><a href=\"https://anvilproject.org/data/consortia\">/data/consortia</a></div><div class=\"anaCell anaEven anaSubcolLeft\"></div><div class=\"anaCell anaEven\">667</div><div class=\"anaCell anaEven anaSubcolRight\"><div class=\"anaPositive\">(+446.72%)</div></div><div class=\"anaIndex anaOdd\"><a href=\"https://anvilproject.org/data\">/data</a></div><div class=\"anaCell anaOdd anaSubcolLeft\"></div><div class=\"anaCell anaOdd\">320</div><div class=\"anaCell anaOdd anaSubcolRight\"><div class=\"anaPositive\">(+407.94%)</div></div><div class=\"anaIndex anaEven\"><a href=\"https://anvilproject.org/data/consortia/HPRC\">/data/consortia/HPRC</a></div><div class=\"anaCell anaEven anaSubcolLeft\"><div class=\"up\"></div></div><div class=\"anaCell anaEven\">161</div><div class=\"anaCell anaEven anaSubcolRight\"><div class=\"anaPositive\">(+5266.67%)</div></div><div class=\"anaIndex anaOdd\"><a href=\"https://anvilproject.org/data/studies\">/data/studies</a></div><div class=\"anaCell anaOdd anaSubcolLeft\"><div class=\"down\"></div></div><div class=\"anaCell anaOdd\">151</div><div class=\"anaCell anaOdd anaSubcolRight\"><div class=\"anaPositive\">(+179.63%)</div></div><div class=\"anaIndex anaEven\"><a href=\"https://anvilproject.org/data/consortia/HPRC/workspaces\">/data/consortia/HPRC/workspaces</a></div><div class=\"anaCell anaEven anaSubcolLeft\"><div class=\"new\"></div></div><div class=\"anaCell anaEven\">128</div><div class=\"anaCell anaEven anaSubcolRight\"></div><div class=\"anaIndex anaOdd\"><a href=\"https://anvilproject.org/data/consortia/CCDG\">/data/consortia/CCDG</a></div><div class=\"anaCell anaOdd anaSubcolLeft\"><div class=\"down\"></div></div><div class=\"anaCell anaOdd\">104</div><div class=\"anaCell anaOdd anaSubcolRight\"><div class=\"anaPositive\">(+593.33%)</div></div><div class=\"anaIndex anaEven\"><a href=\"https://anvilproject.org/data/consortia/HPRC/studies\">/data/consortia/HPRC/studies</a></div><div class=\"anaCell anaEven anaSubcolLeft\"><div class=\"new\"></div></div><div class=\"anaCell anaEven\">79</div><div class=\"anaCell anaEven anaSubcolRight\"></div><div class=\"anaIndex anaOdd\"><a href=\"https://anvilproject.org/data/consortia/CCDG/studies\">/data/consortia/CCDG/studies</a></div><div class=\"anaCell anaOdd anaSubcolLeft\"><div class=\"up\"></div></div><div class=\"anaCell anaOdd\">78</div><div class=\"anaCell anaOdd anaSubcolRight\"><div class=\"anaPositive\">(+1200.00%)</div></div><div class=\"anaIndex anaEven\"><a href=\"https://anvilproject.org/data/workspaces\">/data/workspaces</a></div><div class=\"anaCell anaEven anaSubcolLeft\"><div class=\"down\"></div></div><div class=\"anaCell anaEven\">70</div><div class=\"anaCell anaEven anaSubcolRight\"><div class=\"anaPositive\">(+204.35%)</div></div><div class=\"anaIndex anaOdd\"><a href=\"https://anvilproject.org/data/consortia/GTEx\">/data/consortia/GTEx</a></div><div class=\"anaCell anaOdd anaSubcolLeft\"><div class=\"up\"></div></div><div class=\"anaCell anaOdd\">58</div><div class=\"anaCell anaOdd anaSubcolRight\"><div class=\"anaPositive\">(+1060.00%)</div></div><div class=\"anaIndex anaEven\"><a href=\"https://anvilproject.org/data/consortia/CARD\">/data/consortia/CARD</a></div><div class=\"anaCell anaEven anaSubcolLeft\"><div class=\"up\"></div></div><div class=\"anaCell anaEven\">50</div><div class=\"anaCell anaEven anaSubcolRight\"><div class=\"anaPositive\">(+1150.00%)</div></div><div class=\"anaIndex anaOdd\"><a href=\"https://anvilproject.org/data/studies/phs002032\">/data/studies/phs002032</a></div><div class=\"anaCell anaOdd anaSubcolLeft\"><div class=\"down\"></div></div><div class=\"anaCell anaOdd\">42</div><div class=\"anaCell anaOdd anaSubcolRight\"><div class=\"anaPositive\">(+425.00%)</div></div><div class=\"anaIndex anaEven\"><a href=\"https://anvilproject.org/data/consortia/GTEx/studies\">/data/consortia/GTEx/studies</a></div><div class=\"anaCell anaEven anaSubcolLeft\"><div class=\"new\"></div></div><div class=\"anaCell anaEven\">39</div><div class=\"anaCell anaEven anaSubcolRight\"></div><div class=\"anaIndex anaOdd\"><a href=\"https://anvilproject.org/data/consortia/\">/data/consortia/</a></div><div class=\"anaCell anaOdd anaSubcolLeft\"><div class=\"up\"></div></div><div class=\"anaCell anaOdd\">38</div><div class=\"anaCell anaOdd anaSubcolRight\"><div class=\"anaPositive\">(+850.00%)</div></div><div class=\"anaIndex anaEven\"><a href=\"https://anvilproject.org/data/consortia/CMG\">/data/consortia/CMG</a></div><div class=\"anaCell anaEven anaSubcolLeft\"><div class=\"down\"></div></div><div class=\"anaCell anaEven\">33</div><div class=\"anaCell anaEven anaSubcolRight\"><div class=\"anaPositive\">(+200.00%)</div></div><div class=\"anaIndex anaOdd\"><a href=\"https://anvilproject.org/data/studies/phs000424\">/data/studies/phs000424</a></div><div class=\"anaCell anaOdd anaSubcolLeft\"><div class=\"new\"></div></div><div class=\"anaCell anaOdd\">32</div><div class=\"anaCell anaOdd anaSubcolRight\"></div><div class=\"anaIndex anaEven\"><a href=\"https://anvilproject.org/data/consortia/1000G\">/data/consortia/1000G</a></div><div class=\"anaCell anaEven anaSubcolLeft\"><div class=\"up\"></div></div><div class=\"anaCell anaEven\">31</div><div class=\"anaCell anaEven anaSubcolRight\"><div class=\"anaPositive\">(+933.33%)</div></div><div class=\"anaIndex anaOdd\"><a href=\"https://anvilproject.org/data/consortia/CCDG/workspaces\">/data/consortia/CCDG/workspaces</a></div><div class=\"anaCell anaOdd anaSubcolLeft\"><div class=\"new\"></div></div><div class=\"anaCell anaOdd\">31</div><div class=\"anaCell anaOdd anaSubcolRight\"></div><div class=\"anaIndex anaEven\"><a href=\"https://anvilproject.org/data/consortia/T2T\">/data/consortia/T2T</a></div><div class=\"anaCell anaEven anaSubcolLeft\"><div class=\"down\"></div></div><div class=\"anaCell anaEven\">30</div><div class=\"anaCell anaEven anaSubcolRight\"><div class=\"anaPositive\">(+650.00%)</div></div><div class=\"anaIndex anaOdd\"><a href=\"https://anvilproject.org/data/consortia/CSER\">/data/consortia/CSER</a></div><div class=\"anaCell anaOdd anaSubcolLeft\"><div class=\"new\"></div></div><div class=\"anaCell anaOdd\">29</div><div class=\"anaCell anaOdd anaSubcolRight\"></div><div class=\"anaIndex anaEven\"><a href=\"https://anvilproject.org/data/consortia/GTEx/workspaces\">/data/consortia/GTEx/workspaces</a></div><div class=\"anaCell anaEven anaSubcolLeft\"><div class=\"new\"></div></div><div class=\"anaCell anaEven\">28</div><div class=\"anaCell anaEven anaSubcolRight\"></div><div class=\"anaIndex anaOdd\"><a href=\"https://anvilproject.org/data/consortia/eMERGE\">/data/consortia/eMERGE</a></div><div class=\"anaCell anaOdd anaSubcolLeft\"><div class=\"down\"></div></div><div class=\"anaCell anaOdd\">27</div><div class=\"anaCell anaOdd anaSubcolRight\"><div class=\"anaPositive\">(+440.00%)</div></div><div class=\"anaIndex anaEven\"><a href=\"https://anvilproject.org/data/studies/phs001746\">/data/studies/phs001746</a></div><div class=\"anaCell anaEven anaSubcolLeft\"><div class=\"new\"></div></div><div class=\"anaCell anaEven\">26</div><div class=\"anaCell anaEven anaSubcolRight\"></div><div class=\"anaIndex anaOdd\"><a href=\"https://anvilproject.org/data/studies/phs002032/workspaces\">/data/studies/phs002032/workspaces</a></div><div class=\"anaCell anaOdd anaSubcolLeft\"><div class=\"down\"></div></div><div class=\"anaCell anaOdd\">26</div><div class=\"anaCell anaOdd anaSubcolRight\"><div class=\"anaPositive\">(+188.89%)</div></div><div class=\"anaIndex anaEven\"><a href=\"https://anvilproject.org/data/consortia/CARD/studies\">/data/consortia/CARD/studies</a></div><div class=\"anaCell anaEven anaSubcolLeft\"><div class=\"down\"></div></div><div class=\"anaCell anaEven\">23</div><div class=\"anaCell anaEven anaSubcolRight\"><div class=\"anaPositive\">(+666.67%)</div></div><div class=\"anaIndex anaOdd\"><a href=\"https://anvilproject.org/data/\">/data/</a></div><div class=\"anaCell anaOdd anaSubcolLeft\"><div class=\"down\"></div></div><div class=\"anaCell anaOdd\">20</div><div class=\"anaCell anaOdd anaSubcolRight\"><div class=\"anaPositive\">(+185.71%)</div></div><div class=\"anaIndex anaEven\"><a href=\"https://anvilproject.org/data/consortia/CSER/studies\">/data/consortia/CSER/studies</a></div><div class=\"anaCell anaEven anaSubcolLeft\"><div class=\"new\"></div></div><div class=\"anaCell anaEven\">19</div><div class=\"anaCell anaEven anaSubcolRight\"></div><div class=\"anaIndex anaOdd\"><a href=\"https://anvilproject.org/data/studies/phs001642\">/data/studies/phs001642</a></div><div class=\"anaCell anaOdd anaSubcolLeft\"><div class=\"down\"></div></div><div class=\"anaCell anaOdd\">17</div><div class=\"anaCell anaOdd anaSubcolRight\"><div class=\"anaPositive\">(+750.00%)</div></div><div class=\"anaIndex anaEven\"><a href=\"https://anvilproject.org/data/consortia/CARD/workspaces\">/data/consortia/CARD/workspaces</a></div><div class=\"anaCell anaEven anaSubcolLeft\"><div class=\"new\"></div></div><div class=\"anaCell anaEven\">16</div><div class=\"anaCell anaEven anaSubcolRight\"></div><div class=\"anaIndex anaOdd\"><a href=\"https://anvilproject.org/data/consortia/eMERGE/studies\">/data/consortia/eMERGE/studies</a></div><div class=\"anaCell anaOdd anaSubcolLeft\"><div class=\"new\"></div></div><div class=\"anaCell anaOdd\">15</div><div class=\"anaCell anaOdd anaSubcolRight\"></div></div>"
      ],
      "text/plain": [
       "<IPython.core.display.HTML object>"
      ]
     },
     "metadata": {},
     "output_type": "display_data"
    }
   ],
   "source": [
    "ac.show_difference_table(\"Page Views\", \"Page\", \"screenPageViews\", \"pagePath\", **default_params_catalog)"
   ]
  },
  {
   "cell_type": "markdown",
   "id": "6e2487a3",
   "metadata": {},
   "source": [
    "<div style=\"page-break-after: always\"></div>"
   ]
  },
  {
   "cell_type": "markdown",
   "id": "a4d13293",
   "metadata": {},
   "source": [
    "## Top Landing Pages"
   ]
  },
  {
   "cell_type": "code",
   "execution_count": 15,
   "id": "02b2fd3c",
   "metadata": {
    "tags": [
     "remove-input"
    ]
   },
   "outputs": [
    {
     "data": {
      "text/html": [
       "<div class=\"analyticsTable\" style=\"grid-template-columns: 1fr var(--symbol-width) minmax(var(--value-width), min-content) minmax(var(--percentage-width), min-content)\"><div class=\"anaIndex anaColName\">Page</div><div class=\"anaColName\" style=\"grid-column: span 3\">Entrances</div><div class=\"anaIndex anaEven\"><a href=\"https://anvilproject.org/data\">/data</a></div><div class=\"anaCell anaEven anaSubcolLeft\"></div><div class=\"anaCell anaEven\">292</div><div class=\"anaCell anaEven anaSubcolRight\"><div class=\"anaPositive\">(+412.28%)</div></div><div class=\"anaIndex anaOdd\"><a href=\"https://anvilproject.org/data/consortia\">/data/consortia</a></div><div class=\"anaCell anaOdd anaSubcolLeft\"><div class=\"up\"></div></div><div class=\"anaCell anaOdd\">141</div><div class=\"anaCell anaOdd anaSubcolRight\"><div class=\"anaPositive\">(+1181.82%)</div></div><div class=\"anaIndex anaEven\">(not set)</div><div class=\"anaCell anaEven anaSubcolLeft\"><div class=\"down\"></div></div><div class=\"anaCell anaEven\">141</div><div class=\"anaCell anaEven anaSubcolRight\"><div class=\"anaPositive\">(+840.00%)</div></div><div class=\"anaIndex anaOdd\"><a href=\"https://anvilproject.org/data/consortia/HPRC\">/data/consortia/HPRC</a></div><div class=\"anaCell anaOdd anaSubcolLeft\"><div class=\"new\"></div></div><div class=\"anaCell anaOdd\">70</div><div class=\"anaCell anaOdd anaSubcolRight\"></div><div class=\"anaIndex anaEven\"><a href=\"https://anvilproject.org/data/studies/phs002032\">/data/studies/phs002032</a></div><div class=\"anaCell anaEven anaSubcolLeft\"><div class=\"down\"></div></div><div class=\"anaCell anaEven\">28</div><div class=\"anaCell anaEven anaSubcolRight\"><div class=\"anaPositive\">(+211.11%)</div></div><div class=\"anaIndex anaOdd\"><a href=\"https://anvilproject.org/data/consortia/T2T\">/data/consortia/T2T</a></div><div class=\"anaCell anaOdd anaSubcolLeft\"><div class=\"up\"></div></div><div class=\"anaCell anaOdd\">17</div><div class=\"anaCell anaOdd anaSubcolRight\"><div class=\"anaPositive\">(+1600.00%)</div></div><div class=\"anaIndex anaEven\"><a href=\"https://anvilproject.org/data/consortia/1000G\">/data/consortia/1000G</a></div><div class=\"anaCell anaEven anaSubcolLeft\"><div class=\"new\"></div></div><div class=\"anaCell anaEven\">13</div><div class=\"anaCell anaEven anaSubcolRight\"></div><div class=\"anaIndex anaOdd\"><a href=\"https://anvilproject.org/data/consortia/CCDG\">/data/consortia/CCDG</a></div><div class=\"anaCell anaOdd anaSubcolLeft\"><div class=\"down\"></div></div><div class=\"anaCell anaOdd\">11</div><div class=\"anaCell anaOdd anaSubcolRight\"><div class=\"anaPositive\">(+175.00%)</div></div><div class=\"anaIndex anaEven\"><a href=\"https://anvilproject.org/data/consortia/CMG\">/data/consortia/CMG</a></div><div class=\"anaCell anaEven anaSubcolLeft\"><div class=\"up\"></div></div><div class=\"anaCell anaEven\">10</div><div class=\"anaCell anaEven anaSubcolRight\"><div class=\"anaPositive\">(+900.00%)</div></div><div class=\"anaIndex anaOdd\"><a href=\"https://anvilproject.org/data/consortia/GTEx\">/data/consortia/GTEx</a></div><div class=\"anaCell anaOdd anaSubcolLeft\"><div class=\"up\"></div></div><div class=\"anaCell anaOdd\">9</div><div class=\"anaCell anaOdd anaSubcolRight\"><div class=\"anaPositive\">(+800.00%)</div></div><div class=\"anaIndex anaEven\"><a href=\"https://anvilproject.org/data/consortia/HPRC/workspaces\">/data/consortia/HPRC/workspaces</a></div><div class=\"anaCell anaEven anaSubcolLeft\"><div class=\"new\"></div></div><div class=\"anaCell anaEven\">8</div><div class=\"anaCell anaEven anaSubcolRight\"></div><div class=\"anaIndex anaOdd\"><a href=\"https://anvilproject.org/data/studies\">/data/studies</a></div><div class=\"anaCell anaOdd anaSubcolLeft\"><div class=\"down\"></div></div><div class=\"anaCell anaOdd\">8</div><div class=\"anaCell anaOdd anaSubcolRight\"><div class=\"anaPositive\">(+60.00%)</div></div><div class=\"anaIndex anaEven\"><a href=\"https://anvilproject.org/data/studies/phs002032/workspaces\">/data/studies/phs002032/workspaces</a></div><div class=\"anaCell anaEven anaSubcolLeft\"><div class=\"down\"></div></div><div class=\"anaCell anaEven\">7</div><div class=\"anaCell anaEven anaSubcolRight\"><div class=\"anaPositive\">(+250.00%)</div></div><div class=\"anaIndex anaOdd\"><a href=\"https://anvilproject.org/data/studies/phs001584/workspaces\">/data/studies/phs001584/workspaces</a></div><div class=\"anaCell anaOdd anaSubcolLeft\"><div class=\"new\"></div></div><div class=\"anaCell anaOdd\">7</div><div class=\"anaCell anaOdd anaSubcolRight\"></div><div class=\"anaIndex anaEven\"><a href=\"https://anvilproject.org/data/consortia/eMERGE\">/data/consortia/eMERGE</a></div><div class=\"anaCell anaEven anaSubcolLeft\"></div><div class=\"anaCell anaEven\">5</div><div class=\"anaCell anaEven anaSubcolRight\"><div class=\"anaPositive\">(+400.00%)</div></div><div class=\"anaIndex anaOdd\"><a href=\"https://anvilproject.org/data/consortia/CSER\">/data/consortia/CSER</a></div><div class=\"anaCell anaOdd anaSubcolLeft\"><div class=\"new\"></div></div><div class=\"anaCell anaOdd\">4</div><div class=\"anaCell anaOdd anaSubcolRight\"></div><div class=\"anaIndex anaEven\"><a href=\"https://anvilproject.org/data/consortia/Convergent%20Neuroscience\">/data/consortia/Convergent%20Neuroscience</a></div><div class=\"anaCell anaEven anaSubcolLeft\"><div class=\"new\"></div></div><div class=\"anaCell anaEven\">4</div><div class=\"anaCell anaEven anaSubcolRight\"></div><div class=\"anaIndex anaOdd\"><a href=\"https://anvilproject.org/data/studies/phs000424\">/data/studies/phs000424</a></div><div class=\"anaCell anaOdd anaSubcolLeft\"><div class=\"down\"></div></div><div class=\"anaCell anaOdd\">4</div><div class=\"anaCell anaOdd anaSubcolRight\"><div class=\"anaPositive\">(+300.00%)</div></div><div class=\"anaIndex anaEven\"><a href=\"https://anvilproject.org/data/studies/phs000744\">/data/studies/phs000744</a></div><div class=\"anaCell anaEven anaSubcolLeft\"><div class=\"new\"></div></div><div class=\"anaCell anaEven\">4</div><div class=\"anaCell anaEven anaSubcolRight\"></div><div class=\"anaIndex anaOdd\"><a href=\"https://anvilproject.org/data/studies/phs001741\">/data/studies/phs001741</a></div><div class=\"anaCell anaOdd anaSubcolLeft\"><div class=\"new\"></div></div><div class=\"anaCell anaOdd\">4</div><div class=\"anaCell anaOdd anaSubcolRight\"></div><div class=\"anaIndex anaEven\"><a href=\"https://anvilproject.org/data/workspaces\">/data/workspaces</a></div><div class=\"anaCell anaEven anaSubcolLeft\"><div class=\"down\"></div></div><div class=\"anaCell anaEven\">4</div><div class=\"anaCell anaEven anaSubcolRight\"><div class=\"anaPositive\">(+100.00%)</div></div><div class=\"anaIndex anaOdd\"><a href=\"https://anvilproject.org/data/studies/phs001746\">/data/studies/phs001746</a></div><div class=\"anaCell anaOdd anaSubcolLeft\"><div class=\"new\"></div></div><div class=\"anaCell anaOdd\">3</div><div class=\"anaCell anaOdd anaSubcolRight\"></div><div class=\"anaIndex anaEven\"><a href=\"https://anvilproject.org/data/consortia/PAGE\">/data/consortia/PAGE</a></div><div class=\"anaCell anaEven anaSubcolLeft\"><div class=\"new\"></div></div><div class=\"anaCell anaEven\">2</div><div class=\"anaCell anaEven anaSubcolRight\"></div><div class=\"anaIndex anaOdd\"><a href=\"https://anvilproject.org/data/studies/phs000971\">/data/studies/phs000971</a></div><div class=\"anaCell anaOdd anaSubcolLeft\"><div class=\"new\"></div></div><div class=\"anaCell anaOdd\">2</div><div class=\"anaCell anaOdd anaSubcolRight\"></div><div class=\"anaIndex anaEven\"><a href=\"https://anvilproject.org/data/studies/phs000693\">/data/studies/phs000693</a></div><div class=\"anaCell anaEven anaSubcolLeft\"><div class=\"down\"></div></div><div class=\"anaCell anaEven\">2</div><div class=\"anaCell anaEven anaSubcolRight\"><div class=\"anaPositive\">(+100.00%)</div></div><div class=\"anaIndex anaOdd\"><a href=\"https://anvilproject.org/data/consortia/CARD\">/data/consortia/CARD</a></div><div class=\"anaCell anaOdd anaSubcolLeft\"><div class=\"new\"></div></div><div class=\"anaCell anaOdd\">2</div><div class=\"anaCell anaOdd anaSubcolRight\"></div><div class=\"anaIndex anaEven\"><a href=\"https://anvilproject.org/data/consortia/GTEx/workspaces\">/data/consortia/GTEx/workspaces</a></div><div class=\"anaCell anaEven anaSubcolLeft\"><div class=\"new\"></div></div><div class=\"anaCell anaEven\">2</div><div class=\"anaCell anaEven anaSubcolRight\"></div><div class=\"anaIndex anaOdd\"><a href=\"https://anvilproject.org/data/consortia/CCDG/studies\">/data/consortia/CCDG/studies</a></div><div class=\"anaCell anaOdd anaSubcolLeft\"><div class=\"new\"></div></div><div class=\"anaCell anaOdd\">2</div><div class=\"anaCell anaOdd anaSubcolRight\"></div><div class=\"anaIndex anaEven\"><a href=\"https://anvilproject.org/data/studies/phs001211\">/data/studies/phs001211</a></div><div class=\"anaCell anaEven anaSubcolLeft\"><div class=\"new\"></div></div><div class=\"anaCell anaEven\">1</div><div class=\"anaCell anaEven anaSubcolRight\"></div><div class=\"anaIndex anaOdd\"><a href=\"https://anvilproject.org/data/studies/phs002502\">/data/studies/phs002502</a></div><div class=\"anaCell anaOdd anaSubcolLeft\"><div class=\"new\"></div></div><div class=\"anaCell anaOdd\">1</div><div class=\"anaCell anaOdd anaSubcolRight\"></div></div>"
      ],
      "text/plain": [
       "<IPython.core.display.HTML object>"
      ]
     },
     "metadata": {},
     "output_type": "display_data"
    }
   ],
   "source": [
    "ac.show_difference_table(\"Entrances\", \"Page\", \"sessions\", \"landingPage\", **default_params_catalog)"
   ]
  },
  {
   "cell_type": "markdown",
   "id": "ae2a4531",
   "metadata": {},
   "source": [
    "<div style=\"page-break-after: always\"></div>"
   ]
  },
  {
   "attachments": {},
   "cell_type": "markdown",
   "id": "6ce3b066",
   "metadata": {},
   "source": [
    "## Outbound Links to Terra"
   ]
  },
  {
   "attachments": {},
   "cell_type": "markdown",
   "id": "defa1952",
   "metadata": {
    "tags": [
     "remove-cell"
    ]
   },
   "source": [
    "### Terra Login"
   ]
  },
  {
   "cell_type": "code",
   "execution_count": 16,
   "id": "380182bd",
   "metadata": {
    "tags": [
     "remove-input"
    ]
   },
   "outputs": [
    {
     "data": {
      "text/html": [
       "<div class=\"analyticsTable\" style=\"grid-template-columns: 1fr var(--symbol-width) minmax(var(--value-width), min-content) minmax(var(--percentage-width), min-content)\"><div class=\"anaIndex anaEven\">https://anvil.terra.bio/</div><div class=\"anaCell anaEven anaSubcolLeft\"></div><div class=\"anaCell anaEven\">244</div><div class=\"anaCell anaEven anaSubcolRight\"><div class=\"anaPositive\">(+2950.00%)</div></div></div>"
      ],
      "text/plain": [
       "<IPython.core.display.HTML object>"
      ]
     },
     "metadata": {},
     "output_type": "display_data"
    }
   ],
   "source": [
    "ac.show_difference_table(\"Count\", \"URL\", \"eventCount\", \"linkUrl\", dimension_filter=\"linkUrl=~^https://anvil.terra.bio/(?:\\\\#workspaces)?$\", **default_params_catalog)\n",
    "# NOTE: this will actually include terra workspace links, since the fragment isn't reported, so the heading above is hidden"
   ]
  },
  {
   "cell_type": "markdown",
   "id": "7e6d9407",
   "metadata": {
    "tags": [
     "remove-cell"
    ]
   },
   "source": [
    "### Terra Workspaces\n",
    "The following Terra workspaces were navigated to from the AnVIL portal."
   ]
  },
  {
   "cell_type": "code",
   "execution_count": 24,
   "id": "2d472b3d",
   "metadata": {
    "tags": [
     "remove-cell"
    ]
   },
   "outputs": [],
   "source": [
    "# ac.show_difference_table(\"Count\", \"Workspace\", \"ga:hits\", \"ga:eventLabel\", filters=\"ga:eventCategory==External Link;ga:dimension1==Workspace\", **default_params)\n",
    "# TODO"
   ]
  },
  {
   "cell_type": "markdown",
   "id": "0592b63a",
   "metadata": {},
   "source": [
    "<div style=\"page-break-after: always\"></div>"
   ]
  },
  {
   "cell_type": "markdown",
   "id": "ad319d17",
   "metadata": {},
   "source": [
    "## Outbound Links to dbGap\n",
    "### Top Studies"
   ]
  },
  {
   "cell_type": "code",
   "execution_count": 17,
   "id": "74ef9fa4",
   "metadata": {
    "tags": [
     "remove-input"
    ]
   },
   "outputs": [
    {
     "data": {
      "text/html": [
       "<div class=\"analyticsTable\" style=\"grid-template-columns: 1fr var(--symbol-width) minmax(var(--value-width), min-content) minmax(var(--percentage-width), min-content)\"><div class=\"anaIndex anaColName\">URL</div><div class=\"anaColName\" style=\"grid-column: span 3\">Count</div><div class=\"anaIndex anaEven\">https://www.ncbi.nlm.nih.gov/projects/gap/cgi-bin/study.cgi?study_id=phs000711.v7.p2</div><div class=\"anaCell anaEven anaSubcolLeft\"><div class=\"new\"></div></div><div class=\"anaCell anaEven\">2</div><div class=\"anaCell anaEven anaSubcolRight\"></div><div class=\"anaIndex anaOdd\">https://www.ncbi.nlm.nih.gov/projects/gap/cgi-bin/study.cgi?study_id=phs001642.v1.p1</div><div class=\"anaCell anaOdd anaSubcolLeft\"><div class=\"new\"></div></div><div class=\"anaCell anaOdd\">2</div><div class=\"anaCell anaOdd anaSubcolRight\"></div><div class=\"anaIndex anaEven\">https://www.ncbi.nlm.nih.gov/projects/gap/cgi-bin/study.cgi?study_id=phs002206.v2.p1</div><div class=\"anaCell anaEven anaSubcolLeft\"><div class=\"new\"></div></div><div class=\"anaCell anaEven\">2</div><div class=\"anaCell anaEven anaSubcolRight\"></div><div class=\"anaIndex anaOdd\">https://www.ncbi.nlm.nih.gov/projects/gap/cgi-bin/study.cgi?study_id=phs000356</div><div class=\"anaCell anaOdd anaSubcolLeft\"><div class=\"new\"></div></div><div class=\"anaCell anaOdd\">1</div><div class=\"anaCell anaOdd anaSubcolRight\"></div><div class=\"anaIndex anaEven\">https://www.ncbi.nlm.nih.gov/projects/gap/cgi-bin/study.cgi?study_id=phs000971.v3.p1</div><div class=\"anaCell anaEven anaSubcolLeft\"><div class=\"new\"></div></div><div class=\"anaCell anaEven\">1</div><div class=\"anaCell anaEven anaSubcolRight\"></div><div class=\"anaIndex anaOdd\">https://www.ncbi.nlm.nih.gov/projects/gap/cgi-bin/study.cgi?study_id=phs001227.v1.p1</div><div class=\"anaCell anaOdd anaSubcolLeft\"><div class=\"new\"></div></div><div class=\"anaCell anaOdd\">1</div><div class=\"anaCell anaOdd anaSubcolRight\"></div><div class=\"anaIndex anaEven\">https://www.ncbi.nlm.nih.gov/projects/gap/cgi-bin/study.cgi?study_id=phs001398.v1.p1</div><div class=\"anaCell anaEven anaSubcolLeft\"><div class=\"new\"></div></div><div class=\"anaCell anaEven\">1</div><div class=\"anaCell anaEven anaSubcolRight\"></div><div class=\"anaIndex anaOdd\">https://www.ncbi.nlm.nih.gov/projects/gap/cgi-bin/study.cgi?study_id=phs001489.v2.p2</div><div class=\"anaCell anaOdd anaSubcolLeft\"><div class=\"new\"></div></div><div class=\"anaCell anaOdd\">1</div><div class=\"anaCell anaOdd anaSubcolRight\"></div><div class=\"anaIndex anaEven\">https://www.ncbi.nlm.nih.gov/projects/gap/cgi-bin/study.cgi?study_id=phs001676.v1.p1</div><div class=\"anaCell anaEven anaSubcolLeft\"><div class=\"new\"></div></div><div class=\"anaCell anaEven\">1</div><div class=\"anaCell anaEven anaSubcolRight\"></div><div class=\"anaIndex anaOdd\">https://www.ncbi.nlm.nih.gov/projects/gap/cgi-bin/study.cgi?study_id=phs001880.v1.p1</div><div class=\"anaCell anaOdd anaSubcolLeft\"><div class=\"new\"></div></div><div class=\"anaCell anaOdd\">1</div><div class=\"anaCell anaOdd anaSubcolRight\"></div><div class=\"anaIndex anaEven\">https://www.ncbi.nlm.nih.gov/projects/gap/cgi-bin/study.cgi?study_id=phs001913.v1.p1</div><div class=\"anaCell anaEven anaSubcolLeft\"><div class=\"new\"></div></div><div class=\"anaCell anaEven\">1</div><div class=\"anaCell anaEven anaSubcolRight\"></div><div class=\"anaIndex anaOdd\">https://www.ncbi.nlm.nih.gov/projects/gap/cgi-bin/study.cgi?study_id=phs002032.v1.p1</div><div class=\"anaCell anaOdd anaSubcolLeft\"><div class=\"new\"></div></div><div class=\"anaCell anaOdd\">1</div><div class=\"anaCell anaOdd anaSubcolRight\"></div><div class=\"anaIndex anaEven\">https://www.ncbi.nlm.nih.gov/projects/gap/cgi-bin/study.cgi?study_id=phs002042.v1.p1</div><div class=\"anaCell anaEven anaSubcolLeft\"><div class=\"new\"></div></div><div class=\"anaCell anaEven\">1</div><div class=\"anaCell anaEven anaSubcolRight\"></div><div class=\"anaIndex anaOdd\">https://www.ncbi.nlm.nih.gov/projects/gap/cgi-bin/study.cgi?study_id=phs002043.v1.p1</div><div class=\"anaCell anaOdd anaSubcolLeft\"><div class=\"new\"></div></div><div class=\"anaCell anaOdd\">1</div><div class=\"anaCell anaOdd anaSubcolRight\"></div><div class=\"anaIndex anaEven\">https://www.ncbi.nlm.nih.gov/projects/gap/cgi-bin/study.cgi?study_id=phs002502.v1.p1</div><div class=\"anaCell anaEven anaSubcolLeft\"><div class=\"new\"></div></div><div class=\"anaCell anaEven\">1</div><div class=\"anaCell anaEven anaSubcolRight\"></div></div>"
      ],
      "text/plain": [
       "<IPython.core.display.HTML object>"
      ]
     },
     "metadata": {},
     "output_type": "display_data"
    }
   ],
   "source": [
    "ac.show_difference_table(\"Count\", \"URL\", \"eventCount\", \"linkUrl\", dimension_filter=\"linkUrl=~^https://www\\\\.ncbi\\\\.nlm\\\\.nih\\\\.gov/projects/gap/cgi-bin/study\\\\.cgi\\\\?study_id=\", **default_params_catalog)"
   ]
  },
  {
   "cell_type": "markdown",
   "id": "6d12a5fb",
   "metadata": {
    "tags": []
   },
   "source": [
    "## Outbound Links to Gen3\n",
    "### Links to Gen3 Data Browser"
   ]
  },
  {
   "cell_type": "code",
   "execution_count": 18,
   "id": "231ccf7b",
   "metadata": {
    "tags": [
     "remove-input"
    ]
   },
   "outputs": [
    {
     "data": {
      "text/html": [
       "<div class=\"analyticsTable\" style=\"grid-template-columns: 1fr var(--symbol-width) minmax(var(--value-width), min-content) minmax(var(--percentage-width), min-content)\"><div class=\"anaIndex anaColName\">URL</div><div class=\"anaColName\" style=\"grid-column: span 3\">Count</div></div>"
      ],
      "text/plain": [
       "<IPython.core.display.HTML object>"
      ]
     },
     "metadata": {},
     "output_type": "display_data"
    }
   ],
   "source": [
    "ac.show_difference_table(\"Count\", \"URL\", \"eventCount\", \"linkUrl\", dimension_filter=\"linkUrl=~^https://gen3\\\\.theanvil\\\\.io(?:/.*)?\", **default_params_catalog)"
   ]
  },
  {
   "cell_type": "markdown",
   "id": "3bc4f689",
   "metadata": {
    "tags": [
     "remove-cell"
    ]
   },
   "source": [
    "## Outbound Links to Tools"
   ]
  },
  {
   "cell_type": "code",
   "execution_count": 27,
   "id": "2f97a86e",
   "metadata": {
    "tags": [
     "remove-cell"
    ]
   },
   "outputs": [],
   "source": [
    "# ac.show_difference_table(\"Count\", \"Tool\", \"ga:hits\", \"ga:eventLabel\", filters=\"ga:eventCategory==External Link;ga:dimension1==Tool\", **default_params)\n",
    "# TODO"
   ]
  },
  {
   "cell_type": "markdown",
   "id": "8e77bb04",
   "metadata": {
    "tags": [
     "remove-cell"
    ]
   },
   "source": [
    "## Outbound Links to General Resources (NIH/NHGRI)"
   ]
  },
  {
   "cell_type": "code",
   "execution_count": 28,
   "id": "4856582d",
   "metadata": {
    "tags": [
     "remove-cell"
    ]
   },
   "outputs": [],
   "source": [
    "# ac.show_difference_table(\"Count\", [\"NIH/NHGRI\", \"URL\"], \"ga:hits\", [\"ga:dimension2\", \"ga:dimension3\"], filters=\"ga:eventCategory==External Link;ga:dimension1==Reference;ga:dimension2=~NIH|NHGRI\", **default_params)\n",
    "# TODO"
   ]
  },
  {
   "cell_type": "markdown",
   "id": "f864a416",
   "metadata": {
    "tags": [
     "remove-cell"
    ]
   },
   "source": [
    "## Outbound Links to Data Consortia"
   ]
  },
  {
   "cell_type": "code",
   "execution_count": 29,
   "id": "3b411d93",
   "metadata": {
    "tags": [
     "remove-cell"
    ]
   },
   "outputs": [],
   "source": [
    "# ac.show_difference_table(\"Count\", \"Consortia\", \"ga:hits\", \"ga:eventLabel\", filters=\"ga:eventCategory==External Link;ga:dimension1==Data Consortium\", **default_params)\n",
    "# TODO"
   ]
  },
  {
   "attachments": {},
   "cell_type": "markdown",
   "id": "f5967224",
   "metadata": {
    "tags": [
     "remove-cell"
    ]
   },
   "source": [
    "## Data Dashboard\n",
    "### Top Facet Terms"
   ]
  },
  {
   "cell_type": "code",
   "execution_count": 30,
   "id": "c822280d",
   "metadata": {
    "tags": [
     "remove-cell"
    ]
   },
   "outputs": [],
   "source": [
    "# ac.show_difference_table(\"Count\", [\"Term Name\", \"Facet\"], \"ga:hits\", [\"ga:eventLabel\", \"ga:dimension5\"], filters=\"ga:eventCategory==Search;ga:eventAction==Select\", **default_params)\n",
    "# TODO"
   ]
  },
  {
   "cell_type": "markdown",
   "id": "cce1253e",
   "metadata": {
    "tags": [
     "remove-cell"
    ]
   },
   "source": [
    "### Top Text Searches"
   ]
  },
  {
   "cell_type": "code",
   "execution_count": 31,
   "id": "a6d6523d",
   "metadata": {
    "tags": [
     "remove-input",
     "remove-cell"
    ]
   },
   "outputs": [],
   "source": [
    "# ac.show_difference_table(\"Count\", \"Text Input\", \"ga:hits\", \"ga:eventLabel\", filters=\"ga:eventCategory==Search;ga:eventAction==Enter Text;ga:eventLabel=~.{3\\\\,}\", **default_params)\n",
    "# TODO"
   ]
  },
  {
   "cell_type": "markdown",
   "id": "50658332",
   "metadata": {
    "tags": [
     "remove-cell"
    ]
   },
   "source": [
    "## Site Search\n",
    "### Top Text Searches"
   ]
  },
  {
   "cell_type": "code",
   "execution_count": 32,
   "id": "08375d58",
   "metadata": {
    "tags": [
     "remove-input",
     "remove-cell"
    ]
   },
   "outputs": [],
   "source": [
    "# ac.show_difference_table(\"Count\", \"Text Input\", \"ga:hits\", \"ga:eventLabel\", filters=\"ga:eventCategory==Site Search;ga:eventAction==Search;ga:eventLabel=~.{3\\\\,}\", **default_params)\n",
    "# TODO"
   ]
  },
  {
   "cell_type": "markdown",
   "id": "3a767848",
   "metadata": {
    "tags": [
     "remove-cell"
    ]
   },
   "source": [
    "### Top Search Click Throughs"
   ]
  },
  {
   "cell_type": "code",
   "execution_count": 33,
   "id": "dc60bbdd",
   "metadata": {
    "tags": [
     "remove-input",
     "remove-cell"
    ]
   },
   "outputs": [],
   "source": [
    "# ac.show_difference_table(\"Count\", \"Clicked Search Result\", \"ga:hits\", \"ga:eventLabel\", filters=\"ga:eventCategory==Site Search;ga:eventAction==Select Search Result\", **default_params)\n",
    "# TODO"
   ]
  }
 ],
 "metadata": {
  "celltoolbar": "Tags",
  "kernelspec": {
   "display_name": "venv",
   "language": "python",
   "name": "python3"
  },
  "language_info": {
   "codemirror_mode": {
    "name": "ipython",
    "version": 3
   },
   "file_extension": ".py",
   "mimetype": "text/x-python",
   "name": "python",
   "nbconvert_exporter": "python",
   "pygments_lexer": "ipython3",
   "version": "3.9.7"
  }
 },
 "nbformat": 4,
 "nbformat_minor": 5
}
