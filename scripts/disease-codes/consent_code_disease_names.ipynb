{
  "cells": [
    {
      "cell_type": "code",
      "execution_count": 1,
      "metadata": {
        "colab": {
          "base_uri": "https://localhost:8080/",
          "height": 347
        },
        "id": "tjtdOEm9rvsq",
        "outputId": "b59fbed0-097c-4918-acfc-12462050f8ee"
      },
      "outputs": [],
      "source": [
        "import diseasecodes\n",
        "\n",
        "diseasecodes.extract_names(\"consent_abbrev_mapping.tsv\", \"disease_abbrev_mapping.tsv\")"
      ]
    }
  ],
  "metadata": {
    "colab": {
      "provenance": []
    },
    "kernelspec": {
      "display_name": "anvil-disease-codes",
      "language": "python",
      "name": "anvil-disease-codes"
    },
    "language_info": {
      "codemirror_mode": {
        "name": "ipython",
        "version": 3
      },
      "file_extension": ".py",
      "mimetype": "text/x-python",
      "name": "python",
      "nbconvert_exporter": "python",
      "pygments_lexer": "ipython3",
      "version": "3.9.7"
    },
    "vscode": {
      "interpreter": {
        "hash": "34280938c286857faed6b1487cb26014ec472ef6c0efc00739c4ec2faf1b3d32"
      }
    }
  },
  "nbformat": 4,
  "nbformat_minor": 0
}
