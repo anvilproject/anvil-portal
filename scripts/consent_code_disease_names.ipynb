{
  "cells": [
    {
      "cell_type": "code",
      "execution_count": 1,
      "metadata": {
        "colab": {
          "base_uri": "https://localhost:8080/",
          "height": 347
        },
        "id": "tjtdOEm9rvsq",
        "outputId": "b59fbed0-097c-4918-acfc-12462050f8ee"
      },
      "outputs": [],
      "source": [
        "import diseasecodes\n",
        "\n",
        "diseasecodes.extract_names(\"consent_abbrev_mapping.tsv\", \"out/disease_abbrev_mapping.tsv\")"
      ]
    }
  ],
  "metadata": {
    "colab": {
      "provenance": []
    },
    "kernelspec": {
      "display_name": "venv",
      "language": "python",
      "name": "python3"
    },
    "language_info": {
      "codemirror_mode": {
        "name": "ipython",
        "version": 3
      },
      "file_extension": ".py",
      "mimetype": "text/x-python",
      "name": "python",
      "nbconvert_exporter": "python",
      "pygments_lexer": "ipython3",
      "version": "3.9.7"
    },
    "vscode": {
      "interpreter": {
        "hash": "380c12f02cfcbff51d1757c6fc895b75ee0585d92429a9c7786f5c872a21ce2a"
      }
    }
  },
  "nbformat": 4,
  "nbformat_minor": 0
}
